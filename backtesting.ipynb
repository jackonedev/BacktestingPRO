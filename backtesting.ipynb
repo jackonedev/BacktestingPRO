{
 "cells": [
  {
   "attachments": {},
   "cell_type": "markdown",
   "metadata": {},
   "source": [
    "# 1) OBTENER LA SERIE DE PRECIOS PARA ACTIVOS EN DIVERSAS TEMPORALIDADES\n",
    "\n",
    "### Exchange: BingX\n"
   ]
  },
  {
   "cell_type": "code",
   "execution_count": 9,
   "metadata": {},
   "outputs": [],
   "source": [
    "from backtesting.fechas import past_timestamp, retrasar_tres_horas\n",
    "from backtesting.data import response_to_dataframe\n",
    "from backtesting.ficheros import crear_directorio\n",
    "from concurrent import futures\n",
    "import requests, datetime, pickle\n",
    "import locale, os\n",
    "from backtesting.indicadores import squeeze_momentum_indicator\n",
    "from scipy.stats import pearsonr\n",
    "import pandas as pd\n",
    "\n",
    "\n",
    "locale.setlocale(locale.LC_ALL, 'es_ES');"
   ]
  },
  {
   "cell_type": "code",
   "execution_count": 10,
   "metadata": {},
   "outputs": [],
   "source": [
    "# SE UTILIZA EN EL THREAD POOL\n",
    "def apply_requests(args):\n",
    "    service, params = args\n",
    "    response = requests.get(service, params=params)\n",
    "    return response\n",
    "\n",
    "# SE UTILIZA EN THREAD POOL\n",
    "def apply_squeeze_momentum_indicator(ARGS):\n",
    "    data, parametros = ARGS\n",
    "    activos = list(data.keys())\n",
    "    temporalidades = list(data[activos[0]].keys())\n",
    "\n",
    "    SMI = {}\n",
    "    for activo in activos:\n",
    "        SMI[activo] = {}\n",
    "        for t in temporalidades:\n",
    "            df = data[activo][t].iloc[:]\n",
    "            df = squeeze_momentum_indicator(df, **parametros)\n",
    "            SMI[activo][t] = df.dropna()\n",
    "    return SMI\n",
    "\n",
    "# DECORADOR\n",
    "def styler(func):\n",
    "    def wrapper(*args, **kwargs):\n",
    "        df = func(*args, **kwargs)\n",
    "        # formato para la impresion con estilo\n",
    "        keys= list(df.columns)\n",
    "        values = ['{:.2f}' for i in range(len(keys))]\n",
    "        format_dict = dict(zip(keys, values))\n",
    "        return df.style.format(format_dict).background_gradient(cmap='PRGn')\n",
    "    return wrapper\n",
    "\n",
    "# SE UTILIZA PARA VISUALIZAR LOS DATOS DEL OBJETO correlaciones\n",
    "@styler\n",
    "def get_correlation(data, activo):\n",
    "    # Filter the data dictionary based on the activo\n",
    "    filtered_data = {\n",
    "        key: values[activo.upper()]\n",
    "        for key, values in data.items()\n",
    "    }\n",
    "    # Create the DataFrame\n",
    "    df = pd.DataFrame(filtered_data)\n",
    "    df.columns.name = 'correlacion {}'.format(activo)\n",
    "    return df\n"
   ]
  },
  {
   "cell_type": "code",
   "execution_count": 14,
   "metadata": {},
   "outputs": [],
   "source": [
    "## SELECCION: ACTIVOS PARA DESCARGAR\n",
    "activos = ['BTC', 'LTC', 'XRP', 'NEO']\n",
    "activos = ['BTC', 'XRP', 'APE']\n",
    "activos = ['ETH', 'LINK', 'BNB', 'NEO']\n",
    "\n",
    "## SELECCION: TEMPORALIDADES PARA DESCARGAR\n",
    "data_long_term = True\n",
    "data_intermediate_term = True\n",
    "data_short_term = False\n",
    "\n",
    "## VARIABLES DE ENTORNO\n",
    "URL = 'https://open-api.bingx.com'\n",
    "path = '/openApi/swap/v2/quote/klines'\n",
    "service = URL + path\n",
    "limit = 1000\n",
    "now = datetime.datetime.now()\n",
    "endTime = int(datetime.datetime.timestamp(datetime.datetime.now()) * 1000)\n",
    "fecha = now.strftime('%d_%B_%Y')\n",
    "\n",
    "## CREACION DE DIRECTORIO\n",
    "dir_path = os.path.join('data', fecha)\n",
    "if crear_directorio(dir_path):\n",
    "    contador = '1'\n",
    "else:\n",
    "    # obtener una lista con los ficheros de dir_path\n",
    "    ficheros = os.listdir(dir_path)\n",
    "    # con list comprehension hacer split a cada lista y quedarse con el primer elemento\n",
    "    lista_indices = [int(f.split('_')[0]) for f in ficheros]\n",
    "    if len(lista_indices) == 0:\n",
    "        contador = '1'\n",
    "    else:\n",
    "        # ordenar la lista y crear el contador con el ultimo elemento + 1\n",
    "        lista_indices.sort()\n",
    "        contador = str(lista_indices[-1] + 1)\n",
    "\n",
    "\n",
    "\n",
    "\n",
    "## PROGRAMA PRINCIPAL\n",
    "## 1) SELECCION DE LA VENTANA DE TIEMPO A DESCARGAR\n",
    "temporalidades = []\n",
    "start_time = []\n",
    "if data_long_term:\n",
    "    temporalidades.append('1d')\n",
    "    start_time.append(int(past_timestamp(555, 'days', now)))\n",
    "if data_intermediate_term:\n",
    "    temporalidades.append('4h')\n",
    "    start_time.append(int(past_timestamp(76, 'days', now)))\n",
    "    temporalidades.append('2h')\n",
    "    start_time.append(int(past_timestamp(50, 'days', now)))\n",
    "    temporalidades.append('1h')\n",
    "    start_time.append(int(past_timestamp(25, 'days', now)))\n",
    "if data_short_term:\n",
    "    temporalidades.append('30m')\n",
    "    start_time.append(int(past_timestamp(14, 'days', now)))\n",
    "    temporalidades.append('15m')\n",
    "    start_time.append(int(past_timestamp(7, 'days', now)))\n",
    "    temporalidades.append('5m')\n",
    "    start_time.append(int(past_timestamp(2, 'days', now)))\n",
    "    temporalidades.append('3m')\n",
    "    start_time.append(int(past_timestamp(32, 'hour', now)))\n",
    "    temporalidades.append('1m')\n",
    "    start_time.append(int(past_timestamp(12, 'hour', now)))\n",
    "\n",
    "## 2) ESTRUCTURACION DE LOS PARAMETROS\n",
    "ARGS = []\n",
    "for activo in activos:\n",
    "    symbol = activo+'-USDT'\n",
    "    for i in range(len(temporalidades)):\n",
    "        ARGS.append(\n",
    "            (\n",
    "                service, \n",
    "                {\n",
    "                    'symbol':symbol, \n",
    "                    'interval':temporalidades[i],\n",
    "                    'limit':limit,\n",
    "                    'startTime':start_time[i],\n",
    "                    'endTime':endTime\n",
    "                }\n",
    "            )\n",
    "        )\n",
    "\n",
    "## 3) THREAD POOL: requests.get\n",
    "with futures.ThreadPoolExecutor(max_workers=None) as pool:\n",
    "    response = list(pool.map(apply_requests, ARGS))\n",
    "\n",
    "## 4) ESTRUCTURACION Y AJUSTE DE LOS DATOS\n",
    "df = [r.json() for r in response]\n",
    "df = [response_to_dataframe(r) for r in df]\n",
    "\n",
    "for i in range(len(df)):\n",
    "    df[i]['time'] = df[i]['time'].apply(retrasar_tres_horas)\n",
    "    df[i] = df[i].set_index('time')\n",
    "\n",
    "# 5) CREANDO OBJETO DE TRABAJO Y EXPORTACION\n",
    "assets_dict = {}\n",
    "for i, activo in enumerate(activos):\n",
    "    assets_dict[activo] = {}\n",
    "    for j, t in enumerate(temporalidades):\n",
    "        assets_dict[activo][t] = df[i*len(temporalidades)+j]\n",
    "\n",
    "# 6) EXPORTACION DE data_raw\n",
    "file_name = f'{contador}_' + '_'.join(activos+temporalidades)\n",
    "file_dir = os.path.join(dir_path, file_name)\n",
    "with open(f'{file_dir}.pickle', 'wb') as f:\n",
    "    pickle.dump(assets_dict, f, pickle.HIGHEST_PROTOCOL)\n",
    "\n",
    "\n",
    "# 7) GENERANDO MULTIPLES PARAMETROS DE ENTRADA\n",
    "data = assets_dict\n",
    "parametros = {'length': 20, 'mult': 2, 'length_KC': 20, 'mult_KC': 1.5, 'length_atr': 10, 'use_EMA': True}\n",
    "length_options = [9,12,14,18,20,22,30,40,50,60,70,80,90]\n",
    "\n",
    "lista_diccionarios = []\n",
    "for length in length_options:\n",
    "    nuevo_parametro = parametros.copy()\n",
    "    nuevo_parametro['length'] = length\n",
    "    nuevo_parametro['length_KC'] = length\n",
    "    lista_diccionarios.append(nuevo_parametro)\n",
    "\n",
    "ARGS = [(data, d) for d in lista_diccionarios]\n",
    "\n",
    "# 8) THREAD POOL: squeeze_momentum_indicator\n",
    "data_SQ = {}\n",
    "with futures.ThreadPoolExecutor(max_workers=None) as pool:\n",
    "    results = list(pool.map(apply_squeeze_momentum_indicator, ARGS))\n",
    "    for i, length in enumerate(length_options):\n",
    "        data_SQ[length] = results[i]\n",
    "\n",
    "# 9) EXPORTACION DE data_SQ\n",
    "file_name = f'{contador}_' + '_'.join(activos+temporalidades)\n",
    "file_name += '_SQ'\n",
    "file_dir = os.path.join(dir_path, file_name)\n",
    "with open(f'{file_dir}.pickle', 'wb') as f:\n",
    "    pickle.dump(data_SQ, f, pickle.HIGHEST_PROTOCOL)"
   ]
  },
  {
   "cell_type": "code",
   "execution_count": 15,
   "metadata": {},
   "outputs": [],
   "source": [
    "# PARTE 2\n",
    "# 10) CREACION DEL OBJETO time_window\n",
    "\n",
    "now = datetime.datetime.now()\n",
    "time_window = {\n",
    "    '1d': {50: now-datetime.timedelta(days=286), 40: now-datetime.timedelta(days=286),\n",
    "    30: now-datetime.timedelta(days=120), 22: now-datetime.timedelta(days=120),\n",
    "    20: now-datetime.timedelta(days=120), 18: now-datetime.timedelta(days=120),\n",
    "    14: now-datetime.timedelta(days=77), 12: now-datetime.timedelta(days=40),\n",
    "    9: now-datetime.timedelta(days=40)},\n",
    "    '4h': {50: now-datetime.timedelta(days=50), 40: now-datetime.timedelta(days=50),\n",
    "    30: now-datetime.timedelta(days=25), 22: now-datetime.timedelta(days=25),\n",
    "    20: now-datetime.timedelta(days=25), 18: now-datetime.timedelta(days=25),\n",
    "    14: now-datetime.timedelta(days=12), 12: now-datetime.timedelta(days=7),\n",
    "    9: now-datetime.timedelta(days=7)},\n",
    "    '2h': {50: now-datetime.timedelta(days=22), 40: now-datetime.timedelta(days=22),\n",
    "    30: now-datetime.timedelta(days=14), 22: now-datetime.timedelta(days=14),\n",
    "    20: now-datetime.timedelta(days=14), 18: now-datetime.timedelta(days=14),\n",
    "    14: now-datetime.timedelta(days=7), 12: now-datetime.timedelta(days=4),\n",
    "    9: now-datetime.timedelta(days=4)},\n",
    "    '1h': {50: now-datetime.timedelta(days=9), 40: now-datetime.timedelta(days=9),\n",
    "    30: now-datetime.timedelta(days=4), 22: now-datetime.timedelta(days=4),\n",
    "    20: now-datetime.timedelta(days=4), 18: now-datetime.timedelta(days=4),\n",
    "    14: now-datetime.timedelta(days=3), 12: now-datetime.timedelta(days=1),\n",
    "    9: now-datetime.timedelta(days=1)},\n",
    "    '30m': {50: now-datetime.timedelta(days=4), 40: now-datetime.timedelta(days=4),\n",
    "    30: now-datetime.timedelta(days=2), 22: now-datetime.timedelta(days=2),\n",
    "    20: now-datetime.timedelta(days=2), 18: now-datetime.timedelta(days=2),\n",
    "    14: now-datetime.timedelta(days=1), 12: now-datetime.timedelta(hours=13),\n",
    "    9: now-datetime.timedelta(hours=13)},\n",
    "    '15m': {50: now-datetime.timedelta(days=2), 40: now-datetime.timedelta(days=2),\n",
    "    30: now-datetime.timedelta(days=1), 22: now-datetime.timedelta(days=1),\n",
    "    20: now-datetime.timedelta(days=1), 18: now-datetime.timedelta(days=1),\n",
    "    14: now-datetime.timedelta(hours=13), 12: now-datetime.timedelta(hours=10),\n",
    "    9: now-datetime.timedelta(hours=10)},\n",
    "    '5m': {50: now-datetime.timedelta(days=1), 40: now-datetime.timedelta(days=1),\n",
    "    30: now-datetime.timedelta(hours=13), 22: now-datetime.timedelta(hours=13),\n",
    "    20: now-datetime.timedelta(hours=13), 18: now-datetime.timedelta(hours=13),\n",
    "    14: now-datetime.timedelta(hours=7), 12: now-datetime.timedelta(hours=5),\n",
    "    9: now-datetime.timedelta(hours=5)},\n",
    "    '3m': {50: now-datetime.timedelta(hours=12), 40: now-datetime.timedelta(hours=12),\n",
    "    30: now-datetime.timedelta(hours=7), 22: now-datetime.timedelta(hours=7),\n",
    "    20: now-datetime.timedelta(hours=7), 18: now-datetime.timedelta(hours=7),\n",
    "    14: now-datetime.timedelta(hours=4), 12: now-datetime.timedelta(hours=3),\n",
    "    9: now-datetime.timedelta(hours=3)},\n",
    "    '1m': {50: now-datetime.timedelta(hours=4), 40: now-datetime.timedelta(hours=4),\n",
    "    30: now-datetime.timedelta(hours=3), 22: now-datetime.timedelta(hours=3),\n",
    "    20: now-datetime.timedelta(hours=3), 18: now-datetime.timedelta(hours=3),\n",
    "    14: now-datetime.timedelta(hours=2), 12: now-datetime.timedelta(hours=1),\n",
    "    9: now-datetime.timedelta(hours=1)}\n",
    "    }\n",
    "\n",
    "\n",
    "time_window = {\n",
    "    interval: {key: value.strftime(\"%Y-%m-%d %H:%M:%S\") for key, value in values.items()}\n",
    "    for interval, values in time_window.items()\n",
    "}\n",
    "\n",
    "\n",
    "# 11) EXPORTACION DE time_window\n",
    "file_name = f'{contador}_' + '_'.join(activos+temporalidades)\n",
    "file_name += '_TW'\n",
    "file_dir = os.path.join(dir_path, file_name)\n",
    "with open(f'{file_dir}.pickle', 'wb') as f:\n",
    "    pickle.dump(time_window, f, pickle.HIGHEST_PROTOCOL)"
   ]
  },
  {
   "cell_type": "code",
   "execution_count": 16,
   "metadata": {},
   "outputs": [],
   "source": [
    "# PARTE 3\n",
    "# 12) OBTENIENDO LAS COLAS DE LOS DATOS SEGUN time_windows\n",
    "# FILTRANDO LOS PERIODOS PARA CADA WINDOW\n",
    "filtered_dict = {}\n",
    "for param in data_SQ:\n",
    "    filtered_dict[param] = {}\n",
    "    for activo in data_SQ[param]:\n",
    "        filtered_dict[param][activo] = {}\n",
    "        for temporalidad in data_SQ[param][activo]:\n",
    "            if param not in time_window[temporalidad]:\n",
    "                filtered_dict[param][activo][temporalidad] = data_SQ[param][activo][temporalidad]\n",
    "            else:\n",
    "                filtered_dict[param][activo][temporalidad] = data_SQ[param][activo][temporalidad].loc[time_window[temporalidad][param]:]\n",
    "\n",
    "\n",
    "# 13) OBTENIENDO EL OBJETO CORRELACION CON LOS VALORES DE CORRELACION\n",
    "correlacion = {}\n",
    "for param in filtered_dict:\n",
    "\n",
    "    correlacion[param] = {}\n",
    "\n",
    "    for activo in filtered_dict[param]:\n",
    "        correlacion[param][activo] = {}\n",
    "\n",
    "        for temporalidad in filtered_dict[param][activo]:\n",
    "            df = filtered_dict[param][activo][temporalidad]\n",
    "            correlacion[param][activo][temporalidad] = {}\n",
    "            try:\n",
    "                correlacion[param][activo][temporalidad], _ = pearsonr(df['value'], df['close'])\n",
    "                correlacion[param][activo][temporalidad] = round(correlacion[param][activo][temporalidad], 2)\n",
    "            except:\n",
    "                print(f\"Temporalidad vacia {param} {activo} {temporalidad}\")\n",
    "                correlacion[param][activo][temporalidad] = -10\n",
    "\n",
    "# 14) EXPORTACION DE correlacion \n",
    "file_name = f'{contador}_' + '_'.join(activos+temporalidades)\n",
    "file_name += '_CORR'\n",
    "file_dir = os.path.join(dir_path, file_name)\n",
    "with open(f'{file_dir}.pickle', 'wb') as f:\n",
    "    pickle.dump(correlacion, f, pickle.HIGHEST_PROTOCOL)\n"
   ]
  },
  {
   "cell_type": "code",
   "execution_count": 18,
   "metadata": {},
   "outputs": [
    {
     "data": {
      "text/html": [
       "<style type=\"text/css\">\n",
       "#T_e2cf7_row0_col0 {\n",
       "  background-color: #e9d8ea;\n",
       "  color: #000000;\n",
       "}\n",
       "#T_e2cf7_row0_col1 {\n",
       "  background-color: #9160a2;\n",
       "  color: #f1f1f1;\n",
       "}\n",
       "#T_e2cf7_row0_col2, #T_e2cf7_row0_col3, #T_e2cf7_row0_col4, #T_e2cf7_row0_col5, #T_e2cf7_row0_col6, #T_e2cf7_row0_col9, #T_e2cf7_row0_col10, #T_e2cf7_row1_col1, #T_e2cf7_row1_col7, #T_e2cf7_row1_col8, #T_e2cf7_row1_col11, #T_e2cf7_row1_col12, #T_e2cf7_row2_col0, #T_e2cf7_row2_col10, #T_e2cf7_row3_col10 {\n",
       "  background-color: #40004b;\n",
       "  color: #f1f1f1;\n",
       "}\n",
       "#T_e2cf7_row0_col7 {\n",
       "  background-color: #e0f2db;\n",
       "  color: #000000;\n",
       "}\n",
       "#T_e2cf7_row0_col8 {\n",
       "  background-color: #3f974f;\n",
       "  color: #f1f1f1;\n",
       "}\n",
       "#T_e2cf7_row0_col11 {\n",
       "  background-color: #0a5625;\n",
       "  color: #f1f1f1;\n",
       "}\n",
       "#T_e2cf7_row0_col12, #T_e2cf7_row3_col12 {\n",
       "  background-color: #0c5a27;\n",
       "  color: #f1f1f1;\n",
       "}\n",
       "#T_e2cf7_row1_col0 {\n",
       "  background-color: #10632b;\n",
       "  color: #f1f1f1;\n",
       "}\n",
       "#T_e2cf7_row1_col2 {\n",
       "  background-color: #a7dba1;\n",
       "  color: #000000;\n",
       "}\n",
       "#T_e2cf7_row1_col3 {\n",
       "  background-color: #ebdeec;\n",
       "  color: #000000;\n",
       "}\n",
       "#T_e2cf7_row1_col4 {\n",
       "  background-color: #d1b8d9;\n",
       "  color: #000000;\n",
       "}\n",
       "#T_e2cf7_row1_col5, #T_e2cf7_row2_col6 {\n",
       "  background-color: #bea0cb;\n",
       "  color: #f1f1f1;\n",
       "}\n",
       "#T_e2cf7_row1_col6 {\n",
       "  background-color: #7f3c8d;\n",
       "  color: #f1f1f1;\n",
       "}\n",
       "#T_e2cf7_row1_col9, #T_e2cf7_row1_col10, #T_e2cf7_row2_col2, #T_e2cf7_row2_col11, #T_e2cf7_row2_col12, #T_e2cf7_row3_col0, #T_e2cf7_row3_col1, #T_e2cf7_row3_col3, #T_e2cf7_row3_col4, #T_e2cf7_row3_col5, #T_e2cf7_row3_col6, #T_e2cf7_row3_col7, #T_e2cf7_row3_col8, #T_e2cf7_row3_col11 {\n",
       "  background-color: #00441b;\n",
       "  color: #f1f1f1;\n",
       "}\n",
       "#T_e2cf7_row2_col1 {\n",
       "  background-color: #eef5ec;\n",
       "  color: #000000;\n",
       "}\n",
       "#T_e2cf7_row2_col3 {\n",
       "  background-color: #d7c0dd;\n",
       "  color: #000000;\n",
       "}\n",
       "#T_e2cf7_row2_col4 {\n",
       "  background-color: #bc9eca;\n",
       "  color: #f1f1f1;\n",
       "}\n",
       "#T_e2cf7_row2_col5 {\n",
       "  background-color: #ab87bb;\n",
       "  color: #f1f1f1;\n",
       "}\n",
       "#T_e2cf7_row2_col7 {\n",
       "  background-color: #cbeac5;\n",
       "  color: #000000;\n",
       "}\n",
       "#T_e2cf7_row2_col8 {\n",
       "  background-color: #99d395;\n",
       "  color: #000000;\n",
       "}\n",
       "#T_e2cf7_row2_col9 {\n",
       "  background-color: #ae8bbd;\n",
       "  color: #f1f1f1;\n",
       "}\n",
       "#T_e2cf7_row3_col2 {\n",
       "  background-color: #90ce8d;\n",
       "  color: #000000;\n",
       "}\n",
       "#T_e2cf7_row3_col9 {\n",
       "  background-color: #621a6e;\n",
       "  color: #f1f1f1;\n",
       "}\n",
       "</style>\n",
       "<table id=\"T_e2cf7\">\n",
       "  <thead>\n",
       "    <tr>\n",
       "      <th class=\"index_name level0\" >correlacion eth</th>\n",
       "      <th id=\"T_e2cf7_level0_col0\" class=\"col_heading level0 col0\" >9</th>\n",
       "      <th id=\"T_e2cf7_level0_col1\" class=\"col_heading level0 col1\" >12</th>\n",
       "      <th id=\"T_e2cf7_level0_col2\" class=\"col_heading level0 col2\" >14</th>\n",
       "      <th id=\"T_e2cf7_level0_col3\" class=\"col_heading level0 col3\" >18</th>\n",
       "      <th id=\"T_e2cf7_level0_col4\" class=\"col_heading level0 col4\" >20</th>\n",
       "      <th id=\"T_e2cf7_level0_col5\" class=\"col_heading level0 col5\" >22</th>\n",
       "      <th id=\"T_e2cf7_level0_col6\" class=\"col_heading level0 col6\" >30</th>\n",
       "      <th id=\"T_e2cf7_level0_col7\" class=\"col_heading level0 col7\" >40</th>\n",
       "      <th id=\"T_e2cf7_level0_col8\" class=\"col_heading level0 col8\" >50</th>\n",
       "      <th id=\"T_e2cf7_level0_col9\" class=\"col_heading level0 col9\" >60</th>\n",
       "      <th id=\"T_e2cf7_level0_col10\" class=\"col_heading level0 col10\" >70</th>\n",
       "      <th id=\"T_e2cf7_level0_col11\" class=\"col_heading level0 col11\" >80</th>\n",
       "      <th id=\"T_e2cf7_level0_col12\" class=\"col_heading level0 col12\" >90</th>\n",
       "    </tr>\n",
       "  </thead>\n",
       "  <tbody>\n",
       "    <tr>\n",
       "      <th id=\"T_e2cf7_level0_row0\" class=\"row_heading level0 row0\" >1d</th>\n",
       "      <td id=\"T_e2cf7_row0_col0\" class=\"data row0 col0\" >0.60</td>\n",
       "      <td id=\"T_e2cf7_row0_col1\" class=\"data row0 col1\" >0.65</td>\n",
       "      <td id=\"T_e2cf7_row0_col2\" class=\"data row0 col2\" >0.35</td>\n",
       "      <td id=\"T_e2cf7_row0_col3\" class=\"data row0 col3\" >0.26</td>\n",
       "      <td id=\"T_e2cf7_row0_col4\" class=\"data row0 col4\" >0.25</td>\n",
       "      <td id=\"T_e2cf7_row0_col5\" class=\"data row0 col5\" >0.25</td>\n",
       "      <td id=\"T_e2cf7_row0_col6\" class=\"data row0 col6\" >0.27</td>\n",
       "      <td id=\"T_e2cf7_row0_col7\" class=\"data row0 col7\" >0.43</td>\n",
       "      <td id=\"T_e2cf7_row0_col8\" class=\"data row0 col8\" >0.49</td>\n",
       "      <td id=\"T_e2cf7_row0_col9\" class=\"data row0 col9\" >0.41</td>\n",
       "      <td id=\"T_e2cf7_row0_col10\" class=\"data row0 col10\" >0.42</td>\n",
       "      <td id=\"T_e2cf7_row0_col11\" class=\"data row0 col11\" >0.43</td>\n",
       "      <td id=\"T_e2cf7_row0_col12\" class=\"data row0 col12\" >0.47</td>\n",
       "    </tr>\n",
       "    <tr>\n",
       "      <th id=\"T_e2cf7_level0_row1\" class=\"row_heading level0 row1\" >4h</th>\n",
       "      <td id=\"T_e2cf7_row1_col0\" class=\"data row1 col0\" >0.69</td>\n",
       "      <td id=\"T_e2cf7_row1_col1\" class=\"data row1 col1\" >0.62</td>\n",
       "      <td id=\"T_e2cf7_row1_col2\" class=\"data row1 col2\" >0.58</td>\n",
       "      <td id=\"T_e2cf7_row1_col3\" class=\"data row1 col3\" >0.38</td>\n",
       "      <td id=\"T_e2cf7_row1_col4\" class=\"data row1 col4\" >0.37</td>\n",
       "      <td id=\"T_e2cf7_row1_col5\" class=\"data row1 col5\" >0.37</td>\n",
       "      <td id=\"T_e2cf7_row1_col6\" class=\"data row1 col6\" >0.33</td>\n",
       "      <td id=\"T_e2cf7_row1_col7\" class=\"data row1 col7\" >0.20</td>\n",
       "      <td id=\"T_e2cf7_row1_col8\" class=\"data row1 col8\" >0.22</td>\n",
       "      <td id=\"T_e2cf7_row1_col9\" class=\"data row1 col9\" >0.57</td>\n",
       "      <td id=\"T_e2cf7_row1_col10\" class=\"data row1 col10\" >0.49</td>\n",
       "      <td id=\"T_e2cf7_row1_col11\" class=\"data row1 col11\" >0.16</td>\n",
       "      <td id=\"T_e2cf7_row1_col12\" class=\"data row1 col12\" >0.03</td>\n",
       "    </tr>\n",
       "    <tr>\n",
       "      <th id=\"T_e2cf7_level0_row2\" class=\"row_heading level0 row2\" >2h</th>\n",
       "      <td id=\"T_e2cf7_row2_col0\" class=\"data row2 col0\" >0.53</td>\n",
       "      <td id=\"T_e2cf7_row2_col1\" class=\"data row2 col1\" >0.71</td>\n",
       "      <td id=\"T_e2cf7_row2_col2\" class=\"data row2 col2\" >0.68</td>\n",
       "      <td id=\"T_e2cf7_row2_col3\" class=\"data row2 col3\" >0.36</td>\n",
       "      <td id=\"T_e2cf7_row2_col4\" class=\"data row2 col4\" >0.35</td>\n",
       "      <td id=\"T_e2cf7_row2_col5\" class=\"data row2 col5\" >0.35</td>\n",
       "      <td id=\"T_e2cf7_row2_col6\" class=\"data row2 col6\" >0.41</td>\n",
       "      <td id=\"T_e2cf7_row2_col7\" class=\"data row2 col7\" >0.45</td>\n",
       "      <td id=\"T_e2cf7_row2_col8\" class=\"data row2 col8\" >0.45</td>\n",
       "      <td id=\"T_e2cf7_row2_col9\" class=\"data row2 col9\" >0.45</td>\n",
       "      <td id=\"T_e2cf7_row2_col10\" class=\"data row2 col10\" >0.42</td>\n",
       "      <td id=\"T_e2cf7_row2_col11\" class=\"data row2 col11\" >0.44</td>\n",
       "      <td id=\"T_e2cf7_row2_col12\" class=\"data row2 col12\" >0.49</td>\n",
       "    </tr>\n",
       "    <tr>\n",
       "      <th id=\"T_e2cf7_level0_row3\" class=\"row_heading level0 row3\" >1h</th>\n",
       "      <td id=\"T_e2cf7_row3_col0\" class=\"data row3 col0\" >0.70</td>\n",
       "      <td id=\"T_e2cf7_row3_col1\" class=\"data row3 col1\" >0.79</td>\n",
       "      <td id=\"T_e2cf7_row3_col2\" class=\"data row3 col2\" >0.59</td>\n",
       "      <td id=\"T_e2cf7_row3_col3\" class=\"data row3 col3\" >0.54</td>\n",
       "      <td id=\"T_e2cf7_row3_col4\" class=\"data row3 col4\" >0.60</td>\n",
       "      <td id=\"T_e2cf7_row3_col5\" class=\"data row3 col5\" >0.66</td>\n",
       "      <td id=\"T_e2cf7_row3_col6\" class=\"data row3 col6\" >0.75</td>\n",
       "      <td id=\"T_e2cf7_row3_col7\" class=\"data row3 col7\" >0.60</td>\n",
       "      <td id=\"T_e2cf7_row3_col8\" class=\"data row3 col8\" >0.54</td>\n",
       "      <td id=\"T_e2cf7_row3_col9\" class=\"data row3 col9\" >0.42</td>\n",
       "      <td id=\"T_e2cf7_row3_col10\" class=\"data row3 col10\" >0.42</td>\n",
       "      <td id=\"T_e2cf7_row3_col11\" class=\"data row3 col11\" >0.44</td>\n",
       "      <td id=\"T_e2cf7_row3_col12\" class=\"data row3 col12\" >0.47</td>\n",
       "    </tr>\n",
       "  </tbody>\n",
       "</table>\n"
      ],
      "text/plain": [
       "<pandas.io.formats.style.Styler at 0x19c4e822dd0>"
      ]
     },
     "metadata": {},
     "output_type": "display_data"
    }
   ],
   "source": [
    "if __name__ == '__main__':\n",
    "    activo = 'eth'\n",
    "    df = get_correlation(correlacion, activo)\n",
    "    display(df)"
   ]
  },
  {
   "attachments": {},
   "cell_type": "markdown",
   "metadata": {},
   "source": [
    "# Aplicar las condiciones de la estrategia a las temporalidades más correlacionadas y visualizar las últimas entradas"
   ]
  },
  {
   "cell_type": "code",
   "execution_count": null,
   "metadata": {},
   "outputs": [],
   "source": [
    "from backtesting.indicadores import backtest_entry\n",
    "import plotly.graph_objects as go"
   ]
  },
  {
   "cell_type": "code",
   "execution_count": null,
   "metadata": {},
   "outputs": [],
   "source": [
    "entradas_backtest = {}\n",
    "for activo in temporalidades_filtradas:\n",
    "    for t in temporalidades_filtradas[activo]:\n",
    "        entrada_short, entrada_long = backtest_entry(SMI_default[activo][t])\n",
    "        dict_key = activo + '_' + t\n",
    "        if len(entrada_short) > 0:\n",
    "            dict_key_2 = dict_key + '_short'\n",
    "            entradas_backtest.update({dict_key_2: entrada_short})\n",
    "        if len(entrada_long) > 0:\n",
    "            dict_key_2 = dict_key + '_long'\n",
    "            entradas_backtest.update({dict_key_2: entrada_long})\n",
    "        "
   ]
  },
  {
   "cell_type": "code",
   "execution_count": null,
   "metadata": {},
   "outputs": [
    {
     "data": {
      "application/vnd.plotly.v1+json": {
       "config": {
        "plotlyServerURL": "https://plotly.com"
       },
       "data": [
        {
         "close": [
          26840.2,
          26831.1,
          26797.4,
          26824.6,
          26825.4,
          26729.8,
          26775.5,
          27006,
          26942.6,
          26954.9,
          26850.5,
          26875.3,
          26867.4,
          26869.6,
          26794.5,
          26847.3,
          26914.4,
          26878,
          26838.1,
          26858.6,
          26832.9,
          26893.2,
          26911.5,
          26899.3,
          26885.2,
          26869.4,
          26852.2,
          26846.5,
          26882.1,
          26818.4,
          26970,
          26993,
          27044.7,
          27127.7,
          27339.2,
          27372.2,
          27394.2,
          27384.9,
          27382,
          27391.8,
          27358.5,
          27295.4,
          27257.7,
          27302.1,
          27287.8,
          27333.6,
          27290,
          27276,
          27312.7,
          27327.4,
          27331.9,
          27338.8,
          27384.1,
          27285.7,
          27269.4,
          27235.8,
          27290.2,
          27320.7,
          27322.9,
          27319.5,
          27276.6,
          27228.9,
          27199.1,
          27202.6,
          27125.9,
          27136.7,
          27174.7,
          27181.4,
          27169.3,
          27213.2,
          27204.5,
          27196.8,
          27195.7,
          27192.5,
          27245.5,
          27215.5,
          27209.9,
          27152.8,
          27166.2,
          27133.9,
          27158.2,
          27157.9,
          26921.9,
          26777.9,
          26750.8,
          26794.5,
          26810,
          26766.3,
          26731.4,
          26700.2,
          26704.5,
          26668.1,
          26720,
          26739.5,
          26786.5,
          26742.9,
          26710.7,
          26720.2,
          26686.7,
          26734.3
         ],
         "high": [
          26874.3,
          26840.2,
          26833.1,
          26824.7,
          26864.3,
          26838.4,
          26795.3,
          27096.9,
          27039,
          26997.4,
          26976.3,
          26899.5,
          26921.6,
          26895,
          26893.5,
          26867.2,
          26927.1,
          26914.4,
          26887.7,
          26870.2,
          26867.4,
          26932.9,
          26957.6,
          26948.2,
          26912.1,
          26891.5,
          26880,
          26863.7,
          26882.1,
          26933.6,
          26995.7,
          27102,
          27080,
          27159.6,
          27425,
          27416.6,
          27445.1,
          27416.5,
          27492,
          27447,
          27430.8,
          27370.8,
          27326.1,
          27314.9,
          27323,
          27335.1,
          27338.7,
          27303.2,
          27312.7,
          27334.5,
          27343.8,
          27349.2,
          27384.1,
          27385.6,
          27298.4,
          27306,
          27357.5,
          27336.4,
          27358.9,
          27342.8,
          27327,
          27292.2,
          27269.1,
          27226.4,
          27218.2,
          27185.2,
          27176.7,
          27216.7,
          27216.6,
          27239.8,
          27235.5,
          27213.9,
          27217.7,
          27202.2,
          27245.7,
          27245.5,
          27215.8,
          27212.4,
          27181.8,
          27177.4,
          27164.1,
          27166,
          27159.3,
          26921.9,
          26781.1,
          26806.5,
          26815,
          26810,
          26766.3,
          26749.4,
          26746.9,
          26707,
          26736.5,
          26744.9,
          26824.6,
          26800,
          26754.6,
          26732,
          26755,
          26736.5
         ],
         "low": [
          26836.2,
          26794.9,
          26767.5,
          26783,
          26807.1,
          26728.2,
          26700.4,
          26775.4,
          26774.6,
          26890.4,
          26812.5,
          26848.6,
          26833.1,
          26839.1,
          26779.6,
          26791.9,
          26840,
          26867.6,
          26822.6,
          26818.4,
          26832.9,
          26832,
          26880.4,
          26894.9,
          26873.9,
          26869.3,
          26833,
          26838.9,
          26841.6,
          26795.4,
          26799.3,
          26970,
          26993,
          27008.9,
          27117.5,
          27335.3,
          27351.4,
          27350,
          27380.9,
          27370.4,
          27358.3,
          27290,
          27257.6,
          27211.7,
          27252.8,
          27280.2,
          27283.9,
          27270.4,
          27255.2,
          27270.2,
          27283,
          27308,
          27323.3,
          27240,
          27256.8,
          27181.9,
          27232.6,
          27281.7,
          27293.3,
          27292.1,
          27271.8,
          27201.4,
          27190.4,
          27186,
          27122.2,
          27125.8,
          27105,
          27174.7,
          27168.9,
          27150.1,
          27185.7,
          27184.3,
          27175.2,
          27180.6,
          27191.6,
          27212.9,
          27179.4,
          27124.6,
          27132,
          27132.9,
          27108.8,
          27148.4,
          26869.7,
          26667,
          26701.1,
          26741.9,
          26778.1,
          26713.7,
          26711.6,
          26603.9,
          26672.2,
          26638.5,
          26659.6,
          26696,
          26730.3,
          26729.7,
          26708.6,
          26707.4,
          26677.8,
          26673.9
         ],
         "open": [
          26860.9,
          26840.2,
          26831.1,
          26797.4,
          26824.6,
          26825.4,
          26729.8,
          26775.5,
          27006,
          26942.6,
          26954.9,
          26850.5,
          26875.3,
          26867.4,
          26869.6,
          26794.5,
          26847.3,
          26914.4,
          26878,
          26838.1,
          26858.6,
          26832.9,
          26893.2,
          26911.5,
          26899.3,
          26885.2,
          26869.4,
          26852.2,
          26846.5,
          26882.4,
          26818.4,
          26970,
          26993,
          27044.7,
          27127.7,
          27339.2,
          27372.3,
          27394.2,
          27384.9,
          27382,
          27391.8,
          27358.5,
          27295.4,
          27257.7,
          27302.1,
          27287.8,
          27333.6,
          27290,
          27276,
          27312.7,
          27327.4,
          27331.9,
          27338.8,
          27384.1,
          27285.7,
          27269.4,
          27235.8,
          27290.2,
          27320.7,
          27322.9,
          27319.5,
          27276.6,
          27228.9,
          27199.1,
          27202.6,
          27125.9,
          27136.7,
          27174.7,
          27181.4,
          27169.3,
          27213.2,
          27204.5,
          27196.8,
          27195.7,
          27192.5,
          27245.5,
          27215.5,
          27209.9,
          27152.8,
          27166.2,
          27133.9,
          27158.2,
          27157.9,
          26921.9,
          26777.9,
          26750.8,
          26794.5,
          26810,
          26766.3,
          26731.4,
          26700.2,
          26704.5,
          26668.1,
          26719.9,
          26739.5,
          26786.5,
          26742.9,
          26710.7,
          26720.2,
          26686.7
         ],
         "type": "candlestick",
         "x": [
          "2023-05-22 07:00:00",
          "2023-05-22 07:30:00",
          "2023-05-22 08:00:00",
          "2023-05-22 08:30:00",
          "2023-05-22 09:00:00",
          "2023-05-22 09:30:00",
          "2023-05-22 10:00:00",
          "2023-05-22 10:30:00",
          "2023-05-22 11:00:00",
          "2023-05-22 11:30:00",
          "2023-05-22 12:00:00",
          "2023-05-22 12:30:00",
          "2023-05-22 13:00:00",
          "2023-05-22 13:30:00",
          "2023-05-22 14:00:00",
          "2023-05-22 14:30:00",
          "2023-05-22 15:00:00",
          "2023-05-22 15:30:00",
          "2023-05-22 16:00:00",
          "2023-05-22 16:30:00",
          "2023-05-22 17:00:00",
          "2023-05-22 17:30:00",
          "2023-05-22 18:00:00",
          "2023-05-22 18:30:00",
          "2023-05-22 19:00:00",
          "2023-05-22 19:30:00",
          "2023-05-22 20:00:00",
          "2023-05-22 20:30:00",
          "2023-05-22 21:00:00",
          "2023-05-22 21:30:00",
          "2023-05-22 22:00:00",
          "2023-05-22 22:30:00",
          "2023-05-22 23:00:00",
          "2023-05-22 23:30:00",
          "2023-05-23 00:00:00",
          "2023-05-23 00:30:00",
          "2023-05-23 01:00:00",
          "2023-05-23 01:30:00",
          "2023-05-23 02:00:00",
          "2023-05-23 02:30:00",
          "2023-05-23 03:00:00",
          "2023-05-23 03:30:00",
          "2023-05-23 04:00:00",
          "2023-05-23 04:30:00",
          "2023-05-23 05:00:00",
          "2023-05-23 05:30:00",
          "2023-05-23 06:00:00",
          "2023-05-23 06:30:00",
          "2023-05-23 07:00:00",
          "2023-05-23 07:30:00",
          "2023-05-23 08:00:00",
          "2023-05-23 08:30:00",
          "2023-05-23 09:00:00",
          "2023-05-23 09:30:00",
          "2023-05-23 10:00:00",
          "2023-05-23 10:30:00",
          "2023-05-23 11:00:00",
          "2023-05-23 11:30:00",
          "2023-05-23 12:00:00",
          "2023-05-23 12:30:00",
          "2023-05-23 13:00:00",
          "2023-05-23 13:30:00",
          "2023-05-23 14:00:00",
          "2023-05-23 14:30:00",
          "2023-05-23 15:00:00",
          "2023-05-23 15:30:00",
          "2023-05-23 16:00:00",
          "2023-05-23 16:30:00",
          "2023-05-23 17:00:00",
          "2023-05-23 17:30:00",
          "2023-05-23 18:00:00",
          "2023-05-23 18:30:00",
          "2023-05-23 19:00:00",
          "2023-05-23 19:30:00",
          "2023-05-23 20:00:00",
          "2023-05-23 20:30:00",
          "2023-05-23 21:00:00",
          "2023-05-23 21:30:00",
          "2023-05-23 22:00:00",
          "2023-05-23 22:30:00",
          "2023-05-23 23:00:00",
          "2023-05-23 23:30:00",
          "2023-05-24 00:00:00",
          "2023-05-24 00:30:00",
          "2023-05-24 01:00:00",
          "2023-05-24 01:30:00",
          "2023-05-24 02:00:00",
          "2023-05-24 02:30:00",
          "2023-05-24 03:00:00",
          "2023-05-24 03:30:00",
          "2023-05-24 04:00:00",
          "2023-05-24 04:30:00",
          "2023-05-24 05:00:00",
          "2023-05-24 05:30:00",
          "2023-05-24 06:00:00",
          "2023-05-24 06:30:00",
          "2023-05-24 07:00:00",
          "2023-05-24 07:30:00",
          "2023-05-24 08:00:00",
          "2023-05-24 08:30:00"
         ]
        },
        {
         "line": {
          "color": "red",
          "width": 1
         },
         "name": "upper_band",
         "type": "scatter",
         "x": [
          "2023-05-22 07:00:00",
          "2023-05-22 07:30:00",
          "2023-05-22 08:00:00",
          "2023-05-22 08:30:00",
          "2023-05-22 09:00:00",
          "2023-05-22 09:30:00",
          "2023-05-22 10:00:00",
          "2023-05-22 10:30:00",
          "2023-05-22 11:00:00",
          "2023-05-22 11:30:00",
          "2023-05-22 12:00:00",
          "2023-05-22 12:30:00",
          "2023-05-22 13:00:00",
          "2023-05-22 13:30:00",
          "2023-05-22 14:00:00",
          "2023-05-22 14:30:00",
          "2023-05-22 15:00:00",
          "2023-05-22 15:30:00",
          "2023-05-22 16:00:00",
          "2023-05-22 16:30:00",
          "2023-05-22 17:00:00",
          "2023-05-22 17:30:00",
          "2023-05-22 18:00:00",
          "2023-05-22 18:30:00",
          "2023-05-22 19:00:00",
          "2023-05-22 19:30:00",
          "2023-05-22 20:00:00",
          "2023-05-22 20:30:00",
          "2023-05-22 21:00:00",
          "2023-05-22 21:30:00",
          "2023-05-22 22:00:00",
          "2023-05-22 22:30:00",
          "2023-05-22 23:00:00",
          "2023-05-22 23:30:00",
          "2023-05-23 00:00:00",
          "2023-05-23 00:30:00",
          "2023-05-23 01:00:00",
          "2023-05-23 01:30:00",
          "2023-05-23 02:00:00",
          "2023-05-23 02:30:00",
          "2023-05-23 03:00:00",
          "2023-05-23 03:30:00",
          "2023-05-23 04:00:00",
          "2023-05-23 04:30:00",
          "2023-05-23 05:00:00",
          "2023-05-23 05:30:00",
          "2023-05-23 06:00:00",
          "2023-05-23 06:30:00",
          "2023-05-23 07:00:00",
          "2023-05-23 07:30:00",
          "2023-05-23 08:00:00",
          "2023-05-23 08:30:00",
          "2023-05-23 09:00:00",
          "2023-05-23 09:30:00",
          "2023-05-23 10:00:00",
          "2023-05-23 10:30:00",
          "2023-05-23 11:00:00",
          "2023-05-23 11:30:00",
          "2023-05-23 12:00:00",
          "2023-05-23 12:30:00",
          "2023-05-23 13:00:00",
          "2023-05-23 13:30:00",
          "2023-05-23 14:00:00",
          "2023-05-23 14:30:00",
          "2023-05-23 15:00:00",
          "2023-05-23 15:30:00",
          "2023-05-23 16:00:00",
          "2023-05-23 16:30:00",
          "2023-05-23 17:00:00",
          "2023-05-23 17:30:00",
          "2023-05-23 18:00:00",
          "2023-05-23 18:30:00",
          "2023-05-23 19:00:00",
          "2023-05-23 19:30:00",
          "2023-05-23 20:00:00",
          "2023-05-23 20:30:00",
          "2023-05-23 21:00:00",
          "2023-05-23 21:30:00",
          "2023-05-23 22:00:00",
          "2023-05-23 22:30:00",
          "2023-05-23 23:00:00",
          "2023-05-23 23:30:00",
          "2023-05-24 00:00:00",
          "2023-05-24 00:30:00",
          "2023-05-24 01:00:00",
          "2023-05-24 01:30:00",
          "2023-05-24 02:00:00",
          "2023-05-24 02:30:00",
          "2023-05-24 03:00:00",
          "2023-05-24 03:30:00",
          "2023-05-24 04:00:00",
          "2023-05-24 04:30:00",
          "2023-05-24 05:00:00",
          "2023-05-24 05:30:00",
          "2023-05-24 06:00:00",
          "2023-05-24 06:30:00",
          "2023-05-24 07:00:00",
          "2023-05-24 07:30:00",
          "2023-05-24 08:00:00",
          "2023-05-24 08:30:00"
         ],
         "y": [
          26946.032332736027,
          26952.52636746075,
          26954.71297322713,
          26947.85785948778,
          26945.542284705112,
          26938.292224055178,
          26931.70460636108,
          26958.99584956125,
          26968.827765664653,
          26977.35846955984,
          26974.90169928397,
          26974.063499825206,
          26971.169777505394,
          26972.961135343267,
          26973.23091489679,
          26973.43940820222,
          26979.04444275717,
          26981.3120316744,
          26980.45481131307,
          26980.326365521858,
          26980.18823636251,
          26983.781374612427,
          26988.164297669082,
          26991.36383034982,
          26992.943567033464,
          26981.260917511725,
          26974.706199539007,
          26948.30891432402,
          26938.487107766665,
          26923.465948384775,
          26944.81077514179,
          26967.949376834767,
          27002.406065464293,
          27055.551775513166,
          27167.41656851719,
          27259.131319685268,
          27337.802515992138,
          27401.265820143926,
          27453.67750269333,
          27500.881062817953,
          27533.71646911982,
          27554.4379038824,
          27567.9203517899,
          27583.09037404697,
          27591.86363048523,
          27600.12082166157,
          27595.751986428993,
          27582.125651850536,
          27568.5408431164,
          27528.353435093195,
          27506.599200774453,
          27476.172206930907,
          27445.611616604638,
          27415.98976042448,
          27416.77030695665,
          27416.354186002478,
          27405.984750966134,
          27397.184727138552,
          27388.316283294283,
          27375.431777234397,
          27368.253909540294,
          27372.45494081461,
          27379.988588131062,
          27384.4653271169,
          27401.23347665689,
          27405.15057788741,
          27405.978631877006,
          27406.220227669703,
          27402.74666424218,
          27394.35306983785,
          27384.214835163515,
          27371.46121283614,
          27344.77319843851,
          27337.874936443142,
          27335.2069681989,
          27334.02983777072,
          27325.470919743246,
          27309.286359119018,
          27288.08321418577,
          27264.534990469318,
          27248.47721919933,
          27242.640839608684,
          27295.758851113736,
          27358.028473589013,
          27400.826643406686,
          27419.82938105374,
          27426.361717070464,
          27431.500174906476,
          27435.533301002022,
          27430.665936395857,
          27419.48127128934,
          27406.28358521448,
          27383.143747220383,
          27354.522135446616,
          27309.295211794437,
          27264.703074423505,
          27214.790912573855,
          27170.17626874236,
          27114.762203252318,
          27057.174106508555
         ]
        },
        {
         "line": {
          "color": "red",
          "width": 1
         },
         "name": "lower_band",
         "type": "scatter",
         "x": [
          "2023-05-22 07:00:00",
          "2023-05-22 07:30:00",
          "2023-05-22 08:00:00",
          "2023-05-22 08:30:00",
          "2023-05-22 09:00:00",
          "2023-05-22 09:30:00",
          "2023-05-22 10:00:00",
          "2023-05-22 10:30:00",
          "2023-05-22 11:00:00",
          "2023-05-22 11:30:00",
          "2023-05-22 12:00:00",
          "2023-05-22 12:30:00",
          "2023-05-22 13:00:00",
          "2023-05-22 13:30:00",
          "2023-05-22 14:00:00",
          "2023-05-22 14:30:00",
          "2023-05-22 15:00:00",
          "2023-05-22 15:30:00",
          "2023-05-22 16:00:00",
          "2023-05-22 16:30:00",
          "2023-05-22 17:00:00",
          "2023-05-22 17:30:00",
          "2023-05-22 18:00:00",
          "2023-05-22 18:30:00",
          "2023-05-22 19:00:00",
          "2023-05-22 19:30:00",
          "2023-05-22 20:00:00",
          "2023-05-22 20:30:00",
          "2023-05-22 21:00:00",
          "2023-05-22 21:30:00",
          "2023-05-22 22:00:00",
          "2023-05-22 22:30:00",
          "2023-05-22 23:00:00",
          "2023-05-22 23:30:00",
          "2023-05-23 00:00:00",
          "2023-05-23 00:30:00",
          "2023-05-23 01:00:00",
          "2023-05-23 01:30:00",
          "2023-05-23 02:00:00",
          "2023-05-23 02:30:00",
          "2023-05-23 03:00:00",
          "2023-05-23 03:30:00",
          "2023-05-23 04:00:00",
          "2023-05-23 04:30:00",
          "2023-05-23 05:00:00",
          "2023-05-23 05:30:00",
          "2023-05-23 06:00:00",
          "2023-05-23 06:30:00",
          "2023-05-23 07:00:00",
          "2023-05-23 07:30:00",
          "2023-05-23 08:00:00",
          "2023-05-23 08:30:00",
          "2023-05-23 09:00:00",
          "2023-05-23 09:30:00",
          "2023-05-23 10:00:00",
          "2023-05-23 10:30:00",
          "2023-05-23 11:00:00",
          "2023-05-23 11:30:00",
          "2023-05-23 12:00:00",
          "2023-05-23 12:30:00",
          "2023-05-23 13:00:00",
          "2023-05-23 13:30:00",
          "2023-05-23 14:00:00",
          "2023-05-23 14:30:00",
          "2023-05-23 15:00:00",
          "2023-05-23 15:30:00",
          "2023-05-23 16:00:00",
          "2023-05-23 16:30:00",
          "2023-05-23 17:00:00",
          "2023-05-23 17:30:00",
          "2023-05-23 18:00:00",
          "2023-05-23 18:30:00",
          "2023-05-23 19:00:00",
          "2023-05-23 19:30:00",
          "2023-05-23 20:00:00",
          "2023-05-23 20:30:00",
          "2023-05-23 21:00:00",
          "2023-05-23 21:30:00",
          "2023-05-23 22:00:00",
          "2023-05-23 22:30:00",
          "2023-05-23 23:00:00",
          "2023-05-23 23:30:00",
          "2023-05-24 00:00:00",
          "2023-05-24 00:30:00",
          "2023-05-24 01:00:00",
          "2023-05-24 01:30:00",
          "2023-05-24 02:00:00",
          "2023-05-24 02:30:00",
          "2023-05-24 03:00:00",
          "2023-05-24 03:30:00",
          "2023-05-24 04:00:00",
          "2023-05-24 04:30:00",
          "2023-05-24 05:00:00",
          "2023-05-24 05:30:00",
          "2023-05-24 06:00:00",
          "2023-05-24 06:30:00",
          "2023-05-24 07:00:00",
          "2023-05-24 07:30:00",
          "2023-05-24 08:00:00",
          "2023-05-24 08:30:00"
         ],
         "y": [
          26554.69766726397,
          26566.133632539248,
          26577.31702677286,
          26608.64214051222,
          26629.667715294887,
          26645.457775944822,
          26663.375393638922,
          26672.494150438753,
          26688.422234335347,
          26706.261530440155,
          26719.49830071603,
          26732.4265001748,
          26732.400222494598,
          26735.60886465674,
          26730.279085103204,
          26730.62059179778,
          26730.27555724282,
          26733.2879683256,
          26731.89518868693,
          26731.793634478137,
          26731.201763637488,
          26733.818625387572,
          26740.845702330913,
          26745.116169650184,
          26749.516432966535,
          26775.159082488273,
          26789.383800460997,
          26799.831085675978,
          26803.60289223334,
          26804.974051615227,
          26795.57922485821,
          26784.21062316523,
          26767.483934535707,
          26740.14822448683,
          26682.753431482815,
          26643.52868031473,
          26612.83748400786,
          26600.064179856075,
          26602.04249730668,
          26608.15893718205,
          26627.88353088018,
          26647.382096117606,
          26668.519648210102,
          26693.62962595304,
          26725.116369514773,
          26763.27917833843,
          26811.428013571,
          26868.004348149454,
          26924.649156883603,
          27015.73656490681,
          27073.680799225538,
          27138.687793069093,
          27203.188383395365,
          27248.61023957552,
          27240.849693043347,
          27227.625813997525,
          27227.59524903386,
          27229.975272861444,
          27232.933716705717,
          27238.5882227656,
          27237.5760904597,
          27226.7250591854,
          27213.33141186893,
          27198.90467288311,
          27165.946523343104,
          27142.339422112596,
          27129.981368122993,
          27120.279772330297,
          27109.413335757818,
          27106.386930162156,
          27103.785164836485,
          27102.338787163862,
          27110.186801561496,
          27107.765063556857,
          27108.0430318011,
          27107.190162229275,
          27107.719080256757,
          27107.113640880983,
          27112.64678581423,
          27117.635009530688,
          27121.852780800673,
          27120.58916039132,
          27039.75114888626,
          26935.011526410988,
          26854.70335659332,
          26801.480618946258,
          26758.47828292954,
          26711.829825093526,
          26664.00669899798,
          26617.57406360415,
          26578.758728710665,
          26539.086414785528,
          26514.65625277962,
          26497.977864553384,
          26497.30478820556,
          26494.6369255765,
          26494.629087426143,
          26495.983731257635,
          26503.44779674768,
          26521.075893491445
         ]
        },
        {
         "line": {
          "color": "blue",
          "dash": "dash",
          "width": 1
         },
         "name": "upper_KC",
         "type": "scatter",
         "x": [
          "2023-05-22 07:00:00",
          "2023-05-22 07:30:00",
          "2023-05-22 08:00:00",
          "2023-05-22 08:30:00",
          "2023-05-22 09:00:00",
          "2023-05-22 09:30:00",
          "2023-05-22 10:00:00",
          "2023-05-22 10:30:00",
          "2023-05-22 11:00:00",
          "2023-05-22 11:30:00",
          "2023-05-22 12:00:00",
          "2023-05-22 12:30:00",
          "2023-05-22 13:00:00",
          "2023-05-22 13:30:00",
          "2023-05-22 14:00:00",
          "2023-05-22 14:30:00",
          "2023-05-22 15:00:00",
          "2023-05-22 15:30:00",
          "2023-05-22 16:00:00",
          "2023-05-22 16:30:00",
          "2023-05-22 17:00:00",
          "2023-05-22 17:30:00",
          "2023-05-22 18:00:00",
          "2023-05-22 18:30:00",
          "2023-05-22 19:00:00",
          "2023-05-22 19:30:00",
          "2023-05-22 20:00:00",
          "2023-05-22 20:30:00",
          "2023-05-22 21:00:00",
          "2023-05-22 21:30:00",
          "2023-05-22 22:00:00",
          "2023-05-22 22:30:00",
          "2023-05-22 23:00:00",
          "2023-05-22 23:30:00",
          "2023-05-23 00:00:00",
          "2023-05-23 00:30:00",
          "2023-05-23 01:00:00",
          "2023-05-23 01:30:00",
          "2023-05-23 02:00:00",
          "2023-05-23 02:30:00",
          "2023-05-23 03:00:00",
          "2023-05-23 03:30:00",
          "2023-05-23 04:00:00",
          "2023-05-23 04:30:00",
          "2023-05-23 05:00:00",
          "2023-05-23 05:30:00",
          "2023-05-23 06:00:00",
          "2023-05-23 06:30:00",
          "2023-05-23 07:00:00",
          "2023-05-23 07:30:00",
          "2023-05-23 08:00:00",
          "2023-05-23 08:30:00",
          "2023-05-23 09:00:00",
          "2023-05-23 09:30:00",
          "2023-05-23 10:00:00",
          "2023-05-23 10:30:00",
          "2023-05-23 11:00:00",
          "2023-05-23 11:30:00",
          "2023-05-23 12:00:00",
          "2023-05-23 12:30:00",
          "2023-05-23 13:00:00",
          "2023-05-23 13:30:00",
          "2023-05-23 14:00:00",
          "2023-05-23 14:30:00",
          "2023-05-23 15:00:00",
          "2023-05-23 15:30:00",
          "2023-05-23 16:00:00",
          "2023-05-23 16:30:00",
          "2023-05-23 17:00:00",
          "2023-05-23 17:30:00",
          "2023-05-23 18:00:00",
          "2023-05-23 18:30:00",
          "2023-05-23 19:00:00",
          "2023-05-23 19:30:00",
          "2023-05-23 20:00:00",
          "2023-05-23 20:30:00",
          "2023-05-23 21:00:00",
          "2023-05-23 21:30:00",
          "2023-05-23 22:00:00",
          "2023-05-23 22:30:00",
          "2023-05-23 23:00:00",
          "2023-05-23 23:30:00",
          "2023-05-24 00:00:00",
          "2023-05-24 00:30:00",
          "2023-05-24 01:00:00",
          "2023-05-24 01:30:00",
          "2023-05-24 02:00:00",
          "2023-05-24 02:30:00",
          "2023-05-24 03:00:00",
          "2023-05-24 03:30:00",
          "2023-05-24 04:00:00",
          "2023-05-24 04:30:00",
          "2023-05-24 05:00:00",
          "2023-05-24 05:30:00",
          "2023-05-24 06:00:00",
          "2023-05-24 06:30:00",
          "2023-05-24 07:00:00",
          "2023-05-24 07:30:00",
          "2023-05-24 08:00:00",
          "2023-05-24 08:30:00"
         ],
         "y": [
          26836.069234333812,
          26841.806191727665,
          26851.386429595357,
          26859.47207875984,
          26869.659428076233,
          26889.064986607827,
          26902.94089813368,
          26989.66391665483,
          27043.03138635395,
          27046.415225198685,
          27059.27700243529,
          27040.644365628876,
          27029.24811733271,
          27014.72755054495,
          27014.08981408223,
          27005.385756976368,
          27003.88743752612,
          26992.15881252137,
          26984.268573881123,
          26974.991105902736,
          26962.411359374968,
          26973.631566761334,
          26979.512645532,
          26976.87352816255,
          26970.53015940572,
          26965.51013042286,
          26966.29056125507,
          26949.761822845056,
          26944.02012778232,
          26961.6178318219,
          27003.447771490642,
          27021.104994855978,
          27027.32908670035,
          27055.446070936647,
          27137.890876220896,
          27147.61662599891,
          27161.47269399911,
          27171.108113272,
          27197.61345631346,
          27214.300100620098,
          27231.30190050735,
          27246.084282233292,
          27255.68077637269,
          27278.97336248675,
          27292.68275112552,
          27306.466796375425,
          27320.617378852618,
          27329.76012815214,
          27347.93646848812,
          27372.49711058119,
          27388.90990865733,
          27399.478107083276,
          27416.293905795406,
          27447.195013832603,
          27434.16046586304,
          27442.03129025158,
          27449.06923747856,
          27436.726648846095,
          27429.272258146808,
          27417.912302120116,
          27408.70779264373,
          27410.91137579942,
          27409.2047620177,
          27394.78525983267,
          27394.126576226725,
          27380.38401691278,
          27374.784650201364,
          27362.09016834657,
          27349.95831955628,
          27351.643170546053,
          27340.441684992224,
          27323.879560448186,
          27310.23600400306,
          27296.420366911592,
          27296.598027473123,
          27290.84247702346,
          27283.985208473743,
          27287.282897842153,
          27278.6510073254,
          27267.273551448056,
          27262.582905730225,
          27249.756922870187,
          27302.48930053015,
          27326.275336797396,
          27296.655730106962,
          27266.456506451148,
          27229.957596187305,
          27210.459396880524,
          27178.247233811337,
          27168.91955493655,
          27137.96509040263,
          27104.967346693065,
          27078.103738203416,
          27045.298513075522,
          27026.421510698154,
          26999.578508753035,
          26965.362416252483,
          26930.322886024755,
          26909.72190674753,
          26888.52065097525
         ]
        },
        {
         "line": {
          "color": "blue",
          "dash": "dash",
          "width": 1
         },
         "name": "lower_KC",
         "type": "scatter",
         "x": [
          "2023-05-22 07:00:00",
          "2023-05-22 07:30:00",
          "2023-05-22 08:00:00",
          "2023-05-22 08:30:00",
          "2023-05-22 09:00:00",
          "2023-05-22 09:30:00",
          "2023-05-22 10:00:00",
          "2023-05-22 10:30:00",
          "2023-05-22 11:00:00",
          "2023-05-22 11:30:00",
          "2023-05-22 12:00:00",
          "2023-05-22 12:30:00",
          "2023-05-22 13:00:00",
          "2023-05-22 13:30:00",
          "2023-05-22 14:00:00",
          "2023-05-22 14:30:00",
          "2023-05-22 15:00:00",
          "2023-05-22 15:30:00",
          "2023-05-22 16:00:00",
          "2023-05-22 16:30:00",
          "2023-05-22 17:00:00",
          "2023-05-22 17:30:00",
          "2023-05-22 18:00:00",
          "2023-05-22 18:30:00",
          "2023-05-22 19:00:00",
          "2023-05-22 19:30:00",
          "2023-05-22 20:00:00",
          "2023-05-22 20:30:00",
          "2023-05-22 21:00:00",
          "2023-05-22 21:30:00",
          "2023-05-22 22:00:00",
          "2023-05-22 22:30:00",
          "2023-05-22 23:00:00",
          "2023-05-22 23:30:00",
          "2023-05-23 00:00:00",
          "2023-05-23 00:30:00",
          "2023-05-23 01:00:00",
          "2023-05-23 01:30:00",
          "2023-05-23 02:00:00",
          "2023-05-23 02:30:00",
          "2023-05-23 03:00:00",
          "2023-05-23 03:30:00",
          "2023-05-23 04:00:00",
          "2023-05-23 04:30:00",
          "2023-05-23 05:00:00",
          "2023-05-23 05:30:00",
          "2023-05-23 06:00:00",
          "2023-05-23 06:30:00",
          "2023-05-23 07:00:00",
          "2023-05-23 07:30:00",
          "2023-05-23 08:00:00",
          "2023-05-23 08:30:00",
          "2023-05-23 09:00:00",
          "2023-05-23 09:30:00",
          "2023-05-23 10:00:00",
          "2023-05-23 10:30:00",
          "2023-05-23 11:00:00",
          "2023-05-23 11:30:00",
          "2023-05-23 12:00:00",
          "2023-05-23 12:30:00",
          "2023-05-23 13:00:00",
          "2023-05-23 13:30:00",
          "2023-05-23 14:00:00",
          "2023-05-23 14:30:00",
          "2023-05-23 15:00:00",
          "2023-05-23 15:30:00",
          "2023-05-23 16:00:00",
          "2023-05-23 16:30:00",
          "2023-05-23 17:00:00",
          "2023-05-23 17:30:00",
          "2023-05-23 18:00:00",
          "2023-05-23 18:30:00",
          "2023-05-23 19:00:00",
          "2023-05-23 19:30:00",
          "2023-05-23 20:00:00",
          "2023-05-23 20:30:00",
          "2023-05-23 21:00:00",
          "2023-05-23 21:30:00",
          "2023-05-23 22:00:00",
          "2023-05-23 22:30:00",
          "2023-05-23 23:00:00",
          "2023-05-23 23:30:00",
          "2023-05-24 00:00:00",
          "2023-05-24 00:30:00",
          "2023-05-24 01:00:00",
          "2023-05-24 01:30:00",
          "2023-05-24 02:00:00",
          "2023-05-24 02:30:00",
          "2023-05-24 03:00:00",
          "2023-05-24 03:30:00",
          "2023-05-24 04:00:00",
          "2023-05-24 04:30:00",
          "2023-05-24 05:00:00",
          "2023-05-24 05:30:00",
          "2023-05-24 06:00:00",
          "2023-05-24 06:30:00",
          "2023-05-24 07:00:00",
          "2023-05-24 07:30:00",
          "2023-05-24 08:00:00",
          "2023-05-24 08:30:00"
         ],
         "y": [
          26664.660765666184,
          26676.85380827233,
          26680.643570404634,
          26697.02792124016,
          26705.550571923766,
          26694.685013392173,
          26692.139101866323,
          26641.826083345175,
          26614.21861364605,
          26637.20477480131,
          26635.12299756471,
          26665.84563437113,
          26674.321882667282,
          26693.842449455056,
          26689.420185917767,
          26698.67424302363,
          26705.432562473874,
          26722.441187478627,
          26728.081426118875,
          26737.12889409726,
          26748.97864062503,
          26743.968433238664,
          26749.497354467996,
          26759.606471837455,
          26771.92984059428,
          26790.90986957714,
          26797.799438744933,
          26798.378177154944,
          26798.069872217682,
          26766.822168178103,
          26736.942228509357,
          26731.05500514402,
          26742.56091329965,
          26740.25392906335,
          26712.27912377911,
          26755.043374001085,
          26789.16730600089,
          26830.221886728003,
          26858.10654368655,
          26894.739899379903,
          26930.298099492647,
          26955.735717766715,
          26980.759223627312,
          26997.746637513257,
          27024.29724887448,
          27056.933203624576,
          27086.562621147375,
          27120.36987184785,
          27145.253531511884,
          27171.592889418815,
          27191.370091342662,
          27215.381892916725,
          27232.506094204597,
          27217.404986167396,
          27223.459534136957,
          27201.948709748423,
          27184.510762521433,
          27190.4333511539,
          27191.977741853192,
          27196.10769787988,
          27197.122207356264,
          27188.268624200588,
          27184.115237982292,
          27188.584740167338,
          27173.053423773268,
          27167.105983087225,
          27161.175349798636,
          27164.40983165343,
          27162.201680443715,
          27149.096829453953,
          27147.558315007776,
          27149.920439551817,
          27144.723995996945,
          27149.219633088407,
          27146.651972526877,
          27150.377522976534,
          27149.20479152626,
          27129.11710215785,
          27122.078992674604,
          27114.89644855195,
          27107.747094269776,
          27113.473077129816,
          27033.020699469846,
          26966.764663202604,
          26958.874269893044,
          26954.85349354885,
          26954.8824038127,
          26932.870603119478,
          26921.292766188664,
          26879.320445063455,
          26860.274909597374,
          26840.402653306945,
          26819.696261796587,
          26807.201486924478,
          26780.178489301845,
          26759.76149124697,
          26744.057583747515,
          26735.83711397524,
          26708.48809325247,
          26689.72934902475
         ]
        }
       ],
       "layout": {
        "autosize": false,
        "height": 600,
        "margin": {
         "b": 100,
         "l": 50,
         "pad": 4,
         "r": 50,
         "t": 50
        },
        "paper_bgcolor": "LightSteelBlue",
        "shapes": [
         {
          "line": {
           "color": "green",
           "dash": "dash",
           "width": 1
          },
          "type": "line",
          "x0": "2023-05-22 16:30:00",
          "x1": "2023-05-22 16:30:00",
          "y0": 26603.9,
          "y1": 27492
         }
        ],
        "template": {
         "data": {
          "bar": [
           {
            "error_x": {
             "color": "#2a3f5f"
            },
            "error_y": {
             "color": "#2a3f5f"
            },
            "marker": {
             "line": {
              "color": "#E5ECF6",
              "width": 0.5
             },
             "pattern": {
              "fillmode": "overlay",
              "size": 10,
              "solidity": 0.2
             }
            },
            "type": "bar"
           }
          ],
          "barpolar": [
           {
            "marker": {
             "line": {
              "color": "#E5ECF6",
              "width": 0.5
             },
             "pattern": {
              "fillmode": "overlay",
              "size": 10,
              "solidity": 0.2
             }
            },
            "type": "barpolar"
           }
          ],
          "carpet": [
           {
            "aaxis": {
             "endlinecolor": "#2a3f5f",
             "gridcolor": "white",
             "linecolor": "white",
             "minorgridcolor": "white",
             "startlinecolor": "#2a3f5f"
            },
            "baxis": {
             "endlinecolor": "#2a3f5f",
             "gridcolor": "white",
             "linecolor": "white",
             "minorgridcolor": "white",
             "startlinecolor": "#2a3f5f"
            },
            "type": "carpet"
           }
          ],
          "choropleth": [
           {
            "colorbar": {
             "outlinewidth": 0,
             "ticks": ""
            },
            "type": "choropleth"
           }
          ],
          "contour": [
           {
            "colorbar": {
             "outlinewidth": 0,
             "ticks": ""
            },
            "colorscale": [
             [
              0,
              "#0d0887"
             ],
             [
              0.1111111111111111,
              "#46039f"
             ],
             [
              0.2222222222222222,
              "#7201a8"
             ],
             [
              0.3333333333333333,
              "#9c179e"
             ],
             [
              0.4444444444444444,
              "#bd3786"
             ],
             [
              0.5555555555555556,
              "#d8576b"
             ],
             [
              0.6666666666666666,
              "#ed7953"
             ],
             [
              0.7777777777777778,
              "#fb9f3a"
             ],
             [
              0.8888888888888888,
              "#fdca26"
             ],
             [
              1,
              "#f0f921"
             ]
            ],
            "type": "contour"
           }
          ],
          "contourcarpet": [
           {
            "colorbar": {
             "outlinewidth": 0,
             "ticks": ""
            },
            "type": "contourcarpet"
           }
          ],
          "heatmap": [
           {
            "colorbar": {
             "outlinewidth": 0,
             "ticks": ""
            },
            "colorscale": [
             [
              0,
              "#0d0887"
             ],
             [
              0.1111111111111111,
              "#46039f"
             ],
             [
              0.2222222222222222,
              "#7201a8"
             ],
             [
              0.3333333333333333,
              "#9c179e"
             ],
             [
              0.4444444444444444,
              "#bd3786"
             ],
             [
              0.5555555555555556,
              "#d8576b"
             ],
             [
              0.6666666666666666,
              "#ed7953"
             ],
             [
              0.7777777777777778,
              "#fb9f3a"
             ],
             [
              0.8888888888888888,
              "#fdca26"
             ],
             [
              1,
              "#f0f921"
             ]
            ],
            "type": "heatmap"
           }
          ],
          "heatmapgl": [
           {
            "colorbar": {
             "outlinewidth": 0,
             "ticks": ""
            },
            "colorscale": [
             [
              0,
              "#0d0887"
             ],
             [
              0.1111111111111111,
              "#46039f"
             ],
             [
              0.2222222222222222,
              "#7201a8"
             ],
             [
              0.3333333333333333,
              "#9c179e"
             ],
             [
              0.4444444444444444,
              "#bd3786"
             ],
             [
              0.5555555555555556,
              "#d8576b"
             ],
             [
              0.6666666666666666,
              "#ed7953"
             ],
             [
              0.7777777777777778,
              "#fb9f3a"
             ],
             [
              0.8888888888888888,
              "#fdca26"
             ],
             [
              1,
              "#f0f921"
             ]
            ],
            "type": "heatmapgl"
           }
          ],
          "histogram": [
           {
            "marker": {
             "pattern": {
              "fillmode": "overlay",
              "size": 10,
              "solidity": 0.2
             }
            },
            "type": "histogram"
           }
          ],
          "histogram2d": [
           {
            "colorbar": {
             "outlinewidth": 0,
             "ticks": ""
            },
            "colorscale": [
             [
              0,
              "#0d0887"
             ],
             [
              0.1111111111111111,
              "#46039f"
             ],
             [
              0.2222222222222222,
              "#7201a8"
             ],
             [
              0.3333333333333333,
              "#9c179e"
             ],
             [
              0.4444444444444444,
              "#bd3786"
             ],
             [
              0.5555555555555556,
              "#d8576b"
             ],
             [
              0.6666666666666666,
              "#ed7953"
             ],
             [
              0.7777777777777778,
              "#fb9f3a"
             ],
             [
              0.8888888888888888,
              "#fdca26"
             ],
             [
              1,
              "#f0f921"
             ]
            ],
            "type": "histogram2d"
           }
          ],
          "histogram2dcontour": [
           {
            "colorbar": {
             "outlinewidth": 0,
             "ticks": ""
            },
            "colorscale": [
             [
              0,
              "#0d0887"
             ],
             [
              0.1111111111111111,
              "#46039f"
             ],
             [
              0.2222222222222222,
              "#7201a8"
             ],
             [
              0.3333333333333333,
              "#9c179e"
             ],
             [
              0.4444444444444444,
              "#bd3786"
             ],
             [
              0.5555555555555556,
              "#d8576b"
             ],
             [
              0.6666666666666666,
              "#ed7953"
             ],
             [
              0.7777777777777778,
              "#fb9f3a"
             ],
             [
              0.8888888888888888,
              "#fdca26"
             ],
             [
              1,
              "#f0f921"
             ]
            ],
            "type": "histogram2dcontour"
           }
          ],
          "mesh3d": [
           {
            "colorbar": {
             "outlinewidth": 0,
             "ticks": ""
            },
            "type": "mesh3d"
           }
          ],
          "parcoords": [
           {
            "line": {
             "colorbar": {
              "outlinewidth": 0,
              "ticks": ""
             }
            },
            "type": "parcoords"
           }
          ],
          "pie": [
           {
            "automargin": true,
            "type": "pie"
           }
          ],
          "scatter": [
           {
            "fillpattern": {
             "fillmode": "overlay",
             "size": 10,
             "solidity": 0.2
            },
            "type": "scatter"
           }
          ],
          "scatter3d": [
           {
            "line": {
             "colorbar": {
              "outlinewidth": 0,
              "ticks": ""
             }
            },
            "marker": {
             "colorbar": {
              "outlinewidth": 0,
              "ticks": ""
             }
            },
            "type": "scatter3d"
           }
          ],
          "scattercarpet": [
           {
            "marker": {
             "colorbar": {
              "outlinewidth": 0,
              "ticks": ""
             }
            },
            "type": "scattercarpet"
           }
          ],
          "scattergeo": [
           {
            "marker": {
             "colorbar": {
              "outlinewidth": 0,
              "ticks": ""
             }
            },
            "type": "scattergeo"
           }
          ],
          "scattergl": [
           {
            "marker": {
             "colorbar": {
              "outlinewidth": 0,
              "ticks": ""
             }
            },
            "type": "scattergl"
           }
          ],
          "scattermapbox": [
           {
            "marker": {
             "colorbar": {
              "outlinewidth": 0,
              "ticks": ""
             }
            },
            "type": "scattermapbox"
           }
          ],
          "scatterpolar": [
           {
            "marker": {
             "colorbar": {
              "outlinewidth": 0,
              "ticks": ""
             }
            },
            "type": "scatterpolar"
           }
          ],
          "scatterpolargl": [
           {
            "marker": {
             "colorbar": {
              "outlinewidth": 0,
              "ticks": ""
             }
            },
            "type": "scatterpolargl"
           }
          ],
          "scatterternary": [
           {
            "marker": {
             "colorbar": {
              "outlinewidth": 0,
              "ticks": ""
             }
            },
            "type": "scatterternary"
           }
          ],
          "surface": [
           {
            "colorbar": {
             "outlinewidth": 0,
             "ticks": ""
            },
            "colorscale": [
             [
              0,
              "#0d0887"
             ],
             [
              0.1111111111111111,
              "#46039f"
             ],
             [
              0.2222222222222222,
              "#7201a8"
             ],
             [
              0.3333333333333333,
              "#9c179e"
             ],
             [
              0.4444444444444444,
              "#bd3786"
             ],
             [
              0.5555555555555556,
              "#d8576b"
             ],
             [
              0.6666666666666666,
              "#ed7953"
             ],
             [
              0.7777777777777778,
              "#fb9f3a"
             ],
             [
              0.8888888888888888,
              "#fdca26"
             ],
             [
              1,
              "#f0f921"
             ]
            ],
            "type": "surface"
           }
          ],
          "table": [
           {
            "cells": {
             "fill": {
              "color": "#EBF0F8"
             },
             "line": {
              "color": "white"
             }
            },
            "header": {
             "fill": {
              "color": "#C8D4E3"
             },
             "line": {
              "color": "white"
             }
            },
            "type": "table"
           }
          ]
         },
         "layout": {
          "annotationdefaults": {
           "arrowcolor": "#2a3f5f",
           "arrowhead": 0,
           "arrowwidth": 1
          },
          "autotypenumbers": "strict",
          "coloraxis": {
           "colorbar": {
            "outlinewidth": 0,
            "ticks": ""
           }
          },
          "colorscale": {
           "diverging": [
            [
             0,
             "#8e0152"
            ],
            [
             0.1,
             "#c51b7d"
            ],
            [
             0.2,
             "#de77ae"
            ],
            [
             0.3,
             "#f1b6da"
            ],
            [
             0.4,
             "#fde0ef"
            ],
            [
             0.5,
             "#f7f7f7"
            ],
            [
             0.6,
             "#e6f5d0"
            ],
            [
             0.7,
             "#b8e186"
            ],
            [
             0.8,
             "#7fbc41"
            ],
            [
             0.9,
             "#4d9221"
            ],
            [
             1,
             "#276419"
            ]
           ],
           "sequential": [
            [
             0,
             "#0d0887"
            ],
            [
             0.1111111111111111,
             "#46039f"
            ],
            [
             0.2222222222222222,
             "#7201a8"
            ],
            [
             0.3333333333333333,
             "#9c179e"
            ],
            [
             0.4444444444444444,
             "#bd3786"
            ],
            [
             0.5555555555555556,
             "#d8576b"
            ],
            [
             0.6666666666666666,
             "#ed7953"
            ],
            [
             0.7777777777777778,
             "#fb9f3a"
            ],
            [
             0.8888888888888888,
             "#fdca26"
            ],
            [
             1,
             "#f0f921"
            ]
           ],
           "sequentialminus": [
            [
             0,
             "#0d0887"
            ],
            [
             0.1111111111111111,
             "#46039f"
            ],
            [
             0.2222222222222222,
             "#7201a8"
            ],
            [
             0.3333333333333333,
             "#9c179e"
            ],
            [
             0.4444444444444444,
             "#bd3786"
            ],
            [
             0.5555555555555556,
             "#d8576b"
            ],
            [
             0.6666666666666666,
             "#ed7953"
            ],
            [
             0.7777777777777778,
             "#fb9f3a"
            ],
            [
             0.8888888888888888,
             "#fdca26"
            ],
            [
             1,
             "#f0f921"
            ]
           ]
          },
          "colorway": [
           "#636efa",
           "#EF553B",
           "#00cc96",
           "#ab63fa",
           "#FFA15A",
           "#19d3f3",
           "#FF6692",
           "#B6E880",
           "#FF97FF",
           "#FECB52"
          ],
          "font": {
           "color": "#2a3f5f"
          },
          "geo": {
           "bgcolor": "white",
           "lakecolor": "white",
           "landcolor": "#E5ECF6",
           "showlakes": true,
           "showland": true,
           "subunitcolor": "white"
          },
          "hoverlabel": {
           "align": "left"
          },
          "hovermode": "closest",
          "mapbox": {
           "style": "light"
          },
          "paper_bgcolor": "white",
          "plot_bgcolor": "#E5ECF6",
          "polar": {
           "angularaxis": {
            "gridcolor": "white",
            "linecolor": "white",
            "ticks": ""
           },
           "bgcolor": "#E5ECF6",
           "radialaxis": {
            "gridcolor": "white",
            "linecolor": "white",
            "ticks": ""
           }
          },
          "scene": {
           "xaxis": {
            "backgroundcolor": "#E5ECF6",
            "gridcolor": "white",
            "gridwidth": 2,
            "linecolor": "white",
            "showbackground": true,
            "ticks": "",
            "zerolinecolor": "white"
           },
           "yaxis": {
            "backgroundcolor": "#E5ECF6",
            "gridcolor": "white",
            "gridwidth": 2,
            "linecolor": "white",
            "showbackground": true,
            "ticks": "",
            "zerolinecolor": "white"
           },
           "zaxis": {
            "backgroundcolor": "#E5ECF6",
            "gridcolor": "white",
            "gridwidth": 2,
            "linecolor": "white",
            "showbackground": true,
            "ticks": "",
            "zerolinecolor": "white"
           }
          },
          "shapedefaults": {
           "line": {
            "color": "#2a3f5f"
           }
          },
          "ternary": {
           "aaxis": {
            "gridcolor": "white",
            "linecolor": "white",
            "ticks": ""
           },
           "baxis": {
            "gridcolor": "white",
            "linecolor": "white",
            "ticks": ""
           },
           "bgcolor": "#E5ECF6",
           "caxis": {
            "gridcolor": "white",
            "linecolor": "white",
            "ticks": ""
           }
          },
          "title": {
           "x": 0.05
          },
          "xaxis": {
           "automargin": true,
           "gridcolor": "white",
           "linecolor": "white",
           "ticks": "",
           "title": {
            "standoff": 15
           },
           "zerolinecolor": "white",
           "zerolinewidth": 2
          },
          "yaxis": {
           "automargin": true,
           "gridcolor": "white",
           "linecolor": "white",
           "ticks": "",
           "title": {
            "standoff": 15
           },
           "zerolinecolor": "white",
           "zerolinewidth": 2
          }
         }
        },
        "title": {
         "text": "BTC 30m"
        },
        "width": 1500,
        "xaxis": {
         "rangeslider": {
          "visible": false
         },
         "type": "category"
        }
       }
      }
     },
     "metadata": {},
     "output_type": "display_data"
    },
    {
     "data": {
      "application/vnd.plotly.v1+json": {
       "config": {
        "plotlyServerURL": "https://plotly.com"
       },
       "data": [
        {
         "name": "squeeze",
         "type": "bar",
         "x": [
          "2023-05-22 07:00:00",
          "2023-05-22 07:30:00",
          "2023-05-22 08:00:00",
          "2023-05-22 08:30:00",
          "2023-05-22 09:00:00",
          "2023-05-22 09:30:00",
          "2023-05-22 10:00:00",
          "2023-05-22 10:30:00",
          "2023-05-22 11:00:00",
          "2023-05-22 11:30:00",
          "2023-05-22 12:00:00",
          "2023-05-22 12:30:00",
          "2023-05-22 13:00:00",
          "2023-05-22 13:30:00",
          "2023-05-22 14:00:00",
          "2023-05-22 14:30:00",
          "2023-05-22 15:00:00",
          "2023-05-22 15:30:00",
          "2023-05-22 16:00:00",
          "2023-05-22 16:30:00",
          "2023-05-22 17:00:00",
          "2023-05-22 17:30:00",
          "2023-05-22 18:00:00",
          "2023-05-22 18:30:00",
          "2023-05-22 19:00:00",
          "2023-05-22 19:30:00",
          "2023-05-22 20:00:00",
          "2023-05-22 20:30:00",
          "2023-05-22 21:00:00",
          "2023-05-22 21:30:00",
          "2023-05-22 22:00:00",
          "2023-05-22 22:30:00",
          "2023-05-22 23:00:00",
          "2023-05-22 23:30:00",
          "2023-05-23 00:00:00",
          "2023-05-23 00:30:00",
          "2023-05-23 01:00:00",
          "2023-05-23 01:30:00",
          "2023-05-23 02:00:00",
          "2023-05-23 02:30:00",
          "2023-05-23 03:00:00",
          "2023-05-23 03:30:00",
          "2023-05-23 04:00:00",
          "2023-05-23 04:30:00",
          "2023-05-23 05:00:00",
          "2023-05-23 05:30:00",
          "2023-05-23 06:00:00",
          "2023-05-23 06:30:00",
          "2023-05-23 07:00:00",
          "2023-05-23 07:30:00",
          "2023-05-23 08:00:00",
          "2023-05-23 08:30:00",
          "2023-05-23 09:00:00",
          "2023-05-23 09:30:00",
          "2023-05-23 10:00:00",
          "2023-05-23 10:30:00",
          "2023-05-23 11:00:00",
          "2023-05-23 11:30:00",
          "2023-05-23 12:00:00",
          "2023-05-23 12:30:00",
          "2023-05-23 13:00:00",
          "2023-05-23 13:30:00",
          "2023-05-23 14:00:00",
          "2023-05-23 14:30:00",
          "2023-05-23 15:00:00",
          "2023-05-23 15:30:00",
          "2023-05-23 16:00:00",
          "2023-05-23 16:30:00",
          "2023-05-23 17:00:00",
          "2023-05-23 17:30:00",
          "2023-05-23 18:00:00",
          "2023-05-23 18:30:00",
          "2023-05-23 19:00:00",
          "2023-05-23 19:30:00",
          "2023-05-23 20:00:00",
          "2023-05-23 20:30:00",
          "2023-05-23 21:00:00",
          "2023-05-23 21:30:00",
          "2023-05-23 22:00:00",
          "2023-05-23 22:30:00",
          "2023-05-23 23:00:00",
          "2023-05-23 23:30:00",
          "2023-05-24 00:00:00",
          "2023-05-24 00:30:00",
          "2023-05-24 01:00:00",
          "2023-05-24 01:30:00",
          "2023-05-24 02:00:00",
          "2023-05-24 02:30:00",
          "2023-05-24 03:00:00",
          "2023-05-24 03:30:00",
          "2023-05-24 04:00:00",
          "2023-05-24 04:30:00",
          "2023-05-24 05:00:00",
          "2023-05-24 05:30:00",
          "2023-05-24 06:00:00",
          "2023-05-24 06:30:00",
          "2023-05-24 07:00:00",
          "2023-05-24 07:30:00",
          "2023-05-24 08:00:00",
          "2023-05-24 08:30:00"
         ],
         "y": [
          180.4889642857138,
          179.67189285714252,
          171.39021428571493,
          157.43985714285748,
          141.2917142857146,
          105.888178571429,
          79.83749999999996,
          83.87221428571382,
          74.22935714285697,
          64.23810714285779,
          37.640285714286094,
          17.209464285714404,
          10.36350000000057,
          -1.2915357142862547,
          -22.912892857143362,
          -32.406535714286576,
          -25.879250000000326,
          -28.808892857143093,
          -34.32482142857192,
          -33.8600714285722,
          -38.47675000000048,
          -31.43264285714279,
          -24.148464285713516,
          -17.04292857142797,
          -14.811071428570994,
          -25.285321428570676,
          -39.139035714284894,
          -32.461714285713306,
          -22.164107142856366,
          -20.66257142856989,
          -1.4109999999989071,
          17.186464285715257,
          42.627928571430225,
          77.71114285714437,
          126.3980714285726,
          178.1212142857154,
          232.06950000000123,
          273.7556071428585,
          301.6321071428578,
          326.1154642857145,
          334.97328571428585,
          331.96960714285757,
          319.6358928571434,
          310.88789285714245,
          293.9809642857132,
          279.54632142856997,
          248.50185714285638,
          211.66735714285653,
          182.3391428571424,
          146.04932142857075,
          112.91960714285665,
          78.02832142857079,
          54.258714285713154,
          13.156035714284656,
          -18.937535714286184,
          -47.734535714286324,
          -59.23203571428587,
          -61.491785714285356,
          -59.101428571427846,
          -52.52399999999935,
          -52.080749999999085,
          -63.7459285714277,
          -81.93932142857022,
          -92.47567857142852,
          -112.65239285714253,
          -122.49614285714307,
          -125.14589285714253,
          -125.75310714285689,
          -122.9982857142852,
          -108.61835714285655,
          -97.79649999999957,
          -86.90228571428527,
          -70.50885714285691,
          -64.02500000000035,
          -51.36839285714273,
          -47.74357142857136,
          -40.27007142857088,
          -39.729357142856884,
          -32.83642857142791,
          -29.296821428571214,
          -20.856142857142316,
          -15.430642857142203,
          -43.888249999999275,
          -85.68246428571334,
          -133.849071428571,
          -168.6187499999996,
          -192.7000714285714,
          -220.17128571428583,
          -250.44471428571376,
          -273.807357142857,
          -291.1782857142863,
          -310.16510714285874,
          -313.56742857143036,
          -308.14803571428797,
          -284.3408214285733,
          -265.918107142859,
          -249.34364285714423,
          -230.63225000000057,
          -212.49907142857208,
          -183.83739285714347
         ]
        }
       ],
       "layout": {
        "autosize": false,
        "height": 300,
        "margin": {
         "b": 1,
         "l": 50,
         "pad": 4,
         "r": 150,
         "t": 10
        },
        "paper_bgcolor": "LightSteelBlue",
        "shapes": [
         {
          "line": {
           "color": "green",
           "dash": "dash",
           "width": 1
          },
          "type": "line",
          "x0": "2023-05-22 16:30:00",
          "x1": "2023-05-22 16:30:00",
          "y0": -313.56742857143036,
          "y1": 334.97328571428585
         }
        ],
        "template": {
         "data": {
          "bar": [
           {
            "error_x": {
             "color": "#2a3f5f"
            },
            "error_y": {
             "color": "#2a3f5f"
            },
            "marker": {
             "line": {
              "color": "#E5ECF6",
              "width": 0.5
             },
             "pattern": {
              "fillmode": "overlay",
              "size": 10,
              "solidity": 0.2
             }
            },
            "type": "bar"
           }
          ],
          "barpolar": [
           {
            "marker": {
             "line": {
              "color": "#E5ECF6",
              "width": 0.5
             },
             "pattern": {
              "fillmode": "overlay",
              "size": 10,
              "solidity": 0.2
             }
            },
            "type": "barpolar"
           }
          ],
          "carpet": [
           {
            "aaxis": {
             "endlinecolor": "#2a3f5f",
             "gridcolor": "white",
             "linecolor": "white",
             "minorgridcolor": "white",
             "startlinecolor": "#2a3f5f"
            },
            "baxis": {
             "endlinecolor": "#2a3f5f",
             "gridcolor": "white",
             "linecolor": "white",
             "minorgridcolor": "white",
             "startlinecolor": "#2a3f5f"
            },
            "type": "carpet"
           }
          ],
          "choropleth": [
           {
            "colorbar": {
             "outlinewidth": 0,
             "ticks": ""
            },
            "type": "choropleth"
           }
          ],
          "contour": [
           {
            "colorbar": {
             "outlinewidth": 0,
             "ticks": ""
            },
            "colorscale": [
             [
              0,
              "#0d0887"
             ],
             [
              0.1111111111111111,
              "#46039f"
             ],
             [
              0.2222222222222222,
              "#7201a8"
             ],
             [
              0.3333333333333333,
              "#9c179e"
             ],
             [
              0.4444444444444444,
              "#bd3786"
             ],
             [
              0.5555555555555556,
              "#d8576b"
             ],
             [
              0.6666666666666666,
              "#ed7953"
             ],
             [
              0.7777777777777778,
              "#fb9f3a"
             ],
             [
              0.8888888888888888,
              "#fdca26"
             ],
             [
              1,
              "#f0f921"
             ]
            ],
            "type": "contour"
           }
          ],
          "contourcarpet": [
           {
            "colorbar": {
             "outlinewidth": 0,
             "ticks": ""
            },
            "type": "contourcarpet"
           }
          ],
          "heatmap": [
           {
            "colorbar": {
             "outlinewidth": 0,
             "ticks": ""
            },
            "colorscale": [
             [
              0,
              "#0d0887"
             ],
             [
              0.1111111111111111,
              "#46039f"
             ],
             [
              0.2222222222222222,
              "#7201a8"
             ],
             [
              0.3333333333333333,
              "#9c179e"
             ],
             [
              0.4444444444444444,
              "#bd3786"
             ],
             [
              0.5555555555555556,
              "#d8576b"
             ],
             [
              0.6666666666666666,
              "#ed7953"
             ],
             [
              0.7777777777777778,
              "#fb9f3a"
             ],
             [
              0.8888888888888888,
              "#fdca26"
             ],
             [
              1,
              "#f0f921"
             ]
            ],
            "type": "heatmap"
           }
          ],
          "heatmapgl": [
           {
            "colorbar": {
             "outlinewidth": 0,
             "ticks": ""
            },
            "colorscale": [
             [
              0,
              "#0d0887"
             ],
             [
              0.1111111111111111,
              "#46039f"
             ],
             [
              0.2222222222222222,
              "#7201a8"
             ],
             [
              0.3333333333333333,
              "#9c179e"
             ],
             [
              0.4444444444444444,
              "#bd3786"
             ],
             [
              0.5555555555555556,
              "#d8576b"
             ],
             [
              0.6666666666666666,
              "#ed7953"
             ],
             [
              0.7777777777777778,
              "#fb9f3a"
             ],
             [
              0.8888888888888888,
              "#fdca26"
             ],
             [
              1,
              "#f0f921"
             ]
            ],
            "type": "heatmapgl"
           }
          ],
          "histogram": [
           {
            "marker": {
             "pattern": {
              "fillmode": "overlay",
              "size": 10,
              "solidity": 0.2
             }
            },
            "type": "histogram"
           }
          ],
          "histogram2d": [
           {
            "colorbar": {
             "outlinewidth": 0,
             "ticks": ""
            },
            "colorscale": [
             [
              0,
              "#0d0887"
             ],
             [
              0.1111111111111111,
              "#46039f"
             ],
             [
              0.2222222222222222,
              "#7201a8"
             ],
             [
              0.3333333333333333,
              "#9c179e"
             ],
             [
              0.4444444444444444,
              "#bd3786"
             ],
             [
              0.5555555555555556,
              "#d8576b"
             ],
             [
              0.6666666666666666,
              "#ed7953"
             ],
             [
              0.7777777777777778,
              "#fb9f3a"
             ],
             [
              0.8888888888888888,
              "#fdca26"
             ],
             [
              1,
              "#f0f921"
             ]
            ],
            "type": "histogram2d"
           }
          ],
          "histogram2dcontour": [
           {
            "colorbar": {
             "outlinewidth": 0,
             "ticks": ""
            },
            "colorscale": [
             [
              0,
              "#0d0887"
             ],
             [
              0.1111111111111111,
              "#46039f"
             ],
             [
              0.2222222222222222,
              "#7201a8"
             ],
             [
              0.3333333333333333,
              "#9c179e"
             ],
             [
              0.4444444444444444,
              "#bd3786"
             ],
             [
              0.5555555555555556,
              "#d8576b"
             ],
             [
              0.6666666666666666,
              "#ed7953"
             ],
             [
              0.7777777777777778,
              "#fb9f3a"
             ],
             [
              0.8888888888888888,
              "#fdca26"
             ],
             [
              1,
              "#f0f921"
             ]
            ],
            "type": "histogram2dcontour"
           }
          ],
          "mesh3d": [
           {
            "colorbar": {
             "outlinewidth": 0,
             "ticks": ""
            },
            "type": "mesh3d"
           }
          ],
          "parcoords": [
           {
            "line": {
             "colorbar": {
              "outlinewidth": 0,
              "ticks": ""
             }
            },
            "type": "parcoords"
           }
          ],
          "pie": [
           {
            "automargin": true,
            "type": "pie"
           }
          ],
          "scatter": [
           {
            "fillpattern": {
             "fillmode": "overlay",
             "size": 10,
             "solidity": 0.2
            },
            "type": "scatter"
           }
          ],
          "scatter3d": [
           {
            "line": {
             "colorbar": {
              "outlinewidth": 0,
              "ticks": ""
             }
            },
            "marker": {
             "colorbar": {
              "outlinewidth": 0,
              "ticks": ""
             }
            },
            "type": "scatter3d"
           }
          ],
          "scattercarpet": [
           {
            "marker": {
             "colorbar": {
              "outlinewidth": 0,
              "ticks": ""
             }
            },
            "type": "scattercarpet"
           }
          ],
          "scattergeo": [
           {
            "marker": {
             "colorbar": {
              "outlinewidth": 0,
              "ticks": ""
             }
            },
            "type": "scattergeo"
           }
          ],
          "scattergl": [
           {
            "marker": {
             "colorbar": {
              "outlinewidth": 0,
              "ticks": ""
             }
            },
            "type": "scattergl"
           }
          ],
          "scattermapbox": [
           {
            "marker": {
             "colorbar": {
              "outlinewidth": 0,
              "ticks": ""
             }
            },
            "type": "scattermapbox"
           }
          ],
          "scatterpolar": [
           {
            "marker": {
             "colorbar": {
              "outlinewidth": 0,
              "ticks": ""
             }
            },
            "type": "scatterpolar"
           }
          ],
          "scatterpolargl": [
           {
            "marker": {
             "colorbar": {
              "outlinewidth": 0,
              "ticks": ""
             }
            },
            "type": "scatterpolargl"
           }
          ],
          "scatterternary": [
           {
            "marker": {
             "colorbar": {
              "outlinewidth": 0,
              "ticks": ""
             }
            },
            "type": "scatterternary"
           }
          ],
          "surface": [
           {
            "colorbar": {
             "outlinewidth": 0,
             "ticks": ""
            },
            "colorscale": [
             [
              0,
              "#0d0887"
             ],
             [
              0.1111111111111111,
              "#46039f"
             ],
             [
              0.2222222222222222,
              "#7201a8"
             ],
             [
              0.3333333333333333,
              "#9c179e"
             ],
             [
              0.4444444444444444,
              "#bd3786"
             ],
             [
              0.5555555555555556,
              "#d8576b"
             ],
             [
              0.6666666666666666,
              "#ed7953"
             ],
             [
              0.7777777777777778,
              "#fb9f3a"
             ],
             [
              0.8888888888888888,
              "#fdca26"
             ],
             [
              1,
              "#f0f921"
             ]
            ],
            "type": "surface"
           }
          ],
          "table": [
           {
            "cells": {
             "fill": {
              "color": "#EBF0F8"
             },
             "line": {
              "color": "white"
             }
            },
            "header": {
             "fill": {
              "color": "#C8D4E3"
             },
             "line": {
              "color": "white"
             }
            },
            "type": "table"
           }
          ]
         },
         "layout": {
          "annotationdefaults": {
           "arrowcolor": "#2a3f5f",
           "arrowhead": 0,
           "arrowwidth": 1
          },
          "autotypenumbers": "strict",
          "coloraxis": {
           "colorbar": {
            "outlinewidth": 0,
            "ticks": ""
           }
          },
          "colorscale": {
           "diverging": [
            [
             0,
             "#8e0152"
            ],
            [
             0.1,
             "#c51b7d"
            ],
            [
             0.2,
             "#de77ae"
            ],
            [
             0.3,
             "#f1b6da"
            ],
            [
             0.4,
             "#fde0ef"
            ],
            [
             0.5,
             "#f7f7f7"
            ],
            [
             0.6,
             "#e6f5d0"
            ],
            [
             0.7,
             "#b8e186"
            ],
            [
             0.8,
             "#7fbc41"
            ],
            [
             0.9,
             "#4d9221"
            ],
            [
             1,
             "#276419"
            ]
           ],
           "sequential": [
            [
             0,
             "#0d0887"
            ],
            [
             0.1111111111111111,
             "#46039f"
            ],
            [
             0.2222222222222222,
             "#7201a8"
            ],
            [
             0.3333333333333333,
             "#9c179e"
            ],
            [
             0.4444444444444444,
             "#bd3786"
            ],
            [
             0.5555555555555556,
             "#d8576b"
            ],
            [
             0.6666666666666666,
             "#ed7953"
            ],
            [
             0.7777777777777778,
             "#fb9f3a"
            ],
            [
             0.8888888888888888,
             "#fdca26"
            ],
            [
             1,
             "#f0f921"
            ]
           ],
           "sequentialminus": [
            [
             0,
             "#0d0887"
            ],
            [
             0.1111111111111111,
             "#46039f"
            ],
            [
             0.2222222222222222,
             "#7201a8"
            ],
            [
             0.3333333333333333,
             "#9c179e"
            ],
            [
             0.4444444444444444,
             "#bd3786"
            ],
            [
             0.5555555555555556,
             "#d8576b"
            ],
            [
             0.6666666666666666,
             "#ed7953"
            ],
            [
             0.7777777777777778,
             "#fb9f3a"
            ],
            [
             0.8888888888888888,
             "#fdca26"
            ],
            [
             1,
             "#f0f921"
            ]
           ]
          },
          "colorway": [
           "#636efa",
           "#EF553B",
           "#00cc96",
           "#ab63fa",
           "#FFA15A",
           "#19d3f3",
           "#FF6692",
           "#B6E880",
           "#FF97FF",
           "#FECB52"
          ],
          "font": {
           "color": "#2a3f5f"
          },
          "geo": {
           "bgcolor": "white",
           "lakecolor": "white",
           "landcolor": "#E5ECF6",
           "showlakes": true,
           "showland": true,
           "subunitcolor": "white"
          },
          "hoverlabel": {
           "align": "left"
          },
          "hovermode": "closest",
          "mapbox": {
           "style": "light"
          },
          "paper_bgcolor": "white",
          "plot_bgcolor": "#E5ECF6",
          "polar": {
           "angularaxis": {
            "gridcolor": "white",
            "linecolor": "white",
            "ticks": ""
           },
           "bgcolor": "#E5ECF6",
           "radialaxis": {
            "gridcolor": "white",
            "linecolor": "white",
            "ticks": ""
           }
          },
          "scene": {
           "xaxis": {
            "backgroundcolor": "#E5ECF6",
            "gridcolor": "white",
            "gridwidth": 2,
            "linecolor": "white",
            "showbackground": true,
            "ticks": "",
            "zerolinecolor": "white"
           },
           "yaxis": {
            "backgroundcolor": "#E5ECF6",
            "gridcolor": "white",
            "gridwidth": 2,
            "linecolor": "white",
            "showbackground": true,
            "ticks": "",
            "zerolinecolor": "white"
           },
           "zaxis": {
            "backgroundcolor": "#E5ECF6",
            "gridcolor": "white",
            "gridwidth": 2,
            "linecolor": "white",
            "showbackground": true,
            "ticks": "",
            "zerolinecolor": "white"
           }
          },
          "shapedefaults": {
           "line": {
            "color": "#2a3f5f"
           }
          },
          "ternary": {
           "aaxis": {
            "gridcolor": "white",
            "linecolor": "white",
            "ticks": ""
           },
           "baxis": {
            "gridcolor": "white",
            "linecolor": "white",
            "ticks": ""
           },
           "bgcolor": "#E5ECF6",
           "caxis": {
            "gridcolor": "white",
            "linecolor": "white",
            "ticks": ""
           }
          },
          "title": {
           "x": 0.05
          },
          "xaxis": {
           "automargin": true,
           "gridcolor": "white",
           "linecolor": "white",
           "ticks": "",
           "title": {
            "standoff": 15
           },
           "zerolinecolor": "white",
           "zerolinewidth": 2
          },
          "yaxis": {
           "automargin": true,
           "gridcolor": "white",
           "linecolor": "white",
           "ticks": "",
           "title": {
            "standoff": 15
           },
           "zerolinecolor": "white",
           "zerolinewidth": 2
          }
         }
        },
        "width": 1500
       }
      }
     },
     "metadata": {},
     "output_type": "display_data"
    },
    {
     "data": {
      "application/vnd.plotly.v1+json": {
       "config": {
        "plotlyServerURL": "https://plotly.com"
       },
       "data": [
        {
         "close": [
          27331.9,
          27328.6,
          27338.8,
          27359.5,
          27384.1,
          27298.5,
          27285.7,
          27273.5,
          27269.4,
          27227.4,
          27235.8,
          27274.2,
          27290.2,
          27333,
          27320.7,
          27296,
          27322.9,
          27320.7,
          27319.5,
          27307.2,
          27276.6,
          27233.8,
          27228.9,
          27252.2,
          27199.1,
          27212.9,
          27202.6,
          27194.4,
          27125.9,
          27175.8,
          27136.7,
          27173.1,
          27174.7,
          27192.8,
          27181.4,
          27199.8,
          27169.3,
          27192,
          27213.2,
          27232.8,
          27204.5,
          27187.2,
          27196.8,
          27217.3,
          27195.7,
          27190.1,
          27192.5,
          27199,
          27245.5,
          27216.5,
          27215.5,
          27200.2,
          27209.9,
          27161.4,
          27152.8,
          27181.8,
          27166.2,
          27177.2,
          27133.9,
          27155,
          27158.2,
          27153.8,
          27157.9,
          27095.8,
          26921.9,
          26740.5,
          26777.9,
          26710,
          26750.8,
          26781.2,
          26794.5,
          26801.1,
          26810,
          26761.1,
          26766.3,
          26729.9,
          26731.4,
          26734.9,
          26700.2,
          26746,
          26704.5,
          26693.4,
          26668.1,
          26695.9,
          26720,
          26724.1,
          26739.5,
          26749.5,
          26786.5,
          26786.5,
          26742.9,
          26740.4,
          26710.7,
          26720,
          26720.2,
          26694.8,
          26686.7,
          26708.6,
          26734.3,
          26711.5
         ],
         "high": [
          27331.9,
          27336.2,
          27349.2,
          27367,
          27384.1,
          27385.6,
          27310,
          27298.4,
          27298.4,
          27306,
          27254.7,
          27286.4,
          27357.5,
          27336.4,
          27333.8,
          27329.2,
          27358.9,
          27342.8,
          27327,
          27327,
          27307.3,
          27292.2,
          27251.5,
          27269.1,
          27265.8,
          27226.4,
          27218.1,
          27218.2,
          27197.4,
          27185.2,
          27175.9,
          27173.1,
          27176.7,
          27215.6,
          27216.7,
          27216.6,
          27199.8,
          27194.5,
          27239.8,
          27235.5,
          27232.8,
          27213.9,
          27212.4,
          27217.7,
          27217.4,
          27195.7,
          27202.2,
          27213.8,
          27245.7,
          27245.5,
          27216.8,
          27215.8,
          27209.9,
          27212.4,
          27162.8,
          27181.8,
          27181.8,
          27177.3,
          27177.4,
          27155.1,
          27164.1,
          27158.2,
          27166,
          27159.3,
          27102,
          26921.9,
          26793.5,
          26781.1,
          26750.8,
          26806.5,
          26797.5,
          26811.2,
          26815,
          26810,
          26768.9,
          26766.3,
          26748.6,
          26749.4,
          26734.9,
          26746.3,
          26746.9,
          26707,
          26693.4,
          26710.8,
          26736.5,
          26744.9,
          26739.5,
          26751.5,
          26824.6,
          26800,
          26789.1,
          26754.6,
          26740.4,
          26732,
          26724.9,
          26720.7,
          26755,
          26716.6,
          26736.5,
          26734.4
         ],
         "low": [
          27305.3,
          27308,
          27317.3,
          27323.3,
          27346,
          27293.6,
          27240,
          27258.7,
          27256.8,
          27200.1,
          27181.9,
          27232.6,
          27260.5,
          27281.7,
          27298,
          27293.3,
          27295.6,
          27292.1,
          27306.4,
          27271.8,
          27273,
          27219.7,
          27201.4,
          27228.5,
          27190.4,
          27188.9,
          27186,
          27194.4,
          27122.2,
          27125.8,
          27132,
          27105,
          27155.3,
          27174.7,
          27179.4,
          27174.9,
          27168.9,
          27150.1,
          27185.7,
          27185.7,
          27204.4,
          27184.3,
          27187.1,
          27175.2,
          27187,
          27180.6,
          27181.1,
          27191.6,
          27193,
          27216.3,
          27212.9,
          27196.3,
          27179.4,
          27151,
          27124.6,
          27132,
          27148.4,
          27138.3,
          27132.9,
          27108.8,
          27153.8,
          27148.4,
          27150.4,
          27057.9,
          26869.7,
          26667,
          26696.5,
          26706.8,
          26701.1,
          26741.9,
          26744.7,
          26782.4,
          26778.1,
          26738,
          26713.7,
          26715,
          26711.6,
          26708.1,
          26603.9,
          26672.2,
          26676.5,
          26657,
          26638.5,
          26659.6,
          26694.3,
          26711.3,
          26696,
          26730.3,
          26743.4,
          26761.5,
          26729.7,
          26729.7,
          26708.6,
          26707.4,
          26712.1,
          26686.1,
          26677.8,
          26673.9,
          26708.5,
          26676.8
         ],
         "open": [
          27307,
          27331.9,
          27328.6,
          27338.8,
          27359.5,
          27384.1,
          27298.5,
          27285.7,
          27273.5,
          27269.4,
          27227.4,
          27235.8,
          27274.2,
          27290.2,
          27333,
          27320.7,
          27296,
          27322.9,
          27320.7,
          27319.5,
          27307.2,
          27276.6,
          27233.8,
          27228.9,
          27252.2,
          27199.1,
          27212.9,
          27202.6,
          27194.4,
          27125.9,
          27175.9,
          27136.7,
          27173.1,
          27174.7,
          27192.8,
          27181.4,
          27199.8,
          27169.3,
          27192,
          27213.2,
          27232.8,
          27204.5,
          27187.2,
          27196.8,
          27217.3,
          27195.7,
          27190.1,
          27192.5,
          27199,
          27245.5,
          27216.5,
          27215.5,
          27200.2,
          27209.9,
          27161.4,
          27152.8,
          27181.8,
          27166.2,
          27177.2,
          27133.9,
          27155,
          27158.2,
          27153.8,
          27157.9,
          27095.8,
          26921.9,
          26740.5,
          26777.9,
          26710,
          26750.8,
          26781.2,
          26794.5,
          26801.1,
          26810,
          26761.1,
          26766.3,
          26729.9,
          26731.4,
          26734.9,
          26700.2,
          26746,
          26704.5,
          26693.4,
          26668.1,
          26695.9,
          26719.9,
          26724.1,
          26739.5,
          26749.5,
          26786.5,
          26786.5,
          26742.9,
          26740.4,
          26710.7,
          26720,
          26720.2,
          26694.8,
          26686.7,
          26708.6,
          26734.3
         ],
         "type": "candlestick",
         "x": [
          "2023-05-23 08:15:00",
          "2023-05-23 08:30:00",
          "2023-05-23 08:45:00",
          "2023-05-23 09:00:00",
          "2023-05-23 09:15:00",
          "2023-05-23 09:30:00",
          "2023-05-23 09:45:00",
          "2023-05-23 10:00:00",
          "2023-05-23 10:15:00",
          "2023-05-23 10:30:00",
          "2023-05-23 10:45:00",
          "2023-05-23 11:00:00",
          "2023-05-23 11:15:00",
          "2023-05-23 11:30:00",
          "2023-05-23 11:45:00",
          "2023-05-23 12:00:00",
          "2023-05-23 12:15:00",
          "2023-05-23 12:30:00",
          "2023-05-23 12:45:00",
          "2023-05-23 13:00:00",
          "2023-05-23 13:15:00",
          "2023-05-23 13:30:00",
          "2023-05-23 13:45:00",
          "2023-05-23 14:00:00",
          "2023-05-23 14:15:00",
          "2023-05-23 14:30:00",
          "2023-05-23 14:45:00",
          "2023-05-23 15:00:00",
          "2023-05-23 15:15:00",
          "2023-05-23 15:30:00",
          "2023-05-23 15:45:00",
          "2023-05-23 16:00:00",
          "2023-05-23 16:15:00",
          "2023-05-23 16:30:00",
          "2023-05-23 16:45:00",
          "2023-05-23 17:00:00",
          "2023-05-23 17:15:00",
          "2023-05-23 17:30:00",
          "2023-05-23 17:45:00",
          "2023-05-23 18:00:00",
          "2023-05-23 18:15:00",
          "2023-05-23 18:30:00",
          "2023-05-23 18:45:00",
          "2023-05-23 19:00:00",
          "2023-05-23 19:15:00",
          "2023-05-23 19:30:00",
          "2023-05-23 19:45:00",
          "2023-05-23 20:00:00",
          "2023-05-23 20:15:00",
          "2023-05-23 20:30:00",
          "2023-05-23 20:45:00",
          "2023-05-23 21:00:00",
          "2023-05-23 21:15:00",
          "2023-05-23 21:30:00",
          "2023-05-23 21:45:00",
          "2023-05-23 22:00:00",
          "2023-05-23 22:15:00",
          "2023-05-23 22:30:00",
          "2023-05-23 22:45:00",
          "2023-05-23 23:00:00",
          "2023-05-23 23:15:00",
          "2023-05-23 23:30:00",
          "2023-05-23 23:45:00",
          "2023-05-24 00:00:00",
          "2023-05-24 00:15:00",
          "2023-05-24 00:30:00",
          "2023-05-24 00:45:00",
          "2023-05-24 01:00:00",
          "2023-05-24 01:15:00",
          "2023-05-24 01:30:00",
          "2023-05-24 01:45:00",
          "2023-05-24 02:00:00",
          "2023-05-24 02:15:00",
          "2023-05-24 02:30:00",
          "2023-05-24 02:45:00",
          "2023-05-24 03:00:00",
          "2023-05-24 03:15:00",
          "2023-05-24 03:30:00",
          "2023-05-24 03:45:00",
          "2023-05-24 04:00:00",
          "2023-05-24 04:15:00",
          "2023-05-24 04:30:00",
          "2023-05-24 04:45:00",
          "2023-05-24 05:00:00",
          "2023-05-24 05:15:00",
          "2023-05-24 05:30:00",
          "2023-05-24 05:45:00",
          "2023-05-24 06:00:00",
          "2023-05-24 06:15:00",
          "2023-05-24 06:30:00",
          "2023-05-24 06:45:00",
          "2023-05-24 07:00:00",
          "2023-05-24 07:15:00",
          "2023-05-24 07:30:00",
          "2023-05-24 07:45:00",
          "2023-05-24 08:00:00",
          "2023-05-24 08:15:00",
          "2023-05-24 08:30:00",
          "2023-05-24 08:45:00",
          "2023-05-24 09:00:00"
         ]
        },
        {
         "line": {
          "color": "red",
          "width": 1
         },
         "name": "upper_band",
         "type": "scatter",
         "x": [
          "2023-05-23 08:15:00",
          "2023-05-23 08:30:00",
          "2023-05-23 08:45:00",
          "2023-05-23 09:00:00",
          "2023-05-23 09:15:00",
          "2023-05-23 09:30:00",
          "2023-05-23 09:45:00",
          "2023-05-23 10:00:00",
          "2023-05-23 10:15:00",
          "2023-05-23 10:30:00",
          "2023-05-23 10:45:00",
          "2023-05-23 11:00:00",
          "2023-05-23 11:15:00",
          "2023-05-23 11:30:00",
          "2023-05-23 11:45:00",
          "2023-05-23 12:00:00",
          "2023-05-23 12:15:00",
          "2023-05-23 12:30:00",
          "2023-05-23 12:45:00",
          "2023-05-23 13:00:00",
          "2023-05-23 13:15:00",
          "2023-05-23 13:30:00",
          "2023-05-23 13:45:00",
          "2023-05-23 14:00:00",
          "2023-05-23 14:15:00",
          "2023-05-23 14:30:00",
          "2023-05-23 14:45:00",
          "2023-05-23 15:00:00",
          "2023-05-23 15:15:00",
          "2023-05-23 15:30:00",
          "2023-05-23 15:45:00",
          "2023-05-23 16:00:00",
          "2023-05-23 16:15:00",
          "2023-05-23 16:30:00",
          "2023-05-23 16:45:00",
          "2023-05-23 17:00:00",
          "2023-05-23 17:15:00",
          "2023-05-23 17:30:00",
          "2023-05-23 17:45:00",
          "2023-05-23 18:00:00",
          "2023-05-23 18:15:00",
          "2023-05-23 18:30:00",
          "2023-05-23 18:45:00",
          "2023-05-23 19:00:00",
          "2023-05-23 19:15:00",
          "2023-05-23 19:30:00",
          "2023-05-23 19:45:00",
          "2023-05-23 20:00:00",
          "2023-05-23 20:15:00",
          "2023-05-23 20:30:00",
          "2023-05-23 20:45:00",
          "2023-05-23 21:00:00",
          "2023-05-23 21:15:00",
          "2023-05-23 21:30:00",
          "2023-05-23 21:45:00",
          "2023-05-23 22:00:00",
          "2023-05-23 22:15:00",
          "2023-05-23 22:30:00",
          "2023-05-23 22:45:00",
          "2023-05-23 23:00:00",
          "2023-05-23 23:15:00",
          "2023-05-23 23:30:00",
          "2023-05-23 23:45:00",
          "2023-05-24 00:00:00",
          "2023-05-24 00:15:00",
          "2023-05-24 00:30:00",
          "2023-05-24 00:45:00",
          "2023-05-24 01:00:00",
          "2023-05-24 01:15:00",
          "2023-05-24 01:30:00",
          "2023-05-24 01:45:00",
          "2023-05-24 02:00:00",
          "2023-05-24 02:15:00",
          "2023-05-24 02:30:00",
          "2023-05-24 02:45:00",
          "2023-05-24 03:00:00",
          "2023-05-24 03:15:00",
          "2023-05-24 03:30:00",
          "2023-05-24 03:45:00",
          "2023-05-24 04:00:00",
          "2023-05-24 04:15:00",
          "2023-05-24 04:30:00",
          "2023-05-24 04:45:00",
          "2023-05-24 05:00:00",
          "2023-05-24 05:15:00",
          "2023-05-24 05:30:00",
          "2023-05-24 05:45:00",
          "2023-05-24 06:00:00",
          "2023-05-24 06:15:00",
          "2023-05-24 06:30:00",
          "2023-05-24 06:45:00",
          "2023-05-24 07:00:00",
          "2023-05-24 07:15:00",
          "2023-05-24 07:30:00",
          "2023-05-24 07:45:00",
          "2023-05-24 08:00:00",
          "2023-05-24 08:15:00",
          "2023-05-24 08:30:00",
          "2023-05-24 08:45:00",
          "2023-05-24 09:00:00"
         ],
         "y": [
          27340.810765101567,
          27340.472792375218,
          27346.300030419978,
          27356.26055784438,
          27369.19115447664,
          27368.981250728764,
          27369.029158163674,
          27369.001111449244,
          27369.910177542093,
          27375.466884173242,
          27375.196320814863,
          27373.92581605096,
          27373.93181362666,
          27377.518705381066,
          27379.344205181096,
          27379.300212992195,
          27380.172286663772,
          27381.703246930803,
          27380.94330018051,
          27380.953952873097,
          27378.225406069945,
          27378.266923872143,
          27375.948997827058,
          27366.436816375404,
          27352.991923528218,
          27353.253310818338,
          27354.718894444402,
          27356.862908537307,
          27368.194255557053,
          27370.753810021277,
          27376.912163387467,
          27375.812905133207,
          27371.94249636702,
          27359.255645595087,
          27347.508031762784,
          27338.833596465982,
          27323.465439686133,
          27305.713446772403,
          27286.028226056787,
          27268.863664395183,
          27255.602383597696,
          27250.629259644546,
          27246.63664027169,
          27238.976298619247,
          27238.692019006143,
          27236.334021214094,
          27235.411079804944,
          27235.818305002325,
          27239.348538371083,
          27241.670761782298,
          27237.59779443962,
          27236.980138350555,
          27236.856035964436,
          27239.551375884002,
          27242.772630218657,
          27242.563378802788,
          27242.84260603009,
          27243.000596024358,
          27246.272104668773,
          27241.783676311807,
          27240.781637711116,
          27241.12234855844,
          27240.244997999085,
          27243.88944555834,
          27293.281221753557,
          27366.28876683847,
          27394.27365497601,
          27420.383341204557,
          27420.961569174353,
          27414.360762733748,
          27401.215839669094,
          27385.190124434972,
          27362.87907924897,
          27346.665325986058,
          27327.313199354747,
          27300.531565066223,
          27271.141460130522,
          27233.788143531896,
          27200.888911632057,
          27155.63751247148,
          27102.14943749614,
          27038.33915074478,
          26954.172585955712,
          26860.46584566053,
          26817.88329283823,
          26817.410750368086,
          26813.519968656725,
          26814.50509528126,
          26818.89724571346,
          26819.735768222858,
          26813.361563627197,
          26804.73735768879,
          26791.63241500808,
          26788.19416040997,
          26783.50379852118,
          26783.469271268827,
          26783.547823704746,
          26782.30539002857,
          26783.382794076948,
          26780.962919875343
         ]
        },
        {
         "line": {
          "color": "red",
          "width": 1
         },
         "name": "lower_band",
         "type": "scatter",
         "x": [
          "2023-05-23 08:15:00",
          "2023-05-23 08:30:00",
          "2023-05-23 08:45:00",
          "2023-05-23 09:00:00",
          "2023-05-23 09:15:00",
          "2023-05-23 09:30:00",
          "2023-05-23 09:45:00",
          "2023-05-23 10:00:00",
          "2023-05-23 10:15:00",
          "2023-05-23 10:30:00",
          "2023-05-23 10:45:00",
          "2023-05-23 11:00:00",
          "2023-05-23 11:15:00",
          "2023-05-23 11:30:00",
          "2023-05-23 11:45:00",
          "2023-05-23 12:00:00",
          "2023-05-23 12:15:00",
          "2023-05-23 12:30:00",
          "2023-05-23 12:45:00",
          "2023-05-23 13:00:00",
          "2023-05-23 13:15:00",
          "2023-05-23 13:30:00",
          "2023-05-23 13:45:00",
          "2023-05-23 14:00:00",
          "2023-05-23 14:15:00",
          "2023-05-23 14:30:00",
          "2023-05-23 14:45:00",
          "2023-05-23 15:00:00",
          "2023-05-23 15:15:00",
          "2023-05-23 15:30:00",
          "2023-05-23 15:45:00",
          "2023-05-23 16:00:00",
          "2023-05-23 16:15:00",
          "2023-05-23 16:30:00",
          "2023-05-23 16:45:00",
          "2023-05-23 17:00:00",
          "2023-05-23 17:15:00",
          "2023-05-23 17:30:00",
          "2023-05-23 17:45:00",
          "2023-05-23 18:00:00",
          "2023-05-23 18:15:00",
          "2023-05-23 18:30:00",
          "2023-05-23 18:45:00",
          "2023-05-23 19:00:00",
          "2023-05-23 19:15:00",
          "2023-05-23 19:30:00",
          "2023-05-23 19:45:00",
          "2023-05-23 20:00:00",
          "2023-05-23 20:15:00",
          "2023-05-23 20:30:00",
          "2023-05-23 20:45:00",
          "2023-05-23 21:00:00",
          "2023-05-23 21:15:00",
          "2023-05-23 21:30:00",
          "2023-05-23 21:45:00",
          "2023-05-23 22:00:00",
          "2023-05-23 22:15:00",
          "2023-05-23 22:30:00",
          "2023-05-23 22:45:00",
          "2023-05-23 23:00:00",
          "2023-05-23 23:15:00",
          "2023-05-23 23:30:00",
          "2023-05-23 23:45:00",
          "2023-05-24 00:00:00",
          "2023-05-24 00:15:00",
          "2023-05-24 00:30:00",
          "2023-05-24 00:45:00",
          "2023-05-24 01:00:00",
          "2023-05-24 01:15:00",
          "2023-05-24 01:30:00",
          "2023-05-24 01:45:00",
          "2023-05-24 02:00:00",
          "2023-05-24 02:15:00",
          "2023-05-24 02:30:00",
          "2023-05-24 02:45:00",
          "2023-05-24 03:00:00",
          "2023-05-24 03:15:00",
          "2023-05-24 03:30:00",
          "2023-05-24 03:45:00",
          "2023-05-24 04:00:00",
          "2023-05-24 04:15:00",
          "2023-05-24 04:30:00",
          "2023-05-24 04:45:00",
          "2023-05-24 05:00:00",
          "2023-05-24 05:15:00",
          "2023-05-24 05:30:00",
          "2023-05-24 05:45:00",
          "2023-05-24 06:00:00",
          "2023-05-24 06:15:00",
          "2023-05-24 06:30:00",
          "2023-05-24 06:45:00",
          "2023-05-24 07:00:00",
          "2023-05-24 07:15:00",
          "2023-05-24 07:30:00",
          "2023-05-24 07:45:00",
          "2023-05-24 08:00:00",
          "2023-05-24 08:15:00",
          "2023-05-24 08:30:00",
          "2023-05-24 08:45:00",
          "2023-05-24 09:00:00"
         ],
         "y": [
          27253.10923489843,
          27253.277207624782,
          27251.789969580026,
          27249.59944215562,
          27249.30884552336,
          27251.06874927124,
          27249.380841836322,
          27249.448888550753,
          27246.699822457907,
          27233.453115826756,
          27223.943679185137,
          27221.514183949042,
          27221.52818637334,
          27223.961294618937,
          27226.6057948189,
          27229.059787007805,
          27229.207713336218,
          27230.826753069203,
          27230.796699819497,
          27230.8060471269,
          27228.00459393005,
          27218.483076127857,
          27209.811002172937,
          27208.5931836246,
          27203.538076471774,
          27194.716689181656,
          27184.941105555594,
          27174.887091462693,
          27149.20574444295,
          27141.48618997873,
          27125.417836612534,
          27116.407094866787,
          27108.727503632985,
          27107.394354404914,
          27105.211968237225,
          27104.266403534017,
          27104.274560313872,
          27109.156553227593,
          27118.211773943218,
          27127.93633560482,
          27133.987616402308,
          27134.300740355462,
          27135.083359728305,
          27139.253701380756,
          27139.197980993857,
          27139.275978785907,
          27139.188920195054,
          27139.241694997672,
          27147.671461628914,
          27149.419238217706,
          27161.372205560372,
          27164.699861649453,
          27168.34396403556,
          27162.508624115995,
          27156.42736978134,
          27154.836621197213,
          27154.247393969912,
          27152.609403975643,
          27141.407895331235,
          27138.116323688195,
          27134.48836228888,
          27130.807651441566,
          27127.795002000916,
          27112.00055444166,
          27035.228778246452,
          26917.261233161535,
          26847.816345023995,
          26772.806658795445,
          26722.75843082564,
          26685.829237266254,
          26656.87416033091,
          26632.989875565036,
          26615.31092075103,
          26591.49467401394,
          26572.196800645248,
          26553.788434933784,
          26539.69853986948,
          26532.821856468105,
          26522.35108836795,
          26526.702487528524,
          26534.820562503868,
          26552.59084925521,
          26587.777414044285,
          26641.49415433947,
          26663.886707161768,
          26662.71924963192,
          26662.770031343276,
          26665.734904718745,
          26664.91275428654,
          26664.604231777146,
          26665.818436372796,
          26668.37264231121,
          26671.547584991928,
          26670.875839590037,
          26670.95620147882,
          26667.48072873117,
          26662.932176295257,
          26661.544609971428,
          26663.877205923047,
          26662.847080124655
         ]
        },
        {
         "line": {
          "color": "blue",
          "dash": "dash",
          "width": 1
         },
         "name": "upper_KC",
         "type": "scatter",
         "x": [
          "2023-05-23 08:15:00",
          "2023-05-23 08:30:00",
          "2023-05-23 08:45:00",
          "2023-05-23 09:00:00",
          "2023-05-23 09:15:00",
          "2023-05-23 09:30:00",
          "2023-05-23 09:45:00",
          "2023-05-23 10:00:00",
          "2023-05-23 10:15:00",
          "2023-05-23 10:30:00",
          "2023-05-23 10:45:00",
          "2023-05-23 11:00:00",
          "2023-05-23 11:15:00",
          "2023-05-23 11:30:00",
          "2023-05-23 11:45:00",
          "2023-05-23 12:00:00",
          "2023-05-23 12:15:00",
          "2023-05-23 12:30:00",
          "2023-05-23 12:45:00",
          "2023-05-23 13:00:00",
          "2023-05-23 13:15:00",
          "2023-05-23 13:30:00",
          "2023-05-23 13:45:00",
          "2023-05-23 14:00:00",
          "2023-05-23 14:15:00",
          "2023-05-23 14:30:00",
          "2023-05-23 14:45:00",
          "2023-05-23 15:00:00",
          "2023-05-23 15:15:00",
          "2023-05-23 15:30:00",
          "2023-05-23 15:45:00",
          "2023-05-23 16:00:00",
          "2023-05-23 16:15:00",
          "2023-05-23 16:30:00",
          "2023-05-23 16:45:00",
          "2023-05-23 17:00:00",
          "2023-05-23 17:15:00",
          "2023-05-23 17:30:00",
          "2023-05-23 17:45:00",
          "2023-05-23 18:00:00",
          "2023-05-23 18:15:00",
          "2023-05-23 18:30:00",
          "2023-05-23 18:45:00",
          "2023-05-23 19:00:00",
          "2023-05-23 19:15:00",
          "2023-05-23 19:30:00",
          "2023-05-23 19:45:00",
          "2023-05-23 20:00:00",
          "2023-05-23 20:15:00",
          "2023-05-23 20:30:00",
          "2023-05-23 20:45:00",
          "2023-05-23 21:00:00",
          "2023-05-23 21:15:00",
          "2023-05-23 21:30:00",
          "2023-05-23 21:45:00",
          "2023-05-23 22:00:00",
          "2023-05-23 22:15:00",
          "2023-05-23 22:30:00",
          "2023-05-23 22:45:00",
          "2023-05-23 23:00:00",
          "2023-05-23 23:15:00",
          "2023-05-23 23:30:00",
          "2023-05-23 23:45:00",
          "2023-05-24 00:00:00",
          "2023-05-24 00:15:00",
          "2023-05-24 00:30:00",
          "2023-05-24 00:45:00",
          "2023-05-24 01:00:00",
          "2023-05-24 01:15:00",
          "2023-05-24 01:30:00",
          "2023-05-24 01:45:00",
          "2023-05-24 02:00:00",
          "2023-05-24 02:15:00",
          "2023-05-24 02:30:00",
          "2023-05-24 02:45:00",
          "2023-05-24 03:00:00",
          "2023-05-24 03:15:00",
          "2023-05-24 03:30:00",
          "2023-05-24 03:45:00",
          "2023-05-24 04:00:00",
          "2023-05-24 04:15:00",
          "2023-05-24 04:30:00",
          "2023-05-24 04:45:00",
          "2023-05-24 05:00:00",
          "2023-05-24 05:15:00",
          "2023-05-24 05:30:00",
          "2023-05-24 05:45:00",
          "2023-05-24 06:00:00",
          "2023-05-24 06:15:00",
          "2023-05-24 06:30:00",
          "2023-05-24 06:45:00",
          "2023-05-24 07:00:00",
          "2023-05-24 07:15:00",
          "2023-05-24 07:30:00",
          "2023-05-24 07:45:00",
          "2023-05-24 08:00:00",
          "2023-05-24 08:15:00",
          "2023-05-24 08:30:00",
          "2023-05-24 08:45:00",
          "2023-05-24 09:00:00"
         ],
         "y": [
          27357.437234037232,
          27354.047282394098,
          27354.52232195881,
          27360.2387179663,
          27366.529860154245,
          27381.98124921711,
          27387.169203904905,
          27383.841166831287,
          27380.700045589238,
          27392.574128209373,
          27391.5179230804,
          27387.62284615669,
          27397.741419582744,
          27397.48570693134,
          27391.894214762004,
          27386.722993896186,
          27389.488813187785,
          27389.47311988092,
          27379.567552629844,
          27381.232543060778,
          27374.121626140637,
          27376.24405775143,
          27370.254683614803,
          27361.894286593935,
          27359.68441630412,
          27350.82815879428,
          27341.456220831686,
          27330.96918068047,
          27332.467966011296,
          27332.6756085547,
          27325.774134272026,
          27325.72656440438,
          27311.312189058135,
          27302.55179104756,
          27293.17282903892,
          27287.587769213656,
          27276.328174811177,
          27270.64623393641,
          27268.59282776616,
          27266.36867726322,
          27258.15119048809,
          27252.374610399347,
          27246.776953963097,
          27246.45614415163,
          27244.151390669515,
          27237.09204691142,
          27233.380311109344,
          27231.286618180373,
          27243.68359669303,
          27244.559760930664,
          27240.65162257963,
          27239.839963928796,
          27242.827243214462,
          27250.688653539106,
          27250.64798925927,
          27254.048354848495,
          27252.939108512404,
          27252.94563423742,
          27251.091428012438,
          27249.419350191994,
          27239.100831975265,
          27230.746135252495,
          27224.913656115674,
          27239.05799136737,
          27277.611083846034,
          27304.039068601298,
          27280.261056128336,
          27247.126318650455,
          27208.57653344128,
          27179.572163724686,
          27149.38086122929,
          27115.4011591876,
          27086.140493880765,
          27068.117222266075,
          27045.84000003588,
          27019.76590912027,
          26991.279380189313,
          26964.81722015489,
          26964.03908921764,
          26945.176527541706,
          26922.781249806852,
          26894.43465893287,
          26866.92290276326,
          26843.446465897214,
          26828.04847209772,
          26820.544204443595,
          26815.85525818112,
          26809.48293851183,
          26820.801949691493,
          26817.222049747586,
          26817.196222520746,
          26806.84190933516,
          26797.770198546954,
          26790.39152608387,
          26780.512612250437,
          26778.506228204904,
          26787.68373216765,
          26786.2971445008,
          26783.93448186429,
          26786.95412152533
         ]
        },
        {
         "line": {
          "color": "blue",
          "dash": "dash",
          "width": 1
         },
         "name": "lower_KC",
         "type": "scatter",
         "x": [
          "2023-05-23 08:15:00",
          "2023-05-23 08:30:00",
          "2023-05-23 08:45:00",
          "2023-05-23 09:00:00",
          "2023-05-23 09:15:00",
          "2023-05-23 09:30:00",
          "2023-05-23 09:45:00",
          "2023-05-23 10:00:00",
          "2023-05-23 10:15:00",
          "2023-05-23 10:30:00",
          "2023-05-23 10:45:00",
          "2023-05-23 11:00:00",
          "2023-05-23 11:15:00",
          "2023-05-23 11:30:00",
          "2023-05-23 11:45:00",
          "2023-05-23 12:00:00",
          "2023-05-23 12:15:00",
          "2023-05-23 12:30:00",
          "2023-05-23 12:45:00",
          "2023-05-23 13:00:00",
          "2023-05-23 13:15:00",
          "2023-05-23 13:30:00",
          "2023-05-23 13:45:00",
          "2023-05-23 14:00:00",
          "2023-05-23 14:15:00",
          "2023-05-23 14:30:00",
          "2023-05-23 14:45:00",
          "2023-05-23 15:00:00",
          "2023-05-23 15:15:00",
          "2023-05-23 15:30:00",
          "2023-05-23 15:45:00",
          "2023-05-23 16:00:00",
          "2023-05-23 16:15:00",
          "2023-05-23 16:30:00",
          "2023-05-23 16:45:00",
          "2023-05-23 17:00:00",
          "2023-05-23 17:15:00",
          "2023-05-23 17:30:00",
          "2023-05-23 17:45:00",
          "2023-05-23 18:00:00",
          "2023-05-23 18:15:00",
          "2023-05-23 18:30:00",
          "2023-05-23 18:45:00",
          "2023-05-23 19:00:00",
          "2023-05-23 19:15:00",
          "2023-05-23 19:30:00",
          "2023-05-23 19:45:00",
          "2023-05-23 20:00:00",
          "2023-05-23 20:15:00",
          "2023-05-23 20:30:00",
          "2023-05-23 20:45:00",
          "2023-05-23 21:00:00",
          "2023-05-23 21:15:00",
          "2023-05-23 21:30:00",
          "2023-05-23 21:45:00",
          "2023-05-23 22:00:00",
          "2023-05-23 22:15:00",
          "2023-05-23 22:30:00",
          "2023-05-23 22:45:00",
          "2023-05-23 23:00:00",
          "2023-05-23 23:15:00",
          "2023-05-23 23:30:00",
          "2023-05-23 23:45:00",
          "2023-05-24 00:00:00",
          "2023-05-24 00:15:00",
          "2023-05-24 00:30:00",
          "2023-05-24 00:45:00",
          "2023-05-24 01:00:00",
          "2023-05-24 01:15:00",
          "2023-05-24 01:30:00",
          "2023-05-24 01:45:00",
          "2023-05-24 02:00:00",
          "2023-05-24 02:15:00",
          "2023-05-24 02:30:00",
          "2023-05-24 02:45:00",
          "2023-05-24 03:00:00",
          "2023-05-24 03:15:00",
          "2023-05-24 03:30:00",
          "2023-05-24 03:45:00",
          "2023-05-24 04:00:00",
          "2023-05-24 04:15:00",
          "2023-05-24 04:30:00",
          "2023-05-24 04:45:00",
          "2023-05-24 05:00:00",
          "2023-05-24 05:15:00",
          "2023-05-24 05:30:00",
          "2023-05-24 05:45:00",
          "2023-05-24 06:00:00",
          "2023-05-24 06:15:00",
          "2023-05-24 06:30:00",
          "2023-05-24 06:45:00",
          "2023-05-24 07:00:00",
          "2023-05-24 07:15:00",
          "2023-05-24 07:30:00",
          "2023-05-24 07:45:00",
          "2023-05-24 08:00:00",
          "2023-05-24 08:15:00",
          "2023-05-24 08:30:00",
          "2023-05-24 08:45:00",
          "2023-05-24 09:00:00"
         ],
         "y": [
          27236.482765962766,
          27239.702717605902,
          27243.567678041192,
          27245.621282033702,
          27251.970139845755,
          27238.06875078289,
          27231.24079609509,
          27234.60883316871,
          27235.909954410763,
          27216.345871790625,
          27207.6220769196,
          27207.817153843313,
          27197.718580417255,
          27203.994293068663,
          27214.055785237993,
          27221.637006103814,
          27219.891186812205,
          27223.056880119086,
          27232.17244737016,
          27230.527456939217,
          27232.10837385936,
          27220.50594224857,
          27215.50531638519,
          27213.13571340607,
          27196.84558369587,
          27197.141841205714,
          27198.20377916831,
          27200.78081931953,
          27184.932033988705,
          27179.564391445307,
          27176.555865727976,
          27166.493435595614,
          27169.35781094187,
          27164.09820895244,
          27159.54717096109,
          27155.512230786342,
          27151.41182518883,
          27144.223766063584,
          27135.647172233847,
          27130.431322736782,
          27131.438809511914,
          27132.55538960066,
          27134.943046036897,
          27131.773855848372,
          27133.738609330485,
          27138.51795308858,
          27141.219688890655,
          27143.773381819625,
          27143.336403306967,
          27146.53023906934,
          27158.318377420364,
          27161.84003607121,
          27162.372756785535,
          27151.37134646089,
          27148.55201074073,
          27143.351645151506,
          27144.1508914876,
          27142.66436576258,
          27136.58857198757,
          27130.480649808007,
          27136.16916802473,
          27141.183864747512,
          27143.126343884327,
          27116.83200863263,
          27050.898916153976,
          26979.510931398705,
          26961.828943871667,
          26946.063681349548,
          26935.143466558715,
          26920.617836275316,
          26908.709138770715,
          26902.778840812407,
          26892.049506119238,
          26870.04277773392,
          26853.669999964113,
          26834.554090879737,
          26819.56061981069,
          26801.79277984511,
          26759.200910782365,
          26737.1634724583,
          26714.188750193156,
          26696.495341067122,
          26675.027097236736,
          26658.513534102785,
          26653.72152790228,
          26659.58579555641,
          26660.43474181888,
          26670.757061488177,
          26663.008050308505,
          26667.117950252417,
          26661.983777479247,
          26666.268090664842,
          26665.409801453054,
          26668.678473916138,
          26673.947387749562,
          26672.443771795093,
          26658.796267832353,
          26657.552855499198,
          26663.325518135705,
          26656.855878474667
         ]
        }
       ],
       "layout": {
        "autosize": false,
        "height": 600,
        "margin": {
         "b": 100,
         "l": 50,
         "pad": 4,
         "r": 50,
         "t": 50
        },
        "paper_bgcolor": "LightSteelBlue",
        "shapes": [
         {
          "line": {
           "color": "green",
           "dash": "dash",
           "width": 1
          },
          "type": "line",
          "x0": "2023-05-23 12:45:00",
          "x1": "2023-05-23 12:45:00",
          "y0": 26603.9,
          "y1": 27385.6
         },
         {
          "line": {
           "color": "green",
           "dash": "dash",
           "width": 1
          },
          "type": "line",
          "x0": "2023-05-24 06:00:00",
          "x1": "2023-05-24 06:00:00",
          "y0": 26603.9,
          "y1": 27385.6
         }
        ],
        "template": {
         "data": {
          "bar": [
           {
            "error_x": {
             "color": "#2a3f5f"
            },
            "error_y": {
             "color": "#2a3f5f"
            },
            "marker": {
             "line": {
              "color": "#E5ECF6",
              "width": 0.5
             },
             "pattern": {
              "fillmode": "overlay",
              "size": 10,
              "solidity": 0.2
             }
            },
            "type": "bar"
           }
          ],
          "barpolar": [
           {
            "marker": {
             "line": {
              "color": "#E5ECF6",
              "width": 0.5
             },
             "pattern": {
              "fillmode": "overlay",
              "size": 10,
              "solidity": 0.2
             }
            },
            "type": "barpolar"
           }
          ],
          "carpet": [
           {
            "aaxis": {
             "endlinecolor": "#2a3f5f",
             "gridcolor": "white",
             "linecolor": "white",
             "minorgridcolor": "white",
             "startlinecolor": "#2a3f5f"
            },
            "baxis": {
             "endlinecolor": "#2a3f5f",
             "gridcolor": "white",
             "linecolor": "white",
             "minorgridcolor": "white",
             "startlinecolor": "#2a3f5f"
            },
            "type": "carpet"
           }
          ],
          "choropleth": [
           {
            "colorbar": {
             "outlinewidth": 0,
             "ticks": ""
            },
            "type": "choropleth"
           }
          ],
          "contour": [
           {
            "colorbar": {
             "outlinewidth": 0,
             "ticks": ""
            },
            "colorscale": [
             [
              0,
              "#0d0887"
             ],
             [
              0.1111111111111111,
              "#46039f"
             ],
             [
              0.2222222222222222,
              "#7201a8"
             ],
             [
              0.3333333333333333,
              "#9c179e"
             ],
             [
              0.4444444444444444,
              "#bd3786"
             ],
             [
              0.5555555555555556,
              "#d8576b"
             ],
             [
              0.6666666666666666,
              "#ed7953"
             ],
             [
              0.7777777777777778,
              "#fb9f3a"
             ],
             [
              0.8888888888888888,
              "#fdca26"
             ],
             [
              1,
              "#f0f921"
             ]
            ],
            "type": "contour"
           }
          ],
          "contourcarpet": [
           {
            "colorbar": {
             "outlinewidth": 0,
             "ticks": ""
            },
            "type": "contourcarpet"
           }
          ],
          "heatmap": [
           {
            "colorbar": {
             "outlinewidth": 0,
             "ticks": ""
            },
            "colorscale": [
             [
              0,
              "#0d0887"
             ],
             [
              0.1111111111111111,
              "#46039f"
             ],
             [
              0.2222222222222222,
              "#7201a8"
             ],
             [
              0.3333333333333333,
              "#9c179e"
             ],
             [
              0.4444444444444444,
              "#bd3786"
             ],
             [
              0.5555555555555556,
              "#d8576b"
             ],
             [
              0.6666666666666666,
              "#ed7953"
             ],
             [
              0.7777777777777778,
              "#fb9f3a"
             ],
             [
              0.8888888888888888,
              "#fdca26"
             ],
             [
              1,
              "#f0f921"
             ]
            ],
            "type": "heatmap"
           }
          ],
          "heatmapgl": [
           {
            "colorbar": {
             "outlinewidth": 0,
             "ticks": ""
            },
            "colorscale": [
             [
              0,
              "#0d0887"
             ],
             [
              0.1111111111111111,
              "#46039f"
             ],
             [
              0.2222222222222222,
              "#7201a8"
             ],
             [
              0.3333333333333333,
              "#9c179e"
             ],
             [
              0.4444444444444444,
              "#bd3786"
             ],
             [
              0.5555555555555556,
              "#d8576b"
             ],
             [
              0.6666666666666666,
              "#ed7953"
             ],
             [
              0.7777777777777778,
              "#fb9f3a"
             ],
             [
              0.8888888888888888,
              "#fdca26"
             ],
             [
              1,
              "#f0f921"
             ]
            ],
            "type": "heatmapgl"
           }
          ],
          "histogram": [
           {
            "marker": {
             "pattern": {
              "fillmode": "overlay",
              "size": 10,
              "solidity": 0.2
             }
            },
            "type": "histogram"
           }
          ],
          "histogram2d": [
           {
            "colorbar": {
             "outlinewidth": 0,
             "ticks": ""
            },
            "colorscale": [
             [
              0,
              "#0d0887"
             ],
             [
              0.1111111111111111,
              "#46039f"
             ],
             [
              0.2222222222222222,
              "#7201a8"
             ],
             [
              0.3333333333333333,
              "#9c179e"
             ],
             [
              0.4444444444444444,
              "#bd3786"
             ],
             [
              0.5555555555555556,
              "#d8576b"
             ],
             [
              0.6666666666666666,
              "#ed7953"
             ],
             [
              0.7777777777777778,
              "#fb9f3a"
             ],
             [
              0.8888888888888888,
              "#fdca26"
             ],
             [
              1,
              "#f0f921"
             ]
            ],
            "type": "histogram2d"
           }
          ],
          "histogram2dcontour": [
           {
            "colorbar": {
             "outlinewidth": 0,
             "ticks": ""
            },
            "colorscale": [
             [
              0,
              "#0d0887"
             ],
             [
              0.1111111111111111,
              "#46039f"
             ],
             [
              0.2222222222222222,
              "#7201a8"
             ],
             [
              0.3333333333333333,
              "#9c179e"
             ],
             [
              0.4444444444444444,
              "#bd3786"
             ],
             [
              0.5555555555555556,
              "#d8576b"
             ],
             [
              0.6666666666666666,
              "#ed7953"
             ],
             [
              0.7777777777777778,
              "#fb9f3a"
             ],
             [
              0.8888888888888888,
              "#fdca26"
             ],
             [
              1,
              "#f0f921"
             ]
            ],
            "type": "histogram2dcontour"
           }
          ],
          "mesh3d": [
           {
            "colorbar": {
             "outlinewidth": 0,
             "ticks": ""
            },
            "type": "mesh3d"
           }
          ],
          "parcoords": [
           {
            "line": {
             "colorbar": {
              "outlinewidth": 0,
              "ticks": ""
             }
            },
            "type": "parcoords"
           }
          ],
          "pie": [
           {
            "automargin": true,
            "type": "pie"
           }
          ],
          "scatter": [
           {
            "fillpattern": {
             "fillmode": "overlay",
             "size": 10,
             "solidity": 0.2
            },
            "type": "scatter"
           }
          ],
          "scatter3d": [
           {
            "line": {
             "colorbar": {
              "outlinewidth": 0,
              "ticks": ""
             }
            },
            "marker": {
             "colorbar": {
              "outlinewidth": 0,
              "ticks": ""
             }
            },
            "type": "scatter3d"
           }
          ],
          "scattercarpet": [
           {
            "marker": {
             "colorbar": {
              "outlinewidth": 0,
              "ticks": ""
             }
            },
            "type": "scattercarpet"
           }
          ],
          "scattergeo": [
           {
            "marker": {
             "colorbar": {
              "outlinewidth": 0,
              "ticks": ""
             }
            },
            "type": "scattergeo"
           }
          ],
          "scattergl": [
           {
            "marker": {
             "colorbar": {
              "outlinewidth": 0,
              "ticks": ""
             }
            },
            "type": "scattergl"
           }
          ],
          "scattermapbox": [
           {
            "marker": {
             "colorbar": {
              "outlinewidth": 0,
              "ticks": ""
             }
            },
            "type": "scattermapbox"
           }
          ],
          "scatterpolar": [
           {
            "marker": {
             "colorbar": {
              "outlinewidth": 0,
              "ticks": ""
             }
            },
            "type": "scatterpolar"
           }
          ],
          "scatterpolargl": [
           {
            "marker": {
             "colorbar": {
              "outlinewidth": 0,
              "ticks": ""
             }
            },
            "type": "scatterpolargl"
           }
          ],
          "scatterternary": [
           {
            "marker": {
             "colorbar": {
              "outlinewidth": 0,
              "ticks": ""
             }
            },
            "type": "scatterternary"
           }
          ],
          "surface": [
           {
            "colorbar": {
             "outlinewidth": 0,
             "ticks": ""
            },
            "colorscale": [
             [
              0,
              "#0d0887"
             ],
             [
              0.1111111111111111,
              "#46039f"
             ],
             [
              0.2222222222222222,
              "#7201a8"
             ],
             [
              0.3333333333333333,
              "#9c179e"
             ],
             [
              0.4444444444444444,
              "#bd3786"
             ],
             [
              0.5555555555555556,
              "#d8576b"
             ],
             [
              0.6666666666666666,
              "#ed7953"
             ],
             [
              0.7777777777777778,
              "#fb9f3a"
             ],
             [
              0.8888888888888888,
              "#fdca26"
             ],
             [
              1,
              "#f0f921"
             ]
            ],
            "type": "surface"
           }
          ],
          "table": [
           {
            "cells": {
             "fill": {
              "color": "#EBF0F8"
             },
             "line": {
              "color": "white"
             }
            },
            "header": {
             "fill": {
              "color": "#C8D4E3"
             },
             "line": {
              "color": "white"
             }
            },
            "type": "table"
           }
          ]
         },
         "layout": {
          "annotationdefaults": {
           "arrowcolor": "#2a3f5f",
           "arrowhead": 0,
           "arrowwidth": 1
          },
          "autotypenumbers": "strict",
          "coloraxis": {
           "colorbar": {
            "outlinewidth": 0,
            "ticks": ""
           }
          },
          "colorscale": {
           "diverging": [
            [
             0,
             "#8e0152"
            ],
            [
             0.1,
             "#c51b7d"
            ],
            [
             0.2,
             "#de77ae"
            ],
            [
             0.3,
             "#f1b6da"
            ],
            [
             0.4,
             "#fde0ef"
            ],
            [
             0.5,
             "#f7f7f7"
            ],
            [
             0.6,
             "#e6f5d0"
            ],
            [
             0.7,
             "#b8e186"
            ],
            [
             0.8,
             "#7fbc41"
            ],
            [
             0.9,
             "#4d9221"
            ],
            [
             1,
             "#276419"
            ]
           ],
           "sequential": [
            [
             0,
             "#0d0887"
            ],
            [
             0.1111111111111111,
             "#46039f"
            ],
            [
             0.2222222222222222,
             "#7201a8"
            ],
            [
             0.3333333333333333,
             "#9c179e"
            ],
            [
             0.4444444444444444,
             "#bd3786"
            ],
            [
             0.5555555555555556,
             "#d8576b"
            ],
            [
             0.6666666666666666,
             "#ed7953"
            ],
            [
             0.7777777777777778,
             "#fb9f3a"
            ],
            [
             0.8888888888888888,
             "#fdca26"
            ],
            [
             1,
             "#f0f921"
            ]
           ],
           "sequentialminus": [
            [
             0,
             "#0d0887"
            ],
            [
             0.1111111111111111,
             "#46039f"
            ],
            [
             0.2222222222222222,
             "#7201a8"
            ],
            [
             0.3333333333333333,
             "#9c179e"
            ],
            [
             0.4444444444444444,
             "#bd3786"
            ],
            [
             0.5555555555555556,
             "#d8576b"
            ],
            [
             0.6666666666666666,
             "#ed7953"
            ],
            [
             0.7777777777777778,
             "#fb9f3a"
            ],
            [
             0.8888888888888888,
             "#fdca26"
            ],
            [
             1,
             "#f0f921"
            ]
           ]
          },
          "colorway": [
           "#636efa",
           "#EF553B",
           "#00cc96",
           "#ab63fa",
           "#FFA15A",
           "#19d3f3",
           "#FF6692",
           "#B6E880",
           "#FF97FF",
           "#FECB52"
          ],
          "font": {
           "color": "#2a3f5f"
          },
          "geo": {
           "bgcolor": "white",
           "lakecolor": "white",
           "landcolor": "#E5ECF6",
           "showlakes": true,
           "showland": true,
           "subunitcolor": "white"
          },
          "hoverlabel": {
           "align": "left"
          },
          "hovermode": "closest",
          "mapbox": {
           "style": "light"
          },
          "paper_bgcolor": "white",
          "plot_bgcolor": "#E5ECF6",
          "polar": {
           "angularaxis": {
            "gridcolor": "white",
            "linecolor": "white",
            "ticks": ""
           },
           "bgcolor": "#E5ECF6",
           "radialaxis": {
            "gridcolor": "white",
            "linecolor": "white",
            "ticks": ""
           }
          },
          "scene": {
           "xaxis": {
            "backgroundcolor": "#E5ECF6",
            "gridcolor": "white",
            "gridwidth": 2,
            "linecolor": "white",
            "showbackground": true,
            "ticks": "",
            "zerolinecolor": "white"
           },
           "yaxis": {
            "backgroundcolor": "#E5ECF6",
            "gridcolor": "white",
            "gridwidth": 2,
            "linecolor": "white",
            "showbackground": true,
            "ticks": "",
            "zerolinecolor": "white"
           },
           "zaxis": {
            "backgroundcolor": "#E5ECF6",
            "gridcolor": "white",
            "gridwidth": 2,
            "linecolor": "white",
            "showbackground": true,
            "ticks": "",
            "zerolinecolor": "white"
           }
          },
          "shapedefaults": {
           "line": {
            "color": "#2a3f5f"
           }
          },
          "ternary": {
           "aaxis": {
            "gridcolor": "white",
            "linecolor": "white",
            "ticks": ""
           },
           "baxis": {
            "gridcolor": "white",
            "linecolor": "white",
            "ticks": ""
           },
           "bgcolor": "#E5ECF6",
           "caxis": {
            "gridcolor": "white",
            "linecolor": "white",
            "ticks": ""
           }
          },
          "title": {
           "x": 0.05
          },
          "xaxis": {
           "automargin": true,
           "gridcolor": "white",
           "linecolor": "white",
           "ticks": "",
           "title": {
            "standoff": 15
           },
           "zerolinecolor": "white",
           "zerolinewidth": 2
          },
          "yaxis": {
           "automargin": true,
           "gridcolor": "white",
           "linecolor": "white",
           "ticks": "",
           "title": {
            "standoff": 15
           },
           "zerolinecolor": "white",
           "zerolinewidth": 2
          }
         }
        },
        "title": {
         "text": "BTC 15m"
        },
        "width": 1500,
        "xaxis": {
         "rangeslider": {
          "visible": false
         },
         "type": "category"
        }
       }
      }
     },
     "metadata": {},
     "output_type": "display_data"
    },
    {
     "data": {
      "application/vnd.plotly.v1+json": {
       "config": {
        "plotlyServerURL": "https://plotly.com"
       },
       "data": [
        {
         "name": "squeeze",
         "type": "bar",
         "x": [
          "2023-05-23 08:15:00",
          "2023-05-23 08:30:00",
          "2023-05-23 08:45:00",
          "2023-05-23 09:00:00",
          "2023-05-23 09:15:00",
          "2023-05-23 09:30:00",
          "2023-05-23 09:45:00",
          "2023-05-23 10:00:00",
          "2023-05-23 10:15:00",
          "2023-05-23 10:30:00",
          "2023-05-23 10:45:00",
          "2023-05-23 11:00:00",
          "2023-05-23 11:15:00",
          "2023-05-23 11:30:00",
          "2023-05-23 11:45:00",
          "2023-05-23 12:00:00",
          "2023-05-23 12:15:00",
          "2023-05-23 12:30:00",
          "2023-05-23 12:45:00",
          "2023-05-23 13:00:00",
          "2023-05-23 13:15:00",
          "2023-05-23 13:30:00",
          "2023-05-23 13:45:00",
          "2023-05-23 14:00:00",
          "2023-05-23 14:15:00",
          "2023-05-23 14:30:00",
          "2023-05-23 14:45:00",
          "2023-05-23 15:00:00",
          "2023-05-23 15:15:00",
          "2023-05-23 15:30:00",
          "2023-05-23 15:45:00",
          "2023-05-23 16:00:00",
          "2023-05-23 16:15:00",
          "2023-05-23 16:30:00",
          "2023-05-23 16:45:00",
          "2023-05-23 17:00:00",
          "2023-05-23 17:15:00",
          "2023-05-23 17:30:00",
          "2023-05-23 17:45:00",
          "2023-05-23 18:00:00",
          "2023-05-23 18:15:00",
          "2023-05-23 18:30:00",
          "2023-05-23 18:45:00",
          "2023-05-23 19:00:00",
          "2023-05-23 19:15:00",
          "2023-05-23 19:30:00",
          "2023-05-23 19:45:00",
          "2023-05-23 20:00:00",
          "2023-05-23 20:15:00",
          "2023-05-23 20:30:00",
          "2023-05-23 20:45:00",
          "2023-05-23 21:00:00",
          "2023-05-23 21:15:00",
          "2023-05-23 21:30:00",
          "2023-05-23 21:45:00",
          "2023-05-23 22:00:00",
          "2023-05-23 22:15:00",
          "2023-05-23 22:30:00",
          "2023-05-23 22:45:00",
          "2023-05-23 23:00:00",
          "2023-05-23 23:15:00",
          "2023-05-23 23:30:00",
          "2023-05-23 23:45:00",
          "2023-05-24 00:00:00",
          "2023-05-24 00:15:00",
          "2023-05-24 00:30:00",
          "2023-05-24 00:45:00",
          "2023-05-24 01:00:00",
          "2023-05-24 01:15:00",
          "2023-05-24 01:30:00",
          "2023-05-24 01:45:00",
          "2023-05-24 02:00:00",
          "2023-05-24 02:15:00",
          "2023-05-24 02:30:00",
          "2023-05-24 02:45:00",
          "2023-05-24 03:00:00",
          "2023-05-24 03:15:00",
          "2023-05-24 03:30:00",
          "2023-05-24 03:45:00",
          "2023-05-24 04:00:00",
          "2023-05-24 04:15:00",
          "2023-05-24 04:30:00",
          "2023-05-24 04:45:00",
          "2023-05-24 05:00:00",
          "2023-05-24 05:15:00",
          "2023-05-24 05:30:00",
          "2023-05-24 05:45:00",
          "2023-05-24 06:00:00",
          "2023-05-24 06:15:00",
          "2023-05-24 06:30:00",
          "2023-05-24 06:45:00",
          "2023-05-24 07:00:00",
          "2023-05-24 07:15:00",
          "2023-05-24 07:30:00",
          "2023-05-24 07:45:00",
          "2023-05-24 08:00:00",
          "2023-05-24 08:15:00",
          "2023-05-24 08:30:00",
          "2023-05-24 08:45:00",
          "2023-05-24 09:00:00"
         ],
         "y": [
          -28.085249999998894,
          -7.646999999999277,
          10.145000000000387,
          27.920392857143227,
          45.05303571428591,
          43.9898571428575,
          40.59228571428612,
          30.309678571428876,
          19.689821428572365,
          5.015714285715877,
          -3.360357142855861,
          -5.946321428570435,
          -7.663607142855728,
          -3.930285714285228,
          -3.6346428571421145,
          -9.345607142856482,
          -5.636857142855659,
          -5.079642857141273,
          -1.0959285714272298,
          -0.8338571428558339,
          -2.5993214285702226,
          -10.743571428570698,
          -17.103214285713445,
          -15.657249999999175,
          -20.114535714285587,
          -27.7151785714279,
          -37.14499999999935,
          -48.3483928571421,
          -68.68167857142748,
          -81.3388928571424,
          -99.23964285714285,
          -104.4185357142859,
          -106.45889285714311,
          -99.48735714285802,
          -94.17664285714389,
          -86.45964285714412,
          -79.86771428571572,
          -66.90964285714395,
          -48.97242857142985,
          -27.072071428572904,
          -12.572500000001796,
          -4.391857142858754,
          4.723928571427535,
          19.599499999999097,
          25.932285714284845,
          32.20764285714202,
          37.163499999999715,
          41.53767857142854,
          47.39428571428593,
          50.15528571428543,
          47.2226428571434,
          41.591000000000285,
          37.09239285714344,
          24.8773214285722,
          11.564750000000593,
          5.685107142857048,
          -5.5811428571436466,
          -12.091035714286313,
          -23.966142857143613,
          -27.336035714286293,
          -31.32428571428579,
          -36.55282142857189,
          -39.438357142857534,
          -48.27282142857217,
          -79.47950000000048,
          -130.463464285715,
          -167.76067857142917,
          -210.8526428571433,
          -235.06489285714346,
          -248.64642857142948,
          -254.54175000000095,
          -256.800000000002,
          -252.17921428571577,
          -255.7885714285724,
          -254.68053571428655,
          -253.41507142857262,
          -248.54664285714406,
          -237.59821428571541,
          -229.55935714285877,
          -206.73792857143002,
          -187.81771428571565,
          -167.4210714285719,
          -146.9306071428574,
          -119.4589642857143,
          -89.68446428571428,
          -68.30317857142862,
          -43.50575000000009,
          -26.552071428571878,
          -2.890785714285869,
          20.996250000000117,
          35.53196428571485,
          48.67507142857181,
          55.963357142857404,
          60.014250000000146,
          63.17760714285785,
          56.844571428572124,
          48.12153571428604,
          42.895428571428354,
          37.891821428571504,
          31.84810714285699
         ]
        }
       ],
       "layout": {
        "autosize": false,
        "height": 300,
        "margin": {
         "b": 1,
         "l": 50,
         "pad": 4,
         "r": 150,
         "t": 10
        },
        "paper_bgcolor": "LightSteelBlue",
        "shapes": [
         {
          "line": {
           "color": "green",
           "dash": "dash",
           "width": 1
          },
          "type": "line",
          "x0": "2023-05-23 12:45:00",
          "x1": "2023-05-23 12:45:00",
          "y0": -256.800000000002,
          "y1": 63.17760714285785
         },
         {
          "line": {
           "color": "green",
           "dash": "dash",
           "width": 1
          },
          "type": "line",
          "x0": "2023-05-24 06:00:00",
          "x1": "2023-05-24 06:00:00",
          "y0": -256.800000000002,
          "y1": 63.17760714285785
         }
        ],
        "template": {
         "data": {
          "bar": [
           {
            "error_x": {
             "color": "#2a3f5f"
            },
            "error_y": {
             "color": "#2a3f5f"
            },
            "marker": {
             "line": {
              "color": "#E5ECF6",
              "width": 0.5
             },
             "pattern": {
              "fillmode": "overlay",
              "size": 10,
              "solidity": 0.2
             }
            },
            "type": "bar"
           }
          ],
          "barpolar": [
           {
            "marker": {
             "line": {
              "color": "#E5ECF6",
              "width": 0.5
             },
             "pattern": {
              "fillmode": "overlay",
              "size": 10,
              "solidity": 0.2
             }
            },
            "type": "barpolar"
           }
          ],
          "carpet": [
           {
            "aaxis": {
             "endlinecolor": "#2a3f5f",
             "gridcolor": "white",
             "linecolor": "white",
             "minorgridcolor": "white",
             "startlinecolor": "#2a3f5f"
            },
            "baxis": {
             "endlinecolor": "#2a3f5f",
             "gridcolor": "white",
             "linecolor": "white",
             "minorgridcolor": "white",
             "startlinecolor": "#2a3f5f"
            },
            "type": "carpet"
           }
          ],
          "choropleth": [
           {
            "colorbar": {
             "outlinewidth": 0,
             "ticks": ""
            },
            "type": "choropleth"
           }
          ],
          "contour": [
           {
            "colorbar": {
             "outlinewidth": 0,
             "ticks": ""
            },
            "colorscale": [
             [
              0,
              "#0d0887"
             ],
             [
              0.1111111111111111,
              "#46039f"
             ],
             [
              0.2222222222222222,
              "#7201a8"
             ],
             [
              0.3333333333333333,
              "#9c179e"
             ],
             [
              0.4444444444444444,
              "#bd3786"
             ],
             [
              0.5555555555555556,
              "#d8576b"
             ],
             [
              0.6666666666666666,
              "#ed7953"
             ],
             [
              0.7777777777777778,
              "#fb9f3a"
             ],
             [
              0.8888888888888888,
              "#fdca26"
             ],
             [
              1,
              "#f0f921"
             ]
            ],
            "type": "contour"
           }
          ],
          "contourcarpet": [
           {
            "colorbar": {
             "outlinewidth": 0,
             "ticks": ""
            },
            "type": "contourcarpet"
           }
          ],
          "heatmap": [
           {
            "colorbar": {
             "outlinewidth": 0,
             "ticks": ""
            },
            "colorscale": [
             [
              0,
              "#0d0887"
             ],
             [
              0.1111111111111111,
              "#46039f"
             ],
             [
              0.2222222222222222,
              "#7201a8"
             ],
             [
              0.3333333333333333,
              "#9c179e"
             ],
             [
              0.4444444444444444,
              "#bd3786"
             ],
             [
              0.5555555555555556,
              "#d8576b"
             ],
             [
              0.6666666666666666,
              "#ed7953"
             ],
             [
              0.7777777777777778,
              "#fb9f3a"
             ],
             [
              0.8888888888888888,
              "#fdca26"
             ],
             [
              1,
              "#f0f921"
             ]
            ],
            "type": "heatmap"
           }
          ],
          "heatmapgl": [
           {
            "colorbar": {
             "outlinewidth": 0,
             "ticks": ""
            },
            "colorscale": [
             [
              0,
              "#0d0887"
             ],
             [
              0.1111111111111111,
              "#46039f"
             ],
             [
              0.2222222222222222,
              "#7201a8"
             ],
             [
              0.3333333333333333,
              "#9c179e"
             ],
             [
              0.4444444444444444,
              "#bd3786"
             ],
             [
              0.5555555555555556,
              "#d8576b"
             ],
             [
              0.6666666666666666,
              "#ed7953"
             ],
             [
              0.7777777777777778,
              "#fb9f3a"
             ],
             [
              0.8888888888888888,
              "#fdca26"
             ],
             [
              1,
              "#f0f921"
             ]
            ],
            "type": "heatmapgl"
           }
          ],
          "histogram": [
           {
            "marker": {
             "pattern": {
              "fillmode": "overlay",
              "size": 10,
              "solidity": 0.2
             }
            },
            "type": "histogram"
           }
          ],
          "histogram2d": [
           {
            "colorbar": {
             "outlinewidth": 0,
             "ticks": ""
            },
            "colorscale": [
             [
              0,
              "#0d0887"
             ],
             [
              0.1111111111111111,
              "#46039f"
             ],
             [
              0.2222222222222222,
              "#7201a8"
             ],
             [
              0.3333333333333333,
              "#9c179e"
             ],
             [
              0.4444444444444444,
              "#bd3786"
             ],
             [
              0.5555555555555556,
              "#d8576b"
             ],
             [
              0.6666666666666666,
              "#ed7953"
             ],
             [
              0.7777777777777778,
              "#fb9f3a"
             ],
             [
              0.8888888888888888,
              "#fdca26"
             ],
             [
              1,
              "#f0f921"
             ]
            ],
            "type": "histogram2d"
           }
          ],
          "histogram2dcontour": [
           {
            "colorbar": {
             "outlinewidth": 0,
             "ticks": ""
            },
            "colorscale": [
             [
              0,
              "#0d0887"
             ],
             [
              0.1111111111111111,
              "#46039f"
             ],
             [
              0.2222222222222222,
              "#7201a8"
             ],
             [
              0.3333333333333333,
              "#9c179e"
             ],
             [
              0.4444444444444444,
              "#bd3786"
             ],
             [
              0.5555555555555556,
              "#d8576b"
             ],
             [
              0.6666666666666666,
              "#ed7953"
             ],
             [
              0.7777777777777778,
              "#fb9f3a"
             ],
             [
              0.8888888888888888,
              "#fdca26"
             ],
             [
              1,
              "#f0f921"
             ]
            ],
            "type": "histogram2dcontour"
           }
          ],
          "mesh3d": [
           {
            "colorbar": {
             "outlinewidth": 0,
             "ticks": ""
            },
            "type": "mesh3d"
           }
          ],
          "parcoords": [
           {
            "line": {
             "colorbar": {
              "outlinewidth": 0,
              "ticks": ""
             }
            },
            "type": "parcoords"
           }
          ],
          "pie": [
           {
            "automargin": true,
            "type": "pie"
           }
          ],
          "scatter": [
           {
            "fillpattern": {
             "fillmode": "overlay",
             "size": 10,
             "solidity": 0.2
            },
            "type": "scatter"
           }
          ],
          "scatter3d": [
           {
            "line": {
             "colorbar": {
              "outlinewidth": 0,
              "ticks": ""
             }
            },
            "marker": {
             "colorbar": {
              "outlinewidth": 0,
              "ticks": ""
             }
            },
            "type": "scatter3d"
           }
          ],
          "scattercarpet": [
           {
            "marker": {
             "colorbar": {
              "outlinewidth": 0,
              "ticks": ""
             }
            },
            "type": "scattercarpet"
           }
          ],
          "scattergeo": [
           {
            "marker": {
             "colorbar": {
              "outlinewidth": 0,
              "ticks": ""
             }
            },
            "type": "scattergeo"
           }
          ],
          "scattergl": [
           {
            "marker": {
             "colorbar": {
              "outlinewidth": 0,
              "ticks": ""
             }
            },
            "type": "scattergl"
           }
          ],
          "scattermapbox": [
           {
            "marker": {
             "colorbar": {
              "outlinewidth": 0,
              "ticks": ""
             }
            },
            "type": "scattermapbox"
           }
          ],
          "scatterpolar": [
           {
            "marker": {
             "colorbar": {
              "outlinewidth": 0,
              "ticks": ""
             }
            },
            "type": "scatterpolar"
           }
          ],
          "scatterpolargl": [
           {
            "marker": {
             "colorbar": {
              "outlinewidth": 0,
              "ticks": ""
             }
            },
            "type": "scatterpolargl"
           }
          ],
          "scatterternary": [
           {
            "marker": {
             "colorbar": {
              "outlinewidth": 0,
              "ticks": ""
             }
            },
            "type": "scatterternary"
           }
          ],
          "surface": [
           {
            "colorbar": {
             "outlinewidth": 0,
             "ticks": ""
            },
            "colorscale": [
             [
              0,
              "#0d0887"
             ],
             [
              0.1111111111111111,
              "#46039f"
             ],
             [
              0.2222222222222222,
              "#7201a8"
             ],
             [
              0.3333333333333333,
              "#9c179e"
             ],
             [
              0.4444444444444444,
              "#bd3786"
             ],
             [
              0.5555555555555556,
              "#d8576b"
             ],
             [
              0.6666666666666666,
              "#ed7953"
             ],
             [
              0.7777777777777778,
              "#fb9f3a"
             ],
             [
              0.8888888888888888,
              "#fdca26"
             ],
             [
              1,
              "#f0f921"
             ]
            ],
            "type": "surface"
           }
          ],
          "table": [
           {
            "cells": {
             "fill": {
              "color": "#EBF0F8"
             },
             "line": {
              "color": "white"
             }
            },
            "header": {
             "fill": {
              "color": "#C8D4E3"
             },
             "line": {
              "color": "white"
             }
            },
            "type": "table"
           }
          ]
         },
         "layout": {
          "annotationdefaults": {
           "arrowcolor": "#2a3f5f",
           "arrowhead": 0,
           "arrowwidth": 1
          },
          "autotypenumbers": "strict",
          "coloraxis": {
           "colorbar": {
            "outlinewidth": 0,
            "ticks": ""
           }
          },
          "colorscale": {
           "diverging": [
            [
             0,
             "#8e0152"
            ],
            [
             0.1,
             "#c51b7d"
            ],
            [
             0.2,
             "#de77ae"
            ],
            [
             0.3,
             "#f1b6da"
            ],
            [
             0.4,
             "#fde0ef"
            ],
            [
             0.5,
             "#f7f7f7"
            ],
            [
             0.6,
             "#e6f5d0"
            ],
            [
             0.7,
             "#b8e186"
            ],
            [
             0.8,
             "#7fbc41"
            ],
            [
             0.9,
             "#4d9221"
            ],
            [
             1,
             "#276419"
            ]
           ],
           "sequential": [
            [
             0,
             "#0d0887"
            ],
            [
             0.1111111111111111,
             "#46039f"
            ],
            [
             0.2222222222222222,
             "#7201a8"
            ],
            [
             0.3333333333333333,
             "#9c179e"
            ],
            [
             0.4444444444444444,
             "#bd3786"
            ],
            [
             0.5555555555555556,
             "#d8576b"
            ],
            [
             0.6666666666666666,
             "#ed7953"
            ],
            [
             0.7777777777777778,
             "#fb9f3a"
            ],
            [
             0.8888888888888888,
             "#fdca26"
            ],
            [
             1,
             "#f0f921"
            ]
           ],
           "sequentialminus": [
            [
             0,
             "#0d0887"
            ],
            [
             0.1111111111111111,
             "#46039f"
            ],
            [
             0.2222222222222222,
             "#7201a8"
            ],
            [
             0.3333333333333333,
             "#9c179e"
            ],
            [
             0.4444444444444444,
             "#bd3786"
            ],
            [
             0.5555555555555556,
             "#d8576b"
            ],
            [
             0.6666666666666666,
             "#ed7953"
            ],
            [
             0.7777777777777778,
             "#fb9f3a"
            ],
            [
             0.8888888888888888,
             "#fdca26"
            ],
            [
             1,
             "#f0f921"
            ]
           ]
          },
          "colorway": [
           "#636efa",
           "#EF553B",
           "#00cc96",
           "#ab63fa",
           "#FFA15A",
           "#19d3f3",
           "#FF6692",
           "#B6E880",
           "#FF97FF",
           "#FECB52"
          ],
          "font": {
           "color": "#2a3f5f"
          },
          "geo": {
           "bgcolor": "white",
           "lakecolor": "white",
           "landcolor": "#E5ECF6",
           "showlakes": true,
           "showland": true,
           "subunitcolor": "white"
          },
          "hoverlabel": {
           "align": "left"
          },
          "hovermode": "closest",
          "mapbox": {
           "style": "light"
          },
          "paper_bgcolor": "white",
          "plot_bgcolor": "#E5ECF6",
          "polar": {
           "angularaxis": {
            "gridcolor": "white",
            "linecolor": "white",
            "ticks": ""
           },
           "bgcolor": "#E5ECF6",
           "radialaxis": {
            "gridcolor": "white",
            "linecolor": "white",
            "ticks": ""
           }
          },
          "scene": {
           "xaxis": {
            "backgroundcolor": "#E5ECF6",
            "gridcolor": "white",
            "gridwidth": 2,
            "linecolor": "white",
            "showbackground": true,
            "ticks": "",
            "zerolinecolor": "white"
           },
           "yaxis": {
            "backgroundcolor": "#E5ECF6",
            "gridcolor": "white",
            "gridwidth": 2,
            "linecolor": "white",
            "showbackground": true,
            "ticks": "",
            "zerolinecolor": "white"
           },
           "zaxis": {
            "backgroundcolor": "#E5ECF6",
            "gridcolor": "white",
            "gridwidth": 2,
            "linecolor": "white",
            "showbackground": true,
            "ticks": "",
            "zerolinecolor": "white"
           }
          },
          "shapedefaults": {
           "line": {
            "color": "#2a3f5f"
           }
          },
          "ternary": {
           "aaxis": {
            "gridcolor": "white",
            "linecolor": "white",
            "ticks": ""
           },
           "baxis": {
            "gridcolor": "white",
            "linecolor": "white",
            "ticks": ""
           },
           "bgcolor": "#E5ECF6",
           "caxis": {
            "gridcolor": "white",
            "linecolor": "white",
            "ticks": ""
           }
          },
          "title": {
           "x": 0.05
          },
          "xaxis": {
           "automargin": true,
           "gridcolor": "white",
           "linecolor": "white",
           "ticks": "",
           "title": {
            "standoff": 15
           },
           "zerolinecolor": "white",
           "zerolinewidth": 2
          },
          "yaxis": {
           "automargin": true,
           "gridcolor": "white",
           "linecolor": "white",
           "ticks": "",
           "title": {
            "standoff": 15
           },
           "zerolinecolor": "white",
           "zerolinewidth": 2
          }
         }
        },
        "width": 1500
       }
      }
     },
     "metadata": {},
     "output_type": "display_data"
    },
    {
     "data": {
      "application/vnd.plotly.v1+json": {
       "config": {
        "plotlyServerURL": "https://plotly.com"
       },
       "data": [
        {
         "close": [
          91.39,
          91.53,
          91.2,
          91.28,
          91.1,
          90.79,
          90.94,
          91.53,
          91.37,
          91.42,
          90.96,
          91.1,
          91.01,
          90.98,
          90.74,
          91.04,
          91.13,
          90.95,
          90.67,
          90.79,
          90.7,
          90.91,
          91.13,
          91.03,
          91.07,
          91,
          90.9,
          90.84,
          90.78,
          90.49,
          91.12,
          91.29,
          91.56,
          91.7,
          92.61,
          92.73,
          92.45,
          92.36,
          92.28,
          92.4,
          92.36,
          91.93,
          91.77,
          91.95,
          91.76,
          91.72,
          91.85,
          91.71,
          91.8,
          91.85,
          91.78,
          91.76,
          91.86,
          91.6,
          91.52,
          91.37,
          91.56,
          91.71,
          91.58,
          91.6,
          91.4,
          91.23,
          91.18,
          91.29,
          91.06,
          91.06,
          90.97,
          91.07,
          90.71,
          90.84,
          91.06,
          90.97,
          91.14,
          91.28,
          91.58,
          91.66,
          91.81,
          91.77,
          91.61,
          91.19,
          91.25,
          91.39,
          90.5,
          89.25,
          88,
          88.39,
          88.16,
          87.86,
          87.32,
          85.98,
          86.44,
          85.58,
          86.6,
          86.51,
          86.7,
          86.59,
          86.06,
          86.29,
          86.13,
          86.31
         ],
         "high": [
          91.5,
          91.57,
          91.56,
          91.37,
          91.32,
          91.19,
          91.16,
          91.87,
          91.7,
          91.54,
          91.48,
          91.18,
          91.4,
          91.16,
          91.05,
          91.11,
          91.17,
          91.17,
          90.99,
          90.82,
          90.83,
          91.05,
          91.17,
          91.23,
          91.16,
          91.14,
          91.08,
          90.94,
          90.84,
          91.07,
          91.14,
          91.69,
          91.71,
          91.78,
          92.79,
          93.11,
          92.9,
          92.51,
          92.59,
          92.46,
          92.8,
          92.4,
          92.01,
          91.95,
          91.98,
          91.88,
          91.85,
          91.95,
          91.82,
          91.87,
          91.88,
          91.81,
          91.86,
          91.88,
          91.66,
          91.53,
          91.75,
          91.72,
          91.73,
          91.65,
          91.62,
          91.48,
          91.41,
          91.31,
          91.33,
          91.21,
          91.1,
          91.13,
          91.09,
          90.99,
          91.12,
          91.06,
          91.19,
          91.28,
          91.63,
          91.66,
          91.84,
          91.88,
          91.78,
          91.62,
          91.42,
          91.46,
          91.48,
          90.5,
          89.24,
          88.41,
          88.4,
          88.17,
          87.87,
          87.41,
          86.85,
          86.44,
          86.63,
          86.66,
          86.84,
          86.76,
          86.65,
          86.39,
          86.36,
          86.32
         ],
         "low": [
          91.33,
          91.3,
          91.18,
          91.12,
          91.04,
          90.73,
          90.52,
          90.95,
          90.96,
          91.16,
          90.92,
          90.93,
          90.87,
          90.91,
          90.56,
          90.73,
          90.87,
          90.89,
          90.61,
          90.6,
          90.66,
          90.7,
          90.88,
          90.99,
          90.98,
          90.94,
          90.89,
          90.77,
          90.59,
          90.36,
          90.49,
          91.12,
          91.29,
          91.37,
          91.69,
          92.61,
          92.34,
          92.18,
          92.21,
          92.24,
          92.36,
          91.8,
          91.77,
          91.5,
          91.65,
          91.71,
          91.62,
          91.68,
          91.63,
          91.8,
          91.66,
          91.69,
          91.51,
          91.52,
          91.5,
          91.08,
          91.27,
          91.51,
          91.44,
          91.46,
          91.27,
          91.15,
          91.16,
          91.12,
          90.91,
          91.01,
          90.76,
          90.96,
          90.68,
          90.62,
          90.75,
          90.86,
          90.9,
          91.11,
          91.24,
          91.47,
          91.42,
          91.43,
          91.44,
          91.18,
          91.05,
          91.17,
          90.39,
          88.33,
          87.25,
          87.77,
          87.92,
          87.77,
          87.03,
          85.5,
          85.98,
          85.52,
          85.55,
          86.33,
          86.24,
          86.43,
          85.93,
          86.06,
          86.02,
          86.03
         ],
         "open": [
          91.39,
          91.38,
          91.53,
          91.2,
          91.29,
          91.1,
          90.79,
          90.95,
          91.53,
          91.37,
          91.42,
          90.96,
          91.1,
          91.01,
          90.98,
          90.74,
          91.04,
          91.13,
          90.95,
          90.67,
          90.8,
          90.7,
          90.91,
          91.13,
          91.03,
          91.07,
          91,
          90.9,
          90.84,
          90.78,
          90.49,
          91.12,
          91.29,
          91.56,
          91.7,
          92.61,
          92.73,
          92.45,
          92.36,
          92.28,
          92.4,
          92.36,
          91.93,
          91.77,
          91.95,
          91.76,
          91.73,
          91.85,
          91.72,
          91.8,
          91.85,
          91.78,
          91.76,
          91.86,
          91.59,
          91.52,
          91.37,
          91.56,
          91.71,
          91.58,
          91.62,
          91.41,
          91.22,
          91.18,
          91.28,
          91.06,
          91.06,
          90.97,
          91.07,
          90.71,
          90.84,
          91.06,
          90.97,
          91.14,
          91.27,
          91.58,
          91.66,
          91.81,
          91.77,
          91.61,
          91.19,
          91.22,
          91.39,
          90.5,
          89.24,
          88,
          88.4,
          88.16,
          87.87,
          87.32,
          85.98,
          86.44,
          85.58,
          86.6,
          86.51,
          86.69,
          86.59,
          86.06,
          86.29,
          86.13
         ],
         "type": "candlestick",
         "x": [
          "2023-05-22 07:00:00",
          "2023-05-22 07:30:00",
          "2023-05-22 08:00:00",
          "2023-05-22 08:30:00",
          "2023-05-22 09:00:00",
          "2023-05-22 09:30:00",
          "2023-05-22 10:00:00",
          "2023-05-22 10:30:00",
          "2023-05-22 11:00:00",
          "2023-05-22 11:30:00",
          "2023-05-22 12:00:00",
          "2023-05-22 12:30:00",
          "2023-05-22 13:00:00",
          "2023-05-22 13:30:00",
          "2023-05-22 14:00:00",
          "2023-05-22 14:30:00",
          "2023-05-22 15:00:00",
          "2023-05-22 15:30:00",
          "2023-05-22 16:00:00",
          "2023-05-22 16:30:00",
          "2023-05-22 17:00:00",
          "2023-05-22 17:30:00",
          "2023-05-22 18:00:00",
          "2023-05-22 18:30:00",
          "2023-05-22 19:00:00",
          "2023-05-22 19:30:00",
          "2023-05-22 20:00:00",
          "2023-05-22 20:30:00",
          "2023-05-22 21:00:00",
          "2023-05-22 21:30:00",
          "2023-05-22 22:00:00",
          "2023-05-22 22:30:00",
          "2023-05-22 23:00:00",
          "2023-05-22 23:30:00",
          "2023-05-23 00:00:00",
          "2023-05-23 00:30:00",
          "2023-05-23 01:00:00",
          "2023-05-23 01:30:00",
          "2023-05-23 02:00:00",
          "2023-05-23 02:30:00",
          "2023-05-23 03:00:00",
          "2023-05-23 03:30:00",
          "2023-05-23 04:00:00",
          "2023-05-23 04:30:00",
          "2023-05-23 05:00:00",
          "2023-05-23 05:30:00",
          "2023-05-23 06:00:00",
          "2023-05-23 06:30:00",
          "2023-05-23 07:00:00",
          "2023-05-23 07:30:00",
          "2023-05-23 08:00:00",
          "2023-05-23 08:30:00",
          "2023-05-23 09:00:00",
          "2023-05-23 09:30:00",
          "2023-05-23 10:00:00",
          "2023-05-23 10:30:00",
          "2023-05-23 11:00:00",
          "2023-05-23 11:30:00",
          "2023-05-23 12:00:00",
          "2023-05-23 12:30:00",
          "2023-05-23 13:00:00",
          "2023-05-23 13:30:00",
          "2023-05-23 14:00:00",
          "2023-05-23 14:30:00",
          "2023-05-23 15:00:00",
          "2023-05-23 15:30:00",
          "2023-05-23 16:00:00",
          "2023-05-23 16:30:00",
          "2023-05-23 17:00:00",
          "2023-05-23 17:30:00",
          "2023-05-23 18:00:00",
          "2023-05-23 18:30:00",
          "2023-05-23 19:00:00",
          "2023-05-23 19:30:00",
          "2023-05-23 20:00:00",
          "2023-05-23 20:30:00",
          "2023-05-23 21:00:00",
          "2023-05-23 21:30:00",
          "2023-05-23 22:00:00",
          "2023-05-23 22:30:00",
          "2023-05-23 23:00:00",
          "2023-05-23 23:30:00",
          "2023-05-24 00:00:00",
          "2023-05-24 00:30:00",
          "2023-05-24 01:00:00",
          "2023-05-24 01:30:00",
          "2023-05-24 02:00:00",
          "2023-05-24 02:30:00",
          "2023-05-24 03:00:00",
          "2023-05-24 03:30:00",
          "2023-05-24 04:00:00",
          "2023-05-24 04:30:00",
          "2023-05-24 05:00:00",
          "2023-05-24 05:30:00",
          "2023-05-24 06:00:00",
          "2023-05-24 06:30:00",
          "2023-05-24 07:00:00",
          "2023-05-24 07:30:00",
          "2023-05-24 08:00:00",
          "2023-05-24 08:30:00"
         ]
        },
        {
         "line": {
          "color": "red",
          "width": 1
         },
         "name": "upper_band",
         "type": "scatter",
         "x": [
          "2023-05-22 07:00:00",
          "2023-05-22 07:30:00",
          "2023-05-22 08:00:00",
          "2023-05-22 08:30:00",
          "2023-05-22 09:00:00",
          "2023-05-22 09:30:00",
          "2023-05-22 10:00:00",
          "2023-05-22 10:30:00",
          "2023-05-22 11:00:00",
          "2023-05-22 11:30:00",
          "2023-05-22 12:00:00",
          "2023-05-22 12:30:00",
          "2023-05-22 13:00:00",
          "2023-05-22 13:30:00",
          "2023-05-22 14:00:00",
          "2023-05-22 14:30:00",
          "2023-05-22 15:00:00",
          "2023-05-22 15:30:00",
          "2023-05-22 16:00:00",
          "2023-05-22 16:30:00",
          "2023-05-22 17:00:00",
          "2023-05-22 17:30:00",
          "2023-05-22 18:00:00",
          "2023-05-22 18:30:00",
          "2023-05-22 19:00:00",
          "2023-05-22 19:30:00",
          "2023-05-22 20:00:00",
          "2023-05-22 20:30:00",
          "2023-05-22 21:00:00",
          "2023-05-22 21:30:00",
          "2023-05-22 22:00:00",
          "2023-05-22 22:30:00",
          "2023-05-22 23:00:00",
          "2023-05-22 23:30:00",
          "2023-05-23 00:00:00",
          "2023-05-23 00:30:00",
          "2023-05-23 01:00:00",
          "2023-05-23 01:30:00",
          "2023-05-23 02:00:00",
          "2023-05-23 02:30:00",
          "2023-05-23 03:00:00",
          "2023-05-23 03:30:00",
          "2023-05-23 04:00:00",
          "2023-05-23 04:30:00",
          "2023-05-23 05:00:00",
          "2023-05-23 05:30:00",
          "2023-05-23 06:00:00",
          "2023-05-23 06:30:00",
          "2023-05-23 07:00:00",
          "2023-05-23 07:30:00",
          "2023-05-23 08:00:00",
          "2023-05-23 08:30:00",
          "2023-05-23 09:00:00",
          "2023-05-23 09:30:00",
          "2023-05-23 10:00:00",
          "2023-05-23 10:30:00",
          "2023-05-23 11:00:00",
          "2023-05-23 11:30:00",
          "2023-05-23 12:00:00",
          "2023-05-23 12:30:00",
          "2023-05-23 13:00:00",
          "2023-05-23 13:30:00",
          "2023-05-23 14:00:00",
          "2023-05-23 14:30:00",
          "2023-05-23 15:00:00",
          "2023-05-23 15:30:00",
          "2023-05-23 16:00:00",
          "2023-05-23 16:30:00",
          "2023-05-23 17:00:00",
          "2023-05-23 17:30:00",
          "2023-05-23 18:00:00",
          "2023-05-23 18:30:00",
          "2023-05-23 19:00:00",
          "2023-05-23 19:30:00",
          "2023-05-23 20:00:00",
          "2023-05-23 20:30:00",
          "2023-05-23 21:00:00",
          "2023-05-23 21:30:00",
          "2023-05-23 22:00:00",
          "2023-05-23 22:30:00",
          "2023-05-23 23:00:00",
          "2023-05-23 23:30:00",
          "2023-05-24 00:00:00",
          "2023-05-24 00:30:00",
          "2023-05-24 01:00:00",
          "2023-05-24 01:30:00",
          "2023-05-24 02:00:00",
          "2023-05-24 02:30:00",
          "2023-05-24 03:00:00",
          "2023-05-24 03:30:00",
          "2023-05-24 04:00:00",
          "2023-05-24 04:30:00",
          "2023-05-24 05:00:00",
          "2023-05-24 05:30:00",
          "2023-05-24 06:00:00",
          "2023-05-24 06:30:00",
          "2023-05-24 07:00:00",
          "2023-05-24 07:30:00",
          "2023-05-24 08:00:00",
          "2023-05-24 08:30:00"
         ],
         "y": [
          91.74097409680375,
          91.68592255387293,
          91.64926352371093,
          91.5339135362335,
          91.53241047568339,
          91.5471339498283,
          91.54779807420769,
          91.59591229192065,
          91.61361864737542,
          91.63847146025638,
          91.64191424570745,
          91.64187805942909,
          91.59707338551301,
          91.58408947354681,
          91.60843267649899,
          91.6084497739692,
          91.60879012941226,
          91.61065337703022,
          91.62549574572664,
          91.60051560927188,
          91.57516428725279,
          91.50028612154777,
          91.49270806305978,
          91.4655642969676,
          91.46311554072135,
          91.4619643657116,
          91.46183055764833,
          91.36647858964484,
          91.30355635379055,
          91.24571779157783,
          91.2654621191397,
          91.30353466506281,
          91.42081824404686,
          91.558977953715,
          91.97846080541028,
          92.31423773753495,
          92.50848418457724,
          92.6613619855909,
          92.7720068591886,
          92.89097286591615,
          92.9788623489856,
          93.00740575786564,
          93.02407218439022,
          93.04786362126443,
          93.05364771488625,
          93.04904580365744,
          93.03685265360592,
          93.00142923093144,
          92.94622198800829,
          92.7967317371776,
          92.74208210497936,
          92.70274412565817,
          92.68971804897798,
          92.69613497519197,
          92.61987653144736,
          92.5030125207374,
          92.42069426226585,
          92.34186308859742,
          92.27298232815772,
          92.14997487357867,
          92.02025306322611,
          92.02932762869345,
          92.05439637260382,
          92.02234973247528,
          92.04378275428995,
          92.05484387766262,
          92.04595172046119,
          92.03412487699502,
          92.04466631762604,
          92.00603295984047,
          91.95190542510305,
          91.89634843533561,
          91.80228769535132,
          91.76254107822707,
          91.77267026970111,
          91.81593205398647,
          91.86517765986468,
          91.87759254795296,
          91.88231793434579,
          91.8428455560487,
          91.83108472903302,
          91.8428134629935,
          91.89121947232265,
          92.1990095139425,
          92.69551695394007,
          92.88852945781052,
          93.04887217183918,
          93.17870502501655,
          93.3499347583361,
          93.64808910044624,
          93.72792270406738,
          93.84948841799635,
          93.75413571707956,
          93.5949234973772,
          93.32465081080574,
          92.98947004823327,
          92.58559590714256,
          92.09627597181742,
          91.56157395982473,
          91.03018743178869
         ]
        },
        {
         "line": {
          "color": "red",
          "width": 1
         },
         "name": "lower_band",
         "type": "scatter",
         "x": [
          "2023-05-22 07:00:00",
          "2023-05-22 07:30:00",
          "2023-05-22 08:00:00",
          "2023-05-22 08:30:00",
          "2023-05-22 09:00:00",
          "2023-05-22 09:30:00",
          "2023-05-22 10:00:00",
          "2023-05-22 10:30:00",
          "2023-05-22 11:00:00",
          "2023-05-22 11:30:00",
          "2023-05-22 12:00:00",
          "2023-05-22 12:30:00",
          "2023-05-22 13:00:00",
          "2023-05-22 13:30:00",
          "2023-05-22 14:00:00",
          "2023-05-22 14:30:00",
          "2023-05-22 15:00:00",
          "2023-05-22 15:30:00",
          "2023-05-22 16:00:00",
          "2023-05-22 16:30:00",
          "2023-05-22 17:00:00",
          "2023-05-22 17:30:00",
          "2023-05-22 18:00:00",
          "2023-05-22 18:30:00",
          "2023-05-22 19:00:00",
          "2023-05-22 19:30:00",
          "2023-05-22 20:00:00",
          "2023-05-22 20:30:00",
          "2023-05-22 21:00:00",
          "2023-05-22 21:30:00",
          "2023-05-22 22:00:00",
          "2023-05-22 22:30:00",
          "2023-05-22 23:00:00",
          "2023-05-22 23:30:00",
          "2023-05-23 00:00:00",
          "2023-05-23 00:30:00",
          "2023-05-23 01:00:00",
          "2023-05-23 01:30:00",
          "2023-05-23 02:00:00",
          "2023-05-23 02:30:00",
          "2023-05-23 03:00:00",
          "2023-05-23 03:30:00",
          "2023-05-23 04:00:00",
          "2023-05-23 04:30:00",
          "2023-05-23 05:00:00",
          "2023-05-23 05:30:00",
          "2023-05-23 06:00:00",
          "2023-05-23 06:30:00",
          "2023-05-23 07:00:00",
          "2023-05-23 07:30:00",
          "2023-05-23 08:00:00",
          "2023-05-23 08:30:00",
          "2023-05-23 09:00:00",
          "2023-05-23 09:30:00",
          "2023-05-23 10:00:00",
          "2023-05-23 10:30:00",
          "2023-05-23 11:00:00",
          "2023-05-23 11:30:00",
          "2023-05-23 12:00:00",
          "2023-05-23 12:30:00",
          "2023-05-23 13:00:00",
          "2023-05-23 13:30:00",
          "2023-05-23 14:00:00",
          "2023-05-23 14:30:00",
          "2023-05-23 15:00:00",
          "2023-05-23 15:30:00",
          "2023-05-23 16:00:00",
          "2023-05-23 16:30:00",
          "2023-05-23 17:00:00",
          "2023-05-23 17:30:00",
          "2023-05-23 18:00:00",
          "2023-05-23 18:30:00",
          "2023-05-23 19:00:00",
          "2023-05-23 19:30:00",
          "2023-05-23 20:00:00",
          "2023-05-23 20:30:00",
          "2023-05-23 21:00:00",
          "2023-05-23 21:30:00",
          "2023-05-23 22:00:00",
          "2023-05-23 22:30:00",
          "2023-05-23 23:00:00",
          "2023-05-23 23:30:00",
          "2023-05-24 00:00:00",
          "2023-05-24 00:30:00",
          "2023-05-24 01:00:00",
          "2023-05-24 01:30:00",
          "2023-05-24 02:00:00",
          "2023-05-24 02:30:00",
          "2023-05-24 03:00:00",
          "2023-05-24 03:30:00",
          "2023-05-24 04:00:00",
          "2023-05-24 04:30:00",
          "2023-05-24 05:00:00",
          "2023-05-24 05:30:00",
          "2023-05-24 06:00:00",
          "2023-05-24 06:30:00",
          "2023-05-24 07:00:00",
          "2023-05-24 07:30:00",
          "2023-05-24 08:00:00",
          "2023-05-24 08:30:00"
         ],
         "y": [
          90.46702590319624,
          90.49807744612707,
          90.50773647628905,
          90.7330864637665,
          90.7505895243166,
          90.71086605017172,
          90.69620192579228,
          90.71808770807934,
          90.74538135262456,
          90.76252853974363,
          90.74408575429254,
          90.74812194057093,
          90.74192661448699,
          90.77091052645318,
          90.71356732350101,
          90.7125502260308,
          90.71320987058772,
          90.69934662296978,
          90.62650425427337,
          90.59148439072813,
          90.5478357127472,
          90.56071387845223,
          90.56129193694022,
          90.5634357030324,
          90.56288445927866,
          90.58503563428837,
          90.58116944235168,
          90.60752141035515,
          90.61144364620947,
          90.57628220842214,
          90.57253788086032,
          90.55346533493719,
          90.49118175595312,
          90.42502204628498,
          90.19253919458971,
          90.02576226246505,
          89.96351581542277,
          89.9516380144091,
          90.00199314081141,
          90.04402713408385,
          90.1221376510144,
          90.19559424213436,
          90.24292781560978,
          90.31113637873558,
          90.37435228511377,
          90.4509541963426,
          90.55814734639408,
          90.68057076906858,
          90.8377780119917,
          91.12326826282239,
          91.24391789502066,
          91.33025587434184,
          91.37328195102204,
          91.35686502480803,
          91.32412346855263,
          91.30498747926259,
          91.29830573773414,
          91.31213691140258,
          91.31101767184228,
          91.35402512642132,
          91.38774693677388,
          91.30867237130654,
          91.22460362739618,
          91.19065026752472,
          91.09921724571002,
          91.02215612233738,
          90.94304827953881,
          90.89087512300499,
          90.77133368237396,
          90.70896704015954,
          90.69109457489692,
          90.66765156466438,
          90.6897123046487,
          90.69745892177293,
          90.6933297302989,
          90.67906794601353,
          90.65482234013533,
          90.64840745204705,
          90.6466820656542,
          90.6451544439513,
          90.64191527096699,
          90.6461865370065,
          90.52978052767735,
          90.01799048605751,
          89.21548304605993,
          88.75547054218946,
          88.31412782816082,
          87.86329497498342,
          87.3530652416639,
          86.56891089955377,
          86.02707729593261,
          85.36651158200365,
          85.00786428292044,
          84.6900765026228,
          84.47234918919426,
          84.30052995176672,
          84.12940409285744,
          84.07072402818258,
          84.05742604017524,
          84.10081256821131
         ]
        },
        {
         "line": {
          "color": "blue",
          "dash": "dash",
          "width": 1
         },
         "name": "upper_KC",
         "type": "scatter",
         "x": [
          "2023-05-22 07:00:00",
          "2023-05-22 07:30:00",
          "2023-05-22 08:00:00",
          "2023-05-22 08:30:00",
          "2023-05-22 09:00:00",
          "2023-05-22 09:30:00",
          "2023-05-22 10:00:00",
          "2023-05-22 10:30:00",
          "2023-05-22 11:00:00",
          "2023-05-22 11:30:00",
          "2023-05-22 12:00:00",
          "2023-05-22 12:30:00",
          "2023-05-22 13:00:00",
          "2023-05-22 13:30:00",
          "2023-05-22 14:00:00",
          "2023-05-22 14:30:00",
          "2023-05-22 15:00:00",
          "2023-05-22 15:30:00",
          "2023-05-22 16:00:00",
          "2023-05-22 16:30:00",
          "2023-05-22 17:00:00",
          "2023-05-22 17:30:00",
          "2023-05-22 18:00:00",
          "2023-05-22 18:30:00",
          "2023-05-22 19:00:00",
          "2023-05-22 19:30:00",
          "2023-05-22 20:00:00",
          "2023-05-22 20:30:00",
          "2023-05-22 21:00:00",
          "2023-05-22 21:30:00",
          "2023-05-22 22:00:00",
          "2023-05-22 22:30:00",
          "2023-05-22 23:00:00",
          "2023-05-22 23:30:00",
          "2023-05-23 00:00:00",
          "2023-05-23 00:30:00",
          "2023-05-23 01:00:00",
          "2023-05-23 01:30:00",
          "2023-05-23 02:00:00",
          "2023-05-23 02:30:00",
          "2023-05-23 03:00:00",
          "2023-05-23 03:30:00",
          "2023-05-23 04:00:00",
          "2023-05-23 04:30:00",
          "2023-05-23 05:00:00",
          "2023-05-23 05:30:00",
          "2023-05-23 06:00:00",
          "2023-05-23 06:30:00",
          "2023-05-23 07:00:00",
          "2023-05-23 07:30:00",
          "2023-05-23 08:00:00",
          "2023-05-23 08:30:00",
          "2023-05-23 09:00:00",
          "2023-05-23 09:30:00",
          "2023-05-23 10:00:00",
          "2023-05-23 10:30:00",
          "2023-05-23 11:00:00",
          "2023-05-23 11:30:00",
          "2023-05-23 12:00:00",
          "2023-05-23 12:30:00",
          "2023-05-23 13:00:00",
          "2023-05-23 13:30:00",
          "2023-05-23 14:00:00",
          "2023-05-23 14:30:00",
          "2023-05-23 15:00:00",
          "2023-05-23 15:30:00",
          "2023-05-23 16:00:00",
          "2023-05-23 16:30:00",
          "2023-05-23 17:00:00",
          "2023-05-23 17:30:00",
          "2023-05-23 18:00:00",
          "2023-05-23 18:30:00",
          "2023-05-23 19:00:00",
          "2023-05-23 19:30:00",
          "2023-05-23 20:00:00",
          "2023-05-23 20:30:00",
          "2023-05-23 21:00:00",
          "2023-05-23 21:30:00",
          "2023-05-23 22:00:00",
          "2023-05-23 22:30:00",
          "2023-05-23 23:00:00",
          "2023-05-23 23:30:00",
          "2023-05-24 00:00:00",
          "2023-05-24 00:30:00",
          "2023-05-24 01:00:00",
          "2023-05-24 01:30:00",
          "2023-05-24 02:00:00",
          "2023-05-24 02:30:00",
          "2023-05-24 03:00:00",
          "2023-05-24 03:30:00",
          "2023-05-24 04:00:00",
          "2023-05-24 04:30:00",
          "2023-05-24 05:00:00",
          "2023-05-24 05:30:00",
          "2023-05-24 06:00:00",
          "2023-05-24 06:30:00",
          "2023-05-24 07:00:00",
          "2023-05-24 07:30:00",
          "2023-05-24 08:00:00",
          "2023-05-24 08:30:00"
         ],
         "y": [
          91.60931924508608,
          91.57907938234315,
          91.58065585828075,
          91.61253661132062,
          91.60980268198959,
          91.63761128526421,
          91.71268196067071,
          91.89392160418514,
          91.98425403978783,
          91.96257148709915,
          91.96924030762658,
          91.89828752442175,
          91.88946251998142,
          91.83474206180298,
          91.83237986874789,
          91.81344716533918,
          91.77704768073205,
          91.73540264787168,
          91.70451125734957,
          91.62932739237692,
          91.54422241194474,
          91.52090924613661,
          91.50733483774813,
          91.47295577633939,
          91.43719108973222,
          91.42511089159908,
          91.40190891130835,
          91.34460729107046,
          91.31826960178493,
          91.39981149236947,
          91.49620940284777,
          91.55621678414816,
          91.58413191430303,
          91.61774429352066,
          91.89747260378964,
          91.97070485764607,
          92.04384942898315,
          92.05746771462258,
          92.10506449378211,
          92.11500731309445,
          92.20027871071365,
          92.29677349058389,
          92.26781467411409,
          92.32121200609336,
          92.32903709589458,
          92.29957580573193,
          92.30988020468975,
          92.3338565311098,
          92.34706443454436,
          92.3514163555363,
          92.37324974543881,
          92.36034070081357,
          92.4082787552111,
          92.43295534517272,
          92.34819073695948,
          92.33451969387595,
          92.34265247680759,
          92.2795792992062,
          92.2413830629869,
          92.17149523335291,
          92.14267791819785,
          92.11791829670733,
          92.07497860639691,
          92.01461885977929,
          92.01996088527395,
          91.95996799704233,
          91.93206472485281,
          91.86687113851595,
          91.8506672951494,
          91.82059142330405,
          91.80130207361239,
          91.72911078750106,
          91.69090882613725,
          91.64037994865774,
          91.67512904890178,
          91.66106013091964,
          91.7129128343888,
          91.75629231904539,
          91.76083007921895,
          91.77008824663368,
          91.76784492906393,
          91.75832766923412,
          91.92817718391882,
          92.2875086050245,
          92.46559794956549,
          92.23208014055358,
          91.9661110240893,
          91.68113629243669,
          91.52979333017548,
          91.59346727014358,
          91.32974594829929,
          91.04711032133578,
          90.85299935382018,
          90.43686310767106,
          90.12116072445814,
          89.73535877455666,
          89.4459753610009,
          89.06407074990983,
          88.70451243174439,
          88.37687380779087
         ]
        },
        {
         "line": {
          "color": "blue",
          "dash": "dash",
          "width": 1
         },
         "name": "lower_KC",
         "type": "scatter",
         "x": [
          "2023-05-22 07:00:00",
          "2023-05-22 07:30:00",
          "2023-05-22 08:00:00",
          "2023-05-22 08:30:00",
          "2023-05-22 09:00:00",
          "2023-05-22 09:30:00",
          "2023-05-22 10:00:00",
          "2023-05-22 10:30:00",
          "2023-05-22 11:00:00",
          "2023-05-22 11:30:00",
          "2023-05-22 12:00:00",
          "2023-05-22 12:30:00",
          "2023-05-22 13:00:00",
          "2023-05-22 13:30:00",
          "2023-05-22 14:00:00",
          "2023-05-22 14:30:00",
          "2023-05-22 15:00:00",
          "2023-05-22 15:30:00",
          "2023-05-22 16:00:00",
          "2023-05-22 16:30:00",
          "2023-05-22 17:00:00",
          "2023-05-22 17:30:00",
          "2023-05-22 18:00:00",
          "2023-05-22 18:30:00",
          "2023-05-22 19:00:00",
          "2023-05-22 19:30:00",
          "2023-05-22 20:00:00",
          "2023-05-22 20:30:00",
          "2023-05-22 21:00:00",
          "2023-05-22 21:30:00",
          "2023-05-22 22:00:00",
          "2023-05-22 22:30:00",
          "2023-05-22 23:00:00",
          "2023-05-22 23:30:00",
          "2023-05-23 00:00:00",
          "2023-05-23 00:30:00",
          "2023-05-23 01:00:00",
          "2023-05-23 01:30:00",
          "2023-05-23 02:00:00",
          "2023-05-23 02:30:00",
          "2023-05-23 03:00:00",
          "2023-05-23 03:30:00",
          "2023-05-23 04:00:00",
          "2023-05-23 04:30:00",
          "2023-05-23 05:00:00",
          "2023-05-23 05:30:00",
          "2023-05-23 06:00:00",
          "2023-05-23 06:30:00",
          "2023-05-23 07:00:00",
          "2023-05-23 07:30:00",
          "2023-05-23 08:00:00",
          "2023-05-23 08:30:00",
          "2023-05-23 09:00:00",
          "2023-05-23 09:30:00",
          "2023-05-23 10:00:00",
          "2023-05-23 10:30:00",
          "2023-05-23 11:00:00",
          "2023-05-23 11:30:00",
          "2023-05-23 12:00:00",
          "2023-05-23 12:30:00",
          "2023-05-23 13:00:00",
          "2023-05-23 13:30:00",
          "2023-05-23 14:00:00",
          "2023-05-23 14:30:00",
          "2023-05-23 15:00:00",
          "2023-05-23 15:30:00",
          "2023-05-23 16:00:00",
          "2023-05-23 16:30:00",
          "2023-05-23 17:00:00",
          "2023-05-23 17:30:00",
          "2023-05-23 18:00:00",
          "2023-05-23 18:30:00",
          "2023-05-23 19:00:00",
          "2023-05-23 19:30:00",
          "2023-05-23 20:00:00",
          "2023-05-23 20:30:00",
          "2023-05-23 21:00:00",
          "2023-05-23 21:30:00",
          "2023-05-23 22:00:00",
          "2023-05-23 22:30:00",
          "2023-05-23 23:00:00",
          "2023-05-23 23:30:00",
          "2023-05-24 00:00:00",
          "2023-05-24 00:30:00",
          "2023-05-24 01:00:00",
          "2023-05-24 01:30:00",
          "2023-05-24 02:00:00",
          "2023-05-24 02:30:00",
          "2023-05-24 03:00:00",
          "2023-05-24 03:30:00",
          "2023-05-24 04:00:00",
          "2023-05-24 04:30:00",
          "2023-05-24 05:00:00",
          "2023-05-24 05:30:00",
          "2023-05-24 06:00:00",
          "2023-05-24 06:30:00",
          "2023-05-24 07:00:00",
          "2023-05-24 07:30:00",
          "2023-05-24 08:00:00",
          "2023-05-24 08:30:00"
         ],
         "y": [
          90.59868075491391,
          90.60492061765684,
          90.57634414171923,
          90.65446338867937,
          90.6731973180104,
          90.6203887147358,
          90.53131803932926,
          90.42007839581485,
          90.37474596021215,
          90.43842851290086,
          90.41675969237342,
          90.49171247557827,
          90.44953748001858,
          90.520257938197,
          90.48962013125211,
          90.50755283466081,
          90.54495231926792,
          90.57459735212832,
          90.54748874265044,
          90.56267260762309,
          90.57877758805525,
          90.5400907538634,
          90.54666516225187,
          90.5560442236606,
          90.58880891026779,
          90.6218891084009,
          90.64109108869165,
          90.62939270892953,
          90.59673039821509,
          90.42218850763051,
          90.34179059715225,
          90.30078321585184,
          90.32786808569695,
          90.36625570647932,
          90.27352739621035,
          90.36929514235393,
          90.42815057101686,
          90.55553228537742,
          90.66893550621789,
          90.81999268690555,
          90.90072128928635,
          90.90622650941611,
          90.9991853258859,
          91.03778799390665,
          91.09896290410545,
          91.2004241942681,
          91.28511979531025,
          91.34814346889021,
          91.43693556545563,
          91.56858364446369,
          91.6127502545612,
          91.67265929918645,
          91.65472124478892,
          91.62004465482728,
          91.59580926304051,
          91.47348030612405,
          91.37634752319241,
          91.37442070079379,
          91.3426169370131,
          91.33250476664708,
          91.26532208180214,
          91.22008170329266,
          91.20402139360309,
          91.1983811402207,
          91.12303911472603,
          91.11703200295767,
          91.0569352751472,
          91.05812886148406,
          90.9653327048506,
          90.89440857669595,
          90.84169792638758,
          90.83488921249894,
          90.80109117386277,
          90.81962005134227,
          90.79087095109823,
          90.83393986908037,
          90.80708716561121,
          90.76970768095462,
          90.76816992078105,
          90.71791175336632,
          90.70515507093609,
          90.73067233076588,
          90.49282281608117,
          89.92949139497551,
          89.44540205043451,
          89.4119198594464,
          89.3968889759107,
          89.36086370756328,
          89.17320666982452,
          88.62353272985644,
          88.4252540517007,
          88.16888967866423,
          87.90900064617982,
          87.84813689232894,
          87.67583927554186,
          87.55464122544333,
          87.2690246389991,
          87.10292925009017,
          86.91448756825558,
          86.75412619220913
         ]
        }
       ],
       "layout": {
        "autosize": false,
        "height": 600,
        "margin": {
         "b": 100,
         "l": 50,
         "pad": 4,
         "r": 50,
         "t": 50
        },
        "paper_bgcolor": "LightSteelBlue",
        "shapes": [
         {
          "line": {
           "color": "green",
           "dash": "dash",
           "width": 1
          },
          "type": "line",
          "x0": "2023-05-22 19:00:00",
          "x1": "2023-05-22 19:00:00",
          "y0": 85.5,
          "y1": 93.11
         },
         {
          "line": {
           "color": "green",
           "dash": "dash",
           "width": 1
          },
          "type": "line",
          "x0": "2023-05-23 14:30:00",
          "x1": "2023-05-23 14:30:00",
          "y0": 85.5,
          "y1": 93.11
         }
        ],
        "template": {
         "data": {
          "bar": [
           {
            "error_x": {
             "color": "#2a3f5f"
            },
            "error_y": {
             "color": "#2a3f5f"
            },
            "marker": {
             "line": {
              "color": "#E5ECF6",
              "width": 0.5
             },
             "pattern": {
              "fillmode": "overlay",
              "size": 10,
              "solidity": 0.2
             }
            },
            "type": "bar"
           }
          ],
          "barpolar": [
           {
            "marker": {
             "line": {
              "color": "#E5ECF6",
              "width": 0.5
             },
             "pattern": {
              "fillmode": "overlay",
              "size": 10,
              "solidity": 0.2
             }
            },
            "type": "barpolar"
           }
          ],
          "carpet": [
           {
            "aaxis": {
             "endlinecolor": "#2a3f5f",
             "gridcolor": "white",
             "linecolor": "white",
             "minorgridcolor": "white",
             "startlinecolor": "#2a3f5f"
            },
            "baxis": {
             "endlinecolor": "#2a3f5f",
             "gridcolor": "white",
             "linecolor": "white",
             "minorgridcolor": "white",
             "startlinecolor": "#2a3f5f"
            },
            "type": "carpet"
           }
          ],
          "choropleth": [
           {
            "colorbar": {
             "outlinewidth": 0,
             "ticks": ""
            },
            "type": "choropleth"
           }
          ],
          "contour": [
           {
            "colorbar": {
             "outlinewidth": 0,
             "ticks": ""
            },
            "colorscale": [
             [
              0,
              "#0d0887"
             ],
             [
              0.1111111111111111,
              "#46039f"
             ],
             [
              0.2222222222222222,
              "#7201a8"
             ],
             [
              0.3333333333333333,
              "#9c179e"
             ],
             [
              0.4444444444444444,
              "#bd3786"
             ],
             [
              0.5555555555555556,
              "#d8576b"
             ],
             [
              0.6666666666666666,
              "#ed7953"
             ],
             [
              0.7777777777777778,
              "#fb9f3a"
             ],
             [
              0.8888888888888888,
              "#fdca26"
             ],
             [
              1,
              "#f0f921"
             ]
            ],
            "type": "contour"
           }
          ],
          "contourcarpet": [
           {
            "colorbar": {
             "outlinewidth": 0,
             "ticks": ""
            },
            "type": "contourcarpet"
           }
          ],
          "heatmap": [
           {
            "colorbar": {
             "outlinewidth": 0,
             "ticks": ""
            },
            "colorscale": [
             [
              0,
              "#0d0887"
             ],
             [
              0.1111111111111111,
              "#46039f"
             ],
             [
              0.2222222222222222,
              "#7201a8"
             ],
             [
              0.3333333333333333,
              "#9c179e"
             ],
             [
              0.4444444444444444,
              "#bd3786"
             ],
             [
              0.5555555555555556,
              "#d8576b"
             ],
             [
              0.6666666666666666,
              "#ed7953"
             ],
             [
              0.7777777777777778,
              "#fb9f3a"
             ],
             [
              0.8888888888888888,
              "#fdca26"
             ],
             [
              1,
              "#f0f921"
             ]
            ],
            "type": "heatmap"
           }
          ],
          "heatmapgl": [
           {
            "colorbar": {
             "outlinewidth": 0,
             "ticks": ""
            },
            "colorscale": [
             [
              0,
              "#0d0887"
             ],
             [
              0.1111111111111111,
              "#46039f"
             ],
             [
              0.2222222222222222,
              "#7201a8"
             ],
             [
              0.3333333333333333,
              "#9c179e"
             ],
             [
              0.4444444444444444,
              "#bd3786"
             ],
             [
              0.5555555555555556,
              "#d8576b"
             ],
             [
              0.6666666666666666,
              "#ed7953"
             ],
             [
              0.7777777777777778,
              "#fb9f3a"
             ],
             [
              0.8888888888888888,
              "#fdca26"
             ],
             [
              1,
              "#f0f921"
             ]
            ],
            "type": "heatmapgl"
           }
          ],
          "histogram": [
           {
            "marker": {
             "pattern": {
              "fillmode": "overlay",
              "size": 10,
              "solidity": 0.2
             }
            },
            "type": "histogram"
           }
          ],
          "histogram2d": [
           {
            "colorbar": {
             "outlinewidth": 0,
             "ticks": ""
            },
            "colorscale": [
             [
              0,
              "#0d0887"
             ],
             [
              0.1111111111111111,
              "#46039f"
             ],
             [
              0.2222222222222222,
              "#7201a8"
             ],
             [
              0.3333333333333333,
              "#9c179e"
             ],
             [
              0.4444444444444444,
              "#bd3786"
             ],
             [
              0.5555555555555556,
              "#d8576b"
             ],
             [
              0.6666666666666666,
              "#ed7953"
             ],
             [
              0.7777777777777778,
              "#fb9f3a"
             ],
             [
              0.8888888888888888,
              "#fdca26"
             ],
             [
              1,
              "#f0f921"
             ]
            ],
            "type": "histogram2d"
           }
          ],
          "histogram2dcontour": [
           {
            "colorbar": {
             "outlinewidth": 0,
             "ticks": ""
            },
            "colorscale": [
             [
              0,
              "#0d0887"
             ],
             [
              0.1111111111111111,
              "#46039f"
             ],
             [
              0.2222222222222222,
              "#7201a8"
             ],
             [
              0.3333333333333333,
              "#9c179e"
             ],
             [
              0.4444444444444444,
              "#bd3786"
             ],
             [
              0.5555555555555556,
              "#d8576b"
             ],
             [
              0.6666666666666666,
              "#ed7953"
             ],
             [
              0.7777777777777778,
              "#fb9f3a"
             ],
             [
              0.8888888888888888,
              "#fdca26"
             ],
             [
              1,
              "#f0f921"
             ]
            ],
            "type": "histogram2dcontour"
           }
          ],
          "mesh3d": [
           {
            "colorbar": {
             "outlinewidth": 0,
             "ticks": ""
            },
            "type": "mesh3d"
           }
          ],
          "parcoords": [
           {
            "line": {
             "colorbar": {
              "outlinewidth": 0,
              "ticks": ""
             }
            },
            "type": "parcoords"
           }
          ],
          "pie": [
           {
            "automargin": true,
            "type": "pie"
           }
          ],
          "scatter": [
           {
            "fillpattern": {
             "fillmode": "overlay",
             "size": 10,
             "solidity": 0.2
            },
            "type": "scatter"
           }
          ],
          "scatter3d": [
           {
            "line": {
             "colorbar": {
              "outlinewidth": 0,
              "ticks": ""
             }
            },
            "marker": {
             "colorbar": {
              "outlinewidth": 0,
              "ticks": ""
             }
            },
            "type": "scatter3d"
           }
          ],
          "scattercarpet": [
           {
            "marker": {
             "colorbar": {
              "outlinewidth": 0,
              "ticks": ""
             }
            },
            "type": "scattercarpet"
           }
          ],
          "scattergeo": [
           {
            "marker": {
             "colorbar": {
              "outlinewidth": 0,
              "ticks": ""
             }
            },
            "type": "scattergeo"
           }
          ],
          "scattergl": [
           {
            "marker": {
             "colorbar": {
              "outlinewidth": 0,
              "ticks": ""
             }
            },
            "type": "scattergl"
           }
          ],
          "scattermapbox": [
           {
            "marker": {
             "colorbar": {
              "outlinewidth": 0,
              "ticks": ""
             }
            },
            "type": "scattermapbox"
           }
          ],
          "scatterpolar": [
           {
            "marker": {
             "colorbar": {
              "outlinewidth": 0,
              "ticks": ""
             }
            },
            "type": "scatterpolar"
           }
          ],
          "scatterpolargl": [
           {
            "marker": {
             "colorbar": {
              "outlinewidth": 0,
              "ticks": ""
             }
            },
            "type": "scatterpolargl"
           }
          ],
          "scatterternary": [
           {
            "marker": {
             "colorbar": {
              "outlinewidth": 0,
              "ticks": ""
             }
            },
            "type": "scatterternary"
           }
          ],
          "surface": [
           {
            "colorbar": {
             "outlinewidth": 0,
             "ticks": ""
            },
            "colorscale": [
             [
              0,
              "#0d0887"
             ],
             [
              0.1111111111111111,
              "#46039f"
             ],
             [
              0.2222222222222222,
              "#7201a8"
             ],
             [
              0.3333333333333333,
              "#9c179e"
             ],
             [
              0.4444444444444444,
              "#bd3786"
             ],
             [
              0.5555555555555556,
              "#d8576b"
             ],
             [
              0.6666666666666666,
              "#ed7953"
             ],
             [
              0.7777777777777778,
              "#fb9f3a"
             ],
             [
              0.8888888888888888,
              "#fdca26"
             ],
             [
              1,
              "#f0f921"
             ]
            ],
            "type": "surface"
           }
          ],
          "table": [
           {
            "cells": {
             "fill": {
              "color": "#EBF0F8"
             },
             "line": {
              "color": "white"
             }
            },
            "header": {
             "fill": {
              "color": "#C8D4E3"
             },
             "line": {
              "color": "white"
             }
            },
            "type": "table"
           }
          ]
         },
         "layout": {
          "annotationdefaults": {
           "arrowcolor": "#2a3f5f",
           "arrowhead": 0,
           "arrowwidth": 1
          },
          "autotypenumbers": "strict",
          "coloraxis": {
           "colorbar": {
            "outlinewidth": 0,
            "ticks": ""
           }
          },
          "colorscale": {
           "diverging": [
            [
             0,
             "#8e0152"
            ],
            [
             0.1,
             "#c51b7d"
            ],
            [
             0.2,
             "#de77ae"
            ],
            [
             0.3,
             "#f1b6da"
            ],
            [
             0.4,
             "#fde0ef"
            ],
            [
             0.5,
             "#f7f7f7"
            ],
            [
             0.6,
             "#e6f5d0"
            ],
            [
             0.7,
             "#b8e186"
            ],
            [
             0.8,
             "#7fbc41"
            ],
            [
             0.9,
             "#4d9221"
            ],
            [
             1,
             "#276419"
            ]
           ],
           "sequential": [
            [
             0,
             "#0d0887"
            ],
            [
             0.1111111111111111,
             "#46039f"
            ],
            [
             0.2222222222222222,
             "#7201a8"
            ],
            [
             0.3333333333333333,
             "#9c179e"
            ],
            [
             0.4444444444444444,
             "#bd3786"
            ],
            [
             0.5555555555555556,
             "#d8576b"
            ],
            [
             0.6666666666666666,
             "#ed7953"
            ],
            [
             0.7777777777777778,
             "#fb9f3a"
            ],
            [
             0.8888888888888888,
             "#fdca26"
            ],
            [
             1,
             "#f0f921"
            ]
           ],
           "sequentialminus": [
            [
             0,
             "#0d0887"
            ],
            [
             0.1111111111111111,
             "#46039f"
            ],
            [
             0.2222222222222222,
             "#7201a8"
            ],
            [
             0.3333333333333333,
             "#9c179e"
            ],
            [
             0.4444444444444444,
             "#bd3786"
            ],
            [
             0.5555555555555556,
             "#d8576b"
            ],
            [
             0.6666666666666666,
             "#ed7953"
            ],
            [
             0.7777777777777778,
             "#fb9f3a"
            ],
            [
             0.8888888888888888,
             "#fdca26"
            ],
            [
             1,
             "#f0f921"
            ]
           ]
          },
          "colorway": [
           "#636efa",
           "#EF553B",
           "#00cc96",
           "#ab63fa",
           "#FFA15A",
           "#19d3f3",
           "#FF6692",
           "#B6E880",
           "#FF97FF",
           "#FECB52"
          ],
          "font": {
           "color": "#2a3f5f"
          },
          "geo": {
           "bgcolor": "white",
           "lakecolor": "white",
           "landcolor": "#E5ECF6",
           "showlakes": true,
           "showland": true,
           "subunitcolor": "white"
          },
          "hoverlabel": {
           "align": "left"
          },
          "hovermode": "closest",
          "mapbox": {
           "style": "light"
          },
          "paper_bgcolor": "white",
          "plot_bgcolor": "#E5ECF6",
          "polar": {
           "angularaxis": {
            "gridcolor": "white",
            "linecolor": "white",
            "ticks": ""
           },
           "bgcolor": "#E5ECF6",
           "radialaxis": {
            "gridcolor": "white",
            "linecolor": "white",
            "ticks": ""
           }
          },
          "scene": {
           "xaxis": {
            "backgroundcolor": "#E5ECF6",
            "gridcolor": "white",
            "gridwidth": 2,
            "linecolor": "white",
            "showbackground": true,
            "ticks": "",
            "zerolinecolor": "white"
           },
           "yaxis": {
            "backgroundcolor": "#E5ECF6",
            "gridcolor": "white",
            "gridwidth": 2,
            "linecolor": "white",
            "showbackground": true,
            "ticks": "",
            "zerolinecolor": "white"
           },
           "zaxis": {
            "backgroundcolor": "#E5ECF6",
            "gridcolor": "white",
            "gridwidth": 2,
            "linecolor": "white",
            "showbackground": true,
            "ticks": "",
            "zerolinecolor": "white"
           }
          },
          "shapedefaults": {
           "line": {
            "color": "#2a3f5f"
           }
          },
          "ternary": {
           "aaxis": {
            "gridcolor": "white",
            "linecolor": "white",
            "ticks": ""
           },
           "baxis": {
            "gridcolor": "white",
            "linecolor": "white",
            "ticks": ""
           },
           "bgcolor": "#E5ECF6",
           "caxis": {
            "gridcolor": "white",
            "linecolor": "white",
            "ticks": ""
           }
          },
          "title": {
           "x": 0.05
          },
          "xaxis": {
           "automargin": true,
           "gridcolor": "white",
           "linecolor": "white",
           "ticks": "",
           "title": {
            "standoff": 15
           },
           "zerolinecolor": "white",
           "zerolinewidth": 2
          },
          "yaxis": {
           "automargin": true,
           "gridcolor": "white",
           "linecolor": "white",
           "ticks": "",
           "title": {
            "standoff": 15
           },
           "zerolinecolor": "white",
           "zerolinewidth": 2
          }
         }
        },
        "title": {
         "text": "LTC 30m"
        },
        "width": 1500,
        "xaxis": {
         "rangeslider": {
          "visible": false
         },
         "type": "category"
        }
       }
      }
     },
     "metadata": {},
     "output_type": "display_data"
    },
    {
     "data": {
      "application/vnd.plotly.v1+json": {
       "config": {
        "plotlyServerURL": "https://plotly.com"
       },
       "data": [
        {
         "name": "squeeze",
         "type": "bar",
         "x": [
          "2023-05-22 07:00:00",
          "2023-05-22 07:30:00",
          "2023-05-22 08:00:00",
          "2023-05-22 08:30:00",
          "2023-05-22 09:00:00",
          "2023-05-22 09:30:00",
          "2023-05-22 10:00:00",
          "2023-05-22 10:30:00",
          "2023-05-22 11:00:00",
          "2023-05-22 11:30:00",
          "2023-05-22 12:00:00",
          "2023-05-22 12:30:00",
          "2023-05-22 13:00:00",
          "2023-05-22 13:30:00",
          "2023-05-22 14:00:00",
          "2023-05-22 14:30:00",
          "2023-05-22 15:00:00",
          "2023-05-22 15:30:00",
          "2023-05-22 16:00:00",
          "2023-05-22 16:30:00",
          "2023-05-22 17:00:00",
          "2023-05-22 17:30:00",
          "2023-05-22 18:00:00",
          "2023-05-22 18:30:00",
          "2023-05-22 19:00:00",
          "2023-05-22 19:30:00",
          "2023-05-22 20:00:00",
          "2023-05-22 20:30:00",
          "2023-05-22 21:00:00",
          "2023-05-22 21:30:00",
          "2023-05-22 22:00:00",
          "2023-05-22 22:30:00",
          "2023-05-22 23:00:00",
          "2023-05-22 23:30:00",
          "2023-05-23 00:00:00",
          "2023-05-23 00:30:00",
          "2023-05-23 01:00:00",
          "2023-05-23 01:30:00",
          "2023-05-23 02:00:00",
          "2023-05-23 02:30:00",
          "2023-05-23 03:00:00",
          "2023-05-23 03:30:00",
          "2023-05-23 04:00:00",
          "2023-05-23 04:30:00",
          "2023-05-23 05:00:00",
          "2023-05-23 05:30:00",
          "2023-05-23 06:00:00",
          "2023-05-23 06:30:00",
          "2023-05-23 07:00:00",
          "2023-05-23 07:30:00",
          "2023-05-23 08:00:00",
          "2023-05-23 08:30:00",
          "2023-05-23 09:00:00",
          "2023-05-23 09:30:00",
          "2023-05-23 10:00:00",
          "2023-05-23 10:30:00",
          "2023-05-23 11:00:00",
          "2023-05-23 11:30:00",
          "2023-05-23 12:00:00",
          "2023-05-23 12:30:00",
          "2023-05-23 13:00:00",
          "2023-05-23 13:30:00",
          "2023-05-23 14:00:00",
          "2023-05-23 14:30:00",
          "2023-05-23 15:00:00",
          "2023-05-23 15:30:00",
          "2023-05-23 16:00:00",
          "2023-05-23 16:30:00",
          "2023-05-23 17:00:00",
          "2023-05-23 17:30:00",
          "2023-05-23 18:00:00",
          "2023-05-23 18:30:00",
          "2023-05-23 19:00:00",
          "2023-05-23 19:30:00",
          "2023-05-23 20:00:00",
          "2023-05-23 20:30:00",
          "2023-05-23 21:00:00",
          "2023-05-23 21:30:00",
          "2023-05-23 22:00:00",
          "2023-05-23 22:30:00",
          "2023-05-23 23:00:00",
          "2023-05-23 23:30:00",
          "2023-05-24 00:00:00",
          "2023-05-24 00:30:00",
          "2023-05-24 01:00:00",
          "2023-05-24 01:30:00",
          "2023-05-24 02:00:00",
          "2023-05-24 02:30:00",
          "2023-05-24 03:00:00",
          "2023-05-24 03:30:00",
          "2023-05-24 04:00:00",
          "2023-05-24 04:30:00",
          "2023-05-24 05:00:00",
          "2023-05-24 05:30:00",
          "2023-05-24 06:00:00",
          "2023-05-24 06:30:00",
          "2023-05-24 07:00:00",
          "2023-05-24 07:30:00",
          "2023-05-24 08:00:00",
          "2023-05-24 08:30:00"
         ],
         "y": [
          0.056682142857148565,
          0.24033928571428964,
          0.33556071428571843,
          0.33090000000000397,
          0.3125178571428595,
          0.24098928571428813,
          0.20854285714286125,
          0.2478000000000053,
          0.2506428571428644,
          0.2595035714285783,
          0.1861071428571493,
          0.13380000000000633,
          0.11112500000000725,
          0.01810714285714937,
          -0.09572499999999591,
          -0.1507821428571389,
          -0.18099999999999727,
          -0.2476785714285687,
          -0.3423142857142827,
          -0.38879285714285294,
          -0.4203321428571378,
          -0.3816964285714263,
          -0.31807142857142584,
          -0.2629749999999973,
          -0.233989285714286,
          -0.24984285714285642,
          -0.2703428571428559,
          -0.2370714285714256,
          -0.21372142857142712,
          -0.2180821428571418,
          -0.13884285714285602,
          -0.03497142857142854,
          0.10200357142857341,
          0.24446071428571808,
          0.4646642857142875,
          0.689935714285716,
          0.8458357142857157,
          0.9463107142857169,
          0.982700000000001,
          1.030121428571432,
          1.0386428571428596,
          0.9687571428571449,
          0.8817250000000025,
          0.8135214285714313,
          0.7063678571428585,
          0.5799250000000004,
          0.46107499999999935,
          0.3078464285714251,
          0.16406428571428,
          -0.005960714285720425,
          -0.1623500000000062,
          -0.31618928571429095,
          -0.4219892857142902,
          -0.5591928571428624,
          -0.6274785714285767,
          -0.6611642857142894,
          -0.6555964285714311,
          -0.6130464285714308,
          -0.588946428571431,
          -0.5350857142857169,
          -0.48856428571428884,
          -0.4829607142857154,
          -0.4909857142857129,
          -0.4528107142857123,
          -0.45809642857142496,
          -0.45931428571428257,
          -0.44983214285714057,
          -0.42403928571428584,
          -0.4464035714285723,
          -0.429935714285716,
          -0.38747142857142836,
          -0.3661678571428548,
          -0.3034464285714271,
          -0.2386000000000011,
          -0.1327107142857159,
          -0.023296428571430883,
          0.1177785714285694,
          0.2529892857142825,
          0.33728214285713976,
          0.3403535714285677,
          0.34496428571428117,
          0.3646357142857092,
          0.2226571428571399,
          -0.02987142857143199,
          -0.4510357142857166,
          -0.7597321428571449,
          -1.0814428571428594,
          -1.4090642857142863,
          -1.8156964285714308,
          -2.3327142857142866,
          -2.676832142857143,
          -3.125264285714285,
          -3.297632142857142,
          -3.413267857142854,
          -3.4056999999999986,
          -3.352528571428567,
          -3.3229464285714267,
          -3.182446428571425,
          -3.0179321428571386,
          -2.797414285714281
         ]
        }
       ],
       "layout": {
        "autosize": false,
        "height": 300,
        "margin": {
         "b": 1,
         "l": 50,
         "pad": 4,
         "r": 150,
         "t": 10
        },
        "paper_bgcolor": "LightSteelBlue",
        "shapes": [
         {
          "line": {
           "color": "green",
           "dash": "dash",
           "width": 1
          },
          "type": "line",
          "x0": "2023-05-22 19:00:00",
          "x1": "2023-05-22 19:00:00",
          "y0": -3.413267857142854,
          "y1": 1.0386428571428596
         },
         {
          "line": {
           "color": "green",
           "dash": "dash",
           "width": 1
          },
          "type": "line",
          "x0": "2023-05-23 14:30:00",
          "x1": "2023-05-23 14:30:00",
          "y0": -3.413267857142854,
          "y1": 1.0386428571428596
         }
        ],
        "template": {
         "data": {
          "bar": [
           {
            "error_x": {
             "color": "#2a3f5f"
            },
            "error_y": {
             "color": "#2a3f5f"
            },
            "marker": {
             "line": {
              "color": "#E5ECF6",
              "width": 0.5
             },
             "pattern": {
              "fillmode": "overlay",
              "size": 10,
              "solidity": 0.2
             }
            },
            "type": "bar"
           }
          ],
          "barpolar": [
           {
            "marker": {
             "line": {
              "color": "#E5ECF6",
              "width": 0.5
             },
             "pattern": {
              "fillmode": "overlay",
              "size": 10,
              "solidity": 0.2
             }
            },
            "type": "barpolar"
           }
          ],
          "carpet": [
           {
            "aaxis": {
             "endlinecolor": "#2a3f5f",
             "gridcolor": "white",
             "linecolor": "white",
             "minorgridcolor": "white",
             "startlinecolor": "#2a3f5f"
            },
            "baxis": {
             "endlinecolor": "#2a3f5f",
             "gridcolor": "white",
             "linecolor": "white",
             "minorgridcolor": "white",
             "startlinecolor": "#2a3f5f"
            },
            "type": "carpet"
           }
          ],
          "choropleth": [
           {
            "colorbar": {
             "outlinewidth": 0,
             "ticks": ""
            },
            "type": "choropleth"
           }
          ],
          "contour": [
           {
            "colorbar": {
             "outlinewidth": 0,
             "ticks": ""
            },
            "colorscale": [
             [
              0,
              "#0d0887"
             ],
             [
              0.1111111111111111,
              "#46039f"
             ],
             [
              0.2222222222222222,
              "#7201a8"
             ],
             [
              0.3333333333333333,
              "#9c179e"
             ],
             [
              0.4444444444444444,
              "#bd3786"
             ],
             [
              0.5555555555555556,
              "#d8576b"
             ],
             [
              0.6666666666666666,
              "#ed7953"
             ],
             [
              0.7777777777777778,
              "#fb9f3a"
             ],
             [
              0.8888888888888888,
              "#fdca26"
             ],
             [
              1,
              "#f0f921"
             ]
            ],
            "type": "contour"
           }
          ],
          "contourcarpet": [
           {
            "colorbar": {
             "outlinewidth": 0,
             "ticks": ""
            },
            "type": "contourcarpet"
           }
          ],
          "heatmap": [
           {
            "colorbar": {
             "outlinewidth": 0,
             "ticks": ""
            },
            "colorscale": [
             [
              0,
              "#0d0887"
             ],
             [
              0.1111111111111111,
              "#46039f"
             ],
             [
              0.2222222222222222,
              "#7201a8"
             ],
             [
              0.3333333333333333,
              "#9c179e"
             ],
             [
              0.4444444444444444,
              "#bd3786"
             ],
             [
              0.5555555555555556,
              "#d8576b"
             ],
             [
              0.6666666666666666,
              "#ed7953"
             ],
             [
              0.7777777777777778,
              "#fb9f3a"
             ],
             [
              0.8888888888888888,
              "#fdca26"
             ],
             [
              1,
              "#f0f921"
             ]
            ],
            "type": "heatmap"
           }
          ],
          "heatmapgl": [
           {
            "colorbar": {
             "outlinewidth": 0,
             "ticks": ""
            },
            "colorscale": [
             [
              0,
              "#0d0887"
             ],
             [
              0.1111111111111111,
              "#46039f"
             ],
             [
              0.2222222222222222,
              "#7201a8"
             ],
             [
              0.3333333333333333,
              "#9c179e"
             ],
             [
              0.4444444444444444,
              "#bd3786"
             ],
             [
              0.5555555555555556,
              "#d8576b"
             ],
             [
              0.6666666666666666,
              "#ed7953"
             ],
             [
              0.7777777777777778,
              "#fb9f3a"
             ],
             [
              0.8888888888888888,
              "#fdca26"
             ],
             [
              1,
              "#f0f921"
             ]
            ],
            "type": "heatmapgl"
           }
          ],
          "histogram": [
           {
            "marker": {
             "pattern": {
              "fillmode": "overlay",
              "size": 10,
              "solidity": 0.2
             }
            },
            "type": "histogram"
           }
          ],
          "histogram2d": [
           {
            "colorbar": {
             "outlinewidth": 0,
             "ticks": ""
            },
            "colorscale": [
             [
              0,
              "#0d0887"
             ],
             [
              0.1111111111111111,
              "#46039f"
             ],
             [
              0.2222222222222222,
              "#7201a8"
             ],
             [
              0.3333333333333333,
              "#9c179e"
             ],
             [
              0.4444444444444444,
              "#bd3786"
             ],
             [
              0.5555555555555556,
              "#d8576b"
             ],
             [
              0.6666666666666666,
              "#ed7953"
             ],
             [
              0.7777777777777778,
              "#fb9f3a"
             ],
             [
              0.8888888888888888,
              "#fdca26"
             ],
             [
              1,
              "#f0f921"
             ]
            ],
            "type": "histogram2d"
           }
          ],
          "histogram2dcontour": [
           {
            "colorbar": {
             "outlinewidth": 0,
             "ticks": ""
            },
            "colorscale": [
             [
              0,
              "#0d0887"
             ],
             [
              0.1111111111111111,
              "#46039f"
             ],
             [
              0.2222222222222222,
              "#7201a8"
             ],
             [
              0.3333333333333333,
              "#9c179e"
             ],
             [
              0.4444444444444444,
              "#bd3786"
             ],
             [
              0.5555555555555556,
              "#d8576b"
             ],
             [
              0.6666666666666666,
              "#ed7953"
             ],
             [
              0.7777777777777778,
              "#fb9f3a"
             ],
             [
              0.8888888888888888,
              "#fdca26"
             ],
             [
              1,
              "#f0f921"
             ]
            ],
            "type": "histogram2dcontour"
           }
          ],
          "mesh3d": [
           {
            "colorbar": {
             "outlinewidth": 0,
             "ticks": ""
            },
            "type": "mesh3d"
           }
          ],
          "parcoords": [
           {
            "line": {
             "colorbar": {
              "outlinewidth": 0,
              "ticks": ""
             }
            },
            "type": "parcoords"
           }
          ],
          "pie": [
           {
            "automargin": true,
            "type": "pie"
           }
          ],
          "scatter": [
           {
            "fillpattern": {
             "fillmode": "overlay",
             "size": 10,
             "solidity": 0.2
            },
            "type": "scatter"
           }
          ],
          "scatter3d": [
           {
            "line": {
             "colorbar": {
              "outlinewidth": 0,
              "ticks": ""
             }
            },
            "marker": {
             "colorbar": {
              "outlinewidth": 0,
              "ticks": ""
             }
            },
            "type": "scatter3d"
           }
          ],
          "scattercarpet": [
           {
            "marker": {
             "colorbar": {
              "outlinewidth": 0,
              "ticks": ""
             }
            },
            "type": "scattercarpet"
           }
          ],
          "scattergeo": [
           {
            "marker": {
             "colorbar": {
              "outlinewidth": 0,
              "ticks": ""
             }
            },
            "type": "scattergeo"
           }
          ],
          "scattergl": [
           {
            "marker": {
             "colorbar": {
              "outlinewidth": 0,
              "ticks": ""
             }
            },
            "type": "scattergl"
           }
          ],
          "scattermapbox": [
           {
            "marker": {
             "colorbar": {
              "outlinewidth": 0,
              "ticks": ""
             }
            },
            "type": "scattermapbox"
           }
          ],
          "scatterpolar": [
           {
            "marker": {
             "colorbar": {
              "outlinewidth": 0,
              "ticks": ""
             }
            },
            "type": "scatterpolar"
           }
          ],
          "scatterpolargl": [
           {
            "marker": {
             "colorbar": {
              "outlinewidth": 0,
              "ticks": ""
             }
            },
            "type": "scatterpolargl"
           }
          ],
          "scatterternary": [
           {
            "marker": {
             "colorbar": {
              "outlinewidth": 0,
              "ticks": ""
             }
            },
            "type": "scatterternary"
           }
          ],
          "surface": [
           {
            "colorbar": {
             "outlinewidth": 0,
             "ticks": ""
            },
            "colorscale": [
             [
              0,
              "#0d0887"
             ],
             [
              0.1111111111111111,
              "#46039f"
             ],
             [
              0.2222222222222222,
              "#7201a8"
             ],
             [
              0.3333333333333333,
              "#9c179e"
             ],
             [
              0.4444444444444444,
              "#bd3786"
             ],
             [
              0.5555555555555556,
              "#d8576b"
             ],
             [
              0.6666666666666666,
              "#ed7953"
             ],
             [
              0.7777777777777778,
              "#fb9f3a"
             ],
             [
              0.8888888888888888,
              "#fdca26"
             ],
             [
              1,
              "#f0f921"
             ]
            ],
            "type": "surface"
           }
          ],
          "table": [
           {
            "cells": {
             "fill": {
              "color": "#EBF0F8"
             },
             "line": {
              "color": "white"
             }
            },
            "header": {
             "fill": {
              "color": "#C8D4E3"
             },
             "line": {
              "color": "white"
             }
            },
            "type": "table"
           }
          ]
         },
         "layout": {
          "annotationdefaults": {
           "arrowcolor": "#2a3f5f",
           "arrowhead": 0,
           "arrowwidth": 1
          },
          "autotypenumbers": "strict",
          "coloraxis": {
           "colorbar": {
            "outlinewidth": 0,
            "ticks": ""
           }
          },
          "colorscale": {
           "diverging": [
            [
             0,
             "#8e0152"
            ],
            [
             0.1,
             "#c51b7d"
            ],
            [
             0.2,
             "#de77ae"
            ],
            [
             0.3,
             "#f1b6da"
            ],
            [
             0.4,
             "#fde0ef"
            ],
            [
             0.5,
             "#f7f7f7"
            ],
            [
             0.6,
             "#e6f5d0"
            ],
            [
             0.7,
             "#b8e186"
            ],
            [
             0.8,
             "#7fbc41"
            ],
            [
             0.9,
             "#4d9221"
            ],
            [
             1,
             "#276419"
            ]
           ],
           "sequential": [
            [
             0,
             "#0d0887"
            ],
            [
             0.1111111111111111,
             "#46039f"
            ],
            [
             0.2222222222222222,
             "#7201a8"
            ],
            [
             0.3333333333333333,
             "#9c179e"
            ],
            [
             0.4444444444444444,
             "#bd3786"
            ],
            [
             0.5555555555555556,
             "#d8576b"
            ],
            [
             0.6666666666666666,
             "#ed7953"
            ],
            [
             0.7777777777777778,
             "#fb9f3a"
            ],
            [
             0.8888888888888888,
             "#fdca26"
            ],
            [
             1,
             "#f0f921"
            ]
           ],
           "sequentialminus": [
            [
             0,
             "#0d0887"
            ],
            [
             0.1111111111111111,
             "#46039f"
            ],
            [
             0.2222222222222222,
             "#7201a8"
            ],
            [
             0.3333333333333333,
             "#9c179e"
            ],
            [
             0.4444444444444444,
             "#bd3786"
            ],
            [
             0.5555555555555556,
             "#d8576b"
            ],
            [
             0.6666666666666666,
             "#ed7953"
            ],
            [
             0.7777777777777778,
             "#fb9f3a"
            ],
            [
             0.8888888888888888,
             "#fdca26"
            ],
            [
             1,
             "#f0f921"
            ]
           ]
          },
          "colorway": [
           "#636efa",
           "#EF553B",
           "#00cc96",
           "#ab63fa",
           "#FFA15A",
           "#19d3f3",
           "#FF6692",
           "#B6E880",
           "#FF97FF",
           "#FECB52"
          ],
          "font": {
           "color": "#2a3f5f"
          },
          "geo": {
           "bgcolor": "white",
           "lakecolor": "white",
           "landcolor": "#E5ECF6",
           "showlakes": true,
           "showland": true,
           "subunitcolor": "white"
          },
          "hoverlabel": {
           "align": "left"
          },
          "hovermode": "closest",
          "mapbox": {
           "style": "light"
          },
          "paper_bgcolor": "white",
          "plot_bgcolor": "#E5ECF6",
          "polar": {
           "angularaxis": {
            "gridcolor": "white",
            "linecolor": "white",
            "ticks": ""
           },
           "bgcolor": "#E5ECF6",
           "radialaxis": {
            "gridcolor": "white",
            "linecolor": "white",
            "ticks": ""
           }
          },
          "scene": {
           "xaxis": {
            "backgroundcolor": "#E5ECF6",
            "gridcolor": "white",
            "gridwidth": 2,
            "linecolor": "white",
            "showbackground": true,
            "ticks": "",
            "zerolinecolor": "white"
           },
           "yaxis": {
            "backgroundcolor": "#E5ECF6",
            "gridcolor": "white",
            "gridwidth": 2,
            "linecolor": "white",
            "showbackground": true,
            "ticks": "",
            "zerolinecolor": "white"
           },
           "zaxis": {
            "backgroundcolor": "#E5ECF6",
            "gridcolor": "white",
            "gridwidth": 2,
            "linecolor": "white",
            "showbackground": true,
            "ticks": "",
            "zerolinecolor": "white"
           }
          },
          "shapedefaults": {
           "line": {
            "color": "#2a3f5f"
           }
          },
          "ternary": {
           "aaxis": {
            "gridcolor": "white",
            "linecolor": "white",
            "ticks": ""
           },
           "baxis": {
            "gridcolor": "white",
            "linecolor": "white",
            "ticks": ""
           },
           "bgcolor": "#E5ECF6",
           "caxis": {
            "gridcolor": "white",
            "linecolor": "white",
            "ticks": ""
           }
          },
          "title": {
           "x": 0.05
          },
          "xaxis": {
           "automargin": true,
           "gridcolor": "white",
           "linecolor": "white",
           "ticks": "",
           "title": {
            "standoff": 15
           },
           "zerolinecolor": "white",
           "zerolinewidth": 2
          },
          "yaxis": {
           "automargin": true,
           "gridcolor": "white",
           "linecolor": "white",
           "ticks": "",
           "title": {
            "standoff": 15
           },
           "zerolinecolor": "white",
           "zerolinewidth": 2
          }
         }
        },
        "width": 1500
       }
      }
     },
     "metadata": {},
     "output_type": "display_data"
    },
    {
     "data": {
      "application/vnd.plotly.v1+json": {
       "config": {
        "plotlyServerURL": "https://plotly.com"
       },
       "data": [
        {
         "close": [
          91.78,
          91.76,
          91.76,
          91.61,
          91.86,
          91.68,
          91.6,
          91.58,
          91.52,
          91.15,
          91.37,
          91.49,
          91.56,
          91.66,
          91.71,
          91.54,
          91.58,
          91.55,
          91.6,
          91.4,
          91.4,
          91.21,
          91.23,
          91.25,
          91.18,
          91.28,
          91.29,
          91.21,
          91.06,
          91.2,
          91.06,
          91.02,
          90.97,
          91.07,
          91.07,
          90.89,
          90.71,
          90.66,
          90.84,
          91.06,
          91.06,
          90.87,
          90.97,
          91.13,
          91.14,
          91.17,
          91.28,
          91.36,
          91.58,
          91.57,
          91.66,
          91.8,
          91.81,
          91.64,
          91.77,
          91.72,
          91.61,
          91.51,
          91.19,
          91.39,
          91.25,
          91.36,
          91.39,
          90.97,
          90.5,
          89.08,
          89.25,
          87.38,
          88,
          88.33,
          88.39,
          88.17,
          88.16,
          87.9,
          87.86,
          87.29,
          87.32,
          87.16,
          85.98,
          86.75,
          86.44,
          86.24,
          85.58,
          86.23,
          86.6,
          86.45,
          86.51,
          86.78,
          86.7,
          86.65,
          86.59,
          86.42,
          86.06,
          86.33,
          86.29,
          86.07,
          86.13,
          86.14,
          86.31,
          86.3
         ],
         "high": [
          91.8,
          91.81,
          91.79,
          91.82,
          91.86,
          91.88,
          91.7,
          91.64,
          91.66,
          91.53,
          91.37,
          91.52,
          91.75,
          91.66,
          91.72,
          91.73,
          91.7,
          91.64,
          91.65,
          91.62,
          91.44,
          91.48,
          91.36,
          91.34,
          91.41,
          91.28,
          91.31,
          91.33,
          91.24,
          91.21,
          91.2,
          91.1,
          91.03,
          91.1,
          91.13,
          91.09,
          90.9,
          90.73,
          90.99,
          91.09,
          91.12,
          91.06,
          91,
          91.13,
          91.19,
          91.17,
          91.28,
          91.39,
          91.63,
          91.61,
          91.66,
          91.84,
          91.81,
          91.88,
          91.8,
          91.78,
          91.73,
          91.62,
          91.51,
          91.4,
          91.42,
          91.41,
          91.46,
          91.48,
          91.17,
          90.5,
          89.4,
          89.24,
          88.24,
          88.33,
          88.41,
          88.4,
          88.22,
          88.17,
          88,
          87.87,
          87.47,
          87.41,
          87.16,
          86.85,
          86.75,
          86.44,
          86.24,
          86.26,
          86.63,
          86.66,
          86.53,
          86.84,
          86.78,
          86.76,
          86.7,
          86.65,
          86.46,
          86.33,
          86.39,
          86.36,
          86.33,
          86.21,
          86.32,
          86.31
         ],
         "low": [
          91.7,
          91.69,
          91.7,
          91.51,
          91.6,
          91.68,
          91.52,
          91.5,
          91.5,
          91.08,
          91.14,
          91.27,
          91.43,
          91.51,
          91.58,
          91.44,
          91.53,
          91.46,
          91.5,
          91.35,
          91.27,
          91.15,
          91.19,
          91.19,
          91.16,
          91.12,
          91.17,
          91.18,
          90.91,
          91.01,
          91.06,
          90.76,
          90.86,
          90.96,
          91.06,
          90.89,
          90.68,
          90.62,
          90.62,
          90.75,
          90.99,
          90.86,
          90.86,
          90.9,
          91.1,
          91.11,
          91.13,
          91.24,
          91.32,
          91.47,
          91.55,
          91.57,
          91.42,
          91.6,
          91.43,
          91.51,
          91.44,
          91.33,
          91.18,
          91.05,
          91.14,
          91.17,
          91.3,
          90.92,
          90.39,
          88.33,
          88.95,
          87.25,
          87.4,
          87.77,
          88.15,
          87.92,
          88,
          87.77,
          87.8,
          87.03,
          87.1,
          87.12,
          85.5,
          85.98,
          86.15,
          86.02,
          85.52,
          85.55,
          86.15,
          86.33,
          86.33,
          86.24,
          86.58,
          86.51,
          86.43,
          86.32,
          85.93,
          86.06,
          86.24,
          86.02,
          86.07,
          86.03,
          86.09,
          86.16
         ],
         "open": [
          91.72,
          91.78,
          91.76,
          91.76,
          91.62,
          91.86,
          91.68,
          91.59,
          91.58,
          91.52,
          91.14,
          91.37,
          91.49,
          91.56,
          91.66,
          91.71,
          91.54,
          91.58,
          91.55,
          91.62,
          91.41,
          91.41,
          91.21,
          91.22,
          91.25,
          91.18,
          91.28,
          91.28,
          91.21,
          91.06,
          91.2,
          91.06,
          91.02,
          90.97,
          91.07,
          91.07,
          90.89,
          90.71,
          90.67,
          90.84,
          91.06,
          91.06,
          90.87,
          90.97,
          91.13,
          91.14,
          91.16,
          91.27,
          91.36,
          91.58,
          91.57,
          91.66,
          91.8,
          91.81,
          91.65,
          91.77,
          91.72,
          91.61,
          91.51,
          91.19,
          91.39,
          91.22,
          91.36,
          91.39,
          90.97,
          90.5,
          89.08,
          89.24,
          87.4,
          88,
          88.33,
          88.4,
          88.17,
          88.16,
          87.9,
          87.87,
          87.29,
          87.32,
          87.16,
          85.98,
          86.75,
          86.44,
          86.24,
          85.58,
          86.23,
          86.6,
          86.46,
          86.51,
          86.78,
          86.69,
          86.65,
          86.59,
          86.42,
          86.06,
          86.33,
          86.29,
          86.07,
          86.13,
          86.14,
          86.31
         ],
         "type": "candlestick",
         "x": [
          "2023-05-23 08:15:00",
          "2023-05-23 08:30:00",
          "2023-05-23 08:45:00",
          "2023-05-23 09:00:00",
          "2023-05-23 09:15:00",
          "2023-05-23 09:30:00",
          "2023-05-23 09:45:00",
          "2023-05-23 10:00:00",
          "2023-05-23 10:15:00",
          "2023-05-23 10:30:00",
          "2023-05-23 10:45:00",
          "2023-05-23 11:00:00",
          "2023-05-23 11:15:00",
          "2023-05-23 11:30:00",
          "2023-05-23 11:45:00",
          "2023-05-23 12:00:00",
          "2023-05-23 12:15:00",
          "2023-05-23 12:30:00",
          "2023-05-23 12:45:00",
          "2023-05-23 13:00:00",
          "2023-05-23 13:15:00",
          "2023-05-23 13:30:00",
          "2023-05-23 13:45:00",
          "2023-05-23 14:00:00",
          "2023-05-23 14:15:00",
          "2023-05-23 14:30:00",
          "2023-05-23 14:45:00",
          "2023-05-23 15:00:00",
          "2023-05-23 15:15:00",
          "2023-05-23 15:30:00",
          "2023-05-23 15:45:00",
          "2023-05-23 16:00:00",
          "2023-05-23 16:15:00",
          "2023-05-23 16:30:00",
          "2023-05-23 16:45:00",
          "2023-05-23 17:00:00",
          "2023-05-23 17:15:00",
          "2023-05-23 17:30:00",
          "2023-05-23 17:45:00",
          "2023-05-23 18:00:00",
          "2023-05-23 18:15:00",
          "2023-05-23 18:30:00",
          "2023-05-23 18:45:00",
          "2023-05-23 19:00:00",
          "2023-05-23 19:15:00",
          "2023-05-23 19:30:00",
          "2023-05-23 19:45:00",
          "2023-05-23 20:00:00",
          "2023-05-23 20:15:00",
          "2023-05-23 20:30:00",
          "2023-05-23 20:45:00",
          "2023-05-23 21:00:00",
          "2023-05-23 21:15:00",
          "2023-05-23 21:30:00",
          "2023-05-23 21:45:00",
          "2023-05-23 22:00:00",
          "2023-05-23 22:15:00",
          "2023-05-23 22:30:00",
          "2023-05-23 22:45:00",
          "2023-05-23 23:00:00",
          "2023-05-23 23:15:00",
          "2023-05-23 23:30:00",
          "2023-05-23 23:45:00",
          "2023-05-24 00:00:00",
          "2023-05-24 00:15:00",
          "2023-05-24 00:30:00",
          "2023-05-24 00:45:00",
          "2023-05-24 01:00:00",
          "2023-05-24 01:15:00",
          "2023-05-24 01:30:00",
          "2023-05-24 01:45:00",
          "2023-05-24 02:00:00",
          "2023-05-24 02:15:00",
          "2023-05-24 02:30:00",
          "2023-05-24 02:45:00",
          "2023-05-24 03:00:00",
          "2023-05-24 03:15:00",
          "2023-05-24 03:30:00",
          "2023-05-24 03:45:00",
          "2023-05-24 04:00:00",
          "2023-05-24 04:15:00",
          "2023-05-24 04:30:00",
          "2023-05-24 04:45:00",
          "2023-05-24 05:00:00",
          "2023-05-24 05:15:00",
          "2023-05-24 05:30:00",
          "2023-05-24 05:45:00",
          "2023-05-24 06:00:00",
          "2023-05-24 06:15:00",
          "2023-05-24 06:30:00",
          "2023-05-24 06:45:00",
          "2023-05-24 07:00:00",
          "2023-05-24 07:15:00",
          "2023-05-24 07:30:00",
          "2023-05-24 07:45:00",
          "2023-05-24 08:00:00",
          "2023-05-24 08:15:00",
          "2023-05-24 08:30:00",
          "2023-05-24 08:45:00",
          "2023-05-24 09:00:00"
         ]
        },
        {
         "line": {
          "color": "red",
          "width": 1
         },
         "name": "upper_band",
         "type": "scatter",
         "x": [
          "2023-05-23 08:15:00",
          "2023-05-23 08:30:00",
          "2023-05-23 08:45:00",
          "2023-05-23 09:00:00",
          "2023-05-23 09:15:00",
          "2023-05-23 09:30:00",
          "2023-05-23 09:45:00",
          "2023-05-23 10:00:00",
          "2023-05-23 10:15:00",
          "2023-05-23 10:30:00",
          "2023-05-23 10:45:00",
          "2023-05-23 11:00:00",
          "2023-05-23 11:15:00",
          "2023-05-23 11:30:00",
          "2023-05-23 11:45:00",
          "2023-05-23 12:00:00",
          "2023-05-23 12:15:00",
          "2023-05-23 12:30:00",
          "2023-05-23 12:45:00",
          "2023-05-23 13:00:00",
          "2023-05-23 13:15:00",
          "2023-05-23 13:30:00",
          "2023-05-23 13:45:00",
          "2023-05-23 14:00:00",
          "2023-05-23 14:15:00",
          "2023-05-23 14:30:00",
          "2023-05-23 14:45:00",
          "2023-05-23 15:00:00",
          "2023-05-23 15:15:00",
          "2023-05-23 15:30:00",
          "2023-05-23 15:45:00",
          "2023-05-23 16:00:00",
          "2023-05-23 16:15:00",
          "2023-05-23 16:30:00",
          "2023-05-23 16:45:00",
          "2023-05-23 17:00:00",
          "2023-05-23 17:15:00",
          "2023-05-23 17:30:00",
          "2023-05-23 17:45:00",
          "2023-05-23 18:00:00",
          "2023-05-23 18:15:00",
          "2023-05-23 18:30:00",
          "2023-05-23 18:45:00",
          "2023-05-23 19:00:00",
          "2023-05-23 19:15:00",
          "2023-05-23 19:30:00",
          "2023-05-23 19:45:00",
          "2023-05-23 20:00:00",
          "2023-05-23 20:15:00",
          "2023-05-23 20:30:00",
          "2023-05-23 20:45:00",
          "2023-05-23 21:00:00",
          "2023-05-23 21:15:00",
          "2023-05-23 21:30:00",
          "2023-05-23 21:45:00",
          "2023-05-23 22:00:00",
          "2023-05-23 22:15:00",
          "2023-05-23 22:30:00",
          "2023-05-23 22:45:00",
          "2023-05-23 23:00:00",
          "2023-05-23 23:15:00",
          "2023-05-23 23:30:00",
          "2023-05-23 23:45:00",
          "2023-05-24 00:00:00",
          "2023-05-24 00:15:00",
          "2023-05-24 00:30:00",
          "2023-05-24 00:45:00",
          "2023-05-24 01:00:00",
          "2023-05-24 01:15:00",
          "2023-05-24 01:30:00",
          "2023-05-24 01:45:00",
          "2023-05-24 02:00:00",
          "2023-05-24 02:15:00",
          "2023-05-24 02:30:00",
          "2023-05-24 02:45:00",
          "2023-05-24 03:00:00",
          "2023-05-24 03:15:00",
          "2023-05-24 03:30:00",
          "2023-05-24 03:45:00",
          "2023-05-24 04:00:00",
          "2023-05-24 04:15:00",
          "2023-05-24 04:30:00",
          "2023-05-24 04:45:00",
          "2023-05-24 05:00:00",
          "2023-05-24 05:15:00",
          "2023-05-24 05:30:00",
          "2023-05-24 05:45:00",
          "2023-05-24 06:00:00",
          "2023-05-24 06:15:00",
          "2023-05-24 06:30:00",
          "2023-05-24 06:45:00",
          "2023-05-24 07:00:00",
          "2023-05-24 07:15:00",
          "2023-05-24 07:30:00",
          "2023-05-24 07:45:00",
          "2023-05-24 08:00:00",
          "2023-05-24 08:15:00",
          "2023-05-24 08:30:00",
          "2023-05-24 08:45:00",
          "2023-05-24 09:00:00"
         ],
         "y": [
          91.97190885262327,
          91.93914021704711,
          91.91803458025348,
          91.92931048513145,
          91.9376150880088,
          91.93735403373432,
          91.91774019969245,
          91.92699714283364,
          91.9419900987671,
          92.02465465013015,
          92.03857360538011,
          92.03991711758354,
          92.01988602666206,
          91.99657531925325,
          91.99657531925325,
          91.98140907878786,
          91.96323492475315,
          91.94123219735653,
          91.91055505215213,
          91.9019808911383,
          91.88018483253526,
          91.87659849298379,
          91.86045622009165,
          91.85794874982469,
          91.80854883880576,
          91.7822403277914,
          91.76495370052795,
          91.75151423328093,
          91.75626477013081,
          91.75298731116463,
          91.76466822694728,
          91.7658880401741,
          91.75570632311229,
          91.70971235668817,
          91.64082316173631,
          91.61747924593783,
          91.59948321309143,
          91.577936359034,
          91.50353438515211,
          91.4624785896465,
          91.41650820247193,
          91.40288698761061,
          91.38133462033238,
          91.36424541881695,
          91.35909515248657,
          91.34004527236304,
          91.33788605540624,
          91.36911595957805,
          91.47150360575374,
          91.5435274219895,
          91.6383182572214,
          91.75527771476682,
          91.85643130698537,
          91.91087436144446,
          91.98283711604417,
          92.03237456852995,
          92.03942884665524,
          92.01310601004081,
          91.98831273372483,
          91.98464134382367,
          91.97655017775175,
          91.94174489921812,
          91.91359171318643,
          91.9342005360518,
          92.0475080514776,
          92.51783610917218,
          92.71953268810259,
          93.26531171224329,
          93.4251410900472,
          93.4593017201665,
          93.42770506922298,
          93.35425785713271,
          93.23381223056526,
          93.11631680946545,
          92.93400738895939,
          92.75555516091659,
          92.53482795194506,
          92.28748955210403,
          92.15638651320027,
          91.83038505720357,
          91.48595035421285,
          91.0448448707467,
          90.54688277103872,
          89.98175576114821,
          89.41474338993602,
          89.16864930791998,
          88.82532579794353,
          88.7983083692815,
          88.69041256971721,
          88.50331032482207,
          88.27247285484688,
          88.06230302699038,
          87.82534303276654,
          87.6076849162829,
          87.35315621665556,
          87.23400177076539,
          87.0773114160691,
          86.9371220212819,
          86.92961924539077,
          86.87895538848666
         ]
        },
        {
         "line": {
          "color": "red",
          "width": 1
         },
         "name": "lower_band",
         "type": "scatter",
         "x": [
          "2023-05-23 08:15:00",
          "2023-05-23 08:30:00",
          "2023-05-23 08:45:00",
          "2023-05-23 09:00:00",
          "2023-05-23 09:15:00",
          "2023-05-23 09:30:00",
          "2023-05-23 09:45:00",
          "2023-05-23 10:00:00",
          "2023-05-23 10:15:00",
          "2023-05-23 10:30:00",
          "2023-05-23 10:45:00",
          "2023-05-23 11:00:00",
          "2023-05-23 11:15:00",
          "2023-05-23 11:30:00",
          "2023-05-23 11:45:00",
          "2023-05-23 12:00:00",
          "2023-05-23 12:15:00",
          "2023-05-23 12:30:00",
          "2023-05-23 12:45:00",
          "2023-05-23 13:00:00",
          "2023-05-23 13:15:00",
          "2023-05-23 13:30:00",
          "2023-05-23 13:45:00",
          "2023-05-23 14:00:00",
          "2023-05-23 14:15:00",
          "2023-05-23 14:30:00",
          "2023-05-23 14:45:00",
          "2023-05-23 15:00:00",
          "2023-05-23 15:15:00",
          "2023-05-23 15:30:00",
          "2023-05-23 15:45:00",
          "2023-05-23 16:00:00",
          "2023-05-23 16:15:00",
          "2023-05-23 16:30:00",
          "2023-05-23 16:45:00",
          "2023-05-23 17:00:00",
          "2023-05-23 17:15:00",
          "2023-05-23 17:30:00",
          "2023-05-23 17:45:00",
          "2023-05-23 18:00:00",
          "2023-05-23 18:15:00",
          "2023-05-23 18:30:00",
          "2023-05-23 18:45:00",
          "2023-05-23 19:00:00",
          "2023-05-23 19:15:00",
          "2023-05-23 19:30:00",
          "2023-05-23 19:45:00",
          "2023-05-23 20:00:00",
          "2023-05-23 20:15:00",
          "2023-05-23 20:30:00",
          "2023-05-23 20:45:00",
          "2023-05-23 21:00:00",
          "2023-05-23 21:15:00",
          "2023-05-23 21:30:00",
          "2023-05-23 21:45:00",
          "2023-05-23 22:00:00",
          "2023-05-23 22:15:00",
          "2023-05-23 22:30:00",
          "2023-05-23 22:45:00",
          "2023-05-23 23:00:00",
          "2023-05-23 23:15:00",
          "2023-05-23 23:30:00",
          "2023-05-23 23:45:00",
          "2023-05-24 00:00:00",
          "2023-05-24 00:15:00",
          "2023-05-24 00:30:00",
          "2023-05-24 00:45:00",
          "2023-05-24 01:00:00",
          "2023-05-24 01:15:00",
          "2023-05-24 01:30:00",
          "2023-05-24 01:45:00",
          "2023-05-24 02:00:00",
          "2023-05-24 02:15:00",
          "2023-05-24 02:30:00",
          "2023-05-24 02:45:00",
          "2023-05-24 03:00:00",
          "2023-05-24 03:15:00",
          "2023-05-24 03:30:00",
          "2023-05-24 03:45:00",
          "2023-05-24 04:00:00",
          "2023-05-24 04:15:00",
          "2023-05-24 04:30:00",
          "2023-05-24 04:45:00",
          "2023-05-24 05:00:00",
          "2023-05-24 05:15:00",
          "2023-05-24 05:30:00",
          "2023-05-24 05:45:00",
          "2023-05-24 06:00:00",
          "2023-05-24 06:15:00",
          "2023-05-24 06:30:00",
          "2023-05-24 06:45:00",
          "2023-05-24 07:00:00",
          "2023-05-24 07:15:00",
          "2023-05-24 07:30:00",
          "2023-05-24 07:45:00",
          "2023-05-24 08:00:00",
          "2023-05-24 08:15:00",
          "2023-05-24 08:30:00",
          "2023-05-24 08:45:00",
          "2023-05-24 09:00:00"
         ],
         "y": [
          91.65109114737672,
          91.66085978295288,
          91.66496541974652,
          91.63268951486856,
          91.6333849119912,
          91.6206459662657,
          91.60525980030755,
          91.57700285716635,
          91.53800990123291,
          91.38434534986985,
          91.33542639461989,
          91.31608288241648,
          91.30711397333793,
          91.30942468074673,
          91.30942468074673,
          91.29959092121214,
          91.29576507524686,
          91.29176780264348,
          91.29744494784786,
          91.2740191088617,
          91.25781516746474,
          91.20640150701621,
          91.16954377990835,
          91.13605125017529,
          91.11745116119423,
          91.1037596722086,
          91.09004629947204,
          91.06648576671908,
          91.01573522986918,
          91.02401268883536,
          90.98133177305273,
          90.93311195982591,
          90.8842936768877,
          90.87128764331185,
          90.87617683826369,
          90.83452075406217,
          90.76551678690855,
          90.69806364096601,
          90.69646561484788,
          90.7035214103535,
          90.71549179752807,
          90.6951130123894,
          90.69066537966762,
          90.69575458118305,
          90.69690484751341,
          90.70495472763697,
          90.70611394459377,
          90.68988404042197,
          90.63949639424628,
          90.6044725780105,
          90.56968174277863,
          90.53072228523318,
          90.51356869301463,
          90.51612563855554,
          90.51416288395585,
          90.54762543147004,
          90.63057115334477,
          90.74189398995918,
          90.8016872662752,
          90.83835865617631,
          90.86544982224824,
          90.9492551007819,
          91.01940828681356,
          90.98279946394817,
          90.8054919485224,
          90.12616389082783,
          89.72146731189741,
          88.77768828775672,
          88.2598589099528,
          87.9016982798335,
          87.60629493077701,
          87.31674214286728,
          87.07218776943472,
          86.81568319053454,
          86.60699261104061,
          86.34244483908343,
          86.13417204805495,
          85.94651044789595,
          85.55661348679972,
          85.41861494279642,
          85.28204964578715,
          85.2111551292533,
          85.12811722896129,
          85.21924423885179,
          85.39625661006399,
          85.37935069208002,
          85.44867420205647,
          85.4156916307185,
          85.39358743028279,
          85.41268967517793,
          85.46352714515314,
          85.4986969730096,
          85.52565696723346,
          85.58631508371711,
          85.68384378334444,
          85.6809982292346,
          85.7186885839309,
          85.75687797871812,
          85.79738075460924,
          85.80304461151336
         ]
        },
        {
         "line": {
          "color": "blue",
          "dash": "dash",
          "width": 1
         },
         "name": "upper_KC",
         "type": "scatter",
         "x": [
          "2023-05-23 08:15:00",
          "2023-05-23 08:30:00",
          "2023-05-23 08:45:00",
          "2023-05-23 09:00:00",
          "2023-05-23 09:15:00",
          "2023-05-23 09:30:00",
          "2023-05-23 09:45:00",
          "2023-05-23 10:00:00",
          "2023-05-23 10:15:00",
          "2023-05-23 10:30:00",
          "2023-05-23 10:45:00",
          "2023-05-23 11:00:00",
          "2023-05-23 11:15:00",
          "2023-05-23 11:30:00",
          "2023-05-23 11:45:00",
          "2023-05-23 12:00:00",
          "2023-05-23 12:15:00",
          "2023-05-23 12:30:00",
          "2023-05-23 12:45:00",
          "2023-05-23 13:00:00",
          "2023-05-23 13:15:00",
          "2023-05-23 13:30:00",
          "2023-05-23 13:45:00",
          "2023-05-23 14:00:00",
          "2023-05-23 14:15:00",
          "2023-05-23 14:30:00",
          "2023-05-23 14:45:00",
          "2023-05-23 15:00:00",
          "2023-05-23 15:15:00",
          "2023-05-23 15:30:00",
          "2023-05-23 15:45:00",
          "2023-05-23 16:00:00",
          "2023-05-23 16:15:00",
          "2023-05-23 16:30:00",
          "2023-05-23 16:45:00",
          "2023-05-23 17:00:00",
          "2023-05-23 17:15:00",
          "2023-05-23 17:30:00",
          "2023-05-23 17:45:00",
          "2023-05-23 18:00:00",
          "2023-05-23 18:15:00",
          "2023-05-23 18:30:00",
          "2023-05-23 18:45:00",
          "2023-05-23 19:00:00",
          "2023-05-23 19:15:00",
          "2023-05-23 19:30:00",
          "2023-05-23 19:45:00",
          "2023-05-23 20:00:00",
          "2023-05-23 20:15:00",
          "2023-05-23 20:30:00",
          "2023-05-23 20:45:00",
          "2023-05-23 21:00:00",
          "2023-05-23 21:15:00",
          "2023-05-23 21:30:00",
          "2023-05-23 21:45:00",
          "2023-05-23 22:00:00",
          "2023-05-23 22:15:00",
          "2023-05-23 22:30:00",
          "2023-05-23 22:45:00",
          "2023-05-23 23:00:00",
          "2023-05-23 23:15:00",
          "2023-05-23 23:30:00",
          "2023-05-23 23:45:00",
          "2023-05-24 00:00:00",
          "2023-05-24 00:15:00",
          "2023-05-24 00:30:00",
          "2023-05-24 00:45:00",
          "2023-05-24 01:00:00",
          "2023-05-24 01:15:00",
          "2023-05-24 01:30:00",
          "2023-05-24 01:45:00",
          "2023-05-24 02:00:00",
          "2023-05-24 02:15:00",
          "2023-05-24 02:30:00",
          "2023-05-24 02:45:00",
          "2023-05-24 03:00:00",
          "2023-05-24 03:15:00",
          "2023-05-24 03:30:00",
          "2023-05-24 03:45:00",
          "2023-05-24 04:00:00",
          "2023-05-24 04:15:00",
          "2023-05-24 04:30:00",
          "2023-05-24 04:45:00",
          "2023-05-24 05:00:00",
          "2023-05-24 05:15:00",
          "2023-05-24 05:30:00",
          "2023-05-24 05:45:00",
          "2023-05-24 06:00:00",
          "2023-05-24 06:15:00",
          "2023-05-24 06:30:00",
          "2023-05-24 06:45:00",
          "2023-05-24 07:00:00",
          "2023-05-24 07:15:00",
          "2023-05-24 07:30:00",
          "2023-05-24 07:45:00",
          "2023-05-24 08:00:00",
          "2023-05-24 08:15:00",
          "2023-05-24 08:30:00",
          "2023-05-24 08:45:00",
          "2023-05-24 09:00:00"
         ],
         "y": [
          92.03286757279724,
          92.01384619592503,
          91.99101052393866,
          92.028781337768,
          92.05913927635562,
          92.05743213520007,
          92.03839901970913,
          92.0167355615802,
          92.00023818674745,
          92.04014942552062,
          92.02434952997143,
          92.02219506997663,
          92.03238687543542,
          91.99572562535624,
          91.97159369347328,
          91.98025847647816,
          91.95384784439122,
          91.93096641813827,
          91.90219979665858,
          91.90561801544793,
          91.87523292173013,
          91.88205420868829,
          91.8399988980177,
          91.80381728019628,
          91.78221413834241,
          91.7478115677347,
          91.71507310087385,
          91.68519617344225,
          91.70197868736183,
          91.70157347147786,
          91.66733284030008,
          91.68304505115461,
          91.63926413276285,
          91.58989792680597,
          91.52255284920489,
          91.49658869480399,
          91.46389075029417,
          91.39822879569525,
          91.41382356011428,
          91.43249200372986,
          91.38740254850626,
          91.36651117605058,
          91.33396368949593,
          91.3365157459512,
          91.30333106486917,
          91.26413450762024,
          91.26061005168928,
          91.2656354968367,
          91.33324722468457,
          91.33942954746918,
          91.35116962974753,
          91.41886606070251,
          91.51707223148388,
          91.56155909848681,
          91.63418471694376,
          91.67919658659034,
          91.73252447993757,
          91.781838210858,
          91.81582217252019,
          91.85126359569833,
          91.85717021466226,
          91.86782108472369,
          91.85567179659209,
          91.92964056084807,
          92.02470591342116,
          92.40325938370822,
          92.22789404121582,
          92.39118603372204,
          92.19769766395439,
          91.94202536141722,
          91.6200662047959,
          91.36891780392392,
          91.05852365775593,
          90.8159739018003,
          90.52047864692753,
          90.39170980203163,
          90.12489892893497,
          89.84278094185586,
          89.90304804333663,
          89.7180393081845,
          89.44235034306006,
          89.10846846250368,
          88.83606510568484,
          88.61114417737849,
          88.36329978149149,
          88.14765436667486,
          87.90635357273398,
          87.90010746860052,
          87.74545156521862,
          87.60173309881523,
          87.46832708084884,
          87.36167670251267,
          87.29555366569218,
          87.1779529992027,
          87.03473427207494,
          86.97260076806131,
          86.89035517386834,
          86.79892696043774,
          86.7959856949036,
          86.73576102310295
         ]
        },
        {
         "line": {
          "color": "blue",
          "dash": "dash",
          "width": 1
         },
         "name": "lower_KC",
         "type": "scatter",
         "x": [
          "2023-05-23 08:15:00",
          "2023-05-23 08:30:00",
          "2023-05-23 08:45:00",
          "2023-05-23 09:00:00",
          "2023-05-23 09:15:00",
          "2023-05-23 09:30:00",
          "2023-05-23 09:45:00",
          "2023-05-23 10:00:00",
          "2023-05-23 10:15:00",
          "2023-05-23 10:30:00",
          "2023-05-23 10:45:00",
          "2023-05-23 11:00:00",
          "2023-05-23 11:15:00",
          "2023-05-23 11:30:00",
          "2023-05-23 11:45:00",
          "2023-05-23 12:00:00",
          "2023-05-23 12:15:00",
          "2023-05-23 12:30:00",
          "2023-05-23 12:45:00",
          "2023-05-23 13:00:00",
          "2023-05-23 13:15:00",
          "2023-05-23 13:30:00",
          "2023-05-23 13:45:00",
          "2023-05-23 14:00:00",
          "2023-05-23 14:15:00",
          "2023-05-23 14:30:00",
          "2023-05-23 14:45:00",
          "2023-05-23 15:00:00",
          "2023-05-23 15:15:00",
          "2023-05-23 15:30:00",
          "2023-05-23 15:45:00",
          "2023-05-23 16:00:00",
          "2023-05-23 16:15:00",
          "2023-05-23 16:30:00",
          "2023-05-23 16:45:00",
          "2023-05-23 17:00:00",
          "2023-05-23 17:15:00",
          "2023-05-23 17:30:00",
          "2023-05-23 17:45:00",
          "2023-05-23 18:00:00",
          "2023-05-23 18:15:00",
          "2023-05-23 18:30:00",
          "2023-05-23 18:45:00",
          "2023-05-23 19:00:00",
          "2023-05-23 19:15:00",
          "2023-05-23 19:30:00",
          "2023-05-23 19:45:00",
          "2023-05-23 20:00:00",
          "2023-05-23 20:15:00",
          "2023-05-23 20:30:00",
          "2023-05-23 20:45:00",
          "2023-05-23 21:00:00",
          "2023-05-23 21:15:00",
          "2023-05-23 21:30:00",
          "2023-05-23 21:45:00",
          "2023-05-23 22:00:00",
          "2023-05-23 22:15:00",
          "2023-05-23 22:30:00",
          "2023-05-23 22:45:00",
          "2023-05-23 23:00:00",
          "2023-05-23 23:15:00",
          "2023-05-23 23:30:00",
          "2023-05-23 23:45:00",
          "2023-05-24 00:00:00",
          "2023-05-24 00:15:00",
          "2023-05-24 00:30:00",
          "2023-05-24 00:45:00",
          "2023-05-24 01:00:00",
          "2023-05-24 01:15:00",
          "2023-05-24 01:30:00",
          "2023-05-24 01:45:00",
          "2023-05-24 02:00:00",
          "2023-05-24 02:15:00",
          "2023-05-24 02:30:00",
          "2023-05-24 02:45:00",
          "2023-05-24 03:00:00",
          "2023-05-24 03:15:00",
          "2023-05-24 03:30:00",
          "2023-05-24 03:45:00",
          "2023-05-24 04:00:00",
          "2023-05-24 04:15:00",
          "2023-05-24 04:30:00",
          "2023-05-24 04:45:00",
          "2023-05-24 05:00:00",
          "2023-05-24 05:15:00",
          "2023-05-24 05:30:00",
          "2023-05-24 05:45:00",
          "2023-05-24 06:00:00",
          "2023-05-24 06:15:00",
          "2023-05-24 06:30:00",
          "2023-05-24 06:45:00",
          "2023-05-24 07:00:00",
          "2023-05-24 07:15:00",
          "2023-05-24 07:30:00",
          "2023-05-24 07:45:00",
          "2023-05-24 08:00:00",
          "2023-05-24 08:15:00",
          "2023-05-24 08:30:00",
          "2023-05-24 08:45:00",
          "2023-05-24 09:00:00"
         ],
         "y": [
          91.59013242720275,
          91.58615380407497,
          91.59198947606134,
          91.53321866223202,
          91.51186072364438,
          91.50056786479995,
          91.48460098029086,
          91.48726443841979,
          91.47976181325257,
          91.36885057447937,
          91.34965047002856,
          91.33380493002339,
          91.29461312456458,
          91.31027437464374,
          91.3344063065267,
          91.30074152352185,
          91.3051521556088,
          91.30203358186174,
          91.30580020334142,
          91.27038198455206,
          91.26276707826987,
          91.20094579131171,
          91.1900011019823,
          91.19018271980369,
          91.14378586165758,
          91.1381884322653,
          91.13992689912614,
          91.13280382655776,
          91.07002131263816,
          91.07542652852213,
          91.07866715969993,
          91.0159549488454,
          91.00073586723714,
          90.99110207319404,
          90.99444715079511,
          90.95541130519601,
          90.90110924970581,
          90.87777120430476,
          90.78617643988571,
          90.73350799627013,
          90.74459745149375,
          90.73148882394943,
          90.73803631050407,
          90.7234842540488,
          90.75266893513081,
          90.78086549237977,
          90.78338994831073,
          90.79336450316333,
          90.77775277531545,
          90.80857045253082,
          90.8568303702525,
          90.86713393929749,
          90.85292776851612,
          90.86544090151318,
          90.86281528305625,
          90.90080341340965,
          90.93747552006245,
          90.973161789142,
          90.97417782747983,
          90.97173640430165,
          90.98482978533772,
          91.02317891527633,
          91.0773282034079,
          90.9873594391519,
          90.82829408657885,
          90.24074061629179,
          90.21310595878418,
          89.65181396627797,
          89.48730233604562,
          89.41897463858277,
          89.41393379520409,
          89.30208219607607,
          89.24747634224406,
          89.11602609819968,
          89.02052135307247,
          88.70629019796839,
          88.54410107106504,
          88.39121905814412,
          87.80995195666337,
          87.5309606918155,
          87.32564965693994,
          87.14753153749632,
          86.83893489431517,
          86.5898558226215,
          86.44770021850852,
          86.40034563332514,
          86.36764642726602,
          86.31389253139947,
          86.33854843478139,
          86.31426690118477,
          86.26767291915118,
          86.19932329748731,
          86.05544633430782,
          86.01604700079731,
          86.00226572792506,
          85.94239923193868,
          85.90564482613165,
          85.89507303956228,
          85.9310143050964,
          85.94623897689706
         ]
        }
       ],
       "layout": {
        "autosize": false,
        "height": 600,
        "margin": {
         "b": 100,
         "l": 50,
         "pad": 4,
         "r": 50,
         "t": 50
        },
        "paper_bgcolor": "LightSteelBlue",
        "shapes": [
         {
          "line": {
           "color": "green",
           "dash": "dash",
           "width": 1
          },
          "type": "line",
          "x0": "2023-05-23 11:30:00",
          "x1": "2023-05-23 11:30:00",
          "y0": 85.5,
          "y1": 91.88
         }
        ],
        "template": {
         "data": {
          "bar": [
           {
            "error_x": {
             "color": "#2a3f5f"
            },
            "error_y": {
             "color": "#2a3f5f"
            },
            "marker": {
             "line": {
              "color": "#E5ECF6",
              "width": 0.5
             },
             "pattern": {
              "fillmode": "overlay",
              "size": 10,
              "solidity": 0.2
             }
            },
            "type": "bar"
           }
          ],
          "barpolar": [
           {
            "marker": {
             "line": {
              "color": "#E5ECF6",
              "width": 0.5
             },
             "pattern": {
              "fillmode": "overlay",
              "size": 10,
              "solidity": 0.2
             }
            },
            "type": "barpolar"
           }
          ],
          "carpet": [
           {
            "aaxis": {
             "endlinecolor": "#2a3f5f",
             "gridcolor": "white",
             "linecolor": "white",
             "minorgridcolor": "white",
             "startlinecolor": "#2a3f5f"
            },
            "baxis": {
             "endlinecolor": "#2a3f5f",
             "gridcolor": "white",
             "linecolor": "white",
             "minorgridcolor": "white",
             "startlinecolor": "#2a3f5f"
            },
            "type": "carpet"
           }
          ],
          "choropleth": [
           {
            "colorbar": {
             "outlinewidth": 0,
             "ticks": ""
            },
            "type": "choropleth"
           }
          ],
          "contour": [
           {
            "colorbar": {
             "outlinewidth": 0,
             "ticks": ""
            },
            "colorscale": [
             [
              0,
              "#0d0887"
             ],
             [
              0.1111111111111111,
              "#46039f"
             ],
             [
              0.2222222222222222,
              "#7201a8"
             ],
             [
              0.3333333333333333,
              "#9c179e"
             ],
             [
              0.4444444444444444,
              "#bd3786"
             ],
             [
              0.5555555555555556,
              "#d8576b"
             ],
             [
              0.6666666666666666,
              "#ed7953"
             ],
             [
              0.7777777777777778,
              "#fb9f3a"
             ],
             [
              0.8888888888888888,
              "#fdca26"
             ],
             [
              1,
              "#f0f921"
             ]
            ],
            "type": "contour"
           }
          ],
          "contourcarpet": [
           {
            "colorbar": {
             "outlinewidth": 0,
             "ticks": ""
            },
            "type": "contourcarpet"
           }
          ],
          "heatmap": [
           {
            "colorbar": {
             "outlinewidth": 0,
             "ticks": ""
            },
            "colorscale": [
             [
              0,
              "#0d0887"
             ],
             [
              0.1111111111111111,
              "#46039f"
             ],
             [
              0.2222222222222222,
              "#7201a8"
             ],
             [
              0.3333333333333333,
              "#9c179e"
             ],
             [
              0.4444444444444444,
              "#bd3786"
             ],
             [
              0.5555555555555556,
              "#d8576b"
             ],
             [
              0.6666666666666666,
              "#ed7953"
             ],
             [
              0.7777777777777778,
              "#fb9f3a"
             ],
             [
              0.8888888888888888,
              "#fdca26"
             ],
             [
              1,
              "#f0f921"
             ]
            ],
            "type": "heatmap"
           }
          ],
          "heatmapgl": [
           {
            "colorbar": {
             "outlinewidth": 0,
             "ticks": ""
            },
            "colorscale": [
             [
              0,
              "#0d0887"
             ],
             [
              0.1111111111111111,
              "#46039f"
             ],
             [
              0.2222222222222222,
              "#7201a8"
             ],
             [
              0.3333333333333333,
              "#9c179e"
             ],
             [
              0.4444444444444444,
              "#bd3786"
             ],
             [
              0.5555555555555556,
              "#d8576b"
             ],
             [
              0.6666666666666666,
              "#ed7953"
             ],
             [
              0.7777777777777778,
              "#fb9f3a"
             ],
             [
              0.8888888888888888,
              "#fdca26"
             ],
             [
              1,
              "#f0f921"
             ]
            ],
            "type": "heatmapgl"
           }
          ],
          "histogram": [
           {
            "marker": {
             "pattern": {
              "fillmode": "overlay",
              "size": 10,
              "solidity": 0.2
             }
            },
            "type": "histogram"
           }
          ],
          "histogram2d": [
           {
            "colorbar": {
             "outlinewidth": 0,
             "ticks": ""
            },
            "colorscale": [
             [
              0,
              "#0d0887"
             ],
             [
              0.1111111111111111,
              "#46039f"
             ],
             [
              0.2222222222222222,
              "#7201a8"
             ],
             [
              0.3333333333333333,
              "#9c179e"
             ],
             [
              0.4444444444444444,
              "#bd3786"
             ],
             [
              0.5555555555555556,
              "#d8576b"
             ],
             [
              0.6666666666666666,
              "#ed7953"
             ],
             [
              0.7777777777777778,
              "#fb9f3a"
             ],
             [
              0.8888888888888888,
              "#fdca26"
             ],
             [
              1,
              "#f0f921"
             ]
            ],
            "type": "histogram2d"
           }
          ],
          "histogram2dcontour": [
           {
            "colorbar": {
             "outlinewidth": 0,
             "ticks": ""
            },
            "colorscale": [
             [
              0,
              "#0d0887"
             ],
             [
              0.1111111111111111,
              "#46039f"
             ],
             [
              0.2222222222222222,
              "#7201a8"
             ],
             [
              0.3333333333333333,
              "#9c179e"
             ],
             [
              0.4444444444444444,
              "#bd3786"
             ],
             [
              0.5555555555555556,
              "#d8576b"
             ],
             [
              0.6666666666666666,
              "#ed7953"
             ],
             [
              0.7777777777777778,
              "#fb9f3a"
             ],
             [
              0.8888888888888888,
              "#fdca26"
             ],
             [
              1,
              "#f0f921"
             ]
            ],
            "type": "histogram2dcontour"
           }
          ],
          "mesh3d": [
           {
            "colorbar": {
             "outlinewidth": 0,
             "ticks": ""
            },
            "type": "mesh3d"
           }
          ],
          "parcoords": [
           {
            "line": {
             "colorbar": {
              "outlinewidth": 0,
              "ticks": ""
             }
            },
            "type": "parcoords"
           }
          ],
          "pie": [
           {
            "automargin": true,
            "type": "pie"
           }
          ],
          "scatter": [
           {
            "fillpattern": {
             "fillmode": "overlay",
             "size": 10,
             "solidity": 0.2
            },
            "type": "scatter"
           }
          ],
          "scatter3d": [
           {
            "line": {
             "colorbar": {
              "outlinewidth": 0,
              "ticks": ""
             }
            },
            "marker": {
             "colorbar": {
              "outlinewidth": 0,
              "ticks": ""
             }
            },
            "type": "scatter3d"
           }
          ],
          "scattercarpet": [
           {
            "marker": {
             "colorbar": {
              "outlinewidth": 0,
              "ticks": ""
             }
            },
            "type": "scattercarpet"
           }
          ],
          "scattergeo": [
           {
            "marker": {
             "colorbar": {
              "outlinewidth": 0,
              "ticks": ""
             }
            },
            "type": "scattergeo"
           }
          ],
          "scattergl": [
           {
            "marker": {
             "colorbar": {
              "outlinewidth": 0,
              "ticks": ""
             }
            },
            "type": "scattergl"
           }
          ],
          "scattermapbox": [
           {
            "marker": {
             "colorbar": {
              "outlinewidth": 0,
              "ticks": ""
             }
            },
            "type": "scattermapbox"
           }
          ],
          "scatterpolar": [
           {
            "marker": {
             "colorbar": {
              "outlinewidth": 0,
              "ticks": ""
             }
            },
            "type": "scatterpolar"
           }
          ],
          "scatterpolargl": [
           {
            "marker": {
             "colorbar": {
              "outlinewidth": 0,
              "ticks": ""
             }
            },
            "type": "scatterpolargl"
           }
          ],
          "scatterternary": [
           {
            "marker": {
             "colorbar": {
              "outlinewidth": 0,
              "ticks": ""
             }
            },
            "type": "scatterternary"
           }
          ],
          "surface": [
           {
            "colorbar": {
             "outlinewidth": 0,
             "ticks": ""
            },
            "colorscale": [
             [
              0,
              "#0d0887"
             ],
             [
              0.1111111111111111,
              "#46039f"
             ],
             [
              0.2222222222222222,
              "#7201a8"
             ],
             [
              0.3333333333333333,
              "#9c179e"
             ],
             [
              0.4444444444444444,
              "#bd3786"
             ],
             [
              0.5555555555555556,
              "#d8576b"
             ],
             [
              0.6666666666666666,
              "#ed7953"
             ],
             [
              0.7777777777777778,
              "#fb9f3a"
             ],
             [
              0.8888888888888888,
              "#fdca26"
             ],
             [
              1,
              "#f0f921"
             ]
            ],
            "type": "surface"
           }
          ],
          "table": [
           {
            "cells": {
             "fill": {
              "color": "#EBF0F8"
             },
             "line": {
              "color": "white"
             }
            },
            "header": {
             "fill": {
              "color": "#C8D4E3"
             },
             "line": {
              "color": "white"
             }
            },
            "type": "table"
           }
          ]
         },
         "layout": {
          "annotationdefaults": {
           "arrowcolor": "#2a3f5f",
           "arrowhead": 0,
           "arrowwidth": 1
          },
          "autotypenumbers": "strict",
          "coloraxis": {
           "colorbar": {
            "outlinewidth": 0,
            "ticks": ""
           }
          },
          "colorscale": {
           "diverging": [
            [
             0,
             "#8e0152"
            ],
            [
             0.1,
             "#c51b7d"
            ],
            [
             0.2,
             "#de77ae"
            ],
            [
             0.3,
             "#f1b6da"
            ],
            [
             0.4,
             "#fde0ef"
            ],
            [
             0.5,
             "#f7f7f7"
            ],
            [
             0.6,
             "#e6f5d0"
            ],
            [
             0.7,
             "#b8e186"
            ],
            [
             0.8,
             "#7fbc41"
            ],
            [
             0.9,
             "#4d9221"
            ],
            [
             1,
             "#276419"
            ]
           ],
           "sequential": [
            [
             0,
             "#0d0887"
            ],
            [
             0.1111111111111111,
             "#46039f"
            ],
            [
             0.2222222222222222,
             "#7201a8"
            ],
            [
             0.3333333333333333,
             "#9c179e"
            ],
            [
             0.4444444444444444,
             "#bd3786"
            ],
            [
             0.5555555555555556,
             "#d8576b"
            ],
            [
             0.6666666666666666,
             "#ed7953"
            ],
            [
             0.7777777777777778,
             "#fb9f3a"
            ],
            [
             0.8888888888888888,
             "#fdca26"
            ],
            [
             1,
             "#f0f921"
            ]
           ],
           "sequentialminus": [
            [
             0,
             "#0d0887"
            ],
            [
             0.1111111111111111,
             "#46039f"
            ],
            [
             0.2222222222222222,
             "#7201a8"
            ],
            [
             0.3333333333333333,
             "#9c179e"
            ],
            [
             0.4444444444444444,
             "#bd3786"
            ],
            [
             0.5555555555555556,
             "#d8576b"
            ],
            [
             0.6666666666666666,
             "#ed7953"
            ],
            [
             0.7777777777777778,
             "#fb9f3a"
            ],
            [
             0.8888888888888888,
             "#fdca26"
            ],
            [
             1,
             "#f0f921"
            ]
           ]
          },
          "colorway": [
           "#636efa",
           "#EF553B",
           "#00cc96",
           "#ab63fa",
           "#FFA15A",
           "#19d3f3",
           "#FF6692",
           "#B6E880",
           "#FF97FF",
           "#FECB52"
          ],
          "font": {
           "color": "#2a3f5f"
          },
          "geo": {
           "bgcolor": "white",
           "lakecolor": "white",
           "landcolor": "#E5ECF6",
           "showlakes": true,
           "showland": true,
           "subunitcolor": "white"
          },
          "hoverlabel": {
           "align": "left"
          },
          "hovermode": "closest",
          "mapbox": {
           "style": "light"
          },
          "paper_bgcolor": "white",
          "plot_bgcolor": "#E5ECF6",
          "polar": {
           "angularaxis": {
            "gridcolor": "white",
            "linecolor": "white",
            "ticks": ""
           },
           "bgcolor": "#E5ECF6",
           "radialaxis": {
            "gridcolor": "white",
            "linecolor": "white",
            "ticks": ""
           }
          },
          "scene": {
           "xaxis": {
            "backgroundcolor": "#E5ECF6",
            "gridcolor": "white",
            "gridwidth": 2,
            "linecolor": "white",
            "showbackground": true,
            "ticks": "",
            "zerolinecolor": "white"
           },
           "yaxis": {
            "backgroundcolor": "#E5ECF6",
            "gridcolor": "white",
            "gridwidth": 2,
            "linecolor": "white",
            "showbackground": true,
            "ticks": "",
            "zerolinecolor": "white"
           },
           "zaxis": {
            "backgroundcolor": "#E5ECF6",
            "gridcolor": "white",
            "gridwidth": 2,
            "linecolor": "white",
            "showbackground": true,
            "ticks": "",
            "zerolinecolor": "white"
           }
          },
          "shapedefaults": {
           "line": {
            "color": "#2a3f5f"
           }
          },
          "ternary": {
           "aaxis": {
            "gridcolor": "white",
            "linecolor": "white",
            "ticks": ""
           },
           "baxis": {
            "gridcolor": "white",
            "linecolor": "white",
            "ticks": ""
           },
           "bgcolor": "#E5ECF6",
           "caxis": {
            "gridcolor": "white",
            "linecolor": "white",
            "ticks": ""
           }
          },
          "title": {
           "x": 0.05
          },
          "xaxis": {
           "automargin": true,
           "gridcolor": "white",
           "linecolor": "white",
           "ticks": "",
           "title": {
            "standoff": 15
           },
           "zerolinecolor": "white",
           "zerolinewidth": 2
          },
          "yaxis": {
           "automargin": true,
           "gridcolor": "white",
           "linecolor": "white",
           "ticks": "",
           "title": {
            "standoff": 15
           },
           "zerolinecolor": "white",
           "zerolinewidth": 2
          }
         }
        },
        "title": {
         "text": "LTC 15m"
        },
        "width": 1500,
        "xaxis": {
         "rangeslider": {
          "visible": false
         },
         "type": "category"
        }
       }
      }
     },
     "metadata": {},
     "output_type": "display_data"
    },
    {
     "data": {
      "application/vnd.plotly.v1+json": {
       "config": {
        "plotlyServerURL": "https://plotly.com"
       },
       "data": [
        {
         "name": "squeeze",
         "type": "bar",
         "x": [
          "2023-05-23 08:15:00",
          "2023-05-23 08:30:00",
          "2023-05-23 08:45:00",
          "2023-05-23 09:00:00",
          "2023-05-23 09:15:00",
          "2023-05-23 09:30:00",
          "2023-05-23 09:45:00",
          "2023-05-23 10:00:00",
          "2023-05-23 10:15:00",
          "2023-05-23 10:30:00",
          "2023-05-23 10:45:00",
          "2023-05-23 11:00:00",
          "2023-05-23 11:15:00",
          "2023-05-23 11:30:00",
          "2023-05-23 11:45:00",
          "2023-05-23 12:00:00",
          "2023-05-23 12:15:00",
          "2023-05-23 12:30:00",
          "2023-05-23 12:45:00",
          "2023-05-23 13:00:00",
          "2023-05-23 13:15:00",
          "2023-05-23 13:30:00",
          "2023-05-23 13:45:00",
          "2023-05-23 14:00:00",
          "2023-05-23 14:15:00",
          "2023-05-23 14:30:00",
          "2023-05-23 14:45:00",
          "2023-05-23 15:00:00",
          "2023-05-23 15:15:00",
          "2023-05-23 15:30:00",
          "2023-05-23 15:45:00",
          "2023-05-23 16:00:00",
          "2023-05-23 16:15:00",
          "2023-05-23 16:30:00",
          "2023-05-23 16:45:00",
          "2023-05-23 17:00:00",
          "2023-05-23 17:15:00",
          "2023-05-23 17:30:00",
          "2023-05-23 17:45:00",
          "2023-05-23 18:00:00",
          "2023-05-23 18:15:00",
          "2023-05-23 18:30:00",
          "2023-05-23 18:45:00",
          "2023-05-23 19:00:00",
          "2023-05-23 19:15:00",
          "2023-05-23 19:30:00",
          "2023-05-23 19:45:00",
          "2023-05-23 20:00:00",
          "2023-05-23 20:15:00",
          "2023-05-23 20:30:00",
          "2023-05-23 20:45:00",
          "2023-05-23 21:00:00",
          "2023-05-23 21:15:00",
          "2023-05-23 21:30:00",
          "2023-05-23 21:45:00",
          "2023-05-23 22:00:00",
          "2023-05-23 22:15:00",
          "2023-05-23 22:30:00",
          "2023-05-23 22:45:00",
          "2023-05-23 23:00:00",
          "2023-05-23 23:15:00",
          "2023-05-23 23:30:00",
          "2023-05-23 23:45:00",
          "2023-05-24 00:00:00",
          "2023-05-24 00:15:00",
          "2023-05-24 00:30:00",
          "2023-05-24 00:45:00",
          "2023-05-24 01:00:00",
          "2023-05-24 01:15:00",
          "2023-05-24 01:30:00",
          "2023-05-24 01:45:00",
          "2023-05-24 02:00:00",
          "2023-05-24 02:15:00",
          "2023-05-24 02:30:00",
          "2023-05-24 02:45:00",
          "2023-05-24 03:00:00",
          "2023-05-24 03:15:00",
          "2023-05-24 03:30:00",
          "2023-05-24 03:45:00",
          "2023-05-24 04:00:00",
          "2023-05-24 04:15:00",
          "2023-05-24 04:30:00",
          "2023-05-24 04:45:00",
          "2023-05-24 05:00:00",
          "2023-05-24 05:15:00",
          "2023-05-24 05:30:00",
          "2023-05-24 05:45:00",
          "2023-05-24 06:00:00",
          "2023-05-24 06:15:00",
          "2023-05-24 06:30:00",
          "2023-05-24 06:45:00",
          "2023-05-24 07:00:00",
          "2023-05-24 07:15:00",
          "2023-05-24 07:30:00",
          "2023-05-24 07:45:00",
          "2023-05-24 08:00:00",
          "2023-05-24 08:15:00",
          "2023-05-24 08:30:00",
          "2023-05-24 08:45:00",
          "2023-05-24 09:00:00"
         ],
         "y": [
          -0.21493571428571157,
          -0.1456178571428553,
          -0.0857428571428519,
          -0.07010357142856749,
          -0.01623571428571402,
          -0.0021928571428553867,
          0.004939285714284591,
          -0.008953571428570894,
          -0.036789285714286524,
          -0.10232499999999806,
          -0.13041785714285523,
          -0.1391607142857138,
          -0.11892142857142735,
          -0.07777499999999768,
          -0.04420357142857004,
          -0.03829642857142476,
          -0.025224999999996472,
          -0.018264285714281542,
          0.0013285714285727612,
          -0.024460714285710353,
          -0.036696428571422565,
          -0.07299999999999612,
          -0.09865714285713785,
          -0.12977142857142193,
          -0.14405357142856387,
          -0.14424285714285012,
          -0.14730357142856315,
          -0.16434285714285152,
          -0.2039892857142821,
          -0.24137142857142468,
          -0.28473214285713944,
          -0.3130607142857137,
          -0.33677142857142806,
          -0.32385000000000275,
          -0.2979392857142902,
          -0.31277500000000547,
          -0.3418750000000066,
          -0.36870714285715245,
          -0.34473214285715226,
          -0.28633571428572296,
          -0.22723214285715052,
          -0.2180178571428663,
          -0.1876821428571505,
          -0.12720357142857963,
          -0.07121071428571901,
          -0.0010285714285752645,
          0.08682857142856937,
          0.17308928571428267,
          0.2692678571428554,
          0.364492857142854,
          0.4500321428571377,
          0.5386678571428534,
          0.6094392857142816,
          0.6425392857142812,
          0.6894749999999945,
          0.6976107142857098,
          0.6573071428571385,
          0.5820499999999963,
          0.4507428571428535,
          0.3747892857142834,
          0.27272142857142706,
          0.17451428571428299,
          0.08708928571428592,
          -0.06246785714285685,
          -0.2605357142857123,
          -0.6005642857142826,
          -0.8627892857142807,
          -1.373349999999996,
          -1.6909321428571387,
          -1.895632142857139,
          -2.0349249999999977,
          -2.1593999999999958,
          -2.235689285714282,
          -2.3257321428571376,
          -2.360674999999997,
          -2.4425392857142825,
          -2.4695642857142848,
          -2.479878571428572,
          -2.616989285714285,
          -2.537014285714287,
          -2.480946428571433,
          -2.4020250000000054,
          -2.3888750000000067,
          -2.2243464285714327,
          -1.9557750000000065,
          -1.7324535714285754,
          -1.4660714285714311,
          -1.267835714285718,
          -1.0455035714285752,
          -0.8107750000000036,
          -0.5854250000000032,
          -0.4071178571428562,
          -0.2951857142857133,
          -0.146917857142856,
          -0.007935714285712603,
          0.054235714285715275,
          0.12700357142857044,
          0.19112142857142578,
          0.20655357142857134,
          0.2722964285714262
         ]
        }
       ],
       "layout": {
        "autosize": false,
        "height": 300,
        "margin": {
         "b": 1,
         "l": 50,
         "pad": 4,
         "r": 150,
         "t": 10
        },
        "paper_bgcolor": "LightSteelBlue",
        "shapes": [
         {
          "line": {
           "color": "green",
           "dash": "dash",
           "width": 1
          },
          "type": "line",
          "x0": "2023-05-23 11:30:00",
          "x1": "2023-05-23 11:30:00",
          "y0": -2.616989285714285,
          "y1": 0.6976107142857098
         }
        ],
        "template": {
         "data": {
          "bar": [
           {
            "error_x": {
             "color": "#2a3f5f"
            },
            "error_y": {
             "color": "#2a3f5f"
            },
            "marker": {
             "line": {
              "color": "#E5ECF6",
              "width": 0.5
             },
             "pattern": {
              "fillmode": "overlay",
              "size": 10,
              "solidity": 0.2
             }
            },
            "type": "bar"
           }
          ],
          "barpolar": [
           {
            "marker": {
             "line": {
              "color": "#E5ECF6",
              "width": 0.5
             },
             "pattern": {
              "fillmode": "overlay",
              "size": 10,
              "solidity": 0.2
             }
            },
            "type": "barpolar"
           }
          ],
          "carpet": [
           {
            "aaxis": {
             "endlinecolor": "#2a3f5f",
             "gridcolor": "white",
             "linecolor": "white",
             "minorgridcolor": "white",
             "startlinecolor": "#2a3f5f"
            },
            "baxis": {
             "endlinecolor": "#2a3f5f",
             "gridcolor": "white",
             "linecolor": "white",
             "minorgridcolor": "white",
             "startlinecolor": "#2a3f5f"
            },
            "type": "carpet"
           }
          ],
          "choropleth": [
           {
            "colorbar": {
             "outlinewidth": 0,
             "ticks": ""
            },
            "type": "choropleth"
           }
          ],
          "contour": [
           {
            "colorbar": {
             "outlinewidth": 0,
             "ticks": ""
            },
            "colorscale": [
             [
              0,
              "#0d0887"
             ],
             [
              0.1111111111111111,
              "#46039f"
             ],
             [
              0.2222222222222222,
              "#7201a8"
             ],
             [
              0.3333333333333333,
              "#9c179e"
             ],
             [
              0.4444444444444444,
              "#bd3786"
             ],
             [
              0.5555555555555556,
              "#d8576b"
             ],
             [
              0.6666666666666666,
              "#ed7953"
             ],
             [
              0.7777777777777778,
              "#fb9f3a"
             ],
             [
              0.8888888888888888,
              "#fdca26"
             ],
             [
              1,
              "#f0f921"
             ]
            ],
            "type": "contour"
           }
          ],
          "contourcarpet": [
           {
            "colorbar": {
             "outlinewidth": 0,
             "ticks": ""
            },
            "type": "contourcarpet"
           }
          ],
          "heatmap": [
           {
            "colorbar": {
             "outlinewidth": 0,
             "ticks": ""
            },
            "colorscale": [
             [
              0,
              "#0d0887"
             ],
             [
              0.1111111111111111,
              "#46039f"
             ],
             [
              0.2222222222222222,
              "#7201a8"
             ],
             [
              0.3333333333333333,
              "#9c179e"
             ],
             [
              0.4444444444444444,
              "#bd3786"
             ],
             [
              0.5555555555555556,
              "#d8576b"
             ],
             [
              0.6666666666666666,
              "#ed7953"
             ],
             [
              0.7777777777777778,
              "#fb9f3a"
             ],
             [
              0.8888888888888888,
              "#fdca26"
             ],
             [
              1,
              "#f0f921"
             ]
            ],
            "type": "heatmap"
           }
          ],
          "heatmapgl": [
           {
            "colorbar": {
             "outlinewidth": 0,
             "ticks": ""
            },
            "colorscale": [
             [
              0,
              "#0d0887"
             ],
             [
              0.1111111111111111,
              "#46039f"
             ],
             [
              0.2222222222222222,
              "#7201a8"
             ],
             [
              0.3333333333333333,
              "#9c179e"
             ],
             [
              0.4444444444444444,
              "#bd3786"
             ],
             [
              0.5555555555555556,
              "#d8576b"
             ],
             [
              0.6666666666666666,
              "#ed7953"
             ],
             [
              0.7777777777777778,
              "#fb9f3a"
             ],
             [
              0.8888888888888888,
              "#fdca26"
             ],
             [
              1,
              "#f0f921"
             ]
            ],
            "type": "heatmapgl"
           }
          ],
          "histogram": [
           {
            "marker": {
             "pattern": {
              "fillmode": "overlay",
              "size": 10,
              "solidity": 0.2
             }
            },
            "type": "histogram"
           }
          ],
          "histogram2d": [
           {
            "colorbar": {
             "outlinewidth": 0,
             "ticks": ""
            },
            "colorscale": [
             [
              0,
              "#0d0887"
             ],
             [
              0.1111111111111111,
              "#46039f"
             ],
             [
              0.2222222222222222,
              "#7201a8"
             ],
             [
              0.3333333333333333,
              "#9c179e"
             ],
             [
              0.4444444444444444,
              "#bd3786"
             ],
             [
              0.5555555555555556,
              "#d8576b"
             ],
             [
              0.6666666666666666,
              "#ed7953"
             ],
             [
              0.7777777777777778,
              "#fb9f3a"
             ],
             [
              0.8888888888888888,
              "#fdca26"
             ],
             [
              1,
              "#f0f921"
             ]
            ],
            "type": "histogram2d"
           }
          ],
          "histogram2dcontour": [
           {
            "colorbar": {
             "outlinewidth": 0,
             "ticks": ""
            },
            "colorscale": [
             [
              0,
              "#0d0887"
             ],
             [
              0.1111111111111111,
              "#46039f"
             ],
             [
              0.2222222222222222,
              "#7201a8"
             ],
             [
              0.3333333333333333,
              "#9c179e"
             ],
             [
              0.4444444444444444,
              "#bd3786"
             ],
             [
              0.5555555555555556,
              "#d8576b"
             ],
             [
              0.6666666666666666,
              "#ed7953"
             ],
             [
              0.7777777777777778,
              "#fb9f3a"
             ],
             [
              0.8888888888888888,
              "#fdca26"
             ],
             [
              1,
              "#f0f921"
             ]
            ],
            "type": "histogram2dcontour"
           }
          ],
          "mesh3d": [
           {
            "colorbar": {
             "outlinewidth": 0,
             "ticks": ""
            },
            "type": "mesh3d"
           }
          ],
          "parcoords": [
           {
            "line": {
             "colorbar": {
              "outlinewidth": 0,
              "ticks": ""
             }
            },
            "type": "parcoords"
           }
          ],
          "pie": [
           {
            "automargin": true,
            "type": "pie"
           }
          ],
          "scatter": [
           {
            "fillpattern": {
             "fillmode": "overlay",
             "size": 10,
             "solidity": 0.2
            },
            "type": "scatter"
           }
          ],
          "scatter3d": [
           {
            "line": {
             "colorbar": {
              "outlinewidth": 0,
              "ticks": ""
             }
            },
            "marker": {
             "colorbar": {
              "outlinewidth": 0,
              "ticks": ""
             }
            },
            "type": "scatter3d"
           }
          ],
          "scattercarpet": [
           {
            "marker": {
             "colorbar": {
              "outlinewidth": 0,
              "ticks": ""
             }
            },
            "type": "scattercarpet"
           }
          ],
          "scattergeo": [
           {
            "marker": {
             "colorbar": {
              "outlinewidth": 0,
              "ticks": ""
             }
            },
            "type": "scattergeo"
           }
          ],
          "scattergl": [
           {
            "marker": {
             "colorbar": {
              "outlinewidth": 0,
              "ticks": ""
             }
            },
            "type": "scattergl"
           }
          ],
          "scattermapbox": [
           {
            "marker": {
             "colorbar": {
              "outlinewidth": 0,
              "ticks": ""
             }
            },
            "type": "scattermapbox"
           }
          ],
          "scatterpolar": [
           {
            "marker": {
             "colorbar": {
              "outlinewidth": 0,
              "ticks": ""
             }
            },
            "type": "scatterpolar"
           }
          ],
          "scatterpolargl": [
           {
            "marker": {
             "colorbar": {
              "outlinewidth": 0,
              "ticks": ""
             }
            },
            "type": "scatterpolargl"
           }
          ],
          "scatterternary": [
           {
            "marker": {
             "colorbar": {
              "outlinewidth": 0,
              "ticks": ""
             }
            },
            "type": "scatterternary"
           }
          ],
          "surface": [
           {
            "colorbar": {
             "outlinewidth": 0,
             "ticks": ""
            },
            "colorscale": [
             [
              0,
              "#0d0887"
             ],
             [
              0.1111111111111111,
              "#46039f"
             ],
             [
              0.2222222222222222,
              "#7201a8"
             ],
             [
              0.3333333333333333,
              "#9c179e"
             ],
             [
              0.4444444444444444,
              "#bd3786"
             ],
             [
              0.5555555555555556,
              "#d8576b"
             ],
             [
              0.6666666666666666,
              "#ed7953"
             ],
             [
              0.7777777777777778,
              "#fb9f3a"
             ],
             [
              0.8888888888888888,
              "#fdca26"
             ],
             [
              1,
              "#f0f921"
             ]
            ],
            "type": "surface"
           }
          ],
          "table": [
           {
            "cells": {
             "fill": {
              "color": "#EBF0F8"
             },
             "line": {
              "color": "white"
             }
            },
            "header": {
             "fill": {
              "color": "#C8D4E3"
             },
             "line": {
              "color": "white"
             }
            },
            "type": "table"
           }
          ]
         },
         "layout": {
          "annotationdefaults": {
           "arrowcolor": "#2a3f5f",
           "arrowhead": 0,
           "arrowwidth": 1
          },
          "autotypenumbers": "strict",
          "coloraxis": {
           "colorbar": {
            "outlinewidth": 0,
            "ticks": ""
           }
          },
          "colorscale": {
           "diverging": [
            [
             0,
             "#8e0152"
            ],
            [
             0.1,
             "#c51b7d"
            ],
            [
             0.2,
             "#de77ae"
            ],
            [
             0.3,
             "#f1b6da"
            ],
            [
             0.4,
             "#fde0ef"
            ],
            [
             0.5,
             "#f7f7f7"
            ],
            [
             0.6,
             "#e6f5d0"
            ],
            [
             0.7,
             "#b8e186"
            ],
            [
             0.8,
             "#7fbc41"
            ],
            [
             0.9,
             "#4d9221"
            ],
            [
             1,
             "#276419"
            ]
           ],
           "sequential": [
            [
             0,
             "#0d0887"
            ],
            [
             0.1111111111111111,
             "#46039f"
            ],
            [
             0.2222222222222222,
             "#7201a8"
            ],
            [
             0.3333333333333333,
             "#9c179e"
            ],
            [
             0.4444444444444444,
             "#bd3786"
            ],
            [
             0.5555555555555556,
             "#d8576b"
            ],
            [
             0.6666666666666666,
             "#ed7953"
            ],
            [
             0.7777777777777778,
             "#fb9f3a"
            ],
            [
             0.8888888888888888,
             "#fdca26"
            ],
            [
             1,
             "#f0f921"
            ]
           ],
           "sequentialminus": [
            [
             0,
             "#0d0887"
            ],
            [
             0.1111111111111111,
             "#46039f"
            ],
            [
             0.2222222222222222,
             "#7201a8"
            ],
            [
             0.3333333333333333,
             "#9c179e"
            ],
            [
             0.4444444444444444,
             "#bd3786"
            ],
            [
             0.5555555555555556,
             "#d8576b"
            ],
            [
             0.6666666666666666,
             "#ed7953"
            ],
            [
             0.7777777777777778,
             "#fb9f3a"
            ],
            [
             0.8888888888888888,
             "#fdca26"
            ],
            [
             1,
             "#f0f921"
            ]
           ]
          },
          "colorway": [
           "#636efa",
           "#EF553B",
           "#00cc96",
           "#ab63fa",
           "#FFA15A",
           "#19d3f3",
           "#FF6692",
           "#B6E880",
           "#FF97FF",
           "#FECB52"
          ],
          "font": {
           "color": "#2a3f5f"
          },
          "geo": {
           "bgcolor": "white",
           "lakecolor": "white",
           "landcolor": "#E5ECF6",
           "showlakes": true,
           "showland": true,
           "subunitcolor": "white"
          },
          "hoverlabel": {
           "align": "left"
          },
          "hovermode": "closest",
          "mapbox": {
           "style": "light"
          },
          "paper_bgcolor": "white",
          "plot_bgcolor": "#E5ECF6",
          "polar": {
           "angularaxis": {
            "gridcolor": "white",
            "linecolor": "white",
            "ticks": ""
           },
           "bgcolor": "#E5ECF6",
           "radialaxis": {
            "gridcolor": "white",
            "linecolor": "white",
            "ticks": ""
           }
          },
          "scene": {
           "xaxis": {
            "backgroundcolor": "#E5ECF6",
            "gridcolor": "white",
            "gridwidth": 2,
            "linecolor": "white",
            "showbackground": true,
            "ticks": "",
            "zerolinecolor": "white"
           },
           "yaxis": {
            "backgroundcolor": "#E5ECF6",
            "gridcolor": "white",
            "gridwidth": 2,
            "linecolor": "white",
            "showbackground": true,
            "ticks": "",
            "zerolinecolor": "white"
           },
           "zaxis": {
            "backgroundcolor": "#E5ECF6",
            "gridcolor": "white",
            "gridwidth": 2,
            "linecolor": "white",
            "showbackground": true,
            "ticks": "",
            "zerolinecolor": "white"
           }
          },
          "shapedefaults": {
           "line": {
            "color": "#2a3f5f"
           }
          },
          "ternary": {
           "aaxis": {
            "gridcolor": "white",
            "linecolor": "white",
            "ticks": ""
           },
           "baxis": {
            "gridcolor": "white",
            "linecolor": "white",
            "ticks": ""
           },
           "bgcolor": "#E5ECF6",
           "caxis": {
            "gridcolor": "white",
            "linecolor": "white",
            "ticks": ""
           }
          },
          "title": {
           "x": 0.05
          },
          "xaxis": {
           "automargin": true,
           "gridcolor": "white",
           "linecolor": "white",
           "ticks": "",
           "title": {
            "standoff": 15
           },
           "zerolinecolor": "white",
           "zerolinewidth": 2
          },
          "yaxis": {
           "automargin": true,
           "gridcolor": "white",
           "linecolor": "white",
           "ticks": "",
           "title": {
            "standoff": 15
           },
           "zerolinecolor": "white",
           "zerolinewidth": 2
          }
         }
        },
        "width": 1500
       }
      }
     },
     "metadata": {},
     "output_type": "display_data"
    },
    {
     "data": {
      "application/vnd.plotly.v1+json": {
       "config": {
        "plotlyServerURL": "https://plotly.com"
       },
       "data": [
        {
         "close": [
          0.3701,
          0.382,
          0.4009,
          0.3837,
          0.3948,
          0.3941,
          0.386,
          0.3983,
          0.3916,
          0.3951,
          0.388,
          0.3778,
          0.3773,
          0.3775,
          0.378,
          0.3763,
          0.3832,
          0.3768,
          0.377,
          0.3731,
          0.3664,
          0.3694,
          0.3799,
          0.3887,
          0.3703,
          0.3695,
          0.3633,
          0.371,
          0.3719,
          0.3721,
          0.3585,
          0.3643,
          0.3794,
          0.3736,
          0.3853,
          0.3729,
          0.4693,
          0.4209,
          0.4434,
          0.4257,
          0.4427,
          0.4477,
          0.4787,
          0.5141,
          0.5423,
          0.5317,
          0.5372,
          0.5089,
          0.5175,
          0.4954,
          0.5022,
          0.5051,
          0.5024,
          0.5123,
          0.5043,
          0.5048,
          0.517,
          0.5161,
          0.5043,
          0.5118,
          0.5221,
          0.5186,
          0.5202,
          0.5102,
          0.5318,
          0.4905,
          0.4746,
          0.4484,
          0.4716,
          0.4642,
          0.4604,
          0.4691,
          0.4612,
          0.4662,
          0.4791,
          0.4775,
          0.4698,
          0.4643,
          0.464,
          0.4627,
          0.4605,
          0.4665,
          0.4577,
          0.4484,
          0.4277,
          0.4282,
          0.4297,
          0.4202,
          0.4299,
          0.4236,
          0.4247,
          0.4267,
          0.442,
          0.4479,
          0.459,
          0.4669,
          0.4681,
          0.457,
          0.4612,
          0.4646
         ],
         "high": [
          0.378,
          0.3837,
          0.4021,
          0.4045,
          0.3998,
          0.3973,
          0.3976,
          0.4087,
          0.4022,
          0.3975,
          0.3977,
          0.3905,
          0.3791,
          0.3803,
          0.3797,
          0.3823,
          0.3847,
          0.3842,
          0.3803,
          0.3796,
          0.377,
          0.3739,
          0.3841,
          0.4007,
          0.3971,
          0.3746,
          0.3735,
          0.3711,
          0.3795,
          0.3864,
          0.3754,
          0.3666,
          0.3822,
          0.3891,
          0.3995,
          0.3909,
          0.4927,
          0.4747,
          0.4549,
          0.4435,
          0.4641,
          0.4627,
          0.4884,
          0.5325,
          0.5828,
          0.5575,
          0.5488,
          0.538,
          0.5288,
          0.5245,
          0.5073,
          0.5265,
          0.5092,
          0.5147,
          0.5125,
          0.509,
          0.5192,
          0.5276,
          0.5173,
          0.515,
          0.5459,
          0.5256,
          0.5236,
          0.5203,
          0.5382,
          0.5367,
          0.4991,
          0.4786,
          0.4755,
          0.4716,
          0.4849,
          0.4715,
          0.4827,
          0.4702,
          0.4825,
          0.4865,
          0.4816,
          0.4719,
          0.4654,
          0.4648,
          0.4645,
          0.47,
          0.4686,
          0.4595,
          0.4507,
          0.4302,
          0.4334,
          0.4299,
          0.4432,
          0.4299,
          0.4313,
          0.4297,
          0.4426,
          0.461,
          0.4725,
          0.475,
          0.4715,
          0.4702,
          0.4668,
          0.4672
         ],
         "low": [
          0.3615,
          0.3642,
          0.3762,
          0.3837,
          0.3807,
          0.3912,
          0.3847,
          0.3779,
          0.3871,
          0.3826,
          0.3851,
          0.3719,
          0.3694,
          0.3741,
          0.3705,
          0.3711,
          0.3726,
          0.3733,
          0.3535,
          0.3679,
          0.3652,
          0.3593,
          0.3667,
          0.3721,
          0.3639,
          0.3572,
          0.3583,
          0.3475,
          0.3556,
          0.3643,
          0.3557,
          0.3558,
          0.3616,
          0.3689,
          0.3732,
          0.3705,
          0.3724,
          0.4084,
          0.4113,
          0.4142,
          0.4223,
          0.44,
          0.4421,
          0.4668,
          0.5141,
          0.522,
          0.5258,
          0.497,
          0.5008,
          0.4819,
          0.4867,
          0.4981,
          0.4909,
          0.4968,
          0.5018,
          0.4977,
          0.4993,
          0.5106,
          0.4979,
          0.5006,
          0.5102,
          0.5159,
          0.5145,
          0.5032,
          0.5088,
          0.4722,
          0.4647,
          0.4397,
          0.4449,
          0.4521,
          0.4467,
          0.4499,
          0.4337,
          0.455,
          0.4628,
          0.471,
          0.4682,
          0.4545,
          0.457,
          0.4492,
          0.4541,
          0.4533,
          0.4506,
          0.4452,
          0.4094,
          0.4183,
          0.4111,
          0.4108,
          0.4153,
          0.4219,
          0.4206,
          0.4208,
          0.4179,
          0.4372,
          0.4421,
          0.4562,
          0.4612,
          0.4541,
          0.4496,
          0.458
         ],
         "open": [
          0.3744,
          0.3701,
          0.3819,
          0.401,
          0.3837,
          0.3948,
          0.3941,
          0.386,
          0.3983,
          0.3916,
          0.3951,
          0.388,
          0.3779,
          0.3773,
          0.3774,
          0.378,
          0.3763,
          0.3832,
          0.3768,
          0.377,
          0.3731,
          0.3664,
          0.3694,
          0.3799,
          0.3887,
          0.3702,
          0.3695,
          0.3633,
          0.371,
          0.3719,
          0.372,
          0.3584,
          0.3643,
          0.3794,
          0.3736,
          0.3853,
          0.373,
          0.4694,
          0.4209,
          0.4433,
          0.4257,
          0.4425,
          0.4477,
          0.4787,
          0.5141,
          0.5423,
          0.5317,
          0.5372,
          0.5089,
          0.5175,
          0.4954,
          0.5022,
          0.5051,
          0.5023,
          0.5123,
          0.5043,
          0.5048,
          0.517,
          0.5159,
          0.5043,
          0.5118,
          0.5221,
          0.5186,
          0.5202,
          0.5102,
          0.5318,
          0.4905,
          0.4746,
          0.4484,
          0.4716,
          0.4642,
          0.4604,
          0.469,
          0.4612,
          0.4661,
          0.4791,
          0.4775,
          0.4698,
          0.4643,
          0.464,
          0.4627,
          0.4603,
          0.4665,
          0.4577,
          0.4484,
          0.4277,
          0.4282,
          0.4296,
          0.4201,
          0.4299,
          0.4236,
          0.4247,
          0.4267,
          0.442,
          0.4479,
          0.459,
          0.4669,
          0.4681,
          0.4568,
          0.4613
         ],
         "type": "candlestick",
         "x": [
          "2023-02-12 21:00:00",
          "2023-02-13 21:00:00",
          "2023-02-14 21:00:00",
          "2023-02-15 21:00:00",
          "2023-02-16 21:00:00",
          "2023-02-17 21:00:00",
          "2023-02-18 21:00:00",
          "2023-02-19 21:00:00",
          "2023-02-20 21:00:00",
          "2023-02-21 21:00:00",
          "2023-02-22 21:00:00",
          "2023-02-23 21:00:00",
          "2023-02-24 21:00:00",
          "2023-02-25 21:00:00",
          "2023-02-26 21:00:00",
          "2023-02-27 21:00:00",
          "2023-02-28 21:00:00",
          "2023-03-01 21:00:00",
          "2023-03-02 21:00:00",
          "2023-03-03 21:00:00",
          "2023-03-04 21:00:00",
          "2023-03-05 21:00:00",
          "2023-03-06 21:00:00",
          "2023-03-07 21:00:00",
          "2023-03-08 21:00:00",
          "2023-03-09 21:00:00",
          "2023-03-10 21:00:00",
          "2023-03-11 21:00:00",
          "2023-03-12 21:00:00",
          "2023-03-13 21:00:00",
          "2023-03-14 21:00:00",
          "2023-03-15 21:00:00",
          "2023-03-16 21:00:00",
          "2023-03-17 21:00:00",
          "2023-03-18 21:00:00",
          "2023-03-19 21:00:00",
          "2023-03-20 21:00:00",
          "2023-03-21 21:00:00",
          "2023-03-22 21:00:00",
          "2023-03-23 21:00:00",
          "2023-03-24 21:00:00",
          "2023-03-25 21:00:00",
          "2023-03-26 21:00:00",
          "2023-03-27 21:00:00",
          "2023-03-28 21:00:00",
          "2023-03-29 21:00:00",
          "2023-03-30 21:00:00",
          "2023-03-31 21:00:00",
          "2023-04-01 21:00:00",
          "2023-04-02 21:00:00",
          "2023-04-03 21:00:00",
          "2023-04-04 21:00:00",
          "2023-04-05 21:00:00",
          "2023-04-06 21:00:00",
          "2023-04-07 21:00:00",
          "2023-04-08 21:00:00",
          "2023-04-09 21:00:00",
          "2023-04-10 21:00:00",
          "2023-04-11 21:00:00",
          "2023-04-12 21:00:00",
          "2023-04-13 21:00:00",
          "2023-04-14 21:00:00",
          "2023-04-15 21:00:00",
          "2023-04-16 21:00:00",
          "2023-04-17 21:00:00",
          "2023-04-18 21:00:00",
          "2023-04-19 21:00:00",
          "2023-04-20 21:00:00",
          "2023-04-21 21:00:00",
          "2023-04-22 21:00:00",
          "2023-04-23 21:00:00",
          "2023-04-24 21:00:00",
          "2023-04-25 21:00:00",
          "2023-04-26 21:00:00",
          "2023-04-27 21:00:00",
          "2023-04-28 21:00:00",
          "2023-04-29 21:00:00",
          "2023-04-30 21:00:00",
          "2023-05-01 21:00:00",
          "2023-05-02 21:00:00",
          "2023-05-03 21:00:00",
          "2023-05-04 21:00:00",
          "2023-05-05 21:00:00",
          "2023-05-06 21:00:00",
          "2023-05-07 21:00:00",
          "2023-05-08 21:00:00",
          "2023-05-09 21:00:00",
          "2023-05-10 21:00:00",
          "2023-05-11 21:00:00",
          "2023-05-12 21:00:00",
          "2023-05-13 21:00:00",
          "2023-05-14 21:00:00",
          "2023-05-15 21:00:00",
          "2023-05-16 21:00:00",
          "2023-05-17 21:00:00",
          "2023-05-18 21:00:00",
          "2023-05-19 21:00:00",
          "2023-05-20 21:00:00",
          "2023-05-21 21:00:00",
          "2023-05-22 21:00:00"
         ]
        },
        {
         "line": {
          "color": "red",
          "width": 1
         },
         "name": "upper_band",
         "type": "scatter",
         "x": [
          "2023-02-12 21:00:00",
          "2023-02-13 21:00:00",
          "2023-02-14 21:00:00",
          "2023-02-15 21:00:00",
          "2023-02-16 21:00:00",
          "2023-02-17 21:00:00",
          "2023-02-18 21:00:00",
          "2023-02-19 21:00:00",
          "2023-02-20 21:00:00",
          "2023-02-21 21:00:00",
          "2023-02-22 21:00:00",
          "2023-02-23 21:00:00",
          "2023-02-24 21:00:00",
          "2023-02-25 21:00:00",
          "2023-02-26 21:00:00",
          "2023-02-27 21:00:00",
          "2023-02-28 21:00:00",
          "2023-03-01 21:00:00",
          "2023-03-02 21:00:00",
          "2023-03-03 21:00:00",
          "2023-03-04 21:00:00",
          "2023-03-05 21:00:00",
          "2023-03-06 21:00:00",
          "2023-03-07 21:00:00",
          "2023-03-08 21:00:00",
          "2023-03-09 21:00:00",
          "2023-03-10 21:00:00",
          "2023-03-11 21:00:00",
          "2023-03-12 21:00:00",
          "2023-03-13 21:00:00",
          "2023-03-14 21:00:00",
          "2023-03-15 21:00:00",
          "2023-03-16 21:00:00",
          "2023-03-17 21:00:00",
          "2023-03-18 21:00:00",
          "2023-03-19 21:00:00",
          "2023-03-20 21:00:00",
          "2023-03-21 21:00:00",
          "2023-03-22 21:00:00",
          "2023-03-23 21:00:00",
          "2023-03-24 21:00:00",
          "2023-03-25 21:00:00",
          "2023-03-26 21:00:00",
          "2023-03-27 21:00:00",
          "2023-03-28 21:00:00",
          "2023-03-29 21:00:00",
          "2023-03-30 21:00:00",
          "2023-03-31 21:00:00",
          "2023-04-01 21:00:00",
          "2023-04-02 21:00:00",
          "2023-04-03 21:00:00",
          "2023-04-04 21:00:00",
          "2023-04-05 21:00:00",
          "2023-04-06 21:00:00",
          "2023-04-07 21:00:00",
          "2023-04-08 21:00:00",
          "2023-04-09 21:00:00",
          "2023-04-10 21:00:00",
          "2023-04-11 21:00:00",
          "2023-04-12 21:00:00",
          "2023-04-13 21:00:00",
          "2023-04-14 21:00:00",
          "2023-04-15 21:00:00",
          "2023-04-16 21:00:00",
          "2023-04-17 21:00:00",
          "2023-04-18 21:00:00",
          "2023-04-19 21:00:00",
          "2023-04-20 21:00:00",
          "2023-04-21 21:00:00",
          "2023-04-22 21:00:00",
          "2023-04-23 21:00:00",
          "2023-04-24 21:00:00",
          "2023-04-25 21:00:00",
          "2023-04-26 21:00:00",
          "2023-04-27 21:00:00",
          "2023-04-28 21:00:00",
          "2023-04-29 21:00:00",
          "2023-04-30 21:00:00",
          "2023-05-01 21:00:00",
          "2023-05-02 21:00:00",
          "2023-05-03 21:00:00",
          "2023-05-04 21:00:00",
          "2023-05-05 21:00:00",
          "2023-05-06 21:00:00",
          "2023-05-07 21:00:00",
          "2023-05-08 21:00:00",
          "2023-05-09 21:00:00",
          "2023-05-10 21:00:00",
          "2023-05-11 21:00:00",
          "2023-05-12 21:00:00",
          "2023-05-13 21:00:00",
          "2023-05-14 21:00:00",
          "2023-05-15 21:00:00",
          "2023-05-16 21:00:00",
          "2023-05-17 21:00:00",
          "2023-05-18 21:00:00",
          "2023-05-19 21:00:00",
          "2023-05-20 21:00:00",
          "2023-05-21 21:00:00",
          "2023-05-22 21:00:00"
         ],
         "y": [
          0.42692332057721033,
          0.4249903453866301,
          0.42415135771285706,
          0.42234664363209856,
          0.42118556674931024,
          0.4188530006221639,
          0.4187415327564731,
          0.417890665035638,
          0.4151162766529433,
          0.41301743265543756,
          0.40986171743809935,
          0.4066500555554683,
          0.40570916020151054,
          0.40541107776440766,
          0.40293200971547116,
          0.4014877765627781,
          0.40152887169616625,
          0.40159228689527593,
          0.4015869580322838,
          0.4016757494867354,
          0.4021405994694597,
          0.4025682924652751,
          0.3997727077091501,
          0.40024119475590736,
          0.39882287803517813,
          0.39726095939360917,
          0.39734420409763105,
          0.39395979027221784,
          0.39179927576024315,
          0.388139149011977,
          0.3872901456302743,
          0.387112530378003,
          0.387370099714744,
          0.3870457548321417,
          0.38825940378199447,
          0.388034706729478,
          0.42195949774109065,
          0.428000622919559,
          0.43867322004711984,
          0.4440629748682864,
          0.4521356157014302,
          0.4601692790658679,
          0.4743450288265079,
          0.4955966957691316,
          0.5206096923932947,
          0.5383327782200419,
          0.5540927875730279,
          0.5623965202516202,
          0.5706091353889642,
          0.5740817291857523,
          0.5756233061591608,
          0.5761629445152059,
          0.5762147853886671,
          0.5745396851578769,
          0.571197981312095,
          0.5617979256729889,
          0.5643998456788454,
          0.5617087878378652,
          0.559793825589377,
          0.553251186098018,
          0.5484161294639598,
          0.5404873551155318,
          0.5381020660910096,
          0.5379783332748713,
          0.5353160522408106,
          0.5338444822091795,
          0.5329524518099505,
          0.5413068949254587,
          0.5414364457243103,
          0.5434015903347779,
          0.5450063657151383,
          0.5449975549457481,
          0.5454684081982731,
          0.5441303033875867,
          0.5429734603620305,
          0.5416382402191081,
          0.5385618582117279,
          0.5353255754054992,
          0.5334142059471071,
          0.5300209495235471,
          0.5239348883780629,
          0.5176198237252116,
          0.5098043161642829,
          0.5038426626167416,
          0.48964192754296665,
          0.488101701650384,
          0.48834717687402185,
          0.49119282145879095,
          0.49047831798619784,
          0.49078701062693225,
          0.49084272197239387,
          0.48927776530747796,
          0.4880615698097442,
          0.4863021018271025,
          0.48294337851862407,
          0.48087108893563935,
          0.4805612487139432,
          0.47956229912788845,
          0.47913941114881486,
          0.4794386476952841
         ]
        },
        {
         "line": {
          "color": "red",
          "width": 1
         },
         "name": "lower_band",
         "type": "scatter",
         "x": [
          "2023-02-12 21:00:00",
          "2023-02-13 21:00:00",
          "2023-02-14 21:00:00",
          "2023-02-15 21:00:00",
          "2023-02-16 21:00:00",
          "2023-02-17 21:00:00",
          "2023-02-18 21:00:00",
          "2023-02-19 21:00:00",
          "2023-02-20 21:00:00",
          "2023-02-21 21:00:00",
          "2023-02-22 21:00:00",
          "2023-02-23 21:00:00",
          "2023-02-24 21:00:00",
          "2023-02-25 21:00:00",
          "2023-02-26 21:00:00",
          "2023-02-27 21:00:00",
          "2023-02-28 21:00:00",
          "2023-03-01 21:00:00",
          "2023-03-02 21:00:00",
          "2023-03-03 21:00:00",
          "2023-03-04 21:00:00",
          "2023-03-05 21:00:00",
          "2023-03-06 21:00:00",
          "2023-03-07 21:00:00",
          "2023-03-08 21:00:00",
          "2023-03-09 21:00:00",
          "2023-03-10 21:00:00",
          "2023-03-11 21:00:00",
          "2023-03-12 21:00:00",
          "2023-03-13 21:00:00",
          "2023-03-14 21:00:00",
          "2023-03-15 21:00:00",
          "2023-03-16 21:00:00",
          "2023-03-17 21:00:00",
          "2023-03-18 21:00:00",
          "2023-03-19 21:00:00",
          "2023-03-20 21:00:00",
          "2023-03-21 21:00:00",
          "2023-03-22 21:00:00",
          "2023-03-23 21:00:00",
          "2023-03-24 21:00:00",
          "2023-03-25 21:00:00",
          "2023-03-26 21:00:00",
          "2023-03-27 21:00:00",
          "2023-03-28 21:00:00",
          "2023-03-29 21:00:00",
          "2023-03-30 21:00:00",
          "2023-03-31 21:00:00",
          "2023-04-01 21:00:00",
          "2023-04-02 21:00:00",
          "2023-04-03 21:00:00",
          "2023-04-04 21:00:00",
          "2023-04-05 21:00:00",
          "2023-04-06 21:00:00",
          "2023-04-07 21:00:00",
          "2023-04-08 21:00:00",
          "2023-04-09 21:00:00",
          "2023-04-10 21:00:00",
          "2023-04-11 21:00:00",
          "2023-04-12 21:00:00",
          "2023-04-13 21:00:00",
          "2023-04-14 21:00:00",
          "2023-04-15 21:00:00",
          "2023-04-16 21:00:00",
          "2023-04-17 21:00:00",
          "2023-04-18 21:00:00",
          "2023-04-19 21:00:00",
          "2023-04-20 21:00:00",
          "2023-04-21 21:00:00",
          "2023-04-22 21:00:00",
          "2023-04-23 21:00:00",
          "2023-04-24 21:00:00",
          "2023-04-25 21:00:00",
          "2023-04-26 21:00:00",
          "2023-04-27 21:00:00",
          "2023-04-28 21:00:00",
          "2023-04-29 21:00:00",
          "2023-04-30 21:00:00",
          "2023-05-01 21:00:00",
          "2023-05-02 21:00:00",
          "2023-05-03 21:00:00",
          "2023-05-04 21:00:00",
          "2023-05-05 21:00:00",
          "2023-05-06 21:00:00",
          "2023-05-07 21:00:00",
          "2023-05-08 21:00:00",
          "2023-05-09 21:00:00",
          "2023-05-10 21:00:00",
          "2023-05-11 21:00:00",
          "2023-05-12 21:00:00",
          "2023-05-13 21:00:00",
          "2023-05-14 21:00:00",
          "2023-05-15 21:00:00",
          "2023-05-16 21:00:00",
          "2023-05-17 21:00:00",
          "2023-05-18 21:00:00",
          "2023-05-19 21:00:00",
          "2023-05-20 21:00:00",
          "2023-05-21 21:00:00",
          "2023-05-22 21:00:00"
         ],
         "y": [
          0.3711766794227897,
          0.36968965461336994,
          0.3697386422871429,
          0.36868335636790134,
          0.36860443325068976,
          0.3690269993778361,
          0.3684384672435269,
          0.36856933496436195,
          0.36921372334705665,
          0.36986256734456247,
          0.37068828256190073,
          0.3706499444445317,
          0.36951083979848937,
          0.3683889222355924,
          0.3683479902845289,
          0.3677022234372218,
          0.3678511283038338,
          0.3673077131047241,
          0.36670304196771625,
          0.36648425051326466,
          0.3656494005305403,
          0.36396170753472484,
          0.36465729229084987,
          0.36468880524409264,
          0.3636571219648219,
          0.36275904060639097,
          0.360405795902369,
          0.3610602097277822,
          0.36125072423975685,
          0.36261085098802304,
          0.3605098543697257,
          0.3593374696219971,
          0.3592899002852561,
          0.3592242451678583,
          0.3587405962180055,
          0.3586252932705221,
          0.33331050225890935,
          0.33167937708044104,
          0.32764677995288016,
          0.32751702513171355,
          0.3270743842985699,
          0.32687072093413205,
          0.32257497117349215,
          0.31386330423086833,
          0.3060503076067054,
          0.30454722177995797,
          0.30617721242697216,
          0.3116634797483798,
          0.3180108646110359,
          0.32686827081424785,
          0.3396966938408393,
          0.35323705548479395,
          0.3654852146113329,
          0.38103031484212313,
          0.39627201868790496,
          0.41886207432701106,
          0.42103015432115465,
          0.43324121216213485,
          0.4412461744106232,
          0.4563988139019821,
          0.4691738705360402,
          0.484192644884468,
          0.49072793390899033,
          0.4904616667251287,
          0.4920739477591895,
          0.4894255177908206,
          0.48405754819004937,
          0.4696531050745414,
          0.4649335542756897,
          0.4598484096652221,
          0.45406363428486163,
          0.450472445054252,
          0.44588159180172693,
          0.44260969661241323,
          0.44124653963796945,
          0.4398517597808918,
          0.43820814178827205,
          0.4362644245945007,
          0.43414579405289283,
          0.4326290504764529,
          0.4325551116219371,
          0.4336601762747883,
          0.43522568383571714,
          0.4350073373832585,
          0.4387980724570333,
          0.43410829834961595,
          0.42937282312597824,
          0.423707178541209,
          0.4202516820138022,
          0.41588298937306784,
          0.41225727802760614,
          0.40958223469252203,
          0.4088784301902559,
          0.4088078981728976,
          0.41015662148137605,
          0.4111689110643606,
          0.411308751286057,
          0.4115777008721116,
          0.4117205888511851,
          0.411611352304716
         ]
        },
        {
         "line": {
          "color": "blue",
          "dash": "dash",
          "width": 1
         },
         "name": "upper_KC",
         "type": "scatter",
         "x": [
          "2023-02-12 21:00:00",
          "2023-02-13 21:00:00",
          "2023-02-14 21:00:00",
          "2023-02-15 21:00:00",
          "2023-02-16 21:00:00",
          "2023-02-17 21:00:00",
          "2023-02-18 21:00:00",
          "2023-02-19 21:00:00",
          "2023-02-20 21:00:00",
          "2023-02-21 21:00:00",
          "2023-02-22 21:00:00",
          "2023-02-23 21:00:00",
          "2023-02-24 21:00:00",
          "2023-02-25 21:00:00",
          "2023-02-26 21:00:00",
          "2023-02-27 21:00:00",
          "2023-02-28 21:00:00",
          "2023-03-01 21:00:00",
          "2023-03-02 21:00:00",
          "2023-03-03 21:00:00",
          "2023-03-04 21:00:00",
          "2023-03-05 21:00:00",
          "2023-03-06 21:00:00",
          "2023-03-07 21:00:00",
          "2023-03-08 21:00:00",
          "2023-03-09 21:00:00",
          "2023-03-10 21:00:00",
          "2023-03-11 21:00:00",
          "2023-03-12 21:00:00",
          "2023-03-13 21:00:00",
          "2023-03-14 21:00:00",
          "2023-03-15 21:00:00",
          "2023-03-16 21:00:00",
          "2023-03-17 21:00:00",
          "2023-03-18 21:00:00",
          "2023-03-19 21:00:00",
          "2023-03-20 21:00:00",
          "2023-03-21 21:00:00",
          "2023-03-22 21:00:00",
          "2023-03-23 21:00:00",
          "2023-03-24 21:00:00",
          "2023-03-25 21:00:00",
          "2023-03-26 21:00:00",
          "2023-03-27 21:00:00",
          "2023-03-28 21:00:00",
          "2023-03-29 21:00:00",
          "2023-03-30 21:00:00",
          "2023-03-31 21:00:00",
          "2023-04-01 21:00:00",
          "2023-04-02 21:00:00",
          "2023-04-03 21:00:00",
          "2023-04-04 21:00:00",
          "2023-04-05 21:00:00",
          "2023-04-06 21:00:00",
          "2023-04-07 21:00:00",
          "2023-04-08 21:00:00",
          "2023-04-09 21:00:00",
          "2023-04-10 21:00:00",
          "2023-04-11 21:00:00",
          "2023-04-12 21:00:00",
          "2023-04-13 21:00:00",
          "2023-04-14 21:00:00",
          "2023-04-15 21:00:00",
          "2023-04-16 21:00:00",
          "2023-04-17 21:00:00",
          "2023-04-18 21:00:00",
          "2023-04-19 21:00:00",
          "2023-04-20 21:00:00",
          "2023-04-21 21:00:00",
          "2023-04-22 21:00:00",
          "2023-04-23 21:00:00",
          "2023-04-24 21:00:00",
          "2023-04-25 21:00:00",
          "2023-04-26 21:00:00",
          "2023-04-27 21:00:00",
          "2023-04-28 21:00:00",
          "2023-04-29 21:00:00",
          "2023-04-30 21:00:00",
          "2023-05-01 21:00:00",
          "2023-05-02 21:00:00",
          "2023-05-03 21:00:00",
          "2023-05-04 21:00:00",
          "2023-05-05 21:00:00",
          "2023-05-06 21:00:00",
          "2023-05-07 21:00:00",
          "2023-05-08 21:00:00",
          "2023-05-09 21:00:00",
          "2023-05-10 21:00:00",
          "2023-05-11 21:00:00",
          "2023-05-12 21:00:00",
          "2023-05-13 21:00:00",
          "2023-05-14 21:00:00",
          "2023-05-15 21:00:00",
          "2023-05-16 21:00:00",
          "2023-05-17 21:00:00",
          "2023-05-18 21:00:00",
          "2023-05-19 21:00:00",
          "2023-05-20 21:00:00",
          "2023-05-21 21:00:00",
          "2023-05-22 21:00:00"
         ],
         "y": [
          0.42150867174177165,
          0.42103345869781317,
          0.42339419348002894,
          0.42282797648366,
          0.42245107166844914,
          0.4181495131832766,
          0.4169159653317717,
          0.420714880725995,
          0.41877081150308687,
          0.41727202759343474,
          0.414846658940083,
          0.41382681186006787,
          0.4108546642491464,
          0.40760927074930164,
          0.4050930397039741,
          0.403565668848706,
          0.4035114563307595,
          0.4028221006342578,
          0.40648580960984726,
          0.40554975331714777,
          0.40467934362312086,
          0.40425219023709885,
          0.4041317920121718,
          0.4081969207372315,
          0.411347935148644,
          0.40938921966707237,
          0.4070579979094228,
          0.4070051801077096,
          0.4071756019063078,
          0.40648003792334275,
          0.40472230375546225,
          0.40138870307265095,
          0.40199121160489626,
          0.4020941731312787,
          0.40436659619831894,
          0.40414812416226104,
          0.43565891976912263,
          0.4453959343565549,
          0.44868758265536307,
          0.4473943858089334,
          0.4514085883891274,
          0.450277481409286,
          0.45752521206214314,
          0.4709742644144807,
          0.4862662163391206,
          0.4907969042774622,
          0.4931542853179237,
          0.49977305162375574,
          0.5032815876921638,
          0.5103426626572249,
          0.5122608149013659,
          0.5171188485556629,
          0.5187290579091788,
          0.5218405928347827,
          0.5226986668648221,
          0.525291181980309,
          0.5267468761657074,
          0.5299556259537606,
          0.5323859666894405,
          0.5348244272913605,
          0.5430763496020221,
          0.5430338314925635,
          0.5420099530393702,
          0.5414613252140301,
          0.5440015388114792,
          0.554022168118483,
          0.5525672284605769,
          0.5521400051041084,
          0.5497068223579069,
          0.5450064910201056,
          0.54544712901645,
          0.5411903782861864,
          0.5445930367796071,
          0.5375393028196784,
          0.5336212477615552,
          0.5289360208958178,
          0.5232867443693054,
          0.5190964272112499,
          0.513317531354659,
          0.5097466165629029,
          0.5043354135514659,
          0.5015412474511994,
          0.4986160206418905,
          0.49468038052518315,
          0.4961471295206043,
          0.490472651425949,
          0.488969896621231,
          0.48729446087191625,
          0.4873922861679315,
          0.4817209614101258,
          0.47769305933555745,
          0.4732470485472743,
          0.4746930397204972,
          0.4755011234076795,
          0.4777059191517378,
          0.47663847930596726,
          0.47379557397760963,
          0.47275592416349876,
          0.4723639379519535,
          0.4700709492334166
         ]
        },
        {
         "line": {
          "color": "blue",
          "dash": "dash",
          "width": 1
         },
         "name": "lower_KC",
         "type": "scatter",
         "x": [
          "2023-02-12 21:00:00",
          "2023-02-13 21:00:00",
          "2023-02-14 21:00:00",
          "2023-02-15 21:00:00",
          "2023-02-16 21:00:00",
          "2023-02-17 21:00:00",
          "2023-02-18 21:00:00",
          "2023-02-19 21:00:00",
          "2023-02-20 21:00:00",
          "2023-02-21 21:00:00",
          "2023-02-22 21:00:00",
          "2023-02-23 21:00:00",
          "2023-02-24 21:00:00",
          "2023-02-25 21:00:00",
          "2023-02-26 21:00:00",
          "2023-02-27 21:00:00",
          "2023-02-28 21:00:00",
          "2023-03-01 21:00:00",
          "2023-03-02 21:00:00",
          "2023-03-03 21:00:00",
          "2023-03-04 21:00:00",
          "2023-03-05 21:00:00",
          "2023-03-06 21:00:00",
          "2023-03-07 21:00:00",
          "2023-03-08 21:00:00",
          "2023-03-09 21:00:00",
          "2023-03-10 21:00:00",
          "2023-03-11 21:00:00",
          "2023-03-12 21:00:00",
          "2023-03-13 21:00:00",
          "2023-03-14 21:00:00",
          "2023-03-15 21:00:00",
          "2023-03-16 21:00:00",
          "2023-03-17 21:00:00",
          "2023-03-18 21:00:00",
          "2023-03-19 21:00:00",
          "2023-03-20 21:00:00",
          "2023-03-21 21:00:00",
          "2023-03-22 21:00:00",
          "2023-03-23 21:00:00",
          "2023-03-24 21:00:00",
          "2023-03-25 21:00:00",
          "2023-03-26 21:00:00",
          "2023-03-27 21:00:00",
          "2023-03-28 21:00:00",
          "2023-03-29 21:00:00",
          "2023-03-30 21:00:00",
          "2023-03-31 21:00:00",
          "2023-04-01 21:00:00",
          "2023-04-02 21:00:00",
          "2023-04-03 21:00:00",
          "2023-04-04 21:00:00",
          "2023-04-05 21:00:00",
          "2023-04-06 21:00:00",
          "2023-04-07 21:00:00",
          "2023-04-08 21:00:00",
          "2023-04-09 21:00:00",
          "2023-04-10 21:00:00",
          "2023-04-11 21:00:00",
          "2023-04-12 21:00:00",
          "2023-04-13 21:00:00",
          "2023-04-14 21:00:00",
          "2023-04-15 21:00:00",
          "2023-04-16 21:00:00",
          "2023-04-17 21:00:00",
          "2023-04-18 21:00:00",
          "2023-04-19 21:00:00",
          "2023-04-20 21:00:00",
          "2023-04-21 21:00:00",
          "2023-04-22 21:00:00",
          "2023-04-23 21:00:00",
          "2023-04-24 21:00:00",
          "2023-04-25 21:00:00",
          "2023-04-26 21:00:00",
          "2023-04-27 21:00:00",
          "2023-04-28 21:00:00",
          "2023-04-29 21:00:00",
          "2023-04-30 21:00:00",
          "2023-05-01 21:00:00",
          "2023-05-02 21:00:00",
          "2023-05-03 21:00:00",
          "2023-05-04 21:00:00",
          "2023-05-05 21:00:00",
          "2023-05-06 21:00:00",
          "2023-05-07 21:00:00",
          "2023-05-08 21:00:00",
          "2023-05-09 21:00:00",
          "2023-05-10 21:00:00",
          "2023-05-11 21:00:00",
          "2023-05-12 21:00:00",
          "2023-05-13 21:00:00",
          "2023-05-14 21:00:00",
          "2023-05-15 21:00:00",
          "2023-05-16 21:00:00",
          "2023-05-17 21:00:00",
          "2023-05-18 21:00:00",
          "2023-05-19 21:00:00",
          "2023-05-20 21:00:00",
          "2023-05-21 21:00:00",
          "2023-05-22 21:00:00"
         ],
         "y": [
          0.3765913282582284,
          0.3736465413021869,
          0.37049580651997105,
          0.3682020235163399,
          0.36733892833155085,
          0.36973048681672344,
          0.37026403466822827,
          0.36574511927400494,
          0.3655591884969131,
          0.3656079724065653,
          0.3657033410599171,
          0.3634731881399321,
          0.3643653357508535,
          0.3661907292506984,
          0.366186960296026,
          0.36562433115129395,
          0.36586854366924054,
          0.36607789936574225,
          0.36180419039015277,
          0.3626102466828523,
          0.3631106563768791,
          0.3622778097629011,
          0.36029820798782813,
          0.3567330792627685,
          0.35113206485135606,
          0.35063078033292777,
          0.3506920020905772,
          0.34801481989229044,
          0.3458743980936922,
          0.3442699620766573,
          0.34307769624453777,
          0.3450612969273491,
          0.34466878839510384,
          0.3441758268687213,
          0.34263340380168106,
          0.34251187583773907,
          0.31961108023087736,
          0.31428406564344513,
          0.31763241734463693,
          0.3241856141910665,
          0.3278014116108727,
          0.336762518590714,
          0.33939478793785693,
          0.33848573558551925,
          0.34039378366087947,
          0.35208309572253765,
          0.3671157146820764,
          0.3742869483762443,
          0.3853384123078363,
          0.3906073373427752,
          0.4030591850986342,
          0.412281151444337,
          0.42297094209082126,
          0.4337294071652174,
          0.44477133313517786,
          0.455368818019691,
          0.45868312383429266,
          0.46499437404623944,
          0.46865403331055966,
          0.47482557270863973,
          0.4745136503979779,
          0.48164616850743636,
          0.4868200469606298,
          0.4869786747859699,
          0.4833884611885208,
          0.4692478318815171,
          0.46444277153942304,
          0.45881999489589165,
          0.45666317764209313,
          0.45824350897989435,
          0.45362287098354986,
          0.45427962171381364,
          0.446756963220393,
          0.44920069718032146,
          0.45059875223844487,
          0.45255397910418216,
          0.45348325563069447,
          0.45249357278875,
          0.45424246864534096,
          0.4529033834370972,
          0.452154586448534,
          0.4497387525488006,
          0.44641397935810956,
          0.4441696194748169,
          0.43229287047939563,
          0.431737348574051,
          0.42875010337876907,
          0.4276055391280837,
          0.42333771383206853,
          0.42494903858987426,
          0.42540694066444257,
          0.4256129514527257,
          0.42224696027950287,
          0.41960887659232055,
          0.4153940808482623,
          0.4154015206940327,
          0.41807442602239053,
          0.4183840758365013,
          0.41849606204804646,
          0.42097905076658354
         ]
        }
       ],
       "layout": {
        "autosize": false,
        "height": 600,
        "margin": {
         "b": 100,
         "l": 50,
         "pad": 4,
         "r": 50,
         "t": 50
        },
        "paper_bgcolor": "LightSteelBlue",
        "shapes": [
         {
          "line": {
           "color": "green",
           "dash": "dash",
           "width": 1
          },
          "type": "line",
          "x0": "2023-02-17 21:00:00",
          "x1": "2023-02-17 21:00:00",
          "y0": 0.3475,
          "y1": 0.5828
         }
        ],
        "template": {
         "data": {
          "bar": [
           {
            "error_x": {
             "color": "#2a3f5f"
            },
            "error_y": {
             "color": "#2a3f5f"
            },
            "marker": {
             "line": {
              "color": "#E5ECF6",
              "width": 0.5
             },
             "pattern": {
              "fillmode": "overlay",
              "size": 10,
              "solidity": 0.2
             }
            },
            "type": "bar"
           }
          ],
          "barpolar": [
           {
            "marker": {
             "line": {
              "color": "#E5ECF6",
              "width": 0.5
             },
             "pattern": {
              "fillmode": "overlay",
              "size": 10,
              "solidity": 0.2
             }
            },
            "type": "barpolar"
           }
          ],
          "carpet": [
           {
            "aaxis": {
             "endlinecolor": "#2a3f5f",
             "gridcolor": "white",
             "linecolor": "white",
             "minorgridcolor": "white",
             "startlinecolor": "#2a3f5f"
            },
            "baxis": {
             "endlinecolor": "#2a3f5f",
             "gridcolor": "white",
             "linecolor": "white",
             "minorgridcolor": "white",
             "startlinecolor": "#2a3f5f"
            },
            "type": "carpet"
           }
          ],
          "choropleth": [
           {
            "colorbar": {
             "outlinewidth": 0,
             "ticks": ""
            },
            "type": "choropleth"
           }
          ],
          "contour": [
           {
            "colorbar": {
             "outlinewidth": 0,
             "ticks": ""
            },
            "colorscale": [
             [
              0,
              "#0d0887"
             ],
             [
              0.1111111111111111,
              "#46039f"
             ],
             [
              0.2222222222222222,
              "#7201a8"
             ],
             [
              0.3333333333333333,
              "#9c179e"
             ],
             [
              0.4444444444444444,
              "#bd3786"
             ],
             [
              0.5555555555555556,
              "#d8576b"
             ],
             [
              0.6666666666666666,
              "#ed7953"
             ],
             [
              0.7777777777777778,
              "#fb9f3a"
             ],
             [
              0.8888888888888888,
              "#fdca26"
             ],
             [
              1,
              "#f0f921"
             ]
            ],
            "type": "contour"
           }
          ],
          "contourcarpet": [
           {
            "colorbar": {
             "outlinewidth": 0,
             "ticks": ""
            },
            "type": "contourcarpet"
           }
          ],
          "heatmap": [
           {
            "colorbar": {
             "outlinewidth": 0,
             "ticks": ""
            },
            "colorscale": [
             [
              0,
              "#0d0887"
             ],
             [
              0.1111111111111111,
              "#46039f"
             ],
             [
              0.2222222222222222,
              "#7201a8"
             ],
             [
              0.3333333333333333,
              "#9c179e"
             ],
             [
              0.4444444444444444,
              "#bd3786"
             ],
             [
              0.5555555555555556,
              "#d8576b"
             ],
             [
              0.6666666666666666,
              "#ed7953"
             ],
             [
              0.7777777777777778,
              "#fb9f3a"
             ],
             [
              0.8888888888888888,
              "#fdca26"
             ],
             [
              1,
              "#f0f921"
             ]
            ],
            "type": "heatmap"
           }
          ],
          "heatmapgl": [
           {
            "colorbar": {
             "outlinewidth": 0,
             "ticks": ""
            },
            "colorscale": [
             [
              0,
              "#0d0887"
             ],
             [
              0.1111111111111111,
              "#46039f"
             ],
             [
              0.2222222222222222,
              "#7201a8"
             ],
             [
              0.3333333333333333,
              "#9c179e"
             ],
             [
              0.4444444444444444,
              "#bd3786"
             ],
             [
              0.5555555555555556,
              "#d8576b"
             ],
             [
              0.6666666666666666,
              "#ed7953"
             ],
             [
              0.7777777777777778,
              "#fb9f3a"
             ],
             [
              0.8888888888888888,
              "#fdca26"
             ],
             [
              1,
              "#f0f921"
             ]
            ],
            "type": "heatmapgl"
           }
          ],
          "histogram": [
           {
            "marker": {
             "pattern": {
              "fillmode": "overlay",
              "size": 10,
              "solidity": 0.2
             }
            },
            "type": "histogram"
           }
          ],
          "histogram2d": [
           {
            "colorbar": {
             "outlinewidth": 0,
             "ticks": ""
            },
            "colorscale": [
             [
              0,
              "#0d0887"
             ],
             [
              0.1111111111111111,
              "#46039f"
             ],
             [
              0.2222222222222222,
              "#7201a8"
             ],
             [
              0.3333333333333333,
              "#9c179e"
             ],
             [
              0.4444444444444444,
              "#bd3786"
             ],
             [
              0.5555555555555556,
              "#d8576b"
             ],
             [
              0.6666666666666666,
              "#ed7953"
             ],
             [
              0.7777777777777778,
              "#fb9f3a"
             ],
             [
              0.8888888888888888,
              "#fdca26"
             ],
             [
              1,
              "#f0f921"
             ]
            ],
            "type": "histogram2d"
           }
          ],
          "histogram2dcontour": [
           {
            "colorbar": {
             "outlinewidth": 0,
             "ticks": ""
            },
            "colorscale": [
             [
              0,
              "#0d0887"
             ],
             [
              0.1111111111111111,
              "#46039f"
             ],
             [
              0.2222222222222222,
              "#7201a8"
             ],
             [
              0.3333333333333333,
              "#9c179e"
             ],
             [
              0.4444444444444444,
              "#bd3786"
             ],
             [
              0.5555555555555556,
              "#d8576b"
             ],
             [
              0.6666666666666666,
              "#ed7953"
             ],
             [
              0.7777777777777778,
              "#fb9f3a"
             ],
             [
              0.8888888888888888,
              "#fdca26"
             ],
             [
              1,
              "#f0f921"
             ]
            ],
            "type": "histogram2dcontour"
           }
          ],
          "mesh3d": [
           {
            "colorbar": {
             "outlinewidth": 0,
             "ticks": ""
            },
            "type": "mesh3d"
           }
          ],
          "parcoords": [
           {
            "line": {
             "colorbar": {
              "outlinewidth": 0,
              "ticks": ""
             }
            },
            "type": "parcoords"
           }
          ],
          "pie": [
           {
            "automargin": true,
            "type": "pie"
           }
          ],
          "scatter": [
           {
            "fillpattern": {
             "fillmode": "overlay",
             "size": 10,
             "solidity": 0.2
            },
            "type": "scatter"
           }
          ],
          "scatter3d": [
           {
            "line": {
             "colorbar": {
              "outlinewidth": 0,
              "ticks": ""
             }
            },
            "marker": {
             "colorbar": {
              "outlinewidth": 0,
              "ticks": ""
             }
            },
            "type": "scatter3d"
           }
          ],
          "scattercarpet": [
           {
            "marker": {
             "colorbar": {
              "outlinewidth": 0,
              "ticks": ""
             }
            },
            "type": "scattercarpet"
           }
          ],
          "scattergeo": [
           {
            "marker": {
             "colorbar": {
              "outlinewidth": 0,
              "ticks": ""
             }
            },
            "type": "scattergeo"
           }
          ],
          "scattergl": [
           {
            "marker": {
             "colorbar": {
              "outlinewidth": 0,
              "ticks": ""
             }
            },
            "type": "scattergl"
           }
          ],
          "scattermapbox": [
           {
            "marker": {
             "colorbar": {
              "outlinewidth": 0,
              "ticks": ""
             }
            },
            "type": "scattermapbox"
           }
          ],
          "scatterpolar": [
           {
            "marker": {
             "colorbar": {
              "outlinewidth": 0,
              "ticks": ""
             }
            },
            "type": "scatterpolar"
           }
          ],
          "scatterpolargl": [
           {
            "marker": {
             "colorbar": {
              "outlinewidth": 0,
              "ticks": ""
             }
            },
            "type": "scatterpolargl"
           }
          ],
          "scatterternary": [
           {
            "marker": {
             "colorbar": {
              "outlinewidth": 0,
              "ticks": ""
             }
            },
            "type": "scatterternary"
           }
          ],
          "surface": [
           {
            "colorbar": {
             "outlinewidth": 0,
             "ticks": ""
            },
            "colorscale": [
             [
              0,
              "#0d0887"
             ],
             [
              0.1111111111111111,
              "#46039f"
             ],
             [
              0.2222222222222222,
              "#7201a8"
             ],
             [
              0.3333333333333333,
              "#9c179e"
             ],
             [
              0.4444444444444444,
              "#bd3786"
             ],
             [
              0.5555555555555556,
              "#d8576b"
             ],
             [
              0.6666666666666666,
              "#ed7953"
             ],
             [
              0.7777777777777778,
              "#fb9f3a"
             ],
             [
              0.8888888888888888,
              "#fdca26"
             ],
             [
              1,
              "#f0f921"
             ]
            ],
            "type": "surface"
           }
          ],
          "table": [
           {
            "cells": {
             "fill": {
              "color": "#EBF0F8"
             },
             "line": {
              "color": "white"
             }
            },
            "header": {
             "fill": {
              "color": "#C8D4E3"
             },
             "line": {
              "color": "white"
             }
            },
            "type": "table"
           }
          ]
         },
         "layout": {
          "annotationdefaults": {
           "arrowcolor": "#2a3f5f",
           "arrowhead": 0,
           "arrowwidth": 1
          },
          "autotypenumbers": "strict",
          "coloraxis": {
           "colorbar": {
            "outlinewidth": 0,
            "ticks": ""
           }
          },
          "colorscale": {
           "diverging": [
            [
             0,
             "#8e0152"
            ],
            [
             0.1,
             "#c51b7d"
            ],
            [
             0.2,
             "#de77ae"
            ],
            [
             0.3,
             "#f1b6da"
            ],
            [
             0.4,
             "#fde0ef"
            ],
            [
             0.5,
             "#f7f7f7"
            ],
            [
             0.6,
             "#e6f5d0"
            ],
            [
             0.7,
             "#b8e186"
            ],
            [
             0.8,
             "#7fbc41"
            ],
            [
             0.9,
             "#4d9221"
            ],
            [
             1,
             "#276419"
            ]
           ],
           "sequential": [
            [
             0,
             "#0d0887"
            ],
            [
             0.1111111111111111,
             "#46039f"
            ],
            [
             0.2222222222222222,
             "#7201a8"
            ],
            [
             0.3333333333333333,
             "#9c179e"
            ],
            [
             0.4444444444444444,
             "#bd3786"
            ],
            [
             0.5555555555555556,
             "#d8576b"
            ],
            [
             0.6666666666666666,
             "#ed7953"
            ],
            [
             0.7777777777777778,
             "#fb9f3a"
            ],
            [
             0.8888888888888888,
             "#fdca26"
            ],
            [
             1,
             "#f0f921"
            ]
           ],
           "sequentialminus": [
            [
             0,
             "#0d0887"
            ],
            [
             0.1111111111111111,
             "#46039f"
            ],
            [
             0.2222222222222222,
             "#7201a8"
            ],
            [
             0.3333333333333333,
             "#9c179e"
            ],
            [
             0.4444444444444444,
             "#bd3786"
            ],
            [
             0.5555555555555556,
             "#d8576b"
            ],
            [
             0.6666666666666666,
             "#ed7953"
            ],
            [
             0.7777777777777778,
             "#fb9f3a"
            ],
            [
             0.8888888888888888,
             "#fdca26"
            ],
            [
             1,
             "#f0f921"
            ]
           ]
          },
          "colorway": [
           "#636efa",
           "#EF553B",
           "#00cc96",
           "#ab63fa",
           "#FFA15A",
           "#19d3f3",
           "#FF6692",
           "#B6E880",
           "#FF97FF",
           "#FECB52"
          ],
          "font": {
           "color": "#2a3f5f"
          },
          "geo": {
           "bgcolor": "white",
           "lakecolor": "white",
           "landcolor": "#E5ECF6",
           "showlakes": true,
           "showland": true,
           "subunitcolor": "white"
          },
          "hoverlabel": {
           "align": "left"
          },
          "hovermode": "closest",
          "mapbox": {
           "style": "light"
          },
          "paper_bgcolor": "white",
          "plot_bgcolor": "#E5ECF6",
          "polar": {
           "angularaxis": {
            "gridcolor": "white",
            "linecolor": "white",
            "ticks": ""
           },
           "bgcolor": "#E5ECF6",
           "radialaxis": {
            "gridcolor": "white",
            "linecolor": "white",
            "ticks": ""
           }
          },
          "scene": {
           "xaxis": {
            "backgroundcolor": "#E5ECF6",
            "gridcolor": "white",
            "gridwidth": 2,
            "linecolor": "white",
            "showbackground": true,
            "ticks": "",
            "zerolinecolor": "white"
           },
           "yaxis": {
            "backgroundcolor": "#E5ECF6",
            "gridcolor": "white",
            "gridwidth": 2,
            "linecolor": "white",
            "showbackground": true,
            "ticks": "",
            "zerolinecolor": "white"
           },
           "zaxis": {
            "backgroundcolor": "#E5ECF6",
            "gridcolor": "white",
            "gridwidth": 2,
            "linecolor": "white",
            "showbackground": true,
            "ticks": "",
            "zerolinecolor": "white"
           }
          },
          "shapedefaults": {
           "line": {
            "color": "#2a3f5f"
           }
          },
          "ternary": {
           "aaxis": {
            "gridcolor": "white",
            "linecolor": "white",
            "ticks": ""
           },
           "baxis": {
            "gridcolor": "white",
            "linecolor": "white",
            "ticks": ""
           },
           "bgcolor": "#E5ECF6",
           "caxis": {
            "gridcolor": "white",
            "linecolor": "white",
            "ticks": ""
           }
          },
          "title": {
           "x": 0.05
          },
          "xaxis": {
           "automargin": true,
           "gridcolor": "white",
           "linecolor": "white",
           "ticks": "",
           "title": {
            "standoff": 15
           },
           "zerolinecolor": "white",
           "zerolinewidth": 2
          },
          "yaxis": {
           "automargin": true,
           "gridcolor": "white",
           "linecolor": "white",
           "ticks": "",
           "title": {
            "standoff": 15
           },
           "zerolinecolor": "white",
           "zerolinewidth": 2
          }
         }
        },
        "title": {
         "text": "XRP 1d"
        },
        "width": 1500,
        "xaxis": {
         "rangeslider": {
          "visible": false
         },
         "type": "category"
        }
       }
      }
     },
     "metadata": {},
     "output_type": "display_data"
    },
    {
     "data": {
      "application/vnd.plotly.v1+json": {
       "config": {
        "plotlyServerURL": "https://plotly.com"
       },
       "data": [
        {
         "name": "squeeze",
         "type": "bar",
         "x": [
          "2023-02-12 21:00:00",
          "2023-02-13 21:00:00",
          "2023-02-14 21:00:00",
          "2023-02-15 21:00:00",
          "2023-02-16 21:00:00",
          "2023-02-17 21:00:00",
          "2023-02-18 21:00:00",
          "2023-02-19 21:00:00",
          "2023-02-20 21:00:00",
          "2023-02-21 21:00:00",
          "2023-02-22 21:00:00",
          "2023-02-23 21:00:00",
          "2023-02-24 21:00:00",
          "2023-02-25 21:00:00",
          "2023-02-26 21:00:00",
          "2023-02-27 21:00:00",
          "2023-02-28 21:00:00",
          "2023-03-01 21:00:00",
          "2023-03-02 21:00:00",
          "2023-03-03 21:00:00",
          "2023-03-04 21:00:00",
          "2023-03-05 21:00:00",
          "2023-03-06 21:00:00",
          "2023-03-07 21:00:00",
          "2023-03-08 21:00:00",
          "2023-03-09 21:00:00",
          "2023-03-10 21:00:00",
          "2023-03-11 21:00:00",
          "2023-03-12 21:00:00",
          "2023-03-13 21:00:00",
          "2023-03-14 21:00:00",
          "2023-03-15 21:00:00",
          "2023-03-16 21:00:00",
          "2023-03-17 21:00:00",
          "2023-03-18 21:00:00",
          "2023-03-19 21:00:00",
          "2023-03-20 21:00:00",
          "2023-03-21 21:00:00",
          "2023-03-22 21:00:00",
          "2023-03-23 21:00:00",
          "2023-03-24 21:00:00",
          "2023-03-25 21:00:00",
          "2023-03-26 21:00:00",
          "2023-03-27 21:00:00",
          "2023-03-28 21:00:00",
          "2023-03-29 21:00:00",
          "2023-03-30 21:00:00",
          "2023-03-31 21:00:00",
          "2023-04-01 21:00:00",
          "2023-04-02 21:00:00",
          "2023-04-03 21:00:00",
          "2023-04-04 21:00:00",
          "2023-04-05 21:00:00",
          "2023-04-06 21:00:00",
          "2023-04-07 21:00:00",
          "2023-04-08 21:00:00",
          "2023-04-09 21:00:00",
          "2023-04-10 21:00:00",
          "2023-04-11 21:00:00",
          "2023-04-12 21:00:00",
          "2023-04-13 21:00:00",
          "2023-04-14 21:00:00",
          "2023-04-15 21:00:00",
          "2023-04-16 21:00:00",
          "2023-04-17 21:00:00",
          "2023-04-18 21:00:00",
          "2023-04-19 21:00:00",
          "2023-04-20 21:00:00",
          "2023-04-21 21:00:00",
          "2023-04-22 21:00:00",
          "2023-04-23 21:00:00",
          "2023-04-24 21:00:00",
          "2023-04-25 21:00:00",
          "2023-04-26 21:00:00",
          "2023-04-27 21:00:00",
          "2023-04-28 21:00:00",
          "2023-04-29 21:00:00",
          "2023-04-30 21:00:00",
          "2023-05-01 21:00:00",
          "2023-05-02 21:00:00",
          "2023-05-03 21:00:00",
          "2023-05-04 21:00:00",
          "2023-05-05 21:00:00",
          "2023-05-06 21:00:00",
          "2023-05-07 21:00:00",
          "2023-05-08 21:00:00",
          "2023-05-09 21:00:00",
          "2023-05-10 21:00:00",
          "2023-05-11 21:00:00",
          "2023-05-12 21:00:00",
          "2023-05-13 21:00:00",
          "2023-05-14 21:00:00",
          "2023-05-15 21:00:00",
          "2023-05-16 21:00:00",
          "2023-05-17 21:00:00",
          "2023-05-18 21:00:00",
          "2023-05-19 21:00:00",
          "2023-05-20 21:00:00",
          "2023-05-21 21:00:00",
          "2023-05-22 21:00:00"
         ],
         "y": [
          -0.027294214285714317,
          -0.026522142857142893,
          -0.02258975000000003,
          -0.021297357142857156,
          -0.01819817857142859,
          -0.014477857142857155,
          -0.01410617857142858,
          -0.010520678571428573,
          -0.007567178571428572,
          -0.004110678571428567,
          -0.0016703214285714255,
          -0.000558107142857138,
          -0.00030378571428570783,
          -0.0005331785714285629,
          0.0002792500000000156,
          0.00009414285714286902,
          -0.000034821428571417054,
          -0.0015453928571428372,
          -0.0026244642857142612,
          -0.005293857142857123,
          -0.009353428571428554,
          -0.011609749999999985,
          -0.009904714285714263,
          -0.008117678571428552,
          -0.0087330357142857,
          -0.00922789285714285,
          -0.011347214285714287,
          -0.009932250000000005,
          -0.008642714285714288,
          -0.0067732857142857195,
          -0.007850535714285727,
          -0.00832475000000001,
          -0.00593617857142858,
          -0.004761714285714298,
          -0.001456464285714304,
          -0.0008256071428571609,
          0.013611714285714262,
          0.017197321428571395,
          0.02447553571428569,
          0.027158607142857123,
          0.031523178571428556,
          0.03601364285714284,
          0.046138285714285694,
          0.06025782142857143,
          0.07349014285714286,
          0.08235475000000002,
          0.08944928571428573,
          0.08990474999999999,
          0.09058253571428569,
          0.08574489285714287,
          0.07966667857142858,
          0.0730432142857143,
          0.06585575000000002,
          0.058884571428571425,
          0.050525499999999994,
          0.04014707142857141,
          0.03695692857142854,
          0.02875260714285712,
          0.020053357142857116,
          0.010597928571428536,
          0.0035833571428571104,
          -0.003834428571428586,
          -0.008946035714285747,
          -0.013383000000000048,
          -0.009955214285714317,
          -0.013360821428571458,
          -0.017273785714285728,
          -0.02624725000000002,
          -0.02868375000000003,
          -0.03362346428571431,
          -0.03777728571428574,
          -0.03929114285714288,
          -0.041664892857142886,
          -0.04142725000000001,
          -0.03891057142857146,
          -0.03637778571428574,
          -0.03437500000000002,
          -0.03295171428571429,
          -0.03219700000000001,
          -0.030729500000000014,
          -0.02819557142857142,
          -0.024405214285714263,
          -0.02222735714285712,
          -0.02254139285714284,
          -0.021968321428571407,
          -0.02203389285714281,
          -0.022073642857142813,
          -0.02571332142857139,
          -0.02518378571428567,
          -0.02636396428571426,
          -0.027534892857142824,
          -0.027330642857142824,
          -0.024792499999999964,
          -0.02082024999999997,
          -0.013704999999999978,
          -0.005274857142857126,
          0.0025560000000000166,
          0.007319892857142886,
          0.012424500000000012,
          0.017570535714285733
         ]
        }
       ],
       "layout": {
        "autosize": false,
        "height": 300,
        "margin": {
         "b": 1,
         "l": 50,
         "pad": 4,
         "r": 150,
         "t": 10
        },
        "paper_bgcolor": "LightSteelBlue",
        "shapes": [
         {
          "line": {
           "color": "green",
           "dash": "dash",
           "width": 1
          },
          "type": "line",
          "x0": "2023-02-17 21:00:00",
          "x1": "2023-02-17 21:00:00",
          "y0": -0.041664892857142886,
          "y1": 0.09058253571428569
         }
        ],
        "template": {
         "data": {
          "bar": [
           {
            "error_x": {
             "color": "#2a3f5f"
            },
            "error_y": {
             "color": "#2a3f5f"
            },
            "marker": {
             "line": {
              "color": "#E5ECF6",
              "width": 0.5
             },
             "pattern": {
              "fillmode": "overlay",
              "size": 10,
              "solidity": 0.2
             }
            },
            "type": "bar"
           }
          ],
          "barpolar": [
           {
            "marker": {
             "line": {
              "color": "#E5ECF6",
              "width": 0.5
             },
             "pattern": {
              "fillmode": "overlay",
              "size": 10,
              "solidity": 0.2
             }
            },
            "type": "barpolar"
           }
          ],
          "carpet": [
           {
            "aaxis": {
             "endlinecolor": "#2a3f5f",
             "gridcolor": "white",
             "linecolor": "white",
             "minorgridcolor": "white",
             "startlinecolor": "#2a3f5f"
            },
            "baxis": {
             "endlinecolor": "#2a3f5f",
             "gridcolor": "white",
             "linecolor": "white",
             "minorgridcolor": "white",
             "startlinecolor": "#2a3f5f"
            },
            "type": "carpet"
           }
          ],
          "choropleth": [
           {
            "colorbar": {
             "outlinewidth": 0,
             "ticks": ""
            },
            "type": "choropleth"
           }
          ],
          "contour": [
           {
            "colorbar": {
             "outlinewidth": 0,
             "ticks": ""
            },
            "colorscale": [
             [
              0,
              "#0d0887"
             ],
             [
              0.1111111111111111,
              "#46039f"
             ],
             [
              0.2222222222222222,
              "#7201a8"
             ],
             [
              0.3333333333333333,
              "#9c179e"
             ],
             [
              0.4444444444444444,
              "#bd3786"
             ],
             [
              0.5555555555555556,
              "#d8576b"
             ],
             [
              0.6666666666666666,
              "#ed7953"
             ],
             [
              0.7777777777777778,
              "#fb9f3a"
             ],
             [
              0.8888888888888888,
              "#fdca26"
             ],
             [
              1,
              "#f0f921"
             ]
            ],
            "type": "contour"
           }
          ],
          "contourcarpet": [
           {
            "colorbar": {
             "outlinewidth": 0,
             "ticks": ""
            },
            "type": "contourcarpet"
           }
          ],
          "heatmap": [
           {
            "colorbar": {
             "outlinewidth": 0,
             "ticks": ""
            },
            "colorscale": [
             [
              0,
              "#0d0887"
             ],
             [
              0.1111111111111111,
              "#46039f"
             ],
             [
              0.2222222222222222,
              "#7201a8"
             ],
             [
              0.3333333333333333,
              "#9c179e"
             ],
             [
              0.4444444444444444,
              "#bd3786"
             ],
             [
              0.5555555555555556,
              "#d8576b"
             ],
             [
              0.6666666666666666,
              "#ed7953"
             ],
             [
              0.7777777777777778,
              "#fb9f3a"
             ],
             [
              0.8888888888888888,
              "#fdca26"
             ],
             [
              1,
              "#f0f921"
             ]
            ],
            "type": "heatmap"
           }
          ],
          "heatmapgl": [
           {
            "colorbar": {
             "outlinewidth": 0,
             "ticks": ""
            },
            "colorscale": [
             [
              0,
              "#0d0887"
             ],
             [
              0.1111111111111111,
              "#46039f"
             ],
             [
              0.2222222222222222,
              "#7201a8"
             ],
             [
              0.3333333333333333,
              "#9c179e"
             ],
             [
              0.4444444444444444,
              "#bd3786"
             ],
             [
              0.5555555555555556,
              "#d8576b"
             ],
             [
              0.6666666666666666,
              "#ed7953"
             ],
             [
              0.7777777777777778,
              "#fb9f3a"
             ],
             [
              0.8888888888888888,
              "#fdca26"
             ],
             [
              1,
              "#f0f921"
             ]
            ],
            "type": "heatmapgl"
           }
          ],
          "histogram": [
           {
            "marker": {
             "pattern": {
              "fillmode": "overlay",
              "size": 10,
              "solidity": 0.2
             }
            },
            "type": "histogram"
           }
          ],
          "histogram2d": [
           {
            "colorbar": {
             "outlinewidth": 0,
             "ticks": ""
            },
            "colorscale": [
             [
              0,
              "#0d0887"
             ],
             [
              0.1111111111111111,
              "#46039f"
             ],
             [
              0.2222222222222222,
              "#7201a8"
             ],
             [
              0.3333333333333333,
              "#9c179e"
             ],
             [
              0.4444444444444444,
              "#bd3786"
             ],
             [
              0.5555555555555556,
              "#d8576b"
             ],
             [
              0.6666666666666666,
              "#ed7953"
             ],
             [
              0.7777777777777778,
              "#fb9f3a"
             ],
             [
              0.8888888888888888,
              "#fdca26"
             ],
             [
              1,
              "#f0f921"
             ]
            ],
            "type": "histogram2d"
           }
          ],
          "histogram2dcontour": [
           {
            "colorbar": {
             "outlinewidth": 0,
             "ticks": ""
            },
            "colorscale": [
             [
              0,
              "#0d0887"
             ],
             [
              0.1111111111111111,
              "#46039f"
             ],
             [
              0.2222222222222222,
              "#7201a8"
             ],
             [
              0.3333333333333333,
              "#9c179e"
             ],
             [
              0.4444444444444444,
              "#bd3786"
             ],
             [
              0.5555555555555556,
              "#d8576b"
             ],
             [
              0.6666666666666666,
              "#ed7953"
             ],
             [
              0.7777777777777778,
              "#fb9f3a"
             ],
             [
              0.8888888888888888,
              "#fdca26"
             ],
             [
              1,
              "#f0f921"
             ]
            ],
            "type": "histogram2dcontour"
           }
          ],
          "mesh3d": [
           {
            "colorbar": {
             "outlinewidth": 0,
             "ticks": ""
            },
            "type": "mesh3d"
           }
          ],
          "parcoords": [
           {
            "line": {
             "colorbar": {
              "outlinewidth": 0,
              "ticks": ""
             }
            },
            "type": "parcoords"
           }
          ],
          "pie": [
           {
            "automargin": true,
            "type": "pie"
           }
          ],
          "scatter": [
           {
            "fillpattern": {
             "fillmode": "overlay",
             "size": 10,
             "solidity": 0.2
            },
            "type": "scatter"
           }
          ],
          "scatter3d": [
           {
            "line": {
             "colorbar": {
              "outlinewidth": 0,
              "ticks": ""
             }
            },
            "marker": {
             "colorbar": {
              "outlinewidth": 0,
              "ticks": ""
             }
            },
            "type": "scatter3d"
           }
          ],
          "scattercarpet": [
           {
            "marker": {
             "colorbar": {
              "outlinewidth": 0,
              "ticks": ""
             }
            },
            "type": "scattercarpet"
           }
          ],
          "scattergeo": [
           {
            "marker": {
             "colorbar": {
              "outlinewidth": 0,
              "ticks": ""
             }
            },
            "type": "scattergeo"
           }
          ],
          "scattergl": [
           {
            "marker": {
             "colorbar": {
              "outlinewidth": 0,
              "ticks": ""
             }
            },
            "type": "scattergl"
           }
          ],
          "scattermapbox": [
           {
            "marker": {
             "colorbar": {
              "outlinewidth": 0,
              "ticks": ""
             }
            },
            "type": "scattermapbox"
           }
          ],
          "scatterpolar": [
           {
            "marker": {
             "colorbar": {
              "outlinewidth": 0,
              "ticks": ""
             }
            },
            "type": "scatterpolar"
           }
          ],
          "scatterpolargl": [
           {
            "marker": {
             "colorbar": {
              "outlinewidth": 0,
              "ticks": ""
             }
            },
            "type": "scatterpolargl"
           }
          ],
          "scatterternary": [
           {
            "marker": {
             "colorbar": {
              "outlinewidth": 0,
              "ticks": ""
             }
            },
            "type": "scatterternary"
           }
          ],
          "surface": [
           {
            "colorbar": {
             "outlinewidth": 0,
             "ticks": ""
            },
            "colorscale": [
             [
              0,
              "#0d0887"
             ],
             [
              0.1111111111111111,
              "#46039f"
             ],
             [
              0.2222222222222222,
              "#7201a8"
             ],
             [
              0.3333333333333333,
              "#9c179e"
             ],
             [
              0.4444444444444444,
              "#bd3786"
             ],
             [
              0.5555555555555556,
              "#d8576b"
             ],
             [
              0.6666666666666666,
              "#ed7953"
             ],
             [
              0.7777777777777778,
              "#fb9f3a"
             ],
             [
              0.8888888888888888,
              "#fdca26"
             ],
             [
              1,
              "#f0f921"
             ]
            ],
            "type": "surface"
           }
          ],
          "table": [
           {
            "cells": {
             "fill": {
              "color": "#EBF0F8"
             },
             "line": {
              "color": "white"
             }
            },
            "header": {
             "fill": {
              "color": "#C8D4E3"
             },
             "line": {
              "color": "white"
             }
            },
            "type": "table"
           }
          ]
         },
         "layout": {
          "annotationdefaults": {
           "arrowcolor": "#2a3f5f",
           "arrowhead": 0,
           "arrowwidth": 1
          },
          "autotypenumbers": "strict",
          "coloraxis": {
           "colorbar": {
            "outlinewidth": 0,
            "ticks": ""
           }
          },
          "colorscale": {
           "diverging": [
            [
             0,
             "#8e0152"
            ],
            [
             0.1,
             "#c51b7d"
            ],
            [
             0.2,
             "#de77ae"
            ],
            [
             0.3,
             "#f1b6da"
            ],
            [
             0.4,
             "#fde0ef"
            ],
            [
             0.5,
             "#f7f7f7"
            ],
            [
             0.6,
             "#e6f5d0"
            ],
            [
             0.7,
             "#b8e186"
            ],
            [
             0.8,
             "#7fbc41"
            ],
            [
             0.9,
             "#4d9221"
            ],
            [
             1,
             "#276419"
            ]
           ],
           "sequential": [
            [
             0,
             "#0d0887"
            ],
            [
             0.1111111111111111,
             "#46039f"
            ],
            [
             0.2222222222222222,
             "#7201a8"
            ],
            [
             0.3333333333333333,
             "#9c179e"
            ],
            [
             0.4444444444444444,
             "#bd3786"
            ],
            [
             0.5555555555555556,
             "#d8576b"
            ],
            [
             0.6666666666666666,
             "#ed7953"
            ],
            [
             0.7777777777777778,
             "#fb9f3a"
            ],
            [
             0.8888888888888888,
             "#fdca26"
            ],
            [
             1,
             "#f0f921"
            ]
           ],
           "sequentialminus": [
            [
             0,
             "#0d0887"
            ],
            [
             0.1111111111111111,
             "#46039f"
            ],
            [
             0.2222222222222222,
             "#7201a8"
            ],
            [
             0.3333333333333333,
             "#9c179e"
            ],
            [
             0.4444444444444444,
             "#bd3786"
            ],
            [
             0.5555555555555556,
             "#d8576b"
            ],
            [
             0.6666666666666666,
             "#ed7953"
            ],
            [
             0.7777777777777778,
             "#fb9f3a"
            ],
            [
             0.8888888888888888,
             "#fdca26"
            ],
            [
             1,
             "#f0f921"
            ]
           ]
          },
          "colorway": [
           "#636efa",
           "#EF553B",
           "#00cc96",
           "#ab63fa",
           "#FFA15A",
           "#19d3f3",
           "#FF6692",
           "#B6E880",
           "#FF97FF",
           "#FECB52"
          ],
          "font": {
           "color": "#2a3f5f"
          },
          "geo": {
           "bgcolor": "white",
           "lakecolor": "white",
           "landcolor": "#E5ECF6",
           "showlakes": true,
           "showland": true,
           "subunitcolor": "white"
          },
          "hoverlabel": {
           "align": "left"
          },
          "hovermode": "closest",
          "mapbox": {
           "style": "light"
          },
          "paper_bgcolor": "white",
          "plot_bgcolor": "#E5ECF6",
          "polar": {
           "angularaxis": {
            "gridcolor": "white",
            "linecolor": "white",
            "ticks": ""
           },
           "bgcolor": "#E5ECF6",
           "radialaxis": {
            "gridcolor": "white",
            "linecolor": "white",
            "ticks": ""
           }
          },
          "scene": {
           "xaxis": {
            "backgroundcolor": "#E5ECF6",
            "gridcolor": "white",
            "gridwidth": 2,
            "linecolor": "white",
            "showbackground": true,
            "ticks": "",
            "zerolinecolor": "white"
           },
           "yaxis": {
            "backgroundcolor": "#E5ECF6",
            "gridcolor": "white",
            "gridwidth": 2,
            "linecolor": "white",
            "showbackground": true,
            "ticks": "",
            "zerolinecolor": "white"
           },
           "zaxis": {
            "backgroundcolor": "#E5ECF6",
            "gridcolor": "white",
            "gridwidth": 2,
            "linecolor": "white",
            "showbackground": true,
            "ticks": "",
            "zerolinecolor": "white"
           }
          },
          "shapedefaults": {
           "line": {
            "color": "#2a3f5f"
           }
          },
          "ternary": {
           "aaxis": {
            "gridcolor": "white",
            "linecolor": "white",
            "ticks": ""
           },
           "baxis": {
            "gridcolor": "white",
            "linecolor": "white",
            "ticks": ""
           },
           "bgcolor": "#E5ECF6",
           "caxis": {
            "gridcolor": "white",
            "linecolor": "white",
            "ticks": ""
           }
          },
          "title": {
           "x": 0.05
          },
          "xaxis": {
           "automargin": true,
           "gridcolor": "white",
           "linecolor": "white",
           "ticks": "",
           "title": {
            "standoff": 15
           },
           "zerolinecolor": "white",
           "zerolinewidth": 2
          },
          "yaxis": {
           "automargin": true,
           "gridcolor": "white",
           "linecolor": "white",
           "ticks": "",
           "title": {
            "standoff": 15
           },
           "zerolinecolor": "white",
           "zerolinewidth": 2
          }
         }
        },
        "width": 1500
       }
      }
     },
     "metadata": {},
     "output_type": "display_data"
    },
    {
     "data": {
      "application/vnd.plotly.v1+json": {
       "config": {
        "plotlyServerURL": "https://plotly.com"
       },
       "data": [
        {
         "close": [
          0.4609,
          0.4619,
          0.4609,
          0.4613,
          0.4609,
          0.4597,
          0.461,
          0.4614,
          0.4589,
          0.4591,
          0.4568,
          0.4563,
          0.4553,
          0.4556,
          0.4531,
          0.4567,
          0.4585,
          0.4591,
          0.4591,
          0.4601,
          0.4592,
          0.4608,
          0.4605,
          0.4601,
          0.4605,
          0.4612,
          0.461,
          0.4612,
          0.4612,
          0.4612,
          0.4619,
          0.4606,
          0.4616,
          0.4617,
          0.4648,
          0.4648,
          0.4645,
          0.465,
          0.4655,
          0.4658,
          0.4649,
          0.462,
          0.4619,
          0.462,
          0.4604,
          0.4606,
          0.4612,
          0.461,
          0.4605,
          0.4603,
          0.4608,
          0.4604,
          0.4606,
          0.4604,
          0.4597,
          0.4592,
          0.4612,
          0.4608,
          0.4606,
          0.4602,
          0.4599,
          0.4587,
          0.4586,
          0.4596,
          0.4587,
          0.4592,
          0.4609,
          0.4628,
          0.4633,
          0.4639,
          0.4637,
          0.4635,
          0.4641,
          0.4652,
          0.4645,
          0.4646,
          0.4634,
          0.4618,
          0.4606,
          0.4612,
          0.4621,
          0.4615,
          0.4607,
          0.4574,
          0.4587,
          0.459,
          0.4592,
          0.4591,
          0.4596,
          0.4571,
          0.4592,
          0.4564,
          0.4548,
          0.4543,
          0.4545,
          0.454,
          0.4534,
          0.4541,
          0.4538,
          0.456
         ],
         "high": [
          0.4611,
          0.4619,
          0.462,
          0.4625,
          0.4624,
          0.4614,
          0.4624,
          0.4634,
          0.4616,
          0.4595,
          0.4593,
          0.4575,
          0.4573,
          0.4565,
          0.4561,
          0.4568,
          0.4592,
          0.4591,
          0.4597,
          0.4605,
          0.4607,
          0.461,
          0.4619,
          0.461,
          0.4606,
          0.4613,
          0.4619,
          0.4613,
          0.4615,
          0.4635,
          0.4622,
          0.464,
          0.4625,
          0.4625,
          0.4659,
          0.4668,
          0.4659,
          0.4658,
          0.4665,
          0.4667,
          0.4672,
          0.4651,
          0.4637,
          0.4628,
          0.4628,
          0.4612,
          0.4612,
          0.4617,
          0.4613,
          0.4608,
          0.4608,
          0.461,
          0.4608,
          0.4612,
          0.4605,
          0.46,
          0.4613,
          0.4614,
          0.4614,
          0.4608,
          0.4603,
          0.4602,
          0.4598,
          0.4599,
          0.46,
          0.4596,
          0.4611,
          0.4628,
          0.4634,
          0.4649,
          0.4648,
          0.4639,
          0.4649,
          0.4655,
          0.4652,
          0.4652,
          0.4647,
          0.4634,
          0.4618,
          0.4618,
          0.4623,
          0.4626,
          0.4623,
          0.4607,
          0.4589,
          0.4602,
          0.4596,
          0.4592,
          0.461,
          0.4604,
          0.4593,
          0.4595,
          0.4571,
          0.4553,
          0.4553,
          0.4547,
          0.4544,
          0.4543,
          0.4546,
          0.456
         ],
         "low": [
          0.4595,
          0.4606,
          0.46,
          0.4605,
          0.4609,
          0.4593,
          0.459,
          0.4606,
          0.4579,
          0.4579,
          0.4561,
          0.4559,
          0.4552,
          0.4551,
          0.4527,
          0.4521,
          0.4564,
          0.4574,
          0.4582,
          0.4587,
          0.4591,
          0.4592,
          0.4604,
          0.46,
          0.4595,
          0.4596,
          0.4607,
          0.4602,
          0.4599,
          0.4606,
          0.4598,
          0.4604,
          0.4602,
          0.4605,
          0.4612,
          0.4647,
          0.463,
          0.4635,
          0.4639,
          0.4649,
          0.464,
          0.4609,
          0.4619,
          0.4613,
          0.4589,
          0.4595,
          0.4592,
          0.4601,
          0.4597,
          0.46,
          0.4593,
          0.4601,
          0.4597,
          0.46,
          0.4592,
          0.458,
          0.4591,
          0.4599,
          0.4603,
          0.4598,
          0.4593,
          0.4585,
          0.4584,
          0.4586,
          0.4585,
          0.4584,
          0.4589,
          0.4608,
          0.4622,
          0.462,
          0.4625,
          0.4619,
          0.4629,
          0.464,
          0.4637,
          0.4644,
          0.4622,
          0.4605,
          0.4598,
          0.4599,
          0.4609,
          0.4607,
          0.4597,
          0.4548,
          0.4569,
          0.4581,
          0.4582,
          0.458,
          0.4588,
          0.4562,
          0.457,
          0.4562,
          0.4538,
          0.4528,
          0.4531,
          0.4537,
          0.4529,
          0.4534,
          0.4532,
          0.4537
         ],
         "open": [
          0.4603,
          0.4609,
          0.4619,
          0.4609,
          0.4613,
          0.4609,
          0.4597,
          0.461,
          0.4614,
          0.4589,
          0.4591,
          0.4567,
          0.4563,
          0.4553,
          0.4556,
          0.4531,
          0.4566,
          0.4585,
          0.4591,
          0.4592,
          0.4601,
          0.4592,
          0.4608,
          0.4605,
          0.4601,
          0.4606,
          0.4612,
          0.461,
          0.4613,
          0.4612,
          0.4612,
          0.4619,
          0.4606,
          0.4617,
          0.4617,
          0.4648,
          0.4648,
          0.4645,
          0.465,
          0.4655,
          0.4658,
          0.4649,
          0.462,
          0.4619,
          0.4619,
          0.4604,
          0.4606,
          0.4611,
          0.461,
          0.4605,
          0.4603,
          0.4608,
          0.4604,
          0.4606,
          0.4604,
          0.4597,
          0.4592,
          0.4611,
          0.4607,
          0.4606,
          0.4602,
          0.4599,
          0.4587,
          0.4586,
          0.4596,
          0.4587,
          0.4591,
          0.4609,
          0.4628,
          0.4633,
          0.4639,
          0.4637,
          0.4635,
          0.4641,
          0.4652,
          0.4645,
          0.4646,
          0.4634,
          0.4618,
          0.4606,
          0.4612,
          0.4621,
          0.4615,
          0.4607,
          0.4574,
          0.4588,
          0.459,
          0.4592,
          0.4591,
          0.4596,
          0.4571,
          0.4591,
          0.4564,
          0.4548,
          0.4543,
          0.4545,
          0.454,
          0.4534,
          0.4541,
          0.4538
         ],
         "type": "candlestick",
         "x": [
          "2023-05-22 07:00:00",
          "2023-05-22 07:30:00",
          "2023-05-22 08:00:00",
          "2023-05-22 08:30:00",
          "2023-05-22 09:00:00",
          "2023-05-22 09:30:00",
          "2023-05-22 10:00:00",
          "2023-05-22 10:30:00",
          "2023-05-22 11:00:00",
          "2023-05-22 11:30:00",
          "2023-05-22 12:00:00",
          "2023-05-22 12:30:00",
          "2023-05-22 13:00:00",
          "2023-05-22 13:30:00",
          "2023-05-22 14:00:00",
          "2023-05-22 14:30:00",
          "2023-05-22 15:00:00",
          "2023-05-22 15:30:00",
          "2023-05-22 16:00:00",
          "2023-05-22 16:30:00",
          "2023-05-22 17:00:00",
          "2023-05-22 17:30:00",
          "2023-05-22 18:00:00",
          "2023-05-22 18:30:00",
          "2023-05-22 19:00:00",
          "2023-05-22 19:30:00",
          "2023-05-22 20:00:00",
          "2023-05-22 20:30:00",
          "2023-05-22 21:00:00",
          "2023-05-22 21:30:00",
          "2023-05-22 22:00:00",
          "2023-05-22 22:30:00",
          "2023-05-22 23:00:00",
          "2023-05-22 23:30:00",
          "2023-05-23 00:00:00",
          "2023-05-23 00:30:00",
          "2023-05-23 01:00:00",
          "2023-05-23 01:30:00",
          "2023-05-23 02:00:00",
          "2023-05-23 02:30:00",
          "2023-05-23 03:00:00",
          "2023-05-23 03:30:00",
          "2023-05-23 04:00:00",
          "2023-05-23 04:30:00",
          "2023-05-23 05:00:00",
          "2023-05-23 05:30:00",
          "2023-05-23 06:00:00",
          "2023-05-23 06:30:00",
          "2023-05-23 07:00:00",
          "2023-05-23 07:30:00",
          "2023-05-23 08:00:00",
          "2023-05-23 08:30:00",
          "2023-05-23 09:00:00",
          "2023-05-23 09:30:00",
          "2023-05-23 10:00:00",
          "2023-05-23 10:30:00",
          "2023-05-23 11:00:00",
          "2023-05-23 11:30:00",
          "2023-05-23 12:00:00",
          "2023-05-23 12:30:00",
          "2023-05-23 13:00:00",
          "2023-05-23 13:30:00",
          "2023-05-23 14:00:00",
          "2023-05-23 14:30:00",
          "2023-05-23 15:00:00",
          "2023-05-23 15:30:00",
          "2023-05-23 16:00:00",
          "2023-05-23 16:30:00",
          "2023-05-23 17:00:00",
          "2023-05-23 17:30:00",
          "2023-05-23 18:00:00",
          "2023-05-23 18:30:00",
          "2023-05-23 19:00:00",
          "2023-05-23 19:30:00",
          "2023-05-23 20:00:00",
          "2023-05-23 20:30:00",
          "2023-05-23 21:00:00",
          "2023-05-23 21:30:00",
          "2023-05-23 22:00:00",
          "2023-05-23 22:30:00",
          "2023-05-23 23:00:00",
          "2023-05-23 23:30:00",
          "2023-05-24 00:00:00",
          "2023-05-24 00:30:00",
          "2023-05-24 01:00:00",
          "2023-05-24 01:30:00",
          "2023-05-24 02:00:00",
          "2023-05-24 02:30:00",
          "2023-05-24 03:00:00",
          "2023-05-24 03:30:00",
          "2023-05-24 04:00:00",
          "2023-05-24 04:30:00",
          "2023-05-24 05:00:00",
          "2023-05-24 05:30:00",
          "2023-05-24 06:00:00",
          "2023-05-24 06:30:00",
          "2023-05-24 07:00:00",
          "2023-05-24 07:30:00",
          "2023-05-24 08:00:00",
          "2023-05-24 08:30:00"
         ]
        },
        {
         "line": {
          "color": "red",
          "width": 1
         },
         "name": "upper_band",
         "type": "scatter",
         "x": [
          "2023-05-22 07:00:00",
          "2023-05-22 07:30:00",
          "2023-05-22 08:00:00",
          "2023-05-22 08:30:00",
          "2023-05-22 09:00:00",
          "2023-05-22 09:30:00",
          "2023-05-22 10:00:00",
          "2023-05-22 10:30:00",
          "2023-05-22 11:00:00",
          "2023-05-22 11:30:00",
          "2023-05-22 12:00:00",
          "2023-05-22 12:30:00",
          "2023-05-22 13:00:00",
          "2023-05-22 13:30:00",
          "2023-05-22 14:00:00",
          "2023-05-22 14:30:00",
          "2023-05-22 15:00:00",
          "2023-05-22 15:30:00",
          "2023-05-22 16:00:00",
          "2023-05-22 16:30:00",
          "2023-05-22 17:00:00",
          "2023-05-22 17:30:00",
          "2023-05-22 18:00:00",
          "2023-05-22 18:30:00",
          "2023-05-22 19:00:00",
          "2023-05-22 19:30:00",
          "2023-05-22 20:00:00",
          "2023-05-22 20:30:00",
          "2023-05-22 21:00:00",
          "2023-05-22 21:30:00",
          "2023-05-22 22:00:00",
          "2023-05-22 22:30:00",
          "2023-05-22 23:00:00",
          "2023-05-22 23:30:00",
          "2023-05-23 00:00:00",
          "2023-05-23 00:30:00",
          "2023-05-23 01:00:00",
          "2023-05-23 01:30:00",
          "2023-05-23 02:00:00",
          "2023-05-23 02:30:00",
          "2023-05-23 03:00:00",
          "2023-05-23 03:30:00",
          "2023-05-23 04:00:00",
          "2023-05-23 04:30:00",
          "2023-05-23 05:00:00",
          "2023-05-23 05:30:00",
          "2023-05-23 06:00:00",
          "2023-05-23 06:30:00",
          "2023-05-23 07:00:00",
          "2023-05-23 07:30:00",
          "2023-05-23 08:00:00",
          "2023-05-23 08:30:00",
          "2023-05-23 09:00:00",
          "2023-05-23 09:30:00",
          "2023-05-23 10:00:00",
          "2023-05-23 10:30:00",
          "2023-05-23 11:00:00",
          "2023-05-23 11:30:00",
          "2023-05-23 12:00:00",
          "2023-05-23 12:30:00",
          "2023-05-23 13:00:00",
          "2023-05-23 13:30:00",
          "2023-05-23 14:00:00",
          "2023-05-23 14:30:00",
          "2023-05-23 15:00:00",
          "2023-05-23 15:30:00",
          "2023-05-23 16:00:00",
          "2023-05-23 16:30:00",
          "2023-05-23 17:00:00",
          "2023-05-23 17:30:00",
          "2023-05-23 18:00:00",
          "2023-05-23 18:30:00",
          "2023-05-23 19:00:00",
          "2023-05-23 19:30:00",
          "2023-05-23 20:00:00",
          "2023-05-23 20:30:00",
          "2023-05-23 21:00:00",
          "2023-05-23 21:30:00",
          "2023-05-23 22:00:00",
          "2023-05-23 22:30:00",
          "2023-05-23 23:00:00",
          "2023-05-23 23:30:00",
          "2023-05-24 00:00:00",
          "2023-05-24 00:30:00",
          "2023-05-24 01:00:00",
          "2023-05-24 01:30:00",
          "2023-05-24 02:00:00",
          "2023-05-24 02:30:00",
          "2023-05-24 03:00:00",
          "2023-05-24 03:30:00",
          "2023-05-24 04:00:00",
          "2023-05-24 04:30:00",
          "2023-05-24 05:00:00",
          "2023-05-24 05:30:00",
          "2023-05-24 06:00:00",
          "2023-05-24 06:30:00",
          "2023-05-24 07:00:00",
          "2023-05-24 07:30:00",
          "2023-05-24 08:00:00",
          "2023-05-24 08:30:00"
         ],
         "y": [
          0.4650867337354075,
          0.46513366330219225,
          0.46487512420818083,
          0.46441865158038276,
          0.46440837739152135,
          0.46436389233526104,
          0.46440332795698486,
          0.46399045151191337,
          0.46377166621742927,
          0.4636550643217591,
          0.4639474695120568,
          0.4638551616195146,
          0.4632417516996496,
          0.46327805867766675,
          0.46383214501575626,
          0.46370760889286716,
          0.46368011209462184,
          0.46368011209462184,
          0.4636092347394513,
          0.46358777258809086,
          0.46341167976188513,
          0.46323088097179266,
          0.4631751526056271,
          0.46300404141992185,
          0.46294564002185534,
          0.4631444084430858,
          0.4631444084430858,
          0.46311077153812763,
          0.46336177525582306,
          0.46358663453591104,
          0.46391627203572766,
          0.46398761779602743,
          0.4640075970374438,
          0.46397312923943224,
          0.46370372795275566,
          0.46410744349671706,
          0.4645543787293965,
          0.4650733506779761,
          0.4656015412365397,
          0.4661627300308274,
          0.4663766991249011,
          0.4663709172039708,
          0.46634311542362505,
          0.4662768001052103,
          0.4662840309049451,
          0.46631135844492183,
          0.46630464186517556,
          0.4663113584449218,
          0.46634278601310125,
          0.4663843187139305,
          0.466396012689033,
          0.4664063645584154,
          0.466425125311315,
          0.46644730303019,
          0.46619042635806324,
          0.4659035501102967,
          0.4655564379578215,
          0.4650463072930238,
          0.464298034219725,
          0.4632138374228968,
          0.46210383755236273,
          0.46205179633110754,
          0.46196555890919716,
          0.46168727407881377,
          0.4617456190021412,
          0.4617129115101541,
          0.46166159011646507,
          0.4621140558950663,
          0.46268537653937497,
          0.4633356817369281,
          0.46380722449789696,
          0.4641972068902968,
          0.4646640274635489,
          0.4653271004338782,
          0.4657465263812463,
          0.4660995454310639,
          0.46626371754829554,
          0.4662896275238439,
          0.4662896275238439,
          0.4662857970702485,
          0.4662976629133203,
          0.4661686905592719,
          0.46599556296019734,
          0.4663001055475097,
          0.46630010554750967,
          0.4663194340933827,
          0.4663983867969552,
          0.466383602887813,
          0.4662528499865758,
          0.4662073655411133,
          0.46594283146238996,
          0.4658733714346492,
          0.4657904261457058,
          0.465356570378365,
          0.46486014285531985,
          0.46421346605715674,
          0.4637425674599038,
          0.4633819576483832,
          0.4631574242586689,
          0.46266735188824815
         ]
        },
        {
         "line": {
          "color": "red",
          "width": 1
         },
         "name": "lower_band",
         "type": "scatter",
         "x": [
          "2023-05-22 07:00:00",
          "2023-05-22 07:30:00",
          "2023-05-22 08:00:00",
          "2023-05-22 08:30:00",
          "2023-05-22 09:00:00",
          "2023-05-22 09:30:00",
          "2023-05-22 10:00:00",
          "2023-05-22 10:30:00",
          "2023-05-22 11:00:00",
          "2023-05-22 11:30:00",
          "2023-05-22 12:00:00",
          "2023-05-22 12:30:00",
          "2023-05-22 13:00:00",
          "2023-05-22 13:30:00",
          "2023-05-22 14:00:00",
          "2023-05-22 14:30:00",
          "2023-05-22 15:00:00",
          "2023-05-22 15:30:00",
          "2023-05-22 16:00:00",
          "2023-05-22 16:30:00",
          "2023-05-22 17:00:00",
          "2023-05-22 17:30:00",
          "2023-05-22 18:00:00",
          "2023-05-22 18:30:00",
          "2023-05-22 19:00:00",
          "2023-05-22 19:30:00",
          "2023-05-22 20:00:00",
          "2023-05-22 20:30:00",
          "2023-05-22 21:00:00",
          "2023-05-22 21:30:00",
          "2023-05-22 22:00:00",
          "2023-05-22 22:30:00",
          "2023-05-22 23:00:00",
          "2023-05-22 23:30:00",
          "2023-05-23 00:00:00",
          "2023-05-23 00:30:00",
          "2023-05-23 01:00:00",
          "2023-05-23 01:30:00",
          "2023-05-23 02:00:00",
          "2023-05-23 02:30:00",
          "2023-05-23 03:00:00",
          "2023-05-23 03:30:00",
          "2023-05-23 04:00:00",
          "2023-05-23 04:30:00",
          "2023-05-23 05:00:00",
          "2023-05-23 05:30:00",
          "2023-05-23 06:00:00",
          "2023-05-23 06:30:00",
          "2023-05-23 07:00:00",
          "2023-05-23 07:30:00",
          "2023-05-23 08:00:00",
          "2023-05-23 08:30:00",
          "2023-05-23 09:00:00",
          "2023-05-23 09:30:00",
          "2023-05-23 10:00:00",
          "2023-05-23 10:30:00",
          "2023-05-23 11:00:00",
          "2023-05-23 11:30:00",
          "2023-05-23 12:00:00",
          "2023-05-23 12:30:00",
          "2023-05-23 13:00:00",
          "2023-05-23 13:30:00",
          "2023-05-23 14:00:00",
          "2023-05-23 14:30:00",
          "2023-05-23 15:00:00",
          "2023-05-23 15:30:00",
          "2023-05-23 16:00:00",
          "2023-05-23 16:30:00",
          "2023-05-23 17:00:00",
          "2023-05-23 17:30:00",
          "2023-05-23 18:00:00",
          "2023-05-23 18:30:00",
          "2023-05-23 19:00:00",
          "2023-05-23 19:30:00",
          "2023-05-23 20:00:00",
          "2023-05-23 20:30:00",
          "2023-05-23 21:00:00",
          "2023-05-23 21:30:00",
          "2023-05-23 22:00:00",
          "2023-05-23 22:30:00",
          "2023-05-23 23:00:00",
          "2023-05-23 23:30:00",
          "2023-05-24 00:00:00",
          "2023-05-24 00:30:00",
          "2023-05-24 01:00:00",
          "2023-05-24 01:30:00",
          "2023-05-24 02:00:00",
          "2023-05-24 02:30:00",
          "2023-05-24 03:00:00",
          "2023-05-24 03:30:00",
          "2023-05-24 04:00:00",
          "2023-05-24 04:30:00",
          "2023-05-24 05:00:00",
          "2023-05-24 05:30:00",
          "2023-05-24 06:00:00",
          "2023-05-24 06:30:00",
          "2023-05-24 07:00:00",
          "2023-05-24 07:30:00",
          "2023-05-24 08:00:00",
          "2023-05-24 08:30:00"
         ],
         "y": [
          0.45183326626459247,
          0.4527163366978077,
          0.4538048757918191,
          0.45513134841961733,
          0.45558162260847873,
          0.4558561076647391,
          0.4561366720430153,
          0.4571795484880867,
          0.4575883337825707,
          0.45782493567824073,
          0.45718253048794333,
          0.4565848383804853,
          0.45621824830035057,
          0.4555919413223331,
          0.4543778549842437,
          0.4541223911071329,
          0.45408988790537813,
          0.45408988790537813,
          0.45407076526054874,
          0.45407222741190917,
          0.4540783202381148,
          0.4541491190282073,
          0.45416484739437285,
          0.4542159585800782,
          0.45423435997814454,
          0.4541855915569142,
          0.4541855915569142,
          0.45419922846187233,
          0.45417822474417696,
          0.45416336546408903,
          0.4543437279642722,
          0.4547023822039727,
          0.4553124029625561,
          0.4559568707605679,
          0.45739627204724437,
          0.45780255650328305,
          0.45795562127060346,
          0.4580266493220239,
          0.45813845876346043,
          0.45814726996917254,
          0.45850330087509905,
          0.45862908279602926,
          0.458796884576375,
          0.4590531998947897,
          0.45903596909505484,
          0.45894864155507825,
          0.45897535813482454,
          0.4589486415550782,
          0.4588472139868988,
          0.45871568128606965,
          0.45859398731096696,
          0.45856363544158446,
          0.45844487468868494,
          0.4582926969698099,
          0.45803957364193676,
          0.45776644988970316,
          0.45778356204217846,
          0.45787369270697625,
          0.458131965780275,
          0.4586561625771032,
          0.4592661624476372,
          0.4589882036688924,
          0.45874444109080287,
          0.45878272592118635,
          0.4585543809978589,
          0.4584470884898458,
          0.45846840988353493,
          0.45819594410493375,
          0.45790462346062505,
          0.45761431826307175,
          0.4574327755021031,
          0.4573527931097033,
          0.45723597253645126,
          0.4570528995661219,
          0.4571134736187537,
          0.4573004545689361,
          0.45735628245170445,
          0.4574303724761561,
          0.4574303724761561,
          0.4575342029297514,
          0.4577423370866798,
          0.4581513094407281,
          0.45853443703980273,
          0.45800989445249024,
          0.4580098944524902,
          0.45797056590661733,
          0.4577216132030447,
          0.4573663971121871,
          0.4571271500134241,
          0.45649263445888677,
          0.45630716853761005,
          0.45566662856535073,
          0.4548195738542941,
          0.45416342962163503,
          0.45365985714467993,
          0.4532465339428432,
          0.4527174325400963,
          0.4523080423516168,
          0.4518525757413311,
          0.4518226481117519
         ]
        },
        {
         "line": {
          "color": "blue",
          "dash": "dash",
          "width": 1
         },
         "name": "upper_KC",
         "type": "scatter",
         "x": [
          "2023-05-22 07:00:00",
          "2023-05-22 07:30:00",
          "2023-05-22 08:00:00",
          "2023-05-22 08:30:00",
          "2023-05-22 09:00:00",
          "2023-05-22 09:30:00",
          "2023-05-22 10:00:00",
          "2023-05-22 10:30:00",
          "2023-05-22 11:00:00",
          "2023-05-22 11:30:00",
          "2023-05-22 12:00:00",
          "2023-05-22 12:30:00",
          "2023-05-22 13:00:00",
          "2023-05-22 13:30:00",
          "2023-05-22 14:00:00",
          "2023-05-22 14:30:00",
          "2023-05-22 15:00:00",
          "2023-05-22 15:30:00",
          "2023-05-22 16:00:00",
          "2023-05-22 16:30:00",
          "2023-05-22 17:00:00",
          "2023-05-22 17:30:00",
          "2023-05-22 18:00:00",
          "2023-05-22 18:30:00",
          "2023-05-22 19:00:00",
          "2023-05-22 19:30:00",
          "2023-05-22 20:00:00",
          "2023-05-22 20:30:00",
          "2023-05-22 21:00:00",
          "2023-05-22 21:30:00",
          "2023-05-22 22:00:00",
          "2023-05-22 22:30:00",
          "2023-05-22 23:00:00",
          "2023-05-22 23:30:00",
          "2023-05-23 00:00:00",
          "2023-05-23 00:30:00",
          "2023-05-23 01:00:00",
          "2023-05-23 01:30:00",
          "2023-05-23 02:00:00",
          "2023-05-23 02:30:00",
          "2023-05-23 03:00:00",
          "2023-05-23 03:30:00",
          "2023-05-23 04:00:00",
          "2023-05-23 04:30:00",
          "2023-05-23 05:00:00",
          "2023-05-23 05:30:00",
          "2023-05-23 06:00:00",
          "2023-05-23 06:30:00",
          "2023-05-23 07:00:00",
          "2023-05-23 07:30:00",
          "2023-05-23 08:00:00",
          "2023-05-23 08:30:00",
          "2023-05-23 09:00:00",
          "2023-05-23 09:30:00",
          "2023-05-23 10:00:00",
          "2023-05-23 10:30:00",
          "2023-05-23 11:00:00",
          "2023-05-23 11:30:00",
          "2023-05-23 12:00:00",
          "2023-05-23 12:30:00",
          "2023-05-23 13:00:00",
          "2023-05-23 13:30:00",
          "2023-05-23 14:00:00",
          "2023-05-23 14:30:00",
          "2023-05-23 15:00:00",
          "2023-05-23 15:30:00",
          "2023-05-23 16:00:00",
          "2023-05-23 16:30:00",
          "2023-05-23 17:00:00",
          "2023-05-23 17:30:00",
          "2023-05-23 18:00:00",
          "2023-05-23 18:30:00",
          "2023-05-23 19:00:00",
          "2023-05-23 19:30:00",
          "2023-05-23 20:00:00",
          "2023-05-23 20:30:00",
          "2023-05-23 21:00:00",
          "2023-05-23 21:30:00",
          "2023-05-23 22:00:00",
          "2023-05-23 22:30:00",
          "2023-05-23 23:00:00",
          "2023-05-23 23:30:00",
          "2023-05-24 00:00:00",
          "2023-05-24 00:30:00",
          "2023-05-24 01:00:00",
          "2023-05-24 01:30:00",
          "2023-05-24 02:00:00",
          "2023-05-24 02:30:00",
          "2023-05-24 03:00:00",
          "2023-05-24 03:30:00",
          "2023-05-24 04:00:00",
          "2023-05-24 04:30:00",
          "2023-05-24 05:00:00",
          "2023-05-24 05:30:00",
          "2023-05-24 06:00:00",
          "2023-05-24 06:30:00",
          "2023-05-24 07:00:00",
          "2023-05-24 07:30:00",
          "2023-05-24 08:00:00",
          "2023-05-24 08:30:00"
         ],
         "y": [
          0.4620699555087296,
          0.4622331454162333,
          0.4625921189769181,
          0.4629812791629331,
          0.463027410224218,
          0.4631637901834511,
          0.46369582833191453,
          0.46415158681702096,
          0.4646072073957444,
          0.4643895333237908,
          0.4644237090831017,
          0.46381348924981036,
          0.46324285484075406,
          0.462690972142435,
          0.4626962499347196,
          0.4631351135829524,
          0.46310145656787016,
          0.46279846446462103,
          0.4624510163801445,
          0.4622753770383001,
          0.4620003084858818,
          0.4618443433066306,
          0.46165991725087957,
          0.46132902320526514,
          0.4611146553497623,
          0.46119426346798736,
          0.46106167011017146,
          0.4609159119083221,
          0.4610562006522636,
          0.4615364368973066,
          0.46196208473415984,
          0.4626439784188582,
          0.4629864368881566,
          0.4632320847266737,
          0.46450488750364205,
          0.46476354432116174,
          0.4651619908082231,
          0.4653739015703644,
          0.46570773764848006,
          0.46578587625784723,
          0.466283444210966,
          0.4667900907180631,
          0.4665709833147789,
          0.4663476227120918,
          0.46673669130989326,
          0.4664291110717309,
          0.466293818149598,
          0.46605585121330745,
          0.46583433281088793,
          0.4654185450270902,
          0.46525108229489187,
          0.46498543096854783,
          0.46478080715608466,
          0.46461656949134195,
          0.4643076477656434,
          0.46417443908098094,
          0.4641840865208026,
          0.4639260707897476,
          0.46353269428252075,
          0.4631040225947897,
          0.4627323821230097,
          0.4626587671915534,
          0.462486718611271,
          0.46233367886376725,
          0.46227619179762774,
          0.46214688419805894,
          0.46235608707113923,
          0.46257498033093214,
          0.46260225663439897,
          0.4631536645190536,
          0.46343890733377124,
          0.46362683327308557,
          0.4638287726779792,
          0.463954450372892,
          0.4641009139414571,
          0.4641034750430103,
          0.464458297762463,
          0.46481769816928786,
          0.4648253894112355,
          0.46485440951828355,
          0.4648108805149594,
          0.46496162951223946,
          0.4652663332372869,
          0.4662197271941438,
          0.4660261404315721,
          0.4658850239894682,
          0.46550183780956483,
          0.46501832184418945,
          0.4648618087816095,
          0.46509057082131694,
          0.4648127397628956,
          0.4646872416241873,
          0.46441001587433506,
          0.4638004675335469,
          0.4631658370729019,
          0.4621984121505562,
          0.4614768826686369,
          0.46074699491070287,
          0.46026117765421143,
          0.4601273271716276
         ]
        },
        {
         "line": {
          "color": "blue",
          "dash": "dash",
          "width": 1
         },
         "name": "lower_KC",
         "type": "scatter",
         "x": [
          "2023-05-22 07:00:00",
          "2023-05-22 07:30:00",
          "2023-05-22 08:00:00",
          "2023-05-22 08:30:00",
          "2023-05-22 09:00:00",
          "2023-05-22 09:30:00",
          "2023-05-22 10:00:00",
          "2023-05-22 10:30:00",
          "2023-05-22 11:00:00",
          "2023-05-22 11:30:00",
          "2023-05-22 12:00:00",
          "2023-05-22 12:30:00",
          "2023-05-22 13:00:00",
          "2023-05-22 13:30:00",
          "2023-05-22 14:00:00",
          "2023-05-22 14:30:00",
          "2023-05-22 15:00:00",
          "2023-05-22 15:30:00",
          "2023-05-22 16:00:00",
          "2023-05-22 16:30:00",
          "2023-05-22 17:00:00",
          "2023-05-22 17:30:00",
          "2023-05-22 18:00:00",
          "2023-05-22 18:30:00",
          "2023-05-22 19:00:00",
          "2023-05-22 19:30:00",
          "2023-05-22 20:00:00",
          "2023-05-22 20:30:00",
          "2023-05-22 21:00:00",
          "2023-05-22 21:30:00",
          "2023-05-22 22:00:00",
          "2023-05-22 22:30:00",
          "2023-05-22 23:00:00",
          "2023-05-22 23:30:00",
          "2023-05-23 00:00:00",
          "2023-05-23 00:30:00",
          "2023-05-23 01:00:00",
          "2023-05-23 01:30:00",
          "2023-05-23 02:00:00",
          "2023-05-23 02:30:00",
          "2023-05-23 03:00:00",
          "2023-05-23 03:30:00",
          "2023-05-23 04:00:00",
          "2023-05-23 04:30:00",
          "2023-05-23 05:00:00",
          "2023-05-23 05:30:00",
          "2023-05-23 06:00:00",
          "2023-05-23 06:30:00",
          "2023-05-23 07:00:00",
          "2023-05-23 07:30:00",
          "2023-05-23 08:00:00",
          "2023-05-23 08:30:00",
          "2023-05-23 09:00:00",
          "2023-05-23 09:30:00",
          "2023-05-23 10:00:00",
          "2023-05-23 10:30:00",
          "2023-05-23 11:00:00",
          "2023-05-23 11:30:00",
          "2023-05-23 12:00:00",
          "2023-05-23 12:30:00",
          "2023-05-23 13:00:00",
          "2023-05-23 13:30:00",
          "2023-05-23 14:00:00",
          "2023-05-23 14:30:00",
          "2023-05-23 15:00:00",
          "2023-05-23 15:30:00",
          "2023-05-23 16:00:00",
          "2023-05-23 16:30:00",
          "2023-05-23 17:00:00",
          "2023-05-23 17:30:00",
          "2023-05-23 18:00:00",
          "2023-05-23 18:30:00",
          "2023-05-23 19:00:00",
          "2023-05-23 19:30:00",
          "2023-05-23 20:00:00",
          "2023-05-23 20:30:00",
          "2023-05-23 21:00:00",
          "2023-05-23 21:30:00",
          "2023-05-23 22:00:00",
          "2023-05-23 22:30:00",
          "2023-05-23 23:00:00",
          "2023-05-23 23:30:00",
          "2023-05-24 00:00:00",
          "2023-05-24 00:30:00",
          "2023-05-24 01:00:00",
          "2023-05-24 01:30:00",
          "2023-05-24 02:00:00",
          "2023-05-24 02:30:00",
          "2023-05-24 03:00:00",
          "2023-05-24 03:30:00",
          "2023-05-24 04:00:00",
          "2023-05-24 04:30:00",
          "2023-05-24 05:00:00",
          "2023-05-24 05:30:00",
          "2023-05-24 06:00:00",
          "2023-05-24 06:30:00",
          "2023-05-24 07:00:00",
          "2023-05-24 07:30:00",
          "2023-05-24 08:00:00",
          "2023-05-24 08:30:00"
         ],
         "y": [
          0.45485004449127037,
          0.45561685458376666,
          0.45608788102308184,
          0.456568720837067,
          0.4569625897757821,
          0.45705620981654904,
          0.4568441716680856,
          0.4570184131829791,
          0.45675279260425555,
          0.45709046667620906,
          0.4567062909168984,
          0.45662651075018956,
          0.4562171451592461,
          0.45617902785756487,
          0.4555137500652804,
          0.45469488641704764,
          0.4546685434321298,
          0.45497153553537895,
          0.45522898361985553,
          0.45538462296169996,
          0.4554896915141181,
          0.4555356566933694,
          0.45568008274912036,
          0.4558909767947349,
          0.45606534465023757,
          0.4561357365320126,
          0.4562683298898285,
          0.45639408809167786,
          0.4564837993477364,
          0.45621356310269345,
          0.45629791526584,
          0.45604602158114194,
          0.4563335631118433,
          0.4566979152733264,
          0.456595112496358,
          0.4571464556788384,
          0.4573480091917768,
          0.45772609842963563,
          0.45803226235152006,
          0.45852412374215273,
          0.45859655578903413,
          0.45820990928193694,
          0.45856901668522115,
          0.4589823772879082,
          0.45858330869010666,
          0.4588308889282692,
          0.4589861818504021,
          0.4592041487866925,
          0.45935566718911214,
          0.45968145497290996,
          0.4597389177051081,
          0.459984569031452,
          0.4600891928439153,
          0.46012343050865795,
          0.45992235223435657,
          0.45949556091901894,
          0.4591559134791973,
          0.45899392921025245,
          0.4588973057174792,
          0.45876597740521025,
          0.4586376178769902,
          0.45838123280844656,
          0.45822328138872903,
          0.45813632113623287,
          0.4580238082023724,
          0.45801311580194093,
          0.45777391292886077,
          0.45773501966906793,
          0.45798774336560105,
          0.4577963354809462,
          0.4578010926662288,
          0.4579231667269145,
          0.458071227322021,
          0.4584255496271081,
          0.45875908605854293,
          0.4592965249569897,
          0.459161702237537,
          0.4589023018307121,
          0.45889461058876446,
          0.4589655904817163,
          0.4592291194850407,
          0.45935837048776057,
          0.4592636667627132,
          0.4580902728058562,
          0.45828385956842776,
          0.4584049760105319,
          0.4586181621904351,
          0.4587316781558106,
          0.4585181912183904,
          0.45760942917868314,
          0.4574372602371044,
          0.45685275837581263,
          0.45619998412566487,
          0.4557195324664531,
          0.4553541629270979,
          0.45526158784944376,
          0.45498311733136315,
          0.45494300508929714,
          0.45474882234578856,
          0.45436267282837245
         ]
        }
       ],
       "layout": {
        "autosize": false,
        "height": 600,
        "margin": {
         "b": 100,
         "l": 50,
         "pad": 4,
         "r": 50,
         "t": 50
        },
        "paper_bgcolor": "LightSteelBlue",
        "shapes": [
         {
          "line": {
           "color": "red",
           "dash": "dash",
           "width": 1
          },
          "type": "line",
          "x0": "2023-05-23 02:30:00",
          "x1": "2023-05-23 02:30:00",
          "y0": 0.4521,
          "y1": 0.4672
         }
        ],
        "template": {
         "data": {
          "bar": [
           {
            "error_x": {
             "color": "#2a3f5f"
            },
            "error_y": {
             "color": "#2a3f5f"
            },
            "marker": {
             "line": {
              "color": "#E5ECF6",
              "width": 0.5
             },
             "pattern": {
              "fillmode": "overlay",
              "size": 10,
              "solidity": 0.2
             }
            },
            "type": "bar"
           }
          ],
          "barpolar": [
           {
            "marker": {
             "line": {
              "color": "#E5ECF6",
              "width": 0.5
             },
             "pattern": {
              "fillmode": "overlay",
              "size": 10,
              "solidity": 0.2
             }
            },
            "type": "barpolar"
           }
          ],
          "carpet": [
           {
            "aaxis": {
             "endlinecolor": "#2a3f5f",
             "gridcolor": "white",
             "linecolor": "white",
             "minorgridcolor": "white",
             "startlinecolor": "#2a3f5f"
            },
            "baxis": {
             "endlinecolor": "#2a3f5f",
             "gridcolor": "white",
             "linecolor": "white",
             "minorgridcolor": "white",
             "startlinecolor": "#2a3f5f"
            },
            "type": "carpet"
           }
          ],
          "choropleth": [
           {
            "colorbar": {
             "outlinewidth": 0,
             "ticks": ""
            },
            "type": "choropleth"
           }
          ],
          "contour": [
           {
            "colorbar": {
             "outlinewidth": 0,
             "ticks": ""
            },
            "colorscale": [
             [
              0,
              "#0d0887"
             ],
             [
              0.1111111111111111,
              "#46039f"
             ],
             [
              0.2222222222222222,
              "#7201a8"
             ],
             [
              0.3333333333333333,
              "#9c179e"
             ],
             [
              0.4444444444444444,
              "#bd3786"
             ],
             [
              0.5555555555555556,
              "#d8576b"
             ],
             [
              0.6666666666666666,
              "#ed7953"
             ],
             [
              0.7777777777777778,
              "#fb9f3a"
             ],
             [
              0.8888888888888888,
              "#fdca26"
             ],
             [
              1,
              "#f0f921"
             ]
            ],
            "type": "contour"
           }
          ],
          "contourcarpet": [
           {
            "colorbar": {
             "outlinewidth": 0,
             "ticks": ""
            },
            "type": "contourcarpet"
           }
          ],
          "heatmap": [
           {
            "colorbar": {
             "outlinewidth": 0,
             "ticks": ""
            },
            "colorscale": [
             [
              0,
              "#0d0887"
             ],
             [
              0.1111111111111111,
              "#46039f"
             ],
             [
              0.2222222222222222,
              "#7201a8"
             ],
             [
              0.3333333333333333,
              "#9c179e"
             ],
             [
              0.4444444444444444,
              "#bd3786"
             ],
             [
              0.5555555555555556,
              "#d8576b"
             ],
             [
              0.6666666666666666,
              "#ed7953"
             ],
             [
              0.7777777777777778,
              "#fb9f3a"
             ],
             [
              0.8888888888888888,
              "#fdca26"
             ],
             [
              1,
              "#f0f921"
             ]
            ],
            "type": "heatmap"
           }
          ],
          "heatmapgl": [
           {
            "colorbar": {
             "outlinewidth": 0,
             "ticks": ""
            },
            "colorscale": [
             [
              0,
              "#0d0887"
             ],
             [
              0.1111111111111111,
              "#46039f"
             ],
             [
              0.2222222222222222,
              "#7201a8"
             ],
             [
              0.3333333333333333,
              "#9c179e"
             ],
             [
              0.4444444444444444,
              "#bd3786"
             ],
             [
              0.5555555555555556,
              "#d8576b"
             ],
             [
              0.6666666666666666,
              "#ed7953"
             ],
             [
              0.7777777777777778,
              "#fb9f3a"
             ],
             [
              0.8888888888888888,
              "#fdca26"
             ],
             [
              1,
              "#f0f921"
             ]
            ],
            "type": "heatmapgl"
           }
          ],
          "histogram": [
           {
            "marker": {
             "pattern": {
              "fillmode": "overlay",
              "size": 10,
              "solidity": 0.2
             }
            },
            "type": "histogram"
           }
          ],
          "histogram2d": [
           {
            "colorbar": {
             "outlinewidth": 0,
             "ticks": ""
            },
            "colorscale": [
             [
              0,
              "#0d0887"
             ],
             [
              0.1111111111111111,
              "#46039f"
             ],
             [
              0.2222222222222222,
              "#7201a8"
             ],
             [
              0.3333333333333333,
              "#9c179e"
             ],
             [
              0.4444444444444444,
              "#bd3786"
             ],
             [
              0.5555555555555556,
              "#d8576b"
             ],
             [
              0.6666666666666666,
              "#ed7953"
             ],
             [
              0.7777777777777778,
              "#fb9f3a"
             ],
             [
              0.8888888888888888,
              "#fdca26"
             ],
             [
              1,
              "#f0f921"
             ]
            ],
            "type": "histogram2d"
           }
          ],
          "histogram2dcontour": [
           {
            "colorbar": {
             "outlinewidth": 0,
             "ticks": ""
            },
            "colorscale": [
             [
              0,
              "#0d0887"
             ],
             [
              0.1111111111111111,
              "#46039f"
             ],
             [
              0.2222222222222222,
              "#7201a8"
             ],
             [
              0.3333333333333333,
              "#9c179e"
             ],
             [
              0.4444444444444444,
              "#bd3786"
             ],
             [
              0.5555555555555556,
              "#d8576b"
             ],
             [
              0.6666666666666666,
              "#ed7953"
             ],
             [
              0.7777777777777778,
              "#fb9f3a"
             ],
             [
              0.8888888888888888,
              "#fdca26"
             ],
             [
              1,
              "#f0f921"
             ]
            ],
            "type": "histogram2dcontour"
           }
          ],
          "mesh3d": [
           {
            "colorbar": {
             "outlinewidth": 0,
             "ticks": ""
            },
            "type": "mesh3d"
           }
          ],
          "parcoords": [
           {
            "line": {
             "colorbar": {
              "outlinewidth": 0,
              "ticks": ""
             }
            },
            "type": "parcoords"
           }
          ],
          "pie": [
           {
            "automargin": true,
            "type": "pie"
           }
          ],
          "scatter": [
           {
            "fillpattern": {
             "fillmode": "overlay",
             "size": 10,
             "solidity": 0.2
            },
            "type": "scatter"
           }
          ],
          "scatter3d": [
           {
            "line": {
             "colorbar": {
              "outlinewidth": 0,
              "ticks": ""
             }
            },
            "marker": {
             "colorbar": {
              "outlinewidth": 0,
              "ticks": ""
             }
            },
            "type": "scatter3d"
           }
          ],
          "scattercarpet": [
           {
            "marker": {
             "colorbar": {
              "outlinewidth": 0,
              "ticks": ""
             }
            },
            "type": "scattercarpet"
           }
          ],
          "scattergeo": [
           {
            "marker": {
             "colorbar": {
              "outlinewidth": 0,
              "ticks": ""
             }
            },
            "type": "scattergeo"
           }
          ],
          "scattergl": [
           {
            "marker": {
             "colorbar": {
              "outlinewidth": 0,
              "ticks": ""
             }
            },
            "type": "scattergl"
           }
          ],
          "scattermapbox": [
           {
            "marker": {
             "colorbar": {
              "outlinewidth": 0,
              "ticks": ""
             }
            },
            "type": "scattermapbox"
           }
          ],
          "scatterpolar": [
           {
            "marker": {
             "colorbar": {
              "outlinewidth": 0,
              "ticks": ""
             }
            },
            "type": "scatterpolar"
           }
          ],
          "scatterpolargl": [
           {
            "marker": {
             "colorbar": {
              "outlinewidth": 0,
              "ticks": ""
             }
            },
            "type": "scatterpolargl"
           }
          ],
          "scatterternary": [
           {
            "marker": {
             "colorbar": {
              "outlinewidth": 0,
              "ticks": ""
             }
            },
            "type": "scatterternary"
           }
          ],
          "surface": [
           {
            "colorbar": {
             "outlinewidth": 0,
             "ticks": ""
            },
            "colorscale": [
             [
              0,
              "#0d0887"
             ],
             [
              0.1111111111111111,
              "#46039f"
             ],
             [
              0.2222222222222222,
              "#7201a8"
             ],
             [
              0.3333333333333333,
              "#9c179e"
             ],
             [
              0.4444444444444444,
              "#bd3786"
             ],
             [
              0.5555555555555556,
              "#d8576b"
             ],
             [
              0.6666666666666666,
              "#ed7953"
             ],
             [
              0.7777777777777778,
              "#fb9f3a"
             ],
             [
              0.8888888888888888,
              "#fdca26"
             ],
             [
              1,
              "#f0f921"
             ]
            ],
            "type": "surface"
           }
          ],
          "table": [
           {
            "cells": {
             "fill": {
              "color": "#EBF0F8"
             },
             "line": {
              "color": "white"
             }
            },
            "header": {
             "fill": {
              "color": "#C8D4E3"
             },
             "line": {
              "color": "white"
             }
            },
            "type": "table"
           }
          ]
         },
         "layout": {
          "annotationdefaults": {
           "arrowcolor": "#2a3f5f",
           "arrowhead": 0,
           "arrowwidth": 1
          },
          "autotypenumbers": "strict",
          "coloraxis": {
           "colorbar": {
            "outlinewidth": 0,
            "ticks": ""
           }
          },
          "colorscale": {
           "diverging": [
            [
             0,
             "#8e0152"
            ],
            [
             0.1,
             "#c51b7d"
            ],
            [
             0.2,
             "#de77ae"
            ],
            [
             0.3,
             "#f1b6da"
            ],
            [
             0.4,
             "#fde0ef"
            ],
            [
             0.5,
             "#f7f7f7"
            ],
            [
             0.6,
             "#e6f5d0"
            ],
            [
             0.7,
             "#b8e186"
            ],
            [
             0.8,
             "#7fbc41"
            ],
            [
             0.9,
             "#4d9221"
            ],
            [
             1,
             "#276419"
            ]
           ],
           "sequential": [
            [
             0,
             "#0d0887"
            ],
            [
             0.1111111111111111,
             "#46039f"
            ],
            [
             0.2222222222222222,
             "#7201a8"
            ],
            [
             0.3333333333333333,
             "#9c179e"
            ],
            [
             0.4444444444444444,
             "#bd3786"
            ],
            [
             0.5555555555555556,
             "#d8576b"
            ],
            [
             0.6666666666666666,
             "#ed7953"
            ],
            [
             0.7777777777777778,
             "#fb9f3a"
            ],
            [
             0.8888888888888888,
             "#fdca26"
            ],
            [
             1,
             "#f0f921"
            ]
           ],
           "sequentialminus": [
            [
             0,
             "#0d0887"
            ],
            [
             0.1111111111111111,
             "#46039f"
            ],
            [
             0.2222222222222222,
             "#7201a8"
            ],
            [
             0.3333333333333333,
             "#9c179e"
            ],
            [
             0.4444444444444444,
             "#bd3786"
            ],
            [
             0.5555555555555556,
             "#d8576b"
            ],
            [
             0.6666666666666666,
             "#ed7953"
            ],
            [
             0.7777777777777778,
             "#fb9f3a"
            ],
            [
             0.8888888888888888,
             "#fdca26"
            ],
            [
             1,
             "#f0f921"
            ]
           ]
          },
          "colorway": [
           "#636efa",
           "#EF553B",
           "#00cc96",
           "#ab63fa",
           "#FFA15A",
           "#19d3f3",
           "#FF6692",
           "#B6E880",
           "#FF97FF",
           "#FECB52"
          ],
          "font": {
           "color": "#2a3f5f"
          },
          "geo": {
           "bgcolor": "white",
           "lakecolor": "white",
           "landcolor": "#E5ECF6",
           "showlakes": true,
           "showland": true,
           "subunitcolor": "white"
          },
          "hoverlabel": {
           "align": "left"
          },
          "hovermode": "closest",
          "mapbox": {
           "style": "light"
          },
          "paper_bgcolor": "white",
          "plot_bgcolor": "#E5ECF6",
          "polar": {
           "angularaxis": {
            "gridcolor": "white",
            "linecolor": "white",
            "ticks": ""
           },
           "bgcolor": "#E5ECF6",
           "radialaxis": {
            "gridcolor": "white",
            "linecolor": "white",
            "ticks": ""
           }
          },
          "scene": {
           "xaxis": {
            "backgroundcolor": "#E5ECF6",
            "gridcolor": "white",
            "gridwidth": 2,
            "linecolor": "white",
            "showbackground": true,
            "ticks": "",
            "zerolinecolor": "white"
           },
           "yaxis": {
            "backgroundcolor": "#E5ECF6",
            "gridcolor": "white",
            "gridwidth": 2,
            "linecolor": "white",
            "showbackground": true,
            "ticks": "",
            "zerolinecolor": "white"
           },
           "zaxis": {
            "backgroundcolor": "#E5ECF6",
            "gridcolor": "white",
            "gridwidth": 2,
            "linecolor": "white",
            "showbackground": true,
            "ticks": "",
            "zerolinecolor": "white"
           }
          },
          "shapedefaults": {
           "line": {
            "color": "#2a3f5f"
           }
          },
          "ternary": {
           "aaxis": {
            "gridcolor": "white",
            "linecolor": "white",
            "ticks": ""
           },
           "baxis": {
            "gridcolor": "white",
            "linecolor": "white",
            "ticks": ""
           },
           "bgcolor": "#E5ECF6",
           "caxis": {
            "gridcolor": "white",
            "linecolor": "white",
            "ticks": ""
           }
          },
          "title": {
           "x": 0.05
          },
          "xaxis": {
           "automargin": true,
           "gridcolor": "white",
           "linecolor": "white",
           "ticks": "",
           "title": {
            "standoff": 15
           },
           "zerolinecolor": "white",
           "zerolinewidth": 2
          },
          "yaxis": {
           "automargin": true,
           "gridcolor": "white",
           "linecolor": "white",
           "ticks": "",
           "title": {
            "standoff": 15
           },
           "zerolinecolor": "white",
           "zerolinewidth": 2
          }
         }
        },
        "title": {
         "text": "XRP 30m"
        },
        "width": 1500,
        "xaxis": {
         "rangeslider": {
          "visible": false
         },
         "type": "category"
        }
       }
      }
     },
     "metadata": {},
     "output_type": "display_data"
    },
    {
     "data": {
      "application/vnd.plotly.v1+json": {
       "config": {
        "plotlyServerURL": "https://plotly.com"
       },
       "data": [
        {
         "name": "squeeze",
         "type": "bar",
         "x": [
          "2023-05-22 07:00:00",
          "2023-05-22 07:30:00",
          "2023-05-22 08:00:00",
          "2023-05-22 08:30:00",
          "2023-05-22 09:00:00",
          "2023-05-22 09:30:00",
          "2023-05-22 10:00:00",
          "2023-05-22 10:30:00",
          "2023-05-22 11:00:00",
          "2023-05-22 11:30:00",
          "2023-05-22 12:00:00",
          "2023-05-22 12:30:00",
          "2023-05-22 13:00:00",
          "2023-05-22 13:30:00",
          "2023-05-22 14:00:00",
          "2023-05-22 14:30:00",
          "2023-05-22 15:00:00",
          "2023-05-22 15:30:00",
          "2023-05-22 16:00:00",
          "2023-05-22 16:30:00",
          "2023-05-22 17:00:00",
          "2023-05-22 17:30:00",
          "2023-05-22 18:00:00",
          "2023-05-22 18:30:00",
          "2023-05-22 19:00:00",
          "2023-05-22 19:30:00",
          "2023-05-22 20:00:00",
          "2023-05-22 20:30:00",
          "2023-05-22 21:00:00",
          "2023-05-22 21:30:00",
          "2023-05-22 22:00:00",
          "2023-05-22 22:30:00",
          "2023-05-22 23:00:00",
          "2023-05-22 23:30:00",
          "2023-05-23 00:00:00",
          "2023-05-23 00:30:00",
          "2023-05-23 01:00:00",
          "2023-05-23 01:30:00",
          "2023-05-23 02:00:00",
          "2023-05-23 02:30:00",
          "2023-05-23 03:00:00",
          "2023-05-23 03:30:00",
          "2023-05-23 04:00:00",
          "2023-05-23 04:30:00",
          "2023-05-23 05:00:00",
          "2023-05-23 05:30:00",
          "2023-05-23 06:00:00",
          "2023-05-23 06:30:00",
          "2023-05-23 07:00:00",
          "2023-05-23 07:30:00",
          "2023-05-23 08:00:00",
          "2023-05-23 08:30:00",
          "2023-05-23 09:00:00",
          "2023-05-23 09:30:00",
          "2023-05-23 10:00:00",
          "2023-05-23 10:30:00",
          "2023-05-23 11:00:00",
          "2023-05-23 11:30:00",
          "2023-05-23 12:00:00",
          "2023-05-23 12:30:00",
          "2023-05-23 13:00:00",
          "2023-05-23 13:30:00",
          "2023-05-23 14:00:00",
          "2023-05-23 14:30:00",
          "2023-05-23 15:00:00",
          "2023-05-23 15:30:00",
          "2023-05-23 16:00:00",
          "2023-05-23 16:30:00",
          "2023-05-23 17:00:00",
          "2023-05-23 17:30:00",
          "2023-05-23 18:00:00",
          "2023-05-23 18:30:00",
          "2023-05-23 19:00:00",
          "2023-05-23 19:30:00",
          "2023-05-23 20:00:00",
          "2023-05-23 20:30:00",
          "2023-05-23 21:00:00",
          "2023-05-23 21:30:00",
          "2023-05-23 22:00:00",
          "2023-05-23 22:30:00",
          "2023-05-23 23:00:00",
          "2023-05-23 23:30:00",
          "2023-05-24 00:00:00",
          "2023-05-24 00:30:00",
          "2023-05-24 01:00:00",
          "2023-05-24 01:30:00",
          "2023-05-24 02:00:00",
          "2023-05-24 02:30:00",
          "2023-05-24 03:00:00",
          "2023-05-24 03:30:00",
          "2023-05-24 04:00:00",
          "2023-05-24 04:30:00",
          "2023-05-24 05:00:00",
          "2023-05-24 05:30:00",
          "2023-05-24 06:00:00",
          "2023-05-24 06:30:00",
          "2023-05-24 07:00:00",
          "2023-05-24 07:30:00",
          "2023-05-24 08:00:00",
          "2023-05-24 08:30:00"
         ],
         "y": [
          0.004230928571428573,
          0.00397646428571429,
          0.003382535714285704,
          0.00278307142857141,
          0.0022636785714285484,
          0.001590857142857109,
          0.001205678571428536,
          0.0005966428571428212,
          -0.00039482142857146397,
          -0.001254250000000021,
          -0.002187142857142877,
          -0.0028216785714285974,
          -0.003220000000000024,
          -0.0036381785714285895,
          -0.004459321428571436,
          -0.004386642857142865,
          -0.00406039285714286,
          -0.0036127857142857103,
          -0.003073571428571421,
          -0.002310428571428554,
          -0.0016562499999999794,
          -0.0006299642857142559,
          0.00020575000000003143,
          0.0009762142857143081,
          0.0016967142857143148,
          0.0023883928571428797,
          0.0031113928571428846,
          0.003925607142857175,
          0.004397750000000032,
          0.004707785714285744,
          0.004857071428571459,
          0.004584821428571446,
          0.004357285714285726,
          0.00410853571428572,
          0.00402753571428572,
          0.0039019642857142803,
          0.003754250000000006,
          0.0036571428571428623,
          0.0035708928571428636,
          0.0035617500000000076,
          0.0032295000000000015,
          0.0024858214285714266,
          0.0017381428571428426,
          0.0010110714285714107,
          0.00009799999999998872,
          -0.0006405357142857306,
          -0.0012138214285714443,
          -0.001701928571428573,
          -0.002210928571428572,
          -0.002717607142857145,
          -0.002992464285714284,
          -0.003416678571428567,
          -0.0036538571428571254,
          -0.0038575714285714125,
          -0.0038628928571428447,
          -0.00393057142857141,
          -0.003588071428571401,
          -0.003231428571428556,
          -0.002807607142857129,
          -0.002362071428571414,
          -0.0018994999999999858,
          -0.0018328571428571337,
          -0.0017260357142857095,
          -0.0014068571428571474,
          -0.0013447500000000087,
          -0.0011782857142857187,
          -0.0006562857142857303,
          0.00010267857142855609,
          0.0008030714285714091,
          0.0014375714285714157,
          0.001996535714285697,
          0.0023982142857142683,
          0.0028496428571428384,
          0.0033664285714285476,
          0.00358739285714284,
          0.0036870357142857074,
          0.003679107142857148,
          0.003304821428571424,
          0.002683857142857139,
          0.0021436428571428635,
          0.0017833928571428718,
          0.0012029285714285905,
          0.0004644642857143046,
          -0.0006087857142856976,
          -0.0014554999999999811,
          -0.0021756071428571263,
          -0.0026601785714285564,
          -0.002947464285714281,
          -0.0030333571428571367,
          -0.003479571428571415,
          -0.003448035714285713,
          -0.0038726785714285742,
          -0.004361500000000008,
          -0.0046338214285714455,
          -0.0047787142857142854,
          -0.004849821428571421,
          -0.004943714285714273,
          -0.004907428571428565,
          -0.004964321428571434,
          -0.004495321428571429
         ]
        }
       ],
       "layout": {
        "autosize": false,
        "height": 300,
        "margin": {
         "b": 1,
         "l": 50,
         "pad": 4,
         "r": 150,
         "t": 10
        },
        "paper_bgcolor": "LightSteelBlue",
        "shapes": [
         {
          "line": {
           "color": "red",
           "dash": "dash",
           "width": 1
          },
          "type": "line",
          "x0": "2023-05-23 02:30:00",
          "x1": "2023-05-23 02:30:00",
          "y0": -0.004964321428571434,
          "y1": 0.004857071428571459
         }
        ],
        "template": {
         "data": {
          "bar": [
           {
            "error_x": {
             "color": "#2a3f5f"
            },
            "error_y": {
             "color": "#2a3f5f"
            },
            "marker": {
             "line": {
              "color": "#E5ECF6",
              "width": 0.5
             },
             "pattern": {
              "fillmode": "overlay",
              "size": 10,
              "solidity": 0.2
             }
            },
            "type": "bar"
           }
          ],
          "barpolar": [
           {
            "marker": {
             "line": {
              "color": "#E5ECF6",
              "width": 0.5
             },
             "pattern": {
              "fillmode": "overlay",
              "size": 10,
              "solidity": 0.2
             }
            },
            "type": "barpolar"
           }
          ],
          "carpet": [
           {
            "aaxis": {
             "endlinecolor": "#2a3f5f",
             "gridcolor": "white",
             "linecolor": "white",
             "minorgridcolor": "white",
             "startlinecolor": "#2a3f5f"
            },
            "baxis": {
             "endlinecolor": "#2a3f5f",
             "gridcolor": "white",
             "linecolor": "white",
             "minorgridcolor": "white",
             "startlinecolor": "#2a3f5f"
            },
            "type": "carpet"
           }
          ],
          "choropleth": [
           {
            "colorbar": {
             "outlinewidth": 0,
             "ticks": ""
            },
            "type": "choropleth"
           }
          ],
          "contour": [
           {
            "colorbar": {
             "outlinewidth": 0,
             "ticks": ""
            },
            "colorscale": [
             [
              0,
              "#0d0887"
             ],
             [
              0.1111111111111111,
              "#46039f"
             ],
             [
              0.2222222222222222,
              "#7201a8"
             ],
             [
              0.3333333333333333,
              "#9c179e"
             ],
             [
              0.4444444444444444,
              "#bd3786"
             ],
             [
              0.5555555555555556,
              "#d8576b"
             ],
             [
              0.6666666666666666,
              "#ed7953"
             ],
             [
              0.7777777777777778,
              "#fb9f3a"
             ],
             [
              0.8888888888888888,
              "#fdca26"
             ],
             [
              1,
              "#f0f921"
             ]
            ],
            "type": "contour"
           }
          ],
          "contourcarpet": [
           {
            "colorbar": {
             "outlinewidth": 0,
             "ticks": ""
            },
            "type": "contourcarpet"
           }
          ],
          "heatmap": [
           {
            "colorbar": {
             "outlinewidth": 0,
             "ticks": ""
            },
            "colorscale": [
             [
              0,
              "#0d0887"
             ],
             [
              0.1111111111111111,
              "#46039f"
             ],
             [
              0.2222222222222222,
              "#7201a8"
             ],
             [
              0.3333333333333333,
              "#9c179e"
             ],
             [
              0.4444444444444444,
              "#bd3786"
             ],
             [
              0.5555555555555556,
              "#d8576b"
             ],
             [
              0.6666666666666666,
              "#ed7953"
             ],
             [
              0.7777777777777778,
              "#fb9f3a"
             ],
             [
              0.8888888888888888,
              "#fdca26"
             ],
             [
              1,
              "#f0f921"
             ]
            ],
            "type": "heatmap"
           }
          ],
          "heatmapgl": [
           {
            "colorbar": {
             "outlinewidth": 0,
             "ticks": ""
            },
            "colorscale": [
             [
              0,
              "#0d0887"
             ],
             [
              0.1111111111111111,
              "#46039f"
             ],
             [
              0.2222222222222222,
              "#7201a8"
             ],
             [
              0.3333333333333333,
              "#9c179e"
             ],
             [
              0.4444444444444444,
              "#bd3786"
             ],
             [
              0.5555555555555556,
              "#d8576b"
             ],
             [
              0.6666666666666666,
              "#ed7953"
             ],
             [
              0.7777777777777778,
              "#fb9f3a"
             ],
             [
              0.8888888888888888,
              "#fdca26"
             ],
             [
              1,
              "#f0f921"
             ]
            ],
            "type": "heatmapgl"
           }
          ],
          "histogram": [
           {
            "marker": {
             "pattern": {
              "fillmode": "overlay",
              "size": 10,
              "solidity": 0.2
             }
            },
            "type": "histogram"
           }
          ],
          "histogram2d": [
           {
            "colorbar": {
             "outlinewidth": 0,
             "ticks": ""
            },
            "colorscale": [
             [
              0,
              "#0d0887"
             ],
             [
              0.1111111111111111,
              "#46039f"
             ],
             [
              0.2222222222222222,
              "#7201a8"
             ],
             [
              0.3333333333333333,
              "#9c179e"
             ],
             [
              0.4444444444444444,
              "#bd3786"
             ],
             [
              0.5555555555555556,
              "#d8576b"
             ],
             [
              0.6666666666666666,
              "#ed7953"
             ],
             [
              0.7777777777777778,
              "#fb9f3a"
             ],
             [
              0.8888888888888888,
              "#fdca26"
             ],
             [
              1,
              "#f0f921"
             ]
            ],
            "type": "histogram2d"
           }
          ],
          "histogram2dcontour": [
           {
            "colorbar": {
             "outlinewidth": 0,
             "ticks": ""
            },
            "colorscale": [
             [
              0,
              "#0d0887"
             ],
             [
              0.1111111111111111,
              "#46039f"
             ],
             [
              0.2222222222222222,
              "#7201a8"
             ],
             [
              0.3333333333333333,
              "#9c179e"
             ],
             [
              0.4444444444444444,
              "#bd3786"
             ],
             [
              0.5555555555555556,
              "#d8576b"
             ],
             [
              0.6666666666666666,
              "#ed7953"
             ],
             [
              0.7777777777777778,
              "#fb9f3a"
             ],
             [
              0.8888888888888888,
              "#fdca26"
             ],
             [
              1,
              "#f0f921"
             ]
            ],
            "type": "histogram2dcontour"
           }
          ],
          "mesh3d": [
           {
            "colorbar": {
             "outlinewidth": 0,
             "ticks": ""
            },
            "type": "mesh3d"
           }
          ],
          "parcoords": [
           {
            "line": {
             "colorbar": {
              "outlinewidth": 0,
              "ticks": ""
             }
            },
            "type": "parcoords"
           }
          ],
          "pie": [
           {
            "automargin": true,
            "type": "pie"
           }
          ],
          "scatter": [
           {
            "fillpattern": {
             "fillmode": "overlay",
             "size": 10,
             "solidity": 0.2
            },
            "type": "scatter"
           }
          ],
          "scatter3d": [
           {
            "line": {
             "colorbar": {
              "outlinewidth": 0,
              "ticks": ""
             }
            },
            "marker": {
             "colorbar": {
              "outlinewidth": 0,
              "ticks": ""
             }
            },
            "type": "scatter3d"
           }
          ],
          "scattercarpet": [
           {
            "marker": {
             "colorbar": {
              "outlinewidth": 0,
              "ticks": ""
             }
            },
            "type": "scattercarpet"
           }
          ],
          "scattergeo": [
           {
            "marker": {
             "colorbar": {
              "outlinewidth": 0,
              "ticks": ""
             }
            },
            "type": "scattergeo"
           }
          ],
          "scattergl": [
           {
            "marker": {
             "colorbar": {
              "outlinewidth": 0,
              "ticks": ""
             }
            },
            "type": "scattergl"
           }
          ],
          "scattermapbox": [
           {
            "marker": {
             "colorbar": {
              "outlinewidth": 0,
              "ticks": ""
             }
            },
            "type": "scattermapbox"
           }
          ],
          "scatterpolar": [
           {
            "marker": {
             "colorbar": {
              "outlinewidth": 0,
              "ticks": ""
             }
            },
            "type": "scatterpolar"
           }
          ],
          "scatterpolargl": [
           {
            "marker": {
             "colorbar": {
              "outlinewidth": 0,
              "ticks": ""
             }
            },
            "type": "scatterpolargl"
           }
          ],
          "scatterternary": [
           {
            "marker": {
             "colorbar": {
              "outlinewidth": 0,
              "ticks": ""
             }
            },
            "type": "scatterternary"
           }
          ],
          "surface": [
           {
            "colorbar": {
             "outlinewidth": 0,
             "ticks": ""
            },
            "colorscale": [
             [
              0,
              "#0d0887"
             ],
             [
              0.1111111111111111,
              "#46039f"
             ],
             [
              0.2222222222222222,
              "#7201a8"
             ],
             [
              0.3333333333333333,
              "#9c179e"
             ],
             [
              0.4444444444444444,
              "#bd3786"
             ],
             [
              0.5555555555555556,
              "#d8576b"
             ],
             [
              0.6666666666666666,
              "#ed7953"
             ],
             [
              0.7777777777777778,
              "#fb9f3a"
             ],
             [
              0.8888888888888888,
              "#fdca26"
             ],
             [
              1,
              "#f0f921"
             ]
            ],
            "type": "surface"
           }
          ],
          "table": [
           {
            "cells": {
             "fill": {
              "color": "#EBF0F8"
             },
             "line": {
              "color": "white"
             }
            },
            "header": {
             "fill": {
              "color": "#C8D4E3"
             },
             "line": {
              "color": "white"
             }
            },
            "type": "table"
           }
          ]
         },
         "layout": {
          "annotationdefaults": {
           "arrowcolor": "#2a3f5f",
           "arrowhead": 0,
           "arrowwidth": 1
          },
          "autotypenumbers": "strict",
          "coloraxis": {
           "colorbar": {
            "outlinewidth": 0,
            "ticks": ""
           }
          },
          "colorscale": {
           "diverging": [
            [
             0,
             "#8e0152"
            ],
            [
             0.1,
             "#c51b7d"
            ],
            [
             0.2,
             "#de77ae"
            ],
            [
             0.3,
             "#f1b6da"
            ],
            [
             0.4,
             "#fde0ef"
            ],
            [
             0.5,
             "#f7f7f7"
            ],
            [
             0.6,
             "#e6f5d0"
            ],
            [
             0.7,
             "#b8e186"
            ],
            [
             0.8,
             "#7fbc41"
            ],
            [
             0.9,
             "#4d9221"
            ],
            [
             1,
             "#276419"
            ]
           ],
           "sequential": [
            [
             0,
             "#0d0887"
            ],
            [
             0.1111111111111111,
             "#46039f"
            ],
            [
             0.2222222222222222,
             "#7201a8"
            ],
            [
             0.3333333333333333,
             "#9c179e"
            ],
            [
             0.4444444444444444,
             "#bd3786"
            ],
            [
             0.5555555555555556,
             "#d8576b"
            ],
            [
             0.6666666666666666,
             "#ed7953"
            ],
            [
             0.7777777777777778,
             "#fb9f3a"
            ],
            [
             0.8888888888888888,
             "#fdca26"
            ],
            [
             1,
             "#f0f921"
            ]
           ],
           "sequentialminus": [
            [
             0,
             "#0d0887"
            ],
            [
             0.1111111111111111,
             "#46039f"
            ],
            [
             0.2222222222222222,
             "#7201a8"
            ],
            [
             0.3333333333333333,
             "#9c179e"
            ],
            [
             0.4444444444444444,
             "#bd3786"
            ],
            [
             0.5555555555555556,
             "#d8576b"
            ],
            [
             0.6666666666666666,
             "#ed7953"
            ],
            [
             0.7777777777777778,
             "#fb9f3a"
            ],
            [
             0.8888888888888888,
             "#fdca26"
            ],
            [
             1,
             "#f0f921"
            ]
           ]
          },
          "colorway": [
           "#636efa",
           "#EF553B",
           "#00cc96",
           "#ab63fa",
           "#FFA15A",
           "#19d3f3",
           "#FF6692",
           "#B6E880",
           "#FF97FF",
           "#FECB52"
          ],
          "font": {
           "color": "#2a3f5f"
          },
          "geo": {
           "bgcolor": "white",
           "lakecolor": "white",
           "landcolor": "#E5ECF6",
           "showlakes": true,
           "showland": true,
           "subunitcolor": "white"
          },
          "hoverlabel": {
           "align": "left"
          },
          "hovermode": "closest",
          "mapbox": {
           "style": "light"
          },
          "paper_bgcolor": "white",
          "plot_bgcolor": "#E5ECF6",
          "polar": {
           "angularaxis": {
            "gridcolor": "white",
            "linecolor": "white",
            "ticks": ""
           },
           "bgcolor": "#E5ECF6",
           "radialaxis": {
            "gridcolor": "white",
            "linecolor": "white",
            "ticks": ""
           }
          },
          "scene": {
           "xaxis": {
            "backgroundcolor": "#E5ECF6",
            "gridcolor": "white",
            "gridwidth": 2,
            "linecolor": "white",
            "showbackground": true,
            "ticks": "",
            "zerolinecolor": "white"
           },
           "yaxis": {
            "backgroundcolor": "#E5ECF6",
            "gridcolor": "white",
            "gridwidth": 2,
            "linecolor": "white",
            "showbackground": true,
            "ticks": "",
            "zerolinecolor": "white"
           },
           "zaxis": {
            "backgroundcolor": "#E5ECF6",
            "gridcolor": "white",
            "gridwidth": 2,
            "linecolor": "white",
            "showbackground": true,
            "ticks": "",
            "zerolinecolor": "white"
           }
          },
          "shapedefaults": {
           "line": {
            "color": "#2a3f5f"
           }
          },
          "ternary": {
           "aaxis": {
            "gridcolor": "white",
            "linecolor": "white",
            "ticks": ""
           },
           "baxis": {
            "gridcolor": "white",
            "linecolor": "white",
            "ticks": ""
           },
           "bgcolor": "#E5ECF6",
           "caxis": {
            "gridcolor": "white",
            "linecolor": "white",
            "ticks": ""
           }
          },
          "title": {
           "x": 0.05
          },
          "xaxis": {
           "automargin": true,
           "gridcolor": "white",
           "linecolor": "white",
           "ticks": "",
           "title": {
            "standoff": 15
           },
           "zerolinecolor": "white",
           "zerolinewidth": 2
          },
          "yaxis": {
           "automargin": true,
           "gridcolor": "white",
           "linecolor": "white",
           "ticks": "",
           "title": {
            "standoff": 15
           },
           "zerolinecolor": "white",
           "zerolinewidth": 2
          }
         }
        },
        "width": 1500
       }
      }
     },
     "metadata": {},
     "output_type": "display_data"
    },
    {
     "data": {
      "application/vnd.plotly.v1+json": {
       "config": {
        "plotlyServerURL": "https://plotly.com"
       },
       "data": [
        {
         "close": [
          0.4608,
          0.4605,
          0.4604,
          0.4602,
          0.4606,
          0.4607,
          0.4604,
          0.4592,
          0.4597,
          0.4591,
          0.4592,
          0.46,
          0.4612,
          0.4608,
          0.4608,
          0.4606,
          0.4606,
          0.4605,
          0.4602,
          0.4599,
          0.4599,
          0.4589,
          0.4587,
          0.4592,
          0.4586,
          0.4594,
          0.4596,
          0.4597,
          0.4587,
          0.4593,
          0.4592,
          0.4603,
          0.4609,
          0.4616,
          0.4628,
          0.4629,
          0.4633,
          0.4642,
          0.4639,
          0.463,
          0.4637,
          0.4627,
          0.4635,
          0.4647,
          0.4641,
          0.4647,
          0.4652,
          0.464,
          0.4645,
          0.4652,
          0.4646,
          0.4633,
          0.4634,
          0.4616,
          0.4618,
          0.4605,
          0.4606,
          0.4618,
          0.4612,
          0.4621,
          0.4621,
          0.4625,
          0.4615,
          0.4614,
          0.4607,
          0.4567,
          0.4574,
          0.4575,
          0.4587,
          0.4596,
          0.459,
          0.4588,
          0.4592,
          0.4585,
          0.4591,
          0.4599,
          0.4596,
          0.4581,
          0.4571,
          0.459,
          0.4592,
          0.4589,
          0.4564,
          0.4554,
          0.4548,
          0.4538,
          0.4543,
          0.454,
          0.4545,
          0.4542,
          0.454,
          0.4542,
          0.4534,
          0.4538,
          0.4541,
          0.4537,
          0.4538,
          0.4547,
          0.456,
          0.4562
         ],
         "high": [
          0.4608,
          0.4609,
          0.461,
          0.4605,
          0.4608,
          0.4612,
          0.461,
          0.4605,
          0.4605,
          0.46,
          0.4595,
          0.4604,
          0.4613,
          0.4614,
          0.461,
          0.4611,
          0.4614,
          0.4608,
          0.4607,
          0.4603,
          0.46,
          0.4602,
          0.4593,
          0.4594,
          0.4598,
          0.4595,
          0.4599,
          0.46,
          0.4597,
          0.4596,
          0.4596,
          0.4607,
          0.4611,
          0.4627,
          0.4628,
          0.4633,
          0.4634,
          0.4642,
          0.4649,
          0.4639,
          0.4648,
          0.4639,
          0.4637,
          0.4649,
          0.4647,
          0.4655,
          0.4655,
          0.4652,
          0.4649,
          0.4652,
          0.4652,
          0.4647,
          0.4637,
          0.4634,
          0.4623,
          0.4618,
          0.4612,
          0.4618,
          0.4618,
          0.4621,
          0.4623,
          0.4626,
          0.4626,
          0.4623,
          0.4622,
          0.4607,
          0.4581,
          0.4584,
          0.4589,
          0.4602,
          0.4598,
          0.4596,
          0.4595,
          0.4592,
          0.4591,
          0.4602,
          0.461,
          0.4604,
          0.4582,
          0.459,
          0.4593,
          0.4595,
          0.4592,
          0.4571,
          0.456,
          0.4553,
          0.4546,
          0.4553,
          0.455,
          0.4547,
          0.4544,
          0.4544,
          0.4543,
          0.4543,
          0.4543,
          0.4545,
          0.4546,
          0.4548,
          0.456,
          0.4567
         ],
         "low": [
          0.4596,
          0.4602,
          0.4601,
          0.4597,
          0.4598,
          0.4603,
          0.46,
          0.4592,
          0.4592,
          0.458,
          0.4583,
          0.4591,
          0.4599,
          0.4604,
          0.4599,
          0.4604,
          0.4603,
          0.4598,
          0.4599,
          0.4596,
          0.4593,
          0.4586,
          0.4585,
          0.4587,
          0.4584,
          0.4586,
          0.4588,
          0.4594,
          0.4585,
          0.4584,
          0.4591,
          0.4589,
          0.4604,
          0.4608,
          0.4617,
          0.4622,
          0.4623,
          0.462,
          0.4632,
          0.4625,
          0.4628,
          0.4619,
          0.4627,
          0.4629,
          0.4637,
          0.464,
          0.4645,
          0.4637,
          0.4637,
          0.4644,
          0.4646,
          0.463,
          0.4622,
          0.4611,
          0.4605,
          0.4602,
          0.4598,
          0.46,
          0.4599,
          0.4611,
          0.4609,
          0.4607,
          0.4615,
          0.4609,
          0.4597,
          0.4548,
          0.4555,
          0.4569,
          0.4574,
          0.4581,
          0.4586,
          0.4582,
          0.4584,
          0.458,
          0.4582,
          0.4588,
          0.4591,
          0.458,
          0.4562,
          0.457,
          0.4581,
          0.4584,
          0.4562,
          0.4553,
          0.4538,
          0.4529,
          0.4528,
          0.4531,
          0.4536,
          0.4541,
          0.4537,
          0.4537,
          0.4529,
          0.4534,
          0.4535,
          0.4532,
          0.4536,
          0.4537,
          0.4546,
          0.4553
         ],
         "open": [
          0.4596,
          0.4608,
          0.4606,
          0.4604,
          0.4602,
          0.4606,
          0.4607,
          0.4604,
          0.4592,
          0.4597,
          0.4591,
          0.4592,
          0.46,
          0.4611,
          0.4608,
          0.4607,
          0.4605,
          0.4606,
          0.4605,
          0.4602,
          0.4599,
          0.4599,
          0.459,
          0.4587,
          0.4593,
          0.4586,
          0.4594,
          0.4596,
          0.4597,
          0.4587,
          0.4596,
          0.4591,
          0.4604,
          0.4609,
          0.4617,
          0.4628,
          0.4629,
          0.4633,
          0.4642,
          0.4639,
          0.4631,
          0.4637,
          0.4627,
          0.4635,
          0.4647,
          0.4641,
          0.4647,
          0.4652,
          0.4639,
          0.4645,
          0.4652,
          0.4646,
          0.4633,
          0.4634,
          0.4616,
          0.4618,
          0.4605,
          0.4606,
          0.4618,
          0.4612,
          0.4621,
          0.4621,
          0.4625,
          0.4615,
          0.4614,
          0.4607,
          0.4567,
          0.4574,
          0.4575,
          0.4588,
          0.4596,
          0.459,
          0.4588,
          0.4592,
          0.4585,
          0.4591,
          0.4599,
          0.4596,
          0.4581,
          0.4571,
          0.459,
          0.4591,
          0.4589,
          0.4564,
          0.4554,
          0.4548,
          0.4538,
          0.4543,
          0.454,
          0.4545,
          0.4542,
          0.454,
          0.4542,
          0.4534,
          0.4538,
          0.4541,
          0.4537,
          0.4538,
          0.4547,
          0.456
         ],
         "type": "candlestick",
         "x": [
          "2023-05-23 08:15:00",
          "2023-05-23 08:30:00",
          "2023-05-23 08:45:00",
          "2023-05-23 09:00:00",
          "2023-05-23 09:15:00",
          "2023-05-23 09:30:00",
          "2023-05-23 09:45:00",
          "2023-05-23 10:00:00",
          "2023-05-23 10:15:00",
          "2023-05-23 10:30:00",
          "2023-05-23 10:45:00",
          "2023-05-23 11:00:00",
          "2023-05-23 11:15:00",
          "2023-05-23 11:30:00",
          "2023-05-23 11:45:00",
          "2023-05-23 12:00:00",
          "2023-05-23 12:15:00",
          "2023-05-23 12:30:00",
          "2023-05-23 12:45:00",
          "2023-05-23 13:00:00",
          "2023-05-23 13:15:00",
          "2023-05-23 13:30:00",
          "2023-05-23 13:45:00",
          "2023-05-23 14:00:00",
          "2023-05-23 14:15:00",
          "2023-05-23 14:30:00",
          "2023-05-23 14:45:00",
          "2023-05-23 15:00:00",
          "2023-05-23 15:15:00",
          "2023-05-23 15:30:00",
          "2023-05-23 15:45:00",
          "2023-05-23 16:00:00",
          "2023-05-23 16:15:00",
          "2023-05-23 16:30:00",
          "2023-05-23 16:45:00",
          "2023-05-23 17:00:00",
          "2023-05-23 17:15:00",
          "2023-05-23 17:30:00",
          "2023-05-23 17:45:00",
          "2023-05-23 18:00:00",
          "2023-05-23 18:15:00",
          "2023-05-23 18:30:00",
          "2023-05-23 18:45:00",
          "2023-05-23 19:00:00",
          "2023-05-23 19:15:00",
          "2023-05-23 19:30:00",
          "2023-05-23 19:45:00",
          "2023-05-23 20:00:00",
          "2023-05-23 20:15:00",
          "2023-05-23 20:30:00",
          "2023-05-23 20:45:00",
          "2023-05-23 21:00:00",
          "2023-05-23 21:15:00",
          "2023-05-23 21:30:00",
          "2023-05-23 21:45:00",
          "2023-05-23 22:00:00",
          "2023-05-23 22:15:00",
          "2023-05-23 22:30:00",
          "2023-05-23 22:45:00",
          "2023-05-23 23:00:00",
          "2023-05-23 23:15:00",
          "2023-05-23 23:30:00",
          "2023-05-23 23:45:00",
          "2023-05-24 00:00:00",
          "2023-05-24 00:15:00",
          "2023-05-24 00:30:00",
          "2023-05-24 00:45:00",
          "2023-05-24 01:00:00",
          "2023-05-24 01:15:00",
          "2023-05-24 01:30:00",
          "2023-05-24 01:45:00",
          "2023-05-24 02:00:00",
          "2023-05-24 02:15:00",
          "2023-05-24 02:30:00",
          "2023-05-24 02:45:00",
          "2023-05-24 03:00:00",
          "2023-05-24 03:15:00",
          "2023-05-24 03:30:00",
          "2023-05-24 03:45:00",
          "2023-05-24 04:00:00",
          "2023-05-24 04:15:00",
          "2023-05-24 04:30:00",
          "2023-05-24 04:45:00",
          "2023-05-24 05:00:00",
          "2023-05-24 05:15:00",
          "2023-05-24 05:30:00",
          "2023-05-24 05:45:00",
          "2023-05-24 06:00:00",
          "2023-05-24 06:15:00",
          "2023-05-24 06:30:00",
          "2023-05-24 06:45:00",
          "2023-05-24 07:00:00",
          "2023-05-24 07:15:00",
          "2023-05-24 07:30:00",
          "2023-05-24 07:45:00",
          "2023-05-24 08:00:00",
          "2023-05-24 08:15:00",
          "2023-05-24 08:30:00",
          "2023-05-24 08:45:00",
          "2023-05-24 09:00:00"
         ]
        },
        {
         "line": {
          "color": "red",
          "width": 1
         },
         "name": "upper_band",
         "type": "scatter",
         "x": [
          "2023-05-23 08:15:00",
          "2023-05-23 08:30:00",
          "2023-05-23 08:45:00",
          "2023-05-23 09:00:00",
          "2023-05-23 09:15:00",
          "2023-05-23 09:30:00",
          "2023-05-23 09:45:00",
          "2023-05-23 10:00:00",
          "2023-05-23 10:15:00",
          "2023-05-23 10:30:00",
          "2023-05-23 10:45:00",
          "2023-05-23 11:00:00",
          "2023-05-23 11:15:00",
          "2023-05-23 11:30:00",
          "2023-05-23 11:45:00",
          "2023-05-23 12:00:00",
          "2023-05-23 12:15:00",
          "2023-05-23 12:30:00",
          "2023-05-23 12:45:00",
          "2023-05-23 13:00:00",
          "2023-05-23 13:15:00",
          "2023-05-23 13:30:00",
          "2023-05-23 13:45:00",
          "2023-05-23 14:00:00",
          "2023-05-23 14:15:00",
          "2023-05-23 14:30:00",
          "2023-05-23 14:45:00",
          "2023-05-23 15:00:00",
          "2023-05-23 15:15:00",
          "2023-05-23 15:30:00",
          "2023-05-23 15:45:00",
          "2023-05-23 16:00:00",
          "2023-05-23 16:15:00",
          "2023-05-23 16:30:00",
          "2023-05-23 16:45:00",
          "2023-05-23 17:00:00",
          "2023-05-23 17:15:00",
          "2023-05-23 17:30:00",
          "2023-05-23 17:45:00",
          "2023-05-23 18:00:00",
          "2023-05-23 18:15:00",
          "2023-05-23 18:30:00",
          "2023-05-23 18:45:00",
          "2023-05-23 19:00:00",
          "2023-05-23 19:15:00",
          "2023-05-23 19:30:00",
          "2023-05-23 19:45:00",
          "2023-05-23 20:00:00",
          "2023-05-23 20:15:00",
          "2023-05-23 20:30:00",
          "2023-05-23 20:45:00",
          "2023-05-23 21:00:00",
          "2023-05-23 21:15:00",
          "2023-05-23 21:30:00",
          "2023-05-23 21:45:00",
          "2023-05-23 22:00:00",
          "2023-05-23 22:15:00",
          "2023-05-23 22:30:00",
          "2023-05-23 22:45:00",
          "2023-05-23 23:00:00",
          "2023-05-23 23:15:00",
          "2023-05-23 23:30:00",
          "2023-05-23 23:45:00",
          "2023-05-24 00:00:00",
          "2023-05-24 00:15:00",
          "2023-05-24 00:30:00",
          "2023-05-24 00:45:00",
          "2023-05-24 01:00:00",
          "2023-05-24 01:15:00",
          "2023-05-24 01:30:00",
          "2023-05-24 01:45:00",
          "2023-05-24 02:00:00",
          "2023-05-24 02:15:00",
          "2023-05-24 02:30:00",
          "2023-05-24 02:45:00",
          "2023-05-24 03:00:00",
          "2023-05-24 03:15:00",
          "2023-05-24 03:30:00",
          "2023-05-24 03:45:00",
          "2023-05-24 04:00:00",
          "2023-05-24 04:15:00",
          "2023-05-24 04:30:00",
          "2023-05-24 04:45:00",
          "2023-05-24 05:00:00",
          "2023-05-24 05:15:00",
          "2023-05-24 05:30:00",
          "2023-05-24 05:45:00",
          "2023-05-24 06:00:00",
          "2023-05-24 06:15:00",
          "2023-05-24 06:30:00",
          "2023-05-24 06:45:00",
          "2023-05-24 07:00:00",
          "2023-05-24 07:15:00",
          "2023-05-24 07:30:00",
          "2023-05-24 07:45:00",
          "2023-05-24 08:00:00",
          "2023-05-24 08:15:00",
          "2023-05-24 08:30:00",
          "2023-05-24 08:45:00",
          "2023-05-24 09:00:00"
         ],
         "y": [
          0.46285635589402935,
          0.46267416181492876,
          0.462529499927515,
          0.46221637193392057,
          0.46204632394637385,
          0.4615353430795569,
          0.4611946709814121,
          0.46131295474027556,
          0.46132467943448086,
          0.46137109036868,
          0.46138321595662,
          0.46137516232625553,
          0.46137516232625553,
          0.4614119027147561,
          0.46137890640868323,
          0.4613982282665067,
          0.46140858889263925,
          0.4614320068259187,
          0.461427134804534,
          0.46141560027932965,
          0.46135438036108306,
          0.4614043252161377,
          0.4614605713120012,
          0.461457618734336,
          0.461453891187876,
          0.4613595626431421,
          0.4613009612294447,
          0.46130118999452874,
          0.46133125755437376,
          0.46132609895514637,
          0.46132609895514637,
          0.46135480643952775,
          0.4612905332385528,
          0.46147207186200895,
          0.4619872797573497,
          0.46246448341593827,
          0.46297971427113555,
          0.46366849814590533,
          0.46419280112001726,
          0.46448519840749103,
          0.4648711664955077,
          0.46502468272834213,
          0.46523901328561823,
          0.4656487034961819,
          0.4658170172500884,
          0.4660934288914805,
          0.4664072797744819,
          0.4664733720507516,
          0.46638845203517965,
          0.4663908673892153,
          0.4661189922023445,
          0.4658294291493418,
          0.46556530552962183,
          0.46556530552962183,
          0.4656687400031701,
          0.46598118943086836,
          0.46617985293719866,
          0.4661295519353453,
          0.46613107245296304,
          0.46612472595697985,
          0.4660683774861938,
          0.4660647287022349,
          0.4660333968074656,
          0.4658331842744442,
          0.4657342095766488,
          0.46612821204148874,
          0.4660242224157125,
          0.4659798654688226,
          0.465630954441936,
          0.4650038870235858,
          0.4644404641624074,
          0.46409601355790403,
          0.4636580249779983,
          0.46352244099441087,
          0.4633181142880135,
          0.4632784952058834,
          0.46321598492983795,
          0.4629915555257313,
          0.46289077224065106,
          0.462519749990234,
          0.4621095357384096,
          0.4615021697190266,
          0.4612133782565562,
          0.4610039032743076,
          0.460947481043648,
          0.46133586570473195,
          0.4615460674135994,
          0.46173305303928064,
          0.46171788679981146,
          0.4615543556225415,
          0.4614319483523311,
          0.46126802588847526,
          0.461044975675613,
          0.4608408672661505,
          0.46047340280275045,
          0.4598755881945931,
          0.45923847281276753,
          0.45886271551096297,
          0.4587226998214654,
          0.45816130067527594
         ]
        },
        {
         "line": {
          "color": "red",
          "width": 1
         },
         "name": "lower_band",
         "type": "scatter",
         "x": [
          "2023-05-23 08:15:00",
          "2023-05-23 08:30:00",
          "2023-05-23 08:45:00",
          "2023-05-23 09:00:00",
          "2023-05-23 09:15:00",
          "2023-05-23 09:30:00",
          "2023-05-23 09:45:00",
          "2023-05-23 10:00:00",
          "2023-05-23 10:15:00",
          "2023-05-23 10:30:00",
          "2023-05-23 10:45:00",
          "2023-05-23 11:00:00",
          "2023-05-23 11:15:00",
          "2023-05-23 11:30:00",
          "2023-05-23 11:45:00",
          "2023-05-23 12:00:00",
          "2023-05-23 12:15:00",
          "2023-05-23 12:30:00",
          "2023-05-23 12:45:00",
          "2023-05-23 13:00:00",
          "2023-05-23 13:15:00",
          "2023-05-23 13:30:00",
          "2023-05-23 13:45:00",
          "2023-05-23 14:00:00",
          "2023-05-23 14:15:00",
          "2023-05-23 14:30:00",
          "2023-05-23 14:45:00",
          "2023-05-23 15:00:00",
          "2023-05-23 15:15:00",
          "2023-05-23 15:30:00",
          "2023-05-23 15:45:00",
          "2023-05-23 16:00:00",
          "2023-05-23 16:15:00",
          "2023-05-23 16:30:00",
          "2023-05-23 16:45:00",
          "2023-05-23 17:00:00",
          "2023-05-23 17:15:00",
          "2023-05-23 17:30:00",
          "2023-05-23 17:45:00",
          "2023-05-23 18:00:00",
          "2023-05-23 18:15:00",
          "2023-05-23 18:30:00",
          "2023-05-23 18:45:00",
          "2023-05-23 19:00:00",
          "2023-05-23 19:15:00",
          "2023-05-23 19:30:00",
          "2023-05-23 19:45:00",
          "2023-05-23 20:00:00",
          "2023-05-23 20:15:00",
          "2023-05-23 20:30:00",
          "2023-05-23 20:45:00",
          "2023-05-23 21:00:00",
          "2023-05-23 21:15:00",
          "2023-05-23 21:30:00",
          "2023-05-23 21:45:00",
          "2023-05-23 22:00:00",
          "2023-05-23 22:15:00",
          "2023-05-23 22:30:00",
          "2023-05-23 22:45:00",
          "2023-05-23 23:00:00",
          "2023-05-23 23:15:00",
          "2023-05-23 23:30:00",
          "2023-05-23 23:45:00",
          "2023-05-24 00:00:00",
          "2023-05-24 00:15:00",
          "2023-05-24 00:30:00",
          "2023-05-24 00:45:00",
          "2023-05-24 01:00:00",
          "2023-05-24 01:15:00",
          "2023-05-24 01:30:00",
          "2023-05-24 01:45:00",
          "2023-05-24 02:00:00",
          "2023-05-24 02:15:00",
          "2023-05-24 02:30:00",
          "2023-05-24 02:45:00",
          "2023-05-24 03:00:00",
          "2023-05-24 03:15:00",
          "2023-05-24 03:30:00",
          "2023-05-24 03:45:00",
          "2023-05-24 04:00:00",
          "2023-05-24 04:15:00",
          "2023-05-24 04:30:00",
          "2023-05-24 04:45:00",
          "2023-05-24 05:00:00",
          "2023-05-24 05:15:00",
          "2023-05-24 05:30:00",
          "2023-05-24 05:45:00",
          "2023-05-24 06:00:00",
          "2023-05-24 06:15:00",
          "2023-05-24 06:30:00",
          "2023-05-24 06:45:00",
          "2023-05-24 07:00:00",
          "2023-05-24 07:15:00",
          "2023-05-24 07:30:00",
          "2023-05-24 07:45:00",
          "2023-05-24 08:00:00",
          "2023-05-24 08:15:00",
          "2023-05-24 08:30:00",
          "2023-05-24 08:45:00",
          "2023-05-24 09:00:00"
         ],
         "y": [
          0.4590936441059707,
          0.4590958381850713,
          0.459080500072485,
          0.45915362806607957,
          0.4591936760536262,
          0.4594946569204431,
          0.45967532901858776,
          0.45945704525972453,
          0.4593753205655192,
          0.4591689096313199,
          0.4590167840433801,
          0.4590648376737444,
          0.4590648376737444,
          0.45905809728524405,
          0.45907109359131687,
          0.4590717717334934,
          0.4590714111073606,
          0.45908799317408133,
          0.45908286519546593,
          0.4591243997206705,
          0.45909561963891693,
          0.4588856747838622,
          0.45865942868799886,
          0.45856238126566384,
          0.458366108812124,
          0.458330437356858,
          0.45830903877055545,
          0.4583588100054713,
          0.4582287424456263,
          0.4582539010448537,
          0.4582539010448537,
          0.4582551935604724,
          0.4582894667614473,
          0.4581879281379911,
          0.4578727202426502,
          0.4576255165840616,
          0.4573802857288644,
          0.4570615018540947,
          0.45690719887998277,
          0.4569248015925088,
          0.4569188335044923,
          0.4571453172716579,
          0.45741098671438174,
          0.4575512965038182,
          0.4579329827499117,
          0.4581865711085194,
          0.4584327202255181,
          0.4587966279492483,
          0.4594615479648203,
          0.46004913261078473,
          0.46086100779765554,
          0.4614505708506582,
          0.46196469447037813,
          0.46196469447037813,
          0.4617612599968299,
          0.4612088105691317,
          0.4607401470628013,
          0.46055044806465467,
          0.4602789275470369,
          0.4601952740430203,
          0.4600916225138062,
          0.46007527129776504,
          0.4599066031925344,
          0.45977681572555584,
          0.45953579042335124,
          0.45834178795851127,
          0.4576657775842874,
          0.4570601345311775,
          0.45682904555806386,
          0.45689611297641414,
          0.45689953583759263,
          0.45679398644209596,
          0.4568119750220018,
          0.4566375590055892,
          0.4565718857119865,
          0.45655150479411655,
          0.4565140150701621,
          0.45636844447426866,
          0.456059227759349,
          0.4561202500097659,
          0.4562404642615904,
          0.4564878302809734,
          0.4562666217434439,
          0.4558760967256923,
          0.455342518956352,
          0.4546641342952681,
          0.4541439325864006,
          0.4536069469607193,
          0.4532021132001886,
          0.4528256443774586,
          0.45244805164766894,
          0.45215197411152475,
          0.4517950243243871,
          0.4515291327338494,
          0.4513965971972496,
          0.451374411805407,
          0.45143152718723245,
          0.4514672844890371,
          0.4514973001785346,
          0.45177869932472414
         ]
        },
        {
         "line": {
          "color": "blue",
          "dash": "dash",
          "width": 1
         },
         "name": "upper_KC",
         "type": "scatter",
         "x": [
          "2023-05-23 08:15:00",
          "2023-05-23 08:30:00",
          "2023-05-23 08:45:00",
          "2023-05-23 09:00:00",
          "2023-05-23 09:15:00",
          "2023-05-23 09:30:00",
          "2023-05-23 09:45:00",
          "2023-05-23 10:00:00",
          "2023-05-23 10:15:00",
          "2023-05-23 10:30:00",
          "2023-05-23 10:45:00",
          "2023-05-23 11:00:00",
          "2023-05-23 11:15:00",
          "2023-05-23 11:30:00",
          "2023-05-23 11:45:00",
          "2023-05-23 12:00:00",
          "2023-05-23 12:15:00",
          "2023-05-23 12:30:00",
          "2023-05-23 12:45:00",
          "2023-05-23 13:00:00",
          "2023-05-23 13:15:00",
          "2023-05-23 13:30:00",
          "2023-05-23 13:45:00",
          "2023-05-23 14:00:00",
          "2023-05-23 14:15:00",
          "2023-05-23 14:30:00",
          "2023-05-23 14:45:00",
          "2023-05-23 15:00:00",
          "2023-05-23 15:15:00",
          "2023-05-23 15:30:00",
          "2023-05-23 15:45:00",
          "2023-05-23 16:00:00",
          "2023-05-23 16:15:00",
          "2023-05-23 16:30:00",
          "2023-05-23 16:45:00",
          "2023-05-23 17:00:00",
          "2023-05-23 17:15:00",
          "2023-05-23 17:30:00",
          "2023-05-23 17:45:00",
          "2023-05-23 18:00:00",
          "2023-05-23 18:15:00",
          "2023-05-23 18:30:00",
          "2023-05-23 18:45:00",
          "2023-05-23 19:00:00",
          "2023-05-23 19:15:00",
          "2023-05-23 19:30:00",
          "2023-05-23 19:45:00",
          "2023-05-23 20:00:00",
          "2023-05-23 20:15:00",
          "2023-05-23 20:30:00",
          "2023-05-23 20:45:00",
          "2023-05-23 21:00:00",
          "2023-05-23 21:15:00",
          "2023-05-23 21:30:00",
          "2023-05-23 21:45:00",
          "2023-05-23 22:00:00",
          "2023-05-23 22:15:00",
          "2023-05-23 22:30:00",
          "2023-05-23 22:45:00",
          "2023-05-23 23:00:00",
          "2023-05-23 23:15:00",
          "2023-05-23 23:30:00",
          "2023-05-23 23:45:00",
          "2023-05-24 00:00:00",
          "2023-05-24 00:15:00",
          "2023-05-24 00:30:00",
          "2023-05-24 00:45:00",
          "2023-05-24 01:00:00",
          "2023-05-24 01:15:00",
          "2023-05-24 01:30:00",
          "2023-05-24 01:45:00",
          "2023-05-24 02:00:00",
          "2023-05-24 02:15:00",
          "2023-05-24 02:30:00",
          "2023-05-24 02:45:00",
          "2023-05-24 03:00:00",
          "2023-05-24 03:15:00",
          "2023-05-24 03:30:00",
          "2023-05-24 03:45:00",
          "2023-05-24 04:00:00",
          "2023-05-24 04:15:00",
          "2023-05-24 04:30:00",
          "2023-05-24 04:45:00",
          "2023-05-24 05:00:00",
          "2023-05-24 05:15:00",
          "2023-05-24 05:30:00",
          "2023-05-24 05:45:00",
          "2023-05-24 06:00:00",
          "2023-05-24 06:15:00",
          "2023-05-24 06:30:00",
          "2023-05-24 06:45:00",
          "2023-05-24 07:00:00",
          "2023-05-24 07:15:00",
          "2023-05-24 07:30:00",
          "2023-05-24 07:45:00",
          "2023-05-24 08:00:00",
          "2023-05-24 08:15:00",
          "2023-05-24 08:30:00",
          "2023-05-24 08:45:00",
          "2023-05-24 09:00:00"
         ],
         "y": [
          0.46279856872022734,
          0.4625679198620042,
          0.46242738897800345,
          0.46223059098200286,
          0.46215730171254776,
          0.4620182468557209,
          0.46193765651831703,
          0.46196899169680494,
          0.46200053866102225,
          0.46216589526810903,
          0.4620784597648166,
          0.4621114670803044,
          0.46214938215661266,
          0.4620863126735923,
          0.4620397103693028,
          0.46191067212033865,
          0.46191100446209515,
          0.46189991274171427,
          0.46181492860685713,
          0.4617372143147014,
          0.4616163571665738,
          0.46171974677265126,
          0.4615666109958056,
          0.46143359081474994,
          0.46145657430297726,
          0.4613558335206178,
          0.46134113651686914,
          0.4612504753319838,
          0.46126947981707767,
          0.4613359380321545,
          0.46119122202630825,
          0.4614423634760704,
          0.4613478428440576,
          0.46162278050877437,
          0.4617240931435426,
          0.4618128943901712,
          0.46192645904650376,
          0.46239392103804855,
          0.46267366266749427,
          0.4628243603643134,
          0.463174476661711,
          0.4634954809050363,
          0.4635699389223024,
          0.46398222275461115,
          0.4640968186174091,
          0.4643669425051528,
          0.4645147711405796,
          0.4647579945695651,
          0.4649892682841896,
          0.4651271285961552,
          0.46521401430594517,
          0.465514193523046,
          0.46570752197340126,
          0.4659816088873283,
          0.46601949818054134,
          0.46591686214771566,
          0.4657415235754037,
          0.46569761019805755,
          0.4656521356165925,
          0.46543492914084855,
          0.4653231238425124,
          0.46542346496205556,
          0.46519556224168185,
          0.46500773274319424,
          0.4651190540626135,
          0.46587649877850196,
          0.46553349900059243,
          0.4649469537277575,
          0.4644429621408924,
          0.464151514478912,
          0.4636166936645644,
          0.4632377493619163,
          0.4628199767506589,
          0.46252225370508454,
          0.46218866212234183,
          0.46213254173646146,
          0.462197534148014,
          0.46224298248473866,
          0.46211744021478623,
          0.462027451084825,
          0.4617174599784932,
          0.4613751945278581,
          0.46150561370461124,
          0.4611936839401364,
          0.4609980141328389,
          0.46098882974505,
          0.46078131524595,
          0.4606724397466863,
          0.4602983597927434,
          0.45967593073951735,
          0.45916485242324145,
          0.45872124289174304,
          0.4584473805477898,
          0.45808922044819156,
          0.4577111803667022,
          0.45743278393639275,
          0.45708682322068495,
          0.4568983099078332,
          0.4569099808336817,
          0.4568245297730123
         ]
        },
        {
         "line": {
          "color": "blue",
          "dash": "dash",
          "width": 1
         },
         "name": "lower_KC",
         "type": "scatter",
         "x": [
          "2023-05-23 08:15:00",
          "2023-05-23 08:30:00",
          "2023-05-23 08:45:00",
          "2023-05-23 09:00:00",
          "2023-05-23 09:15:00",
          "2023-05-23 09:30:00",
          "2023-05-23 09:45:00",
          "2023-05-23 10:00:00",
          "2023-05-23 10:15:00",
          "2023-05-23 10:30:00",
          "2023-05-23 10:45:00",
          "2023-05-23 11:00:00",
          "2023-05-23 11:15:00",
          "2023-05-23 11:30:00",
          "2023-05-23 11:45:00",
          "2023-05-23 12:00:00",
          "2023-05-23 12:15:00",
          "2023-05-23 12:30:00",
          "2023-05-23 12:45:00",
          "2023-05-23 13:00:00",
          "2023-05-23 13:15:00",
          "2023-05-23 13:30:00",
          "2023-05-23 13:45:00",
          "2023-05-23 14:00:00",
          "2023-05-23 14:15:00",
          "2023-05-23 14:30:00",
          "2023-05-23 14:45:00",
          "2023-05-23 15:00:00",
          "2023-05-23 15:15:00",
          "2023-05-23 15:30:00",
          "2023-05-23 15:45:00",
          "2023-05-23 16:00:00",
          "2023-05-23 16:15:00",
          "2023-05-23 16:30:00",
          "2023-05-23 16:45:00",
          "2023-05-23 17:00:00",
          "2023-05-23 17:15:00",
          "2023-05-23 17:30:00",
          "2023-05-23 17:45:00",
          "2023-05-23 18:00:00",
          "2023-05-23 18:15:00",
          "2023-05-23 18:30:00",
          "2023-05-23 18:45:00",
          "2023-05-23 19:00:00",
          "2023-05-23 19:15:00",
          "2023-05-23 19:30:00",
          "2023-05-23 19:45:00",
          "2023-05-23 20:00:00",
          "2023-05-23 20:15:00",
          "2023-05-23 20:30:00",
          "2023-05-23 20:45:00",
          "2023-05-23 21:00:00",
          "2023-05-23 21:15:00",
          "2023-05-23 21:30:00",
          "2023-05-23 21:45:00",
          "2023-05-23 22:00:00",
          "2023-05-23 22:15:00",
          "2023-05-23 22:30:00",
          "2023-05-23 22:45:00",
          "2023-05-23 23:00:00",
          "2023-05-23 23:15:00",
          "2023-05-23 23:30:00",
          "2023-05-23 23:45:00",
          "2023-05-24 00:00:00",
          "2023-05-24 00:15:00",
          "2023-05-24 00:30:00",
          "2023-05-24 00:45:00",
          "2023-05-24 01:00:00",
          "2023-05-24 01:15:00",
          "2023-05-24 01:30:00",
          "2023-05-24 01:45:00",
          "2023-05-24 02:00:00",
          "2023-05-24 02:15:00",
          "2023-05-24 02:30:00",
          "2023-05-24 02:45:00",
          "2023-05-24 03:00:00",
          "2023-05-24 03:15:00",
          "2023-05-24 03:30:00",
          "2023-05-24 03:45:00",
          "2023-05-24 04:00:00",
          "2023-05-24 04:15:00",
          "2023-05-24 04:30:00",
          "2023-05-24 04:45:00",
          "2023-05-24 05:00:00",
          "2023-05-24 05:15:00",
          "2023-05-24 05:30:00",
          "2023-05-24 05:45:00",
          "2023-05-24 06:00:00",
          "2023-05-24 06:15:00",
          "2023-05-24 06:30:00",
          "2023-05-24 06:45:00",
          "2023-05-24 07:00:00",
          "2023-05-24 07:15:00",
          "2023-05-24 07:30:00",
          "2023-05-24 07:45:00",
          "2023-05-24 08:00:00",
          "2023-05-24 08:15:00",
          "2023-05-24 08:30:00",
          "2023-05-24 08:45:00",
          "2023-05-24 09:00:00"
         ],
         "y": [
          0.4591514312797727,
          0.4592020801379959,
          0.4591826110219966,
          0.45913940901799727,
          0.4590826982874523,
          0.4590117531442791,
          0.4589323434816828,
          0.45880100830319515,
          0.4586994613389778,
          0.4583741047318909,
          0.4583215402351835,
          0.45832853291969555,
          0.45829061784338726,
          0.45838368732640783,
          0.4584102896306973,
          0.45855932787966147,
          0.4585689955379047,
          0.45862008725828574,
          0.4586950713931428,
          0.45880278568529875,
          0.4588336428334262,
          0.4585702532273487,
          0.45855338900419446,
          0.4585864091852499,
          0.4583634256970227,
          0.4583341664793823,
          0.458268863483131,
          0.4584095246680162,
          0.4582905201829224,
          0.45824406196784556,
          0.4583887779736918,
          0.4581676365239297,
          0.45823215715594245,
          0.45803721949122567,
          0.4581359068564573,
          0.45827710560982865,
          0.4584335409534962,
          0.4583360789619515,
          0.45842633733250576,
          0.45858563963568644,
          0.458615523338289,
          0.45867451909496376,
          0.45908006107769755,
          0.459217777245389,
          0.459653181382591,
          0.45991305749484707,
          0.4603252288594204,
          0.4605120054304348,
          0.4608607317158103,
          0.46131287140384486,
          0.46176598569405486,
          0.461765806476954,
          0.4618224780265987,
          0.46154839111267165,
          0.46141050181945864,
          0.4612731378522844,
          0.46117847642459625,
          0.4609823898019424,
          0.46075786438340743,
          0.4608850708591516,
          0.4608368761574876,
          0.4607165350379444,
          0.46074443775831814,
          0.4606022672568058,
          0.46015094593738654,
          0.45859350122149806,
          0.45815650099940747,
          0.45809304627224257,
          0.4580170378591074,
          0.45774848552108793,
          0.4577233063354356,
          0.4576522506380837,
          0.45765002324934123,
          0.45763774629491555,
          0.45770133787765815,
          0.45769745826353847,
          0.45753246585198604,
          0.4571170175152613,
          0.4568325597852138,
          0.4566125489151749,
          0.45663254002150677,
          0.4566148054721419,
          0.45597438629538883,
          0.45568631605986354,
          0.45529198586716113,
          0.45501117025495,
          0.45490868475405,
          0.4546675602533136,
          0.45462164020725665,
          0.45470406926048273,
          0.45471514757675857,
          0.45469875710825697,
          0.4543926194522103,
          0.45428077955180834,
          0.45415881963329785,
          0.45381721606360736,
          0.45358317677931503,
          0.4534316900921669,
          0.45331001916631836,
          0.4531154702269878
         ]
        }
       ],
       "layout": {
        "autosize": false,
        "height": 600,
        "margin": {
         "b": 100,
         "l": 50,
         "pad": 4,
         "r": 50,
         "t": 50
        },
        "paper_bgcolor": "LightSteelBlue",
        "template": {
         "data": {
          "bar": [
           {
            "error_x": {
             "color": "#2a3f5f"
            },
            "error_y": {
             "color": "#2a3f5f"
            },
            "marker": {
             "line": {
              "color": "#E5ECF6",
              "width": 0.5
             },
             "pattern": {
              "fillmode": "overlay",
              "size": 10,
              "solidity": 0.2
             }
            },
            "type": "bar"
           }
          ],
          "barpolar": [
           {
            "marker": {
             "line": {
              "color": "#E5ECF6",
              "width": 0.5
             },
             "pattern": {
              "fillmode": "overlay",
              "size": 10,
              "solidity": 0.2
             }
            },
            "type": "barpolar"
           }
          ],
          "carpet": [
           {
            "aaxis": {
             "endlinecolor": "#2a3f5f",
             "gridcolor": "white",
             "linecolor": "white",
             "minorgridcolor": "white",
             "startlinecolor": "#2a3f5f"
            },
            "baxis": {
             "endlinecolor": "#2a3f5f",
             "gridcolor": "white",
             "linecolor": "white",
             "minorgridcolor": "white",
             "startlinecolor": "#2a3f5f"
            },
            "type": "carpet"
           }
          ],
          "choropleth": [
           {
            "colorbar": {
             "outlinewidth": 0,
             "ticks": ""
            },
            "type": "choropleth"
           }
          ],
          "contour": [
           {
            "colorbar": {
             "outlinewidth": 0,
             "ticks": ""
            },
            "colorscale": [
             [
              0,
              "#0d0887"
             ],
             [
              0.1111111111111111,
              "#46039f"
             ],
             [
              0.2222222222222222,
              "#7201a8"
             ],
             [
              0.3333333333333333,
              "#9c179e"
             ],
             [
              0.4444444444444444,
              "#bd3786"
             ],
             [
              0.5555555555555556,
              "#d8576b"
             ],
             [
              0.6666666666666666,
              "#ed7953"
             ],
             [
              0.7777777777777778,
              "#fb9f3a"
             ],
             [
              0.8888888888888888,
              "#fdca26"
             ],
             [
              1,
              "#f0f921"
             ]
            ],
            "type": "contour"
           }
          ],
          "contourcarpet": [
           {
            "colorbar": {
             "outlinewidth": 0,
             "ticks": ""
            },
            "type": "contourcarpet"
           }
          ],
          "heatmap": [
           {
            "colorbar": {
             "outlinewidth": 0,
             "ticks": ""
            },
            "colorscale": [
             [
              0,
              "#0d0887"
             ],
             [
              0.1111111111111111,
              "#46039f"
             ],
             [
              0.2222222222222222,
              "#7201a8"
             ],
             [
              0.3333333333333333,
              "#9c179e"
             ],
             [
              0.4444444444444444,
              "#bd3786"
             ],
             [
              0.5555555555555556,
              "#d8576b"
             ],
             [
              0.6666666666666666,
              "#ed7953"
             ],
             [
              0.7777777777777778,
              "#fb9f3a"
             ],
             [
              0.8888888888888888,
              "#fdca26"
             ],
             [
              1,
              "#f0f921"
             ]
            ],
            "type": "heatmap"
           }
          ],
          "heatmapgl": [
           {
            "colorbar": {
             "outlinewidth": 0,
             "ticks": ""
            },
            "colorscale": [
             [
              0,
              "#0d0887"
             ],
             [
              0.1111111111111111,
              "#46039f"
             ],
             [
              0.2222222222222222,
              "#7201a8"
             ],
             [
              0.3333333333333333,
              "#9c179e"
             ],
             [
              0.4444444444444444,
              "#bd3786"
             ],
             [
              0.5555555555555556,
              "#d8576b"
             ],
             [
              0.6666666666666666,
              "#ed7953"
             ],
             [
              0.7777777777777778,
              "#fb9f3a"
             ],
             [
              0.8888888888888888,
              "#fdca26"
             ],
             [
              1,
              "#f0f921"
             ]
            ],
            "type": "heatmapgl"
           }
          ],
          "histogram": [
           {
            "marker": {
             "pattern": {
              "fillmode": "overlay",
              "size": 10,
              "solidity": 0.2
             }
            },
            "type": "histogram"
           }
          ],
          "histogram2d": [
           {
            "colorbar": {
             "outlinewidth": 0,
             "ticks": ""
            },
            "colorscale": [
             [
              0,
              "#0d0887"
             ],
             [
              0.1111111111111111,
              "#46039f"
             ],
             [
              0.2222222222222222,
              "#7201a8"
             ],
             [
              0.3333333333333333,
              "#9c179e"
             ],
             [
              0.4444444444444444,
              "#bd3786"
             ],
             [
              0.5555555555555556,
              "#d8576b"
             ],
             [
              0.6666666666666666,
              "#ed7953"
             ],
             [
              0.7777777777777778,
              "#fb9f3a"
             ],
             [
              0.8888888888888888,
              "#fdca26"
             ],
             [
              1,
              "#f0f921"
             ]
            ],
            "type": "histogram2d"
           }
          ],
          "histogram2dcontour": [
           {
            "colorbar": {
             "outlinewidth": 0,
             "ticks": ""
            },
            "colorscale": [
             [
              0,
              "#0d0887"
             ],
             [
              0.1111111111111111,
              "#46039f"
             ],
             [
              0.2222222222222222,
              "#7201a8"
             ],
             [
              0.3333333333333333,
              "#9c179e"
             ],
             [
              0.4444444444444444,
              "#bd3786"
             ],
             [
              0.5555555555555556,
              "#d8576b"
             ],
             [
              0.6666666666666666,
              "#ed7953"
             ],
             [
              0.7777777777777778,
              "#fb9f3a"
             ],
             [
              0.8888888888888888,
              "#fdca26"
             ],
             [
              1,
              "#f0f921"
             ]
            ],
            "type": "histogram2dcontour"
           }
          ],
          "mesh3d": [
           {
            "colorbar": {
             "outlinewidth": 0,
             "ticks": ""
            },
            "type": "mesh3d"
           }
          ],
          "parcoords": [
           {
            "line": {
             "colorbar": {
              "outlinewidth": 0,
              "ticks": ""
             }
            },
            "type": "parcoords"
           }
          ],
          "pie": [
           {
            "automargin": true,
            "type": "pie"
           }
          ],
          "scatter": [
           {
            "fillpattern": {
             "fillmode": "overlay",
             "size": 10,
             "solidity": 0.2
            },
            "type": "scatter"
           }
          ],
          "scatter3d": [
           {
            "line": {
             "colorbar": {
              "outlinewidth": 0,
              "ticks": ""
             }
            },
            "marker": {
             "colorbar": {
              "outlinewidth": 0,
              "ticks": ""
             }
            },
            "type": "scatter3d"
           }
          ],
          "scattercarpet": [
           {
            "marker": {
             "colorbar": {
              "outlinewidth": 0,
              "ticks": ""
             }
            },
            "type": "scattercarpet"
           }
          ],
          "scattergeo": [
           {
            "marker": {
             "colorbar": {
              "outlinewidth": 0,
              "ticks": ""
             }
            },
            "type": "scattergeo"
           }
          ],
          "scattergl": [
           {
            "marker": {
             "colorbar": {
              "outlinewidth": 0,
              "ticks": ""
             }
            },
            "type": "scattergl"
           }
          ],
          "scattermapbox": [
           {
            "marker": {
             "colorbar": {
              "outlinewidth": 0,
              "ticks": ""
             }
            },
            "type": "scattermapbox"
           }
          ],
          "scatterpolar": [
           {
            "marker": {
             "colorbar": {
              "outlinewidth": 0,
              "ticks": ""
             }
            },
            "type": "scatterpolar"
           }
          ],
          "scatterpolargl": [
           {
            "marker": {
             "colorbar": {
              "outlinewidth": 0,
              "ticks": ""
             }
            },
            "type": "scatterpolargl"
           }
          ],
          "scatterternary": [
           {
            "marker": {
             "colorbar": {
              "outlinewidth": 0,
              "ticks": ""
             }
            },
            "type": "scatterternary"
           }
          ],
          "surface": [
           {
            "colorbar": {
             "outlinewidth": 0,
             "ticks": ""
            },
            "colorscale": [
             [
              0,
              "#0d0887"
             ],
             [
              0.1111111111111111,
              "#46039f"
             ],
             [
              0.2222222222222222,
              "#7201a8"
             ],
             [
              0.3333333333333333,
              "#9c179e"
             ],
             [
              0.4444444444444444,
              "#bd3786"
             ],
             [
              0.5555555555555556,
              "#d8576b"
             ],
             [
              0.6666666666666666,
              "#ed7953"
             ],
             [
              0.7777777777777778,
              "#fb9f3a"
             ],
             [
              0.8888888888888888,
              "#fdca26"
             ],
             [
              1,
              "#f0f921"
             ]
            ],
            "type": "surface"
           }
          ],
          "table": [
           {
            "cells": {
             "fill": {
              "color": "#EBF0F8"
             },
             "line": {
              "color": "white"
             }
            },
            "header": {
             "fill": {
              "color": "#C8D4E3"
             },
             "line": {
              "color": "white"
             }
            },
            "type": "table"
           }
          ]
         },
         "layout": {
          "annotationdefaults": {
           "arrowcolor": "#2a3f5f",
           "arrowhead": 0,
           "arrowwidth": 1
          },
          "autotypenumbers": "strict",
          "coloraxis": {
           "colorbar": {
            "outlinewidth": 0,
            "ticks": ""
           }
          },
          "colorscale": {
           "diverging": [
            [
             0,
             "#8e0152"
            ],
            [
             0.1,
             "#c51b7d"
            ],
            [
             0.2,
             "#de77ae"
            ],
            [
             0.3,
             "#f1b6da"
            ],
            [
             0.4,
             "#fde0ef"
            ],
            [
             0.5,
             "#f7f7f7"
            ],
            [
             0.6,
             "#e6f5d0"
            ],
            [
             0.7,
             "#b8e186"
            ],
            [
             0.8,
             "#7fbc41"
            ],
            [
             0.9,
             "#4d9221"
            ],
            [
             1,
             "#276419"
            ]
           ],
           "sequential": [
            [
             0,
             "#0d0887"
            ],
            [
             0.1111111111111111,
             "#46039f"
            ],
            [
             0.2222222222222222,
             "#7201a8"
            ],
            [
             0.3333333333333333,
             "#9c179e"
            ],
            [
             0.4444444444444444,
             "#bd3786"
            ],
            [
             0.5555555555555556,
             "#d8576b"
            ],
            [
             0.6666666666666666,
             "#ed7953"
            ],
            [
             0.7777777777777778,
             "#fb9f3a"
            ],
            [
             0.8888888888888888,
             "#fdca26"
            ],
            [
             1,
             "#f0f921"
            ]
           ],
           "sequentialminus": [
            [
             0,
             "#0d0887"
            ],
            [
             0.1111111111111111,
             "#46039f"
            ],
            [
             0.2222222222222222,
             "#7201a8"
            ],
            [
             0.3333333333333333,
             "#9c179e"
            ],
            [
             0.4444444444444444,
             "#bd3786"
            ],
            [
             0.5555555555555556,
             "#d8576b"
            ],
            [
             0.6666666666666666,
             "#ed7953"
            ],
            [
             0.7777777777777778,
             "#fb9f3a"
            ],
            [
             0.8888888888888888,
             "#fdca26"
            ],
            [
             1,
             "#f0f921"
            ]
           ]
          },
          "colorway": [
           "#636efa",
           "#EF553B",
           "#00cc96",
           "#ab63fa",
           "#FFA15A",
           "#19d3f3",
           "#FF6692",
           "#B6E880",
           "#FF97FF",
           "#FECB52"
          ],
          "font": {
           "color": "#2a3f5f"
          },
          "geo": {
           "bgcolor": "white",
           "lakecolor": "white",
           "landcolor": "#E5ECF6",
           "showlakes": true,
           "showland": true,
           "subunitcolor": "white"
          },
          "hoverlabel": {
           "align": "left"
          },
          "hovermode": "closest",
          "mapbox": {
           "style": "light"
          },
          "paper_bgcolor": "white",
          "plot_bgcolor": "#E5ECF6",
          "polar": {
           "angularaxis": {
            "gridcolor": "white",
            "linecolor": "white",
            "ticks": ""
           },
           "bgcolor": "#E5ECF6",
           "radialaxis": {
            "gridcolor": "white",
            "linecolor": "white",
            "ticks": ""
           }
          },
          "scene": {
           "xaxis": {
            "backgroundcolor": "#E5ECF6",
            "gridcolor": "white",
            "gridwidth": 2,
            "linecolor": "white",
            "showbackground": true,
            "ticks": "",
            "zerolinecolor": "white"
           },
           "yaxis": {
            "backgroundcolor": "#E5ECF6",
            "gridcolor": "white",
            "gridwidth": 2,
            "linecolor": "white",
            "showbackground": true,
            "ticks": "",
            "zerolinecolor": "white"
           },
           "zaxis": {
            "backgroundcolor": "#E5ECF6",
            "gridcolor": "white",
            "gridwidth": 2,
            "linecolor": "white",
            "showbackground": true,
            "ticks": "",
            "zerolinecolor": "white"
           }
          },
          "shapedefaults": {
           "line": {
            "color": "#2a3f5f"
           }
          },
          "ternary": {
           "aaxis": {
            "gridcolor": "white",
            "linecolor": "white",
            "ticks": ""
           },
           "baxis": {
            "gridcolor": "white",
            "linecolor": "white",
            "ticks": ""
           },
           "bgcolor": "#E5ECF6",
           "caxis": {
            "gridcolor": "white",
            "linecolor": "white",
            "ticks": ""
           }
          },
          "title": {
           "x": 0.05
          },
          "xaxis": {
           "automargin": true,
           "gridcolor": "white",
           "linecolor": "white",
           "ticks": "",
           "title": {
            "standoff": 15
           },
           "zerolinecolor": "white",
           "zerolinewidth": 2
          },
          "yaxis": {
           "automargin": true,
           "gridcolor": "white",
           "linecolor": "white",
           "ticks": "",
           "title": {
            "standoff": 15
           },
           "zerolinecolor": "white",
           "zerolinewidth": 2
          }
         }
        },
        "title": {
         "text": "XRP 15m"
        },
        "width": 1500,
        "xaxis": {
         "rangeslider": {
          "visible": false
         },
         "type": "category"
        }
       }
      }
     },
     "metadata": {},
     "output_type": "display_data"
    },
    {
     "data": {
      "application/vnd.plotly.v1+json": {
       "config": {
        "plotlyServerURL": "https://plotly.com"
       },
       "data": [
        {
         "name": "squeeze",
         "type": "bar",
         "x": [
          "2023-05-23 08:15:00",
          "2023-05-23 08:30:00",
          "2023-05-23 08:45:00",
          "2023-05-23 09:00:00",
          "2023-05-23 09:15:00",
          "2023-05-23 09:30:00",
          "2023-05-23 09:45:00",
          "2023-05-23 10:00:00",
          "2023-05-23 10:15:00",
          "2023-05-23 10:30:00",
          "2023-05-23 10:45:00",
          "2023-05-23 11:00:00",
          "2023-05-23 11:15:00",
          "2023-05-23 11:30:00",
          "2023-05-23 11:45:00",
          "2023-05-23 12:00:00",
          "2023-05-23 12:15:00",
          "2023-05-23 12:30:00",
          "2023-05-23 12:45:00",
          "2023-05-23 13:00:00",
          "2023-05-23 13:15:00",
          "2023-05-23 13:30:00",
          "2023-05-23 13:45:00",
          "2023-05-23 14:00:00",
          "2023-05-23 14:15:00",
          "2023-05-23 14:30:00",
          "2023-05-23 14:45:00",
          "2023-05-23 15:00:00",
          "2023-05-23 15:15:00",
          "2023-05-23 15:30:00",
          "2023-05-23 15:45:00",
          "2023-05-23 16:00:00",
          "2023-05-23 16:15:00",
          "2023-05-23 16:30:00",
          "2023-05-23 16:45:00",
          "2023-05-23 17:00:00",
          "2023-05-23 17:15:00",
          "2023-05-23 17:30:00",
          "2023-05-23 17:45:00",
          "2023-05-23 18:00:00",
          "2023-05-23 18:15:00",
          "2023-05-23 18:30:00",
          "2023-05-23 18:45:00",
          "2023-05-23 19:00:00",
          "2023-05-23 19:15:00",
          "2023-05-23 19:30:00",
          "2023-05-23 19:45:00",
          "2023-05-23 20:00:00",
          "2023-05-23 20:15:00",
          "2023-05-23 20:30:00",
          "2023-05-23 20:45:00",
          "2023-05-23 21:00:00",
          "2023-05-23 21:15:00",
          "2023-05-23 21:30:00",
          "2023-05-23 21:45:00",
          "2023-05-23 22:00:00",
          "2023-05-23 22:15:00",
          "2023-05-23 22:30:00",
          "2023-05-23 22:45:00",
          "2023-05-23 23:00:00",
          "2023-05-23 23:15:00",
          "2023-05-23 23:30:00",
          "2023-05-23 23:45:00",
          "2023-05-24 00:00:00",
          "2023-05-24 00:15:00",
          "2023-05-24 00:30:00",
          "2023-05-24 00:45:00",
          "2023-05-24 01:00:00",
          "2023-05-24 01:15:00",
          "2023-05-24 01:30:00",
          "2023-05-24 01:45:00",
          "2023-05-24 02:00:00",
          "2023-05-24 02:15:00",
          "2023-05-24 02:30:00",
          "2023-05-24 02:45:00",
          "2023-05-24 03:00:00",
          "2023-05-24 03:15:00",
          "2023-05-24 03:30:00",
          "2023-05-24 03:45:00",
          "2023-05-24 04:00:00",
          "2023-05-24 04:15:00",
          "2023-05-24 04:30:00",
          "2023-05-24 04:45:00",
          "2023-05-24 05:00:00",
          "2023-05-24 05:15:00",
          "2023-05-24 05:30:00",
          "2023-05-24 05:45:00",
          "2023-05-24 06:00:00",
          "2023-05-24 06:15:00",
          "2023-05-24 06:30:00",
          "2023-05-24 06:45:00",
          "2023-05-24 07:00:00",
          "2023-05-24 07:15:00",
          "2023-05-24 07:30:00",
          "2023-05-24 07:45:00",
          "2023-05-24 08:00:00",
          "2023-05-24 08:15:00",
          "2023-05-24 08:30:00",
          "2023-05-24 08:45:00",
          "2023-05-24 09:00:00"
         ],
         "y": [
          -0.002099821428571409,
          -0.0017522142857142702,
          -0.0014618928571428417,
          -0.0011636428571428505,
          -0.0008213928571428539,
          -0.0003949285714285734,
          -0.0001222142857142854,
          -0.00019650000000000136,
          -0.00016282142857144098,
          -0.0001670000000000083,
          -0.00016853571428572566,
          -0.00013889285714285913,
          0.00023282142857142946,
          0.00043135714285714175,
          0.0006548571428571346,
          0.0007548214285714161,
          0.0008354285714285623,
          0.0008322142857142827,
          0.0007673214285714288,
          0.0005982142857142773,
          0.0005470357142857021,
          0.00031814285714283944,
          0.000060142857142838214,
          -0.00010682142857144161,
          -0.00031214285714287123,
          -0.00033232142857145107,
          -0.000332071428571447,
          -0.000406857142857155,
          -0.000633857142857164,
          -0.0007854285714285902,
          -0.000953000000000019,
          -0.0008412500000000133,
          -0.0005035714285714407,
          -0.00013664285714286422,
          0.0004357499999999921,
          0.0009480714285714256,
          0.0014912500000000084,
          0.0021058214285714456,
          0.002544571428571442,
          0.002734214285714307,
          0.0030112142857143115,
          0.0029532857142857286,
          0.002972250000000017,
          0.003195428571428581,
          0.0031733571428571505,
          0.003242892857142874,
          0.0033580357142857387,
          0.003193857142857172,
          0.0029727857142857516,
          0.002838785714285744,
          0.002512785714285741,
          0.0019367500000000166,
          0.001416178571428584,
          0.0005987857142857231,
          0.00001128571428572235,
          -0.0007423571428571293,
          -0.0013416428571428412,
          -0.0015716785714285576,
          -0.0018921785714285625,
          -0.0020744285714285613,
          -0.002151214285714268,
          -0.002216678571428556,
          -0.0023663928571428395,
          -0.0023656428571428574,
          -0.0024853214285714383,
          -0.002990678571428579,
          -0.0031777857142857176,
          -0.0033535,
          -0.00317296428571427,
          -0.0026997142857142654,
          -0.002314107142857123,
          -0.002030964285714267,
          -0.0016313214285714134,
          -0.0014917857142857035,
          -0.0012056785714285555,
          -0.0009037857142856994,
          -0.0006735714285714205,
          -0.0006183571428571338,
          -0.0007845714285714173,
          -0.00048757142857141253,
          -0.00014732142857141247,
          0.00017975000000001844,
          -0.000020749999999992563,
          -0.00036285714285713396,
          -0.00072096428571429,
          -0.001451964285714301,
          -0.0019857500000000122,
          -0.0025391785714285716,
          -0.0028453928571428575,
          -0.0030673214285714353,
          -0.003308535714285717,
          -0.003450571428571434,
          -0.003634000000000004,
          -0.003723678571428573,
          -0.00364121428571429,
          -0.0034928214285714376,
          -0.00325350000000001,
          -0.0028947142857143034,
          -0.0023810357142857222,
          -0.0016531428571428647
         ]
        }
       ],
       "layout": {
        "autosize": false,
        "height": 300,
        "margin": {
         "b": 1,
         "l": 50,
         "pad": 4,
         "r": 150,
         "t": 10
        },
        "paper_bgcolor": "LightSteelBlue",
        "template": {
         "data": {
          "bar": [
           {
            "error_x": {
             "color": "#2a3f5f"
            },
            "error_y": {
             "color": "#2a3f5f"
            },
            "marker": {
             "line": {
              "color": "#E5ECF6",
              "width": 0.5
             },
             "pattern": {
              "fillmode": "overlay",
              "size": 10,
              "solidity": 0.2
             }
            },
            "type": "bar"
           }
          ],
          "barpolar": [
           {
            "marker": {
             "line": {
              "color": "#E5ECF6",
              "width": 0.5
             },
             "pattern": {
              "fillmode": "overlay",
              "size": 10,
              "solidity": 0.2
             }
            },
            "type": "barpolar"
           }
          ],
          "carpet": [
           {
            "aaxis": {
             "endlinecolor": "#2a3f5f",
             "gridcolor": "white",
             "linecolor": "white",
             "minorgridcolor": "white",
             "startlinecolor": "#2a3f5f"
            },
            "baxis": {
             "endlinecolor": "#2a3f5f",
             "gridcolor": "white",
             "linecolor": "white",
             "minorgridcolor": "white",
             "startlinecolor": "#2a3f5f"
            },
            "type": "carpet"
           }
          ],
          "choropleth": [
           {
            "colorbar": {
             "outlinewidth": 0,
             "ticks": ""
            },
            "type": "choropleth"
           }
          ],
          "contour": [
           {
            "colorbar": {
             "outlinewidth": 0,
             "ticks": ""
            },
            "colorscale": [
             [
              0,
              "#0d0887"
             ],
             [
              0.1111111111111111,
              "#46039f"
             ],
             [
              0.2222222222222222,
              "#7201a8"
             ],
             [
              0.3333333333333333,
              "#9c179e"
             ],
             [
              0.4444444444444444,
              "#bd3786"
             ],
             [
              0.5555555555555556,
              "#d8576b"
             ],
             [
              0.6666666666666666,
              "#ed7953"
             ],
             [
              0.7777777777777778,
              "#fb9f3a"
             ],
             [
              0.8888888888888888,
              "#fdca26"
             ],
             [
              1,
              "#f0f921"
             ]
            ],
            "type": "contour"
           }
          ],
          "contourcarpet": [
           {
            "colorbar": {
             "outlinewidth": 0,
             "ticks": ""
            },
            "type": "contourcarpet"
           }
          ],
          "heatmap": [
           {
            "colorbar": {
             "outlinewidth": 0,
             "ticks": ""
            },
            "colorscale": [
             [
              0,
              "#0d0887"
             ],
             [
              0.1111111111111111,
              "#46039f"
             ],
             [
              0.2222222222222222,
              "#7201a8"
             ],
             [
              0.3333333333333333,
              "#9c179e"
             ],
             [
              0.4444444444444444,
              "#bd3786"
             ],
             [
              0.5555555555555556,
              "#d8576b"
             ],
             [
              0.6666666666666666,
              "#ed7953"
             ],
             [
              0.7777777777777778,
              "#fb9f3a"
             ],
             [
              0.8888888888888888,
              "#fdca26"
             ],
             [
              1,
              "#f0f921"
             ]
            ],
            "type": "heatmap"
           }
          ],
          "heatmapgl": [
           {
            "colorbar": {
             "outlinewidth": 0,
             "ticks": ""
            },
            "colorscale": [
             [
              0,
              "#0d0887"
             ],
             [
              0.1111111111111111,
              "#46039f"
             ],
             [
              0.2222222222222222,
              "#7201a8"
             ],
             [
              0.3333333333333333,
              "#9c179e"
             ],
             [
              0.4444444444444444,
              "#bd3786"
             ],
             [
              0.5555555555555556,
              "#d8576b"
             ],
             [
              0.6666666666666666,
              "#ed7953"
             ],
             [
              0.7777777777777778,
              "#fb9f3a"
             ],
             [
              0.8888888888888888,
              "#fdca26"
             ],
             [
              1,
              "#f0f921"
             ]
            ],
            "type": "heatmapgl"
           }
          ],
          "histogram": [
           {
            "marker": {
             "pattern": {
              "fillmode": "overlay",
              "size": 10,
              "solidity": 0.2
             }
            },
            "type": "histogram"
           }
          ],
          "histogram2d": [
           {
            "colorbar": {
             "outlinewidth": 0,
             "ticks": ""
            },
            "colorscale": [
             [
              0,
              "#0d0887"
             ],
             [
              0.1111111111111111,
              "#46039f"
             ],
             [
              0.2222222222222222,
              "#7201a8"
             ],
             [
              0.3333333333333333,
              "#9c179e"
             ],
             [
              0.4444444444444444,
              "#bd3786"
             ],
             [
              0.5555555555555556,
              "#d8576b"
             ],
             [
              0.6666666666666666,
              "#ed7953"
             ],
             [
              0.7777777777777778,
              "#fb9f3a"
             ],
             [
              0.8888888888888888,
              "#fdca26"
             ],
             [
              1,
              "#f0f921"
             ]
            ],
            "type": "histogram2d"
           }
          ],
          "histogram2dcontour": [
           {
            "colorbar": {
             "outlinewidth": 0,
             "ticks": ""
            },
            "colorscale": [
             [
              0,
              "#0d0887"
             ],
             [
              0.1111111111111111,
              "#46039f"
             ],
             [
              0.2222222222222222,
              "#7201a8"
             ],
             [
              0.3333333333333333,
              "#9c179e"
             ],
             [
              0.4444444444444444,
              "#bd3786"
             ],
             [
              0.5555555555555556,
              "#d8576b"
             ],
             [
              0.6666666666666666,
              "#ed7953"
             ],
             [
              0.7777777777777778,
              "#fb9f3a"
             ],
             [
              0.8888888888888888,
              "#fdca26"
             ],
             [
              1,
              "#f0f921"
             ]
            ],
            "type": "histogram2dcontour"
           }
          ],
          "mesh3d": [
           {
            "colorbar": {
             "outlinewidth": 0,
             "ticks": ""
            },
            "type": "mesh3d"
           }
          ],
          "parcoords": [
           {
            "line": {
             "colorbar": {
              "outlinewidth": 0,
              "ticks": ""
             }
            },
            "type": "parcoords"
           }
          ],
          "pie": [
           {
            "automargin": true,
            "type": "pie"
           }
          ],
          "scatter": [
           {
            "fillpattern": {
             "fillmode": "overlay",
             "size": 10,
             "solidity": 0.2
            },
            "type": "scatter"
           }
          ],
          "scatter3d": [
           {
            "line": {
             "colorbar": {
              "outlinewidth": 0,
              "ticks": ""
             }
            },
            "marker": {
             "colorbar": {
              "outlinewidth": 0,
              "ticks": ""
             }
            },
            "type": "scatter3d"
           }
          ],
          "scattercarpet": [
           {
            "marker": {
             "colorbar": {
              "outlinewidth": 0,
              "ticks": ""
             }
            },
            "type": "scattercarpet"
           }
          ],
          "scattergeo": [
           {
            "marker": {
             "colorbar": {
              "outlinewidth": 0,
              "ticks": ""
             }
            },
            "type": "scattergeo"
           }
          ],
          "scattergl": [
           {
            "marker": {
             "colorbar": {
              "outlinewidth": 0,
              "ticks": ""
             }
            },
            "type": "scattergl"
           }
          ],
          "scattermapbox": [
           {
            "marker": {
             "colorbar": {
              "outlinewidth": 0,
              "ticks": ""
             }
            },
            "type": "scattermapbox"
           }
          ],
          "scatterpolar": [
           {
            "marker": {
             "colorbar": {
              "outlinewidth": 0,
              "ticks": ""
             }
            },
            "type": "scatterpolar"
           }
          ],
          "scatterpolargl": [
           {
            "marker": {
             "colorbar": {
              "outlinewidth": 0,
              "ticks": ""
             }
            },
            "type": "scatterpolargl"
           }
          ],
          "scatterternary": [
           {
            "marker": {
             "colorbar": {
              "outlinewidth": 0,
              "ticks": ""
             }
            },
            "type": "scatterternary"
           }
          ],
          "surface": [
           {
            "colorbar": {
             "outlinewidth": 0,
             "ticks": ""
            },
            "colorscale": [
             [
              0,
              "#0d0887"
             ],
             [
              0.1111111111111111,
              "#46039f"
             ],
             [
              0.2222222222222222,
              "#7201a8"
             ],
             [
              0.3333333333333333,
              "#9c179e"
             ],
             [
              0.4444444444444444,
              "#bd3786"
             ],
             [
              0.5555555555555556,
              "#d8576b"
             ],
             [
              0.6666666666666666,
              "#ed7953"
             ],
             [
              0.7777777777777778,
              "#fb9f3a"
             ],
             [
              0.8888888888888888,
              "#fdca26"
             ],
             [
              1,
              "#f0f921"
             ]
            ],
            "type": "surface"
           }
          ],
          "table": [
           {
            "cells": {
             "fill": {
              "color": "#EBF0F8"
             },
             "line": {
              "color": "white"
             }
            },
            "header": {
             "fill": {
              "color": "#C8D4E3"
             },
             "line": {
              "color": "white"
             }
            },
            "type": "table"
           }
          ]
         },
         "layout": {
          "annotationdefaults": {
           "arrowcolor": "#2a3f5f",
           "arrowhead": 0,
           "arrowwidth": 1
          },
          "autotypenumbers": "strict",
          "coloraxis": {
           "colorbar": {
            "outlinewidth": 0,
            "ticks": ""
           }
          },
          "colorscale": {
           "diverging": [
            [
             0,
             "#8e0152"
            ],
            [
             0.1,
             "#c51b7d"
            ],
            [
             0.2,
             "#de77ae"
            ],
            [
             0.3,
             "#f1b6da"
            ],
            [
             0.4,
             "#fde0ef"
            ],
            [
             0.5,
             "#f7f7f7"
            ],
            [
             0.6,
             "#e6f5d0"
            ],
            [
             0.7,
             "#b8e186"
            ],
            [
             0.8,
             "#7fbc41"
            ],
            [
             0.9,
             "#4d9221"
            ],
            [
             1,
             "#276419"
            ]
           ],
           "sequential": [
            [
             0,
             "#0d0887"
            ],
            [
             0.1111111111111111,
             "#46039f"
            ],
            [
             0.2222222222222222,
             "#7201a8"
            ],
            [
             0.3333333333333333,
             "#9c179e"
            ],
            [
             0.4444444444444444,
             "#bd3786"
            ],
            [
             0.5555555555555556,
             "#d8576b"
            ],
            [
             0.6666666666666666,
             "#ed7953"
            ],
            [
             0.7777777777777778,
             "#fb9f3a"
            ],
            [
             0.8888888888888888,
             "#fdca26"
            ],
            [
             1,
             "#f0f921"
            ]
           ],
           "sequentialminus": [
            [
             0,
             "#0d0887"
            ],
            [
             0.1111111111111111,
             "#46039f"
            ],
            [
             0.2222222222222222,
             "#7201a8"
            ],
            [
             0.3333333333333333,
             "#9c179e"
            ],
            [
             0.4444444444444444,
             "#bd3786"
            ],
            [
             0.5555555555555556,
             "#d8576b"
            ],
            [
             0.6666666666666666,
             "#ed7953"
            ],
            [
             0.7777777777777778,
             "#fb9f3a"
            ],
            [
             0.8888888888888888,
             "#fdca26"
            ],
            [
             1,
             "#f0f921"
            ]
           ]
          },
          "colorway": [
           "#636efa",
           "#EF553B",
           "#00cc96",
           "#ab63fa",
           "#FFA15A",
           "#19d3f3",
           "#FF6692",
           "#B6E880",
           "#FF97FF",
           "#FECB52"
          ],
          "font": {
           "color": "#2a3f5f"
          },
          "geo": {
           "bgcolor": "white",
           "lakecolor": "white",
           "landcolor": "#E5ECF6",
           "showlakes": true,
           "showland": true,
           "subunitcolor": "white"
          },
          "hoverlabel": {
           "align": "left"
          },
          "hovermode": "closest",
          "mapbox": {
           "style": "light"
          },
          "paper_bgcolor": "white",
          "plot_bgcolor": "#E5ECF6",
          "polar": {
           "angularaxis": {
            "gridcolor": "white",
            "linecolor": "white",
            "ticks": ""
           },
           "bgcolor": "#E5ECF6",
           "radialaxis": {
            "gridcolor": "white",
            "linecolor": "white",
            "ticks": ""
           }
          },
          "scene": {
           "xaxis": {
            "backgroundcolor": "#E5ECF6",
            "gridcolor": "white",
            "gridwidth": 2,
            "linecolor": "white",
            "showbackground": true,
            "ticks": "",
            "zerolinecolor": "white"
           },
           "yaxis": {
            "backgroundcolor": "#E5ECF6",
            "gridcolor": "white",
            "gridwidth": 2,
            "linecolor": "white",
            "showbackground": true,
            "ticks": "",
            "zerolinecolor": "white"
           },
           "zaxis": {
            "backgroundcolor": "#E5ECF6",
            "gridcolor": "white",
            "gridwidth": 2,
            "linecolor": "white",
            "showbackground": true,
            "ticks": "",
            "zerolinecolor": "white"
           }
          },
          "shapedefaults": {
           "line": {
            "color": "#2a3f5f"
           }
          },
          "ternary": {
           "aaxis": {
            "gridcolor": "white",
            "linecolor": "white",
            "ticks": ""
           },
           "baxis": {
            "gridcolor": "white",
            "linecolor": "white",
            "ticks": ""
           },
           "bgcolor": "#E5ECF6",
           "caxis": {
            "gridcolor": "white",
            "linecolor": "white",
            "ticks": ""
           }
          },
          "title": {
           "x": 0.05
          },
          "xaxis": {
           "automargin": true,
           "gridcolor": "white",
           "linecolor": "white",
           "ticks": "",
           "title": {
            "standoff": 15
           },
           "zerolinecolor": "white",
           "zerolinewidth": 2
          },
          "yaxis": {
           "automargin": true,
           "gridcolor": "white",
           "linecolor": "white",
           "ticks": "",
           "title": {
            "standoff": 15
           },
           "zerolinecolor": "white",
           "zerolinewidth": 2
          }
         }
        },
        "width": 1500
       }
      }
     },
     "metadata": {},
     "output_type": "display_data"
    }
   ],
   "source": [
    "## Obtenemos los dataframes de los activos y temporalidades filtradas, con indicador aplicado y parámetros default\n",
    "## Visualizar las entradas generadas\n",
    "\n",
    "ultimas_velas = 100\n",
    "\n",
    "for activo in SMI_default:\n",
    "    if len(temporalidades_filtradas[activo]) > 0:\n",
    "        for t in temporalidades_filtradas[activo]:\n",
    "            # print(f'{activo} {t}')\n",
    "            # display(SMI_default[activo][t])\n",
    "            # print()\n",
    "            df = SMI_default[activo][t].iloc[-ultimas_velas:]\n",
    "\n",
    "            candlestick = go.Candlestick(x=df.index,\n",
    "                            open=df['open'],\n",
    "                            high=df['high'],\n",
    "                            low=df['low'],\n",
    "                            close=df['close'])\n",
    "\n",
    "            upper_band = go.Scatter(x=df.index, y=df['upper_BB'], name='upper_band', line=dict(color='red', width=1))\n",
    "            lower_band = go.Scatter(x=df.index, y=df['lower_BB'], name='lower_band', line=dict(color='red', width=1))\n",
    "            \n",
    "            upper_KC = go.Scatter(x=df.index, y=df['upper_KC'], name='upper_KC', line=dict(color='blue', width=1, dash='dash'))\n",
    "            lower_KC = go.Scatter(x=df.index, y=df['lower_KC'], name='lower_KC', line=dict(color='blue', width=1, dash='dash'))\n",
    "            \n",
    "            bar = go.Bar(x=df.index, y=df['value'], name='squeeze')\n",
    "\n",
    "\n",
    "            fig = go.Figure(data=[candlestick, upper_band, lower_band, upper_KC, lower_KC])\n",
    "            fig2 = go.Figure(data=[bar])\n",
    "            \n",
    "            fig.layout.xaxis.type = 'category'\n",
    "            fig.layout.xaxis.rangeslider.visible = False\n",
    "            # update figure 1\n",
    "            fig.update_layout(\n",
    "                autosize=False,\n",
    "                width=1500,\n",
    "                height=600,\n",
    "                margin=dict(\n",
    "                    \n",
    "                    l=50,\n",
    "                    r=50,\n",
    "                    b=100,\n",
    "                    t=50,\n",
    "                    pad=4\n",
    "                ),\n",
    "                paper_bgcolor=\"LightSteelBlue\",\n",
    "                title=f'{activo} {t}'\n",
    "            )\n",
    "            # update figure 2\n",
    "            fig2.update_layout(\n",
    "                autosize=False,\n",
    "                width=1500,\n",
    "                height=300,\n",
    "                margin=dict(\n",
    "                    \n",
    "                    l=50,\n",
    "                    r=150,\n",
    "                    b=1,\n",
    "                    t=10,\n",
    "                    pad=4\n",
    "                ),\n",
    "                paper_bgcolor=\"LightSteelBlue\",\n",
    "            )\n",
    "\n",
    "            for k in entradas_backtest:\n",
    "                if k.startswith(f'{activo}_{t}') and k.endswith('short'):\n",
    "                    for x_value in entradas_backtest[f'{activo}_{t}_short'].index:\n",
    "                        if x_value in df.index:\n",
    "                            fig.add_shape(\n",
    "                                type=\"line\",\n",
    "                                x0=x_value,\n",
    "                                y0=df['low'].min(),\n",
    "                                x1=x_value,\n",
    "                                y1=df['high'].max(),\n",
    "                                line=dict(color=\"red\", width=1, dash=\"dash\"),\n",
    "                            )\n",
    "                            fig2.add_shape(\n",
    "                                type=\"line\",\n",
    "                                x0=x_value,\n",
    "                                y0=df['value'].min(),\n",
    "                                x1=x_value,\n",
    "                                y1=df['value'].max(),\n",
    "                                line=dict(color=\"red\", width=1, dash=\"dash\"),\n",
    "                            )\n",
    "\n",
    "                if k.startswith(f'{activo}_{t}') and k.endswith('long'):\n",
    "                    for x_value in entradas_backtest[f'{activo}_{t}_long'].index:\n",
    "                        if x_value in df.index:\n",
    "                            fig.add_shape(\n",
    "                                type=\"line\",\n",
    "                                x0=x_value,\n",
    "                                y0=df['low'].min(),\n",
    "                                x1=x_value,\n",
    "                                y1=df['high'].max(),\n",
    "                                line=dict(color=\"green\", width=1, dash=\"dash\"),\n",
    "                            )\n",
    "                            fig2.add_shape(\n",
    "                                type=\"line\",\n",
    "                                x0=x_value,\n",
    "                                y0=df['value'].min(),\n",
    "                                x1=x_value,\n",
    "                                y1=df['value'].max(),\n",
    "                                line=dict(color=\"green\", width=1, dash=\"dash\"),\n",
    "                            )\n",
    "\n",
    "# agregar unas lineas horizontales a un ATR de distancia\n",
    "\n",
    "\n",
    "            fig.show()\n",
    "            fig2.show()            "
   ]
  },
  {
   "attachments": {},
   "cell_type": "markdown",
   "metadata": {},
   "source": [
    "# Optimizar los parámetros del SMI para la temporalidad DIARIA y verificar la correlacion en las otras temporalidades\n",
    "\n",
    "SMI_optimized = {<br />\n",
    "    'BTC': <br />\n",
    "    {'1d': pd.DataFrame()},<br />\n",
    "    'ETH': <br />\n",
    "    {'1d': pd.DataFrame()},<br />\n",
    "    'XRP':<br />\n",
    "    {'1d': pd.DataFrame()}<br />\n",
    "<br />\n",
    "}<br />"
   ]
  },
  {
   "cell_type": "code",
   "execution_count": null,
   "metadata": {},
   "outputs": [
    {
     "ename": "SystemExit",
     "evalue": "0",
     "output_type": "error",
     "traceback": [
      "An exception has occurred, use %tb to see the full traceback.\n",
      "\u001b[1;31mSystemExit\u001b[0m\u001b[1;31m:\u001b[0m 0\n"
     ]
    },
    {
     "name": "stderr",
     "output_type": "stream",
     "text": [
      "c:\\Users\\Agustin\\Desktop\\Zartex\\BingX-Backtesting\\venv\\Lib\\site-packages\\IPython\\core\\interactiveshell.py:3516: UserWarning:\n",
      "\n",
      "To exit: use 'exit', 'quit', or Ctrl-D.\n",
      "\n"
     ]
    }
   ],
   "source": [
    "import numpy as np\n",
    "from tqdm import tqdm\n",
    "from copy import copy\n",
    "\n",
    "# import warnings\n",
    "# warnings.filterwarnings(\"ignore\")\n",
    "\n",
    "import sys\n",
    "sys.exit(0)"
   ]
  },
  {
   "cell_type": "code",
   "execution_count": null,
   "metadata": {},
   "outputs": [
    {
     "name": "stderr",
     "output_type": "stream",
     "text": [
      "100%|██████████| 11/11 [00:00<00:00, 21.24it/s]\n",
      "100%|██████████| 11/11 [00:00<00:00, 21.13it/s]\n",
      "100%|██████████| 11/11 [00:00<00:00, 21.63it/s]\n",
      "100%|██████████| 11/11 [00:00<00:00, 21.37it/s]\n",
      "100%|██████████| 11/11 [00:00<00:00, 21.58it/s]\n",
      "100%|██████████| 11/11 [00:00<00:00, 21.37it/s]\n",
      "100%|██████████| 11/11 [00:00<00:00, 20.95it/s]\n",
      "100%|██████████| 11/11 [00:00<00:00, 21.49it/s]\n",
      "100%|██████████| 11/11 [00:00<00:00, 21.66it/s]\n",
      "100%|██████████| 11/11 [00:00<00:00, 21.57it/s]\n",
      "100%|██████████| 11/11 [00:00<00:00, 21.17it/s]\n",
      "100%|██████████| 11/11 [00:00<00:00, 21.39it/s]\n",
      "100%|██████████| 11/11 [00:00<00:00, 21.04it/s]\n",
      "100%|██████████| 11/11 [00:00<00:00, 21.80it/s]\n",
      "100%|██████████| 11/11 [00:00<00:00, 21.62it/s]\n",
      "100%|██████████| 11/11 [00:00<00:00, 21.32it/s]\n",
      "100%|██████████| 11/11 [00:00<00:00, 21.49it/s]\n",
      "100%|██████████| 11/11 [00:00<00:00, 21.46it/s]\n",
      "100%|██████████| 11/11 [00:00<00:00, 21.55it/s]\n",
      "100%|██████████| 11/11 [00:00<00:00, 21.76it/s]\n",
      "100%|██████████| 11/11 [00:00<00:00, 21.52it/s]\n",
      "100%|██████████| 11/11 [00:00<00:00, 21.43it/s]\n",
      "100%|██████████| 11/11 [00:00<00:00, 21.58it/s]\n",
      "100%|██████████| 11/11 [00:00<00:00, 21.46it/s]\n",
      "100%|██████████| 11/11 [00:00<00:00, 21.49it/s]\n",
      "100%|██████████| 11/11 [00:00<00:00, 20.76it/s]\n",
      "100%|██████████| 11/11 [00:00<00:00, 21.15it/s]\n",
      "100%|██████████| 11/11 [00:00<00:00, 19.28it/s]\n",
      "100%|██████████| 11/11 [00:00<00:00, 20.77it/s]\n",
      "100%|██████████| 11/11 [00:00<00:00, 21.97it/s]\n",
      "100%|██████████| 11/11 [00:00<00:00, 21.17it/s]\n",
      "100%|██████████| 11/11 [00:00<00:00, 21.36it/s]\n",
      "100%|██████████| 11/11 [00:00<00:00, 21.86it/s]\n",
      "100%|██████████| 11/11 [00:00<00:00, 21.95it/s]\n",
      "100%|██████████| 11/11 [00:00<00:00, 22.13it/s]\n",
      "100%|██████████| 11/11 [00:00<00:00, 21.54it/s]\n",
      "100%|██████████| 11/11 [00:00<00:00, 21.50it/s]\n",
      "100%|██████████| 11/11 [00:00<00:00, 21.29it/s]\n",
      "100%|██████████| 11/11 [00:00<00:00, 21.41it/s]\n",
      "100%|██████████| 11/11 [00:00<00:00, 22.15it/s]\n",
      "100%|██████████| 11/11 [00:00<00:00, 21.46it/s]\n",
      "100%|██████████| 11/11 [00:00<00:00, 21.69it/s]\n",
      "100%|██████████| 11/11 [00:00<00:00, 22.02it/s]\n",
      "100%|██████████| 11/11 [00:00<00:00, 21.37it/s]\n",
      "100%|██████████| 11/11 [00:00<00:00, 21.80it/s]\n",
      "100%|██████████| 11/11 [00:00<00:00, 21.81it/s]\n",
      "100%|██████████| 11/11 [00:00<00:00, 17.54it/s]\n",
      "100%|██████████| 11/11 [00:00<00:00, 20.96it/s]\n",
      "100%|██████████| 11/11 [00:00<00:00, 17.48it/s]\n",
      "100%|██████████| 11/11 [00:00<00:00, 19.56it/s]\n",
      "100%|██████████| 11/11 [00:00<00:00, 21.12it/s]\n",
      "100%|██████████| 11/11 [00:00<00:00, 18.87it/s]\n",
      "100%|██████████| 11/11 [00:00<00:00, 19.38it/s]\n",
      "100%|██████████| 11/11 [00:00<00:00, 18.10it/s]\n",
      "100%|██████████| 11/11 [00:00<00:00, 19.45it/s]\n",
      "100%|██████████| 11/11 [00:00<00:00, 19.56it/s]\n",
      "100%|██████████| 11/11 [00:00<00:00, 20.42it/s]\n",
      "100%|██████████| 11/11 [00:00<00:00, 21.09it/s]\n",
      "100%|██████████| 11/11 [00:00<00:00, 21.59it/s]\n",
      "100%|██████████| 11/11 [00:00<00:00, 20.69it/s]\n",
      "100%|██████████| 11/11 [00:00<00:00, 17.67it/s]\n",
      "100%|██████████| 11/11 [00:00<00:00, 20.69it/s]\n",
      "100%|██████████| 11/11 [00:00<00:00, 20.24it/s]\n",
      "100%|██████████| 11/11 [00:00<00:00, 19.38it/s]\n",
      "100%|██████████| 11/11 [00:00<00:00, 19.42it/s]\n",
      "100%|██████████| 11/11 [00:00<00:00, 18.26it/s]\n",
      "100%|██████████| 11/11 [00:00<00:00, 19.37it/s]\n",
      "100%|██████████| 11/11 [00:00<00:00, 19.56it/s]\n",
      "100%|██████████| 11/11 [00:00<00:00, 19.35it/s]\n",
      "100%|██████████| 11/11 [00:00<00:00, 19.66it/s]\n",
      "100%|██████████| 11/11 [00:00<00:00, 20.34it/s]\n",
      "100%|██████████| 11/11 [00:00<00:00, 19.38it/s]\n",
      "100%|██████████| 11/11 [00:00<00:00, 20.03it/s]\n",
      "100%|██████████| 11/11 [00:00<00:00, 19.77it/s]\n",
      "100%|██████████| 11/11 [00:00<00:00, 20.77it/s]\n",
      "100%|██████████| 11/11 [00:00<00:00, 20.34it/s]\n",
      "100%|██████████| 11/11 [00:00<00:00, 20.73it/s]\n",
      "100%|██████████| 11/11 [00:00<00:00, 20.69it/s]\n",
      "100%|██████████| 11/11 [00:00<00:00, 20.13it/s]\n",
      "100%|██████████| 11/11 [00:00<00:00, 20.73it/s]\n",
      "100%|██████████| 11/11 [00:00<00:00, 20.97it/s]\n",
      "100%|██████████| 11/11 [00:00<00:00, 20.62it/s]\n",
      "100%|██████████| 11/11 [00:00<00:00, 20.88it/s]\n",
      "100%|██████████| 11/11 [00:00<00:00, 20.39it/s]\n",
      "100%|██████████| 11/11 [00:00<00:00, 21.05it/s]\n",
      "100%|██████████| 11/11 [00:00<00:00, 19.84it/s]\n",
      "100%|██████████| 11/11 [00:00<00:00, 20.44it/s]\n",
      "100%|██████████| 11/11 [00:00<00:00, 21.62it/s]\n",
      "100%|██████████| 11/11 [00:00<00:00, 21.46it/s]\n",
      "100%|██████████| 11/11 [00:00<00:00, 20.95it/s]\n",
      "100%|██████████| 11/11 [00:00<00:00, 19.62it/s]\n",
      "100%|██████████| 11/11 [00:00<00:00, 20.65it/s]\n",
      "100%|██████████| 11/11 [00:00<00:00, 21.13it/s]\n",
      "100%|██████████| 11/11 [00:00<00:00, 20.93it/s]\n",
      "100%|██████████| 11/11 [00:00<00:00, 21.25it/s]\n",
      "100%|██████████| 11/11 [00:00<00:00, 20.97it/s]\n",
      "100%|██████████| 11/11 [00:00<00:00, 20.28it/s]\n",
      "100%|██████████| 11/11 [00:00<00:00, 20.54it/s]\n",
      "100%|██████████| 11/11 [00:00<00:00, 20.27it/s]\n",
      "100%|██████████| 11/11 [00:00<00:00, 21.35it/s]\n",
      "100%|██████████| 11/11 [00:00<00:00, 21.36it/s]\n",
      "100%|██████████| 11/11 [00:00<00:00, 21.59it/s]\n",
      "100%|██████████| 11/11 [00:00<00:00, 21.73it/s]\n",
      "100%|██████████| 11/11 [00:00<00:00, 21.64it/s]\n",
      "100%|██████████| 11/11 [00:00<00:00, 21.09it/s]\n",
      "100%|██████████| 11/11 [00:00<00:00, 20.54it/s]\n",
      "100%|██████████| 11/11 [00:00<00:00, 20.39it/s]\n",
      "100%|██████████| 11/11 [00:00<00:00, 20.89it/s]\n",
      "100%|██████████| 11/11 [00:00<00:00, 20.89it/s]\n",
      "100%|██████████| 11/11 [00:00<00:00, 20.81it/s]\n",
      "100%|██████████| 11/11 [00:00<00:00, 20.93it/s]\n",
      "100%|██████████| 11/11 [00:00<00:00, 19.59it/s]\n",
      "100%|██████████| 11/11 [00:00<00:00, 19.05it/s]\n",
      "100%|██████████| 11/11 [00:00<00:00, 20.73it/s]\n",
      "100%|██████████| 11/11 [00:00<00:00, 20.97it/s]\n",
      "100%|██████████| 11/11 [00:00<00:00, 20.66it/s]\n",
      "100%|██████████| 11/11 [00:00<00:00, 20.42it/s]\n",
      "100%|██████████| 11/11 [00:00<00:00, 20.20it/s]\n",
      "100%|██████████| 11/11 [00:00<00:00, 20.93it/s]\n",
      "100%|██████████| 11/11 [00:00<00:00, 20.85it/s]\n",
      "100%|██████████| 11/11 [00:00<00:00, 20.97it/s]\n",
      "100%|██████████| 11/11 [00:00<00:00, 20.02it/s]\n",
      "100%|██████████| 11/11 [00:00<00:00, 20.61it/s]\n",
      "100%|██████████| 11/11 [00:00<00:00, 20.89it/s]\n",
      "100%|██████████| 11/11 [00:00<00:00, 20.97it/s]\n",
      "100%|██████████| 11/11 [00:00<00:00, 20.93it/s]\n",
      "100%|██████████| 11/11 [00:00<00:00, 20.42it/s]\n",
      "100%|██████████| 11/11 [00:00<00:00, 20.54it/s]\n",
      "100%|██████████| 11/11 [00:00<00:00, 20.97it/s]\n",
      "100%|██████████| 11/11 [00:00<00:00, 21.17it/s]\n",
      "100%|██████████| 11/11 [00:00<00:00, 21.05it/s]\n",
      "100%|██████████| 11/11 [00:00<00:00, 20.20it/s]\n",
      "100%|██████████| 11/11 [00:00<00:00, 20.73it/s]\n",
      "100%|██████████| 11/11 [00:00<00:00, 21.01it/s]\n",
      "100%|██████████| 11/11 [00:00<00:00, 21.05it/s]\n",
      "100%|██████████| 11/11 [00:00<00:00, 21.01it/s]\n",
      "100%|██████████| 11/11 [00:00<00:00, 20.35it/s]\n",
      "100%|██████████| 11/11 [00:00<00:00, 21.29it/s]\n",
      "100%|██████████| 11/11 [00:00<00:00, 21.35it/s]\n",
      "100%|██████████| 11/11 [00:00<00:00, 21.42it/s]\n",
      "100%|██████████| 11/11 [00:00<00:00, 22.15it/s]\n",
      "100%|██████████| 11/11 [00:00<00:00, 21.46it/s]\n",
      "100%|██████████| 11/11 [00:00<00:00, 21.80it/s]\n",
      "100%|██████████| 11/11 [00:00<00:00, 21.54it/s]\n",
      "100%|██████████| 11/11 [00:00<00:00, 21.29it/s]\n",
      "100%|██████████| 11/11 [00:00<00:00, 21.18it/s]\n",
      "100%|██████████| 11/11 [00:00<00:00, 21.13it/s]\n",
      "100%|██████████| 11/11 [00:00<00:00, 20.99it/s]\n",
      "100%|██████████| 11/11 [00:00<00:00, 21.52it/s]\n",
      "100%|██████████| 11/11 [00:00<00:00, 21.69it/s]\n",
      "100%|██████████| 11/11 [00:00<00:00, 21.57it/s]\n",
      "100%|██████████| 11/11 [00:00<00:00, 21.74it/s]\n",
      "100%|██████████| 11/11 [00:00<00:00, 21.90it/s]\n",
      "100%|██████████| 11/11 [00:00<00:00, 21.84it/s]\n",
      "100%|██████████| 11/11 [00:00<00:00, 21.60it/s]\n",
      "100%|██████████| 11/11 [00:00<00:00, 21.48it/s]\n",
      "100%|██████████| 11/11 [00:00<00:00, 21.17it/s]\n",
      "100%|██████████| 11/11 [00:00<00:00, 21.93it/s]\n",
      "100%|██████████| 11/11 [00:00<00:00, 21.51it/s]\n",
      "100%|██████████| 11/11 [00:00<00:00, 22.13it/s]\n",
      "100%|██████████| 11/11 [00:00<00:00, 22.04it/s]\n",
      "100%|██████████| 11/11 [00:00<00:00, 21.66it/s]\n",
      "100%|██████████| 11/11 [00:00<00:00, 21.20it/s]\n",
      "100%|██████████| 11/11 [00:00<00:00, 21.14it/s]\n",
      "100%|██████████| 11/11 [00:00<00:00, 22.09it/s]\n",
      "100%|██████████| 11/11 [00:00<00:00, 21.50it/s]\n",
      "100%|██████████| 11/11 [00:00<00:00, 21.41it/s]\n",
      "100%|██████████| 11/11 [00:00<00:00, 21.61it/s]\n",
      "100%|██████████| 11/11 [00:00<00:00, 21.70it/s]\n",
      "100%|██████████| 11/11 [00:00<00:00, 21.80it/s]\n",
      "100%|██████████| 11/11 [00:00<00:00, 21.17it/s]\n",
      "100%|██████████| 11/11 [00:00<00:00, 21.49it/s]\n",
      "100%|██████████| 11/11 [00:00<00:00, 20.16it/s]\n",
      "100%|██████████| 11/11 [00:00<00:00, 20.75it/s]\n",
      "100%|██████████| 11/11 [00:00<00:00, 21.35it/s]\n",
      "100%|██████████| 11/11 [00:00<00:00, 21.54it/s]\n",
      "100%|██████████| 11/11 [00:00<00:00, 21.16it/s]\n",
      "100%|██████████| 11/11 [00:00<00:00, 21.78it/s]\n",
      "100%|██████████| 11/11 [00:00<00:00, 20.97it/s]\n",
      "100%|██████████| 11/11 [00:00<00:00, 21.68it/s]\n",
      "100%|██████████| 11/11 [00:00<00:00, 20.78it/s]\n",
      "100%|██████████| 11/11 [00:00<00:00, 21.56it/s]\n",
      "100%|██████████| 11/11 [00:00<00:00, 21.34it/s]\n",
      "100%|██████████| 11/11 [00:00<00:00, 21.43it/s]\n",
      "100%|██████████| 11/11 [00:00<00:00, 21.67it/s]\n",
      "100%|██████████| 11/11 [00:00<00:00, 21.47it/s]\n",
      "100%|██████████| 11/11 [00:00<00:00, 21.19it/s]\n",
      "100%|██████████| 11/11 [00:00<00:00, 21.78it/s]\n",
      "100%|██████████| 11/11 [00:00<00:00, 20.65it/s]\n",
      "100%|██████████| 11/11 [00:00<00:00, 21.19it/s]\n",
      "100%|██████████| 11/11 [00:00<00:00, 21.31it/s]\n",
      "100%|██████████| 11/11 [00:00<00:00, 21.28it/s]\n",
      "100%|██████████| 11/11 [00:00<00:00, 21.71it/s]\n",
      "100%|██████████| 11/11 [00:00<00:00, 21.96it/s]\n",
      "100%|██████████| 11/11 [00:00<00:00, 21.66it/s]\n",
      "100%|██████████| 11/11 [00:00<00:00, 21.86it/s]\n",
      "100%|██████████| 11/11 [00:00<00:00, 21.57it/s]\n",
      "100%|██████████| 11/11 [00:00<00:00, 21.70it/s]\n",
      "100%|██████████| 11/11 [00:00<00:00, 21.58it/s]\n",
      "100%|██████████| 11/11 [00:00<00:00, 21.73it/s]\n",
      "100%|██████████| 11/11 [00:00<00:00, 21.85it/s]\n",
      "100%|██████████| 11/11 [00:00<00:00, 21.55it/s]\n",
      "100%|██████████| 11/11 [00:00<00:00, 21.63it/s]\n",
      "100%|██████████| 11/11 [00:00<00:00, 21.31it/s]\n",
      "100%|██████████| 11/11 [00:00<00:00, 21.66it/s]\n",
      "100%|██████████| 11/11 [00:00<00:00, 21.78it/s]\n",
      "100%|██████████| 11/11 [00:00<00:00, 21.42it/s]\n",
      "100%|██████████| 11/11 [00:00<00:00, 21.62it/s]\n",
      "100%|██████████| 11/11 [00:00<00:00, 21.87it/s]\n",
      "100%|██████████| 11/11 [00:00<00:00, 22.09it/s]\n",
      "100%|██████████| 11/11 [00:00<00:00, 21.74it/s]\n",
      "100%|██████████| 11/11 [00:00<00:00, 21.58it/s]\n",
      "100%|██████████| 11/11 [00:00<00:00, 21.01it/s]\n",
      "100%|██████████| 11/11 [00:00<00:00, 21.95it/s]\n",
      "100%|██████████| 11/11 [00:00<00:00, 21.70it/s]\n",
      "100%|██████████| 11/11 [00:00<00:00, 22.00it/s]\n",
      "100%|██████████| 11/11 [00:00<00:00, 21.37it/s]\n",
      "100%|██████████| 11/11 [00:00<00:00, 21.76it/s]\n",
      "100%|██████████| 11/11 [00:00<00:00, 21.12it/s]\n",
      "100%|██████████| 11/11 [00:00<00:00, 21.71it/s]\n",
      "100%|██████████| 11/11 [00:00<00:00, 21.54it/s]\n",
      "100%|██████████| 11/11 [00:00<00:00, 21.35it/s]\n",
      "100%|██████████| 11/11 [00:00<00:00, 21.88it/s]\n",
      "100%|██████████| 11/11 [00:00<00:00, 21.49it/s]\n",
      "100%|██████████| 11/11 [00:00<00:00, 21.85it/s]\n",
      "100%|██████████| 11/11 [00:00<00:00, 21.80it/s]\n",
      "100%|██████████| 11/11 [00:00<00:00, 21.95it/s]\n",
      "100%|██████████| 11/11 [00:00<00:00, 21.65it/s]\n",
      "100%|██████████| 11/11 [00:00<00:00, 21.62it/s]\n",
      "100%|██████████| 11/11 [00:00<00:00, 21.99it/s]\n",
      "100%|██████████| 11/11 [00:00<00:00, 21.52it/s]\n",
      "100%|██████████| 11/11 [00:00<00:00, 21.92it/s]\n",
      "100%|██████████| 11/11 [00:00<00:00, 21.88it/s]\n",
      "100%|██████████| 11/11 [00:00<00:00, 21.24it/s]\n",
      "100%|██████████| 11/11 [00:00<00:00, 22.03it/s]\n",
      "100%|██████████| 11/11 [00:00<00:00, 21.95it/s]\n",
      "100%|██████████| 11/11 [00:00<00:00, 21.45it/s]\n",
      "100%|██████████| 11/11 [00:00<00:00, 21.99it/s]\n",
      "100%|██████████| 11/11 [00:00<00:00, 21.99it/s]\n",
      "100%|██████████| 11/11 [00:00<00:00, 22.14it/s]\n",
      "100%|██████████| 11/11 [00:00<00:00, 21.90it/s]\n",
      "100%|██████████| 11/11 [00:00<00:00, 22.07it/s]\n",
      "100%|██████████| 11/11 [00:00<00:00, 21.77it/s]\n",
      "100%|██████████| 11/11 [00:00<00:00, 21.79it/s]\n",
      "100%|██████████| 11/11 [00:00<00:00, 21.18it/s]\n",
      "100%|██████████| 11/11 [00:00<00:00, 21.79it/s]\n",
      "100%|██████████| 11/11 [00:00<00:00, 21.78it/s]\n",
      "100%|██████████| 11/11 [00:00<00:00, 21.86it/s]\n",
      "100%|██████████| 11/11 [00:00<00:00, 21.80it/s]\n",
      "100%|██████████| 11/11 [00:00<00:00, 21.83it/s]\n",
      "100%|██████████| 11/11 [00:00<00:00, 22.04it/s]\n",
      "100%|██████████| 11/11 [00:00<00:00, 21.83it/s]\n",
      "100%|██████████| 11/11 [00:00<00:00, 21.36it/s]\n",
      "100%|██████████| 11/11 [00:00<00:00, 21.92it/s]\n",
      "100%|██████████| 11/11 [00:00<00:00, 22.05it/s]\n",
      "100%|██████████| 11/11 [00:00<00:00, 21.49it/s]\n",
      "100%|██████████| 11/11 [00:00<00:00, 21.94it/s]\n",
      "100%|██████████| 11/11 [00:00<00:00, 21.63it/s]\n",
      "100%|██████████| 11/11 [00:00<00:00, 21.80it/s]\n",
      "100%|██████████| 11/11 [00:00<00:00, 21.93it/s]\n",
      "100%|██████████| 11/11 [00:00<00:00, 21.91it/s]\n",
      "100%|██████████| 11/11 [00:00<00:00, 22.00it/s]\n",
      "100%|██████████| 11/11 [00:00<00:00, 21.96it/s]\n",
      "100%|██████████| 11/11 [00:00<00:00, 21.96it/s]\n",
      "100%|██████████| 11/11 [00:00<00:00, 22.05it/s]\n",
      "100%|██████████| 11/11 [00:00<00:00, 22.10it/s]\n",
      "100%|██████████| 11/11 [00:00<00:00, 21.95it/s]\n",
      "100%|██████████| 11/11 [00:00<00:00, 22.05it/s]\n",
      "100%|██████████| 11/11 [00:00<00:00, 22.00it/s]\n",
      "100%|██████████| 11/11 [00:00<00:00, 21.62it/s]\n",
      "100%|██████████| 11/11 [00:00<00:00, 21.95it/s]\n",
      "100%|██████████| 11/11 [00:00<00:00, 21.92it/s]\n",
      "100%|██████████| 11/11 [00:00<00:00, 21.79it/s]\n",
      "100%|██████████| 11/11 [00:00<00:00, 22.03it/s]\n",
      "100%|██████████| 11/11 [00:00<00:00, 22.03it/s]\n"
     ]
    }
   ],
   "source": [
    "#TODO: threads\n",
    "SMI_optimized = {}\n",
    "SMI_optimized_corr = {}\n",
    "\n",
    "length_range = range(18, 23)\n",
    "mult_range = np.arange(1.5, 2.6, 0.1)\n",
    "length_KC_range = range(18, 23)\n",
    "mult_KC_range = np.arange(1, 2.1, 0.1)\n",
    "\n",
    "\n",
    "# activo = 'BTC'\n",
    "for activo in assets_dict:\n",
    "    best_corr = -1\n",
    "\n",
    "    best_params = None\n",
    "\n",
    "\n",
    "    for length in length_range:\n",
    "        for mult in mult_range:\n",
    "            for length_KC in length_KC_range:\n",
    "                for mult_KC in tqdm(mult_KC_range):\n",
    "                    df = assets_dict[activo]['1h'].copy()\n",
    "                    # Aplicar la función squeeze_momentum_indicator con los parámetros actuales\n",
    "                    params = (length, mult, length_KC, mult_KC)\n",
    "                    df = squeeze_momentum_indicator(df, params[0], params[1], params[2], params[3], length_atr=10, use_EMA=True)\n",
    "                    df = df.dropna()\n",
    "                    try:\n",
    "                        corr, _ = pearsonr(df['value'], df['close'])\n",
    "                        # Actualizar los mejores parámetros y coeficiente de correlación si se encuentra una mejora\n",
    "                        if corr > best_corr:\n",
    "                            best_corr = corr\n",
    "                            best_params = params\n",
    "                            \n",
    "                            SMI_optimized.update({activo: df})\n",
    "                            SMI_optimized_corr.update({f'{activo}_best_corr': best_corr, f'{activo}_best_params': best_params})\n",
    "                    \n",
    "                    except:\n",
    "                        continue\n",
    "                        \n"
   ]
  },
  {
   "cell_type": "code",
   "execution_count": null,
   "metadata": {},
   "outputs": [
    {
     "data": {
      "text/plain": [
       "{'NEO_best_corr': 0.194909269201475, 'NEO_best_params': (22, 1.5, 18, 1.0)}"
      ]
     },
     "execution_count": 13,
     "metadata": {},
     "output_type": "execute_result"
    }
   ],
   "source": [
    "SMI_optimized_corr"
   ]
  },
  {
   "cell_type": "code",
   "execution_count": null,
   "metadata": {},
   "outputs": [
    {
     "data": {
      "text/html": [
       "<div>\n",
       "<style scoped>\n",
       "    .dataframe tbody tr th:only-of-type {\n",
       "        vertical-align: middle;\n",
       "    }\n",
       "\n",
       "    .dataframe tbody tr th {\n",
       "        vertical-align: top;\n",
       "    }\n",
       "\n",
       "    .dataframe thead th {\n",
       "        text-align: right;\n",
       "    }\n",
       "</style>\n",
       "<table border=\"1\" class=\"dataframe\">\n",
       "  <thead>\n",
       "    <tr style=\"text-align: right;\">\n",
       "      <th></th>\n",
       "      <th>open</th>\n",
       "      <th>close</th>\n",
       "      <th>high</th>\n",
       "      <th>low</th>\n",
       "      <th>volume</th>\n",
       "    </tr>\n",
       "    <tr>\n",
       "      <th>time</th>\n",
       "      <th></th>\n",
       "      <th></th>\n",
       "      <th></th>\n",
       "      <th></th>\n",
       "      <th></th>\n",
       "    </tr>\n",
       "  </thead>\n",
       "  <tbody>\n",
       "    <tr>\n",
       "      <th>2022-05-13 21:00:00</th>\n",
       "      <td>29296.3</td>\n",
       "      <td>30092.7</td>\n",
       "      <td>30330.5</td>\n",
       "      <td>28644.9</td>\n",
       "      <td>20285.23</td>\n",
       "    </tr>\n",
       "    <tr>\n",
       "      <th>2022-05-14 21:00:00</th>\n",
       "      <td>30081.4</td>\n",
       "      <td>31328.5</td>\n",
       "      <td>31444.7</td>\n",
       "      <td>29496.4</td>\n",
       "      <td>21410.99</td>\n",
       "    </tr>\n",
       "    <tr>\n",
       "      <th>2022-05-15 21:00:00</th>\n",
       "      <td>31331.0</td>\n",
       "      <td>29868.8</td>\n",
       "      <td>31331.7</td>\n",
       "      <td>29100.3</td>\n",
       "      <td>38087.72</td>\n",
       "    </tr>\n",
       "    <tr>\n",
       "      <th>2022-05-16 21:00:00</th>\n",
       "      <td>29868.6</td>\n",
       "      <td>30450.6</td>\n",
       "      <td>30783.6</td>\n",
       "      <td>29455.8</td>\n",
       "      <td>36384.99</td>\n",
       "    </tr>\n",
       "    <tr>\n",
       "      <th>2022-05-17 21:00:00</th>\n",
       "      <td>30443.9</td>\n",
       "      <td>28714.2</td>\n",
       "      <td>30699.1</td>\n",
       "      <td>28661.1</td>\n",
       "      <td>40287.31</td>\n",
       "    </tr>\n",
       "    <tr>\n",
       "      <th>...</th>\n",
       "      <td>...</td>\n",
       "      <td>...</td>\n",
       "      <td>...</td>\n",
       "      <td>...</td>\n",
       "      <td>...</td>\n",
       "    </tr>\n",
       "    <tr>\n",
       "      <th>2023-05-07 21:00:00</th>\n",
       "      <td>28422.5</td>\n",
       "      <td>27658.0</td>\n",
       "      <td>28623.0</td>\n",
       "      <td>27256.5</td>\n",
       "      <td>73696.65</td>\n",
       "    </tr>\n",
       "    <tr>\n",
       "      <th>2023-05-08 21:00:00</th>\n",
       "      <td>27658.0</td>\n",
       "      <td>27618.9</td>\n",
       "      <td>27805.0</td>\n",
       "      <td>27344.1</td>\n",
       "      <td>41152.73</td>\n",
       "    </tr>\n",
       "    <tr>\n",
       "      <th>2023-05-09 21:00:00</th>\n",
       "      <td>27618.9</td>\n",
       "      <td>27596.4</td>\n",
       "      <td>28307.6</td>\n",
       "      <td>26782.8</td>\n",
       "      <td>75589.71</td>\n",
       "    </tr>\n",
       "    <tr>\n",
       "      <th>2023-05-10 21:00:00</th>\n",
       "      <td>27596.4</td>\n",
       "      <td>26967.2</td>\n",
       "      <td>27624.3</td>\n",
       "      <td>26702.6</td>\n",
       "      <td>59669.73</td>\n",
       "    </tr>\n",
       "    <tr>\n",
       "      <th>2023-05-11 21:00:00</th>\n",
       "      <td>26967.2</td>\n",
       "      <td>26785.5</td>\n",
       "      <td>27108.6</td>\n",
       "      <td>25810.2</td>\n",
       "      <td>74395.41</td>\n",
       "    </tr>\n",
       "  </tbody>\n",
       "</table>\n",
       "<p>364 rows × 5 columns</p>\n",
       "</div>"
      ],
      "text/plain": [
       "                        open    close     high      low    volume\n",
       "time                                                             \n",
       "2022-05-13 21:00:00  29296.3  30092.7  30330.5  28644.9  20285.23\n",
       "2022-05-14 21:00:00  30081.4  31328.5  31444.7  29496.4  21410.99\n",
       "2022-05-15 21:00:00  31331.0  29868.8  31331.7  29100.3  38087.72\n",
       "2022-05-16 21:00:00  29868.6  30450.6  30783.6  29455.8  36384.99\n",
       "2022-05-17 21:00:00  30443.9  28714.2  30699.1  28661.1  40287.31\n",
       "...                      ...      ...      ...      ...       ...\n",
       "2023-05-07 21:00:00  28422.5  27658.0  28623.0  27256.5  73696.65\n",
       "2023-05-08 21:00:00  27658.0  27618.9  27805.0  27344.1  41152.73\n",
       "2023-05-09 21:00:00  27618.9  27596.4  28307.6  26782.8  75589.71\n",
       "2023-05-10 21:00:00  27596.4  26967.2  27624.3  26702.6  59669.73\n",
       "2023-05-11 21:00:00  26967.2  26785.5  27108.6  25810.2  74395.41\n",
       "\n",
       "[364 rows x 5 columns]"
      ]
     },
     "execution_count": 13,
     "metadata": {},
     "output_type": "execute_result"
    }
   ],
   "source": [
    "assets_dict['BTC']['1d']"
   ]
  },
  {
   "cell_type": "code",
   "execution_count": null,
   "metadata": {},
   "outputs": [
    {
     "name": "stdout",
     "output_type": "stream",
     "text": [
      "TEMPORALIDAD DIARIA\n",
      "Correlación parámetros por default\n",
      "BTC 1d corr: 0.36\n",
      "ETH 1d corr: 0.4\n",
      "XRP 1d corr: 0.4\n",
      "ENS 1d corr: 0.44\n",
      "\n",
      "Correlación parámetros optimizados\n",
      "BTC 1d corr: 0.4\n",
      "ETH 1d corr: 0.41\n",
      "XRP 1d corr: 0.42\n",
      "ENS 1d corr: 0.46\n"
     ]
    }
   ],
   "source": [
    "print('TEMPORALIDAD DIARIA')\n",
    "print('Correlación parámetros por default')\n",
    "for activo in SMI_default_corr:\n",
    "    for t in SMI_default_corr[activo]:\n",
    "        if t == '1d':\n",
    "            print(f'{activo} 1d corr: {round(SMI_default_corr[activo][t], 2)}')\n",
    "\n",
    "print()\n",
    "print('Correlación parámetros optimizados')\n",
    "for corr in SMI_optimized_corr:\n",
    "    if corr.endswith('best_corr'):\n",
    "        print(f'{corr[:-10]} 1d corr: {round(SMI_optimized_corr[corr], 2)}')\n"
   ]
  },
  {
   "attachments": {},
   "cell_type": "markdown",
   "metadata": {},
   "source": [
    "# Verificar como varía la correlación en las otras temporalidades"
   ]
  },
  {
   "cell_type": "code",
   "execution_count": null,
   "metadata": {},
   "outputs": [
    {
     "name": "stdout",
     "output_type": "stream",
     "text": [
      "Correlaciones\n",
      "BTC 1d ->  old: 0.36 | new: 0.42\n",
      "BTC 4h ->  old: 0.57 | new: 0.52\n",
      "BTC 2h ->  old: 0.58 | new: 0.6\n",
      "BTC 1h ->  old: 0.42 | new: 0.48\n",
      "BTC 30m ->  old: 0.07 | new: 0.47\n",
      "BTC 15m ->  old: 0.27 | new: 0.09\n",
      "\n",
      "ETH 1d ->  old: 0.4 | new: 0.34\n",
      "ETH 4h ->  old: 0.48 | new: 0.44\n",
      "ETH 2h ->  old: 0.58 | new: 0.55\n",
      "ETH 1h ->  old: 0.49 | new: 0.44\n",
      "ETH 30m ->  old: 0.05 | new: 0.27\n",
      "ETH 15m ->  old: 0.25 | new: 0.13\n",
      "\n",
      "XRP 1d ->  old: 0.4 | new: 0.47\n",
      "XRP 4h ->  old: 0.32 | new: 0.29\n",
      "XRP 2h ->  old: 0.41 | new: 0.21\n",
      "XRP 1h ->  old: 0.25 | new: 0.22\n",
      "XRP 30m ->  old: -0.06 | new: 0.54\n",
      "XRP 15m ->  old: 0.48 | new: 0.38\n",
      "\n",
      "ENS 1d ->  old: 0.44 | new: 0.56\n",
      "ENS 4h ->  old: 0.39 | new: 0.34\n",
      "ENS 2h ->  old: 0.42 | new: 0.28\n",
      "ENS 1h ->  old: 0.28 | new: 0.24\n",
      "ENS 30m ->  old: 0.04 | new: 0.4\n",
      "ENS 15m ->  old: 0.4 | new: 0.16\n",
      "\n"
     ]
    }
   ],
   "source": [
    "SMI_default_optimized = {}\n",
    "SMI_default_optimized_corr = {}\n",
    "\n",
    "for activo in assets_dict:\n",
    "    SMI_default_optimized[activo] = {}\n",
    "    SMI_default_optimized_corr[activo] = {}\n",
    "    for t in temporalidades:\n",
    "        df = assets_dict[activo][t].iloc[:]\n",
    "        length, mult, length_KC, mult_KC = SMI_optimized_corr[f'{activo}_best_params']\n",
    "        df = squeeze_momentum_indicator(df, length, mult, length_KC, mult_KC, length_atr=100, use_EMA=False)\n",
    "        df = df.dropna()\n",
    "        SMI_default_optimized[activo][t] = df\n",
    "        df = df[['value', 'close']]\n",
    "        corr, _ = pearsonr(df['value'], df['close'])\n",
    "        SMI_default_optimized_corr[activo][t] = corr\n",
    "        \n",
    "\n",
    "print('Correlaciones')\n",
    "for activo in assets_dict:\n",
    "    for t in temporalidades:\n",
    "        print(f'{activo} {t} ->  old: {round(SMI_default_corr[activo][t], 2)} | new: {round(SMI_default_optimized_corr[activo][t], 2)}')\n",
    "    print()"
   ]
  },
  {
   "cell_type": "code",
   "execution_count": null,
   "metadata": {},
   "outputs": [
    {
     "data": {
      "text/html": [
       "<div>\n",
       "<style scoped>\n",
       "    .dataframe tbody tr th:only-of-type {\n",
       "        vertical-align: middle;\n",
       "    }\n",
       "\n",
       "    .dataframe tbody tr th {\n",
       "        vertical-align: top;\n",
       "    }\n",
       "\n",
       "    .dataframe thead th {\n",
       "        text-align: right;\n",
       "    }\n",
       "</style>\n",
       "<table border=\"1\" class=\"dataframe\">\n",
       "  <thead>\n",
       "    <tr style=\"text-align: right;\">\n",
       "      <th></th>\n",
       "      <th>open</th>\n",
       "      <th>close</th>\n",
       "      <th>high</th>\n",
       "      <th>low</th>\n",
       "      <th>volume</th>\n",
       "    </tr>\n",
       "    <tr>\n",
       "      <th>time</th>\n",
       "      <th></th>\n",
       "      <th></th>\n",
       "      <th></th>\n",
       "      <th></th>\n",
       "      <th></th>\n",
       "    </tr>\n",
       "  </thead>\n",
       "  <tbody>\n",
       "    <tr>\n",
       "      <th>2022-05-31 21:00:00</th>\n",
       "      <td>31795.9</td>\n",
       "      <td>29796.7</td>\n",
       "      <td>31983.5</td>\n",
       "      <td>29330.8</td>\n",
       "      <td>88397.05</td>\n",
       "    </tr>\n",
       "    <tr>\n",
       "      <th>2022-06-01 21:00:00</th>\n",
       "      <td>29803.4</td>\n",
       "      <td>30454.3</td>\n",
       "      <td>30687.7</td>\n",
       "      <td>29596.4</td>\n",
       "      <td>61620.08</td>\n",
       "    </tr>\n",
       "    <tr>\n",
       "      <th>2022-06-02 21:00:00</th>\n",
       "      <td>30454.3</td>\n",
       "      <td>29698.5</td>\n",
       "      <td>30692.1</td>\n",
       "      <td>29310.4</td>\n",
       "      <td>45464.50</td>\n",
       "    </tr>\n",
       "    <tr>\n",
       "      <th>2022-06-03 21:00:00</th>\n",
       "      <td>29702.5</td>\n",
       "      <td>29869.8</td>\n",
       "      <td>29970.0</td>\n",
       "      <td>29492.1</td>\n",
       "      <td>18033.88</td>\n",
       "    </tr>\n",
       "    <tr>\n",
       "      <th>2022-06-04 21:00:00</th>\n",
       "      <td>29869.9</td>\n",
       "      <td>29918.8</td>\n",
       "      <td>30182.3</td>\n",
       "      <td>29536.7</td>\n",
       "      <td>17346.73</td>\n",
       "    </tr>\n",
       "    <tr>\n",
       "      <th>...</th>\n",
       "      <td>...</td>\n",
       "      <td>...</td>\n",
       "      <td>...</td>\n",
       "      <td>...</td>\n",
       "      <td>...</td>\n",
       "    </tr>\n",
       "    <tr>\n",
       "      <th>2023-05-25 21:00:00</th>\n",
       "      <td>26462.4</td>\n",
       "      <td>26703.6</td>\n",
       "      <td>26936.5</td>\n",
       "      <td>26317.2</td>\n",
       "      <td>34495.05</td>\n",
       "    </tr>\n",
       "    <tr>\n",
       "      <th>2023-05-26 21:00:00</th>\n",
       "      <td>26703.3</td>\n",
       "      <td>26852.9</td>\n",
       "      <td>26889.0</td>\n",
       "      <td>26534.7</td>\n",
       "      <td>14347.49</td>\n",
       "    </tr>\n",
       "    <tr>\n",
       "      <th>2023-05-27 21:00:00</th>\n",
       "      <td>26852.9</td>\n",
       "      <td>28073.9</td>\n",
       "      <td>28266.9</td>\n",
       "      <td>26765.4</td>\n",
       "      <td>42694.99</td>\n",
       "    </tr>\n",
       "    <tr>\n",
       "      <th>2023-05-28 21:00:00</th>\n",
       "      <td>28073.9</td>\n",
       "      <td>27740.4</td>\n",
       "      <td>28456.8</td>\n",
       "      <td>27531.0</td>\n",
       "      <td>36179.98</td>\n",
       "    </tr>\n",
       "    <tr>\n",
       "      <th>2023-05-29 21:00:00</th>\n",
       "      <td>27740.4</td>\n",
       "      <td>27702.7</td>\n",
       "      <td>28046.2</td>\n",
       "      <td>27562.5</td>\n",
       "      <td>28150.12</td>\n",
       "    </tr>\n",
       "  </tbody>\n",
       "</table>\n",
       "<p>364 rows × 5 columns</p>\n",
       "</div>"
      ],
      "text/plain": [
       "                        open    close     high      low    volume\n",
       "time                                                             \n",
       "2022-05-31 21:00:00  31795.9  29796.7  31983.5  29330.8  88397.05\n",
       "2022-06-01 21:00:00  29803.4  30454.3  30687.7  29596.4  61620.08\n",
       "2022-06-02 21:00:00  30454.3  29698.5  30692.1  29310.4  45464.50\n",
       "2022-06-03 21:00:00  29702.5  29869.8  29970.0  29492.1  18033.88\n",
       "2022-06-04 21:00:00  29869.9  29918.8  30182.3  29536.7  17346.73\n",
       "...                      ...      ...      ...      ...       ...\n",
       "2023-05-25 21:00:00  26462.4  26703.6  26936.5  26317.2  34495.05\n",
       "2023-05-26 21:00:00  26703.3  26852.9  26889.0  26534.7  14347.49\n",
       "2023-05-27 21:00:00  26852.9  28073.9  28266.9  26765.4  42694.99\n",
       "2023-05-28 21:00:00  28073.9  27740.4  28456.8  27531.0  36179.98\n",
       "2023-05-29 21:00:00  27740.4  27702.7  28046.2  27562.5  28150.12\n",
       "\n",
       "[364 rows x 5 columns]"
      ]
     },
     "execution_count": 25,
     "metadata": {},
     "output_type": "execute_result"
    }
   ],
   "source": [
    "assets_dict['BTC']['4h']"
   ]
  },
  {
   "attachments": {},
   "cell_type": "markdown",
   "metadata": {},
   "source": [
    "# Aplicar las condiciones de la estrategia a las temporalidades que ya se habían aplicado"
   ]
  },
  {
   "cell_type": "code",
   "execution_count": null,
   "metadata": {},
   "outputs": [
    {
     "name": "stdout",
     "output_type": "stream",
     "text": [
      "(22, 1.5, 22, 1.0)\n"
     ]
    },
    {
     "data": {
      "text/plain": [
       "0.446"
      ]
     },
     "execution_count": 116,
     "metadata": {},
     "output_type": "execute_result"
    }
   ],
   "source": [
    "## AJUSTE MANUAL DE length_atr y use_EMA para BTC\n",
    "var1 = assets_dict['BTC']['1h'].iloc[:]\n",
    "params = SMI_optimized_corr['BTC_best_params']\n",
    "print(params)\n",
    "var2 = squeeze_momentum_indicator(var1,22, params[1], 22,params[3],100,True)\n",
    "var2 = var2.dropna()\n",
    "var3, _ = pearsonr(var2['value'], var2['close'])\n",
    "round(var3, 3)\n"
   ]
  },
  {
   "cell_type": "code",
   "execution_count": null,
   "metadata": {},
   "outputs": [
    {
     "data": {
      "text/html": [
       "<div>\n",
       "<style scoped>\n",
       "    .dataframe tbody tr th:only-of-type {\n",
       "        vertical-align: middle;\n",
       "    }\n",
       "\n",
       "    .dataframe tbody tr th {\n",
       "        vertical-align: top;\n",
       "    }\n",
       "\n",
       "    .dataframe thead th {\n",
       "        text-align: right;\n",
       "    }\n",
       "</style>\n",
       "<table border=\"1\" class=\"dataframe\">\n",
       "  <thead>\n",
       "    <tr style=\"text-align: right;\">\n",
       "      <th></th>\n",
       "      <th>open</th>\n",
       "      <th>close</th>\n",
       "      <th>high</th>\n",
       "      <th>low</th>\n",
       "      <th>volume</th>\n",
       "      <th>upper_BB</th>\n",
       "      <th>lower_BB</th>\n",
       "      <th>tr</th>\n",
       "      <th>upper_KC</th>\n",
       "      <th>lower_KC</th>\n",
       "      <th>value</th>\n",
       "      <th>squeeze_on</th>\n",
       "    </tr>\n",
       "    <tr>\n",
       "      <th>time</th>\n",
       "      <th></th>\n",
       "      <th></th>\n",
       "      <th></th>\n",
       "      <th></th>\n",
       "      <th></th>\n",
       "      <th></th>\n",
       "      <th></th>\n",
       "      <th></th>\n",
       "      <th></th>\n",
       "      <th></th>\n",
       "      <th></th>\n",
       "      <th></th>\n",
       "    </tr>\n",
       "  </thead>\n",
       "  <tbody>\n",
       "    <tr>\n",
       "      <th>2023-04-24 16:00:00</th>\n",
       "      <td>27327.0</td>\n",
       "      <td>27370.5</td>\n",
       "      <td>27404.0</td>\n",
       "      <td>27310.0</td>\n",
       "      <td>975.72</td>\n",
       "      <td>27780.443793</td>\n",
       "      <td>27202.056207</td>\n",
       "      <td>94.0</td>\n",
       "      <td>27681.766833</td>\n",
       "      <td>27300.733167</td>\n",
       "      <td>-244.813196</td>\n",
       "      <td>False</td>\n",
       "    </tr>\n",
       "    <tr>\n",
       "      <th>2023-04-24 17:00:00</th>\n",
       "      <td>27370.5</td>\n",
       "      <td>27448.5</td>\n",
       "      <td>27470.0</td>\n",
       "      <td>27328.0</td>\n",
       "      <td>1009.96</td>\n",
       "      <td>27773.096449</td>\n",
       "      <td>27197.267187</td>\n",
       "      <td>142.0</td>\n",
       "      <td>27674.737922</td>\n",
       "      <td>27295.625715</td>\n",
       "      <td>-227.626707</td>\n",
       "      <td>False</td>\n",
       "    </tr>\n",
       "    <tr>\n",
       "      <th>2023-04-24 18:00:00</th>\n",
       "      <td>27448.5</td>\n",
       "      <td>27403.5</td>\n",
       "      <td>27448.5</td>\n",
       "      <td>27313.5</td>\n",
       "      <td>829.90</td>\n",
       "      <td>27764.491541</td>\n",
       "      <td>27189.917550</td>\n",
       "      <td>135.0</td>\n",
       "      <td>27665.680330</td>\n",
       "      <td>27288.728761</td>\n",
       "      <td>-217.036741</td>\n",
       "      <td>False</td>\n",
       "    </tr>\n",
       "    <tr>\n",
       "      <th>2023-04-24 19:00:00</th>\n",
       "      <td>27403.5</td>\n",
       "      <td>27453.5</td>\n",
       "      <td>27503.0</td>\n",
       "      <td>27370.5</td>\n",
       "      <td>980.07</td>\n",
       "      <td>27729.401679</td>\n",
       "      <td>27193.916503</td>\n",
       "      <td>132.5</td>\n",
       "      <td>27649.026444</td>\n",
       "      <td>27274.291738</td>\n",
       "      <td>-178.496766</td>\n",
       "      <td>False</td>\n",
       "    </tr>\n",
       "    <tr>\n",
       "      <th>2023-04-24 20:00:00</th>\n",
       "      <td>27453.5</td>\n",
       "      <td>27499.0</td>\n",
       "      <td>27547.0</td>\n",
       "      <td>27433.5</td>\n",
       "      <td>1130.77</td>\n",
       "      <td>27702.720175</td>\n",
       "      <td>27198.552552</td>\n",
       "      <td>113.5</td>\n",
       "      <td>27636.540997</td>\n",
       "      <td>27264.731730</td>\n",
       "      <td>-129.696011</td>\n",
       "      <td>False</td>\n",
       "    </tr>\n",
       "    <tr>\n",
       "      <th>...</th>\n",
       "      <td>...</td>\n",
       "      <td>...</td>\n",
       "      <td>...</td>\n",
       "      <td>...</td>\n",
       "      <td>...</td>\n",
       "      <td>...</td>\n",
       "      <td>...</td>\n",
       "      <td>...</td>\n",
       "      <td>...</td>\n",
       "      <td>...</td>\n",
       "      <td>...</td>\n",
       "      <td>...</td>\n",
       "    </tr>\n",
       "    <tr>\n",
       "      <th>2023-05-12 16:00:00</th>\n",
       "      <td>26290.3</td>\n",
       "      <td>26453.4</td>\n",
       "      <td>26475.3</td>\n",
       "      <td>25810.2</td>\n",
       "      <td>9988.60</td>\n",
       "      <td>26847.612802</td>\n",
       "      <td>26117.823562</td>\n",
       "      <td>665.1</td>\n",
       "      <td>26686.724013</td>\n",
       "      <td>26278.712351</td>\n",
       "      <td>-280.856854</td>\n",
       "      <td>False</td>\n",
       "    </tr>\n",
       "    <tr>\n",
       "      <th>2023-05-12 17:00:00</th>\n",
       "      <td>26453.4</td>\n",
       "      <td>26430.4</td>\n",
       "      <td>26481.8</td>\n",
       "      <td>26355.0</td>\n",
       "      <td>3043.40</td>\n",
       "      <td>26800.264065</td>\n",
       "      <td>26122.672299</td>\n",
       "      <td>126.8</td>\n",
       "      <td>26663.945184</td>\n",
       "      <td>26258.991179</td>\n",
       "      <td>-218.380057</td>\n",
       "      <td>False</td>\n",
       "    </tr>\n",
       "    <tr>\n",
       "      <th>2023-05-12 18:00:00</th>\n",
       "      <td>26430.4</td>\n",
       "      <td>26742.5</td>\n",
       "      <td>26804.0</td>\n",
       "      <td>26430.4</td>\n",
       "      <td>4615.50</td>\n",
       "      <td>26761.846833</td>\n",
       "      <td>26140.662258</td>\n",
       "      <td>373.6</td>\n",
       "      <td>26657.120122</td>\n",
       "      <td>26245.388969</td>\n",
       "      <td>-97.834926</td>\n",
       "      <td>False</td>\n",
       "    </tr>\n",
       "    <tr>\n",
       "      <th>2023-05-12 19:00:00</th>\n",
       "      <td>26742.5</td>\n",
       "      <td>26677.4</td>\n",
       "      <td>26885.0</td>\n",
       "      <td>26630.0</td>\n",
       "      <td>2122.79</td>\n",
       "      <td>26693.948555</td>\n",
       "      <td>26176.551445</td>\n",
       "      <td>255.0</td>\n",
       "      <td>26642.088535</td>\n",
       "      <td>26228.411465</td>\n",
       "      <td>13.506917</td>\n",
       "      <td>False</td>\n",
       "    </tr>\n",
       "    <tr>\n",
       "      <th>2023-05-12 20:00:00</th>\n",
       "      <td>26677.4</td>\n",
       "      <td>26785.5</td>\n",
       "      <td>26797.6</td>\n",
       "      <td>26650.0</td>\n",
       "      <td>1178.93</td>\n",
       "      <td>26676.372092</td>\n",
       "      <td>26186.364271</td>\n",
       "      <td>147.6</td>\n",
       "      <td>26637.033677</td>\n",
       "      <td>26225.702687</td>\n",
       "      <td>135.221955</td>\n",
       "      <td>False</td>\n",
       "    </tr>\n",
       "  </tbody>\n",
       "</table>\n",
       "<p>437 rows × 12 columns</p>\n",
       "</div>"
      ],
      "text/plain": [
       "                        open    close     high      low   volume   \n",
       "time                                                               \n",
       "2023-04-24 16:00:00  27327.0  27370.5  27404.0  27310.0   975.72  \\\n",
       "2023-04-24 17:00:00  27370.5  27448.5  27470.0  27328.0  1009.96   \n",
       "2023-04-24 18:00:00  27448.5  27403.5  27448.5  27313.5   829.90   \n",
       "2023-04-24 19:00:00  27403.5  27453.5  27503.0  27370.5   980.07   \n",
       "2023-04-24 20:00:00  27453.5  27499.0  27547.0  27433.5  1130.77   \n",
       "...                      ...      ...      ...      ...      ...   \n",
       "2023-05-12 16:00:00  26290.3  26453.4  26475.3  25810.2  9988.60   \n",
       "2023-05-12 17:00:00  26453.4  26430.4  26481.8  26355.0  3043.40   \n",
       "2023-05-12 18:00:00  26430.4  26742.5  26804.0  26430.4  4615.50   \n",
       "2023-05-12 19:00:00  26742.5  26677.4  26885.0  26630.0  2122.79   \n",
       "2023-05-12 20:00:00  26677.4  26785.5  26797.6  26650.0  1178.93   \n",
       "\n",
       "                         upper_BB      lower_BB     tr      upper_KC   \n",
       "time                                                                   \n",
       "2023-04-24 16:00:00  27780.443793  27202.056207   94.0  27681.766833  \\\n",
       "2023-04-24 17:00:00  27773.096449  27197.267187  142.0  27674.737922   \n",
       "2023-04-24 18:00:00  27764.491541  27189.917550  135.0  27665.680330   \n",
       "2023-04-24 19:00:00  27729.401679  27193.916503  132.5  27649.026444   \n",
       "2023-04-24 20:00:00  27702.720175  27198.552552  113.5  27636.540997   \n",
       "...                           ...           ...    ...           ...   \n",
       "2023-05-12 16:00:00  26847.612802  26117.823562  665.1  26686.724013   \n",
       "2023-05-12 17:00:00  26800.264065  26122.672299  126.8  26663.945184   \n",
       "2023-05-12 18:00:00  26761.846833  26140.662258  373.6  26657.120122   \n",
       "2023-05-12 19:00:00  26693.948555  26176.551445  255.0  26642.088535   \n",
       "2023-05-12 20:00:00  26676.372092  26186.364271  147.6  26637.033677   \n",
       "\n",
       "                         lower_KC       value  squeeze_on  \n",
       "time                                                       \n",
       "2023-04-24 16:00:00  27300.733167 -244.813196       False  \n",
       "2023-04-24 17:00:00  27295.625715 -227.626707       False  \n",
       "2023-04-24 18:00:00  27288.728761 -217.036741       False  \n",
       "2023-04-24 19:00:00  27274.291738 -178.496766       False  \n",
       "2023-04-24 20:00:00  27264.731730 -129.696011       False  \n",
       "...                           ...         ...         ...  \n",
       "2023-05-12 16:00:00  26278.712351 -280.856854       False  \n",
       "2023-05-12 17:00:00  26258.991179 -218.380057       False  \n",
       "2023-05-12 18:00:00  26245.388969  -97.834926       False  \n",
       "2023-05-12 19:00:00  26228.411465   13.506917       False  \n",
       "2023-05-12 20:00:00  26225.702687  135.221955       False  \n",
       "\n",
       "[437 rows x 12 columns]"
      ]
     },
     "execution_count": 117,
     "metadata": {},
     "output_type": "execute_result"
    }
   ],
   "source": [
    "var2"
   ]
  },
  {
   "cell_type": "code",
   "execution_count": null,
   "metadata": {},
   "outputs": [
    {
     "data": {
      "application/vnd.plotly.v1+json": {
       "config": {
        "plotlyServerURL": "https://plotly.com"
       },
       "data": [
        {
         "close": [
          10.29,
          10.3,
          10.31,
          10.32,
          10.31,
          10.31,
          10.355,
          10.35,
          10.3,
          10.595,
          10.59,
          10.58,
          10.565,
          10.57,
          10.57,
          10.57,
          10.59,
          10.56,
          10.54,
          10.53,
          10.5,
          10.58,
          10.57,
          10.61,
          10.615,
          10.56,
          10.57,
          10.47,
          10.26,
          10.35,
          10.44,
          10.395,
          10.46,
          10.5,
          10.51,
          10.565,
          10.63,
          10.64,
          10.61,
          10.62,
          10.66,
          10.69,
          10.67,
          10.67,
          10.6,
          10.57,
          10.58,
          10.61,
          10.6,
          10.62,
          10.66,
          10.63,
          10.62,
          10.64,
          10.63,
          10.58,
          10.53,
          10.49,
          10.5,
          10.52,
          10.575,
          10.535,
          10.53,
          10.52,
          10.48,
          10.46,
          10.47,
          10.42,
          10.42,
          10.43,
          10.41,
          10.44,
          10.42,
          10.45,
          10.46,
          10.42,
          10.4,
          10.37,
          10.4,
          10.41,
          10.38,
          10.37,
          10.36,
          10.4,
          10.4,
          10.4,
          10.365,
          10.35,
          10.365,
          10.36,
          10.37,
          10.38,
          10.4,
          10.41,
          10.42,
          10.42,
          10.44,
          10.44,
          10.43,
          10.42,
          10.44,
          10.425,
          10.41,
          10.46,
          10.48,
          10.4,
          10.375,
          10.37,
          10.325,
          10.39,
          10.295,
          10.31,
          10.265,
          10.22,
          10.21,
          10.145,
          10.18,
          10.19,
          10.19,
          10.19,
          10.17,
          10.19,
          10.15,
          10.13,
          10.08,
          10.07,
          10.12,
          10.12,
          10.11,
          10.13,
          10.14,
          10.16,
          10.13,
          10.08,
          10.11,
          10.12,
          10.125,
          10.15,
          10.17,
          10.17,
          10.17,
          10.155,
          10.18,
          10.21,
          10.23,
          10.19,
          10.2,
          10.16,
          10.2,
          10.24,
          10.21,
          10.18,
          10.19,
          10.21,
          10.22,
          10.19,
          10.13,
          10.13,
          10.08,
          10.1,
          10.095,
          10.04,
          10,
          10,
          10,
          10,
          10,
          9.94,
          9.975,
          9.99,
          10.005,
          9.995,
          10.01,
          9.97,
          9.915,
          9.875,
          9.86,
          9.91,
          9.97,
          9.95,
          10.015,
          10,
          10.025,
          10.045,
          10.025,
          10.05,
          10.035,
          10.125,
          10.09,
          10.11,
          10.125,
          10.13,
          10.09,
          10.115,
          10.105,
          10.12,
          10.095,
          10.13,
          10.175,
          10.15,
          10.14,
          10.215,
          10.18,
          10.16,
          10.185,
          10.185,
          10.165,
          10.195,
          10.15,
          10.13,
          10.06,
          10.05,
          10.08,
          10.1,
          10.13,
          10.125,
          10.145,
          10.125,
          10.14,
          10.145,
          10.155,
          10.15,
          10.135,
          10.175,
          10.155,
          10.185,
          10.17,
          10.16,
          10.07,
          10.165,
          10.25,
          10.25,
          10.26,
          10.215,
          10.235,
          10.295,
          10.305,
          10.31,
          10.31,
          10.365,
          10.36,
          10.36,
          10.345,
          10.345,
          10.38,
          10.425,
          10.44,
          10.415,
          10.36
         ],
         "high": [
          10.33,
          10.32,
          10.31,
          10.325,
          10.33,
          10.32,
          10.37,
          10.35,
          10.37,
          10.595,
          10.625,
          10.66,
          10.58,
          10.62,
          10.6,
          10.615,
          10.6,
          10.615,
          10.56,
          10.57,
          10.53,
          10.595,
          10.6,
          10.615,
          10.64,
          10.62,
          10.58,
          10.58,
          10.47,
          10.35,
          10.48,
          10.435,
          10.48,
          10.5,
          10.51,
          10.645,
          10.64,
          10.65,
          10.655,
          10.635,
          10.69,
          10.7,
          10.7,
          10.69,
          10.68,
          10.6,
          10.605,
          10.625,
          10.62,
          10.64,
          10.66,
          10.675,
          10.64,
          10.64,
          10.65,
          10.63,
          10.59,
          10.54,
          10.51,
          10.54,
          10.58,
          10.58,
          10.545,
          10.53,
          10.52,
          10.48,
          10.47,
          10.486,
          10.43,
          10.44,
          10.43,
          10.44,
          10.44,
          10.47,
          10.46,
          10.48,
          10.42,
          10.4,
          10.4,
          10.42,
          10.41,
          10.385,
          10.38,
          10.4,
          10.4,
          10.415,
          10.4,
          10.37,
          10.38,
          10.37,
          10.38,
          10.395,
          10.405,
          10.41,
          10.42,
          10.42,
          10.45,
          10.45,
          10.46,
          10.45,
          10.45,
          10.46,
          10.425,
          10.46,
          10.485,
          10.53,
          10.43,
          10.41,
          10.37,
          10.395,
          10.39,
          10.32,
          10.325,
          10.28,
          10.23,
          10.245,
          10.2,
          10.22,
          10.195,
          10.21,
          10.21,
          10.195,
          10.215,
          10.175,
          10.16,
          10.13,
          10.15,
          10.12,
          10.125,
          10.15,
          10.16,
          10.165,
          10.16,
          10.13,
          10.12,
          10.12,
          10.13,
          10.15,
          10.18,
          10.21,
          10.18,
          10.17,
          10.19,
          10.23,
          10.24,
          10.25,
          10.225,
          10.2,
          10.21,
          10.25,
          10.25,
          10.22,
          10.22,
          10.21,
          10.23,
          10.22,
          10.215,
          10.14,
          10.13,
          10.1,
          10.11,
          10.095,
          10.05,
          10,
          10,
          10,
          10,
          10,
          9.985,
          9.99,
          10.01,
          10.02,
          10.015,
          10.015,
          9.98,
          9.925,
          9.905,
          9.91,
          10.005,
          10.015,
          10.025,
          10.03,
          10.04,
          10.065,
          10.055,
          10.055,
          10.06,
          10.14,
          10.13,
          10.11,
          10.14,
          10.14,
          10.14,
          10.12,
          10.14,
          10.13,
          10.13,
          10.13,
          10.175,
          10.175,
          10.165,
          10.225,
          10.225,
          10.21,
          10.2,
          10.2,
          10.195,
          10.22,
          10.21,
          10.155,
          10.135,
          10.1,
          10.115,
          10.115,
          10.13,
          10.135,
          10.18,
          10.16,
          10.145,
          10.15,
          10.16,
          10.18,
          10.18,
          10.215,
          10.18,
          10.19,
          10.19,
          10.18,
          10.16,
          10.18,
          10.295,
          10.285,
          10.285,
          10.29,
          10.25,
          10.34,
          10.32,
          10.32,
          10.325,
          10.38,
          10.375,
          10.385,
          10.37,
          10.36,
          10.41,
          10.43,
          10.445,
          10.455,
          10.43
         ],
         "low": [
          10.28,
          10.28,
          10.295,
          10.29,
          10.31,
          10.285,
          10.305,
          10.31,
          10.245,
          10.3,
          10.555,
          10.535,
          10.495,
          10.54,
          10.545,
          10.56,
          10.56,
          10.555,
          10.52,
          10.53,
          10.48,
          10.5,
          10.55,
          10.56,
          10.59,
          10.55,
          10.555,
          10.46,
          10.055,
          10.25,
          10.32,
          10.38,
          10.39,
          10.45,
          10.49,
          10.51,
          10.56,
          10.625,
          10.605,
          10.585,
          10.62,
          10.66,
          10.665,
          10.65,
          10.535,
          10.55,
          10.55,
          10.584,
          10.6,
          10.585,
          10.62,
          10.61,
          10.615,
          10.61,
          10.62,
          10.57,
          10.51,
          10.485,
          10.48,
          10.48,
          10.52,
          10.52,
          10.5,
          10.49,
          10.47,
          10.46,
          10.46,
          10.41,
          10.39,
          10.4,
          10.405,
          10.4,
          10.42,
          10.42,
          10.45,
          10.41,
          10.385,
          10.35,
          10.365,
          10.38,
          10.37,
          10.355,
          10.36,
          10.35,
          10.39,
          10.385,
          10.335,
          10.25,
          10.33,
          10.315,
          10.325,
          10.37,
          10.38,
          10.385,
          10.4,
          10.405,
          10.42,
          10.42,
          10.425,
          10.42,
          10.42,
          10.425,
          10.39,
          10.4,
          10.445,
          10.37,
          10.37,
          10.33,
          10.325,
          10.31,
          10.255,
          10.19,
          10.25,
          10.205,
          10.13,
          10.135,
          10.135,
          10.17,
          10.17,
          10.17,
          10.16,
          10.165,
          10.135,
          10.11,
          10,
          10.06,
          10.07,
          10.06,
          10.035,
          10.09,
          10.12,
          10.105,
          10.115,
          10.08,
          10.06,
          10.085,
          10.105,
          10.12,
          10.14,
          10.16,
          10.15,
          10.15,
          10.15,
          10.18,
          10.21,
          10.16,
          10.175,
          10.135,
          10.16,
          10.2,
          10.21,
          10.18,
          10.18,
          10.15,
          10.19,
          10.18,
          10.13,
          10.12,
          10.08,
          10.07,
          10.075,
          10.02,
          10,
          10,
          10,
          10,
          10,
          9.835,
          9.94,
          9.965,
          9.975,
          9.99,
          9.975,
          9.97,
          9.81,
          9.845,
          9.845,
          9.85,
          9.895,
          9.945,
          9.95,
          9.985,
          9.985,
          10.025,
          10.02,
          9.995,
          10.035,
          10.035,
          10.075,
          10.075,
          10.095,
          10.105,
          10.085,
          10.095,
          10.105,
          10.105,
          10.08,
          10.08,
          10.12,
          10.13,
          10.115,
          10.14,
          10.17,
          10.155,
          10.145,
          10.14,
          10.15,
          10.125,
          10.14,
          10.11,
          10.035,
          10.05,
          10.05,
          10.07,
          10.1,
          10.075,
          10.125,
          10.11,
          10.115,
          10.12,
          10.125,
          10.125,
          10.135,
          10.135,
          10.155,
          10.155,
          10.165,
          10.115,
          9.955,
          10.05,
          10.14,
          10.21,
          10.245,
          10.205,
          10.21,
          10.235,
          10.29,
          10.26,
          10.295,
          10.315,
          10.355,
          10.36,
          10.32,
          10.33,
          10.345,
          10.385,
          10.41,
          10.4,
          10.36
         ],
         "open": [
          10.33,
          10.28,
          10.3,
          10.31,
          10.32,
          10.31,
          10.305,
          10.35,
          10.35,
          10.3,
          10.595,
          10.59,
          10.58,
          10.565,
          10.57,
          10.57,
          10.57,
          10.59,
          10.545,
          10.54,
          10.53,
          10.5,
          10.58,
          10.57,
          10.61,
          10.615,
          10.56,
          10.57,
          10.465,
          10.26,
          10.35,
          10.435,
          10.39,
          10.46,
          10.5,
          10.51,
          10.565,
          10.63,
          10.64,
          10.6,
          10.62,
          10.66,
          10.69,
          10.67,
          10.68,
          10.6,
          10.57,
          10.59,
          10.61,
          10.59,
          10.62,
          10.66,
          10.63,
          10.62,
          10.635,
          10.63,
          10.575,
          10.535,
          10.49,
          10.49,
          10.52,
          10.58,
          10.545,
          10.53,
          10.51,
          10.48,
          10.46,
          10.47,
          10.42,
          10.42,
          10.43,
          10.41,
          10.44,
          10.42,
          10.45,
          10.46,
          10.42,
          10.4,
          10.37,
          10.4,
          10.41,
          10.38,
          10.37,
          10.36,
          10.4,
          10.4,
          10.4,
          10.365,
          10.35,
          10.355,
          10.365,
          10.37,
          10.39,
          10.395,
          10.41,
          10.41,
          10.42,
          10.44,
          10.44,
          10.425,
          10.42,
          10.44,
          10.42,
          10.405,
          10.45,
          10.48,
          10.4,
          10.37,
          10.37,
          10.325,
          10.39,
          10.295,
          10.32,
          10.265,
          10.22,
          10.22,
          10.145,
          10.19,
          10.19,
          10.19,
          10.19,
          10.17,
          10.19,
          10.15,
          10.13,
          10.085,
          10.07,
          10.12,
          10.125,
          10.11,
          10.13,
          10.14,
          10.16,
          10.13,
          10.08,
          10.11,
          10.12,
          10.12,
          10.15,
          10.17,
          10.17,
          10.17,
          10.15,
          10.18,
          10.21,
          10.23,
          10.19,
          10.2,
          10.16,
          10.2,
          10.24,
          10.205,
          10.19,
          10.19,
          10.21,
          10.22,
          10.19,
          10.13,
          10.13,
          10.08,
          10.1,
          10.095,
          10.04,
          10,
          10,
          10,
          10,
          10,
          9.94,
          9.98,
          9.99,
          10.005,
          10,
          10.01,
          9.97,
          9.915,
          9.875,
          9.86,
          9.91,
          9.97,
          9.95,
          10.015,
          10.005,
          10.025,
          10.045,
          10.025,
          10.05,
          10.035,
          10.125,
          10.09,
          10.105,
          10.125,
          10.135,
          10.095,
          10.115,
          10.105,
          10.12,
          10.095,
          10.125,
          10.175,
          10.155,
          10.14,
          10.215,
          10.185,
          10.16,
          10.19,
          10.19,
          10.16,
          10.195,
          10.15,
          10.13,
          10.06,
          10.05,
          10.075,
          10.1,
          10.12,
          10.13,
          10.14,
          10.125,
          10.14,
          10.145,
          10.155,
          10.15,
          10.135,
          10.175,
          10.155,
          10.185,
          10.17,
          10.16,
          10.07,
          10.165,
          10.25,
          10.25,
          10.26,
          10.215,
          10.235,
          10.295,
          10.305,
          10.31,
          10.315,
          10.365,
          10.36,
          10.36,
          10.345,
          10.345,
          10.385,
          10.425,
          10.435,
          10.41
         ],
         "type": "candlestick",
         "x": [
          "2023-05-10 07:15:00",
          "2023-05-10 07:30:00",
          "2023-05-10 07:45:00",
          "2023-05-10 08:00:00",
          "2023-05-10 08:15:00",
          "2023-05-10 08:30:00",
          "2023-05-10 08:45:00",
          "2023-05-10 09:00:00",
          "2023-05-10 09:15:00",
          "2023-05-10 09:30:00",
          "2023-05-10 09:45:00",
          "2023-05-10 10:00:00",
          "2023-05-10 10:15:00",
          "2023-05-10 10:30:00",
          "2023-05-10 10:45:00",
          "2023-05-10 11:00:00",
          "2023-05-10 11:15:00",
          "2023-05-10 11:30:00",
          "2023-05-10 11:45:00",
          "2023-05-10 12:00:00",
          "2023-05-10 12:15:00",
          "2023-05-10 12:30:00",
          "2023-05-10 12:45:00",
          "2023-05-10 13:00:00",
          "2023-05-10 13:15:00",
          "2023-05-10 13:30:00",
          "2023-05-10 13:45:00",
          "2023-05-10 14:00:00",
          "2023-05-10 14:15:00",
          "2023-05-10 14:30:00",
          "2023-05-10 14:45:00",
          "2023-05-10 15:00:00",
          "2023-05-10 15:15:00",
          "2023-05-10 15:30:00",
          "2023-05-10 15:45:00",
          "2023-05-10 16:00:00",
          "2023-05-10 16:15:00",
          "2023-05-10 16:30:00",
          "2023-05-10 16:45:00",
          "2023-05-10 17:00:00",
          "2023-05-10 17:15:00",
          "2023-05-10 17:30:00",
          "2023-05-10 17:45:00",
          "2023-05-10 18:00:00",
          "2023-05-10 18:15:00",
          "2023-05-10 18:30:00",
          "2023-05-10 18:45:00",
          "2023-05-10 19:00:00",
          "2023-05-10 19:15:00",
          "2023-05-10 19:30:00",
          "2023-05-10 19:45:00",
          "2023-05-10 20:00:00",
          "2023-05-10 20:15:00",
          "2023-05-10 20:30:00",
          "2023-05-10 20:45:00",
          "2023-05-10 21:00:00",
          "2023-05-10 21:15:00",
          "2023-05-10 21:30:00",
          "2023-05-10 21:45:00",
          "2023-05-10 22:00:00",
          "2023-05-10 22:15:00",
          "2023-05-10 22:30:00",
          "2023-05-10 22:45:00",
          "2023-05-10 23:00:00",
          "2023-05-10 23:15:00",
          "2023-05-10 23:30:00",
          "2023-05-10 23:45:00",
          "2023-05-11 00:00:00",
          "2023-05-11 00:15:00",
          "2023-05-11 00:30:00",
          "2023-05-11 00:45:00",
          "2023-05-11 01:00:00",
          "2023-05-11 01:15:00",
          "2023-05-11 01:30:00",
          "2023-05-11 01:45:00",
          "2023-05-11 02:00:00",
          "2023-05-11 02:15:00",
          "2023-05-11 02:30:00",
          "2023-05-11 02:45:00",
          "2023-05-11 03:00:00",
          "2023-05-11 03:15:00",
          "2023-05-11 03:30:00",
          "2023-05-11 03:45:00",
          "2023-05-11 04:00:00",
          "2023-05-11 04:15:00",
          "2023-05-11 04:30:00",
          "2023-05-11 04:45:00",
          "2023-05-11 05:00:00",
          "2023-05-11 05:15:00",
          "2023-05-11 05:30:00",
          "2023-05-11 05:45:00",
          "2023-05-11 06:00:00",
          "2023-05-11 06:15:00",
          "2023-05-11 06:30:00",
          "2023-05-11 06:45:00",
          "2023-05-11 07:00:00",
          "2023-05-11 07:15:00",
          "2023-05-11 07:30:00",
          "2023-05-11 07:45:00",
          "2023-05-11 08:00:00",
          "2023-05-11 08:15:00",
          "2023-05-11 08:30:00",
          "2023-05-11 08:45:00",
          "2023-05-11 09:00:00",
          "2023-05-11 09:15:00",
          "2023-05-11 09:30:00",
          "2023-05-11 09:45:00",
          "2023-05-11 10:00:00",
          "2023-05-11 10:15:00",
          "2023-05-11 10:30:00",
          "2023-05-11 10:45:00",
          "2023-05-11 11:00:00",
          "2023-05-11 11:15:00",
          "2023-05-11 11:30:00",
          "2023-05-11 11:45:00",
          "2023-05-11 12:00:00",
          "2023-05-11 12:15:00",
          "2023-05-11 12:30:00",
          "2023-05-11 12:45:00",
          "2023-05-11 13:00:00",
          "2023-05-11 13:15:00",
          "2023-05-11 13:30:00",
          "2023-05-11 13:45:00",
          "2023-05-11 14:00:00",
          "2023-05-11 14:15:00",
          "2023-05-11 14:30:00",
          "2023-05-11 14:45:00",
          "2023-05-11 15:00:00",
          "2023-05-11 15:15:00",
          "2023-05-11 15:30:00",
          "2023-05-11 15:45:00",
          "2023-05-11 16:00:00",
          "2023-05-11 16:15:00",
          "2023-05-11 16:30:00",
          "2023-05-11 16:45:00",
          "2023-05-11 17:00:00",
          "2023-05-11 17:15:00",
          "2023-05-11 17:30:00",
          "2023-05-11 17:45:00",
          "2023-05-11 18:00:00",
          "2023-05-11 18:15:00",
          "2023-05-11 18:30:00",
          "2023-05-11 18:45:00",
          "2023-05-11 19:00:00",
          "2023-05-11 19:15:00",
          "2023-05-11 19:30:00",
          "2023-05-11 19:45:00",
          "2023-05-11 20:00:00",
          "2023-05-11 20:15:00",
          "2023-05-11 20:30:00",
          "2023-05-11 20:45:00",
          "2023-05-11 21:00:00",
          "2023-05-11 21:15:00",
          "2023-05-11 21:30:00",
          "2023-05-11 21:45:00",
          "2023-05-11 22:00:00",
          "2023-05-11 22:15:00",
          "2023-05-11 22:30:00",
          "2023-05-11 22:45:00",
          "2023-05-11 23:00:00",
          "2023-05-11 23:15:00",
          "2023-05-11 23:30:00",
          "2023-05-11 23:45:00",
          "2023-05-12 00:00:00",
          "2023-05-12 00:15:00",
          "2023-05-12 00:30:00",
          "2023-05-12 00:45:00",
          "2023-05-12 01:00:00",
          "2023-05-12 01:15:00",
          "2023-05-12 01:30:00",
          "2023-05-12 01:45:00",
          "2023-05-12 02:00:00",
          "2023-05-12 02:15:00",
          "2023-05-12 02:30:00",
          "2023-05-12 02:45:00",
          "2023-05-12 03:00:00",
          "2023-05-12 03:15:00",
          "2023-05-12 03:30:00",
          "2023-05-12 03:45:00",
          "2023-05-12 04:00:00",
          "2023-05-12 04:15:00",
          "2023-05-12 04:30:00",
          "2023-05-12 04:45:00",
          "2023-05-12 05:00:00",
          "2023-05-12 05:15:00",
          "2023-05-12 05:30:00",
          "2023-05-12 05:45:00",
          "2023-05-12 06:00:00",
          "2023-05-12 06:15:00",
          "2023-05-12 06:30:00",
          "2023-05-12 06:45:00",
          "2023-05-12 07:00:00",
          "2023-05-12 07:15:00",
          "2023-05-12 07:30:00",
          "2023-05-12 07:45:00",
          "2023-05-12 08:00:00",
          "2023-05-12 08:15:00",
          "2023-05-12 08:30:00",
          "2023-05-12 08:45:00",
          "2023-05-12 09:00:00",
          "2023-05-12 09:15:00",
          "2023-05-12 09:30:00",
          "2023-05-12 09:45:00",
          "2023-05-12 10:00:00",
          "2023-05-12 10:15:00",
          "2023-05-12 10:30:00",
          "2023-05-12 10:45:00",
          "2023-05-12 11:00:00",
          "2023-05-12 11:15:00",
          "2023-05-12 11:30:00",
          "2023-05-12 11:45:00",
          "2023-05-12 12:00:00",
          "2023-05-12 12:15:00",
          "2023-05-12 12:30:00",
          "2023-05-12 12:45:00",
          "2023-05-12 13:00:00",
          "2023-05-12 13:15:00",
          "2023-05-12 13:30:00",
          "2023-05-12 13:45:00",
          "2023-05-12 14:00:00",
          "2023-05-12 14:15:00",
          "2023-05-12 14:30:00",
          "2023-05-12 14:45:00",
          "2023-05-12 15:00:00",
          "2023-05-12 15:15:00",
          "2023-05-12 15:30:00",
          "2023-05-12 15:45:00",
          "2023-05-12 16:00:00",
          "2023-05-12 16:15:00",
          "2023-05-12 16:30:00",
          "2023-05-12 16:45:00",
          "2023-05-12 17:00:00",
          "2023-05-12 17:15:00",
          "2023-05-12 17:30:00",
          "2023-05-12 17:45:00",
          "2023-05-12 18:00:00",
          "2023-05-12 18:15:00",
          "2023-05-12 18:30:00",
          "2023-05-12 18:45:00",
          "2023-05-12 19:00:00",
          "2023-05-12 19:15:00",
          "2023-05-12 19:30:00",
          "2023-05-12 19:45:00",
          "2023-05-12 20:00:00",
          "2023-05-12 20:15:00",
          "2023-05-12 20:30:00",
          "2023-05-12 20:45:00",
          "2023-05-12 21:00:00",
          "2023-05-12 21:15:00"
         ]
        },
        {
         "line": {
          "color": "red",
          "width": 1
         },
         "name": "upper_band",
         "type": "scatter",
         "x": [
          "2023-05-10 07:15:00",
          "2023-05-10 07:30:00",
          "2023-05-10 07:45:00",
          "2023-05-10 08:00:00",
          "2023-05-10 08:15:00",
          "2023-05-10 08:30:00",
          "2023-05-10 08:45:00",
          "2023-05-10 09:00:00",
          "2023-05-10 09:15:00",
          "2023-05-10 09:30:00",
          "2023-05-10 09:45:00",
          "2023-05-10 10:00:00",
          "2023-05-10 10:15:00",
          "2023-05-10 10:30:00",
          "2023-05-10 10:45:00",
          "2023-05-10 11:00:00",
          "2023-05-10 11:15:00",
          "2023-05-10 11:30:00",
          "2023-05-10 11:45:00",
          "2023-05-10 12:00:00",
          "2023-05-10 12:15:00",
          "2023-05-10 12:30:00",
          "2023-05-10 12:45:00",
          "2023-05-10 13:00:00",
          "2023-05-10 13:15:00",
          "2023-05-10 13:30:00",
          "2023-05-10 13:45:00",
          "2023-05-10 14:00:00",
          "2023-05-10 14:15:00",
          "2023-05-10 14:30:00",
          "2023-05-10 14:45:00",
          "2023-05-10 15:00:00",
          "2023-05-10 15:15:00",
          "2023-05-10 15:30:00",
          "2023-05-10 15:45:00",
          "2023-05-10 16:00:00",
          "2023-05-10 16:15:00",
          "2023-05-10 16:30:00",
          "2023-05-10 16:45:00",
          "2023-05-10 17:00:00",
          "2023-05-10 17:15:00",
          "2023-05-10 17:30:00",
          "2023-05-10 17:45:00",
          "2023-05-10 18:00:00",
          "2023-05-10 18:15:00",
          "2023-05-10 18:30:00",
          "2023-05-10 18:45:00",
          "2023-05-10 19:00:00",
          "2023-05-10 19:15:00",
          "2023-05-10 19:30:00",
          "2023-05-10 19:45:00",
          "2023-05-10 20:00:00",
          "2023-05-10 20:15:00",
          "2023-05-10 20:30:00",
          "2023-05-10 20:45:00",
          "2023-05-10 21:00:00",
          "2023-05-10 21:15:00",
          "2023-05-10 21:30:00",
          "2023-05-10 21:45:00",
          "2023-05-10 22:00:00",
          "2023-05-10 22:15:00",
          "2023-05-10 22:30:00",
          "2023-05-10 22:45:00",
          "2023-05-10 23:00:00",
          "2023-05-10 23:15:00",
          "2023-05-10 23:30:00",
          "2023-05-10 23:45:00",
          "2023-05-11 00:00:00",
          "2023-05-11 00:15:00",
          "2023-05-11 00:30:00",
          "2023-05-11 00:45:00",
          "2023-05-11 01:00:00",
          "2023-05-11 01:15:00",
          "2023-05-11 01:30:00",
          "2023-05-11 01:45:00",
          "2023-05-11 02:00:00",
          "2023-05-11 02:15:00",
          "2023-05-11 02:30:00",
          "2023-05-11 02:45:00",
          "2023-05-11 03:00:00",
          "2023-05-11 03:15:00",
          "2023-05-11 03:30:00",
          "2023-05-11 03:45:00",
          "2023-05-11 04:00:00",
          "2023-05-11 04:15:00",
          "2023-05-11 04:30:00",
          "2023-05-11 04:45:00",
          "2023-05-11 05:00:00",
          "2023-05-11 05:15:00",
          "2023-05-11 05:30:00",
          "2023-05-11 05:45:00",
          "2023-05-11 06:00:00",
          "2023-05-11 06:15:00",
          "2023-05-11 06:30:00",
          "2023-05-11 06:45:00",
          "2023-05-11 07:00:00",
          "2023-05-11 07:15:00",
          "2023-05-11 07:30:00",
          "2023-05-11 07:45:00",
          "2023-05-11 08:00:00",
          "2023-05-11 08:15:00",
          "2023-05-11 08:30:00",
          "2023-05-11 08:45:00",
          "2023-05-11 09:00:00",
          "2023-05-11 09:15:00",
          "2023-05-11 09:30:00",
          "2023-05-11 09:45:00",
          "2023-05-11 10:00:00",
          "2023-05-11 10:15:00",
          "2023-05-11 10:30:00",
          "2023-05-11 10:45:00",
          "2023-05-11 11:00:00",
          "2023-05-11 11:15:00",
          "2023-05-11 11:30:00",
          "2023-05-11 11:45:00",
          "2023-05-11 12:00:00",
          "2023-05-11 12:15:00",
          "2023-05-11 12:30:00",
          "2023-05-11 12:45:00",
          "2023-05-11 13:00:00",
          "2023-05-11 13:15:00",
          "2023-05-11 13:30:00",
          "2023-05-11 13:45:00",
          "2023-05-11 14:00:00",
          "2023-05-11 14:15:00",
          "2023-05-11 14:30:00",
          "2023-05-11 14:45:00",
          "2023-05-11 15:00:00",
          "2023-05-11 15:15:00",
          "2023-05-11 15:30:00",
          "2023-05-11 15:45:00",
          "2023-05-11 16:00:00",
          "2023-05-11 16:15:00",
          "2023-05-11 16:30:00",
          "2023-05-11 16:45:00",
          "2023-05-11 17:00:00",
          "2023-05-11 17:15:00",
          "2023-05-11 17:30:00",
          "2023-05-11 17:45:00",
          "2023-05-11 18:00:00",
          "2023-05-11 18:15:00",
          "2023-05-11 18:30:00",
          "2023-05-11 18:45:00",
          "2023-05-11 19:00:00",
          "2023-05-11 19:15:00",
          "2023-05-11 19:30:00",
          "2023-05-11 19:45:00",
          "2023-05-11 20:00:00",
          "2023-05-11 20:15:00",
          "2023-05-11 20:30:00",
          "2023-05-11 20:45:00",
          "2023-05-11 21:00:00",
          "2023-05-11 21:15:00",
          "2023-05-11 21:30:00",
          "2023-05-11 21:45:00",
          "2023-05-11 22:00:00",
          "2023-05-11 22:15:00",
          "2023-05-11 22:30:00",
          "2023-05-11 22:45:00",
          "2023-05-11 23:00:00",
          "2023-05-11 23:15:00",
          "2023-05-11 23:30:00",
          "2023-05-11 23:45:00",
          "2023-05-12 00:00:00",
          "2023-05-12 00:15:00",
          "2023-05-12 00:30:00",
          "2023-05-12 00:45:00",
          "2023-05-12 01:00:00",
          "2023-05-12 01:15:00",
          "2023-05-12 01:30:00",
          "2023-05-12 01:45:00",
          "2023-05-12 02:00:00",
          "2023-05-12 02:15:00",
          "2023-05-12 02:30:00",
          "2023-05-12 02:45:00",
          "2023-05-12 03:00:00",
          "2023-05-12 03:15:00",
          "2023-05-12 03:30:00",
          "2023-05-12 03:45:00",
          "2023-05-12 04:00:00",
          "2023-05-12 04:15:00",
          "2023-05-12 04:30:00",
          "2023-05-12 04:45:00",
          "2023-05-12 05:00:00",
          "2023-05-12 05:15:00",
          "2023-05-12 05:30:00",
          "2023-05-12 05:45:00",
          "2023-05-12 06:00:00",
          "2023-05-12 06:15:00",
          "2023-05-12 06:30:00",
          "2023-05-12 06:45:00",
          "2023-05-12 07:00:00",
          "2023-05-12 07:15:00",
          "2023-05-12 07:30:00",
          "2023-05-12 07:45:00",
          "2023-05-12 08:00:00",
          "2023-05-12 08:15:00",
          "2023-05-12 08:30:00",
          "2023-05-12 08:45:00",
          "2023-05-12 09:00:00",
          "2023-05-12 09:15:00",
          "2023-05-12 09:30:00",
          "2023-05-12 09:45:00",
          "2023-05-12 10:00:00",
          "2023-05-12 10:15:00",
          "2023-05-12 10:30:00",
          "2023-05-12 10:45:00",
          "2023-05-12 11:00:00",
          "2023-05-12 11:15:00",
          "2023-05-12 11:30:00",
          "2023-05-12 11:45:00",
          "2023-05-12 12:00:00",
          "2023-05-12 12:15:00",
          "2023-05-12 12:30:00",
          "2023-05-12 12:45:00",
          "2023-05-12 13:00:00",
          "2023-05-12 13:15:00",
          "2023-05-12 13:30:00",
          "2023-05-12 13:45:00",
          "2023-05-12 14:00:00",
          "2023-05-12 14:15:00",
          "2023-05-12 14:30:00",
          "2023-05-12 14:45:00",
          "2023-05-12 15:00:00",
          "2023-05-12 15:15:00",
          "2023-05-12 15:30:00",
          "2023-05-12 15:45:00",
          "2023-05-12 16:00:00",
          "2023-05-12 16:15:00",
          "2023-05-12 16:30:00",
          "2023-05-12 16:45:00",
          "2023-05-12 17:00:00",
          "2023-05-12 17:15:00",
          "2023-05-12 17:30:00",
          "2023-05-12 17:45:00",
          "2023-05-12 18:00:00",
          "2023-05-12 18:15:00",
          "2023-05-12 18:30:00",
          "2023-05-12 18:45:00",
          "2023-05-12 19:00:00",
          "2023-05-12 19:15:00",
          "2023-05-12 19:30:00",
          "2023-05-12 19:45:00",
          "2023-05-12 20:00:00",
          "2023-05-12 20:15:00",
          "2023-05-12 20:30:00",
          "2023-05-12 20:45:00",
          "2023-05-12 21:00:00",
          "2023-05-12 21:15:00"
         ],
         "y": [
          10.369986261662174,
          10.359345849199105,
          10.352554305086338,
          10.352170197558987,
          10.351906351555089,
          10.35158415434143,
          10.357036648758243,
          10.361009492530272,
          10.36110788100849,
          10.458165646366924,
          10.513583497861061,
          10.554492870593593,
          10.585506944332819,
          10.61347198106668,
          10.638038772442243,
          10.658801509129715,
          10.680287557660723,
          10.694400628236346,
          10.703328960785266,
          10.710171066214627,
          10.709640856737193,
          10.71600145502198,
          10.718592312244635,
          10.723917371793734,
          10.723882720212046,
          10.711578594399219,
          10.702219645618582,
          10.68525187264606,
          10.698594717743036,
          10.708160481658773,
          10.703925271309272,
          10.702554152867869,
          10.697952733605183,
          10.692814822401273,
          10.687846302729477,
          10.687268206354434,
          10.693705595705634,
          10.70518305910478,
          10.712936286111795,
          10.72241158869448,
          10.738771032590469,
          10.754741990699896,
          10.76705688652033,
          10.77516719295021,
          10.773589113171406,
          10.774273750132325,
          10.775040668863443,
          10.781066983688866,
          10.755638985783309,
          10.740977985897436,
          10.741236297849097,
          10.72245620204563,
          10.709985538770592,
          10.702603786877894,
          10.691573627976643,
          10.689832456134337,
          10.697467098141285,
          10.70853041838481,
          10.715322282319784,
          10.716862251212682,
          10.710167762328705,
          10.697523582282466,
          10.68730564186856,
          10.6755596266227,
          10.677517604178869,
          10.682500000000024,
          10.683895116933659,
          10.686179770046992,
          10.686417217748632,
          10.679966212359458,
          10.664306767797653,
          10.649391534893633,
          10.63501851724857,
          10.6107039932781,
          10.584244804268975,
          10.569110462095399,
          10.564169540187173,
          10.566385652021616,
          10.563087991818962,
          10.555240107444297,
          10.533003746517501,
          10.519046499057179,
          10.503866239674036,
          10.485215815216455,
          10.475319404798107,
          10.468867238037017,
          10.460367926789514,
          10.461697010102254,
          10.460580524923401,
          10.457826992425803,
          10.456540309476939,
          10.4501600375042,
          10.447849803835705,
          10.43989066063006,
          10.42893819034777,
          10.428938190347772,
          10.43667675788172,
          10.444287665849549,
          10.448281383699157,
          10.449551777649274,
          10.45560034129589,
          10.458185862276475,
          10.457880477258382,
          10.466280729964467,
          10.478335092458476,
          10.478335092458476,
          10.47768195124532,
          10.475655700828172,
          10.481198257397928,
          10.479782366564041,
          10.490826745460712,
          10.496722996110856,
          10.507644568987875,
          10.521741666409424,
          10.530550842512257,
          10.545160887986428,
          10.544817689931016,
          10.53942035470769,
          10.532340299990103,
          10.523978027356742,
          10.510926527492355,
          10.49617486623774,
          10.483612064685442,
          10.458045634673663,
          10.425079680942074,
          10.406978855352849,
          10.385281113888757,
          10.360474768695266,
          10.342770765395425,
          10.300343469540996,
          10.280256263445475,
          10.251669632218592,
          10.23161634867882,
          10.22382857751911,
          10.214101519690413,
          10.213259550888667,
          10.208152331924046,
          10.202117626646803,
          10.198316254623396,
          10.194327333488054,
          10.194327333488054,
          10.187715118310994,
          10.192692787260452,
          10.20563993204954,
          10.219733412458368,
          10.220756487597757,
          10.226830343736356,
          10.22736288492755,
          10.23142927584869,
          10.243677016867055,
          10.248709355095714,
          10.249783661714275,
          10.25120858539304,
          10.247063838865447,
          10.247134776470402,
          10.243401699437207,
          10.242565599969057,
          10.244911413325054,
          10.256578662035365,
          10.261204532925529,
          10.265166512630616,
          10.276780228307981,
          10.290422001597754,
          10.295162344730306,
          10.292563803659828,
          10.292269876467552,
          10.287979873249267,
          10.292695262172249,
          10.284970156788711,
          10.265785587987498,
          10.248960587579518,
          10.2357863100191,
          10.218162226715236,
          10.19373648025682,
          10.165044553985009,
          10.143591571048471,
          10.134447406767185,
          10.114546434165309,
          10.101936175424177,
          10.08219141756668,
          10.065159439250422,
          10.058810912477014,
          10.062416968052302,
          10.069530922905814,
          10.072789133679342,
          10.080215138387608,
          10.084648956862946,
          10.109988543253353,
          10.123437724604333,
          10.139021426931583,
          10.155432709208993,
          10.17160227555452,
          10.179190356093464,
          10.190493283447303,
          10.19591664541888,
          10.195331373349964,
          10.1822020286231,
          10.17752272492519,
          10.1877261337744,
          10.185088327497272,
          10.187840289854451,
          10.20224230738868,
          10.208024865872556,
          10.210622885631933,
          10.212440196658156,
          10.215304313374041,
          10.209421384425465,
          10.21657988855641,
          10.215469417731647,
          10.214926430790777,
          10.221137014414396,
          10.227184261019197,
          10.227922148953171,
          10.22822736483355,
          10.228264123166719,
          10.228317608663126,
          10.228377820186434,
          10.228300857055428,
          10.225228979693924,
          10.224894846269418,
          10.225888161718661,
          10.215754807543979,
          10.211057924799276,
          10.213053320240554,
          10.20880909802295,
          10.20880909802295,
          10.209498322128574,
          10.203554694010947,
          10.204234998499516,
          10.207589816555288,
          10.226109578903143,
          10.238186943155608,
          10.253142938868745,
          10.257687816936448,
          10.266202664539588,
          10.28649883720291,
          10.306348229982595,
          10.323367072024096,
          10.338259362967472,
          10.363272032252748,
          10.383372170347817,
          10.400087896862766,
          10.410137978410866,
          10.420451508025797,
          10.433431582665829,
          10.454473504403898,
          10.473867042151854,
          10.48346568297572,
          10.46291896666756
         ]
        },
        {
         "line": {
          "color": "red",
          "width": 1
         },
         "name": "lower_band",
         "type": "scatter",
         "x": [
          "2023-05-10 07:15:00",
          "2023-05-10 07:30:00",
          "2023-05-10 07:45:00",
          "2023-05-10 08:00:00",
          "2023-05-10 08:15:00",
          "2023-05-10 08:30:00",
          "2023-05-10 08:45:00",
          "2023-05-10 09:00:00",
          "2023-05-10 09:15:00",
          "2023-05-10 09:30:00",
          "2023-05-10 09:45:00",
          "2023-05-10 10:00:00",
          "2023-05-10 10:15:00",
          "2023-05-10 10:30:00",
          "2023-05-10 10:45:00",
          "2023-05-10 11:00:00",
          "2023-05-10 11:15:00",
          "2023-05-10 11:30:00",
          "2023-05-10 11:45:00",
          "2023-05-10 12:00:00",
          "2023-05-10 12:15:00",
          "2023-05-10 12:30:00",
          "2023-05-10 12:45:00",
          "2023-05-10 13:00:00",
          "2023-05-10 13:15:00",
          "2023-05-10 13:30:00",
          "2023-05-10 13:45:00",
          "2023-05-10 14:00:00",
          "2023-05-10 14:15:00",
          "2023-05-10 14:30:00",
          "2023-05-10 14:45:00",
          "2023-05-10 15:00:00",
          "2023-05-10 15:15:00",
          "2023-05-10 15:30:00",
          "2023-05-10 15:45:00",
          "2023-05-10 16:00:00",
          "2023-05-10 16:15:00",
          "2023-05-10 16:30:00",
          "2023-05-10 16:45:00",
          "2023-05-10 17:00:00",
          "2023-05-10 17:15:00",
          "2023-05-10 17:30:00",
          "2023-05-10 17:45:00",
          "2023-05-10 18:00:00",
          "2023-05-10 18:15:00",
          "2023-05-10 18:30:00",
          "2023-05-10 18:45:00",
          "2023-05-10 19:00:00",
          "2023-05-10 19:15:00",
          "2023-05-10 19:30:00",
          "2023-05-10 19:45:00",
          "2023-05-10 20:00:00",
          "2023-05-10 20:15:00",
          "2023-05-10 20:30:00",
          "2023-05-10 20:45:00",
          "2023-05-10 21:00:00",
          "2023-05-10 21:15:00",
          "2023-05-10 21:30:00",
          "2023-05-10 21:45:00",
          "2023-05-10 22:00:00",
          "2023-05-10 22:15:00",
          "2023-05-10 22:30:00",
          "2023-05-10 22:45:00",
          "2023-05-10 23:00:00",
          "2023-05-10 23:15:00",
          "2023-05-10 23:30:00",
          "2023-05-10 23:45:00",
          "2023-05-11 00:00:00",
          "2023-05-11 00:15:00",
          "2023-05-11 00:30:00",
          "2023-05-11 00:45:00",
          "2023-05-11 01:00:00",
          "2023-05-11 01:15:00",
          "2023-05-11 01:30:00",
          "2023-05-11 01:45:00",
          "2023-05-11 02:00:00",
          "2023-05-11 02:15:00",
          "2023-05-11 02:30:00",
          "2023-05-11 02:45:00",
          "2023-05-11 03:00:00",
          "2023-05-11 03:15:00",
          "2023-05-11 03:30:00",
          "2023-05-11 03:45:00",
          "2023-05-11 04:00:00",
          "2023-05-11 04:15:00",
          "2023-05-11 04:30:00",
          "2023-05-11 04:45:00",
          "2023-05-11 05:00:00",
          "2023-05-11 05:15:00",
          "2023-05-11 05:30:00",
          "2023-05-11 05:45:00",
          "2023-05-11 06:00:00",
          "2023-05-11 06:15:00",
          "2023-05-11 06:30:00",
          "2023-05-11 06:45:00",
          "2023-05-11 07:00:00",
          "2023-05-11 07:15:00",
          "2023-05-11 07:30:00",
          "2023-05-11 07:45:00",
          "2023-05-11 08:00:00",
          "2023-05-11 08:15:00",
          "2023-05-11 08:30:00",
          "2023-05-11 08:45:00",
          "2023-05-11 09:00:00",
          "2023-05-11 09:15:00",
          "2023-05-11 09:30:00",
          "2023-05-11 09:45:00",
          "2023-05-11 10:00:00",
          "2023-05-11 10:15:00",
          "2023-05-11 10:30:00",
          "2023-05-11 10:45:00",
          "2023-05-11 11:00:00",
          "2023-05-11 11:15:00",
          "2023-05-11 11:30:00",
          "2023-05-11 11:45:00",
          "2023-05-11 12:00:00",
          "2023-05-11 12:15:00",
          "2023-05-11 12:30:00",
          "2023-05-11 12:45:00",
          "2023-05-11 13:00:00",
          "2023-05-11 13:15:00",
          "2023-05-11 13:30:00",
          "2023-05-11 13:45:00",
          "2023-05-11 14:00:00",
          "2023-05-11 14:15:00",
          "2023-05-11 14:30:00",
          "2023-05-11 14:45:00",
          "2023-05-11 15:00:00",
          "2023-05-11 15:15:00",
          "2023-05-11 15:30:00",
          "2023-05-11 15:45:00",
          "2023-05-11 16:00:00",
          "2023-05-11 16:15:00",
          "2023-05-11 16:30:00",
          "2023-05-11 16:45:00",
          "2023-05-11 17:00:00",
          "2023-05-11 17:15:00",
          "2023-05-11 17:30:00",
          "2023-05-11 17:45:00",
          "2023-05-11 18:00:00",
          "2023-05-11 18:15:00",
          "2023-05-11 18:30:00",
          "2023-05-11 18:45:00",
          "2023-05-11 19:00:00",
          "2023-05-11 19:15:00",
          "2023-05-11 19:30:00",
          "2023-05-11 19:45:00",
          "2023-05-11 20:00:00",
          "2023-05-11 20:15:00",
          "2023-05-11 20:30:00",
          "2023-05-11 20:45:00",
          "2023-05-11 21:00:00",
          "2023-05-11 21:15:00",
          "2023-05-11 21:30:00",
          "2023-05-11 21:45:00",
          "2023-05-11 22:00:00",
          "2023-05-11 22:15:00",
          "2023-05-11 22:30:00",
          "2023-05-11 22:45:00",
          "2023-05-11 23:00:00",
          "2023-05-11 23:15:00",
          "2023-05-11 23:30:00",
          "2023-05-11 23:45:00",
          "2023-05-12 00:00:00",
          "2023-05-12 00:15:00",
          "2023-05-12 00:30:00",
          "2023-05-12 00:45:00",
          "2023-05-12 01:00:00",
          "2023-05-12 01:15:00",
          "2023-05-12 01:30:00",
          "2023-05-12 01:45:00",
          "2023-05-12 02:00:00",
          "2023-05-12 02:15:00",
          "2023-05-12 02:30:00",
          "2023-05-12 02:45:00",
          "2023-05-12 03:00:00",
          "2023-05-12 03:15:00",
          "2023-05-12 03:30:00",
          "2023-05-12 03:45:00",
          "2023-05-12 04:00:00",
          "2023-05-12 04:15:00",
          "2023-05-12 04:30:00",
          "2023-05-12 04:45:00",
          "2023-05-12 05:00:00",
          "2023-05-12 05:15:00",
          "2023-05-12 05:30:00",
          "2023-05-12 05:45:00",
          "2023-05-12 06:00:00",
          "2023-05-12 06:15:00",
          "2023-05-12 06:30:00",
          "2023-05-12 06:45:00",
          "2023-05-12 07:00:00",
          "2023-05-12 07:15:00",
          "2023-05-12 07:30:00",
          "2023-05-12 07:45:00",
          "2023-05-12 08:00:00",
          "2023-05-12 08:15:00",
          "2023-05-12 08:30:00",
          "2023-05-12 08:45:00",
          "2023-05-12 09:00:00",
          "2023-05-12 09:15:00",
          "2023-05-12 09:30:00",
          "2023-05-12 09:45:00",
          "2023-05-12 10:00:00",
          "2023-05-12 10:15:00",
          "2023-05-12 10:30:00",
          "2023-05-12 10:45:00",
          "2023-05-12 11:00:00",
          "2023-05-12 11:15:00",
          "2023-05-12 11:30:00",
          "2023-05-12 11:45:00",
          "2023-05-12 12:00:00",
          "2023-05-12 12:15:00",
          "2023-05-12 12:30:00",
          "2023-05-12 12:45:00",
          "2023-05-12 13:00:00",
          "2023-05-12 13:15:00",
          "2023-05-12 13:30:00",
          "2023-05-12 13:45:00",
          "2023-05-12 14:00:00",
          "2023-05-12 14:15:00",
          "2023-05-12 14:30:00",
          "2023-05-12 14:45:00",
          "2023-05-12 15:00:00",
          "2023-05-12 15:15:00",
          "2023-05-12 15:30:00",
          "2023-05-12 15:45:00",
          "2023-05-12 16:00:00",
          "2023-05-12 16:15:00",
          "2023-05-12 16:30:00",
          "2023-05-12 16:45:00",
          "2023-05-12 17:00:00",
          "2023-05-12 17:15:00",
          "2023-05-12 17:30:00",
          "2023-05-12 17:45:00",
          "2023-05-12 18:00:00",
          "2023-05-12 18:15:00",
          "2023-05-12 18:30:00",
          "2023-05-12 18:45:00",
          "2023-05-12 19:00:00",
          "2023-05-12 19:15:00",
          "2023-05-12 19:30:00",
          "2023-05-12 19:45:00",
          "2023-05-12 20:00:00",
          "2023-05-12 20:15:00",
          "2023-05-12 20:30:00",
          "2023-05-12 20:45:00",
          "2023-05-12 21:00:00",
          "2023-05-12 21:15:00"
         ],
         "y": [
          10.279013738337824,
          10.281654150800893,
          10.283445694913665,
          10.283329802441013,
          10.284593648444913,
          10.283915845658571,
          10.281963351241757,
          10.281990507469725,
          10.279892118991508,
          10.206334353633077,
          10.175916502138941,
          10.160007129406408,
          10.153493055667182,
          10.149528018933317,
          10.147961227557758,
          10.155198490870285,
          10.162712442339277,
          10.173099371763653,
          10.187171039214734,
          10.200328933785372,
          10.221859143262806,
          10.243498544978019,
          10.266907687755364,
          10.290582628206268,
          10.321117279787952,
          10.358421405600781,
          10.389280354381421,
          10.418248127353944,
          10.400905282256963,
          10.366839518341227,
          10.356074728690727,
          10.33894584713213,
          10.333047266394816,
          10.331185177598728,
          10.330153697270523,
          10.330231793645568,
          10.327794404294366,
          10.324316940895223,
          10.323563713888205,
          10.32308841130552,
          10.322728967409533,
          10.317758009300102,
          10.315443113479674,
          10.31333280704979,
          10.313410886828594,
          10.313726249867676,
          10.313959331136555,
          10.321933016311132,
          10.381361014216692,
          10.423022014102562,
          10.444763702150903,
          10.48704379795437,
          10.515514461229408,
          10.536896213122105,
          10.559926372023357,
          10.563167543865664,
          10.545532901858717,
          10.519469581615189,
          10.501677717680218,
          10.490137748787319,
          10.488332237671298,
          10.485476417717534,
          10.48169435813144,
          10.4784403733773,
          10.464482395821134,
          10.448499999999976,
          10.436104883066339,
          10.414820229953007,
          10.396582782251366,
          10.384033787640542,
          10.374693232202345,
          10.370608465106367,
          10.36498148275143,
          10.370296006721901,
          10.379755195731027,
          10.378889537904602,
          10.370830459812826,
          10.356614347978386,
          10.349912008181041,
          10.346759892555704,
          10.3494962534825,
          10.34695350094282,
          10.345133760325961,
          10.351784184783545,
          10.353680595201894,
          10.354132761962983,
          10.352132073210486,
          10.343802989897748,
          10.3394194750766,
          10.335173007574197,
          10.332459690523063,
          10.332839962495802,
          10.333150196164294,
          10.337109339369942,
          10.34406180965223,
          10.344061809652231,
          10.34032324211828,
          10.33971233415045,
          10.338718616300842,
          10.338448222350726,
          10.33839965870411,
          10.341314137723527,
          10.34661952274162,
          10.34421927003553,
          10.340164907541524,
          10.340164907541524,
          10.341818048754682,
          10.345844299171825,
          10.336301742602075,
          10.340717633435958,
          10.322173254539287,
          10.309277003889145,
          10.284855431012122,
          10.251758333590574,
          10.221949157487744,
          10.179839112013573,
          10.154182310068983,
          10.134579645292309,
          10.117659700009895,
          10.10302197264326,
          10.089073472507646,
          10.08032513376226,
          10.066887935314558,
          10.059454365326339,
          10.052420319057925,
          10.03752114464715,
          10.033718886111243,
          10.033525231304733,
          10.029729234604574,
          10.046156530459003,
          10.050743736554525,
          10.064330367781407,
          10.070883651321182,
          10.064671422480894,
          10.064398480309588,
          10.062740449111333,
          10.062347668075956,
          10.064382373353197,
          10.066183745376605,
          10.068172666511945,
          10.068172666511945,
          10.071284881689007,
          10.069307212739549,
          10.06436006795046,
          10.065266587541633,
          10.076243512402243,
          10.078169656263643,
          10.081637115072452,
          10.086570724151311,
          10.085322983132945,
          10.087290644904284,
          10.088216338285726,
          10.09279141460696,
          10.109936161134552,
          10.1208652235296,
          10.131598300562793,
          10.132934400030942,
          10.128588586674946,
          10.107921337964635,
          10.09629546707447,
          10.084833487369385,
          10.061719771692019,
          10.030077998402245,
          10.004337655269696,
          9.98393619634017,
          9.965230123532448,
          9.949520126750734,
          9.92280473782775,
          9.90802984321129,
          9.902214412012501,
          9.898539412420483,
          9.893213689980898,
          9.892837773284764,
          9.89326351974318,
          9.89145544601499,
          9.881408428951527,
          9.863552593232813,
          9.86145356583469,
          9.863063824575823,
          9.86780858243332,
          9.876840560749578,
          9.879189087522985,
          9.878083031947698,
          9.875469077094186,
          9.87471086632066,
          9.872284861612393,
          9.871351043137054,
          9.864511456746646,
          9.862562275395664,
          9.858978573068418,
          9.854567290791008,
          9.851897724445482,
          9.852309643906537,
          9.855506716552696,
          9.869083354581122,
          9.894168626650037,
          9.930797971376903,
          9.957477275074812,
          9.967773866225597,
          9.990411672502727,
          10.000159710145551,
          10.007257692611322,
          10.016975134127446,
          10.025877114368067,
          10.040059803341846,
          10.050695686625957,
          10.069578615574539,
          10.069420111443591,
          10.076530582268354,
          10.079073569209223,
          10.066362985585606,
          10.052315738980802,
          10.05057785104683,
          10.04877263516645,
          10.05123587683328,
          10.051682391336872,
          10.056622179813566,
          10.056199142944573,
          10.055771020306075,
          10.055605153730582,
          10.056111838281339,
          10.059745192456022,
          10.059942075200725,
          10.059446679759446,
          10.06069090197705,
          10.06069090197705,
          10.060501677871425,
          10.062945305989054,
          10.054265001500482,
          10.054410183444713,
          10.054890421096855,
          10.062813056844394,
          10.065857061131254,
          10.072812183063553,
          10.074797335460413,
          10.071501162797091,
          10.067651770017408,
          10.069132927975906,
          10.07124063703253,
          10.068227967747251,
          10.068627829652185,
          10.072912103137233,
          10.083862021589134,
          10.090548491974202,
          10.100068417334167,
          10.103026495596099,
          10.110632957848145,
          10.12653431702428,
          10.176081033332439
         ]
        },
        {
         "line": {
          "color": "blue",
          "dash": "dash",
          "width": 1
         },
         "name": "upper_KC",
         "type": "scatter",
         "x": [
          "2023-05-10 07:15:00",
          "2023-05-10 07:30:00",
          "2023-05-10 07:45:00",
          "2023-05-10 08:00:00",
          "2023-05-10 08:15:00",
          "2023-05-10 08:30:00",
          "2023-05-10 08:45:00",
          "2023-05-10 09:00:00",
          "2023-05-10 09:15:00",
          "2023-05-10 09:30:00",
          "2023-05-10 09:45:00",
          "2023-05-10 10:00:00",
          "2023-05-10 10:15:00",
          "2023-05-10 10:30:00",
          "2023-05-10 10:45:00",
          "2023-05-10 11:00:00",
          "2023-05-10 11:15:00",
          "2023-05-10 11:30:00",
          "2023-05-10 11:45:00",
          "2023-05-10 12:00:00",
          "2023-05-10 12:15:00",
          "2023-05-10 12:30:00",
          "2023-05-10 12:45:00",
          "2023-05-10 13:00:00",
          "2023-05-10 13:15:00",
          "2023-05-10 13:30:00",
          "2023-05-10 13:45:00",
          "2023-05-10 14:00:00",
          "2023-05-10 14:15:00",
          "2023-05-10 14:30:00",
          "2023-05-10 14:45:00",
          "2023-05-10 15:00:00",
          "2023-05-10 15:15:00",
          "2023-05-10 15:30:00",
          "2023-05-10 15:45:00",
          "2023-05-10 16:00:00",
          "2023-05-10 16:15:00",
          "2023-05-10 16:30:00",
          "2023-05-10 16:45:00",
          "2023-05-10 17:00:00",
          "2023-05-10 17:15:00",
          "2023-05-10 17:30:00",
          "2023-05-10 17:45:00",
          "2023-05-10 18:00:00",
          "2023-05-10 18:15:00",
          "2023-05-10 18:30:00",
          "2023-05-10 18:45:00",
          "2023-05-10 19:00:00",
          "2023-05-10 19:15:00",
          "2023-05-10 19:30:00",
          "2023-05-10 19:45:00",
          "2023-05-10 20:00:00",
          "2023-05-10 20:15:00",
          "2023-05-10 20:30:00",
          "2023-05-10 20:45:00",
          "2023-05-10 21:00:00",
          "2023-05-10 21:15:00",
          "2023-05-10 21:30:00",
          "2023-05-10 21:45:00",
          "2023-05-10 22:00:00",
          "2023-05-10 22:15:00",
          "2023-05-10 22:30:00",
          "2023-05-10 22:45:00",
          "2023-05-10 23:00:00",
          "2023-05-10 23:15:00",
          "2023-05-10 23:30:00",
          "2023-05-10 23:45:00",
          "2023-05-11 00:00:00",
          "2023-05-11 00:15:00",
          "2023-05-11 00:30:00",
          "2023-05-11 00:45:00",
          "2023-05-11 01:00:00",
          "2023-05-11 01:15:00",
          "2023-05-11 01:30:00",
          "2023-05-11 01:45:00",
          "2023-05-11 02:00:00",
          "2023-05-11 02:15:00",
          "2023-05-11 02:30:00",
          "2023-05-11 02:45:00",
          "2023-05-11 03:00:00",
          "2023-05-11 03:15:00",
          "2023-05-11 03:30:00",
          "2023-05-11 03:45:00",
          "2023-05-11 04:00:00",
          "2023-05-11 04:15:00",
          "2023-05-11 04:30:00",
          "2023-05-11 04:45:00",
          "2023-05-11 05:00:00",
          "2023-05-11 05:15:00",
          "2023-05-11 05:30:00",
          "2023-05-11 05:45:00",
          "2023-05-11 06:00:00",
          "2023-05-11 06:15:00",
          "2023-05-11 06:30:00",
          "2023-05-11 06:45:00",
          "2023-05-11 07:00:00",
          "2023-05-11 07:15:00",
          "2023-05-11 07:30:00",
          "2023-05-11 07:45:00",
          "2023-05-11 08:00:00",
          "2023-05-11 08:15:00",
          "2023-05-11 08:30:00",
          "2023-05-11 08:45:00",
          "2023-05-11 09:00:00",
          "2023-05-11 09:15:00",
          "2023-05-11 09:30:00",
          "2023-05-11 09:45:00",
          "2023-05-11 10:00:00",
          "2023-05-11 10:15:00",
          "2023-05-11 10:30:00",
          "2023-05-11 10:45:00",
          "2023-05-11 11:00:00",
          "2023-05-11 11:15:00",
          "2023-05-11 11:30:00",
          "2023-05-11 11:45:00",
          "2023-05-11 12:00:00",
          "2023-05-11 12:15:00",
          "2023-05-11 12:30:00",
          "2023-05-11 12:45:00",
          "2023-05-11 13:00:00",
          "2023-05-11 13:15:00",
          "2023-05-11 13:30:00",
          "2023-05-11 13:45:00",
          "2023-05-11 14:00:00",
          "2023-05-11 14:15:00",
          "2023-05-11 14:30:00",
          "2023-05-11 14:45:00",
          "2023-05-11 15:00:00",
          "2023-05-11 15:15:00",
          "2023-05-11 15:30:00",
          "2023-05-11 15:45:00",
          "2023-05-11 16:00:00",
          "2023-05-11 16:15:00",
          "2023-05-11 16:30:00",
          "2023-05-11 16:45:00",
          "2023-05-11 17:00:00",
          "2023-05-11 17:15:00",
          "2023-05-11 17:30:00",
          "2023-05-11 17:45:00",
          "2023-05-11 18:00:00",
          "2023-05-11 18:15:00",
          "2023-05-11 18:30:00",
          "2023-05-11 18:45:00",
          "2023-05-11 19:00:00",
          "2023-05-11 19:15:00",
          "2023-05-11 19:30:00",
          "2023-05-11 19:45:00",
          "2023-05-11 20:00:00",
          "2023-05-11 20:15:00",
          "2023-05-11 20:30:00",
          "2023-05-11 20:45:00",
          "2023-05-11 21:00:00",
          "2023-05-11 21:15:00",
          "2023-05-11 21:30:00",
          "2023-05-11 21:45:00",
          "2023-05-11 22:00:00",
          "2023-05-11 22:15:00",
          "2023-05-11 22:30:00",
          "2023-05-11 22:45:00",
          "2023-05-11 23:00:00",
          "2023-05-11 23:15:00",
          "2023-05-11 23:30:00",
          "2023-05-11 23:45:00",
          "2023-05-12 00:00:00",
          "2023-05-12 00:15:00",
          "2023-05-12 00:30:00",
          "2023-05-12 00:45:00",
          "2023-05-12 01:00:00",
          "2023-05-12 01:15:00",
          "2023-05-12 01:30:00",
          "2023-05-12 01:45:00",
          "2023-05-12 02:00:00",
          "2023-05-12 02:15:00",
          "2023-05-12 02:30:00",
          "2023-05-12 02:45:00",
          "2023-05-12 03:00:00",
          "2023-05-12 03:15:00",
          "2023-05-12 03:30:00",
          "2023-05-12 03:45:00",
          "2023-05-12 04:00:00",
          "2023-05-12 04:15:00",
          "2023-05-12 04:30:00",
          "2023-05-12 04:45:00",
          "2023-05-12 05:00:00",
          "2023-05-12 05:15:00",
          "2023-05-12 05:30:00",
          "2023-05-12 05:45:00",
          "2023-05-12 06:00:00",
          "2023-05-12 06:15:00",
          "2023-05-12 06:30:00",
          "2023-05-12 06:45:00",
          "2023-05-12 07:00:00",
          "2023-05-12 07:15:00",
          "2023-05-12 07:30:00",
          "2023-05-12 07:45:00",
          "2023-05-12 08:00:00",
          "2023-05-12 08:15:00",
          "2023-05-12 08:30:00",
          "2023-05-12 08:45:00",
          "2023-05-12 09:00:00",
          "2023-05-12 09:15:00",
          "2023-05-12 09:30:00",
          "2023-05-12 09:45:00",
          "2023-05-12 10:00:00",
          "2023-05-12 10:15:00",
          "2023-05-12 10:30:00",
          "2023-05-12 10:45:00",
          "2023-05-12 11:00:00",
          "2023-05-12 11:15:00",
          "2023-05-12 11:30:00",
          "2023-05-12 11:45:00",
          "2023-05-12 12:00:00",
          "2023-05-12 12:15:00",
          "2023-05-12 12:30:00",
          "2023-05-12 12:45:00",
          "2023-05-12 13:00:00",
          "2023-05-12 13:15:00",
          "2023-05-12 13:30:00",
          "2023-05-12 13:45:00",
          "2023-05-12 14:00:00",
          "2023-05-12 14:15:00",
          "2023-05-12 14:30:00",
          "2023-05-12 14:45:00",
          "2023-05-12 15:00:00",
          "2023-05-12 15:15:00",
          "2023-05-12 15:30:00",
          "2023-05-12 15:45:00",
          "2023-05-12 16:00:00",
          "2023-05-12 16:15:00",
          "2023-05-12 16:30:00",
          "2023-05-12 16:45:00",
          "2023-05-12 17:00:00",
          "2023-05-12 17:15:00",
          "2023-05-12 17:30:00",
          "2023-05-12 17:45:00",
          "2023-05-12 18:00:00",
          "2023-05-12 18:15:00",
          "2023-05-12 18:30:00",
          "2023-05-12 18:45:00",
          "2023-05-12 19:00:00",
          "2023-05-12 19:15:00",
          "2023-05-12 19:30:00",
          "2023-05-12 19:45:00",
          "2023-05-12 20:00:00",
          "2023-05-12 20:15:00",
          "2023-05-12 20:30:00",
          "2023-05-12 20:45:00",
          "2023-05-12 21:00:00",
          "2023-05-12 21:15:00"
         ],
         "y": [
          10.384770517534447,
          10.380721332528184,
          10.371362908432152,
          10.370956015989941,
          10.367236740355407,
          10.367375514836242,
          10.377829966684198,
          10.381497245468887,
          10.403679564474546,
          10.480760552751901,
          10.485349543160648,
          10.50637689894962,
          10.514694735504236,
          10.522113874503464,
          10.523047715502836,
          10.528402676320502,
          10.531738553353136,
          10.54030881637984,
          10.543343577038051,
          10.546417472122041,
          10.553977931736215,
          10.577845580511449,
          10.586646384054822,
          10.599074314226673,
          10.61126534800364,
          10.62671710291207,
          10.62760944783715,
          10.651453184594033,
          10.74450715103148,
          10.724119487207574,
          10.726325034988015,
          10.697743210444738,
          10.684858081272967,
          10.664202066496065,
          10.638983508951327,
          10.651918325505632,
          10.649705902686424,
          10.635259374925258,
          10.630484943120665,
          10.628214953462361,
          10.636130416469205,
          10.633379431656621,
          10.630264989537238,
          10.627989536894102,
          10.651559621095174,
          10.646048780896052,
          10.64299445709677,
          10.644359101260992,
          10.649930173758994,
          10.663624687620993,
          10.67069292623536,
          10.686044212374386,
          10.686081628306315,
          10.687930423159713,
          10.689715800767038,
          10.695199291536667,
          10.699526693075457,
          10.69284002160719,
          10.681187290405884,
          10.679335055786632,
          10.677660500189063,
          10.67201768197287,
          10.662650830705076,
          10.651850679667788,
          10.645877828819101,
          10.632218223579263,
          10.617314910201214,
          10.61812129016463,
          10.607735601043787,
          10.597101855399464,
          10.579583336235924,
          10.570068184193028,
          10.554601241612477,
          10.548810106773846,
          10.532435541905876,
          10.534356352468443,
          10.526427924746907,
          10.523350120247471,
          10.516650098384297,
          10.511122807768968,
          10.501350479083701,
          10.490354937432118,
          10.47688131244446,
          10.474993801090923,
          10.463449473619846,
          10.459731387507146,
          10.463439317051302,
          10.482268532132885,
          10.478696980835995,
          10.475888438865814,
          10.474454177253849,
          10.463735235934967,
          10.456419738492245,
          10.449252513311837,
          10.44166114725514,
          10.435722756845117,
          10.436954982873276,
          10.439826804169043,
          10.442176476138307,
          10.442008025931344,
          10.444461112125644,
          10.448127273557345,
          10.451376860183283,
          10.461808340149958,
          10.46643409648633,
          10.499673351670634,
          10.50009637863961,
          10.506487946159679,
          10.499353774130649,
          10.507562178834165,
          10.522937237227953,
          10.533721375913782,
          10.52365839847491,
          10.51144778057038,
          10.50554818410304,
          10.498289423357033,
          10.47832771001939,
          10.456040853652228,
          10.429215243897277,
          10.409676108643229,
          10.392325907071733,
          10.371971196695053,
          10.365567342750499,
          10.350373280432228,
          10.357350865808185,
          10.338377981115787,
          10.326331984549281,
          10.308953441903956,
          10.302393725194145,
          10.284640320613391,
          10.267546625956411,
          10.257856330327973,
          10.245223361177434,
          10.234773659145175,
          10.229678448391505,
          10.221532366865775,
          10.210412845617453,
          10.202928691868825,
          10.200168929710857,
          10.200456397036156,
          10.196055233938672,
          10.187977009586186,
          10.189753916934153,
          10.196707750218852,
          10.201169977451789,
          10.221048163369645,
          10.225493951847891,
          10.231949596966457,
          10.236004215699829,
          10.241139812845315,
          10.241614392327984,
          10.24013904826835,
          10.241113766765015,
          10.25141126371683,
          10.254563761222862,
          10.25614307736416,
          10.26709433602522,
          10.25712263856609,
          10.25346397700862,
          10.245197799370688,
          10.238911835848747,
          10.24199604751261,
          10.233405857055772,
          10.209604792136542,
          10.187222102657168,
          10.16881808399223,
          10.151532977811824,
          10.179572436391492,
          10.167536538865766,
          10.148938986344717,
          10.13642735246386,
          10.123963288379521,
          10.115060872310519,
          10.104504350072242,
          10.124526286422743,
          10.113089688891336,
          10.09766429091109,
          10.085088965290893,
          10.091936426147095,
          10.08362980321126,
          10.080333475354667,
          10.070727388926546,
          10.06848150003081,
          10.063780318207026,
          10.057979351260295,
          10.06152856012206,
          10.054591549190775,
          10.078552176610634,
          10.082701780863246,
          10.081937820706294,
          10.08513094421424,
          10.086857136175288,
          10.092201293234327,
          10.09373287628263,
          10.099917807867607,
          10.106728206437133,
          10.120845805266747,
          10.133782931581884,
          10.146981489476085,
          10.156666673207706,
          10.164022732624488,
          10.18522314487458,
          10.193341663988294,
          10.199393179626785,
          10.207639874240098,
          10.215955351650987,
          10.219645287714446,
          10.234482508130002,
          10.239940233924546,
          10.236132918665538,
          10.243949660726349,
          10.235367904230648,
          10.23521010346144,
          10.229285539195724,
          10.222210895705592,
          10.223831641940938,
          10.226089525224404,
          10.224277793365422,
          10.215795467298982,
          10.210037200517348,
          10.207644073150558,
          10.207276968941366,
          10.204658429133845,
          10.21465235110951,
          10.20571555999869,
          10.202358185453473,
          10.197133969916479,
          10.201814157204392,
          10.241257037712682,
          10.258096667219469,
          10.2867609095432,
          10.290622562353528,
          10.285054823743796,
          10.291158492154015,
          10.284425129944195,
          10.300847833590703,
          10.294875500210578,
          10.300875409263199,
          10.2985344257608,
          10.311573621077017,
          10.309855689972105,
          10.311927382704448,
          10.322349676758186,
          10.325331553711242,
          10.341612180309196,
          10.353637238434796,
          10.363066831446652,
          10.377941043910898,
          10.398269945018008
         ]
        },
        {
         "line": {
          "color": "blue",
          "dash": "dash",
          "width": 1
         },
         "name": "lower_KC",
         "type": "scatter",
         "x": [
          "2023-05-10 07:15:00",
          "2023-05-10 07:30:00",
          "2023-05-10 07:45:00",
          "2023-05-10 08:00:00",
          "2023-05-10 08:15:00",
          "2023-05-10 08:30:00",
          "2023-05-10 08:45:00",
          "2023-05-10 09:00:00",
          "2023-05-10 09:15:00",
          "2023-05-10 09:30:00",
          "2023-05-10 09:45:00",
          "2023-05-10 10:00:00",
          "2023-05-10 10:15:00",
          "2023-05-10 10:30:00",
          "2023-05-10 10:45:00",
          "2023-05-10 11:00:00",
          "2023-05-10 11:15:00",
          "2023-05-10 11:30:00",
          "2023-05-10 11:45:00",
          "2023-05-10 12:00:00",
          "2023-05-10 12:15:00",
          "2023-05-10 12:30:00",
          "2023-05-10 12:45:00",
          "2023-05-10 13:00:00",
          "2023-05-10 13:15:00",
          "2023-05-10 13:30:00",
          "2023-05-10 13:45:00",
          "2023-05-10 14:00:00",
          "2023-05-10 14:15:00",
          "2023-05-10 14:30:00",
          "2023-05-10 14:45:00",
          "2023-05-10 15:00:00",
          "2023-05-10 15:15:00",
          "2023-05-10 15:30:00",
          "2023-05-10 15:45:00",
          "2023-05-10 16:00:00",
          "2023-05-10 16:15:00",
          "2023-05-10 16:30:00",
          "2023-05-10 16:45:00",
          "2023-05-10 17:00:00",
          "2023-05-10 17:15:00",
          "2023-05-10 17:30:00",
          "2023-05-10 17:45:00",
          "2023-05-10 18:00:00",
          "2023-05-10 18:15:00",
          "2023-05-10 18:30:00",
          "2023-05-10 18:45:00",
          "2023-05-10 19:00:00",
          "2023-05-10 19:15:00",
          "2023-05-10 19:30:00",
          "2023-05-10 19:45:00",
          "2023-05-10 20:00:00",
          "2023-05-10 20:15:00",
          "2023-05-10 20:30:00",
          "2023-05-10 20:45:00",
          "2023-05-10 21:00:00",
          "2023-05-10 21:15:00",
          "2023-05-10 21:30:00",
          "2023-05-10 21:45:00",
          "2023-05-10 22:00:00",
          "2023-05-10 22:15:00",
          "2023-05-10 22:30:00",
          "2023-05-10 22:45:00",
          "2023-05-10 23:00:00",
          "2023-05-10 23:15:00",
          "2023-05-10 23:30:00",
          "2023-05-10 23:45:00",
          "2023-05-11 00:00:00",
          "2023-05-11 00:15:00",
          "2023-05-11 00:30:00",
          "2023-05-11 00:45:00",
          "2023-05-11 01:00:00",
          "2023-05-11 01:15:00",
          "2023-05-11 01:30:00",
          "2023-05-11 01:45:00",
          "2023-05-11 02:00:00",
          "2023-05-11 02:15:00",
          "2023-05-11 02:30:00",
          "2023-05-11 02:45:00",
          "2023-05-11 03:00:00",
          "2023-05-11 03:15:00",
          "2023-05-11 03:30:00",
          "2023-05-11 03:45:00",
          "2023-05-11 04:00:00",
          "2023-05-11 04:15:00",
          "2023-05-11 04:30:00",
          "2023-05-11 04:45:00",
          "2023-05-11 05:00:00",
          "2023-05-11 05:15:00",
          "2023-05-11 05:30:00",
          "2023-05-11 05:45:00",
          "2023-05-11 06:00:00",
          "2023-05-11 06:15:00",
          "2023-05-11 06:30:00",
          "2023-05-11 06:45:00",
          "2023-05-11 07:00:00",
          "2023-05-11 07:15:00",
          "2023-05-11 07:30:00",
          "2023-05-11 07:45:00",
          "2023-05-11 08:00:00",
          "2023-05-11 08:15:00",
          "2023-05-11 08:30:00",
          "2023-05-11 08:45:00",
          "2023-05-11 09:00:00",
          "2023-05-11 09:15:00",
          "2023-05-11 09:30:00",
          "2023-05-11 09:45:00",
          "2023-05-11 10:00:00",
          "2023-05-11 10:15:00",
          "2023-05-11 10:30:00",
          "2023-05-11 10:45:00",
          "2023-05-11 11:00:00",
          "2023-05-11 11:15:00",
          "2023-05-11 11:30:00",
          "2023-05-11 11:45:00",
          "2023-05-11 12:00:00",
          "2023-05-11 12:15:00",
          "2023-05-11 12:30:00",
          "2023-05-11 12:45:00",
          "2023-05-11 13:00:00",
          "2023-05-11 13:15:00",
          "2023-05-11 13:30:00",
          "2023-05-11 13:45:00",
          "2023-05-11 14:00:00",
          "2023-05-11 14:15:00",
          "2023-05-11 14:30:00",
          "2023-05-11 14:45:00",
          "2023-05-11 15:00:00",
          "2023-05-11 15:15:00",
          "2023-05-11 15:30:00",
          "2023-05-11 15:45:00",
          "2023-05-11 16:00:00",
          "2023-05-11 16:15:00",
          "2023-05-11 16:30:00",
          "2023-05-11 16:45:00",
          "2023-05-11 17:00:00",
          "2023-05-11 17:15:00",
          "2023-05-11 17:30:00",
          "2023-05-11 17:45:00",
          "2023-05-11 18:00:00",
          "2023-05-11 18:15:00",
          "2023-05-11 18:30:00",
          "2023-05-11 18:45:00",
          "2023-05-11 19:00:00",
          "2023-05-11 19:15:00",
          "2023-05-11 19:30:00",
          "2023-05-11 19:45:00",
          "2023-05-11 20:00:00",
          "2023-05-11 20:15:00",
          "2023-05-11 20:30:00",
          "2023-05-11 20:45:00",
          "2023-05-11 21:00:00",
          "2023-05-11 21:15:00",
          "2023-05-11 21:30:00",
          "2023-05-11 21:45:00",
          "2023-05-11 22:00:00",
          "2023-05-11 22:15:00",
          "2023-05-11 22:30:00",
          "2023-05-11 22:45:00",
          "2023-05-11 23:00:00",
          "2023-05-11 23:15:00",
          "2023-05-11 23:30:00",
          "2023-05-11 23:45:00",
          "2023-05-12 00:00:00",
          "2023-05-12 00:15:00",
          "2023-05-12 00:30:00",
          "2023-05-12 00:45:00",
          "2023-05-12 01:00:00",
          "2023-05-12 01:15:00",
          "2023-05-12 01:30:00",
          "2023-05-12 01:45:00",
          "2023-05-12 02:00:00",
          "2023-05-12 02:15:00",
          "2023-05-12 02:30:00",
          "2023-05-12 02:45:00",
          "2023-05-12 03:00:00",
          "2023-05-12 03:15:00",
          "2023-05-12 03:30:00",
          "2023-05-12 03:45:00",
          "2023-05-12 04:00:00",
          "2023-05-12 04:15:00",
          "2023-05-12 04:30:00",
          "2023-05-12 04:45:00",
          "2023-05-12 05:00:00",
          "2023-05-12 05:15:00",
          "2023-05-12 05:30:00",
          "2023-05-12 05:45:00",
          "2023-05-12 06:00:00",
          "2023-05-12 06:15:00",
          "2023-05-12 06:30:00",
          "2023-05-12 06:45:00",
          "2023-05-12 07:00:00",
          "2023-05-12 07:15:00",
          "2023-05-12 07:30:00",
          "2023-05-12 07:45:00",
          "2023-05-12 08:00:00",
          "2023-05-12 08:15:00",
          "2023-05-12 08:30:00",
          "2023-05-12 08:45:00",
          "2023-05-12 09:00:00",
          "2023-05-12 09:15:00",
          "2023-05-12 09:30:00",
          "2023-05-12 09:45:00",
          "2023-05-12 10:00:00",
          "2023-05-12 10:15:00",
          "2023-05-12 10:30:00",
          "2023-05-12 10:45:00",
          "2023-05-12 11:00:00",
          "2023-05-12 11:15:00",
          "2023-05-12 11:30:00",
          "2023-05-12 11:45:00",
          "2023-05-12 12:00:00",
          "2023-05-12 12:15:00",
          "2023-05-12 12:30:00",
          "2023-05-12 12:45:00",
          "2023-05-12 13:00:00",
          "2023-05-12 13:15:00",
          "2023-05-12 13:30:00",
          "2023-05-12 13:45:00",
          "2023-05-12 14:00:00",
          "2023-05-12 14:15:00",
          "2023-05-12 14:30:00",
          "2023-05-12 14:45:00",
          "2023-05-12 15:00:00",
          "2023-05-12 15:15:00",
          "2023-05-12 15:30:00",
          "2023-05-12 15:45:00",
          "2023-05-12 16:00:00",
          "2023-05-12 16:15:00",
          "2023-05-12 16:30:00",
          "2023-05-12 16:45:00",
          "2023-05-12 17:00:00",
          "2023-05-12 17:15:00",
          "2023-05-12 17:30:00",
          "2023-05-12 17:45:00",
          "2023-05-12 18:00:00",
          "2023-05-12 18:15:00",
          "2023-05-12 18:30:00",
          "2023-05-12 18:45:00",
          "2023-05-12 19:00:00",
          "2023-05-12 19:15:00",
          "2023-05-12 19:30:00",
          "2023-05-12 19:45:00",
          "2023-05-12 20:00:00",
          "2023-05-12 20:15:00",
          "2023-05-12 20:30:00",
          "2023-05-12 20:45:00",
          "2023-05-12 21:00:00",
          "2023-05-12 21:15:00"
         ],
         "y": [
          10.26422948246555,
          10.260278667471814,
          10.26463709156785,
          10.264543984010059,
          10.269263259644594,
          10.268124485163758,
          10.261170033315802,
          10.26150275453111,
          10.237320435525453,
          10.183739447248099,
          10.204150456839354,
          10.208123101050381,
          10.224305264495765,
          10.240886125496534,
          10.262952284497166,
          10.285597323679498,
          10.311261446646864,
          10.32719118362016,
          10.347156422961948,
          10.364082527877958,
          10.377522068263785,
          10.38165441948855,
          10.398853615945177,
          10.415425685773329,
          10.433734651996359,
          10.443282897087931,
          10.463890552162853,
          10.452046815405971,
          10.35499284896852,
          10.350880512792425,
          10.333674965011983,
          10.343756789555261,
          10.346141918727032,
          10.359797933503936,
          10.379016491048674,
          10.36558167449437,
          10.371794097313575,
          10.394240625074744,
          10.406015056879335,
          10.41728504653764,
          10.425369583530797,
          10.439120568343377,
          10.452235010462765,
          10.460510463105898,
          10.435440378904826,
          10.441951219103949,
          10.44600554290323,
          10.458640898739006,
          10.487069826241006,
          10.500375312379004,
          10.51530707376464,
          10.523455787625613,
          10.539418371693685,
          10.551569576840286,
          10.561784199232962,
          10.557800708463333,
          10.543473306924545,
          10.535159978392809,
          10.535812709594119,
          10.527664944213369,
          10.52083949981094,
          10.51098231802713,
          10.506349169294925,
          10.502149320332212,
          10.496122171180902,
          10.498781776420737,
          10.502685089798783,
          10.482878709835369,
          10.475264398956211,
          10.466898144600536,
          10.459416663764074,
          10.449931815806972,
          10.445398758387523,
          10.432189893226155,
          10.431564458094126,
          10.413643647531558,
          10.408572075253092,
          10.39964987975253,
          10.396349901615707,
          10.390877192231033,
          10.3811495209163,
          10.375645062567882,
          10.372118687555536,
          10.362006198909077,
          10.365550526380154,
          10.363268612492854,
          10.349060682948698,
          10.323231467867117,
          10.321303019164006,
          10.317111561134185,
          10.314545822746153,
          10.319264764065034,
          10.324580261507753,
          10.327747486688164,
          10.33133885274486,
          10.337277243154887,
          10.340045017126725,
          10.344173195830956,
          10.344823523861692,
          10.345991974068657,
          10.349538887874356,
          10.351372726442657,
          10.353123139816718,
          10.34869165985004,
          10.35206590351367,
          10.318826648329367,
          10.319403621360392,
          10.315012053840318,
          10.318146225869354,
          10.312937821165834,
          10.290062762772045,
          10.27227862408622,
          10.268841601525088,
          10.262052219429618,
          10.246951815896962,
          10.226710576642969,
          10.220672289980609,
          10.217959146347772,
          10.220784756102722,
          10.217323891356774,
          10.207674092928269,
          10.204528803304946,
          10.184932657249501,
          10.167126719567774,
          10.120149134191815,
          10.10612201888421,
          10.09266801545072,
          10.085046558096042,
          10.070106274805854,
          10.061859679386608,
          10.063453374043588,
          10.058143669672026,
          10.057276638822568,
          10.053726340854828,
          10.048821551608496,
          10.054467633134225,
          10.060087154382549,
          10.063571308131175,
          10.064331070289144,
          10.062043602963843,
          10.066444766061327,
          10.071022990413814,
          10.072246083065847,
          10.073292249781147,
          10.083830022548211,
          10.075951836630356,
          10.079506048152108,
          10.077050403033544,
          10.081995784300172,
          10.087860187154686,
          10.094385607672015,
          10.09786095173165,
          10.102886233234987,
          10.105588736283169,
          10.11343623877714,
          10.11885692263584,
          10.108405663974779,
          10.11637736143391,
          10.11103602299138,
          10.11230220062931,
          10.111088164151255,
          10.09650395248739,
          10.087094142944228,
          10.08989520786346,
          10.08927789734283,
          10.08868191600777,
          10.085967022188177,
          10.035927563608507,
          10.025463461134235,
          10.019061013655282,
          10.01107264753614,
          10.005036711620477,
          9.995939127689482,
          9.982495649927758,
          9.931973713577257,
          9.911910311108663,
          9.900335709088907,
          9.890911034709106,
          9.873063573852905,
          9.86637019678874,
          9.861666524645333,
          9.867272611073453,
          9.87201849996919,
          9.881219681792974,
          9.889520648739706,
          9.89097143987794,
          9.901408450809225,
          9.895947823389365,
          9.903298219136751,
          9.916062179293707,
          9.924869055785761,
          9.936642863824714,
          9.939298706765674,
          9.95226712371737,
          9.965082192132394,
          9.982771793562868,
          9.992154194733256,
          10.001217068418118,
          10.008518510523912,
          10.018833326792294,
          10.023977267375514,
          10.024276855125422,
          10.031658336011708,
          10.037106820373214,
          10.044860125759904,
          10.050044648349012,
          10.059354712285558,
          10.05151749187,
          10.052059766075455,
          10.057867081334463,
          10.043550339273652,
          10.044132095769351,
          10.04328989653856,
          10.047714460804277,
          10.057289104294407,
          10.05616835805906,
          10.058910474775596,
          10.06022220663458,
          10.065204532701017,
          10.070462799482652,
          10.074355926849442,
          10.068223031058634,
          10.066341570866156,
          10.05784764889049,
          10.06378444000131,
          10.067141814546527,
          10.07286603008352,
          10.064685842795608,
          10.017242962287316,
          10.003903332780531,
          9.994239090456798,
          10.010377437646474,
          10.033945176256204,
          10.039341507845986,
          10.056574870055806,
          10.057152166409297,
          10.079124499789424,
          10.091624590736803,
          10.110965574239202,
          10.119926378922983,
          10.142144310027897,
          10.16107261729555,
          10.171650323241813,
          10.185668446288757,
          10.1918878196908,
          10.203862761565201,
          10.221433168553347,
          10.232058956089102,
          10.240730054981992
         ]
        }
       ],
       "layout": {
        "autosize": false,
        "height": 600,
        "margin": {
         "b": 100,
         "l": 50,
         "pad": 4,
         "r": 50,
         "t": 50
        },
        "paper_bgcolor": "LightSteelBlue",
        "template": {
         "data": {
          "bar": [
           {
            "error_x": {
             "color": "#2a3f5f"
            },
            "error_y": {
             "color": "#2a3f5f"
            },
            "marker": {
             "line": {
              "color": "#E5ECF6",
              "width": 0.5
             },
             "pattern": {
              "fillmode": "overlay",
              "size": 10,
              "solidity": 0.2
             }
            },
            "type": "bar"
           }
          ],
          "barpolar": [
           {
            "marker": {
             "line": {
              "color": "#E5ECF6",
              "width": 0.5
             },
             "pattern": {
              "fillmode": "overlay",
              "size": 10,
              "solidity": 0.2
             }
            },
            "type": "barpolar"
           }
          ],
          "carpet": [
           {
            "aaxis": {
             "endlinecolor": "#2a3f5f",
             "gridcolor": "white",
             "linecolor": "white",
             "minorgridcolor": "white",
             "startlinecolor": "#2a3f5f"
            },
            "baxis": {
             "endlinecolor": "#2a3f5f",
             "gridcolor": "white",
             "linecolor": "white",
             "minorgridcolor": "white",
             "startlinecolor": "#2a3f5f"
            },
            "type": "carpet"
           }
          ],
          "choropleth": [
           {
            "colorbar": {
             "outlinewidth": 0,
             "ticks": ""
            },
            "type": "choropleth"
           }
          ],
          "contour": [
           {
            "colorbar": {
             "outlinewidth": 0,
             "ticks": ""
            },
            "colorscale": [
             [
              0,
              "#0d0887"
             ],
             [
              0.1111111111111111,
              "#46039f"
             ],
             [
              0.2222222222222222,
              "#7201a8"
             ],
             [
              0.3333333333333333,
              "#9c179e"
             ],
             [
              0.4444444444444444,
              "#bd3786"
             ],
             [
              0.5555555555555556,
              "#d8576b"
             ],
             [
              0.6666666666666666,
              "#ed7953"
             ],
             [
              0.7777777777777778,
              "#fb9f3a"
             ],
             [
              0.8888888888888888,
              "#fdca26"
             ],
             [
              1,
              "#f0f921"
             ]
            ],
            "type": "contour"
           }
          ],
          "contourcarpet": [
           {
            "colorbar": {
             "outlinewidth": 0,
             "ticks": ""
            },
            "type": "contourcarpet"
           }
          ],
          "heatmap": [
           {
            "colorbar": {
             "outlinewidth": 0,
             "ticks": ""
            },
            "colorscale": [
             [
              0,
              "#0d0887"
             ],
             [
              0.1111111111111111,
              "#46039f"
             ],
             [
              0.2222222222222222,
              "#7201a8"
             ],
             [
              0.3333333333333333,
              "#9c179e"
             ],
             [
              0.4444444444444444,
              "#bd3786"
             ],
             [
              0.5555555555555556,
              "#d8576b"
             ],
             [
              0.6666666666666666,
              "#ed7953"
             ],
             [
              0.7777777777777778,
              "#fb9f3a"
             ],
             [
              0.8888888888888888,
              "#fdca26"
             ],
             [
              1,
              "#f0f921"
             ]
            ],
            "type": "heatmap"
           }
          ],
          "heatmapgl": [
           {
            "colorbar": {
             "outlinewidth": 0,
             "ticks": ""
            },
            "colorscale": [
             [
              0,
              "#0d0887"
             ],
             [
              0.1111111111111111,
              "#46039f"
             ],
             [
              0.2222222222222222,
              "#7201a8"
             ],
             [
              0.3333333333333333,
              "#9c179e"
             ],
             [
              0.4444444444444444,
              "#bd3786"
             ],
             [
              0.5555555555555556,
              "#d8576b"
             ],
             [
              0.6666666666666666,
              "#ed7953"
             ],
             [
              0.7777777777777778,
              "#fb9f3a"
             ],
             [
              0.8888888888888888,
              "#fdca26"
             ],
             [
              1,
              "#f0f921"
             ]
            ],
            "type": "heatmapgl"
           }
          ],
          "histogram": [
           {
            "marker": {
             "pattern": {
              "fillmode": "overlay",
              "size": 10,
              "solidity": 0.2
             }
            },
            "type": "histogram"
           }
          ],
          "histogram2d": [
           {
            "colorbar": {
             "outlinewidth": 0,
             "ticks": ""
            },
            "colorscale": [
             [
              0,
              "#0d0887"
             ],
             [
              0.1111111111111111,
              "#46039f"
             ],
             [
              0.2222222222222222,
              "#7201a8"
             ],
             [
              0.3333333333333333,
              "#9c179e"
             ],
             [
              0.4444444444444444,
              "#bd3786"
             ],
             [
              0.5555555555555556,
              "#d8576b"
             ],
             [
              0.6666666666666666,
              "#ed7953"
             ],
             [
              0.7777777777777778,
              "#fb9f3a"
             ],
             [
              0.8888888888888888,
              "#fdca26"
             ],
             [
              1,
              "#f0f921"
             ]
            ],
            "type": "histogram2d"
           }
          ],
          "histogram2dcontour": [
           {
            "colorbar": {
             "outlinewidth": 0,
             "ticks": ""
            },
            "colorscale": [
             [
              0,
              "#0d0887"
             ],
             [
              0.1111111111111111,
              "#46039f"
             ],
             [
              0.2222222222222222,
              "#7201a8"
             ],
             [
              0.3333333333333333,
              "#9c179e"
             ],
             [
              0.4444444444444444,
              "#bd3786"
             ],
             [
              0.5555555555555556,
              "#d8576b"
             ],
             [
              0.6666666666666666,
              "#ed7953"
             ],
             [
              0.7777777777777778,
              "#fb9f3a"
             ],
             [
              0.8888888888888888,
              "#fdca26"
             ],
             [
              1,
              "#f0f921"
             ]
            ],
            "type": "histogram2dcontour"
           }
          ],
          "mesh3d": [
           {
            "colorbar": {
             "outlinewidth": 0,
             "ticks": ""
            },
            "type": "mesh3d"
           }
          ],
          "parcoords": [
           {
            "line": {
             "colorbar": {
              "outlinewidth": 0,
              "ticks": ""
             }
            },
            "type": "parcoords"
           }
          ],
          "pie": [
           {
            "automargin": true,
            "type": "pie"
           }
          ],
          "scatter": [
           {
            "fillpattern": {
             "fillmode": "overlay",
             "size": 10,
             "solidity": 0.2
            },
            "type": "scatter"
           }
          ],
          "scatter3d": [
           {
            "line": {
             "colorbar": {
              "outlinewidth": 0,
              "ticks": ""
             }
            },
            "marker": {
             "colorbar": {
              "outlinewidth": 0,
              "ticks": ""
             }
            },
            "type": "scatter3d"
           }
          ],
          "scattercarpet": [
           {
            "marker": {
             "colorbar": {
              "outlinewidth": 0,
              "ticks": ""
             }
            },
            "type": "scattercarpet"
           }
          ],
          "scattergeo": [
           {
            "marker": {
             "colorbar": {
              "outlinewidth": 0,
              "ticks": ""
             }
            },
            "type": "scattergeo"
           }
          ],
          "scattergl": [
           {
            "marker": {
             "colorbar": {
              "outlinewidth": 0,
              "ticks": ""
             }
            },
            "type": "scattergl"
           }
          ],
          "scattermapbox": [
           {
            "marker": {
             "colorbar": {
              "outlinewidth": 0,
              "ticks": ""
             }
            },
            "type": "scattermapbox"
           }
          ],
          "scatterpolar": [
           {
            "marker": {
             "colorbar": {
              "outlinewidth": 0,
              "ticks": ""
             }
            },
            "type": "scatterpolar"
           }
          ],
          "scatterpolargl": [
           {
            "marker": {
             "colorbar": {
              "outlinewidth": 0,
              "ticks": ""
             }
            },
            "type": "scatterpolargl"
           }
          ],
          "scatterternary": [
           {
            "marker": {
             "colorbar": {
              "outlinewidth": 0,
              "ticks": ""
             }
            },
            "type": "scatterternary"
           }
          ],
          "surface": [
           {
            "colorbar": {
             "outlinewidth": 0,
             "ticks": ""
            },
            "colorscale": [
             [
              0,
              "#0d0887"
             ],
             [
              0.1111111111111111,
              "#46039f"
             ],
             [
              0.2222222222222222,
              "#7201a8"
             ],
             [
              0.3333333333333333,
              "#9c179e"
             ],
             [
              0.4444444444444444,
              "#bd3786"
             ],
             [
              0.5555555555555556,
              "#d8576b"
             ],
             [
              0.6666666666666666,
              "#ed7953"
             ],
             [
              0.7777777777777778,
              "#fb9f3a"
             ],
             [
              0.8888888888888888,
              "#fdca26"
             ],
             [
              1,
              "#f0f921"
             ]
            ],
            "type": "surface"
           }
          ],
          "table": [
           {
            "cells": {
             "fill": {
              "color": "#EBF0F8"
             },
             "line": {
              "color": "white"
             }
            },
            "header": {
             "fill": {
              "color": "#C8D4E3"
             },
             "line": {
              "color": "white"
             }
            },
            "type": "table"
           }
          ]
         },
         "layout": {
          "annotationdefaults": {
           "arrowcolor": "#2a3f5f",
           "arrowhead": 0,
           "arrowwidth": 1
          },
          "autotypenumbers": "strict",
          "coloraxis": {
           "colorbar": {
            "outlinewidth": 0,
            "ticks": ""
           }
          },
          "colorscale": {
           "diverging": [
            [
             0,
             "#8e0152"
            ],
            [
             0.1,
             "#c51b7d"
            ],
            [
             0.2,
             "#de77ae"
            ],
            [
             0.3,
             "#f1b6da"
            ],
            [
             0.4,
             "#fde0ef"
            ],
            [
             0.5,
             "#f7f7f7"
            ],
            [
             0.6,
             "#e6f5d0"
            ],
            [
             0.7,
             "#b8e186"
            ],
            [
             0.8,
             "#7fbc41"
            ],
            [
             0.9,
             "#4d9221"
            ],
            [
             1,
             "#276419"
            ]
           ],
           "sequential": [
            [
             0,
             "#0d0887"
            ],
            [
             0.1111111111111111,
             "#46039f"
            ],
            [
             0.2222222222222222,
             "#7201a8"
            ],
            [
             0.3333333333333333,
             "#9c179e"
            ],
            [
             0.4444444444444444,
             "#bd3786"
            ],
            [
             0.5555555555555556,
             "#d8576b"
            ],
            [
             0.6666666666666666,
             "#ed7953"
            ],
            [
             0.7777777777777778,
             "#fb9f3a"
            ],
            [
             0.8888888888888888,
             "#fdca26"
            ],
            [
             1,
             "#f0f921"
            ]
           ],
           "sequentialminus": [
            [
             0,
             "#0d0887"
            ],
            [
             0.1111111111111111,
             "#46039f"
            ],
            [
             0.2222222222222222,
             "#7201a8"
            ],
            [
             0.3333333333333333,
             "#9c179e"
            ],
            [
             0.4444444444444444,
             "#bd3786"
            ],
            [
             0.5555555555555556,
             "#d8576b"
            ],
            [
             0.6666666666666666,
             "#ed7953"
            ],
            [
             0.7777777777777778,
             "#fb9f3a"
            ],
            [
             0.8888888888888888,
             "#fdca26"
            ],
            [
             1,
             "#f0f921"
            ]
           ]
          },
          "colorway": [
           "#636efa",
           "#EF553B",
           "#00cc96",
           "#ab63fa",
           "#FFA15A",
           "#19d3f3",
           "#FF6692",
           "#B6E880",
           "#FF97FF",
           "#FECB52"
          ],
          "font": {
           "color": "#2a3f5f"
          },
          "geo": {
           "bgcolor": "white",
           "lakecolor": "white",
           "landcolor": "#E5ECF6",
           "showlakes": true,
           "showland": true,
           "subunitcolor": "white"
          },
          "hoverlabel": {
           "align": "left"
          },
          "hovermode": "closest",
          "mapbox": {
           "style": "light"
          },
          "paper_bgcolor": "white",
          "plot_bgcolor": "#E5ECF6",
          "polar": {
           "angularaxis": {
            "gridcolor": "white",
            "linecolor": "white",
            "ticks": ""
           },
           "bgcolor": "#E5ECF6",
           "radialaxis": {
            "gridcolor": "white",
            "linecolor": "white",
            "ticks": ""
           }
          },
          "scene": {
           "xaxis": {
            "backgroundcolor": "#E5ECF6",
            "gridcolor": "white",
            "gridwidth": 2,
            "linecolor": "white",
            "showbackground": true,
            "ticks": "",
            "zerolinecolor": "white"
           },
           "yaxis": {
            "backgroundcolor": "#E5ECF6",
            "gridcolor": "white",
            "gridwidth": 2,
            "linecolor": "white",
            "showbackground": true,
            "ticks": "",
            "zerolinecolor": "white"
           },
           "zaxis": {
            "backgroundcolor": "#E5ECF6",
            "gridcolor": "white",
            "gridwidth": 2,
            "linecolor": "white",
            "showbackground": true,
            "ticks": "",
            "zerolinecolor": "white"
           }
          },
          "shapedefaults": {
           "line": {
            "color": "#2a3f5f"
           }
          },
          "ternary": {
           "aaxis": {
            "gridcolor": "white",
            "linecolor": "white",
            "ticks": ""
           },
           "baxis": {
            "gridcolor": "white",
            "linecolor": "white",
            "ticks": ""
           },
           "bgcolor": "#E5ECF6",
           "caxis": {
            "gridcolor": "white",
            "linecolor": "white",
            "ticks": ""
           }
          },
          "title": {
           "x": 0.05
          },
          "xaxis": {
           "automargin": true,
           "gridcolor": "white",
           "linecolor": "white",
           "ticks": "",
           "title": {
            "standoff": 15
           },
           "zerolinecolor": "white",
           "zerolinewidth": 2
          },
          "yaxis": {
           "automargin": true,
           "gridcolor": "white",
           "linecolor": "white",
           "ticks": "",
           "title": {
            "standoff": 15
           },
           "zerolinecolor": "white",
           "zerolinewidth": 2
          }
         }
        },
        "width": 1500,
        "xaxis": {
         "rangeslider": {
          "visible": false
         },
         "type": "category"
        }
       }
      }
     },
     "metadata": {},
     "output_type": "display_data"
    },
    {
     "data": {
      "application/vnd.plotly.v1+json": {
       "config": {
        "plotlyServerURL": "https://plotly.com"
       },
       "data": [
        {
         "name": "squeeze",
         "type": "bar",
         "x": [
          "2023-05-10 07:15:00",
          "2023-05-10 07:30:00",
          "2023-05-10 07:45:00",
          "2023-05-10 08:00:00",
          "2023-05-10 08:15:00",
          "2023-05-10 08:30:00",
          "2023-05-10 08:45:00",
          "2023-05-10 09:00:00",
          "2023-05-10 09:15:00",
          "2023-05-10 09:30:00",
          "2023-05-10 09:45:00",
          "2023-05-10 10:00:00",
          "2023-05-10 10:15:00",
          "2023-05-10 10:30:00",
          "2023-05-10 10:45:00",
          "2023-05-10 11:00:00",
          "2023-05-10 11:15:00",
          "2023-05-10 11:30:00",
          "2023-05-10 11:45:00",
          "2023-05-10 12:00:00",
          "2023-05-10 12:15:00",
          "2023-05-10 12:30:00",
          "2023-05-10 12:45:00",
          "2023-05-10 13:00:00",
          "2023-05-10 13:15:00",
          "2023-05-10 13:30:00",
          "2023-05-10 13:45:00",
          "2023-05-10 14:00:00",
          "2023-05-10 14:15:00",
          "2023-05-10 14:30:00",
          "2023-05-10 14:45:00",
          "2023-05-10 15:00:00",
          "2023-05-10 15:15:00",
          "2023-05-10 15:30:00",
          "2023-05-10 15:45:00",
          "2023-05-10 16:00:00",
          "2023-05-10 16:15:00",
          "2023-05-10 16:30:00",
          "2023-05-10 16:45:00",
          "2023-05-10 17:00:00",
          "2023-05-10 17:15:00",
          "2023-05-10 17:30:00",
          "2023-05-10 17:45:00",
          "2023-05-10 18:00:00",
          "2023-05-10 18:15:00",
          "2023-05-10 18:30:00",
          "2023-05-10 18:45:00",
          "2023-05-10 19:00:00",
          "2023-05-10 19:15:00",
          "2023-05-10 19:30:00",
          "2023-05-10 19:45:00",
          "2023-05-10 20:00:00",
          "2023-05-10 20:15:00",
          "2023-05-10 20:30:00",
          "2023-05-10 20:45:00",
          "2023-05-10 21:00:00",
          "2023-05-10 21:15:00",
          "2023-05-10 21:30:00",
          "2023-05-10 21:45:00",
          "2023-05-10 22:00:00",
          "2023-05-10 22:15:00",
          "2023-05-10 22:30:00",
          "2023-05-10 22:45:00",
          "2023-05-10 23:00:00",
          "2023-05-10 23:15:00",
          "2023-05-10 23:30:00",
          "2023-05-10 23:45:00",
          "2023-05-11 00:00:00",
          "2023-05-11 00:15:00",
          "2023-05-11 00:30:00",
          "2023-05-11 00:45:00",
          "2023-05-11 01:00:00",
          "2023-05-11 01:15:00",
          "2023-05-11 01:30:00",
          "2023-05-11 01:45:00",
          "2023-05-11 02:00:00",
          "2023-05-11 02:15:00",
          "2023-05-11 02:30:00",
          "2023-05-11 02:45:00",
          "2023-05-11 03:00:00",
          "2023-05-11 03:15:00",
          "2023-05-11 03:30:00",
          "2023-05-11 03:45:00",
          "2023-05-11 04:00:00",
          "2023-05-11 04:15:00",
          "2023-05-11 04:30:00",
          "2023-05-11 04:45:00",
          "2023-05-11 05:00:00",
          "2023-05-11 05:15:00",
          "2023-05-11 05:30:00",
          "2023-05-11 05:45:00",
          "2023-05-11 06:00:00",
          "2023-05-11 06:15:00",
          "2023-05-11 06:30:00",
          "2023-05-11 06:45:00",
          "2023-05-11 07:00:00",
          "2023-05-11 07:15:00",
          "2023-05-11 07:30:00",
          "2023-05-11 07:45:00",
          "2023-05-11 08:00:00",
          "2023-05-11 08:15:00",
          "2023-05-11 08:30:00",
          "2023-05-11 08:45:00",
          "2023-05-11 09:00:00",
          "2023-05-11 09:15:00",
          "2023-05-11 09:30:00",
          "2023-05-11 09:45:00",
          "2023-05-11 10:00:00",
          "2023-05-11 10:15:00",
          "2023-05-11 10:30:00",
          "2023-05-11 10:45:00",
          "2023-05-11 11:00:00",
          "2023-05-11 11:15:00",
          "2023-05-11 11:30:00",
          "2023-05-11 11:45:00",
          "2023-05-11 12:00:00",
          "2023-05-11 12:15:00",
          "2023-05-11 12:30:00",
          "2023-05-11 12:45:00",
          "2023-05-11 13:00:00",
          "2023-05-11 13:15:00",
          "2023-05-11 13:30:00",
          "2023-05-11 13:45:00",
          "2023-05-11 14:00:00",
          "2023-05-11 14:15:00",
          "2023-05-11 14:30:00",
          "2023-05-11 14:45:00",
          "2023-05-11 15:00:00",
          "2023-05-11 15:15:00",
          "2023-05-11 15:30:00",
          "2023-05-11 15:45:00",
          "2023-05-11 16:00:00",
          "2023-05-11 16:15:00",
          "2023-05-11 16:30:00",
          "2023-05-11 16:45:00",
          "2023-05-11 17:00:00",
          "2023-05-11 17:15:00",
          "2023-05-11 17:30:00",
          "2023-05-11 17:45:00",
          "2023-05-11 18:00:00",
          "2023-05-11 18:15:00",
          "2023-05-11 18:30:00",
          "2023-05-11 18:45:00",
          "2023-05-11 19:00:00",
          "2023-05-11 19:15:00",
          "2023-05-11 19:30:00",
          "2023-05-11 19:45:00",
          "2023-05-11 20:00:00",
          "2023-05-11 20:15:00",
          "2023-05-11 20:30:00",
          "2023-05-11 20:45:00",
          "2023-05-11 21:00:00",
          "2023-05-11 21:15:00",
          "2023-05-11 21:30:00",
          "2023-05-11 21:45:00",
          "2023-05-11 22:00:00",
          "2023-05-11 22:15:00",
          "2023-05-11 22:30:00",
          "2023-05-11 22:45:00",
          "2023-05-11 23:00:00",
          "2023-05-11 23:15:00",
          "2023-05-11 23:30:00",
          "2023-05-11 23:45:00",
          "2023-05-12 00:00:00",
          "2023-05-12 00:15:00",
          "2023-05-12 00:30:00",
          "2023-05-12 00:45:00",
          "2023-05-12 01:00:00",
          "2023-05-12 01:15:00",
          "2023-05-12 01:30:00",
          "2023-05-12 01:45:00",
          "2023-05-12 02:00:00",
          "2023-05-12 02:15:00",
          "2023-05-12 02:30:00",
          "2023-05-12 02:45:00",
          "2023-05-12 03:00:00",
          "2023-05-12 03:15:00",
          "2023-05-12 03:30:00",
          "2023-05-12 03:45:00",
          "2023-05-12 04:00:00",
          "2023-05-12 04:15:00",
          "2023-05-12 04:30:00",
          "2023-05-12 04:45:00",
          "2023-05-12 05:00:00",
          "2023-05-12 05:15:00",
          "2023-05-12 05:30:00",
          "2023-05-12 05:45:00",
          "2023-05-12 06:00:00",
          "2023-05-12 06:15:00",
          "2023-05-12 06:30:00",
          "2023-05-12 06:45:00",
          "2023-05-12 07:00:00",
          "2023-05-12 07:15:00",
          "2023-05-12 07:30:00",
          "2023-05-12 07:45:00",
          "2023-05-12 08:00:00",
          "2023-05-12 08:15:00",
          "2023-05-12 08:30:00",
          "2023-05-12 08:45:00",
          "2023-05-12 09:00:00",
          "2023-05-12 09:15:00",
          "2023-05-12 09:30:00",
          "2023-05-12 09:45:00",
          "2023-05-12 10:00:00",
          "2023-05-12 10:15:00",
          "2023-05-12 10:30:00",
          "2023-05-12 10:45:00",
          "2023-05-12 11:00:00",
          "2023-05-12 11:15:00",
          "2023-05-12 11:30:00",
          "2023-05-12 11:45:00",
          "2023-05-12 12:00:00",
          "2023-05-12 12:15:00",
          "2023-05-12 12:30:00",
          "2023-05-12 12:45:00",
          "2023-05-12 13:00:00",
          "2023-05-12 13:15:00",
          "2023-05-12 13:30:00",
          "2023-05-12 13:45:00",
          "2023-05-12 14:00:00",
          "2023-05-12 14:15:00",
          "2023-05-12 14:30:00",
          "2023-05-12 14:45:00",
          "2023-05-12 15:00:00",
          "2023-05-12 15:15:00",
          "2023-05-12 15:30:00",
          "2023-05-12 15:45:00",
          "2023-05-12 16:00:00",
          "2023-05-12 16:15:00",
          "2023-05-12 16:30:00",
          "2023-05-12 16:45:00",
          "2023-05-12 17:00:00",
          "2023-05-12 17:15:00",
          "2023-05-12 17:30:00",
          "2023-05-12 17:45:00",
          "2023-05-12 18:00:00",
          "2023-05-12 18:15:00",
          "2023-05-12 18:30:00",
          "2023-05-12 18:45:00",
          "2023-05-12 19:00:00",
          "2023-05-12 19:15:00",
          "2023-05-12 19:30:00",
          "2023-05-12 19:45:00",
          "2023-05-12 20:00:00",
          "2023-05-12 20:15:00",
          "2023-05-12 20:30:00",
          "2023-05-12 20:45:00",
          "2023-05-12 21:00:00",
          "2023-05-12 21:15:00"
         ],
         "y": [
          -0.032149999999999616,
          -0.029371428571428056,
          -0.025057142857142417,
          -0.021782142857142462,
          -0.022857142857142576,
          -0.022021428571428206,
          -0.012910714285713863,
          -0.006442857142856513,
          -0.007192857142856368,
          0.03920535714285788,
          0.07724107142857205,
          0.10676071428571465,
          0.12870535714285708,
          0.14868214285714282,
          0.16616249999999982,
          0.1749714285714283,
          0.18456071428571386,
          0.18628749999999958,
          0.1808374999999994,
          0.173071428571428,
          0.15425357142857068,
          0.14929107142857076,
          0.140651785714285,
          0.13755178571428506,
          0.13106071428571348,
          0.11123214285714221,
          0.09556607142857065,
          0.05962678571428505,
          -0.009539285714286028,
          -0.03500000000000025,
          -0.040405357142857284,
          -0.05196785714285723,
          -0.05002321428571427,
          -0.03863214285714284,
          -0.024498214285714276,
          -0.00012321428571428206,
          0.03747857142857157,
          0.07205535714285766,
          0.09665000000000037,
          0.12000892857142885,
          0.14340357142857174,
          0.17630178571428598,
          0.20166785714285707,
          0.2284124999999999,
          0.24083571428571426,
          0.24134464285714277,
          0.24351250000000008,
          0.23961428571428578,
          0.20453928571428565,
          0.1744035714285712,
          0.15481428571428563,
          0.1231714285714288,
          0.09155892857142865,
          0.06536250000000032,
          0.037510714285714564,
          0.005489285714285891,
          -0.02525535714285715,
          -0.05685535714285686,
          -0.08458928571428576,
          -0.1034750000000001,
          -0.10534285714285746,
          -0.10818750000000033,
          -0.10896964285714328,
          -0.10680714285714332,
          -0.11395892857142927,
          -0.1235714285714294,
          -0.1267589285714289,
          -0.130339285714286,
          -0.13499464285714302,
          -0.13454642857142904,
          -0.13218392857142888,
          -0.12305178571428602,
          -0.1177464285714289,
          -0.10367857142857176,
          -0.08658035714285757,
          -0.0792500000000002,
          -0.0781732142857144,
          -0.0836035714285716,
          -0.08188392857142884,
          -0.0760964285714288,
          -0.06967321428571444,
          -0.06556428571428574,
          -0.06151964285714293,
          -0.049149999999999694,
          -0.03860892857142824,
          -0.030342857142856783,
          -0.027428571428570747,
          -0.026744642857142217,
          -0.023392857142856438,
          -0.02059107142857082,
          -0.01828571428571403,
          -0.01126249999999994,
          -0.003028571428571075,
          0.00911964285714291,
          0.023971428571428408,
          0.037862499999999646,
          0.05085714285714231,
          0.05961964285714237,
          0.06685357142857083,
          0.07179464285714203,
          0.07632321428571326,
          0.07613928571428477,
          0.07105357142857062,
          0.07804464285714252,
          0.08674464285714269,
          0.07710714285714282,
          0.05970178571428551,
          0.03894285714285692,
          0.01183214285714251,
          -0.0023946428571429076,
          -0.030200000000000116,
          -0.04937321428571413,
          -0.07318035714285652,
          -0.10142857142857067,
          -0.12400714285714196,
          -0.153203571428571,
          -0.16982142857142807,
          -0.1803035714285711,
          -0.1879607142857142,
          -0.1928142857142861,
          -0.19574642857142935,
          -0.1925250000000009,
          -0.19476785714285766,
          -0.19078571428571445,
          -0.18453214285714298,
          -0.17932142857142847,
          -0.1631089285714288,
          -0.1463232142857147,
          -0.13435892857142917,
          -0.11081607142857178,
          -0.08920178571428583,
          -0.06102678571428556,
          -0.040887499999999716,
          -0.03317678571428545,
          -0.01983392857142824,
          -0.010916071428571122,
          0.0005178571428576806,
          0.016321428571429264,
          0.03405892857142906,
          0.049783928571428965,
          0.06157857142857165,
          0.07054285714285699,
          0.07866964285714265,
          0.08732678571428575,
          0.09217142857142857,
          0.08714999999999998,
          0.08699285714285673,
          0.07822499999999943,
          0.07357678571428501,
          0.07683749999999928,
          0.07529464285714241,
          0.06942678571428515,
          0.06333928571428496,
          0.055985714285713604,
          0.050687499999999344,
          0.03932142857142775,
          0.01656607142857123,
          -0.002532142857142594,
          -0.025369642857142466,
          -0.04159999999999939,
          -0.0566964285714279,
          -0.07880535714285673,
          -0.10190535714285656,
          -0.11880714285714224,
          -0.13096428571428506,
          -0.14362321428571373,
          -0.15210535714285658,
          -0.16465714285714247,
          -0.16441964285714283,
          -0.1545464285714286,
          -0.1409892857142859,
          -0.13010000000000052,
          -0.1137178571428579,
          -0.10111071428571494,
          -0.09398750000000088,
          -0.094117857142858,
          -0.09661428571428649,
          -0.08728035714285756,
          -0.06895178571428616,
          -0.05253571428571489,
          -0.024033928571429025,
          -0.0018017857142862415,
          0.02004821428571396,
          0.041624999999999635,
          0.056698214285713894,
          0.0737857142857141,
          0.08528214285714272,
          0.10498214285714277,
          0.11772499999999979,
          0.13288571428571372,
          0.14998392857142778,
          0.1642303571428564,
          0.16991071428571336,
          0.17432321428571348,
          0.1678803571428566,
          0.1571535714285709,
          0.1380982142857135,
          0.12542857142857097,
          0.12075714285714287,
          0.10712321428571431,
          0.09518214285714316,
          0.09357857142857172,
          0.08612678571428606,
          0.07581250000000048,
          0.06796607142857211,
          0.0600464285714296,
          0.046787500000000704,
          0.04425178571428652,
          0.030655357142858053,
          0.0162053571428578,
          -0.0056142857142851554,
          -0.025730357142856347,
          -0.04126428571428506,
          -0.0487446428571424,
          -0.0509732142857135,
          -0.05187499999999903,
          -0.050916071428570964,
          -0.0509589285714282,
          -0.04478214285714213,
          -0.0393303571428564,
          -0.033349999999999505,
          -0.021805357142856644,
          -0.015399999999999876,
          -0.0029910714285714046,
          0.007982142857142627,
          0.0238035714285712,
          0.034485714285713606,
          0.04540892857142791,
          0.03930535714285659,
          0.049066071428570536,
          0.06320714285714209,
          0.07284642857142784,
          0.08371607142857054,
          0.08526964285714195,
          0.09149999999999912,
          0.10416607142857054,
          0.11779642857142747,
          0.12766607142857053,
          0.13620178571428504,
          0.15074107142857104,
          0.16202678571428494,
          0.16971428571428496,
          0.17036964285714218,
          0.17229821428571393,
          0.17532321428571412,
          0.1857839285714289,
          0.19363214285714317,
          0.19218571428571465,
          0.16612321428571442
         ]
        }
       ],
       "layout": {
        "autosize": false,
        "height": 300,
        "margin": {
         "b": 1,
         "l": 50,
         "pad": 4,
         "r": 150,
         "t": 10
        },
        "paper_bgcolor": "LightSteelBlue",
        "template": {
         "data": {
          "bar": [
           {
            "error_x": {
             "color": "#2a3f5f"
            },
            "error_y": {
             "color": "#2a3f5f"
            },
            "marker": {
             "line": {
              "color": "#E5ECF6",
              "width": 0.5
             },
             "pattern": {
              "fillmode": "overlay",
              "size": 10,
              "solidity": 0.2
             }
            },
            "type": "bar"
           }
          ],
          "barpolar": [
           {
            "marker": {
             "line": {
              "color": "#E5ECF6",
              "width": 0.5
             },
             "pattern": {
              "fillmode": "overlay",
              "size": 10,
              "solidity": 0.2
             }
            },
            "type": "barpolar"
           }
          ],
          "carpet": [
           {
            "aaxis": {
             "endlinecolor": "#2a3f5f",
             "gridcolor": "white",
             "linecolor": "white",
             "minorgridcolor": "white",
             "startlinecolor": "#2a3f5f"
            },
            "baxis": {
             "endlinecolor": "#2a3f5f",
             "gridcolor": "white",
             "linecolor": "white",
             "minorgridcolor": "white",
             "startlinecolor": "#2a3f5f"
            },
            "type": "carpet"
           }
          ],
          "choropleth": [
           {
            "colorbar": {
             "outlinewidth": 0,
             "ticks": ""
            },
            "type": "choropleth"
           }
          ],
          "contour": [
           {
            "colorbar": {
             "outlinewidth": 0,
             "ticks": ""
            },
            "colorscale": [
             [
              0,
              "#0d0887"
             ],
             [
              0.1111111111111111,
              "#46039f"
             ],
             [
              0.2222222222222222,
              "#7201a8"
             ],
             [
              0.3333333333333333,
              "#9c179e"
             ],
             [
              0.4444444444444444,
              "#bd3786"
             ],
             [
              0.5555555555555556,
              "#d8576b"
             ],
             [
              0.6666666666666666,
              "#ed7953"
             ],
             [
              0.7777777777777778,
              "#fb9f3a"
             ],
             [
              0.8888888888888888,
              "#fdca26"
             ],
             [
              1,
              "#f0f921"
             ]
            ],
            "type": "contour"
           }
          ],
          "contourcarpet": [
           {
            "colorbar": {
             "outlinewidth": 0,
             "ticks": ""
            },
            "type": "contourcarpet"
           }
          ],
          "heatmap": [
           {
            "colorbar": {
             "outlinewidth": 0,
             "ticks": ""
            },
            "colorscale": [
             [
              0,
              "#0d0887"
             ],
             [
              0.1111111111111111,
              "#46039f"
             ],
             [
              0.2222222222222222,
              "#7201a8"
             ],
             [
              0.3333333333333333,
              "#9c179e"
             ],
             [
              0.4444444444444444,
              "#bd3786"
             ],
             [
              0.5555555555555556,
              "#d8576b"
             ],
             [
              0.6666666666666666,
              "#ed7953"
             ],
             [
              0.7777777777777778,
              "#fb9f3a"
             ],
             [
              0.8888888888888888,
              "#fdca26"
             ],
             [
              1,
              "#f0f921"
             ]
            ],
            "type": "heatmap"
           }
          ],
          "heatmapgl": [
           {
            "colorbar": {
             "outlinewidth": 0,
             "ticks": ""
            },
            "colorscale": [
             [
              0,
              "#0d0887"
             ],
             [
              0.1111111111111111,
              "#46039f"
             ],
             [
              0.2222222222222222,
              "#7201a8"
             ],
             [
              0.3333333333333333,
              "#9c179e"
             ],
             [
              0.4444444444444444,
              "#bd3786"
             ],
             [
              0.5555555555555556,
              "#d8576b"
             ],
             [
              0.6666666666666666,
              "#ed7953"
             ],
             [
              0.7777777777777778,
              "#fb9f3a"
             ],
             [
              0.8888888888888888,
              "#fdca26"
             ],
             [
              1,
              "#f0f921"
             ]
            ],
            "type": "heatmapgl"
           }
          ],
          "histogram": [
           {
            "marker": {
             "pattern": {
              "fillmode": "overlay",
              "size": 10,
              "solidity": 0.2
             }
            },
            "type": "histogram"
           }
          ],
          "histogram2d": [
           {
            "colorbar": {
             "outlinewidth": 0,
             "ticks": ""
            },
            "colorscale": [
             [
              0,
              "#0d0887"
             ],
             [
              0.1111111111111111,
              "#46039f"
             ],
             [
              0.2222222222222222,
              "#7201a8"
             ],
             [
              0.3333333333333333,
              "#9c179e"
             ],
             [
              0.4444444444444444,
              "#bd3786"
             ],
             [
              0.5555555555555556,
              "#d8576b"
             ],
             [
              0.6666666666666666,
              "#ed7953"
             ],
             [
              0.7777777777777778,
              "#fb9f3a"
             ],
             [
              0.8888888888888888,
              "#fdca26"
             ],
             [
              1,
              "#f0f921"
             ]
            ],
            "type": "histogram2d"
           }
          ],
          "histogram2dcontour": [
           {
            "colorbar": {
             "outlinewidth": 0,
             "ticks": ""
            },
            "colorscale": [
             [
              0,
              "#0d0887"
             ],
             [
              0.1111111111111111,
              "#46039f"
             ],
             [
              0.2222222222222222,
              "#7201a8"
             ],
             [
              0.3333333333333333,
              "#9c179e"
             ],
             [
              0.4444444444444444,
              "#bd3786"
             ],
             [
              0.5555555555555556,
              "#d8576b"
             ],
             [
              0.6666666666666666,
              "#ed7953"
             ],
             [
              0.7777777777777778,
              "#fb9f3a"
             ],
             [
              0.8888888888888888,
              "#fdca26"
             ],
             [
              1,
              "#f0f921"
             ]
            ],
            "type": "histogram2dcontour"
           }
          ],
          "mesh3d": [
           {
            "colorbar": {
             "outlinewidth": 0,
             "ticks": ""
            },
            "type": "mesh3d"
           }
          ],
          "parcoords": [
           {
            "line": {
             "colorbar": {
              "outlinewidth": 0,
              "ticks": ""
             }
            },
            "type": "parcoords"
           }
          ],
          "pie": [
           {
            "automargin": true,
            "type": "pie"
           }
          ],
          "scatter": [
           {
            "fillpattern": {
             "fillmode": "overlay",
             "size": 10,
             "solidity": 0.2
            },
            "type": "scatter"
           }
          ],
          "scatter3d": [
           {
            "line": {
             "colorbar": {
              "outlinewidth": 0,
              "ticks": ""
             }
            },
            "marker": {
             "colorbar": {
              "outlinewidth": 0,
              "ticks": ""
             }
            },
            "type": "scatter3d"
           }
          ],
          "scattercarpet": [
           {
            "marker": {
             "colorbar": {
              "outlinewidth": 0,
              "ticks": ""
             }
            },
            "type": "scattercarpet"
           }
          ],
          "scattergeo": [
           {
            "marker": {
             "colorbar": {
              "outlinewidth": 0,
              "ticks": ""
             }
            },
            "type": "scattergeo"
           }
          ],
          "scattergl": [
           {
            "marker": {
             "colorbar": {
              "outlinewidth": 0,
              "ticks": ""
             }
            },
            "type": "scattergl"
           }
          ],
          "scattermapbox": [
           {
            "marker": {
             "colorbar": {
              "outlinewidth": 0,
              "ticks": ""
             }
            },
            "type": "scattermapbox"
           }
          ],
          "scatterpolar": [
           {
            "marker": {
             "colorbar": {
              "outlinewidth": 0,
              "ticks": ""
             }
            },
            "type": "scatterpolar"
           }
          ],
          "scatterpolargl": [
           {
            "marker": {
             "colorbar": {
              "outlinewidth": 0,
              "ticks": ""
             }
            },
            "type": "scatterpolargl"
           }
          ],
          "scatterternary": [
           {
            "marker": {
             "colorbar": {
              "outlinewidth": 0,
              "ticks": ""
             }
            },
            "type": "scatterternary"
           }
          ],
          "surface": [
           {
            "colorbar": {
             "outlinewidth": 0,
             "ticks": ""
            },
            "colorscale": [
             [
              0,
              "#0d0887"
             ],
             [
              0.1111111111111111,
              "#46039f"
             ],
             [
              0.2222222222222222,
              "#7201a8"
             ],
             [
              0.3333333333333333,
              "#9c179e"
             ],
             [
              0.4444444444444444,
              "#bd3786"
             ],
             [
              0.5555555555555556,
              "#d8576b"
             ],
             [
              0.6666666666666666,
              "#ed7953"
             ],
             [
              0.7777777777777778,
              "#fb9f3a"
             ],
             [
              0.8888888888888888,
              "#fdca26"
             ],
             [
              1,
              "#f0f921"
             ]
            ],
            "type": "surface"
           }
          ],
          "table": [
           {
            "cells": {
             "fill": {
              "color": "#EBF0F8"
             },
             "line": {
              "color": "white"
             }
            },
            "header": {
             "fill": {
              "color": "#C8D4E3"
             },
             "line": {
              "color": "white"
             }
            },
            "type": "table"
           }
          ]
         },
         "layout": {
          "annotationdefaults": {
           "arrowcolor": "#2a3f5f",
           "arrowhead": 0,
           "arrowwidth": 1
          },
          "autotypenumbers": "strict",
          "coloraxis": {
           "colorbar": {
            "outlinewidth": 0,
            "ticks": ""
           }
          },
          "colorscale": {
           "diverging": [
            [
             0,
             "#8e0152"
            ],
            [
             0.1,
             "#c51b7d"
            ],
            [
             0.2,
             "#de77ae"
            ],
            [
             0.3,
             "#f1b6da"
            ],
            [
             0.4,
             "#fde0ef"
            ],
            [
             0.5,
             "#f7f7f7"
            ],
            [
             0.6,
             "#e6f5d0"
            ],
            [
             0.7,
             "#b8e186"
            ],
            [
             0.8,
             "#7fbc41"
            ],
            [
             0.9,
             "#4d9221"
            ],
            [
             1,
             "#276419"
            ]
           ],
           "sequential": [
            [
             0,
             "#0d0887"
            ],
            [
             0.1111111111111111,
             "#46039f"
            ],
            [
             0.2222222222222222,
             "#7201a8"
            ],
            [
             0.3333333333333333,
             "#9c179e"
            ],
            [
             0.4444444444444444,
             "#bd3786"
            ],
            [
             0.5555555555555556,
             "#d8576b"
            ],
            [
             0.6666666666666666,
             "#ed7953"
            ],
            [
             0.7777777777777778,
             "#fb9f3a"
            ],
            [
             0.8888888888888888,
             "#fdca26"
            ],
            [
             1,
             "#f0f921"
            ]
           ],
           "sequentialminus": [
            [
             0,
             "#0d0887"
            ],
            [
             0.1111111111111111,
             "#46039f"
            ],
            [
             0.2222222222222222,
             "#7201a8"
            ],
            [
             0.3333333333333333,
             "#9c179e"
            ],
            [
             0.4444444444444444,
             "#bd3786"
            ],
            [
             0.5555555555555556,
             "#d8576b"
            ],
            [
             0.6666666666666666,
             "#ed7953"
            ],
            [
             0.7777777777777778,
             "#fb9f3a"
            ],
            [
             0.8888888888888888,
             "#fdca26"
            ],
            [
             1,
             "#f0f921"
            ]
           ]
          },
          "colorway": [
           "#636efa",
           "#EF553B",
           "#00cc96",
           "#ab63fa",
           "#FFA15A",
           "#19d3f3",
           "#FF6692",
           "#B6E880",
           "#FF97FF",
           "#FECB52"
          ],
          "font": {
           "color": "#2a3f5f"
          },
          "geo": {
           "bgcolor": "white",
           "lakecolor": "white",
           "landcolor": "#E5ECF6",
           "showlakes": true,
           "showland": true,
           "subunitcolor": "white"
          },
          "hoverlabel": {
           "align": "left"
          },
          "hovermode": "closest",
          "mapbox": {
           "style": "light"
          },
          "paper_bgcolor": "white",
          "plot_bgcolor": "#E5ECF6",
          "polar": {
           "angularaxis": {
            "gridcolor": "white",
            "linecolor": "white",
            "ticks": ""
           },
           "bgcolor": "#E5ECF6",
           "radialaxis": {
            "gridcolor": "white",
            "linecolor": "white",
            "ticks": ""
           }
          },
          "scene": {
           "xaxis": {
            "backgroundcolor": "#E5ECF6",
            "gridcolor": "white",
            "gridwidth": 2,
            "linecolor": "white",
            "showbackground": true,
            "ticks": "",
            "zerolinecolor": "white"
           },
           "yaxis": {
            "backgroundcolor": "#E5ECF6",
            "gridcolor": "white",
            "gridwidth": 2,
            "linecolor": "white",
            "showbackground": true,
            "ticks": "",
            "zerolinecolor": "white"
           },
           "zaxis": {
            "backgroundcolor": "#E5ECF6",
            "gridcolor": "white",
            "gridwidth": 2,
            "linecolor": "white",
            "showbackground": true,
            "ticks": "",
            "zerolinecolor": "white"
           }
          },
          "shapedefaults": {
           "line": {
            "color": "#2a3f5f"
           }
          },
          "ternary": {
           "aaxis": {
            "gridcolor": "white",
            "linecolor": "white",
            "ticks": ""
           },
           "baxis": {
            "gridcolor": "white",
            "linecolor": "white",
            "ticks": ""
           },
           "bgcolor": "#E5ECF6",
           "caxis": {
            "gridcolor": "white",
            "linecolor": "white",
            "ticks": ""
           }
          },
          "title": {
           "x": 0.05
          },
          "xaxis": {
           "automargin": true,
           "gridcolor": "white",
           "linecolor": "white",
           "ticks": "",
           "title": {
            "standoff": 15
           },
           "zerolinecolor": "white",
           "zerolinewidth": 2
          },
          "yaxis": {
           "automargin": true,
           "gridcolor": "white",
           "linecolor": "white",
           "ticks": "",
           "title": {
            "standoff": 15
           },
           "zerolinecolor": "white",
           "zerolinewidth": 2
          }
         }
        },
        "width": 1500
       }
      }
     },
     "metadata": {},
     "output_type": "display_data"
    }
   ],
   "source": [
    "\n",
    "entrada_short, entrada_long = backtest_entry(var2)\n",
    "        \n",
    "ultimas_velas = 400\n",
    "\n",
    "\n",
    "var2 = SMI_default[activo][t].iloc[-ultimas_velas:]\n",
    "\n",
    "candlestick = go.Candlestick(x=var2.index,\n",
    "                open=var2['open'],\n",
    "                high=var2['high'],\n",
    "                low=var2['low'],\n",
    "                close=var2['close'])\n",
    "\n",
    "upper_band = go.Scatter(x=var2.index, y=var2['upper_BB'], name='upper_band', line=dict(color='red', width=1))\n",
    "lower_band = go.Scatter(x=var2.index, y=var2['lower_BB'], name='lower_band', line=dict(color='red', width=1))\n",
    "\n",
    "upper_KC = go.Scatter(x=var2.index, y=var2['upper_KC'], name='upper_KC', line=dict(color='blue', width=1, dash='dash'))\n",
    "lower_KC = go.Scatter(x=var2.index, y=var2['lower_KC'], name='lower_KC', line=dict(color='blue', width=1, dash='dash'))\n",
    "\n",
    "bar = go.Bar(x=var2.index, y=var2['value'], name='squeeze')\n",
    "\n",
    "\n",
    "fig = go.Figure(data=[candlestick, upper_band, lower_band, upper_KC, lower_KC])\n",
    "fig2 = go.Figure(data=[bar])\n",
    "\n",
    "fig.layout.xaxis.type = 'category'\n",
    "fig.layout.xaxis.rangeslider.visible = False\n",
    "# update figure 1\n",
    "fig.update_layout(\n",
    "    autosize=False,\n",
    "    width=1500,\n",
    "    height=600,\n",
    "    margin=dict(\n",
    "        \n",
    "        l=50,\n",
    "        r=50,\n",
    "        b=100,\n",
    "        t=50,\n",
    "        pad=4\n",
    "    ),\n",
    "    paper_bgcolor=\"LightSteelBlue\",\n",
    "    # title=f'{activo} {t}'\n",
    ")\n",
    "# update figure 2\n",
    "fig2.update_layout(\n",
    "    autosize=False,\n",
    "    width=1500,\n",
    "    height=300,\n",
    "    margin=dict(\n",
    "        \n",
    "        l=50,\n",
    "        r=150,\n",
    "        b=1,\n",
    "        t=10,\n",
    "        pad=4\n",
    "    ),\n",
    "    paper_bgcolor=\"LightSteelBlue\",\n",
    ")\n",
    "\n",
    "if len(entrada_short) > 0:\n",
    "    for x_value in entrada_short.index:\n",
    "        if x_value in var2.index:\n",
    "            fig.add_shape(\n",
    "                type=\"line\",\n",
    "                x0=x_value,\n",
    "                y0=var2['low'].min(),\n",
    "                x1=x_value,\n",
    "                y1=var2['high'].max(),\n",
    "                line=dict(color=\"red\", width=1, dash=\"dash\"),\n",
    "            )\n",
    "            fig2.add_shape(\n",
    "                type=\"line\",\n",
    "                x0=x_value,\n",
    "                y0=var2['value'].min(),\n",
    "                x1=x_value,\n",
    "                y1=var2['value'].max(),\n",
    "                line=dict(color=\"red\", width=1, dash=\"dash\"),\n",
    "            )\n",
    "\n",
    "if len(entrada_long) > 0:\n",
    "    for x_value in entrada_long.index:\n",
    "        if x_value in var2.index:\n",
    "            fig.add_shape(\n",
    "                type=\"line\",\n",
    "                x0=x_value,\n",
    "                y0=var2['low'].min(),\n",
    "                x1=x_value,\n",
    "                y1=var2['high'].max(),\n",
    "                line=dict(color=\"green\", width=1, dash=\"dash\"),\n",
    "            )\n",
    "            fig2.add_shape(\n",
    "                type=\"line\",\n",
    "                x0=x_value,\n",
    "                y0=var2['value'].min(),\n",
    "                x1=x_value,\n",
    "                y1=var2['value'].max(),\n",
    "                line=dict(color=\"green\", width=1, dash=\"dash\"),\n",
    "            )\n",
    "\n",
    "fig.show()\n",
    "fig2.show()            "
   ]
  },
  {
   "cell_type": "code",
   "execution_count": null,
   "metadata": {},
   "outputs": [
    {
     "data": {
      "text/html": [
       "<div>\n",
       "<style scoped>\n",
       "    .dataframe tbody tr th:only-of-type {\n",
       "        vertical-align: middle;\n",
       "    }\n",
       "\n",
       "    .dataframe tbody tr th {\n",
       "        vertical-align: top;\n",
       "    }\n",
       "\n",
       "    .dataframe thead th {\n",
       "        text-align: right;\n",
       "    }\n",
       "</style>\n",
       "<table border=\"1\" class=\"dataframe\">\n",
       "  <thead>\n",
       "    <tr style=\"text-align: right;\">\n",
       "      <th></th>\n",
       "      <th>open</th>\n",
       "      <th>close</th>\n",
       "      <th>high</th>\n",
       "      <th>low</th>\n",
       "      <th>volume</th>\n",
       "      <th>upper_BB</th>\n",
       "      <th>lower_BB</th>\n",
       "      <th>tr</th>\n",
       "      <th>upper_KC</th>\n",
       "      <th>lower_KC</th>\n",
       "      <th>value</th>\n",
       "      <th>squeeze_on</th>\n",
       "    </tr>\n",
       "    <tr>\n",
       "      <th>time</th>\n",
       "      <th></th>\n",
       "      <th></th>\n",
       "      <th></th>\n",
       "      <th></th>\n",
       "      <th></th>\n",
       "      <th></th>\n",
       "      <th></th>\n",
       "      <th></th>\n",
       "      <th></th>\n",
       "      <th></th>\n",
       "      <th></th>\n",
       "      <th></th>\n",
       "    </tr>\n",
       "  </thead>\n",
       "  <tbody>\n",
       "  </tbody>\n",
       "</table>\n",
       "</div>"
      ],
      "text/plain": [
       "Empty DataFrame\n",
       "Columns: [open, close, high, low, volume, upper_BB, lower_BB, tr, upper_KC, lower_KC, value, squeeze_on]\n",
       "Index: []"
      ]
     },
     "execution_count": 111,
     "metadata": {},
     "output_type": "execute_result"
    }
   ],
   "source": [
    "entrada_short"
   ]
  },
  {
   "cell_type": "code",
   "execution_count": null,
   "metadata": {},
   "outputs": [
    {
     "ename": "SystemExit",
     "evalue": "0",
     "output_type": "error",
     "traceback": [
      "An exception has occurred, use %tb to see the full traceback.\n",
      "\u001b[1;31mSystemExit\u001b[0m\u001b[1;31m:\u001b[0m 0\n"
     ]
    }
   ],
   "source": [
    "## TODO: Esto de acá fue una prueba y no es relevante para la función del módulo actual\n",
    "import sys\n",
    "sys.exit(0)\n",
    "\n",
    "for señales in entradas_backtest:\n",
    "    print(señales)\n",
    "    display(entradas_backtest[señales].iloc[-1].to_frame().T)\n",
    "    print()"
   ]
  },
  {
   "attachments": {},
   "cell_type": "markdown",
   "metadata": {},
   "source": [
    "# Aplicar los criterios de la estrategia para cada configuración del indicador y visualizar las señales"
   ]
  }
 ],
 "metadata": {
  "kernelspec": {
   "display_name": "venv",
   "language": "python",
   "name": "python3"
  },
  "language_info": {
   "codemirror_mode": {
    "name": "ipython",
    "version": 3
   },
   "file_extension": ".py",
   "mimetype": "text/x-python",
   "name": "python",
   "nbconvert_exporter": "python",
   "pygments_lexer": "ipython3",
   "version": "3.11.2"
  },
  "orig_nbformat": 4
 },
 "nbformat": 4,
 "nbformat_minor": 2
}
