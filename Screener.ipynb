{
 "cells": [
  {
   "attachments": {},
   "cell_type": "markdown",
   "metadata": {},
   "source": [
    "# 1) Cargar la data"
   ]
  },
  {
   "cell_type": "code",
   "execution_count": 1,
   "metadata": {},
   "outputs": [],
   "source": [
    "import os, pickle\n",
    "import pandas as pd\n",
    "from tabulate import tabulate"
   ]
  },
  {
   "cell_type": "code",
   "execution_count": 11,
   "metadata": {},
   "outputs": [],
   "source": [
    "def leer_nombre_ficheros(elementos_SQ, temporalidades):\n",
    "    \"\"\"\n",
    "    Encuentra los elementos anteriores al primer match entre la lista de elementos_SQ y temporalidades.\n",
    "\n",
    "    Args:\n",
    "        elementos_SQ (list): Lista de elementos a verificar.\n",
    "        temporalidades (list): Lista de temporalidades a buscar.\n",
    "\n",
    "    Returns:\n",
    "        list: Lista de listas que contienen activos encontrados dentro del elemento en elementos_SQ.\n",
    "        list: Lista de listas que contienen las temporalidades encontradas en cada elemento de elementos_SQ.\n",
    "    \"\"\"\n",
    "    id_busqueda = []\n",
    "    activos_encontrados = []\n",
    "    temporalidades_encontradas = []\n",
    "    \n",
    "    for elemento in elementos_SQ:\n",
    "        elementos_previos = []\n",
    "        primer_elemento = elemento.split('_')[0]\n",
    "        \n",
    "        for temporalidad in temporalidades:\n",
    "            index = elemento.find(temporalidad)\n",
    "            if index != -1:\n",
    "                elementos_previos.extend(elemento[:index].split('_')[1:-1])\n",
    "                temporalidades_encontradas.append(elemento[index:].split('_')[:-1])\n",
    "                break\n",
    "        \n",
    "        id_busqueda.append(primer_elemento)\n",
    "        activos_encontrados.append(elementos_previos)\n",
    "    \n",
    "    return id_busqueda, activos_encontrados, temporalidades_encontradas\n",
    "\n",
    "# DECORADOR\n",
    "def styler(func):\n",
    "    def wrapper(*args, **kwargs):\n",
    "        df = func(*args, **kwargs)\n",
    "        # formato para la impresion con estilo\n",
    "        keys= list(df.columns)\n",
    "        values = ['{:.2f}' for i in range(len(keys))]\n",
    "        format_dict = dict(zip(keys, values))\n",
    "        return df.style.format(format_dict).background_gradient(cmap='PRGn')\n",
    "    return wrapper\n",
    "\n",
    "# SE UTILIZA PARA VISUALIZAR LOS DATOS DEL OBJETO correlaciones\n",
    "\n",
    "@styler\n",
    "def get_correlation(data: dict, activo: str):\n",
    "    \"\"\"\n",
    "    Devuelve la matriz de correlaciones para un activo determinado.\n",
    "\n",
    "    Args:\n",
    "        data (dict): Diccionario con los datos de correlaciones de todos los activos.\n",
    "        activo (str): Activo a buscar en el diccionario.\n",
    "\n",
    "    Returns:\n",
    "        DataFrame: Matriz de correlaciones para el activo.\n",
    "\n",
    "    ACLARACION: El DataFrame es tipo Styler. Por lo que algunas funcionalidades propias de los DataFrame se pierden.\n",
    "    \"\"\"\n",
    "    # Filter the data dictionary based on the activo\n",
    "    filtered_data = {\n",
    "        key: values[activo.upper()]\n",
    "        for key, values in data.items()\n",
    "    }\n",
    "    # Create the DataFrame\n",
    "    df = pd.DataFrame(filtered_data)\n",
    "    df.columns.name = 'correlacion {}'.format(activo)\n",
    "    return df\n",
    "\n",
    "def crear_menu(id_search, activos, temporalidades):\n",
    "    menu = \"\"\n",
    "\n",
    "    for i in range(len(id_search)):\n",
    "        assets = ' - '.join(activos[i])\n",
    "        temps = ' '.join(temporalidades[i])\n",
    "        menu_item = f'{id_search[i]}) {assets} : {temps}\\n'\n",
    "        menu += menu_item\n",
    "\n",
    "    return menu\n"
   ]
  },
  {
   "cell_type": "code",
   "execution_count": 6,
   "metadata": {},
   "outputs": [
    {
     "name": "stdout",
     "output_type": "stream",
     "text": [
      " Directorios guardados: ['04_junio_2023', '05_junio_2023', '06_junio_2023', '07_junio_2023', '08_junio_2023']\n",
      " Cantidad de solicitudes guardadas: 2\n",
      "1) BTC - XRP - APE : 4h 2h 1h 30m 15m 5m 3m 1m\n",
      "2) ETH - LINK - BNB - NEO : 1d 4h 2h 1h\n",
      "\n",
      " Activos elegidos: ['BTC', 'XRP', 'APE']\n",
      " Temporalidades correspondientes: ['4h', '2h', '1h', '30m', '15m', '5m', '3m', '1m']\n"
     ]
    }
   ],
   "source": [
    "# PROGRAMA PRINCIPAL\n",
    "# Load the data\n",
    "date_path = os.path.join(os.getcwd(), 'data')\n",
    "\n",
    "# Get the date directory\n",
    "print(f' Directorios guardados: {os.listdir(date_path)}')\n",
    "\n",
    "file_dir = os.path.join(date_path, os.listdir(date_path)[-1])#TODO: estamos eligiendo el ultimo directorio, HARDCODED es la carpeta del dia de hoy\n",
    "#TODO: APLICAR crear_menu para elegir el directorio a cargar\n",
    "print(f' Cantidad de solicitudes guardadas: {len(os.listdir(file_dir))//4}')\n",
    "\n",
    "# obtener los nombres de los activos descargados\n",
    "environment_temporalities = ['1d','4h','2h','1h','30m','15m','5m','3m', '1m']\n",
    "elementos_SQ = [file for file in os.listdir(file_dir) if file.endswith('SQ.pickle')]\n",
    "\n",
    "id_search, activos_encontrados, temporalidades = leer_nombre_ficheros(elementos_SQ, environment_temporalities)\n",
    "\n",
    "\n",
    "if __name__ == '__main__':\n",
    "    #TODO: crear una funcion main() que tenga argumentos de entrada, la fecha y luego los activos disponibles\n",
    "    print(crear_menu(id_search, activos_encontrados, temporalidades))\n",
    "\n",
    "    id_elegido = id_search[0]#TODO: acá va el input para cargar los datos correspondientes\n",
    "    activos_elegidos = activos_encontrados[0]\n",
    "    temporalidades_correspondientes = temporalidades[0]\n",
    "\n",
    "    print(f' Activos elegidos: {activos_elegidos}')\n",
    "    print(f' Temporalidades correspondientes: {temporalidades_correspondientes}')\n",
    "\n",
    "    archivos_necesarios = ['.pickle','_SQ.pickle', '_CORR.pickle', '_TW.pickle']\n",
    "    file_name_without_extension = f'{id_elegido}_' + '_'.join(activos_elegidos)+'_'+'_'.join(temporalidades_correspondientes)\n",
    "    loaded_files = []\n",
    "    for extension in archivos_necesarios:\n",
    "        file_name = file_name_without_extension + extension\n",
    "        file_path = os.path.join(file_dir, file_name)\n",
    "        with open(file_path, 'rb') as file:\n",
    "            loaded_files.append(pickle.load(file))\n",
    "    data = {\n",
    "        'data_raw': loaded_files[0],\n",
    "        'data_SQ': loaded_files[1],\n",
    "        'SQ_CORR': loaded_files[2],\n",
    "        'time_window': loaded_files[3]\n",
    "    }"
   ]
  },
  {
   "cell_type": "raw",
   "metadata": {},
   "source": [
    "# A modo exploratorio o para explicación.\n",
    "# Output\n",
    "data.keys()\n",
    "data['data_raw'].keys()\n",
    "data['data_raw']['BTC'].keys()\n",
    "data['data_raw']['BTC']['1m']\n",
    "\n",
    "\n",
    "data['data_SQ'].keys()\n",
    "data['data_SQ'][22]['BTC'].keys()\n",
    "data['data_SQ'][22]['BTC']['1m']\n",
    "\n",
    "\n",
    "data['SQ_CORR'].keys()\n",
    "data['SQ_CORR'][22].keys()\n",
    "data['SQ_CORR'][22]['BTC']['1m']\n",
    "\n",
    "\n",
    "data['time_window'].keys()\n",
    "data['time_window']['1m'].keys()\n",
    "data['time_window']['1m'][22]\n"
   ]
  },
  {
   "attachments": {},
   "cell_type": "markdown",
   "metadata": {},
   "source": [
    "# 2) Mostrar las correlaciones\n",
    "\n",
    "Podría utilizarse la libreria Rich para armar tablas y exportarlas en formato txt\n"
   ]
  },
  {
   "cell_type": "code",
   "execution_count": 12,
   "metadata": {},
   "outputs": [
    {
     "data": {
      "text/html": [
       "<style type=\"text/css\">\n",
       "#T_5a97f_row0_col0, #T_5a97f_row0_col3, #T_5a97f_row1_col1, #T_5a97f_row1_col2, #T_5a97f_row2_col3, #T_5a97f_row2_col4, #T_5a97f_row2_col5, #T_5a97f_row2_col9, #T_5a97f_row2_col10, #T_5a97f_row2_col11, #T_5a97f_row2_col12, #T_5a97f_row3_col6, #T_5a97f_row3_col7, #T_5a97f_row3_col8 {\n",
       "  background-color: #00441b;\n",
       "  color: #f1f1f1;\n",
       "}\n",
       "#T_5a97f_row0_col1, #T_5a97f_row4_col1 {\n",
       "  background-color: #7bc17c;\n",
       "  color: #000000;\n",
       "}\n",
       "#T_5a97f_row0_col2, #T_5a97f_row3_col4 {\n",
       "  background-color: #7ec37f;\n",
       "  color: #000000;\n",
       "}\n",
       "#T_5a97f_row0_col4, #T_5a97f_row4_col11 {\n",
       "  background-color: #166f32;\n",
       "  color: #f1f1f1;\n",
       "}\n",
       "#T_5a97f_row0_col5 {\n",
       "  background-color: #3c954d;\n",
       "  color: #f1f1f1;\n",
       "}\n",
       "#T_5a97f_row0_col6 {\n",
       "  background-color: #e6f3e3;\n",
       "  color: #000000;\n",
       "}\n",
       "#T_5a97f_row0_col7 {\n",
       "  background-color: #8b559b;\n",
       "  color: #f1f1f1;\n",
       "}\n",
       "#T_5a97f_row0_col8, #T_5a97f_row0_col12, #T_5a97f_row5_col9, #T_5a97f_row5_col10, #T_5a97f_row5_col11, #T_5a97f_row6_col0, #T_5a97f_row7_col1, #T_5a97f_row7_col2, #T_5a97f_row7_col3, #T_5a97f_row7_col4, #T_5a97f_row7_col5, #T_5a97f_row7_col6, #T_5a97f_row7_col7 {\n",
       "  background-color: #40004b;\n",
       "  color: #f1f1f1;\n",
       "}\n",
       "#T_5a97f_row0_col9, #T_5a97f_row3_col9 {\n",
       "  background-color: #0b5826;\n",
       "  color: #f1f1f1;\n",
       "}\n",
       "#T_5a97f_row0_col10, #T_5a97f_row6_col10 {\n",
       "  background-color: #c9e9c3;\n",
       "  color: #000000;\n",
       "}\n",
       "#T_5a97f_row0_col11 {\n",
       "  background-color: #9970ab;\n",
       "  color: #f1f1f1;\n",
       "}\n",
       "#T_5a97f_row1_col0 {\n",
       "  background-color: #9fd79a;\n",
       "  color: #000000;\n",
       "}\n",
       "#T_5a97f_row1_col3, #T_5a97f_row1_col9, #T_5a97f_row6_col11 {\n",
       "  background-color: #e8f4e5;\n",
       "  color: #000000;\n",
       "}\n",
       "#T_5a97f_row1_col4 {\n",
       "  background-color: #ead9ea;\n",
       "  color: #000000;\n",
       "}\n",
       "#T_5a97f_row1_col5 {\n",
       "  background-color: #d7c0dd;\n",
       "  color: #000000;\n",
       "}\n",
       "#T_5a97f_row1_col6, #T_5a97f_row3_col0, #T_5a97f_row4_col3 {\n",
       "  background-color: #eadbeb;\n",
       "  color: #000000;\n",
       "}\n",
       "#T_5a97f_row1_col7, #T_5a97f_row7_col12 {\n",
       "  background-color: #308a45;\n",
       "  color: #f1f1f1;\n",
       "}\n",
       "#T_5a97f_row1_col8 {\n",
       "  background-color: #84c784;\n",
       "  color: #000000;\n",
       "}\n",
       "#T_5a97f_row1_col10 {\n",
       "  background-color: #c7abd2;\n",
       "  color: #000000;\n",
       "}\n",
       "#T_5a97f_row1_col11 {\n",
       "  background-color: #bb9cc9;\n",
       "  color: #f1f1f1;\n",
       "}\n",
       "#T_5a97f_row1_col12 {\n",
       "  background-color: #d0b7d8;\n",
       "  color: #000000;\n",
       "}\n",
       "#T_5a97f_row2_col0 {\n",
       "  background-color: #50a65a;\n",
       "  color: #f1f1f1;\n",
       "}\n",
       "#T_5a97f_row2_col1, #T_5a97f_row4_col0 {\n",
       "  background-color: #1c7938;\n",
       "  color: #f1f1f1;\n",
       "}\n",
       "#T_5a97f_row2_col2 {\n",
       "  background-color: #449b52;\n",
       "  color: #f1f1f1;\n",
       "}\n",
       "#T_5a97f_row2_col6 {\n",
       "  background-color: #054e20;\n",
       "  color: #f1f1f1;\n",
       "}\n",
       "#T_5a97f_row2_col7 {\n",
       "  background-color: #e8d5e9;\n",
       "  color: #000000;\n",
       "}\n",
       "#T_5a97f_row2_col8 {\n",
       "  background-color: #4b0856;\n",
       "  color: #f1f1f1;\n",
       "}\n",
       "#T_5a97f_row3_col1, #T_5a97f_row6_col6 {\n",
       "  background-color: #bfe5b9;\n",
       "  color: #000000;\n",
       "}\n",
       "#T_5a97f_row3_col2, #T_5a97f_row5_col2 {\n",
       "  background-color: #afdfa9;\n",
       "  color: #000000;\n",
       "}\n",
       "#T_5a97f_row3_col3, #T_5a97f_row5_col3 {\n",
       "  background-color: #87c886;\n",
       "  color: #000000;\n",
       "}\n",
       "#T_5a97f_row3_col5 {\n",
       "  background-color: #5db063;\n",
       "  color: #f1f1f1;\n",
       "}\n",
       "#T_5a97f_row3_col10 {\n",
       "  background-color: #298440;\n",
       "  color: #f1f1f1;\n",
       "}\n",
       "#T_5a97f_row3_col11 {\n",
       "  background-color: #8dcc8b;\n",
       "  color: #000000;\n",
       "}\n",
       "#T_5a97f_row3_col12 {\n",
       "  background-color: #dbf1d6;\n",
       "  color: #000000;\n",
       "}\n",
       "#T_5a97f_row4_col2 {\n",
       "  background-color: #def1d9;\n",
       "  color: #000000;\n",
       "}\n",
       "#T_5a97f_row4_col4, #T_5a97f_row6_col1 {\n",
       "  background-color: #ceb5d7;\n",
       "  color: #000000;\n",
       "}\n",
       "#T_5a97f_row4_col5 {\n",
       "  background-color: #c4a8d0;\n",
       "  color: #000000;\n",
       "}\n",
       "#T_5a97f_row4_col6 {\n",
       "  background-color: #9465a5;\n",
       "  color: #f1f1f1;\n",
       "}\n",
       "#T_5a97f_row4_col7, #T_5a97f_row6_col7 {\n",
       "  background-color: #53a85c;\n",
       "  color: #f1f1f1;\n",
       "}\n",
       "#T_5a97f_row4_col8, #T_5a97f_row4_col10 {\n",
       "  background-color: #328c47;\n",
       "  color: #f1f1f1;\n",
       "}\n",
       "#T_5a97f_row4_col9 {\n",
       "  background-color: #66b56b;\n",
       "  color: #f1f1f1;\n",
       "}\n",
       "#T_5a97f_row4_col12 {\n",
       "  background-color: #044c1f;\n",
       "  color: #f1f1f1;\n",
       "}\n",
       "#T_5a97f_row5_col0 {\n",
       "  background-color: #6a2177;\n",
       "  color: #f1f1f1;\n",
       "}\n",
       "#T_5a97f_row5_col1 {\n",
       "  background-color: #f5f4f6;\n",
       "  color: #000000;\n",
       "}\n",
       "#T_5a97f_row5_col4, #T_5a97f_row5_col5 {\n",
       "  background-color: #a9dca3;\n",
       "  color: #000000;\n",
       "}\n",
       "#T_5a97f_row5_col6 {\n",
       "  background-color: #edf5eb;\n",
       "  color: #000000;\n",
       "}\n",
       "#T_5a97f_row5_col7 {\n",
       "  background-color: #ab87bb;\n",
       "  color: #f1f1f1;\n",
       "}\n",
       "#T_5a97f_row5_col8 {\n",
       "  background-color: #71267e;\n",
       "  color: #f1f1f1;\n",
       "}\n",
       "#T_5a97f_row5_col12 {\n",
       "  background-color: #480754;\n",
       "  color: #f1f1f1;\n",
       "}\n",
       "#T_5a97f_row6_col2 {\n",
       "  background-color: #c1a4ce;\n",
       "  color: #000000;\n",
       "}\n",
       "#T_5a97f_row6_col3 {\n",
       "  background-color: #d6bedc;\n",
       "  color: #000000;\n",
       "}\n",
       "#T_5a97f_row6_col4 {\n",
       "  background-color: #e3cee5;\n",
       "  color: #000000;\n",
       "}\n",
       "#T_5a97f_row6_col5 {\n",
       "  background-color: #e9d8ea;\n",
       "  color: #000000;\n",
       "}\n",
       "#T_5a97f_row6_col8 {\n",
       "  background-color: #dff1da;\n",
       "  color: #000000;\n",
       "}\n",
       "#T_5a97f_row6_col9, #T_5a97f_row7_col9 {\n",
       "  background-color: #93d090;\n",
       "  color: #000000;\n",
       "}\n",
       "#T_5a97f_row6_col12 {\n",
       "  background-color: #ebf4e8;\n",
       "  color: #000000;\n",
       "}\n",
       "#T_5a97f_row7_col0 {\n",
       "  background-color: #772b84;\n",
       "  color: #f1f1f1;\n",
       "}\n",
       "#T_5a97f_row7_col8 {\n",
       "  background-color: #571263;\n",
       "  color: #f1f1f1;\n",
       "}\n",
       "#T_5a97f_row7_col10 {\n",
       "  background-color: #6fba72;\n",
       "  color: #f1f1f1;\n",
       "}\n",
       "#T_5a97f_row7_col11 {\n",
       "  background-color: #5aae61;\n",
       "  color: #f1f1f1;\n",
       "}\n",
       "</style>\n",
       "<table id=\"T_5a97f\">\n",
       "  <thead>\n",
       "    <tr>\n",
       "      <th class=\"index_name level0\" >correlacion btc</th>\n",
       "      <th id=\"T_5a97f_level0_col0\" class=\"col_heading level0 col0\" >9</th>\n",
       "      <th id=\"T_5a97f_level0_col1\" class=\"col_heading level0 col1\" >12</th>\n",
       "      <th id=\"T_5a97f_level0_col2\" class=\"col_heading level0 col2\" >14</th>\n",
       "      <th id=\"T_5a97f_level0_col3\" class=\"col_heading level0 col3\" >18</th>\n",
       "      <th id=\"T_5a97f_level0_col4\" class=\"col_heading level0 col4\" >20</th>\n",
       "      <th id=\"T_5a97f_level0_col5\" class=\"col_heading level0 col5\" >22</th>\n",
       "      <th id=\"T_5a97f_level0_col6\" class=\"col_heading level0 col6\" >30</th>\n",
       "      <th id=\"T_5a97f_level0_col7\" class=\"col_heading level0 col7\" >40</th>\n",
       "      <th id=\"T_5a97f_level0_col8\" class=\"col_heading level0 col8\" >50</th>\n",
       "      <th id=\"T_5a97f_level0_col9\" class=\"col_heading level0 col9\" >60</th>\n",
       "      <th id=\"T_5a97f_level0_col10\" class=\"col_heading level0 col10\" >70</th>\n",
       "      <th id=\"T_5a97f_level0_col11\" class=\"col_heading level0 col11\" >80</th>\n",
       "      <th id=\"T_5a97f_level0_col12\" class=\"col_heading level0 col12\" >90</th>\n",
       "    </tr>\n",
       "  </thead>\n",
       "  <tbody>\n",
       "    <tr>\n",
       "      <th id=\"T_5a97f_level0_row0\" class=\"row_heading level0 row0\" >4h</th>\n",
       "      <td id=\"T_5a97f_row0_col0\" class=\"data row0 col0\" >0.70</td>\n",
       "      <td id=\"T_5a97f_row0_col1\" class=\"data row0 col1\" >0.60</td>\n",
       "      <td id=\"T_5a97f_row0_col2\" class=\"data row0 col2\" >0.54</td>\n",
       "      <td id=\"T_5a97f_row0_col3\" class=\"data row0 col3\" >0.59</td>\n",
       "      <td id=\"T_5a97f_row0_col4\" class=\"data row0 col4\" >0.62</td>\n",
       "      <td id=\"T_5a97f_row0_col5\" class=\"data row0 col5\" >0.63</td>\n",
       "      <td id=\"T_5a97f_row0_col6\" class=\"data row0 col6\" >0.57</td>\n",
       "      <td id=\"T_5a97f_row0_col7\" class=\"data row0 col7\" >0.34</td>\n",
       "      <td id=\"T_5a97f_row0_col8\" class=\"data row0 col8\" >0.31</td>\n",
       "      <td id=\"T_5a97f_row0_col9\" class=\"data row0 col9\" >0.52</td>\n",
       "      <td id=\"T_5a97f_row0_col10\" class=\"data row0 col10\" >0.37</td>\n",
       "      <td id=\"T_5a97f_row0_col11\" class=\"data row0 col11\" >0.14</td>\n",
       "      <td id=\"T_5a97f_row0_col12\" class=\"data row0 col12\" >0.04</td>\n",
       "    </tr>\n",
       "    <tr>\n",
       "      <th id=\"T_5a97f_level0_row1\" class=\"row_heading level0 row1\" >2h</th>\n",
       "      <td id=\"T_5a97f_row1_col0\" class=\"data row1 col0\" >0.59</td>\n",
       "      <td id=\"T_5a97f_row1_col1\" class=\"data row1 col1\" >0.74</td>\n",
       "      <td id=\"T_5a97f_row1_col2\" class=\"data row1 col2\" >0.69</td>\n",
       "      <td id=\"T_5a97f_row1_col3\" class=\"data row1 col3\" >0.45</td>\n",
       "      <td id=\"T_5a97f_row1_col4\" class=\"data row1 col4\" >0.44</td>\n",
       "      <td id=\"T_5a97f_row1_col5\" class=\"data row1 col5\" >0.44</td>\n",
       "      <td id=\"T_5a97f_row1_col6\" class=\"data row1 col6\" >0.51</td>\n",
       "      <td id=\"T_5a97f_row1_col7\" class=\"data row1 col7\" >0.60</td>\n",
       "      <td id=\"T_5a97f_row1_col8\" class=\"data row1 col8\" >0.63</td>\n",
       "      <td id=\"T_5a97f_row1_col9\" class=\"data row1 col9\" >0.31</td>\n",
       "      <td id=\"T_5a97f_row1_col10\" class=\"data row1 col10\" >0.19</td>\n",
       "      <td id=\"T_5a97f_row1_col11\" class=\"data row1 col11\" >0.19</td>\n",
       "      <td id=\"T_5a97f_row1_col12\" class=\"data row1 col12\" >0.24</td>\n",
       "    </tr>\n",
       "    <tr>\n",
       "      <th id=\"T_5a97f_level0_row2\" class=\"row_heading level0 row2\" >1h</th>\n",
       "      <td id=\"T_5a97f_row2_col0\" class=\"data row2 col0\" >0.63</td>\n",
       "      <td id=\"T_5a97f_row2_col1\" class=\"data row2 col1\" >0.68</td>\n",
       "      <td id=\"T_5a97f_row2_col2\" class=\"data row2 col2\" >0.59</td>\n",
       "      <td id=\"T_5a97f_row2_col3\" class=\"data row2 col3\" >0.59</td>\n",
       "      <td id=\"T_5a97f_row2_col4\" class=\"data row2 col4\" >0.65</td>\n",
       "      <td id=\"T_5a97f_row2_col5\" class=\"data row2 col5\" >0.69</td>\n",
       "      <td id=\"T_5a97f_row2_col6\" class=\"data row2 col6\" >0.75</td>\n",
       "      <td id=\"T_5a97f_row2_col7\" class=\"data row2 col7\" >0.43</td>\n",
       "      <td id=\"T_5a97f_row2_col8\" class=\"data row2 col8\" >0.32</td>\n",
       "      <td id=\"T_5a97f_row2_col9\" class=\"data row2 col9\" >0.54</td>\n",
       "      <td id=\"T_5a97f_row2_col10\" class=\"data row2 col10\" >0.58</td>\n",
       "      <td id=\"T_5a97f_row2_col11\" class=\"data row2 col11\" >0.62</td>\n",
       "      <td id=\"T_5a97f_row2_col12\" class=\"data row2 col12\" >0.63</td>\n",
       "    </tr>\n",
       "    <tr>\n",
       "      <th id=\"T_5a97f_level0_row3\" class=\"row_heading level0 row3\" >30m</th>\n",
       "      <td id=\"T_5a97f_row3_col0\" class=\"data row3 col0\" >0.48</td>\n",
       "      <td id=\"T_5a97f_row3_col1\" class=\"data row3 col1\" >0.54</td>\n",
       "      <td id=\"T_5a97f_row3_col2\" class=\"data row3 col2\" >0.50</td>\n",
       "      <td id=\"T_5a97f_row3_col3\" class=\"data row3 col3\" >0.51</td>\n",
       "      <td id=\"T_5a97f_row3_col4\" class=\"data row3 col4\" >0.56</td>\n",
       "      <td id=\"T_5a97f_row3_col5\" class=\"data row3 col5\" >0.61</td>\n",
       "      <td id=\"T_5a97f_row3_col6\" class=\"data row3 col6\" >0.76</td>\n",
       "      <td id=\"T_5a97f_row3_col7\" class=\"data row3 col7\" >0.65</td>\n",
       "      <td id=\"T_5a97f_row3_col8\" class=\"data row3 col8\" >0.74</td>\n",
       "      <td id=\"T_5a97f_row3_col9\" class=\"data row3 col9\" >0.52</td>\n",
       "      <td id=\"T_5a97f_row3_col10\" class=\"data row3 col10\" >0.51</td>\n",
       "      <td id=\"T_5a97f_row3_col11\" class=\"data row3 col11\" >0.46</td>\n",
       "      <td id=\"T_5a97f_row3_col12\" class=\"data row3 col12\" >0.39</td>\n",
       "    </tr>\n",
       "    <tr>\n",
       "      <th id=\"T_5a97f_level0_row4\" class=\"row_heading level0 row4\" >15m</th>\n",
       "      <td id=\"T_5a97f_row4_col0\" class=\"data row4 col0\" >0.66</td>\n",
       "      <td id=\"T_5a97f_row4_col1\" class=\"data row4 col1\" >0.60</td>\n",
       "      <td id=\"T_5a97f_row4_col2\" class=\"data row4 col2\" >0.44</td>\n",
       "      <td id=\"T_5a97f_row4_col3\" class=\"data row4 col3\" >0.41</td>\n",
       "      <td id=\"T_5a97f_row4_col4\" class=\"data row4 col4\" >0.41</td>\n",
       "      <td id=\"T_5a97f_row4_col5\" class=\"data row4 col5\" >0.42</td>\n",
       "      <td id=\"T_5a97f_row4_col6\" class=\"data row4 col6\" >0.41</td>\n",
       "      <td id=\"T_5a97f_row4_col7\" class=\"data row4 col7\" >0.58</td>\n",
       "      <td id=\"T_5a97f_row4_col8\" class=\"data row4 col8\" >0.68</td>\n",
       "      <td id=\"T_5a97f_row4_col9\" class=\"data row4 col9\" >0.43</td>\n",
       "      <td id=\"T_5a97f_row4_col10\" class=\"data row4 col10\" >0.50</td>\n",
       "      <td id=\"T_5a97f_row4_col11\" class=\"data row4 col11\" >0.57</td>\n",
       "      <td id=\"T_5a97f_row4_col12\" class=\"data row4 col12\" >0.62</td>\n",
       "    </tr>\n",
       "    <tr>\n",
       "      <th id=\"T_5a97f_level0_row5\" class=\"row_heading level0 row5\" >5m</th>\n",
       "      <td id=\"T_5a97f_row5_col0\" class=\"data row5 col0\" >0.35</td>\n",
       "      <td id=\"T_5a97f_row5_col1\" class=\"data row5 col1\" >0.45</td>\n",
       "      <td id=\"T_5a97f_row5_col2\" class=\"data row5 col2\" >0.50</td>\n",
       "      <td id=\"T_5a97f_row5_col3\" class=\"data row5 col3\" >0.51</td>\n",
       "      <td id=\"T_5a97f_row5_col4\" class=\"data row5 col4\" >0.54</td>\n",
       "      <td id=\"T_5a97f_row5_col5\" class=\"data row5 col5\" >0.57</td>\n",
       "      <td id=\"T_5a97f_row5_col6\" class=\"data row5 col6\" >0.56</td>\n",
       "      <td id=\"T_5a97f_row5_col7\" class=\"data row5 col7\" >0.37</td>\n",
       "      <td id=\"T_5a97f_row5_col8\" class=\"data row5 col8\" >0.35</td>\n",
       "      <td id=\"T_5a97f_row5_col9\" class=\"data row5 col9\" >0.03</td>\n",
       "      <td id=\"T_5a97f_row5_col10\" class=\"data row5 col10\" >0.01</td>\n",
       "      <td id=\"T_5a97f_row5_col11\" class=\"data row5 col11\" >0.02</td>\n",
       "      <td id=\"T_5a97f_row5_col12\" class=\"data row5 col12\" >0.05</td>\n",
       "    </tr>\n",
       "    <tr>\n",
       "      <th id=\"T_5a97f_level0_row6\" class=\"row_heading level0 row6\" >3m</th>\n",
       "      <td id=\"T_5a97f_row6_col0\" class=\"data row6 col0\" >0.32</td>\n",
       "      <td id=\"T_5a97f_row6_col1\" class=\"data row6 col1\" >0.36</td>\n",
       "      <td id=\"T_5a97f_row6_col2\" class=\"data row6 col2\" >0.27</td>\n",
       "      <td id=\"T_5a97f_row6_col3\" class=\"data row6 col3\" >0.39</td>\n",
       "      <td id=\"T_5a97f_row6_col4\" class=\"data row6 col4\" >0.43</td>\n",
       "      <td id=\"T_5a97f_row6_col5\" class=\"data row6 col5\" >0.46</td>\n",
       "      <td id=\"T_5a97f_row6_col6\" class=\"data row6 col6\" >0.61</td>\n",
       "      <td id=\"T_5a97f_row6_col7\" class=\"data row6 col7\" >0.58</td>\n",
       "      <td id=\"T_5a97f_row6_col8\" class=\"data row6 col8\" >0.56</td>\n",
       "      <td id=\"T_5a97f_row6_col9\" class=\"data row6 col9\" >0.40</td>\n",
       "      <td id=\"T_5a97f_row6_col10\" class=\"data row6 col10\" >0.37</td>\n",
       "      <td id=\"T_5a97f_row6_col11\" class=\"data row6 col11\" >0.35</td>\n",
       "      <td id=\"T_5a97f_row6_col12\" class=\"data row6 col12\" >0.36</td>\n",
       "    </tr>\n",
       "    <tr>\n",
       "      <th id=\"T_5a97f_level0_row7\" class=\"row_heading level0 row7\" >1m</th>\n",
       "      <td id=\"T_5a97f_row7_col0\" class=\"data row7 col0\" >0.36</td>\n",
       "      <td id=\"T_5a97f_row7_col1\" class=\"data row7 col1\" >0.17</td>\n",
       "      <td id=\"T_5a97f_row7_col2\" class=\"data row7 col2\" >0.09</td>\n",
       "      <td id=\"T_5a97f_row7_col3\" class=\"data row7 col3\" >0.28</td>\n",
       "      <td id=\"T_5a97f_row7_col4\" class=\"data row7 col4\" >0.29</td>\n",
       "      <td id=\"T_5a97f_row7_col5\" class=\"data row7 col5\" >0.30</td>\n",
       "      <td id=\"T_5a97f_row7_col6\" class=\"data row7 col6\" >0.33</td>\n",
       "      <td id=\"T_5a97f_row7_col7\" class=\"data row7 col7\" >0.28</td>\n",
       "      <td id=\"T_5a97f_row7_col8\" class=\"data row7 col8\" >0.33</td>\n",
       "      <td id=\"T_5a97f_row7_col9\" class=\"data row7 col9\" >0.40</td>\n",
       "      <td id=\"T_5a97f_row7_col10\" class=\"data row7 col10\" >0.45</td>\n",
       "      <td id=\"T_5a97f_row7_col11\" class=\"data row7 col11\" >0.50</td>\n",
       "      <td id=\"T_5a97f_row7_col12\" class=\"data row7 col12\" >0.55</td>\n",
       "    </tr>\n",
       "  </tbody>\n",
       "</table>\n"
      ],
      "text/plain": [
       "<pandas.io.formats.style.Styler at 0x2788109bc10>"
      ]
     },
     "metadata": {},
     "output_type": "display_data"
    }
   ],
   "source": [
    "if __name__ == '__main__':\n",
    "    asset = 'btc'\n",
    "\n",
    "    df = get_correlation(data['SQ_CORR'], asset)\n",
    "    display(df)"
   ]
  },
  {
   "cell_type": "code",
   "execution_count": null,
   "metadata": {},
   "outputs": [],
   "source": [
    "# CREAR TABLA DE CORRELACIONES PARA EXPORTAR FORMATO TXT\n",
    "# TODO: Obtener df en una variable tipo DataFrame, actualmente df es tipo Styler\n",
    "## tabla para exportar a txt -> NO BORRAR!!\n",
    "## tabla = tabulate(df, headers='keys', tablefmt='fancy_grid')\n",
    "## print(f'Correlación {asset} con Squeeze Momentum Indicator')\n",
    "## print(tabla)"
   ]
  },
  {
   "cell_type": "code",
   "execution_count": 15,
   "metadata": {},
   "outputs": [
    {
     "name": "stdout",
     "output_type": "stream",
     "text": [
      "Correlación XRP con Squeeze Momentum Indicator\n"
     ]
    },
    {
     "data": {
      "text/html": [
       "<style type=\"text/css\">\n",
       "#T_ec59f_row0_col0, #T_ec59f_row0_col9, #T_ec59f_row1_col1, #T_ec59f_row1_col2, #T_ec59f_row1_col10, #T_ec59f_row1_col11, #T_ec59f_row2_col3, #T_ec59f_row2_col4, #T_ec59f_row2_col5, #T_ec59f_row2_col6, #T_ec59f_row3_col7, #T_ec59f_row3_col8, #T_ec59f_row4_col12 {\n",
       "  background-color: #00441b;\n",
       "  color: #f1f1f1;\n",
       "}\n",
       "#T_ec59f_row0_col1 {\n",
       "  background-color: #99d395;\n",
       "  color: #000000;\n",
       "}\n",
       "#T_ec59f_row0_col2, #T_ec59f_row0_col3, #T_ec59f_row1_col4, #T_ec59f_row1_col5, #T_ec59f_row1_col6, #T_ec59f_row1_col7, #T_ec59f_row2_col8, #T_ec59f_row2_col9, #T_ec59f_row2_col10, #T_ec59f_row3_col11, #T_ec59f_row3_col12, #T_ec59f_row5_col0, #T_ec59f_row5_col1 {\n",
       "  background-color: #40004b;\n",
       "  color: #f1f1f1;\n",
       "}\n",
       "#T_ec59f_row0_col4 {\n",
       "  background-color: #551061;\n",
       "  color: #f1f1f1;\n",
       "}\n",
       "#T_ec59f_row0_col5 {\n",
       "  background-color: #7e398c;\n",
       "  color: #f1f1f1;\n",
       "}\n",
       "#T_ec59f_row0_col6 {\n",
       "  background-color: #d7c0dd;\n",
       "  color: #000000;\n",
       "}\n",
       "#T_ec59f_row0_col7 {\n",
       "  background-color: #87c886;\n",
       "  color: #000000;\n",
       "}\n",
       "#T_ec59f_row0_col8 {\n",
       "  background-color: #b1e0ab;\n",
       "  color: #000000;\n",
       "}\n",
       "#T_ec59f_row0_col10 {\n",
       "  background-color: #13692f;\n",
       "  color: #f1f1f1;\n",
       "}\n",
       "#T_ec59f_row0_col11, #T_ec59f_row0_col12 {\n",
       "  background-color: #499f55;\n",
       "  color: #f1f1f1;\n",
       "}\n",
       "#T_ec59f_row1_col0 {\n",
       "  background-color: #8dcc8b;\n",
       "  color: #000000;\n",
       "}\n",
       "#T_ec59f_row1_col3, #T_ec59f_row3_col3 {\n",
       "  background-color: #571263;\n",
       "  color: #f1f1f1;\n",
       "}\n",
       "#T_ec59f_row1_col8 {\n",
       "  background-color: #480754;\n",
       "  color: #f1f1f1;\n",
       "}\n",
       "#T_ec59f_row1_col9 {\n",
       "  background-color: #054e20;\n",
       "  color: #f1f1f1;\n",
       "}\n",
       "#T_ec59f_row1_col12 {\n",
       "  background-color: #044c1f;\n",
       "  color: #f1f1f1;\n",
       "}\n",
       "#T_ec59f_row2_col0, #T_ec59f_row6_col6, #T_ec59f_row6_col10 {\n",
       "  background-color: #63b368;\n",
       "  color: #f1f1f1;\n",
       "}\n",
       "#T_ec59f_row2_col1 {\n",
       "  background-color: #8aca89;\n",
       "  color: #000000;\n",
       "}\n",
       "#T_ec59f_row2_col2, #T_ec59f_row7_col1 {\n",
       "  background-color: #d7efd1;\n",
       "  color: #000000;\n",
       "}\n",
       "#T_ec59f_row2_col7 {\n",
       "  background-color: #ede0ed;\n",
       "  color: #000000;\n",
       "}\n",
       "#T_ec59f_row2_col11 {\n",
       "  background-color: #782e85;\n",
       "  color: #f1f1f1;\n",
       "}\n",
       "#T_ec59f_row2_col12 {\n",
       "  background-color: #d4bcdb;\n",
       "  color: #000000;\n",
       "}\n",
       "#T_ec59f_row3_col0, #T_ec59f_row4_col9, #T_ec59f_row6_col9 {\n",
       "  background-color: #72bc75;\n",
       "  color: #000000;\n",
       "}\n",
       "#T_ec59f_row3_col1, #T_ec59f_row6_col3 {\n",
       "  background-color: #f4f6f3;\n",
       "  color: #000000;\n",
       "}\n",
       "#T_ec59f_row3_col2 {\n",
       "  background-color: #60b266;\n",
       "  color: #f1f1f1;\n",
       "}\n",
       "#T_ec59f_row3_col4 {\n",
       "  background-color: #8a529a;\n",
       "  color: #f1f1f1;\n",
       "}\n",
       "#T_ec59f_row3_col5, #T_ec59f_row7_col10 {\n",
       "  background-color: #b391c2;\n",
       "  color: #f1f1f1;\n",
       "}\n",
       "#T_ec59f_row3_col6, #T_ec59f_row7_col6 {\n",
       "  background-color: #d9f0d3;\n",
       "  color: #000000;\n",
       "}\n",
       "#T_ec59f_row3_col9, #T_ec59f_row5_col9, #T_ec59f_row7_col9 {\n",
       "  background-color: #b99ac7;\n",
       "  color: #f1f1f1;\n",
       "}\n",
       "#T_ec59f_row3_col10 {\n",
       "  background-color: #844793;\n",
       "  color: #f1f1f1;\n",
       "}\n",
       "#T_ec59f_row4_col0 {\n",
       "  background-color: #8f5da0;\n",
       "  color: #f1f1f1;\n",
       "}\n",
       "#T_ec59f_row4_col1 {\n",
       "  background-color: #f2edf3;\n",
       "  color: #000000;\n",
       "}\n",
       "#T_ec59f_row4_col2 {\n",
       "  background-color: #328c47;\n",
       "  color: #f1f1f1;\n",
       "}\n",
       "#T_ec59f_row4_col3 {\n",
       "  background-color: #217d3b;\n",
       "  color: #f1f1f1;\n",
       "}\n",
       "#T_ec59f_row4_col4 {\n",
       "  background-color: #66b56b;\n",
       "  color: #f1f1f1;\n",
       "}\n",
       "#T_ec59f_row4_col5 {\n",
       "  background-color: #96d192;\n",
       "  color: #000000;\n",
       "}\n",
       "#T_ec59f_row4_col6 {\n",
       "  background-color: #90ce8d;\n",
       "  color: #000000;\n",
       "}\n",
       "#T_ec59f_row4_col7 {\n",
       "  background-color: #c4a8d0;\n",
       "  color: #000000;\n",
       "}\n",
       "#T_ec59f_row4_col8 {\n",
       "  background-color: #e3cee5;\n",
       "  color: #000000;\n",
       "}\n",
       "#T_ec59f_row4_col10 {\n",
       "  background-color: #26823e;\n",
       "  color: #f1f1f1;\n",
       "}\n",
       "#T_ec59f_row4_col11 {\n",
       "  background-color: #0c5a27;\n",
       "  color: #f1f1f1;\n",
       "}\n",
       "#T_ec59f_row5_col2 {\n",
       "  background-color: #9fd79a;\n",
       "  color: #000000;\n",
       "}\n",
       "#T_ec59f_row5_col3 {\n",
       "  background-color: #f2ebf2;\n",
       "  color: #000000;\n",
       "}\n",
       "#T_ec59f_row5_col4 {\n",
       "  background-color: #ecdfed;\n",
       "  color: #000000;\n",
       "}\n",
       "#T_ec59f_row5_col5 {\n",
       "  background-color: #ede2ee;\n",
       "  color: #000000;\n",
       "}\n",
       "#T_ec59f_row5_col6 {\n",
       "  background-color: #def1d9;\n",
       "  color: #000000;\n",
       "}\n",
       "#T_ec59f_row5_col7 {\n",
       "  background-color: #a9dca3;\n",
       "  color: #000000;\n",
       "}\n",
       "#T_ec59f_row5_col8 {\n",
       "  background-color: #c9e9c3;\n",
       "  color: #000000;\n",
       "}\n",
       "#T_ec59f_row5_col10 {\n",
       "  background-color: #7c368a;\n",
       "  color: #f1f1f1;\n",
       "}\n",
       "#T_ec59f_row5_col11 {\n",
       "  background-color: #6f247b;\n",
       "  color: #f1f1f1;\n",
       "}\n",
       "#T_ec59f_row5_col12 {\n",
       "  background-color: #966ba8;\n",
       "  color: #f1f1f1;\n",
       "}\n",
       "#T_ec59f_row6_col0 {\n",
       "  background-color: #ecf4ea;\n",
       "  color: #000000;\n",
       "}\n",
       "#T_ec59f_row6_col1 {\n",
       "  background-color: #eef5ec;\n",
       "  color: #000000;\n",
       "}\n",
       "#T_ec59f_row6_col2 {\n",
       "  background-color: #cbeac5;\n",
       "  color: #000000;\n",
       "}\n",
       "#T_ec59f_row6_col4, #T_ec59f_row7_col7 {\n",
       "  background-color: #e8f4e5;\n",
       "  color: #000000;\n",
       "}\n",
       "#T_ec59f_row6_col5, #T_ec59f_row6_col7 {\n",
       "  background-color: #daf0d4;\n",
       "  color: #000000;\n",
       "}\n",
       "#T_ec59f_row6_col8, #T_ec59f_row7_col5 {\n",
       "  background-color: #dff1da;\n",
       "  color: #000000;\n",
       "}\n",
       "#T_ec59f_row6_col11 {\n",
       "  background-color: #a7dba1;\n",
       "  color: #000000;\n",
       "}\n",
       "#T_ec59f_row6_col12 {\n",
       "  background-color: #bfe5b9;\n",
       "  color: #000000;\n",
       "}\n",
       "#T_ec59f_row7_col0 {\n",
       "  background-color: #e0f2db;\n",
       "  color: #000000;\n",
       "}\n",
       "#T_ec59f_row7_col2 {\n",
       "  background-color: #f6f7f6;\n",
       "  color: #000000;\n",
       "}\n",
       "#T_ec59f_row7_col3 {\n",
       "  background-color: #cdebc7;\n",
       "  color: #000000;\n",
       "}\n",
       "#T_ec59f_row7_col4 {\n",
       "  background-color: #ddf1d7;\n",
       "  color: #000000;\n",
       "}\n",
       "#T_ec59f_row7_col8 {\n",
       "  background-color: #edf5eb;\n",
       "  color: #000000;\n",
       "}\n",
       "#T_ec59f_row7_col11 {\n",
       "  background-color: #b18fc0;\n",
       "  color: #f1f1f1;\n",
       "}\n",
       "#T_ec59f_row7_col12 {\n",
       "  background-color: #dbc5e0;\n",
       "  color: #000000;\n",
       "}\n",
       "</style>\n",
       "<table id=\"T_ec59f\">\n",
       "  <thead>\n",
       "    <tr>\n",
       "      <th class=\"index_name level0\" >correlacion XRP</th>\n",
       "      <th id=\"T_ec59f_level0_col0\" class=\"col_heading level0 col0\" >9</th>\n",
       "      <th id=\"T_ec59f_level0_col1\" class=\"col_heading level0 col1\" >12</th>\n",
       "      <th id=\"T_ec59f_level0_col2\" class=\"col_heading level0 col2\" >14</th>\n",
       "      <th id=\"T_ec59f_level0_col3\" class=\"col_heading level0 col3\" >18</th>\n",
       "      <th id=\"T_ec59f_level0_col4\" class=\"col_heading level0 col4\" >20</th>\n",
       "      <th id=\"T_ec59f_level0_col5\" class=\"col_heading level0 col5\" >22</th>\n",
       "      <th id=\"T_ec59f_level0_col6\" class=\"col_heading level0 col6\" >30</th>\n",
       "      <th id=\"T_ec59f_level0_col7\" class=\"col_heading level0 col7\" >40</th>\n",
       "      <th id=\"T_ec59f_level0_col8\" class=\"col_heading level0 col8\" >50</th>\n",
       "      <th id=\"T_ec59f_level0_col9\" class=\"col_heading level0 col9\" >60</th>\n",
       "      <th id=\"T_ec59f_level0_col10\" class=\"col_heading level0 col10\" >70</th>\n",
       "      <th id=\"T_ec59f_level0_col11\" class=\"col_heading level0 col11\" >80</th>\n",
       "      <th id=\"T_ec59f_level0_col12\" class=\"col_heading level0 col12\" >90</th>\n",
       "    </tr>\n",
       "  </thead>\n",
       "  <tbody>\n",
       "    <tr>\n",
       "      <th id=\"T_ec59f_level0_row0\" class=\"row_heading level0 row0\" >4h</th>\n",
       "      <td id=\"T_ec59f_row0_col0\" class=\"data row0 col0\" >0.76</td>\n",
       "      <td id=\"T_ec59f_row0_col1\" class=\"data row0 col1\" >0.63</td>\n",
       "      <td id=\"T_ec59f_row0_col2\" class=\"data row0 col2\" >-0.11</td>\n",
       "      <td id=\"T_ec59f_row0_col3\" class=\"data row0 col3\" >0.16</td>\n",
       "      <td id=\"T_ec59f_row0_col4\" class=\"data row0 col4\" >0.18</td>\n",
       "      <td id=\"T_ec59f_row0_col5\" class=\"data row0 col5\" >0.22</td>\n",
       "      <td id=\"T_ec59f_row0_col6\" class=\"data row0 col6\" >0.32</td>\n",
       "      <td id=\"T_ec59f_row0_col7\" class=\"data row0 col7\" >0.52</td>\n",
       "      <td id=\"T_ec59f_row0_col8\" class=\"data row0 col8\" >0.57</td>\n",
       "      <td id=\"T_ec59f_row0_col9\" class=\"data row0 col9\" >0.56</td>\n",
       "      <td id=\"T_ec59f_row0_col10\" class=\"data row0 col10\" >0.58</td>\n",
       "      <td id=\"T_ec59f_row0_col11\" class=\"data row0 col11\" >0.60</td>\n",
       "      <td id=\"T_ec59f_row0_col12\" class=\"data row0 col12\" >0.63</td>\n",
       "    </tr>\n",
       "    <tr>\n",
       "      <th id=\"T_ec59f_level0_row1\" class=\"row_heading level0 row1\" >2h</th>\n",
       "      <td id=\"T_ec59f_row1_col0\" class=\"data row1 col0\" >0.62</td>\n",
       "      <td id=\"T_ec59f_row1_col1\" class=\"data row1 col1\" >0.78</td>\n",
       "      <td id=\"T_ec59f_row1_col2\" class=\"data row1 col2\" >0.75</td>\n",
       "      <td id=\"T_ec59f_row1_col3\" class=\"data row1 col3\" >0.18</td>\n",
       "      <td id=\"T_ec59f_row1_col4\" class=\"data row1 col4\" >0.16</td>\n",
       "      <td id=\"T_ec59f_row1_col5\" class=\"data row1 col5\" >0.15</td>\n",
       "      <td id=\"T_ec59f_row1_col6\" class=\"data row1 col6\" >0.07</td>\n",
       "      <td id=\"T_ec59f_row1_col7\" class=\"data row1 col7\" >0.06</td>\n",
       "      <td id=\"T_ec59f_row1_col8\" class=\"data row1 col8\" >0.16</td>\n",
       "      <td id=\"T_ec59f_row1_col9\" class=\"data row1 col9\" >0.55</td>\n",
       "      <td id=\"T_ec59f_row1_col10\" class=\"data row1 col10\" >0.61</td>\n",
       "      <td id=\"T_ec59f_row1_col11\" class=\"data row1 col11\" >0.68</td>\n",
       "      <td id=\"T_ec59f_row1_col12\" class=\"data row1 col12\" >0.72</td>\n",
       "    </tr>\n",
       "    <tr>\n",
       "      <th id=\"T_ec59f_level0_row2\" class=\"row_heading level0 row2\" >1h</th>\n",
       "      <td id=\"T_ec59f_row2_col0\" class=\"data row2 col0\" >0.65</td>\n",
       "      <td id=\"T_ec59f_row2_col1\" class=\"data row2 col1\" >0.64</td>\n",
       "      <td id=\"T_ec59f_row2_col2\" class=\"data row2 col2\" >0.41</td>\n",
       "      <td id=\"T_ec59f_row2_col3\" class=\"data row2 col3\" >0.61</td>\n",
       "      <td id=\"T_ec59f_row2_col4\" class=\"data row2 col4\" >0.67</td>\n",
       "      <td id=\"T_ec59f_row2_col5\" class=\"data row2 col5\" >0.72</td>\n",
       "      <td id=\"T_ec59f_row2_col6\" class=\"data row2 col6\" >0.77</td>\n",
       "      <td id=\"T_ec59f_row2_col7\" class=\"data row2 col7\" >0.33</td>\n",
       "      <td id=\"T_ec59f_row2_col8\" class=\"data row2 col8\" >0.15</td>\n",
       "      <td id=\"T_ec59f_row2_col9\" class=\"data row2 col9\" >0.13</td>\n",
       "      <td id=\"T_ec59f_row2_col10\" class=\"data row2 col10\" >0.19</td>\n",
       "      <td id=\"T_ec59f_row2_col11\" class=\"data row2 col11\" >0.27</td>\n",
       "      <td id=\"T_ec59f_row2_col12\" class=\"data row2 col12\" >0.36</td>\n",
       "    </tr>\n",
       "    <tr>\n",
       "      <th id=\"T_ec59f_level0_row3\" class=\"row_heading level0 row3\" >30m</th>\n",
       "      <td id=\"T_ec59f_row3_col0\" class=\"data row3 col0\" >0.64</td>\n",
       "      <td id=\"T_ec59f_row3_col1\" class=\"data row3 col1\" >0.52</td>\n",
       "      <td id=\"T_ec59f_row3_col2\" class=\"data row3 col2\" >0.57</td>\n",
       "      <td id=\"T_ec59f_row3_col3\" class=\"data row3 col3\" >0.18</td>\n",
       "      <td id=\"T_ec59f_row3_col4\" class=\"data row3 col4\" >0.24</td>\n",
       "      <td id=\"T_ec59f_row3_col5\" class=\"data row3 col5\" >0.30</td>\n",
       "      <td id=\"T_ec59f_row3_col6\" class=\"data row3 col6\" >0.49</td>\n",
       "      <td id=\"T_ec59f_row3_col7\" class=\"data row3 col7\" >0.68</td>\n",
       "      <td id=\"T_ec59f_row3_col8\" class=\"data row3 col8\" >0.77</td>\n",
       "      <td id=\"T_ec59f_row3_col9\" class=\"data row3 col9\" >0.25</td>\n",
       "      <td id=\"T_ec59f_row3_col10\" class=\"data row3 col10\" >0.25</td>\n",
       "      <td id=\"T_ec59f_row3_col11\" class=\"data row3 col11\" >0.22</td>\n",
       "      <td id=\"T_ec59f_row3_col12\" class=\"data row3 col12\" >0.16</td>\n",
       "    </tr>\n",
       "    <tr>\n",
       "      <th id=\"T_ec59f_level0_row4\" class=\"row_heading level0 row4\" >15m</th>\n",
       "      <td id=\"T_ec59f_row4_col0\" class=\"data row4 col0\" >0.33</td>\n",
       "      <td id=\"T_ec59f_row4_col1\" class=\"data row4 col1\" >0.50</td>\n",
       "      <td id=\"T_ec59f_row4_col2\" class=\"data row4 col2\" >0.63</td>\n",
       "      <td id=\"T_ec59f_row4_col3\" class=\"data row4 col3\" >0.56</td>\n",
       "      <td id=\"T_ec59f_row4_col4\" class=\"data row4 col4\" >0.56</td>\n",
       "      <td id=\"T_ec59f_row4_col5\" class=\"data row4 col5\" >0.56</td>\n",
       "      <td id=\"T_ec59f_row4_col6\" class=\"data row4 col6\" >0.58</td>\n",
       "      <td id=\"T_ec59f_row4_col7\" class=\"data row4 col7\" >0.25</td>\n",
       "      <td id=\"T_ec59f_row4_col8\" class=\"data row4 col8\" >0.39</td>\n",
       "      <td id=\"T_ec59f_row4_col9\" class=\"data row4 col9\" >0.46</td>\n",
       "      <td id=\"T_ec59f_row4_col10\" class=\"data row4 col10\" >0.56</td>\n",
       "      <td id=\"T_ec59f_row4_col11\" class=\"data row4 col11\" >0.66</td>\n",
       "      <td id=\"T_ec59f_row4_col12\" class=\"data row4 col12\" >0.73</td>\n",
       "    </tr>\n",
       "    <tr>\n",
       "      <th id=\"T_ec59f_level0_row5\" class=\"row_heading level0 row5\" >5m</th>\n",
       "      <td id=\"T_ec59f_row5_col0\" class=\"data row5 col0\" >0.24</td>\n",
       "      <td id=\"T_ec59f_row5_col1\" class=\"data row5 col1\" >0.25</td>\n",
       "      <td id=\"T_ec59f_row5_col2\" class=\"data row5 col2\" >0.50</td>\n",
       "      <td id=\"T_ec59f_row5_col3\" class=\"data row5 col3\" >0.37</td>\n",
       "      <td id=\"T_ec59f_row5_col4\" class=\"data row5 col4\" >0.38</td>\n",
       "      <td id=\"T_ec59f_row5_col5\" class=\"data row5 col5\" >0.40</td>\n",
       "      <td id=\"T_ec59f_row5_col6\" class=\"data row5 col6\" >0.48</td>\n",
       "      <td id=\"T_ec59f_row5_col7\" class=\"data row5 col7\" >0.49</td>\n",
       "      <td id=\"T_ec59f_row5_col8\" class=\"data row5 col8\" >0.54</td>\n",
       "      <td id=\"T_ec59f_row5_col9\" class=\"data row5 col9\" >0.25</td>\n",
       "      <td id=\"T_ec59f_row5_col10\" class=\"data row5 col10\" >0.24</td>\n",
       "      <td id=\"T_ec59f_row5_col11\" class=\"data row5 col11\" >0.26</td>\n",
       "      <td id=\"T_ec59f_row5_col12\" class=\"data row5 col12\" >0.27</td>\n",
       "    </tr>\n",
       "    <tr>\n",
       "      <th id=\"T_ec59f_level0_row6\" class=\"row_heading level0 row6\" >3m</th>\n",
       "      <td id=\"T_ec59f_row6_col0\" class=\"data row6 col0\" >0.52</td>\n",
       "      <td id=\"T_ec59f_row6_col1\" class=\"data row6 col1\" >0.53</td>\n",
       "      <td id=\"T_ec59f_row6_col2\" class=\"data row6 col2\" >0.43</td>\n",
       "      <td id=\"T_ec59f_row6_col3\" class=\"data row6 col3\" >0.39</td>\n",
       "      <td id=\"T_ec59f_row6_col4\" class=\"data row6 col4\" >0.44</td>\n",
       "      <td id=\"T_ec59f_row6_col5\" class=\"data row6 col5\" >0.49</td>\n",
       "      <td id=\"T_ec59f_row6_col6\" class=\"data row6 col6\" >0.62</td>\n",
       "      <td id=\"T_ec59f_row6_col7\" class=\"data row6 col7\" >0.43</td>\n",
       "      <td id=\"T_ec59f_row6_col8\" class=\"data row6 col8\" >0.51</td>\n",
       "      <td id=\"T_ec59f_row6_col9\" class=\"data row6 col9\" >0.46</td>\n",
       "      <td id=\"T_ec59f_row6_col10\" class=\"data row6 col10\" >0.52</td>\n",
       "      <td id=\"T_ec59f_row6_col11\" class=\"data row6 col11\" >0.54</td>\n",
       "      <td id=\"T_ec59f_row6_col12\" class=\"data row6 col12\" >0.53</td>\n",
       "    </tr>\n",
       "    <tr>\n",
       "      <th id=\"T_ec59f_level0_row7\" class=\"row_heading level0 row7\" >1m</th>\n",
       "      <td id=\"T_ec59f_row7_col0\" class=\"data row7 col0\" >0.54</td>\n",
       "      <td id=\"T_ec59f_row7_col1\" class=\"data row7 col1\" >0.57</td>\n",
       "      <td id=\"T_ec59f_row7_col2\" class=\"data row7 col2\" >0.32</td>\n",
       "      <td id=\"T_ec59f_row7_col3\" class=\"data row7 col3\" >0.44</td>\n",
       "      <td id=\"T_ec59f_row7_col4\" class=\"data row7 col4\" >0.46</td>\n",
       "      <td id=\"T_ec59f_row7_col5\" class=\"data row7 col5\" >0.48</td>\n",
       "      <td id=\"T_ec59f_row7_col6\" class=\"data row7 col6\" >0.49</td>\n",
       "      <td id=\"T_ec59f_row7_col7\" class=\"data row7 col7\" >0.40</td>\n",
       "      <td id=\"T_ec59f_row7_col8\" class=\"data row7 col8\" >0.48</td>\n",
       "      <td id=\"T_ec59f_row7_col9\" class=\"data row7 col9\" >0.25</td>\n",
       "      <td id=\"T_ec59f_row7_col10\" class=\"data row7 col10\" >0.30</td>\n",
       "      <td id=\"T_ec59f_row7_col11\" class=\"data row7 col11\" >0.34</td>\n",
       "      <td id=\"T_ec59f_row7_col12\" class=\"data row7 col12\" >0.37</td>\n",
       "    </tr>\n",
       "  </tbody>\n",
       "</table>\n"
      ],
      "text/plain": [
       "<pandas.io.formats.style.Styler at 0x1ff8f06da50>"
      ]
     },
     "execution_count": 15,
     "metadata": {},
     "output_type": "execute_result"
    }
   ],
   "source": [
    "# AUXILIAR PARA VER LA FLUCTUACION DE LAS MEDICIONES\n",
    "# TODO: Manualmente leer dos archivos y ejecutarlos en celdas diferentes\n",
    "if __name__ == '__main__':\n",
    "    asset = 'btc'\n",
    "\n",
    "    df = get_correlation(data['SQ_CORR'], asset)\n",
    "    display(df)"
   ]
  },
  {
   "attachments": {},
   "cell_type": "markdown",
   "metadata": {},
   "source": [
    "# 3) Crear un registro de las notas de las lecturas"
   ]
  },
  {
   "cell_type": "code",
   "execution_count": null,
   "metadata": {},
   "outputs": [],
   "source": [
    "# Revisar tradegestor DEMO\n",
    "\n",
    "# 1) La temporalidad mas correlacionada\n",
    "\n",
    "# 2) Las temporalidades y los len que se van a analizar\n",
    "\n",
    "# 3) La temporalidad y los len que se van a visualizar\n",
    "\n",
    "# 4) Si se va a tomar una decisión dentro del mercado al respecto\n",
    "\n",
    "# 5) Comentarios que se quieran hacer respecto al DI y al ADX"
   ]
  },
  {
   "attachments": {},
   "cell_type": "markdown",
   "metadata": {},
   "source": [
    "# 4) Visualización de la data"
   ]
  },
  {
   "cell_type": "code",
   "execution_count": 55,
   "metadata": {},
   "outputs": [],
   "source": [
    "# Una forma auxiliar de imprimir dataframes\n",
    "# La previsualización de los datos asociados a los axis tienen que ser visualizados de esta manera\n",
    "\n",
    "import plotly.graph_objects as go\n",
    "from rich import print\n",
    "from datetime import datetime\n",
    "\n",
    "#print(f'Correlación {asset} con Squeeze Momentum Indicator')\n",
    "#print(df.loc[:,70:])\n",
    "#print(df.loc[:,30:60])\n",
    "#print(df.loc[:,9:22])\n"
   ]
  },
  {
   "cell_type": "code",
   "execution_count": 93,
   "metadata": {},
   "outputs": [],
   "source": [
    "def candlestick_squeeze_plot(data, asset, temp, period, period_window):\n",
    "    features = ['open', 'close', 'high', 'low', 'value']\n",
    "    df = data.loc[period_window:,features]\n",
    "\n",
    "    dist_tick = len(df)//7\n",
    "\n",
    "    candlestick = go.Candlestick(x=df.index,\n",
    "                    open=df['open'],\n",
    "                    high=df['high'],\n",
    "                    low=df['low'],\n",
    "                    close=df['close'])\n",
    "\n",
    "    bar = go.Bar(x=df.index, y=df['value'], name='squeeze')\n",
    "\n",
    "    fig = go.Figure(data=[candlestick])\n",
    "    fig2 = go.Figure(data=[bar])\n",
    "    fig.layout.xaxis.type = 'category'\n",
    "    fig.layout.xaxis.rangeslider.visible = False\n",
    "    fig.update_layout(\n",
    "        xaxis = dict(\n",
    "            tickmode = 'array',\n",
    "            tickvals = df.index[dist_tick//2::dist_tick],#TODO:considerar este slide para balancear los ticks del eje x\n",
    "            ticktext = df.index[:-dist_tick//2:dist_tick],#TODO:considerar este slide para balancear los ticks del eje x\n",
    "        ),\n",
    "        autosize=False,\n",
    "        width=1200,\n",
    "        height=600,\n",
    "        margin=dict(\n",
    "            \n",
    "            l=50,\n",
    "            r=50,\n",
    "            b=50,\n",
    "            t=50,\n",
    "            pad=4\n",
    "        ),\n",
    "        paper_bgcolor=\"LightSteelBlue\",\n",
    "        title=f'{asset} {temp} | len squeeze: {period}'\n",
    "    )\n",
    "\n",
    "    fig2.update_layout(\n",
    "        autosize=False,\n",
    "        width=1200,\n",
    "        height=300,\n",
    "        margin=dict(\n",
    "            \n",
    "            l=50,\n",
    "            r=50,\n",
    "            b=1,\n",
    "            t=10,\n",
    "            pad=4\n",
    "        ),\n",
    "        paper_bgcolor=\"LightSteelBlue\",\n",
    "    )\n",
    "\n",
    "    fig.show()\n",
    "    fig2.show() \n"
   ]
  },
  {
   "cell_type": "code",
   "execution_count": 96,
   "metadata": {},
   "outputs": [
    {
     "data": {
      "application/vnd.plotly.v1+json": {
       "config": {
        "plotlyServerURL": "https://plotly.com"
       },
       "data": [
        {
         "close": [
          25617.1,
          25644.5,
          25696.7,
          25714.4,
          25677.2,
          25624.4,
          25751,
          25716.5,
          25782.6,
          25757.6,
          25757.6,
          25711.8,
          25697.5,
          25740.7,
          25734.3,
          25676,
          25524.9,
          25727.8,
          26014,
          26056.8,
          26359.5,
          26658.9,
          26688.5,
          27075.4,
          26936.7,
          27052.4,
          27150,
          27223.9,
          27186.8,
          27082.6,
          26937.4,
          26906.2,
          26928.9,
          26906.4,
          26824.5,
          26794.2,
          26813.2,
          26486.5,
          26590.3,
          26885.4,
          26795.5,
          26809.6,
          26435,
          26337.7,
          26321.2,
          26498.2,
          26461.3,
          26473.6,
          26350,
          26140.6,
          26262.5,
          26330.1,
          26379.4,
          26434.4,
          26376.6,
          26334,
          26391.7,
          26369.1,
          26418,
          26435.6,
          26435,
          26376.4,
          26476.9,
          26424.5,
          26459,
          26391.4,
          26636.2,
          26714.4,
          26488.8,
          26475.4,
          26540.6
         ],
         "high": [
          25662.7,
          25665.8,
          25758.5,
          25844.1,
          25741.2,
          25682.2,
          25779,
          25751,
          25790.8,
          25802.7,
          25797.1,
          25798,
          25735.8,
          25778.5,
          25785.8,
          25739.3,
          25717.8,
          25769.7,
          26081.3,
          26119.3,
          26387.5,
          26766.6,
          26768.9,
          27199.1,
          27201.8,
          27086.9,
          27182.3,
          27349.5,
          27378.6,
          27215.3,
          27088.7,
          26963.7,
          26958.1,
          26973.5,
          26935.5,
          26894.1,
          26837.5,
          26813.3,
          26623.5,
          26960.4,
          26899.8,
          26854.5,
          26809.7,
          26669,
          26428.7,
          26543.3,
          26521.2,
          26519.2,
          26484.4,
          26447.3,
          26363.3,
          26354.7,
          26423.1,
          26455.8,
          26436.1,
          26376.9,
          26415.4,
          26425.4,
          26485,
          26509.3,
          26455,
          26435.3,
          26486.2,
          26490.6,
          26563.4,
          26473.3,
          26676.6,
          26801.9,
          26722.2,
          26504.5,
          26561.5
         ],
         "low": [
          25575.2,
          25493.9,
          25635.1,
          25687.8,
          25661.4,
          25603.4,
          25588.6,
          25703,
          25712.6,
          25745.7,
          25740,
          25698.6,
          25663.8,
          25682.4,
          25734.2,
          25630.6,
          25343,
          25382.8,
          25724.8,
          25915.3,
          26055.5,
          26281.4,
          26629.8,
          26680.8,
          26891.3,
          26936.7,
          27041,
          27117.8,
          27161.4,
          27062.1,
          26911.6,
          26722.2,
          26870.3,
          26868.7,
          26812,
          26756,
          26760.6,
          26429.2,
          26350.7,
          26575.9,
          26744,
          26666.4,
          26337.8,
          26242.7,
          26238,
          26267.3,
          26432.7,
          26433.2,
          26309.1,
          26120,
          26125.9,
          26246.6,
          26298.7,
          26373.2,
          26356.6,
          26202.3,
          26315.3,
          26340.9,
          26281.5,
          26408.2,
          26395.7,
          26362.5,
          26360.2,
          26402.4,
          26363.6,
          26294.2,
          26341.8,
          26573,
          26409,
          26428.5,
          26433.2
         ],
         "open": [
          25615,
          25617.1,
          25644.5,
          25696.7,
          25714.4,
          25677.2,
          25624.4,
          25751,
          25716.5,
          25782.6,
          25757.6,
          25757.6,
          25711.8,
          25697.5,
          25740.7,
          25734.3,
          25676,
          25524.9,
          25727.8,
          26014,
          26056.8,
          26359.5,
          26658.9,
          26688.5,
          27075.4,
          26936.7,
          27052.4,
          27150,
          27223.9,
          27186.8,
          27082.6,
          26937.4,
          26904.3,
          26928.9,
          26906.4,
          26824.5,
          26794.2,
          26813.2,
          26486.5,
          26590.3,
          26885.4,
          26795.5,
          26809.6,
          26435,
          26337.7,
          26321.2,
          26498.2,
          26461.3,
          26473.6,
          26350,
          26140.6,
          26262.5,
          26330.1,
          26379.5,
          26434.6,
          26376.6,
          26334,
          26391.7,
          26369.1,
          26418,
          26435.6,
          26435,
          26376.4,
          26476.9,
          26424.5,
          26459,
          26391.4,
          26636.2,
          26714.4,
          26488.8,
          26475.4
         ],
         "type": "candlestick",
         "x": [
          "2023-06-05 17:00:00",
          "2023-06-05 18:00:00",
          "2023-06-05 19:00:00",
          "2023-06-05 20:00:00",
          "2023-06-05 21:00:00",
          "2023-06-05 22:00:00",
          "2023-06-05 23:00:00",
          "2023-06-06 00:00:00",
          "2023-06-06 01:00:00",
          "2023-06-06 02:00:00",
          "2023-06-06 03:00:00",
          "2023-06-06 04:00:00",
          "2023-06-06 05:00:00",
          "2023-06-06 06:00:00",
          "2023-06-06 07:00:00",
          "2023-06-06 08:00:00",
          "2023-06-06 09:00:00",
          "2023-06-06 10:00:00",
          "2023-06-06 11:00:00",
          "2023-06-06 12:00:00",
          "2023-06-06 13:00:00",
          "2023-06-06 14:00:00",
          "2023-06-06 15:00:00",
          "2023-06-06 16:00:00",
          "2023-06-06 17:00:00",
          "2023-06-06 18:00:00",
          "2023-06-06 19:00:00",
          "2023-06-06 20:00:00",
          "2023-06-06 21:00:00",
          "2023-06-06 22:00:00",
          "2023-06-06 23:00:00",
          "2023-06-07 00:00:00",
          "2023-06-07 01:00:00",
          "2023-06-07 02:00:00",
          "2023-06-07 03:00:00",
          "2023-06-07 04:00:00",
          "2023-06-07 05:00:00",
          "2023-06-07 06:00:00",
          "2023-06-07 07:00:00",
          "2023-06-07 08:00:00",
          "2023-06-07 09:00:00",
          "2023-06-07 10:00:00",
          "2023-06-07 11:00:00",
          "2023-06-07 12:00:00",
          "2023-06-07 13:00:00",
          "2023-06-07 14:00:00",
          "2023-06-07 15:00:00",
          "2023-06-07 16:00:00",
          "2023-06-07 17:00:00",
          "2023-06-07 18:00:00",
          "2023-06-07 19:00:00",
          "2023-06-07 20:00:00",
          "2023-06-07 21:00:00",
          "2023-06-07 22:00:00",
          "2023-06-07 23:00:00",
          "2023-06-08 00:00:00",
          "2023-06-08 01:00:00",
          "2023-06-08 02:00:00",
          "2023-06-08 03:00:00",
          "2023-06-08 04:00:00",
          "2023-06-08 05:00:00",
          "2023-06-08 06:00:00",
          "2023-06-08 07:00:00",
          "2023-06-08 08:00:00",
          "2023-06-08 09:00:00",
          "2023-06-08 10:00:00",
          "2023-06-08 11:00:00",
          "2023-06-08 12:00:00",
          "2023-06-08 13:00:00",
          "2023-06-08 14:00:00",
          "2023-06-08 15:00:00"
         ]
        }
       ],
       "layout": {
        "autosize": false,
        "height": 600,
        "margin": {
         "b": 50,
         "l": 50,
         "pad": 4,
         "r": 50,
         "t": 50
        },
        "paper_bgcolor": "LightSteelBlue",
        "template": {
         "data": {
          "bar": [
           {
            "error_x": {
             "color": "#2a3f5f"
            },
            "error_y": {
             "color": "#2a3f5f"
            },
            "marker": {
             "line": {
              "color": "#E5ECF6",
              "width": 0.5
             },
             "pattern": {
              "fillmode": "overlay",
              "size": 10,
              "solidity": 0.2
             }
            },
            "type": "bar"
           }
          ],
          "barpolar": [
           {
            "marker": {
             "line": {
              "color": "#E5ECF6",
              "width": 0.5
             },
             "pattern": {
              "fillmode": "overlay",
              "size": 10,
              "solidity": 0.2
             }
            },
            "type": "barpolar"
           }
          ],
          "carpet": [
           {
            "aaxis": {
             "endlinecolor": "#2a3f5f",
             "gridcolor": "white",
             "linecolor": "white",
             "minorgridcolor": "white",
             "startlinecolor": "#2a3f5f"
            },
            "baxis": {
             "endlinecolor": "#2a3f5f",
             "gridcolor": "white",
             "linecolor": "white",
             "minorgridcolor": "white",
             "startlinecolor": "#2a3f5f"
            },
            "type": "carpet"
           }
          ],
          "choropleth": [
           {
            "colorbar": {
             "outlinewidth": 0,
             "ticks": ""
            },
            "type": "choropleth"
           }
          ],
          "contour": [
           {
            "colorbar": {
             "outlinewidth": 0,
             "ticks": ""
            },
            "colorscale": [
             [
              0,
              "#0d0887"
             ],
             [
              0.1111111111111111,
              "#46039f"
             ],
             [
              0.2222222222222222,
              "#7201a8"
             ],
             [
              0.3333333333333333,
              "#9c179e"
             ],
             [
              0.4444444444444444,
              "#bd3786"
             ],
             [
              0.5555555555555556,
              "#d8576b"
             ],
             [
              0.6666666666666666,
              "#ed7953"
             ],
             [
              0.7777777777777778,
              "#fb9f3a"
             ],
             [
              0.8888888888888888,
              "#fdca26"
             ],
             [
              1,
              "#f0f921"
             ]
            ],
            "type": "contour"
           }
          ],
          "contourcarpet": [
           {
            "colorbar": {
             "outlinewidth": 0,
             "ticks": ""
            },
            "type": "contourcarpet"
           }
          ],
          "heatmap": [
           {
            "colorbar": {
             "outlinewidth": 0,
             "ticks": ""
            },
            "colorscale": [
             [
              0,
              "#0d0887"
             ],
             [
              0.1111111111111111,
              "#46039f"
             ],
             [
              0.2222222222222222,
              "#7201a8"
             ],
             [
              0.3333333333333333,
              "#9c179e"
             ],
             [
              0.4444444444444444,
              "#bd3786"
             ],
             [
              0.5555555555555556,
              "#d8576b"
             ],
             [
              0.6666666666666666,
              "#ed7953"
             ],
             [
              0.7777777777777778,
              "#fb9f3a"
             ],
             [
              0.8888888888888888,
              "#fdca26"
             ],
             [
              1,
              "#f0f921"
             ]
            ],
            "type": "heatmap"
           }
          ],
          "heatmapgl": [
           {
            "colorbar": {
             "outlinewidth": 0,
             "ticks": ""
            },
            "colorscale": [
             [
              0,
              "#0d0887"
             ],
             [
              0.1111111111111111,
              "#46039f"
             ],
             [
              0.2222222222222222,
              "#7201a8"
             ],
             [
              0.3333333333333333,
              "#9c179e"
             ],
             [
              0.4444444444444444,
              "#bd3786"
             ],
             [
              0.5555555555555556,
              "#d8576b"
             ],
             [
              0.6666666666666666,
              "#ed7953"
             ],
             [
              0.7777777777777778,
              "#fb9f3a"
             ],
             [
              0.8888888888888888,
              "#fdca26"
             ],
             [
              1,
              "#f0f921"
             ]
            ],
            "type": "heatmapgl"
           }
          ],
          "histogram": [
           {
            "marker": {
             "pattern": {
              "fillmode": "overlay",
              "size": 10,
              "solidity": 0.2
             }
            },
            "type": "histogram"
           }
          ],
          "histogram2d": [
           {
            "colorbar": {
             "outlinewidth": 0,
             "ticks": ""
            },
            "colorscale": [
             [
              0,
              "#0d0887"
             ],
             [
              0.1111111111111111,
              "#46039f"
             ],
             [
              0.2222222222222222,
              "#7201a8"
             ],
             [
              0.3333333333333333,
              "#9c179e"
             ],
             [
              0.4444444444444444,
              "#bd3786"
             ],
             [
              0.5555555555555556,
              "#d8576b"
             ],
             [
              0.6666666666666666,
              "#ed7953"
             ],
             [
              0.7777777777777778,
              "#fb9f3a"
             ],
             [
              0.8888888888888888,
              "#fdca26"
             ],
             [
              1,
              "#f0f921"
             ]
            ],
            "type": "histogram2d"
           }
          ],
          "histogram2dcontour": [
           {
            "colorbar": {
             "outlinewidth": 0,
             "ticks": ""
            },
            "colorscale": [
             [
              0,
              "#0d0887"
             ],
             [
              0.1111111111111111,
              "#46039f"
             ],
             [
              0.2222222222222222,
              "#7201a8"
             ],
             [
              0.3333333333333333,
              "#9c179e"
             ],
             [
              0.4444444444444444,
              "#bd3786"
             ],
             [
              0.5555555555555556,
              "#d8576b"
             ],
             [
              0.6666666666666666,
              "#ed7953"
             ],
             [
              0.7777777777777778,
              "#fb9f3a"
             ],
             [
              0.8888888888888888,
              "#fdca26"
             ],
             [
              1,
              "#f0f921"
             ]
            ],
            "type": "histogram2dcontour"
           }
          ],
          "mesh3d": [
           {
            "colorbar": {
             "outlinewidth": 0,
             "ticks": ""
            },
            "type": "mesh3d"
           }
          ],
          "parcoords": [
           {
            "line": {
             "colorbar": {
              "outlinewidth": 0,
              "ticks": ""
             }
            },
            "type": "parcoords"
           }
          ],
          "pie": [
           {
            "automargin": true,
            "type": "pie"
           }
          ],
          "scatter": [
           {
            "fillpattern": {
             "fillmode": "overlay",
             "size": 10,
             "solidity": 0.2
            },
            "type": "scatter"
           }
          ],
          "scatter3d": [
           {
            "line": {
             "colorbar": {
              "outlinewidth": 0,
              "ticks": ""
             }
            },
            "marker": {
             "colorbar": {
              "outlinewidth": 0,
              "ticks": ""
             }
            },
            "type": "scatter3d"
           }
          ],
          "scattercarpet": [
           {
            "marker": {
             "colorbar": {
              "outlinewidth": 0,
              "ticks": ""
             }
            },
            "type": "scattercarpet"
           }
          ],
          "scattergeo": [
           {
            "marker": {
             "colorbar": {
              "outlinewidth": 0,
              "ticks": ""
             }
            },
            "type": "scattergeo"
           }
          ],
          "scattergl": [
           {
            "marker": {
             "colorbar": {
              "outlinewidth": 0,
              "ticks": ""
             }
            },
            "type": "scattergl"
           }
          ],
          "scattermapbox": [
           {
            "marker": {
             "colorbar": {
              "outlinewidth": 0,
              "ticks": ""
             }
            },
            "type": "scattermapbox"
           }
          ],
          "scatterpolar": [
           {
            "marker": {
             "colorbar": {
              "outlinewidth": 0,
              "ticks": ""
             }
            },
            "type": "scatterpolar"
           }
          ],
          "scatterpolargl": [
           {
            "marker": {
             "colorbar": {
              "outlinewidth": 0,
              "ticks": ""
             }
            },
            "type": "scatterpolargl"
           }
          ],
          "scatterternary": [
           {
            "marker": {
             "colorbar": {
              "outlinewidth": 0,
              "ticks": ""
             }
            },
            "type": "scatterternary"
           }
          ],
          "surface": [
           {
            "colorbar": {
             "outlinewidth": 0,
             "ticks": ""
            },
            "colorscale": [
             [
              0,
              "#0d0887"
             ],
             [
              0.1111111111111111,
              "#46039f"
             ],
             [
              0.2222222222222222,
              "#7201a8"
             ],
             [
              0.3333333333333333,
              "#9c179e"
             ],
             [
              0.4444444444444444,
              "#bd3786"
             ],
             [
              0.5555555555555556,
              "#d8576b"
             ],
             [
              0.6666666666666666,
              "#ed7953"
             ],
             [
              0.7777777777777778,
              "#fb9f3a"
             ],
             [
              0.8888888888888888,
              "#fdca26"
             ],
             [
              1,
              "#f0f921"
             ]
            ],
            "type": "surface"
           }
          ],
          "table": [
           {
            "cells": {
             "fill": {
              "color": "#EBF0F8"
             },
             "line": {
              "color": "white"
             }
            },
            "header": {
             "fill": {
              "color": "#C8D4E3"
             },
             "line": {
              "color": "white"
             }
            },
            "type": "table"
           }
          ]
         },
         "layout": {
          "annotationdefaults": {
           "arrowcolor": "#2a3f5f",
           "arrowhead": 0,
           "arrowwidth": 1
          },
          "autotypenumbers": "strict",
          "coloraxis": {
           "colorbar": {
            "outlinewidth": 0,
            "ticks": ""
           }
          },
          "colorscale": {
           "diverging": [
            [
             0,
             "#8e0152"
            ],
            [
             0.1,
             "#c51b7d"
            ],
            [
             0.2,
             "#de77ae"
            ],
            [
             0.3,
             "#f1b6da"
            ],
            [
             0.4,
             "#fde0ef"
            ],
            [
             0.5,
             "#f7f7f7"
            ],
            [
             0.6,
             "#e6f5d0"
            ],
            [
             0.7,
             "#b8e186"
            ],
            [
             0.8,
             "#7fbc41"
            ],
            [
             0.9,
             "#4d9221"
            ],
            [
             1,
             "#276419"
            ]
           ],
           "sequential": [
            [
             0,
             "#0d0887"
            ],
            [
             0.1111111111111111,
             "#46039f"
            ],
            [
             0.2222222222222222,
             "#7201a8"
            ],
            [
             0.3333333333333333,
             "#9c179e"
            ],
            [
             0.4444444444444444,
             "#bd3786"
            ],
            [
             0.5555555555555556,
             "#d8576b"
            ],
            [
             0.6666666666666666,
             "#ed7953"
            ],
            [
             0.7777777777777778,
             "#fb9f3a"
            ],
            [
             0.8888888888888888,
             "#fdca26"
            ],
            [
             1,
             "#f0f921"
            ]
           ],
           "sequentialminus": [
            [
             0,
             "#0d0887"
            ],
            [
             0.1111111111111111,
             "#46039f"
            ],
            [
             0.2222222222222222,
             "#7201a8"
            ],
            [
             0.3333333333333333,
             "#9c179e"
            ],
            [
             0.4444444444444444,
             "#bd3786"
            ],
            [
             0.5555555555555556,
             "#d8576b"
            ],
            [
             0.6666666666666666,
             "#ed7953"
            ],
            [
             0.7777777777777778,
             "#fb9f3a"
            ],
            [
             0.8888888888888888,
             "#fdca26"
            ],
            [
             1,
             "#f0f921"
            ]
           ]
          },
          "colorway": [
           "#636efa",
           "#EF553B",
           "#00cc96",
           "#ab63fa",
           "#FFA15A",
           "#19d3f3",
           "#FF6692",
           "#B6E880",
           "#FF97FF",
           "#FECB52"
          ],
          "font": {
           "color": "#2a3f5f"
          },
          "geo": {
           "bgcolor": "white",
           "lakecolor": "white",
           "landcolor": "#E5ECF6",
           "showlakes": true,
           "showland": true,
           "subunitcolor": "white"
          },
          "hoverlabel": {
           "align": "left"
          },
          "hovermode": "closest",
          "mapbox": {
           "style": "light"
          },
          "paper_bgcolor": "white",
          "plot_bgcolor": "#E5ECF6",
          "polar": {
           "angularaxis": {
            "gridcolor": "white",
            "linecolor": "white",
            "ticks": ""
           },
           "bgcolor": "#E5ECF6",
           "radialaxis": {
            "gridcolor": "white",
            "linecolor": "white",
            "ticks": ""
           }
          },
          "scene": {
           "xaxis": {
            "backgroundcolor": "#E5ECF6",
            "gridcolor": "white",
            "gridwidth": 2,
            "linecolor": "white",
            "showbackground": true,
            "ticks": "",
            "zerolinecolor": "white"
           },
           "yaxis": {
            "backgroundcolor": "#E5ECF6",
            "gridcolor": "white",
            "gridwidth": 2,
            "linecolor": "white",
            "showbackground": true,
            "ticks": "",
            "zerolinecolor": "white"
           },
           "zaxis": {
            "backgroundcolor": "#E5ECF6",
            "gridcolor": "white",
            "gridwidth": 2,
            "linecolor": "white",
            "showbackground": true,
            "ticks": "",
            "zerolinecolor": "white"
           }
          },
          "shapedefaults": {
           "line": {
            "color": "#2a3f5f"
           }
          },
          "ternary": {
           "aaxis": {
            "gridcolor": "white",
            "linecolor": "white",
            "ticks": ""
           },
           "baxis": {
            "gridcolor": "white",
            "linecolor": "white",
            "ticks": ""
           },
           "bgcolor": "#E5ECF6",
           "caxis": {
            "gridcolor": "white",
            "linecolor": "white",
            "ticks": ""
           }
          },
          "title": {
           "x": 0.05
          },
          "xaxis": {
           "automargin": true,
           "gridcolor": "white",
           "linecolor": "white",
           "ticks": "",
           "title": {
            "standoff": 15
           },
           "zerolinecolor": "white",
           "zerolinewidth": 2
          },
          "yaxis": {
           "automargin": true,
           "gridcolor": "white",
           "linecolor": "white",
           "ticks": "",
           "title": {
            "standoff": 15
           },
           "zerolinecolor": "white",
           "zerolinewidth": 2
          }
         }
        },
        "title": {
         "text": "BTC 1h | len squeeze: 14"
        },
        "width": 1200,
        "xaxis": {
         "rangeslider": {
          "visible": false
         },
         "tickmode": "array",
         "ticktext": [
          "2023-06-05 17:00:00",
          "2023-06-06 03:00:00",
          "2023-06-06 13:00:00",
          "2023-06-06 23:00:00",
          "2023-06-07 09:00:00",
          "2023-06-07 19:00:00",
          "2023-06-08 05:00:00"
         ],
         "tickvals": [
          "2023-06-05 22:00:00",
          "2023-06-06 08:00:00",
          "2023-06-06 18:00:00",
          "2023-06-07 04:00:00",
          "2023-06-07 14:00:00",
          "2023-06-08 00:00:00",
          "2023-06-08 10:00:00"
         ],
         "type": "category"
        }
       }
      }
     },
     "metadata": {},
     "output_type": "display_data"
    },
    {
     "data": {
      "application/vnd.plotly.v1+json": {
       "config": {
        "plotlyServerURL": "https://plotly.com"
       },
       "data": [
        {
         "name": "squeeze",
         "type": "bar",
         "x": [
          "2023-06-05 17:00:00",
          "2023-06-05 18:00:00",
          "2023-06-05 19:00:00",
          "2023-06-05 20:00:00",
          "2023-06-05 21:00:00",
          "2023-06-05 22:00:00",
          "2023-06-05 23:00:00",
          "2023-06-06 00:00:00",
          "2023-06-06 01:00:00",
          "2023-06-06 02:00:00",
          "2023-06-06 03:00:00",
          "2023-06-06 04:00:00",
          "2023-06-06 05:00:00",
          "2023-06-06 06:00:00",
          "2023-06-06 07:00:00",
          "2023-06-06 08:00:00",
          "2023-06-06 09:00:00",
          "2023-06-06 10:00:00",
          "2023-06-06 11:00:00",
          "2023-06-06 12:00:00",
          "2023-06-06 13:00:00",
          "2023-06-06 14:00:00",
          "2023-06-06 15:00:00",
          "2023-06-06 16:00:00",
          "2023-06-06 17:00:00",
          "2023-06-06 18:00:00",
          "2023-06-06 19:00:00",
          "2023-06-06 20:00:00",
          "2023-06-06 21:00:00",
          "2023-06-06 22:00:00",
          "2023-06-06 23:00:00",
          "2023-06-07 00:00:00",
          "2023-06-07 01:00:00",
          "2023-06-07 02:00:00",
          "2023-06-07 03:00:00",
          "2023-06-07 04:00:00",
          "2023-06-07 05:00:00",
          "2023-06-07 06:00:00",
          "2023-06-07 07:00:00",
          "2023-06-07 08:00:00",
          "2023-06-07 09:00:00",
          "2023-06-07 10:00:00",
          "2023-06-07 11:00:00",
          "2023-06-07 12:00:00",
          "2023-06-07 13:00:00",
          "2023-06-07 14:00:00",
          "2023-06-07 15:00:00",
          "2023-06-07 16:00:00",
          "2023-06-07 17:00:00",
          "2023-06-07 18:00:00",
          "2023-06-07 19:00:00",
          "2023-06-07 20:00:00",
          "2023-06-07 21:00:00",
          "2023-06-07 22:00:00",
          "2023-06-07 23:00:00",
          "2023-06-08 00:00:00",
          "2023-06-08 01:00:00",
          "2023-06-08 02:00:00",
          "2023-06-08 03:00:00",
          "2023-06-08 04:00:00",
          "2023-06-08 05:00:00",
          "2023-06-08 06:00:00",
          "2023-06-08 07:00:00",
          "2023-06-08 08:00:00",
          "2023-06-08 09:00:00",
          "2023-06-08 10:00:00",
          "2023-06-08 11:00:00",
          "2023-06-08 12:00:00",
          "2023-06-08 13:00:00",
          "2023-06-08 14:00:00",
          "2023-06-08 15:00:00"
         ],
         "y": [
          -663.2856122448968,
          -673.3599999999993,
          -653.0373469387744,
          -613.0011224489788,
          -575.4587755102026,
          -527.104591836733,
          -436.3806122448962,
          -331.08581632652925,
          -183.43285714285537,
          -76.70153061224357,
          27.427142857143394,
          99.72479591836748,
          127.42581632653014,
          152.87714285714253,
          162.08908163265193,
          141.7478571428568,
          99.83163265306098,
          112.34683673469334,
          164.34704081632586,
          200.30459183673372,
          294.3381632653058,
          411.2074489795923,
          515.882142857144,
          680.9667346938795,
          782.4191836734713,
          876.746122448982,
          958.634897959186,
          1014.6457142857168,
          1021.8855102040843,
          957.4806122449,
          810.2472448979611,
          638.0427551020425,
          476.32367346939,
          298.12326530612404,
          117.22010204081698,
          -53.560102040815536,
          -198.84663265306108,
          -348.0146938775515,
          -449.2564285714302,
          -433.524285714287,
          -407.9170408163278,
          -350.44673469387993,
          -359.3856122449003,
          -362.9514285714315,
          -359.3780612244923,
          -308.7289795918389,
          -261.0147959183691,
          -208.45765306122655,
          -199.44448979592067,
          -243.50989795918582,
          -245.29408163265504,
          -261.31224489796205,
          -250.71622448979824,
          -180.0737755102055,
          -127.57500000000076,
          -74.96693877551127,
          -40.539591836735326,
          -16.762653061225194,
          12.662346938775329,
          64.58530612244937,
          107.1965306122467,
          133.458469387756,
          164.30969387755164,
          145.69367346938824,
          132.6939795918377,
          103.11010204081688,
          129.9496938775524,
          169.28551020408366,
          137.18000000000114,
          90.94193877551132,
          72.03428571428591
         ]
        }
       ],
       "layout": {
        "autosize": false,
        "height": 300,
        "margin": {
         "b": 1,
         "l": 50,
         "pad": 4,
         "r": 50,
         "t": 10
        },
        "paper_bgcolor": "LightSteelBlue",
        "template": {
         "data": {
          "bar": [
           {
            "error_x": {
             "color": "#2a3f5f"
            },
            "error_y": {
             "color": "#2a3f5f"
            },
            "marker": {
             "line": {
              "color": "#E5ECF6",
              "width": 0.5
             },
             "pattern": {
              "fillmode": "overlay",
              "size": 10,
              "solidity": 0.2
             }
            },
            "type": "bar"
           }
          ],
          "barpolar": [
           {
            "marker": {
             "line": {
              "color": "#E5ECF6",
              "width": 0.5
             },
             "pattern": {
              "fillmode": "overlay",
              "size": 10,
              "solidity": 0.2
             }
            },
            "type": "barpolar"
           }
          ],
          "carpet": [
           {
            "aaxis": {
             "endlinecolor": "#2a3f5f",
             "gridcolor": "white",
             "linecolor": "white",
             "minorgridcolor": "white",
             "startlinecolor": "#2a3f5f"
            },
            "baxis": {
             "endlinecolor": "#2a3f5f",
             "gridcolor": "white",
             "linecolor": "white",
             "minorgridcolor": "white",
             "startlinecolor": "#2a3f5f"
            },
            "type": "carpet"
           }
          ],
          "choropleth": [
           {
            "colorbar": {
             "outlinewidth": 0,
             "ticks": ""
            },
            "type": "choropleth"
           }
          ],
          "contour": [
           {
            "colorbar": {
             "outlinewidth": 0,
             "ticks": ""
            },
            "colorscale": [
             [
              0,
              "#0d0887"
             ],
             [
              0.1111111111111111,
              "#46039f"
             ],
             [
              0.2222222222222222,
              "#7201a8"
             ],
             [
              0.3333333333333333,
              "#9c179e"
             ],
             [
              0.4444444444444444,
              "#bd3786"
             ],
             [
              0.5555555555555556,
              "#d8576b"
             ],
             [
              0.6666666666666666,
              "#ed7953"
             ],
             [
              0.7777777777777778,
              "#fb9f3a"
             ],
             [
              0.8888888888888888,
              "#fdca26"
             ],
             [
              1,
              "#f0f921"
             ]
            ],
            "type": "contour"
           }
          ],
          "contourcarpet": [
           {
            "colorbar": {
             "outlinewidth": 0,
             "ticks": ""
            },
            "type": "contourcarpet"
           }
          ],
          "heatmap": [
           {
            "colorbar": {
             "outlinewidth": 0,
             "ticks": ""
            },
            "colorscale": [
             [
              0,
              "#0d0887"
             ],
             [
              0.1111111111111111,
              "#46039f"
             ],
             [
              0.2222222222222222,
              "#7201a8"
             ],
             [
              0.3333333333333333,
              "#9c179e"
             ],
             [
              0.4444444444444444,
              "#bd3786"
             ],
             [
              0.5555555555555556,
              "#d8576b"
             ],
             [
              0.6666666666666666,
              "#ed7953"
             ],
             [
              0.7777777777777778,
              "#fb9f3a"
             ],
             [
              0.8888888888888888,
              "#fdca26"
             ],
             [
              1,
              "#f0f921"
             ]
            ],
            "type": "heatmap"
           }
          ],
          "heatmapgl": [
           {
            "colorbar": {
             "outlinewidth": 0,
             "ticks": ""
            },
            "colorscale": [
             [
              0,
              "#0d0887"
             ],
             [
              0.1111111111111111,
              "#46039f"
             ],
             [
              0.2222222222222222,
              "#7201a8"
             ],
             [
              0.3333333333333333,
              "#9c179e"
             ],
             [
              0.4444444444444444,
              "#bd3786"
             ],
             [
              0.5555555555555556,
              "#d8576b"
             ],
             [
              0.6666666666666666,
              "#ed7953"
             ],
             [
              0.7777777777777778,
              "#fb9f3a"
             ],
             [
              0.8888888888888888,
              "#fdca26"
             ],
             [
              1,
              "#f0f921"
             ]
            ],
            "type": "heatmapgl"
           }
          ],
          "histogram": [
           {
            "marker": {
             "pattern": {
              "fillmode": "overlay",
              "size": 10,
              "solidity": 0.2
             }
            },
            "type": "histogram"
           }
          ],
          "histogram2d": [
           {
            "colorbar": {
             "outlinewidth": 0,
             "ticks": ""
            },
            "colorscale": [
             [
              0,
              "#0d0887"
             ],
             [
              0.1111111111111111,
              "#46039f"
             ],
             [
              0.2222222222222222,
              "#7201a8"
             ],
             [
              0.3333333333333333,
              "#9c179e"
             ],
             [
              0.4444444444444444,
              "#bd3786"
             ],
             [
              0.5555555555555556,
              "#d8576b"
             ],
             [
              0.6666666666666666,
              "#ed7953"
             ],
             [
              0.7777777777777778,
              "#fb9f3a"
             ],
             [
              0.8888888888888888,
              "#fdca26"
             ],
             [
              1,
              "#f0f921"
             ]
            ],
            "type": "histogram2d"
           }
          ],
          "histogram2dcontour": [
           {
            "colorbar": {
             "outlinewidth": 0,
             "ticks": ""
            },
            "colorscale": [
             [
              0,
              "#0d0887"
             ],
             [
              0.1111111111111111,
              "#46039f"
             ],
             [
              0.2222222222222222,
              "#7201a8"
             ],
             [
              0.3333333333333333,
              "#9c179e"
             ],
             [
              0.4444444444444444,
              "#bd3786"
             ],
             [
              0.5555555555555556,
              "#d8576b"
             ],
             [
              0.6666666666666666,
              "#ed7953"
             ],
             [
              0.7777777777777778,
              "#fb9f3a"
             ],
             [
              0.8888888888888888,
              "#fdca26"
             ],
             [
              1,
              "#f0f921"
             ]
            ],
            "type": "histogram2dcontour"
           }
          ],
          "mesh3d": [
           {
            "colorbar": {
             "outlinewidth": 0,
             "ticks": ""
            },
            "type": "mesh3d"
           }
          ],
          "parcoords": [
           {
            "line": {
             "colorbar": {
              "outlinewidth": 0,
              "ticks": ""
             }
            },
            "type": "parcoords"
           }
          ],
          "pie": [
           {
            "automargin": true,
            "type": "pie"
           }
          ],
          "scatter": [
           {
            "fillpattern": {
             "fillmode": "overlay",
             "size": 10,
             "solidity": 0.2
            },
            "type": "scatter"
           }
          ],
          "scatter3d": [
           {
            "line": {
             "colorbar": {
              "outlinewidth": 0,
              "ticks": ""
             }
            },
            "marker": {
             "colorbar": {
              "outlinewidth": 0,
              "ticks": ""
             }
            },
            "type": "scatter3d"
           }
          ],
          "scattercarpet": [
           {
            "marker": {
             "colorbar": {
              "outlinewidth": 0,
              "ticks": ""
             }
            },
            "type": "scattercarpet"
           }
          ],
          "scattergeo": [
           {
            "marker": {
             "colorbar": {
              "outlinewidth": 0,
              "ticks": ""
             }
            },
            "type": "scattergeo"
           }
          ],
          "scattergl": [
           {
            "marker": {
             "colorbar": {
              "outlinewidth": 0,
              "ticks": ""
             }
            },
            "type": "scattergl"
           }
          ],
          "scattermapbox": [
           {
            "marker": {
             "colorbar": {
              "outlinewidth": 0,
              "ticks": ""
             }
            },
            "type": "scattermapbox"
           }
          ],
          "scatterpolar": [
           {
            "marker": {
             "colorbar": {
              "outlinewidth": 0,
              "ticks": ""
             }
            },
            "type": "scatterpolar"
           }
          ],
          "scatterpolargl": [
           {
            "marker": {
             "colorbar": {
              "outlinewidth": 0,
              "ticks": ""
             }
            },
            "type": "scatterpolargl"
           }
          ],
          "scatterternary": [
           {
            "marker": {
             "colorbar": {
              "outlinewidth": 0,
              "ticks": ""
             }
            },
            "type": "scatterternary"
           }
          ],
          "surface": [
           {
            "colorbar": {
             "outlinewidth": 0,
             "ticks": ""
            },
            "colorscale": [
             [
              0,
              "#0d0887"
             ],
             [
              0.1111111111111111,
              "#46039f"
             ],
             [
              0.2222222222222222,
              "#7201a8"
             ],
             [
              0.3333333333333333,
              "#9c179e"
             ],
             [
              0.4444444444444444,
              "#bd3786"
             ],
             [
              0.5555555555555556,
              "#d8576b"
             ],
             [
              0.6666666666666666,
              "#ed7953"
             ],
             [
              0.7777777777777778,
              "#fb9f3a"
             ],
             [
              0.8888888888888888,
              "#fdca26"
             ],
             [
              1,
              "#f0f921"
             ]
            ],
            "type": "surface"
           }
          ],
          "table": [
           {
            "cells": {
             "fill": {
              "color": "#EBF0F8"
             },
             "line": {
              "color": "white"
             }
            },
            "header": {
             "fill": {
              "color": "#C8D4E3"
             },
             "line": {
              "color": "white"
             }
            },
            "type": "table"
           }
          ]
         },
         "layout": {
          "annotationdefaults": {
           "arrowcolor": "#2a3f5f",
           "arrowhead": 0,
           "arrowwidth": 1
          },
          "autotypenumbers": "strict",
          "coloraxis": {
           "colorbar": {
            "outlinewidth": 0,
            "ticks": ""
           }
          },
          "colorscale": {
           "diverging": [
            [
             0,
             "#8e0152"
            ],
            [
             0.1,
             "#c51b7d"
            ],
            [
             0.2,
             "#de77ae"
            ],
            [
             0.3,
             "#f1b6da"
            ],
            [
             0.4,
             "#fde0ef"
            ],
            [
             0.5,
             "#f7f7f7"
            ],
            [
             0.6,
             "#e6f5d0"
            ],
            [
             0.7,
             "#b8e186"
            ],
            [
             0.8,
             "#7fbc41"
            ],
            [
             0.9,
             "#4d9221"
            ],
            [
             1,
             "#276419"
            ]
           ],
           "sequential": [
            [
             0,
             "#0d0887"
            ],
            [
             0.1111111111111111,
             "#46039f"
            ],
            [
             0.2222222222222222,
             "#7201a8"
            ],
            [
             0.3333333333333333,
             "#9c179e"
            ],
            [
             0.4444444444444444,
             "#bd3786"
            ],
            [
             0.5555555555555556,
             "#d8576b"
            ],
            [
             0.6666666666666666,
             "#ed7953"
            ],
            [
             0.7777777777777778,
             "#fb9f3a"
            ],
            [
             0.8888888888888888,
             "#fdca26"
            ],
            [
             1,
             "#f0f921"
            ]
           ],
           "sequentialminus": [
            [
             0,
             "#0d0887"
            ],
            [
             0.1111111111111111,
             "#46039f"
            ],
            [
             0.2222222222222222,
             "#7201a8"
            ],
            [
             0.3333333333333333,
             "#9c179e"
            ],
            [
             0.4444444444444444,
             "#bd3786"
            ],
            [
             0.5555555555555556,
             "#d8576b"
            ],
            [
             0.6666666666666666,
             "#ed7953"
            ],
            [
             0.7777777777777778,
             "#fb9f3a"
            ],
            [
             0.8888888888888888,
             "#fdca26"
            ],
            [
             1,
             "#f0f921"
            ]
           ]
          },
          "colorway": [
           "#636efa",
           "#EF553B",
           "#00cc96",
           "#ab63fa",
           "#FFA15A",
           "#19d3f3",
           "#FF6692",
           "#B6E880",
           "#FF97FF",
           "#FECB52"
          ],
          "font": {
           "color": "#2a3f5f"
          },
          "geo": {
           "bgcolor": "white",
           "lakecolor": "white",
           "landcolor": "#E5ECF6",
           "showlakes": true,
           "showland": true,
           "subunitcolor": "white"
          },
          "hoverlabel": {
           "align": "left"
          },
          "hovermode": "closest",
          "mapbox": {
           "style": "light"
          },
          "paper_bgcolor": "white",
          "plot_bgcolor": "#E5ECF6",
          "polar": {
           "angularaxis": {
            "gridcolor": "white",
            "linecolor": "white",
            "ticks": ""
           },
           "bgcolor": "#E5ECF6",
           "radialaxis": {
            "gridcolor": "white",
            "linecolor": "white",
            "ticks": ""
           }
          },
          "scene": {
           "xaxis": {
            "backgroundcolor": "#E5ECF6",
            "gridcolor": "white",
            "gridwidth": 2,
            "linecolor": "white",
            "showbackground": true,
            "ticks": "",
            "zerolinecolor": "white"
           },
           "yaxis": {
            "backgroundcolor": "#E5ECF6",
            "gridcolor": "white",
            "gridwidth": 2,
            "linecolor": "white",
            "showbackground": true,
            "ticks": "",
            "zerolinecolor": "white"
           },
           "zaxis": {
            "backgroundcolor": "#E5ECF6",
            "gridcolor": "white",
            "gridwidth": 2,
            "linecolor": "white",
            "showbackground": true,
            "ticks": "",
            "zerolinecolor": "white"
           }
          },
          "shapedefaults": {
           "line": {
            "color": "#2a3f5f"
           }
          },
          "ternary": {
           "aaxis": {
            "gridcolor": "white",
            "linecolor": "white",
            "ticks": ""
           },
           "baxis": {
            "gridcolor": "white",
            "linecolor": "white",
            "ticks": ""
           },
           "bgcolor": "#E5ECF6",
           "caxis": {
            "gridcolor": "white",
            "linecolor": "white",
            "ticks": ""
           }
          },
          "title": {
           "x": 0.05
          },
          "xaxis": {
           "automargin": true,
           "gridcolor": "white",
           "linecolor": "white",
           "ticks": "",
           "title": {
            "standoff": 15
           },
           "zerolinecolor": "white",
           "zerolinewidth": 2
          },
          "yaxis": {
           "automargin": true,
           "gridcolor": "white",
           "linecolor": "white",
           "ticks": "",
           "title": {
            "standoff": 15
           },
           "zerolinecolor": "white",
           "zerolinewidth": 2
          }
         }
        },
        "width": 1200
       }
      }
     },
     "metadata": {},
     "output_type": "display_data"
    },
    {
     "data": {
      "application/vnd.plotly.v1+json": {
       "config": {
        "plotlyServerURL": "https://plotly.com"
       },
       "data": [
        {
         "close": [
          27770.7,
          27728.3,
          27746.8,
          27702.7,
          27761.9,
          27750.8,
          27681.5,
          27665.8,
          27267.5,
          27082,
          27158.4,
          27162.1,
          27131,
          27127.8,
          27051.3,
          27091.4,
          27065.2,
          27112.2,
          27027.5,
          26904.1,
          26930,
          27049.9,
          27030.5,
          27009.4,
          27109,
          27086.4,
          27179.8,
          27203.7,
          27057.6,
          27072.5,
          26710,
          26767.8,
          26795.2,
          26839,
          26775,
          26792.4,
          26901.5,
          26901.6,
          26853,
          26885.5,
          26933.1,
          26883.3,
          26894.3,
          26891.8,
          27088.8,
          26955.5,
          26962.7,
          26857.5,
          26858.5,
          26885.9,
          26876.2,
          26810.7,
          26778.7,
          26804.5,
          26956.4,
          26998.3,
          27064.2,
          27147.2,
          27068.8,
          27047.2,
          27163,
          27076.3,
          27091.7,
          27126.4,
          27093.2,
          26903.9,
          26959.6,
          27090.6,
          27050.6,
          27052.9,
          27186.5,
          27234.4,
          27169.9,
          27202.3,
          27260.1,
          27240.1,
          27162.6,
          27127.9,
          27148.5,
          27140.7,
          27155.9,
          27153.1,
          27179.4,
          27173.9,
          27146,
          27148.4,
          27138.4,
          27127.8,
          27161.1,
          27161.9,
          27165.8,
          27299.7,
          27246.5,
          27158.8,
          27148.4,
          27094.5,
          27060.4,
          27002.5,
          27069.1,
          27067.5,
          27004,
          27040.2,
          27088.8,
          27058.9,
          27052.5,
          27035,
          27125.5,
          27148.4,
          27151,
          27217.8,
          27222.7,
          27196.9,
          27210.1,
          27246.5,
          27235,
          27182.4,
          27170.5,
          27177.5,
          27194.2,
          27213.3,
          27243.3,
          27195.3,
          27233.3,
          27112.9,
          27018.9,
          27042.5,
          26924.7,
          26838.8,
          26827,
          26808.9,
          26755,
          26820.6,
          26789.7,
          26766.4,
          26704.7,
          26761.3,
          26678.8,
          26716.1,
          26788.5,
          25987.2,
          25795.3,
          25744.1,
          25550,
          25615,
          25617.1,
          25644.5,
          25696.7,
          25714.4,
          25677.2,
          25624.4,
          25751,
          25716.5,
          25782.6,
          25757.6,
          25757.6,
          25711.8,
          25697.5,
          25740.7,
          25734.3,
          25676,
          25524.9,
          25727.8,
          26014,
          26056.8,
          26359.5,
          26658.9,
          26688.5,
          27075.4,
          26936.7,
          27052.4,
          27150,
          27223.9,
          27186.8,
          27082.6,
          26937.4,
          26906.2,
          26928.9,
          26906.4,
          26824.5,
          26794.2,
          26813.2,
          26486.5,
          26590.3,
          26885.4,
          26795.5,
          26809.6,
          26435,
          26337.7,
          26321.2,
          26498.2,
          26461.3,
          26473.6,
          26350,
          26140.6,
          26262.5,
          26330.1,
          26379.4,
          26434.4,
          26376.6,
          26334,
          26391.7,
          26369.1,
          26418,
          26435.6,
          26435,
          26376.4,
          26476.9,
          26424.5,
          26459,
          26391.4,
          26636.2,
          26714.4,
          26488.8,
          26475.4,
          26540.6
         ],
         "high": [
          27863.9,
          27850.9,
          27768.4,
          27751.4,
          27765.9,
          27843.7,
          27750.8,
          27697.9,
          27686.2,
          27278.8,
          27182.9,
          27201,
          27198.7,
          27151.7,
          27137.3,
          27123,
          27110.7,
          27218.5,
          27112.2,
          27057.5,
          26972.6,
          27077,
          27086.6,
          27110.3,
          27110.1,
          27114.8,
          27187.4,
          27286,
          27335.2,
          27156.4,
          27107,
          26825,
          26810.8,
          26850,
          26872.3,
          26853.5,
          26911.3,
          26943.5,
          26924.4,
          26898.7,
          26954,
          26959.9,
          26970,
          26944.3,
          27168.5,
          27133.2,
          27045.1,
          26981.9,
          26913.2,
          26939.5,
          26900.2,
          26878.8,
          26818.2,
          26843.8,
          26981.7,
          27013.2,
          27109,
          27206.3,
          27159.6,
          27111.9,
          27170.7,
          27180.6,
          27099,
          27165,
          27230.8,
          27128.5,
          26979.9,
          27101.5,
          27113.6,
          27088,
          27187.5,
          27280.9,
          27268.9,
          27240.1,
          27290,
          27266.7,
          27240.4,
          27184,
          27166.2,
          27169.2,
          27159.6,
          27161.7,
          27210.3,
          27198.9,
          27180.7,
          27148.5,
          27177.6,
          27168.1,
          27170.7,
          27178.9,
          27187.7,
          27320.4,
          27313.2,
          27252.1,
          27180.9,
          27163,
          27122.6,
          27072.7,
          27077,
          27082.9,
          27067.7,
          27077.3,
          27098,
          27088.8,
          27081.6,
          27054,
          27137.5,
          27160,
          27156.2,
          27252,
          27230,
          27237.5,
          27215.8,
          27298.5,
          27264.3,
          27245.6,
          27198.4,
          27210.9,
          27209.6,
          27222,
          27269.7,
          27280.4,
          27455.5,
          27319,
          27121.9,
          27049.9,
          27074.2,
          26924.7,
          26863.1,
          26828.2,
          26825.7,
          26820.8,
          26832.3,
          26814.9,
          26780.4,
          26779.7,
          26770.4,
          26752.4,
          26802.4,
          26795.8,
          26063,
          25798.3,
          25744.1,
          25620,
          25662.7,
          25665.8,
          25758.5,
          25844.1,
          25741.2,
          25682.2,
          25779,
          25751,
          25790.8,
          25802.7,
          25797.1,
          25798,
          25735.8,
          25778.5,
          25785.8,
          25739.3,
          25717.8,
          25769.7,
          26081.3,
          26119.3,
          26387.5,
          26766.6,
          26768.9,
          27199.1,
          27201.8,
          27086.9,
          27182.3,
          27349.5,
          27378.6,
          27215.3,
          27088.7,
          26963.7,
          26958.1,
          26973.5,
          26935.5,
          26894.1,
          26837.5,
          26813.3,
          26623.5,
          26960.4,
          26899.8,
          26854.5,
          26809.7,
          26669,
          26428.7,
          26543.3,
          26521.2,
          26519.2,
          26484.4,
          26447.3,
          26363.3,
          26354.7,
          26423.1,
          26455.8,
          26436.1,
          26376.9,
          26415.4,
          26425.4,
          26485,
          26509.3,
          26455,
          26435.3,
          26486.2,
          26490.6,
          26563.4,
          26473.3,
          26676.6,
          26801.9,
          26722.2,
          26504.5,
          26561.5
         ],
         "low": [
          27765.3,
          27665.4,
          27662,
          27683.5,
          27670,
          27747.1,
          27584.6,
          27607.6,
          27255.1,
          27017.6,
          26987.7,
          27112.4,
          27104.6,
          27040.3,
          27040.1,
          26991.7,
          27058.7,
          27053.6,
          26845.1,
          26875.2,
          26835.6,
          26910.3,
          27015.1,
          26994.8,
          27000.7,
          27042.5,
          27080,
          27154.3,
          27013.7,
          27050.6,
          26636.9,
          26607.8,
          26741.2,
          26774.4,
          26768.7,
          26755,
          26780.5,
          26889.4,
          26849.5,
          26832.1,
          26785.7,
          26858.4,
          26825.6,
          26857.8,
          26791.8,
          26917.5,
          26935.8,
          26653.1,
          26823.8,
          26856,
          26846.8,
          26709.1,
          26504,
          26711.2,
          26804.5,
          26928.6,
          26947.7,
          27060.7,
          27065.8,
          27043.6,
          27047,
          27065,
          27059.5,
          27067.5,
          26991.3,
          26861.4,
          26884.6,
          26959.6,
          27027.9,
          27018.2,
          27005.2,
          27126,
          27169.8,
          27140.4,
          27194.1,
          27227.5,
          27150.1,
          27091,
          27127.1,
          27130,
          27104.6,
          27133.3,
          27153.1,
          27164.9,
          27144,
          27126.7,
          27111.5,
          27121.5,
          27127.7,
          27145.4,
          27161.5,
          27122.4,
          27224.6,
          27115.8,
          27123.7,
          27025.8,
          27053.6,
          26918.2,
          27002.4,
          27050.6,
          27004,
          26949.5,
          27031.6,
          27043,
          27040.1,
          27024.3,
          27034.6,
          27125.5,
          27117.7,
          27150.9,
          27192.7,
          27179.8,
          27162.7,
          27207,
          27170.7,
          27182.4,
          27158.9,
          27168.7,
          27177.4,
          27189.3,
          27206.5,
          27188.8,
          27189.4,
          27043.3,
          26961.1,
          26944.1,
          26871.2,
          26798.7,
          26761.9,
          26737.3,
          26753.8,
          26738,
          26785.5,
          26715.5,
          26702.7,
          26660.4,
          26645.6,
          26637.3,
          26691.1,
          25987.2,
          25453.5,
          25566.4,
          25516.4,
          25381.1,
          25575.2,
          25493.9,
          25635.1,
          25687.8,
          25661.4,
          25603.4,
          25588.6,
          25703,
          25712.6,
          25745.7,
          25740,
          25698.6,
          25663.8,
          25682.4,
          25734.2,
          25630.6,
          25343,
          25382.8,
          25724.8,
          25915.3,
          26055.5,
          26281.4,
          26629.8,
          26680.8,
          26891.3,
          26936.7,
          27041,
          27117.8,
          27161.4,
          27062.1,
          26911.6,
          26722.2,
          26870.3,
          26868.7,
          26812,
          26756,
          26760.6,
          26429.2,
          26350.7,
          26575.9,
          26744,
          26666.4,
          26337.8,
          26242.7,
          26238,
          26267.3,
          26432.7,
          26433.2,
          26309.1,
          26120,
          26125.9,
          26246.6,
          26298.7,
          26373.2,
          26356.6,
          26202.3,
          26315.3,
          26340.9,
          26281.5,
          26408.2,
          26395.7,
          26362.5,
          26360.2,
          26402.4,
          26363.6,
          26294.2,
          26341.8,
          26573,
          26409,
          26428.5,
          26433.2
         ],
         "open": [
          27858.3,
          27770.7,
          27728.3,
          27746.8,
          27702.7,
          27762,
          27750.8,
          27681.4,
          27665.8,
          27267.5,
          27082,
          27158.4,
          27162.1,
          27131,
          27127.8,
          27051.3,
          27091.4,
          27065.2,
          27112.2,
          27027.5,
          26904.1,
          26930,
          27049.9,
          27030.5,
          27009.4,
          27109,
          27086.4,
          27179.8,
          27203.7,
          27057.6,
          27072.5,
          26710,
          26767.8,
          26795.2,
          26839,
          26775,
          26792.4,
          26901.5,
          26901.6,
          26853,
          26885.5,
          26933.1,
          26883.3,
          26894.3,
          26891.8,
          27088.8,
          26955.5,
          26962.7,
          26857.5,
          26858.5,
          26885.9,
          26876.2,
          26810.7,
          26778.7,
          26804.5,
          26956.4,
          26998.3,
          27064.2,
          27147.2,
          27068.8,
          27047.2,
          27163,
          27076.3,
          27091.7,
          27126.4,
          27093.2,
          26903.9,
          26959.6,
          27090.6,
          27050.6,
          27052.9,
          27186.5,
          27234.4,
          27169.9,
          27202.3,
          27260.1,
          27240.1,
          27162.6,
          27127.9,
          27148.5,
          27140.7,
          27155.9,
          27153.1,
          27179.4,
          27173.9,
          27146,
          27148.4,
          27138.4,
          27127.8,
          27161.1,
          27162,
          27165.8,
          27299.7,
          27246.5,
          27158.8,
          27148.4,
          27094.5,
          27060.4,
          27002.5,
          27069.1,
          27067.5,
          27004,
          27040.1,
          27088.8,
          27058.9,
          27052.5,
          27035,
          27125.5,
          27148.4,
          27150.9,
          27217.8,
          27222.7,
          27196.9,
          27210.1,
          27246.5,
          27235,
          27182.4,
          27170.5,
          27177.5,
          27194.3,
          27213.3,
          27243.3,
          27195.3,
          27233.3,
          27112.9,
          27018.9,
          27042.5,
          26924.7,
          26838.8,
          26827,
          26808.9,
          26755,
          26820.6,
          26789.7,
          26766.4,
          26704.7,
          26761.3,
          26678.8,
          26716.1,
          26788.5,
          25987.2,
          25795.3,
          25744.1,
          25550,
          25615,
          25617.1,
          25644.5,
          25696.7,
          25714.4,
          25677.2,
          25624.4,
          25751,
          25716.5,
          25782.6,
          25757.6,
          25757.6,
          25711.8,
          25697.5,
          25740.7,
          25734.3,
          25676,
          25524.9,
          25727.8,
          26014,
          26056.8,
          26359.5,
          26658.9,
          26688.5,
          27075.4,
          26936.7,
          27052.4,
          27150,
          27223.9,
          27186.8,
          27082.6,
          26937.4,
          26904.3,
          26928.9,
          26906.4,
          26824.5,
          26794.2,
          26813.2,
          26486.5,
          26590.3,
          26885.4,
          26795.5,
          26809.6,
          26435,
          26337.7,
          26321.2,
          26498.2,
          26461.3,
          26473.6,
          26350,
          26140.6,
          26262.5,
          26330.1,
          26379.5,
          26434.6,
          26376.6,
          26334,
          26391.7,
          26369.1,
          26418,
          26435.6,
          26435,
          26376.4,
          26476.9,
          26424.5,
          26459,
          26391.4,
          26636.2,
          26714.4,
          26488.8,
          26475.4
         ],
         "type": "candlestick",
         "x": [
          "2023-05-30 17:00:00",
          "2023-05-30 18:00:00",
          "2023-05-30 19:00:00",
          "2023-05-30 20:00:00",
          "2023-05-30 21:00:00",
          "2023-05-30 22:00:00",
          "2023-05-30 23:00:00",
          "2023-05-31 00:00:00",
          "2023-05-31 01:00:00",
          "2023-05-31 02:00:00",
          "2023-05-31 03:00:00",
          "2023-05-31 04:00:00",
          "2023-05-31 05:00:00",
          "2023-05-31 06:00:00",
          "2023-05-31 07:00:00",
          "2023-05-31 08:00:00",
          "2023-05-31 09:00:00",
          "2023-05-31 10:00:00",
          "2023-05-31 11:00:00",
          "2023-05-31 12:00:00",
          "2023-05-31 13:00:00",
          "2023-05-31 14:00:00",
          "2023-05-31 15:00:00",
          "2023-05-31 16:00:00",
          "2023-05-31 17:00:00",
          "2023-05-31 18:00:00",
          "2023-05-31 19:00:00",
          "2023-05-31 20:00:00",
          "2023-05-31 21:00:00",
          "2023-05-31 22:00:00",
          "2023-05-31 23:00:00",
          "2023-06-01 00:00:00",
          "2023-06-01 01:00:00",
          "2023-06-01 02:00:00",
          "2023-06-01 03:00:00",
          "2023-06-01 04:00:00",
          "2023-06-01 05:00:00",
          "2023-06-01 06:00:00",
          "2023-06-01 07:00:00",
          "2023-06-01 08:00:00",
          "2023-06-01 09:00:00",
          "2023-06-01 10:00:00",
          "2023-06-01 11:00:00",
          "2023-06-01 12:00:00",
          "2023-06-01 13:00:00",
          "2023-06-01 14:00:00",
          "2023-06-01 15:00:00",
          "2023-06-01 16:00:00",
          "2023-06-01 17:00:00",
          "2023-06-01 18:00:00",
          "2023-06-01 19:00:00",
          "2023-06-01 20:00:00",
          "2023-06-01 21:00:00",
          "2023-06-01 22:00:00",
          "2023-06-01 23:00:00",
          "2023-06-02 00:00:00",
          "2023-06-02 01:00:00",
          "2023-06-02 02:00:00",
          "2023-06-02 03:00:00",
          "2023-06-02 04:00:00",
          "2023-06-02 05:00:00",
          "2023-06-02 06:00:00",
          "2023-06-02 07:00:00",
          "2023-06-02 08:00:00",
          "2023-06-02 09:00:00",
          "2023-06-02 10:00:00",
          "2023-06-02 11:00:00",
          "2023-06-02 12:00:00",
          "2023-06-02 13:00:00",
          "2023-06-02 14:00:00",
          "2023-06-02 15:00:00",
          "2023-06-02 16:00:00",
          "2023-06-02 17:00:00",
          "2023-06-02 18:00:00",
          "2023-06-02 19:00:00",
          "2023-06-02 20:00:00",
          "2023-06-02 21:00:00",
          "2023-06-02 22:00:00",
          "2023-06-02 23:00:00",
          "2023-06-03 00:00:00",
          "2023-06-03 01:00:00",
          "2023-06-03 02:00:00",
          "2023-06-03 03:00:00",
          "2023-06-03 04:00:00",
          "2023-06-03 05:00:00",
          "2023-06-03 06:00:00",
          "2023-06-03 07:00:00",
          "2023-06-03 08:00:00",
          "2023-06-03 09:00:00",
          "2023-06-03 10:00:00",
          "2023-06-03 11:00:00",
          "2023-06-03 12:00:00",
          "2023-06-03 13:00:00",
          "2023-06-03 14:00:00",
          "2023-06-03 15:00:00",
          "2023-06-03 16:00:00",
          "2023-06-03 17:00:00",
          "2023-06-03 18:00:00",
          "2023-06-03 19:00:00",
          "2023-06-03 20:00:00",
          "2023-06-03 21:00:00",
          "2023-06-03 22:00:00",
          "2023-06-03 23:00:00",
          "2023-06-04 00:00:00",
          "2023-06-04 01:00:00",
          "2023-06-04 02:00:00",
          "2023-06-04 03:00:00",
          "2023-06-04 04:00:00",
          "2023-06-04 05:00:00",
          "2023-06-04 06:00:00",
          "2023-06-04 07:00:00",
          "2023-06-04 08:00:00",
          "2023-06-04 09:00:00",
          "2023-06-04 10:00:00",
          "2023-06-04 11:00:00",
          "2023-06-04 12:00:00",
          "2023-06-04 13:00:00",
          "2023-06-04 14:00:00",
          "2023-06-04 15:00:00",
          "2023-06-04 16:00:00",
          "2023-06-04 17:00:00",
          "2023-06-04 18:00:00",
          "2023-06-04 19:00:00",
          "2023-06-04 20:00:00",
          "2023-06-04 21:00:00",
          "2023-06-04 22:00:00",
          "2023-06-04 23:00:00",
          "2023-06-05 00:00:00",
          "2023-06-05 01:00:00",
          "2023-06-05 02:00:00",
          "2023-06-05 03:00:00",
          "2023-06-05 04:00:00",
          "2023-06-05 05:00:00",
          "2023-06-05 06:00:00",
          "2023-06-05 07:00:00",
          "2023-06-05 08:00:00",
          "2023-06-05 09:00:00",
          "2023-06-05 10:00:00",
          "2023-06-05 11:00:00",
          "2023-06-05 12:00:00",
          "2023-06-05 13:00:00",
          "2023-06-05 14:00:00",
          "2023-06-05 15:00:00",
          "2023-06-05 16:00:00",
          "2023-06-05 17:00:00",
          "2023-06-05 18:00:00",
          "2023-06-05 19:00:00",
          "2023-06-05 20:00:00",
          "2023-06-05 21:00:00",
          "2023-06-05 22:00:00",
          "2023-06-05 23:00:00",
          "2023-06-06 00:00:00",
          "2023-06-06 01:00:00",
          "2023-06-06 02:00:00",
          "2023-06-06 03:00:00",
          "2023-06-06 04:00:00",
          "2023-06-06 05:00:00",
          "2023-06-06 06:00:00",
          "2023-06-06 07:00:00",
          "2023-06-06 08:00:00",
          "2023-06-06 09:00:00",
          "2023-06-06 10:00:00",
          "2023-06-06 11:00:00",
          "2023-06-06 12:00:00",
          "2023-06-06 13:00:00",
          "2023-06-06 14:00:00",
          "2023-06-06 15:00:00",
          "2023-06-06 16:00:00",
          "2023-06-06 17:00:00",
          "2023-06-06 18:00:00",
          "2023-06-06 19:00:00",
          "2023-06-06 20:00:00",
          "2023-06-06 21:00:00",
          "2023-06-06 22:00:00",
          "2023-06-06 23:00:00",
          "2023-06-07 00:00:00",
          "2023-06-07 01:00:00",
          "2023-06-07 02:00:00",
          "2023-06-07 03:00:00",
          "2023-06-07 04:00:00",
          "2023-06-07 05:00:00",
          "2023-06-07 06:00:00",
          "2023-06-07 07:00:00",
          "2023-06-07 08:00:00",
          "2023-06-07 09:00:00",
          "2023-06-07 10:00:00",
          "2023-06-07 11:00:00",
          "2023-06-07 12:00:00",
          "2023-06-07 13:00:00",
          "2023-06-07 14:00:00",
          "2023-06-07 15:00:00",
          "2023-06-07 16:00:00",
          "2023-06-07 17:00:00",
          "2023-06-07 18:00:00",
          "2023-06-07 19:00:00",
          "2023-06-07 20:00:00",
          "2023-06-07 21:00:00",
          "2023-06-07 22:00:00",
          "2023-06-07 23:00:00",
          "2023-06-08 00:00:00",
          "2023-06-08 01:00:00",
          "2023-06-08 02:00:00",
          "2023-06-08 03:00:00",
          "2023-06-08 04:00:00",
          "2023-06-08 05:00:00",
          "2023-06-08 06:00:00",
          "2023-06-08 07:00:00",
          "2023-06-08 08:00:00",
          "2023-06-08 09:00:00",
          "2023-06-08 10:00:00",
          "2023-06-08 11:00:00",
          "2023-06-08 12:00:00",
          "2023-06-08 13:00:00",
          "2023-06-08 14:00:00",
          "2023-06-08 15:00:00"
         ]
        }
       ],
       "layout": {
        "autosize": false,
        "height": 600,
        "margin": {
         "b": 50,
         "l": 50,
         "pad": 4,
         "r": 50,
         "t": 50
        },
        "paper_bgcolor": "LightSteelBlue",
        "template": {
         "data": {
          "bar": [
           {
            "error_x": {
             "color": "#2a3f5f"
            },
            "error_y": {
             "color": "#2a3f5f"
            },
            "marker": {
             "line": {
              "color": "#E5ECF6",
              "width": 0.5
             },
             "pattern": {
              "fillmode": "overlay",
              "size": 10,
              "solidity": 0.2
             }
            },
            "type": "bar"
           }
          ],
          "barpolar": [
           {
            "marker": {
             "line": {
              "color": "#E5ECF6",
              "width": 0.5
             },
             "pattern": {
              "fillmode": "overlay",
              "size": 10,
              "solidity": 0.2
             }
            },
            "type": "barpolar"
           }
          ],
          "carpet": [
           {
            "aaxis": {
             "endlinecolor": "#2a3f5f",
             "gridcolor": "white",
             "linecolor": "white",
             "minorgridcolor": "white",
             "startlinecolor": "#2a3f5f"
            },
            "baxis": {
             "endlinecolor": "#2a3f5f",
             "gridcolor": "white",
             "linecolor": "white",
             "minorgridcolor": "white",
             "startlinecolor": "#2a3f5f"
            },
            "type": "carpet"
           }
          ],
          "choropleth": [
           {
            "colorbar": {
             "outlinewidth": 0,
             "ticks": ""
            },
            "type": "choropleth"
           }
          ],
          "contour": [
           {
            "colorbar": {
             "outlinewidth": 0,
             "ticks": ""
            },
            "colorscale": [
             [
              0,
              "#0d0887"
             ],
             [
              0.1111111111111111,
              "#46039f"
             ],
             [
              0.2222222222222222,
              "#7201a8"
             ],
             [
              0.3333333333333333,
              "#9c179e"
             ],
             [
              0.4444444444444444,
              "#bd3786"
             ],
             [
              0.5555555555555556,
              "#d8576b"
             ],
             [
              0.6666666666666666,
              "#ed7953"
             ],
             [
              0.7777777777777778,
              "#fb9f3a"
             ],
             [
              0.8888888888888888,
              "#fdca26"
             ],
             [
              1,
              "#f0f921"
             ]
            ],
            "type": "contour"
           }
          ],
          "contourcarpet": [
           {
            "colorbar": {
             "outlinewidth": 0,
             "ticks": ""
            },
            "type": "contourcarpet"
           }
          ],
          "heatmap": [
           {
            "colorbar": {
             "outlinewidth": 0,
             "ticks": ""
            },
            "colorscale": [
             [
              0,
              "#0d0887"
             ],
             [
              0.1111111111111111,
              "#46039f"
             ],
             [
              0.2222222222222222,
              "#7201a8"
             ],
             [
              0.3333333333333333,
              "#9c179e"
             ],
             [
              0.4444444444444444,
              "#bd3786"
             ],
             [
              0.5555555555555556,
              "#d8576b"
             ],
             [
              0.6666666666666666,
              "#ed7953"
             ],
             [
              0.7777777777777778,
              "#fb9f3a"
             ],
             [
              0.8888888888888888,
              "#fdca26"
             ],
             [
              1,
              "#f0f921"
             ]
            ],
            "type": "heatmap"
           }
          ],
          "heatmapgl": [
           {
            "colorbar": {
             "outlinewidth": 0,
             "ticks": ""
            },
            "colorscale": [
             [
              0,
              "#0d0887"
             ],
             [
              0.1111111111111111,
              "#46039f"
             ],
             [
              0.2222222222222222,
              "#7201a8"
             ],
             [
              0.3333333333333333,
              "#9c179e"
             ],
             [
              0.4444444444444444,
              "#bd3786"
             ],
             [
              0.5555555555555556,
              "#d8576b"
             ],
             [
              0.6666666666666666,
              "#ed7953"
             ],
             [
              0.7777777777777778,
              "#fb9f3a"
             ],
             [
              0.8888888888888888,
              "#fdca26"
             ],
             [
              1,
              "#f0f921"
             ]
            ],
            "type": "heatmapgl"
           }
          ],
          "histogram": [
           {
            "marker": {
             "pattern": {
              "fillmode": "overlay",
              "size": 10,
              "solidity": 0.2
             }
            },
            "type": "histogram"
           }
          ],
          "histogram2d": [
           {
            "colorbar": {
             "outlinewidth": 0,
             "ticks": ""
            },
            "colorscale": [
             [
              0,
              "#0d0887"
             ],
             [
              0.1111111111111111,
              "#46039f"
             ],
             [
              0.2222222222222222,
              "#7201a8"
             ],
             [
              0.3333333333333333,
              "#9c179e"
             ],
             [
              0.4444444444444444,
              "#bd3786"
             ],
             [
              0.5555555555555556,
              "#d8576b"
             ],
             [
              0.6666666666666666,
              "#ed7953"
             ],
             [
              0.7777777777777778,
              "#fb9f3a"
             ],
             [
              0.8888888888888888,
              "#fdca26"
             ],
             [
              1,
              "#f0f921"
             ]
            ],
            "type": "histogram2d"
           }
          ],
          "histogram2dcontour": [
           {
            "colorbar": {
             "outlinewidth": 0,
             "ticks": ""
            },
            "colorscale": [
             [
              0,
              "#0d0887"
             ],
             [
              0.1111111111111111,
              "#46039f"
             ],
             [
              0.2222222222222222,
              "#7201a8"
             ],
             [
              0.3333333333333333,
              "#9c179e"
             ],
             [
              0.4444444444444444,
              "#bd3786"
             ],
             [
              0.5555555555555556,
              "#d8576b"
             ],
             [
              0.6666666666666666,
              "#ed7953"
             ],
             [
              0.7777777777777778,
              "#fb9f3a"
             ],
             [
              0.8888888888888888,
              "#fdca26"
             ],
             [
              1,
              "#f0f921"
             ]
            ],
            "type": "histogram2dcontour"
           }
          ],
          "mesh3d": [
           {
            "colorbar": {
             "outlinewidth": 0,
             "ticks": ""
            },
            "type": "mesh3d"
           }
          ],
          "parcoords": [
           {
            "line": {
             "colorbar": {
              "outlinewidth": 0,
              "ticks": ""
             }
            },
            "type": "parcoords"
           }
          ],
          "pie": [
           {
            "automargin": true,
            "type": "pie"
           }
          ],
          "scatter": [
           {
            "fillpattern": {
             "fillmode": "overlay",
             "size": 10,
             "solidity": 0.2
            },
            "type": "scatter"
           }
          ],
          "scatter3d": [
           {
            "line": {
             "colorbar": {
              "outlinewidth": 0,
              "ticks": ""
             }
            },
            "marker": {
             "colorbar": {
              "outlinewidth": 0,
              "ticks": ""
             }
            },
            "type": "scatter3d"
           }
          ],
          "scattercarpet": [
           {
            "marker": {
             "colorbar": {
              "outlinewidth": 0,
              "ticks": ""
             }
            },
            "type": "scattercarpet"
           }
          ],
          "scattergeo": [
           {
            "marker": {
             "colorbar": {
              "outlinewidth": 0,
              "ticks": ""
             }
            },
            "type": "scattergeo"
           }
          ],
          "scattergl": [
           {
            "marker": {
             "colorbar": {
              "outlinewidth": 0,
              "ticks": ""
             }
            },
            "type": "scattergl"
           }
          ],
          "scattermapbox": [
           {
            "marker": {
             "colorbar": {
              "outlinewidth": 0,
              "ticks": ""
             }
            },
            "type": "scattermapbox"
           }
          ],
          "scatterpolar": [
           {
            "marker": {
             "colorbar": {
              "outlinewidth": 0,
              "ticks": ""
             }
            },
            "type": "scatterpolar"
           }
          ],
          "scatterpolargl": [
           {
            "marker": {
             "colorbar": {
              "outlinewidth": 0,
              "ticks": ""
             }
            },
            "type": "scatterpolargl"
           }
          ],
          "scatterternary": [
           {
            "marker": {
             "colorbar": {
              "outlinewidth": 0,
              "ticks": ""
             }
            },
            "type": "scatterternary"
           }
          ],
          "surface": [
           {
            "colorbar": {
             "outlinewidth": 0,
             "ticks": ""
            },
            "colorscale": [
             [
              0,
              "#0d0887"
             ],
             [
              0.1111111111111111,
              "#46039f"
             ],
             [
              0.2222222222222222,
              "#7201a8"
             ],
             [
              0.3333333333333333,
              "#9c179e"
             ],
             [
              0.4444444444444444,
              "#bd3786"
             ],
             [
              0.5555555555555556,
              "#d8576b"
             ],
             [
              0.6666666666666666,
              "#ed7953"
             ],
             [
              0.7777777777777778,
              "#fb9f3a"
             ],
             [
              0.8888888888888888,
              "#fdca26"
             ],
             [
              1,
              "#f0f921"
             ]
            ],
            "type": "surface"
           }
          ],
          "table": [
           {
            "cells": {
             "fill": {
              "color": "#EBF0F8"
             },
             "line": {
              "color": "white"
             }
            },
            "header": {
             "fill": {
              "color": "#C8D4E3"
             },
             "line": {
              "color": "white"
             }
            },
            "type": "table"
           }
          ]
         },
         "layout": {
          "annotationdefaults": {
           "arrowcolor": "#2a3f5f",
           "arrowhead": 0,
           "arrowwidth": 1
          },
          "autotypenumbers": "strict",
          "coloraxis": {
           "colorbar": {
            "outlinewidth": 0,
            "ticks": ""
           }
          },
          "colorscale": {
           "diverging": [
            [
             0,
             "#8e0152"
            ],
            [
             0.1,
             "#c51b7d"
            ],
            [
             0.2,
             "#de77ae"
            ],
            [
             0.3,
             "#f1b6da"
            ],
            [
             0.4,
             "#fde0ef"
            ],
            [
             0.5,
             "#f7f7f7"
            ],
            [
             0.6,
             "#e6f5d0"
            ],
            [
             0.7,
             "#b8e186"
            ],
            [
             0.8,
             "#7fbc41"
            ],
            [
             0.9,
             "#4d9221"
            ],
            [
             1,
             "#276419"
            ]
           ],
           "sequential": [
            [
             0,
             "#0d0887"
            ],
            [
             0.1111111111111111,
             "#46039f"
            ],
            [
             0.2222222222222222,
             "#7201a8"
            ],
            [
             0.3333333333333333,
             "#9c179e"
            ],
            [
             0.4444444444444444,
             "#bd3786"
            ],
            [
             0.5555555555555556,
             "#d8576b"
            ],
            [
             0.6666666666666666,
             "#ed7953"
            ],
            [
             0.7777777777777778,
             "#fb9f3a"
            ],
            [
             0.8888888888888888,
             "#fdca26"
            ],
            [
             1,
             "#f0f921"
            ]
           ],
           "sequentialminus": [
            [
             0,
             "#0d0887"
            ],
            [
             0.1111111111111111,
             "#46039f"
            ],
            [
             0.2222222222222222,
             "#7201a8"
            ],
            [
             0.3333333333333333,
             "#9c179e"
            ],
            [
             0.4444444444444444,
             "#bd3786"
            ],
            [
             0.5555555555555556,
             "#d8576b"
            ],
            [
             0.6666666666666666,
             "#ed7953"
            ],
            [
             0.7777777777777778,
             "#fb9f3a"
            ],
            [
             0.8888888888888888,
             "#fdca26"
            ],
            [
             1,
             "#f0f921"
            ]
           ]
          },
          "colorway": [
           "#636efa",
           "#EF553B",
           "#00cc96",
           "#ab63fa",
           "#FFA15A",
           "#19d3f3",
           "#FF6692",
           "#B6E880",
           "#FF97FF",
           "#FECB52"
          ],
          "font": {
           "color": "#2a3f5f"
          },
          "geo": {
           "bgcolor": "white",
           "lakecolor": "white",
           "landcolor": "#E5ECF6",
           "showlakes": true,
           "showland": true,
           "subunitcolor": "white"
          },
          "hoverlabel": {
           "align": "left"
          },
          "hovermode": "closest",
          "mapbox": {
           "style": "light"
          },
          "paper_bgcolor": "white",
          "plot_bgcolor": "#E5ECF6",
          "polar": {
           "angularaxis": {
            "gridcolor": "white",
            "linecolor": "white",
            "ticks": ""
           },
           "bgcolor": "#E5ECF6",
           "radialaxis": {
            "gridcolor": "white",
            "linecolor": "white",
            "ticks": ""
           }
          },
          "scene": {
           "xaxis": {
            "backgroundcolor": "#E5ECF6",
            "gridcolor": "white",
            "gridwidth": 2,
            "linecolor": "white",
            "showbackground": true,
            "ticks": "",
            "zerolinecolor": "white"
           },
           "yaxis": {
            "backgroundcolor": "#E5ECF6",
            "gridcolor": "white",
            "gridwidth": 2,
            "linecolor": "white",
            "showbackground": true,
            "ticks": "",
            "zerolinecolor": "white"
           },
           "zaxis": {
            "backgroundcolor": "#E5ECF6",
            "gridcolor": "white",
            "gridwidth": 2,
            "linecolor": "white",
            "showbackground": true,
            "ticks": "",
            "zerolinecolor": "white"
           }
          },
          "shapedefaults": {
           "line": {
            "color": "#2a3f5f"
           }
          },
          "ternary": {
           "aaxis": {
            "gridcolor": "white",
            "linecolor": "white",
            "ticks": ""
           },
           "baxis": {
            "gridcolor": "white",
            "linecolor": "white",
            "ticks": ""
           },
           "bgcolor": "#E5ECF6",
           "caxis": {
            "gridcolor": "white",
            "linecolor": "white",
            "ticks": ""
           }
          },
          "title": {
           "x": 0.05
          },
          "xaxis": {
           "automargin": true,
           "gridcolor": "white",
           "linecolor": "white",
           "ticks": "",
           "title": {
            "standoff": 15
           },
           "zerolinecolor": "white",
           "zerolinewidth": 2
          },
          "yaxis": {
           "automargin": true,
           "gridcolor": "white",
           "linecolor": "white",
           "ticks": "",
           "title": {
            "standoff": 15
           },
           "zerolinecolor": "white",
           "zerolinewidth": 2
          }
         }
        },
        "title": {
         "text": "BTC 1h | len squeeze: 50"
        },
        "width": 1200,
        "xaxis": {
         "rangeslider": {
          "visible": false
         },
         "tickmode": "array",
         "ticktext": [
          "2023-05-30 17:00:00",
          "2023-05-31 23:00:00",
          "2023-06-02 05:00:00",
          "2023-06-03 11:00:00",
          "2023-06-04 17:00:00",
          "2023-06-05 23:00:00",
          "2023-06-07 05:00:00"
         ],
         "tickvals": [
          "2023-05-31 08:00:00",
          "2023-06-01 14:00:00",
          "2023-06-02 20:00:00",
          "2023-06-04 02:00:00",
          "2023-06-05 08:00:00",
          "2023-06-06 14:00:00",
          "2023-06-07 20:00:00"
         ],
         "type": "category"
        }
       }
      }
     },
     "metadata": {},
     "output_type": "display_data"
    },
    {
     "data": {
      "application/vnd.plotly.v1+json": {
       "config": {
        "plotlyServerURL": "https://plotly.com"
       },
       "data": [
        {
         "name": "squeeze",
         "type": "bar",
         "x": [
          "2023-05-30 17:00:00",
          "2023-05-30 18:00:00",
          "2023-05-30 19:00:00",
          "2023-05-30 20:00:00",
          "2023-05-30 21:00:00",
          "2023-05-30 22:00:00",
          "2023-05-30 23:00:00",
          "2023-05-31 00:00:00",
          "2023-05-31 01:00:00",
          "2023-05-31 02:00:00",
          "2023-05-31 03:00:00",
          "2023-05-31 04:00:00",
          "2023-05-31 05:00:00",
          "2023-05-31 06:00:00",
          "2023-05-31 07:00:00",
          "2023-05-31 08:00:00",
          "2023-05-31 09:00:00",
          "2023-05-31 10:00:00",
          "2023-05-31 11:00:00",
          "2023-05-31 12:00:00",
          "2023-05-31 13:00:00",
          "2023-05-31 14:00:00",
          "2023-05-31 15:00:00",
          "2023-05-31 16:00:00",
          "2023-05-31 17:00:00",
          "2023-05-31 18:00:00",
          "2023-05-31 19:00:00",
          "2023-05-31 20:00:00",
          "2023-05-31 21:00:00",
          "2023-05-31 22:00:00",
          "2023-05-31 23:00:00",
          "2023-06-01 00:00:00",
          "2023-06-01 01:00:00",
          "2023-06-01 02:00:00",
          "2023-06-01 03:00:00",
          "2023-06-01 04:00:00",
          "2023-06-01 05:00:00",
          "2023-06-01 06:00:00",
          "2023-06-01 07:00:00",
          "2023-06-01 08:00:00",
          "2023-06-01 09:00:00",
          "2023-06-01 10:00:00",
          "2023-06-01 11:00:00",
          "2023-06-01 12:00:00",
          "2023-06-01 13:00:00",
          "2023-06-01 14:00:00",
          "2023-06-01 15:00:00",
          "2023-06-01 16:00:00",
          "2023-06-01 17:00:00",
          "2023-06-01 18:00:00",
          "2023-06-01 19:00:00",
          "2023-06-01 20:00:00",
          "2023-06-01 21:00:00",
          "2023-06-01 22:00:00",
          "2023-06-01 23:00:00",
          "2023-06-02 00:00:00",
          "2023-06-02 01:00:00",
          "2023-06-02 02:00:00",
          "2023-06-02 03:00:00",
          "2023-06-02 04:00:00",
          "2023-06-02 05:00:00",
          "2023-06-02 06:00:00",
          "2023-06-02 07:00:00",
          "2023-06-02 08:00:00",
          "2023-06-02 09:00:00",
          "2023-06-02 10:00:00",
          "2023-06-02 11:00:00",
          "2023-06-02 12:00:00",
          "2023-06-02 13:00:00",
          "2023-06-02 14:00:00",
          "2023-06-02 15:00:00",
          "2023-06-02 16:00:00",
          "2023-06-02 17:00:00",
          "2023-06-02 18:00:00",
          "2023-06-02 19:00:00",
          "2023-06-02 20:00:00",
          "2023-06-02 21:00:00",
          "2023-06-02 22:00:00",
          "2023-06-02 23:00:00",
          "2023-06-03 00:00:00",
          "2023-06-03 01:00:00",
          "2023-06-03 02:00:00",
          "2023-06-03 03:00:00",
          "2023-06-03 04:00:00",
          "2023-06-03 05:00:00",
          "2023-06-03 06:00:00",
          "2023-06-03 07:00:00",
          "2023-06-03 08:00:00",
          "2023-06-03 09:00:00",
          "2023-06-03 10:00:00",
          "2023-06-03 11:00:00",
          "2023-06-03 12:00:00",
          "2023-06-03 13:00:00",
          "2023-06-03 14:00:00",
          "2023-06-03 15:00:00",
          "2023-06-03 16:00:00",
          "2023-06-03 17:00:00",
          "2023-06-03 18:00:00",
          "2023-06-03 19:00:00",
          "2023-06-03 20:00:00",
          "2023-06-03 21:00:00",
          "2023-06-03 22:00:00",
          "2023-06-03 23:00:00",
          "2023-06-04 00:00:00",
          "2023-06-04 01:00:00",
          "2023-06-04 02:00:00",
          "2023-06-04 03:00:00",
          "2023-06-04 04:00:00",
          "2023-06-04 05:00:00",
          "2023-06-04 06:00:00",
          "2023-06-04 07:00:00",
          "2023-06-04 08:00:00",
          "2023-06-04 09:00:00",
          "2023-06-04 10:00:00",
          "2023-06-04 11:00:00",
          "2023-06-04 12:00:00",
          "2023-06-04 13:00:00",
          "2023-06-04 14:00:00",
          "2023-06-04 15:00:00",
          "2023-06-04 16:00:00",
          "2023-06-04 17:00:00",
          "2023-06-04 18:00:00",
          "2023-06-04 19:00:00",
          "2023-06-04 20:00:00",
          "2023-06-04 21:00:00",
          "2023-06-04 22:00:00",
          "2023-06-04 23:00:00",
          "2023-06-05 00:00:00",
          "2023-06-05 01:00:00",
          "2023-06-05 02:00:00",
          "2023-06-05 03:00:00",
          "2023-06-05 04:00:00",
          "2023-06-05 05:00:00",
          "2023-06-05 06:00:00",
          "2023-06-05 07:00:00",
          "2023-06-05 08:00:00",
          "2023-06-05 09:00:00",
          "2023-06-05 10:00:00",
          "2023-06-05 11:00:00",
          "2023-06-05 12:00:00",
          "2023-06-05 13:00:00",
          "2023-06-05 14:00:00",
          "2023-06-05 15:00:00",
          "2023-06-05 16:00:00",
          "2023-06-05 17:00:00",
          "2023-06-05 18:00:00",
          "2023-06-05 19:00:00",
          "2023-06-05 20:00:00",
          "2023-06-05 21:00:00",
          "2023-06-05 22:00:00",
          "2023-06-05 23:00:00",
          "2023-06-06 00:00:00",
          "2023-06-06 01:00:00",
          "2023-06-06 02:00:00",
          "2023-06-06 03:00:00",
          "2023-06-06 04:00:00",
          "2023-06-06 05:00:00",
          "2023-06-06 06:00:00",
          "2023-06-06 07:00:00",
          "2023-06-06 08:00:00",
          "2023-06-06 09:00:00",
          "2023-06-06 10:00:00",
          "2023-06-06 11:00:00",
          "2023-06-06 12:00:00",
          "2023-06-06 13:00:00",
          "2023-06-06 14:00:00",
          "2023-06-06 15:00:00",
          "2023-06-06 16:00:00",
          "2023-06-06 17:00:00",
          "2023-06-06 18:00:00",
          "2023-06-06 19:00:00",
          "2023-06-06 20:00:00",
          "2023-06-06 21:00:00",
          "2023-06-06 22:00:00",
          "2023-06-06 23:00:00",
          "2023-06-07 00:00:00",
          "2023-06-07 01:00:00",
          "2023-06-07 02:00:00",
          "2023-06-07 03:00:00",
          "2023-06-07 04:00:00",
          "2023-06-07 05:00:00",
          "2023-06-07 06:00:00",
          "2023-06-07 07:00:00",
          "2023-06-07 08:00:00",
          "2023-06-07 09:00:00",
          "2023-06-07 10:00:00",
          "2023-06-07 11:00:00",
          "2023-06-07 12:00:00",
          "2023-06-07 13:00:00",
          "2023-06-07 14:00:00",
          "2023-06-07 15:00:00",
          "2023-06-07 16:00:00",
          "2023-06-07 17:00:00",
          "2023-06-07 18:00:00",
          "2023-06-07 19:00:00",
          "2023-06-07 20:00:00",
          "2023-06-07 21:00:00",
          "2023-06-07 22:00:00",
          "2023-06-07 23:00:00",
          "2023-06-08 00:00:00",
          "2023-06-08 01:00:00",
          "2023-06-08 02:00:00",
          "2023-06-08 03:00:00",
          "2023-06-08 04:00:00",
          "2023-06-08 05:00:00",
          "2023-06-08 06:00:00",
          "2023-06-08 07:00:00",
          "2023-06-08 08:00:00",
          "2023-06-08 09:00:00",
          "2023-06-08 10:00:00",
          "2023-06-08 11:00:00",
          "2023-06-08 12:00:00",
          "2023-06-08 13:00:00",
          "2023-06-08 14:00:00",
          "2023-06-08 15:00:00"
         ],
         "y": [
          -177.24499294117606,
          -206.19386823529385,
          -231.3925129411765,
          -249.73374117647052,
          -253.669837647059,
          -257.9465929411765,
          -257.68703058823587,
          -256.56417882353,
          -280.3502188235301,
          -314.74228705882433,
          -339.9158094117654,
          -360.1075929411772,
          -379.3965294117655,
          -399.86531058823584,
          -423.9444400000007,
          -440.6373882352947,
          -460.02052941176515,
          -471.0257694117653,
          -484.8129505882359,
          -504.5839670588244,
          -524.0948494117654,
          -539.065430588236,
          -555.5934517647063,
          -568.4560752941179,
          -574.5889811764707,
          -581.5096823529415,
          -578.2250070588241,
          -572.9778988235298,
          -577.2517058823532,
          -577.4024611764708,
          -601.2623529411765,
          -615.4887929411761,
          -627.6997505882347,
          -632.5829999999994,
          -642.8106305882345,
          -650.5969105882341,
          -646.3724564705872,
          -642.9527294117637,
          -639.9398988235283,
          -629.7787952941167,
          -612.3052494117638,
          -591.6002188235286,
          -571.8202211764698,
          -552.7141435294108,
          -524.5296847058814,
          -504.6935388235284,
          -482.0653717647043,
          -467.8645623529395,
          -449.81076941176286,
          -425.9819529411745,
          -406.4983152941153,
          -393.14828941176245,
          -378.49273176470376,
          -362.4560235294094,
          -331.29155058823267,
          -294.8252164705864,
          -252.17687764705715,
          -202.97431999999844,
          -165.89548941176315,
          -135.70185882352786,
          -94.42238588235159,
          -60.87241176470468,
          -28.370832941174854,
          5.528355294119137,
          32.54418352941286,
          45.31680470588401,
          60.68710588235433,
          87.1922447058837,
          107.5181670588247,
          121.93682588235413,
          146.30029176470737,
          177.34278823529542,
          200.9808141176486,
          224.79813647058938,
          255.46038823529534,
          282.16076235294224,
          305.1984070588244,
          325.55954352941274,
          341.7004847058829,
          356.607383529412,
          358.8691811764709,
          361.5132658823529,
          365.4811670588236,
          369.03438117647056,
          366.24491058823537,
          362.66457882353,
          361.13093176470665,
          357.5284000000003,
          353.34246823529406,
          349.17096000000004,
          345.99635294117655,
          349.5816847058825,
          348.5662094117647,
          340.38867529411743,
          338.3593788235291,
          326.3493482352938,
          311.39418588235293,
          287.26577647058815,
          267.7675341176467,
          248.60302823529358,
          223.69437882352906,
          198.5815599999998,
          172.26082588235238,
          142.16054117647008,
          116.15489647058774,
          91.46761647058773,
          77.18438352941112,
          68.32464470588175,
          60.21883529411696,
          56.502188235293374,
          57.73153411764625,
          53.67421882352858,
          51.28714823529313,
          53.13614117646938,
          52.75059294117517,
          40.18176470588142,
          27.910703529410767,
          21.3181270588222,
          14.549623529410695,
          9.289644705881102,
          11.634649411763206,
          12.442496470586718,
          11.431141176469197,
          2.733569411763426,
          -10.096861176471663,
          -20.727804705883415,
          -41.53740470588315,
          -67.71654117647103,
          -91.50928470588283,
          -115.14108470588292,
          -141.04630823529473,
          -160.55233882353022,
          -180.12109411764783,
          -199.86136000000056,
          -223.80209411764753,
          -240.9562000000003,
          -263.2201694117648,
          -281.3294800000002,
          -291.1595552941178,
          -348.70357176470554,
          -407.13868941176406,
          -460.824738823529,
          -527.5311529411758,
          -586.9153294117641,
          -642.5459152941172,
          -694.3601717647051,
          -739.9196235294107,
          -783.170159999999,
          -823.5518494117634,
          -864.7461011764693,
          -895.3428776470575,
          -924.3286870588222,
          -945.3842564705869,
          -967.7668470588225,
          -988.2759482352931,
          -1010.378319999999,
          -1027.2019552941165,
          -1036.766324705881,
          -1043.8410494117632,
          -1049.8403270588224,
          -1063.2866658823518,
          -1058.5592399999985,
          -1028.4166682352927,
          -991.5091764705874,
          -929.8708188235279,
          -846.7250588235281,
          -762.3630094117638,
          -648.3284729411757,
          -545.8450894117638,
          -434.78896470588137,
          -316.37541411764664,
          -195.78355529411692,
          -78.31836470588189,
          24.430230588235645,
          110.398449411765,
          193.29139529411782,
          272.14565411764795,
          344.6565858823535,
          408.7882094117649,
          468.3808000000006,
          525.6060305882359,
          558.517835294118,
          597.5245835294124,
          657.4495858823534,
          706.0841764705885,
          756.6283717647066,
          773.452694117648,
          783.602103529413,
          795.0472423529418,
          794.1339835294127,
          785.5437811764716,
          773.4097576470593,
          741.3696517647064,
          693.8941882352947,
          654.1067435294123,
          618.5086823529412,
          586.5944564705882,
          557.4224258823533,
          520.0550023529413,
          475.15865882352944,
          437.70150588235293,
          395.23019999999997,
          357.34536235294127,
          318.0237576470588,
          276.79645176470564,
          227.39699294117617,
          183.46869882352922,
          135.28726588235293,
          87.86221882352916,
          31.201204705882333,
          -14.7124352941172,
          -55.7161999999995,
          -108.28581647058786,
          -163.3074799999995,
          -202.5013811764701
         ]
        }
       ],
       "layout": {
        "autosize": false,
        "height": 300,
        "margin": {
         "b": 1,
         "l": 50,
         "pad": 4,
         "r": 50,
         "t": 10
        },
        "paper_bgcolor": "LightSteelBlue",
        "template": {
         "data": {
          "bar": [
           {
            "error_x": {
             "color": "#2a3f5f"
            },
            "error_y": {
             "color": "#2a3f5f"
            },
            "marker": {
             "line": {
              "color": "#E5ECF6",
              "width": 0.5
             },
             "pattern": {
              "fillmode": "overlay",
              "size": 10,
              "solidity": 0.2
             }
            },
            "type": "bar"
           }
          ],
          "barpolar": [
           {
            "marker": {
             "line": {
              "color": "#E5ECF6",
              "width": 0.5
             },
             "pattern": {
              "fillmode": "overlay",
              "size": 10,
              "solidity": 0.2
             }
            },
            "type": "barpolar"
           }
          ],
          "carpet": [
           {
            "aaxis": {
             "endlinecolor": "#2a3f5f",
             "gridcolor": "white",
             "linecolor": "white",
             "minorgridcolor": "white",
             "startlinecolor": "#2a3f5f"
            },
            "baxis": {
             "endlinecolor": "#2a3f5f",
             "gridcolor": "white",
             "linecolor": "white",
             "minorgridcolor": "white",
             "startlinecolor": "#2a3f5f"
            },
            "type": "carpet"
           }
          ],
          "choropleth": [
           {
            "colorbar": {
             "outlinewidth": 0,
             "ticks": ""
            },
            "type": "choropleth"
           }
          ],
          "contour": [
           {
            "colorbar": {
             "outlinewidth": 0,
             "ticks": ""
            },
            "colorscale": [
             [
              0,
              "#0d0887"
             ],
             [
              0.1111111111111111,
              "#46039f"
             ],
             [
              0.2222222222222222,
              "#7201a8"
             ],
             [
              0.3333333333333333,
              "#9c179e"
             ],
             [
              0.4444444444444444,
              "#bd3786"
             ],
             [
              0.5555555555555556,
              "#d8576b"
             ],
             [
              0.6666666666666666,
              "#ed7953"
             ],
             [
              0.7777777777777778,
              "#fb9f3a"
             ],
             [
              0.8888888888888888,
              "#fdca26"
             ],
             [
              1,
              "#f0f921"
             ]
            ],
            "type": "contour"
           }
          ],
          "contourcarpet": [
           {
            "colorbar": {
             "outlinewidth": 0,
             "ticks": ""
            },
            "type": "contourcarpet"
           }
          ],
          "heatmap": [
           {
            "colorbar": {
             "outlinewidth": 0,
             "ticks": ""
            },
            "colorscale": [
             [
              0,
              "#0d0887"
             ],
             [
              0.1111111111111111,
              "#46039f"
             ],
             [
              0.2222222222222222,
              "#7201a8"
             ],
             [
              0.3333333333333333,
              "#9c179e"
             ],
             [
              0.4444444444444444,
              "#bd3786"
             ],
             [
              0.5555555555555556,
              "#d8576b"
             ],
             [
              0.6666666666666666,
              "#ed7953"
             ],
             [
              0.7777777777777778,
              "#fb9f3a"
             ],
             [
              0.8888888888888888,
              "#fdca26"
             ],
             [
              1,
              "#f0f921"
             ]
            ],
            "type": "heatmap"
           }
          ],
          "heatmapgl": [
           {
            "colorbar": {
             "outlinewidth": 0,
             "ticks": ""
            },
            "colorscale": [
             [
              0,
              "#0d0887"
             ],
             [
              0.1111111111111111,
              "#46039f"
             ],
             [
              0.2222222222222222,
              "#7201a8"
             ],
             [
              0.3333333333333333,
              "#9c179e"
             ],
             [
              0.4444444444444444,
              "#bd3786"
             ],
             [
              0.5555555555555556,
              "#d8576b"
             ],
             [
              0.6666666666666666,
              "#ed7953"
             ],
             [
              0.7777777777777778,
              "#fb9f3a"
             ],
             [
              0.8888888888888888,
              "#fdca26"
             ],
             [
              1,
              "#f0f921"
             ]
            ],
            "type": "heatmapgl"
           }
          ],
          "histogram": [
           {
            "marker": {
             "pattern": {
              "fillmode": "overlay",
              "size": 10,
              "solidity": 0.2
             }
            },
            "type": "histogram"
           }
          ],
          "histogram2d": [
           {
            "colorbar": {
             "outlinewidth": 0,
             "ticks": ""
            },
            "colorscale": [
             [
              0,
              "#0d0887"
             ],
             [
              0.1111111111111111,
              "#46039f"
             ],
             [
              0.2222222222222222,
              "#7201a8"
             ],
             [
              0.3333333333333333,
              "#9c179e"
             ],
             [
              0.4444444444444444,
              "#bd3786"
             ],
             [
              0.5555555555555556,
              "#d8576b"
             ],
             [
              0.6666666666666666,
              "#ed7953"
             ],
             [
              0.7777777777777778,
              "#fb9f3a"
             ],
             [
              0.8888888888888888,
              "#fdca26"
             ],
             [
              1,
              "#f0f921"
             ]
            ],
            "type": "histogram2d"
           }
          ],
          "histogram2dcontour": [
           {
            "colorbar": {
             "outlinewidth": 0,
             "ticks": ""
            },
            "colorscale": [
             [
              0,
              "#0d0887"
             ],
             [
              0.1111111111111111,
              "#46039f"
             ],
             [
              0.2222222222222222,
              "#7201a8"
             ],
             [
              0.3333333333333333,
              "#9c179e"
             ],
             [
              0.4444444444444444,
              "#bd3786"
             ],
             [
              0.5555555555555556,
              "#d8576b"
             ],
             [
              0.6666666666666666,
              "#ed7953"
             ],
             [
              0.7777777777777778,
              "#fb9f3a"
             ],
             [
              0.8888888888888888,
              "#fdca26"
             ],
             [
              1,
              "#f0f921"
             ]
            ],
            "type": "histogram2dcontour"
           }
          ],
          "mesh3d": [
           {
            "colorbar": {
             "outlinewidth": 0,
             "ticks": ""
            },
            "type": "mesh3d"
           }
          ],
          "parcoords": [
           {
            "line": {
             "colorbar": {
              "outlinewidth": 0,
              "ticks": ""
             }
            },
            "type": "parcoords"
           }
          ],
          "pie": [
           {
            "automargin": true,
            "type": "pie"
           }
          ],
          "scatter": [
           {
            "fillpattern": {
             "fillmode": "overlay",
             "size": 10,
             "solidity": 0.2
            },
            "type": "scatter"
           }
          ],
          "scatter3d": [
           {
            "line": {
             "colorbar": {
              "outlinewidth": 0,
              "ticks": ""
             }
            },
            "marker": {
             "colorbar": {
              "outlinewidth": 0,
              "ticks": ""
             }
            },
            "type": "scatter3d"
           }
          ],
          "scattercarpet": [
           {
            "marker": {
             "colorbar": {
              "outlinewidth": 0,
              "ticks": ""
             }
            },
            "type": "scattercarpet"
           }
          ],
          "scattergeo": [
           {
            "marker": {
             "colorbar": {
              "outlinewidth": 0,
              "ticks": ""
             }
            },
            "type": "scattergeo"
           }
          ],
          "scattergl": [
           {
            "marker": {
             "colorbar": {
              "outlinewidth": 0,
              "ticks": ""
             }
            },
            "type": "scattergl"
           }
          ],
          "scattermapbox": [
           {
            "marker": {
             "colorbar": {
              "outlinewidth": 0,
              "ticks": ""
             }
            },
            "type": "scattermapbox"
           }
          ],
          "scatterpolar": [
           {
            "marker": {
             "colorbar": {
              "outlinewidth": 0,
              "ticks": ""
             }
            },
            "type": "scatterpolar"
           }
          ],
          "scatterpolargl": [
           {
            "marker": {
             "colorbar": {
              "outlinewidth": 0,
              "ticks": ""
             }
            },
            "type": "scatterpolargl"
           }
          ],
          "scatterternary": [
           {
            "marker": {
             "colorbar": {
              "outlinewidth": 0,
              "ticks": ""
             }
            },
            "type": "scatterternary"
           }
          ],
          "surface": [
           {
            "colorbar": {
             "outlinewidth": 0,
             "ticks": ""
            },
            "colorscale": [
             [
              0,
              "#0d0887"
             ],
             [
              0.1111111111111111,
              "#46039f"
             ],
             [
              0.2222222222222222,
              "#7201a8"
             ],
             [
              0.3333333333333333,
              "#9c179e"
             ],
             [
              0.4444444444444444,
              "#bd3786"
             ],
             [
              0.5555555555555556,
              "#d8576b"
             ],
             [
              0.6666666666666666,
              "#ed7953"
             ],
             [
              0.7777777777777778,
              "#fb9f3a"
             ],
             [
              0.8888888888888888,
              "#fdca26"
             ],
             [
              1,
              "#f0f921"
             ]
            ],
            "type": "surface"
           }
          ],
          "table": [
           {
            "cells": {
             "fill": {
              "color": "#EBF0F8"
             },
             "line": {
              "color": "white"
             }
            },
            "header": {
             "fill": {
              "color": "#C8D4E3"
             },
             "line": {
              "color": "white"
             }
            },
            "type": "table"
           }
          ]
         },
         "layout": {
          "annotationdefaults": {
           "arrowcolor": "#2a3f5f",
           "arrowhead": 0,
           "arrowwidth": 1
          },
          "autotypenumbers": "strict",
          "coloraxis": {
           "colorbar": {
            "outlinewidth": 0,
            "ticks": ""
           }
          },
          "colorscale": {
           "diverging": [
            [
             0,
             "#8e0152"
            ],
            [
             0.1,
             "#c51b7d"
            ],
            [
             0.2,
             "#de77ae"
            ],
            [
             0.3,
             "#f1b6da"
            ],
            [
             0.4,
             "#fde0ef"
            ],
            [
             0.5,
             "#f7f7f7"
            ],
            [
             0.6,
             "#e6f5d0"
            ],
            [
             0.7,
             "#b8e186"
            ],
            [
             0.8,
             "#7fbc41"
            ],
            [
             0.9,
             "#4d9221"
            ],
            [
             1,
             "#276419"
            ]
           ],
           "sequential": [
            [
             0,
             "#0d0887"
            ],
            [
             0.1111111111111111,
             "#46039f"
            ],
            [
             0.2222222222222222,
             "#7201a8"
            ],
            [
             0.3333333333333333,
             "#9c179e"
            ],
            [
             0.4444444444444444,
             "#bd3786"
            ],
            [
             0.5555555555555556,
             "#d8576b"
            ],
            [
             0.6666666666666666,
             "#ed7953"
            ],
            [
             0.7777777777777778,
             "#fb9f3a"
            ],
            [
             0.8888888888888888,
             "#fdca26"
            ],
            [
             1,
             "#f0f921"
            ]
           ],
           "sequentialminus": [
            [
             0,
             "#0d0887"
            ],
            [
             0.1111111111111111,
             "#46039f"
            ],
            [
             0.2222222222222222,
             "#7201a8"
            ],
            [
             0.3333333333333333,
             "#9c179e"
            ],
            [
             0.4444444444444444,
             "#bd3786"
            ],
            [
             0.5555555555555556,
             "#d8576b"
            ],
            [
             0.6666666666666666,
             "#ed7953"
            ],
            [
             0.7777777777777778,
             "#fb9f3a"
            ],
            [
             0.8888888888888888,
             "#fdca26"
            ],
            [
             1,
             "#f0f921"
            ]
           ]
          },
          "colorway": [
           "#636efa",
           "#EF553B",
           "#00cc96",
           "#ab63fa",
           "#FFA15A",
           "#19d3f3",
           "#FF6692",
           "#B6E880",
           "#FF97FF",
           "#FECB52"
          ],
          "font": {
           "color": "#2a3f5f"
          },
          "geo": {
           "bgcolor": "white",
           "lakecolor": "white",
           "landcolor": "#E5ECF6",
           "showlakes": true,
           "showland": true,
           "subunitcolor": "white"
          },
          "hoverlabel": {
           "align": "left"
          },
          "hovermode": "closest",
          "mapbox": {
           "style": "light"
          },
          "paper_bgcolor": "white",
          "plot_bgcolor": "#E5ECF6",
          "polar": {
           "angularaxis": {
            "gridcolor": "white",
            "linecolor": "white",
            "ticks": ""
           },
           "bgcolor": "#E5ECF6",
           "radialaxis": {
            "gridcolor": "white",
            "linecolor": "white",
            "ticks": ""
           }
          },
          "scene": {
           "xaxis": {
            "backgroundcolor": "#E5ECF6",
            "gridcolor": "white",
            "gridwidth": 2,
            "linecolor": "white",
            "showbackground": true,
            "ticks": "",
            "zerolinecolor": "white"
           },
           "yaxis": {
            "backgroundcolor": "#E5ECF6",
            "gridcolor": "white",
            "gridwidth": 2,
            "linecolor": "white",
            "showbackground": true,
            "ticks": "",
            "zerolinecolor": "white"
           },
           "zaxis": {
            "backgroundcolor": "#E5ECF6",
            "gridcolor": "white",
            "gridwidth": 2,
            "linecolor": "white",
            "showbackground": true,
            "ticks": "",
            "zerolinecolor": "white"
           }
          },
          "shapedefaults": {
           "line": {
            "color": "#2a3f5f"
           }
          },
          "ternary": {
           "aaxis": {
            "gridcolor": "white",
            "linecolor": "white",
            "ticks": ""
           },
           "baxis": {
            "gridcolor": "white",
            "linecolor": "white",
            "ticks": ""
           },
           "bgcolor": "#E5ECF6",
           "caxis": {
            "gridcolor": "white",
            "linecolor": "white",
            "ticks": ""
           }
          },
          "title": {
           "x": 0.05
          },
          "xaxis": {
           "automargin": true,
           "gridcolor": "white",
           "linecolor": "white",
           "ticks": "",
           "title": {
            "standoff": 15
           },
           "zerolinecolor": "white",
           "zerolinewidth": 2
          },
          "yaxis": {
           "automargin": true,
           "gridcolor": "white",
           "linecolor": "white",
           "ticks": "",
           "title": {
            "standoff": 15
           },
           "zerolinecolor": "white",
           "zerolinewidth": 2
          }
         }
        },
        "width": 1200
       }
      }
     },
     "metadata": {},
     "output_type": "display_data"
    }
   ],
   "source": [
    "period = 14\n",
    "asset = 'BTC'\n",
    "temp = '1h'\n",
    "\n",
    "period_window = data['time_window'][temp][period]\n",
    "df = data['data_SQ'][period][asset][temp]\n",
    "\n",
    "candlestick_squeeze_plot(df, asset, temp, period, period_window)\n",
    "\n",
    "\n",
    "period = 50\n",
    "asset = 'BTC'\n",
    "temp = '1h'\n",
    "\n",
    "period_window = data['time_window'][temp][period]\n",
    "df = data['data_SQ'][period][asset][temp]\n",
    "\n",
    "candlestick_squeeze_plot(df, asset, temp, period, period_window)"
   ]
  },
  {
   "cell_type": "code",
   "execution_count": 27,
   "metadata": {},
   "outputs": [
    {
     "data": {
      "text/plain": [
       "'2023-06-05 16:44:20'"
      ]
     },
     "execution_count": 27,
     "metadata": {},
     "output_type": "execute_result"
    }
   ],
   "source": []
  },
  {
   "attachments": {},
   "cell_type": "markdown",
   "metadata": {},
   "source": [
    "# 5) Exportar tablas, registros y visualizaciones"
   ]
  },
  {
   "cell_type": "code",
   "execution_count": null,
   "metadata": {},
   "outputs": [],
   "source": []
  }
 ],
 "metadata": {
  "kernelspec": {
   "display_name": "venv",
   "language": "python",
   "name": "python3"
  },
  "language_info": {
   "codemirror_mode": {
    "name": "ipython",
    "version": 3
   },
   "file_extension": ".py",
   "mimetype": "text/x-python",
   "name": "python",
   "nbconvert_exporter": "python",
   "pygments_lexer": "ipython3",
   "version": "3.11.2"
  },
  "orig_nbformat": 4
 },
 "nbformat": 4,
 "nbformat_minor": 2
}
